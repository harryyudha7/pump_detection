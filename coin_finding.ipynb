{
 "cells": [
  {
   "cell_type": "code",
   "execution_count": 20,
   "metadata": {},
   "outputs": [],
   "source": [
    "import pandas as pd\n",
    "import numpy as np\n",
    "import mysql.connector\n",
    "from mysql.connector import Error\n",
    "from datetime import datetime, timedelta\n",
    "import ccxt\n",
    "import ta\n",
    "from scipy import stats\n",
    "from sklearn import preprocessing"
   ]
  },
  {
   "cell_type": "code",
   "execution_count": 34,
   "metadata": {},
   "outputs": [],
   "source": [
    "def create_db_connection(host_name, user_name, user_password, db_name):\n",
    "    connection = None\n",
    "    try:\n",
    "        connection = mysql.connector.connect(\n",
    "            host=host_name,\n",
    "            user=user_name,\n",
    "            passwd=user_password,\n",
    "            database=db_name\n",
    "        )\n",
    "        print(\"MySQL Database connection successful\")\n",
    "    except Error as err:\n",
    "        print(f\"Error: '{err}'\")\n",
    "\n",
    "    return connection\n",
    "\n",
    "def execute_query(connection, query, varlist=None):\n",
    "    cursor = connection.cursor(buffered=True)\n",
    "    try:\n",
    "        if varlist is None:\n",
    "            cursor.execute(query)\n",
    "        else:\n",
    "            cursor.execute(query, varlist)\n",
    "        connection.commit()\n",
    "        print(\"Query successful\", end='\\r')\n",
    "        return cursor.fetchall()\n",
    "    except Error as err:\n",
    "        print(f\"Error: '{err}'\")\n",
    "\n",
    "def executemany_query(connection, query, varlist=None):\n",
    "    cursor = connection.cursor()\n",
    "    try:\n",
    "        if varlist is None:\n",
    "            cursor.executemany(query)\n",
    "        else:\n",
    "            cursor.executemany(query, varlist)\n",
    "        connection.commit()\n",
    "        print(\"Query successful\", end='\\r')\n",
    "    except Error as err:\n",
    "        print(f\"Error: '{err}'\")"
   ]
  },
  {
   "cell_type": "code",
   "execution_count": 35,
   "metadata": {},
   "outputs": [
    {
     "name": "stdout",
     "output_type": "stream",
     "text": [
      "MySQL Database connection successful\n"
     ]
    }
   ],
   "source": [
    "pw = '27111998'\n",
    "db = 'crypto_db'\n",
    "connection = create_db_connection(\"localhost\", \"root\", pw, db)"
   ]
  },
  {
   "cell_type": "code",
   "execution_count": 36,
   "metadata": {},
   "outputs": [
    {
     "name": "stdout",
     "output_type": "stream",
     "text": [
      "604\n",
      "['1INCH/BTC', '1INCH/USDT', 'AAVE/USDT', 'ACA/BTC', 'ACA/USDT', 'ACE/BTC', 'ACE/USDT', 'ACH/BTC', 'ACH/USDT', 'ACM/USDT', 'ADA/BTC', 'ADA/USDT', 'ADX/BTC', 'ADX/USDT', 'AERGO/BTC', 'AERGO/USDT', 'AGIX/BTC', 'AGIX/USDT', 'AGLD/BTC', 'AGLD/USDT', 'AI/BTC', 'AI/USDT', 'AKRO/USDT', 'ALCX/BTC', 'ALCX/USDT', 'ALGO/BTC', 'ALGO/USDT', 'ALICE/BTC', 'ALICE/USDT', 'ALPACA/BTC', 'ALPACA/USDT', 'ALPHA/BTC', 'ALPHA/USDT', 'ALPINE/BTC', 'ALPINE/USDT', 'ALT/BTC', 'ALT/USDT', 'AMP/USDT', 'ANKR/BTC', 'ANKR/USDT', 'APE/BTC', 'APE/USDT', 'API3/BTC', 'API3/USDT', 'APT/BTC', 'APT/USDT', 'ARB/BTC', 'ARB/USDT', 'ARKM/BTC', 'ARKM/USDT', 'ARPA/BTC', 'ARPA/USDT', 'AR/BTC', 'AR/USDT', 'ASR/USDT', 'ASTR/USDT', 'AST/BTC', 'ATA/BTC', 'ATA/USDT', 'ATM/USDT', 'ATOM/BTC', 'ATOM/USDT', 'AUCTION/BTC', 'AUCTION/USDT', 'AUDIO/BTC', 'AUDIO/USDT', 'AVAX/BTC', 'AVAX/USDT', 'AVA/BTC', 'AVA/USDT', 'AXS/BTC', 'AXS/USDT', 'BADGER/BTC', 'BADGER/USDT', 'BAL/BTC', 'BAL/USDT', 'BAND/BTC', 'BAND/USDT', 'BAR/USDT', 'BAT/BTC', 'BAT/USDT', 'BCH/BTC', 'BCH/USDT', 'BEAMX/USDT', 'BEL/BTC', 'BEL/USDT', 'BETA/BTC', 'BETA/USDT', 'BICO/BTC', 'BICO/USDT', 'BIFI/USDT', 'BLUR/BTC', 'BLUR/USDT', 'BLZ/BTC', 'BLZ/USDT', 'BNBDOWN/USDT', 'BNBUP/USDT', 'BNB/BTC', 'BNB/USDT', 'BNT/BTC', 'BNT/USDT', 'BNX/BTC', 'BNX/USDT', 'BOND/BTC', 'BOND/USDT', 'BONK/USDT', 'BSW/USDT', 'BTCDOWN/USDT', 'BTCUP/USDT', 'BTC/USDT', 'BTTC/USDT', 'C98/BTC', 'C98/USDT', 'CAKE/USDT', 'CELO/BTC', 'CELO/USDT', 'CELR/BTC', 'CELR/USDT', 'CFX/BTC', 'CFX/USDT', 'CHESS/BTC', 'CHESS/USDT', 'CHR/BTC', 'CHR/USDT', 'CHZ/BTC', 'CHZ/USDT', 'CITY/USDT', 'CKB/USDT', 'CLV/BTC', 'CLV/USDT', 'COMBO/USDT', 'COMP/BTC', 'COMP/USDT', 'COS/BTC', 'COS/USDT', 'COTI/BTC', 'COTI/USDT', 'CREAM/USDT', 'CREO/USDT', 'CRV/BTC', 'CRV/USDT', 'CTK/BTC', 'CTK/USDT', 'CTSI/BTC', 'CTSI/USDT', 'CTXC/BTC', 'CTXC/USDT', 'CVP/USDT', 'CVX/USDT', 'CYBER/BTC', 'CYBER/USDT', 'DAR/BTC', 'DAR/USDT', 'DASH/BTC', 'DASH/USDT', 'DATA/BTC', 'DATA/USDT', 'DCR/BTC', 'DCR/USDT', 'DEGO/BTC', 'DEGO/USDT', 'DENT/USDT', 'DEXE/USDT', 'DF/USDT', 'DGB/BTC', 'DGB/USDT', 'DIA/BTC', 'DIA/USDT', 'DODO/BTC', 'DODO/USDT', 'DOGE/BTC', 'DOGE/USDT', 'DOT/BTC', 'DOT/USDT', 'DUSK/BTC', 'DUSK/USDT', 'DYDX/BTC', 'DYDX/USDT', 'DYM/BTC', 'DYM/USDT', 'EDU/BTC', 'EDU/USDT', 'EGLD/BTC', 'EGLD/USDT', 'ELF/BTC', 'ELF/USDT', 'ENJ/BTC', 'ENJ/USDT', 'ENS/BTC', 'ENS/USDT', 'EOS/BTC', 'EOS/USDT', 'EPX/USDT', 'ERN/USDT', 'ETC/BTC', 'ETC/USDT', 'ETHDOWN/USDT', 'ETHUP/USDT', 'ETH/BTC', 'ETH/USDT', 'FARM/BTC', 'FARM/USDT', 'FDUSD/USDT', 'FET/BTC', 'FET/USDT', 'FIDA/BTC', 'FIDA/USDT', 'FIL/BTC', 'FIL/USDT', 'FIO/BTC', 'FIO/USDT', 'FIRO/BTC', 'FIRO/USDT', 'FIS/BTC', 'FIS/USDT', 'FLM/BTC', 'FLM/USDT', 'FLOKI/USDT', 'FLOW/BTC', 'FLOW/USDT', 'FLUX/BTC', 'FLUX/USDT', 'FORTH/BTC', 'FORTH/USDT', 'FOR/BTC', 'FOR/USDT', 'FRONT/BTC', 'FRONT/USDT', 'FTM/BTC', 'FTM/USDT', 'FXS/BTC', 'FXS/USDT', 'GALA/BTC', 'GALA/USDT', 'GAL/BTC', 'GAL/USDT', 'GAS/BTC', 'GAS/USDT', 'GFT/USDT', 'GHST/USDT', 'GLMR/BTC', 'GLMR/USDT', 'GLM/BTC', 'GLM/USDT', 'GMT/BTC', 'GMT/USDT', 'GMX/BTC', 'GMX/USDT', 'GRT/BTC', 'GRT/USDT', 'GTC/BTC', 'GTC/USDT', 'HARD/BTC', 'HARD/USDT', 'HBAR/BTC', 'HBAR/USDT', 'HFT/BTC', 'HFT/USDT', 'HIFI/USDT', 'HIGH/BTC', 'HIGH/USDT', 'HIVE/BTC', 'HIVE/USDT', 'HOOK/BTC', 'HOOK/USDT', 'HOT/USDT', 'ICP/BTC', 'ICP/USDT', 'ICX/BTC', 'ICX/USDT', 'IDEX/BTC', 'IDEX/USDT', 'ID/BTC', 'ID/USDT', 'ILV/BTC', 'ILV/USDT', 'IMX/BTC', 'IMX/USDT', 'INJ/BTC', 'INJ/USDT', 'IOST/BTC', 'IOST/USDT', 'IOTA/BTC', 'IOTA/USDT', 'IOTX/BTC', 'IOTX/USDT', 'IQ/USDT', 'IRIS/BTC', 'IRIS/USDT', 'JASMY/USDT', 'JOE/BTC', 'JOE/USDT', 'JST/BTC', 'JST/USDT', 'JTO/USDT', 'JUP/USDT', 'KAVA/BTC', 'KAVA/USDT', 'KDA/BTC', 'KDA/USDT', 'KEY/USDT', 'KLAY/BTC', 'KLAY/USDT', 'KMD/BTC', 'KMD/USDT', 'KNC/BTC', 'KNC/USDT', 'KP3R/USDT', 'KSM/BTC', 'KSM/USDT', 'LAZIO/BTC', 'LAZIO/USDT', 'LDO/BTC', 'LDO/USDT', 'LEVER/USDT', 'LINA/BTC', 'LINA/USDT', 'LINK/BTC', 'LINK/USDT', 'LIT/BTC', 'LIT/USDT', 'LOKA/BTC', 'LOKA/USDT', 'LPT/BTC', 'LPT/USDT', 'LRC/BTC', 'LRC/USDT', 'LSK/BTC', 'LSK/USDT', 'LTC/BTC', 'LTC/USDT', 'LTO/BTC', 'LTO/USDT', 'LUNA/USDT', 'LUNC/USDT', 'MAGIC/BTC', 'MAGIC/USDT', 'MANA/BTC', 'MANA/USDT', 'MANTA/BTC', 'MANTA/USDT', 'MASK/USDT', 'MATIC/BTC', 'MATIC/USDT', 'MAV/BTC', 'MAV/USDT', 'MBL/USDT', 'MBOX/BTC', 'MBOX/USDT', 'MDT/BTC', 'MDT/USDT', 'MDX/BTC', 'MDX/USDT', 'MEME/USDT', 'MINA/BTC', 'MINA/USDT', 'MKR/BTC', 'MKR/USDT', 'MLN/BTC', 'MLN/USDT', 'MOB/BTC', 'MOB/USDT', 'MOVR/BTC', 'MOVR/USDT', 'MTL/BTC', 'MTL/USDT', 'NBT/USDT', 'NEAR/BTC', 'NEAR/USDT', 'NEO/BTC', 'NEO/USDT', 'NEXO/BTC', 'NEXO/USDT', 'NKN/BTC', 'NKN/USDT', 'NMR/BTC', 'NMR/USDT', 'NTRN/BTC', 'NTRN/USDT', 'NULS/BTC', 'NULS/USDT', 'OCEAN/BTC', 'OCEAN/USDT', 'OGN/BTC', 'OGN/USDT', 'OG/BTC', 'OG/USDT', 'OMG/USDT', 'OM/USDT', 'ONE/BTC', 'ONE/USDT', 'ONG/BTC', 'ONG/USDT', 'ONT/BTC', 'ONT/USDT', 'OOKI/USDT', 'OP/BTC', 'OP/USDT', 'ORDI/BTC', 'ORDI/USDT', 'ORN/BTC', 'ORN/USDT', 'OXT/BTC', 'OXT/USDT', 'PAXG/BTC', 'PAXG/USDT', 'PENDLE/BTC', 'PENDLE/USDT', 'PEOPLE/BTC', 'PEOPLE/USDT', 'PEPE/USDT', 'PERP/BTC', 'PERP/USDT', 'PHA/BTC', 'PHA/USDT', 'PIXEL/BTC', 'PIXEL/USDT', 'PLA/BTC', 'PLA/USDT', 'PNT/USDT', 'POLS/USDT', 'POLYX/BTC', 'POLYX/USDT', 'POND/BTC', 'POND/USDT', 'PORTO/BTC', 'PORTO/USDT', 'POWR/BTC', 'POWR/USDT', 'PROM/USDT', 'PSG/USDT', 'PYR/BTC', 'PYR/USDT', 'PYTH/BTC', 'PYTH/USDT', 'QI/BTC', 'QI/USDT', 'QNT/BTC', 'QNT/USDT', 'QTUM/BTC', 'QTUM/USDT', 'QUICK/BTC', 'QUICK/USDT', 'RAD/BTC', 'RAD/USDT', 'RARE/BTC', 'RARE/USDT', 'RAY/USDT', 'RDNT/BTC', 'RDNT/USDT', 'REEF/USDT', 'REI/USDT', 'REN/BTC', 'REN/USDT', 'REQ/BTC', 'REQ/USDT', 'RIF/BTC', 'RIF/USDT', 'RLC/BTC', 'RLC/USDT', 'RNDR/BTC', 'RNDR/USDT', 'RONIN/BTC', 'RONIN/USDT', 'ROSE/BTC', 'ROSE/USDT', 'RPL/USDT', 'RSR/USDT', 'RUNE/BTC', 'RUNE/USDT', 'RVN/BTC', 'RVN/USDT', 'SAND/BTC', 'SAND/USDT', 'SANTOS/BTC', 'SANTOS/USDT', 'SCRT/BTC', 'SCRT/USDT', 'SC/USDT', 'SEI/BTC', 'SEI/USDT', 'SFP/BTC', 'SFP/USDT', 'SHIB/USDT', 'SKL/BTC', 'SKL/USDT', 'SLP/USDT', 'SNT/BTC', 'SNX/BTC', 'SNX/USDT', 'SOL/BTC', 'SOL/USDT', 'SPELL/USDT', 'SSV/BTC', 'SSV/USDT', 'STEEM/BTC', 'STG/BTC', 'STG/USDT', 'STMX/USDT', 'STORJ/BTC', 'STORJ/USDT', 'STPT/BTC', 'STPT/USDT', 'STRAX/BTC', 'STRAX/USDT', 'STX/BTC', 'STX/USDT', 'SUI/BTC', 'SUI/USDT', 'SUN/USDT', 'SUPER/BTC', 'SUPER/USDT', 'SUSHI/BTC', 'SUSHI/USDT', 'SXP/BTC', 'SXP/USDT', 'SYS/BTC', 'SYS/USDT', 'TFUEL/BTC', 'TFUEL/USDT', 'THETA/BTC', 'THETA/USDT', 'TIA/BTC', 'TIA/USDT', 'TKO/BTC', 'TKO/USDT', 'TLM/BTC', 'TLM/USDT', 'TRB/BTC', 'TRB/USDT', 'TROY/USDT', 'TRU/BTC', 'TRU/USDT', 'TRX/BTC', 'TRX/USDT', 'TUSD/USDT', 'TWT/BTC', 'TWT/USDT', 'T/USDT', 'UFT/USDT', 'UMA/BTC', 'UMA/USDT', 'UNFI/BTC', 'UNFI/USDT', 'UNI/BTC', 'UNI/USDT', 'USDC/USDT', 'USTC/USDT', 'UTK/BTC', 'UTK/USDT', 'VANRY/BTC', 'VANRY/USDT', 'VELO/USDT', 'VET/BTC', 'VET/USDT', 'VGX/USDT', 'VIC/BTC', 'VIC/USDT', 'VIDT/BTC', 'VIDT/USDT', 'VITE/BTC', 'VITE/USDT', 'VOXEL/BTC', 'VOXEL/USDT', 'VTHO/USDT', 'WAN/BTC', 'WAN/USDT', 'WAVES/BTC', 'WAVES/USDT', 'WAXP/BTC', 'WAXP/USDT', 'WBTC/BTC', 'WING/BTC', 'WING/USDT', 'WIN/USDT', 'WLD/BTC', 'WLD/USDT', 'WOO/BTC', 'WOO/USDT', 'WRX/USDT', 'XAI/USDT', 'XEC/USDT', 'XEM/USDT', 'XLM/BTC', 'XLM/USDT', 'XNO/BTC', 'XNO/USDT', 'XRP/BTC', 'XRP/USDT', 'XTZ/BTC', 'XTZ/USDT', 'XVG/USDT', 'XVS/BTC', 'XVS/USDT', 'YFI/BTC', 'YFI/USDT', 'YGG/BTC', 'YGG/USDT', 'ZEN/BTC', 'ZEN/USDT', 'ZIL/BTC', 'ZIL/USDT', 'ZRX/BTC', 'ZRX/USDT']\n"
     ]
    }
   ],
   "source": [
    "exchange_id = 'tokocrypto'\n",
    "exchange_class = getattr(ccxt, exchange_id)\n",
    "exchange = exchange_class({\n",
    "    'apiKey': 'YOUR_API_KEY',\n",
    "    'secret': 'YOUR_SECRET',\n",
    "})\n",
    "markets = exchange.load_markets()\n",
    "market_list = list(markets.keys())\n",
    "considered_market = []\n",
    "for i in market_list:\n",
    "    if '/USDT' in i or '/BTC' in i:\n",
    "        considered_market.append(i)\n",
    "\n",
    "print(len(considered_market))\n",
    "print(considered_market)"
   ]
  },
  {
   "cell_type": "code",
   "execution_count": 37,
   "metadata": {},
   "outputs": [
    {
     "name": "stdout",
     "output_type": "stream",
     "text": [
      "ALTUSDTuccessful\r"
     ]
    },
    {
     "name": "stderr",
     "output_type": "stream",
     "text": [
      "e:\\anaconda3\\Lib\\site-packages\\sklearn\\preprocessing\\_data.py:479: RuntimeWarning: All-NaN slice encountered\n",
      "  data_min = np.nanmin(X, axis=0)\n",
      "e:\\anaconda3\\Lib\\site-packages\\sklearn\\preprocessing\\_data.py:480: RuntimeWarning: All-NaN slice encountered\n",
      "  data_max = np.nanmax(X, axis=0)\n",
      "e:\\anaconda3\\Lib\\site-packages\\sklearn\\preprocessing\\_data.py:479: RuntimeWarning: All-NaN slice encountered\n",
      "  data_min = np.nanmin(X, axis=0)\n",
      "e:\\anaconda3\\Lib\\site-packages\\sklearn\\preprocessing\\_data.py:480: RuntimeWarning: All-NaN slice encountered\n",
      "  data_max = np.nanmax(X, axis=0)\n"
     ]
    },
    {
     "name": "stdout",
     "output_type": "stream",
     "text": [
      "Inputs must not be empty.\n",
      "EGLDBTCuccessful\r"
     ]
    },
    {
     "name": "stderr",
     "output_type": "stream",
     "text": [
      "e:\\anaconda3\\Lib\\site-packages\\sklearn\\preprocessing\\_data.py:479: RuntimeWarning: All-NaN slice encountered\n",
      "  data_min = np.nanmin(X, axis=0)\n",
      "e:\\anaconda3\\Lib\\site-packages\\sklearn\\preprocessing\\_data.py:480: RuntimeWarning: All-NaN slice encountered\n",
      "  data_max = np.nanmax(X, axis=0)\n",
      "e:\\anaconda3\\Lib\\site-packages\\sklearn\\preprocessing\\_data.py:479: RuntimeWarning: All-NaN slice encountered\n",
      "  data_min = np.nanmin(X, axis=0)\n",
      "e:\\anaconda3\\Lib\\site-packages\\sklearn\\preprocessing\\_data.py:480: RuntimeWarning: All-NaN slice encountered\n",
      "  data_max = np.nanmax(X, axis=0)\n"
     ]
    },
    {
     "name": "stdout",
     "output_type": "stream",
     "text": [
      "KAVABTCuccessful\r"
     ]
    },
    {
     "name": "stderr",
     "output_type": "stream",
     "text": [
      "e:\\anaconda3\\Lib\\site-packages\\sklearn\\preprocessing\\_data.py:479: RuntimeWarning: All-NaN slice encountered\n",
      "  data_min = np.nanmin(X, axis=0)\n",
      "e:\\anaconda3\\Lib\\site-packages\\sklearn\\preprocessing\\_data.py:480: RuntimeWarning: All-NaN slice encountered\n",
      "  data_max = np.nanmax(X, axis=0)\n"
     ]
    },
    {
     "name": "stdout",
     "output_type": "stream",
     "text": [
      "MASKUSDTccessful\r"
     ]
    },
    {
     "name": "stderr",
     "output_type": "stream",
     "text": [
      "e:\\anaconda3\\Lib\\site-packages\\sklearn\\preprocessing\\_data.py:479: RuntimeWarning: All-NaN slice encountered\n",
      "  data_min = np.nanmin(X, axis=0)\n",
      "e:\\anaconda3\\Lib\\site-packages\\sklearn\\preprocessing\\_data.py:480: RuntimeWarning: All-NaN slice encountered\n",
      "  data_max = np.nanmax(X, axis=0)\n",
      "e:\\anaconda3\\Lib\\site-packages\\sklearn\\preprocessing\\_data.py:479: RuntimeWarning: All-NaN slice encountered\n",
      "  data_min = np.nanmin(X, axis=0)\n",
      "e:\\anaconda3\\Lib\\site-packages\\sklearn\\preprocessing\\_data.py:480: RuntimeWarning: All-NaN slice encountered\n",
      "  data_max = np.nanmax(X, axis=0)\n"
     ]
    },
    {
     "name": "stdout",
     "output_type": "stream",
     "text": [
      "Error: '1146 (42S02): Table 'crypto_db.pixelbtc' doesn't exist'\n",
      "Inputs must not be empty.\n",
      "Error: '1146 (42S02): Table 'crypto_db.pixelusdt' doesn't exist'\n",
      "Inputs must not be empty.\n",
      "Query successful\r"
     ]
    },
    {
     "name": "stderr",
     "output_type": "stream",
     "text": [
      "e:\\anaconda3\\Lib\\site-packages\\sklearn\\preprocessing\\_data.py:479: RuntimeWarning: All-NaN slice encountered\n",
      "  data_min = np.nanmin(X, axis=0)\n",
      "e:\\anaconda3\\Lib\\site-packages\\sklearn\\preprocessing\\_data.py:480: RuntimeWarning: All-NaN slice encountered\n",
      "  data_max = np.nanmax(X, axis=0)\n",
      "e:\\anaconda3\\Lib\\site-packages\\sklearn\\preprocessing\\_data.py:479: RuntimeWarning: All-NaN slice encountered\n",
      "  data_min = np.nanmin(X, axis=0)\n",
      "e:\\anaconda3\\Lib\\site-packages\\sklearn\\preprocessing\\_data.py:480: RuntimeWarning: All-NaN slice encountered\n",
      "  data_max = np.nanmax(X, axis=0)\n"
     ]
    },
    {
     "name": "stdout",
     "output_type": "stream",
     "text": [
      "Query successful\r"
     ]
    },
    {
     "name": "stderr",
     "output_type": "stream",
     "text": [
      "e:\\anaconda3\\Lib\\site-packages\\sklearn\\preprocessing\\_data.py:479: RuntimeWarning: All-NaN slice encountered\n",
      "  data_min = np.nanmin(X, axis=0)\n",
      "e:\\anaconda3\\Lib\\site-packages\\sklearn\\preprocessing\\_data.py:480: RuntimeWarning: All-NaN slice encountered\n",
      "  data_max = np.nanmax(X, axis=0)\n",
      "e:\\anaconda3\\Lib\\site-packages\\sklearn\\preprocessing\\_data.py:479: RuntimeWarning: All-NaN slice encountered\n",
      "  data_min = np.nanmin(X, axis=0)\n",
      "e:\\anaconda3\\Lib\\site-packages\\sklearn\\preprocessing\\_data.py:480: RuntimeWarning: All-NaN slice encountered\n",
      "  data_max = np.nanmax(X, axis=0)\n"
     ]
    },
    {
     "name": "stdout",
     "output_type": "stream",
     "text": [
      "Inputs must not be empty.\n",
      "Query successful\r"
     ]
    }
   ],
   "source": [
    "shortlisted_market = []\n",
    "shortlisted_market_dict = {}\n",
    "for i in range(len(considered_market)):\n",
    "    try:\n",
    "        market = considered_market[i]\n",
    "        market = market.replace('/', '')\n",
    "        print(market, end='\\r')\n",
    "        query = 'SELECT * FROM %s ORDER BY timestamp ASC' % market\n",
    "        res = execute_query(connection,query)\n",
    "        df = pd.DataFrame(res,columns=['timestamp', 'open','high', 'low','close','volume'])\n",
    "        df = df.drop_duplicates()\n",
    "        df['timestamp'] = pd.to_datetime(df['timestamp'], unit='ms')\n",
    "\n",
    "        is_adi_increase = False\n",
    "        adi = ta.volume.AccDistIndexIndicator(high=df['high'],low=df['low'],close=df['close'],volume=df['volume']).acc_dist_index()\n",
    "        x = df.iloc[(-24*7):].index.values/24\n",
    "        y = adi.iloc[(-24*7):]\n",
    "        slope, intercept, r_value, p_value, std_err = stats.linregress(x, y)\n",
    "        if slope > 0:\n",
    "            is_adi_increase = True\n",
    "        is_aroon = False\n",
    "        day_df = (df.resample('D', on='timestamp').agg({'open': 'first', 'high': 'max', 'low': 'min', 'close': 'last','volume': 'mean'}))\n",
    "        day_df['timestamp'] = day_df.index\n",
    "        aroon = ta.trend.AroonIndicator(low=day_df['low'],high=day_df['high'])\n",
    "        aroon_up = aroon.aroon_up()\n",
    "        aroon_down = aroon.aroon_down()\n",
    "        aroon_diff = aroon.aroon_indicator()\n",
    "\n",
    "        if aroon_diff[-1] > 0 and aroon_diff[-1] < 10:\n",
    "            is_aroon = True\n",
    "        elif np.mean(aroon_up[-3:]) > 85:\n",
    "            is_aroon = True\n",
    "\n",
    "        is_macd = False\n",
    "        macd = ta.trend.MACD(close=day_df['close'])\n",
    "        macd_diff = macd.macd_diff()\n",
    "        scaler = preprocessing.MinMaxScaler(feature_range=(-1,1))\n",
    "        macd_diff = scaler.fit_transform(macd_diff.values.reshape(-1,1))\n",
    "        macd_line = macd.macd()\n",
    "        macd_signal = macd.macd_signal()\n",
    "\n",
    "        if abs(macd_diff[-1]) < 0.015:\n",
    "            is_macd = True\n",
    "        elif (macd_line[-1] - macd_signal[-1]) >= 0 and (macd_line[-1] - macd_signal[-1])/macd_line[-1] <= 0.10 :\n",
    "            is_macd = True\n",
    "        is_stochastic = False\n",
    "        stoch_oscillator = ta.momentum.StochasticOscillator(high=day_df['high'], low=day_df['low'], close=day_df['close'])\n",
    "        stochastic = stoch_oscillator.stoch()\n",
    "        stochastic_signal = stoch_oscillator.stoch_signal()\n",
    "\n",
    "        if stochastic.values[-1] < 20 and stochastic_signal[-1] < 20:\n",
    "            is_stochastic = True\n",
    "\n",
    "        if sum([is_adi_increase, is_aroon, is_macd, is_stochastic]) >= 3:\n",
    "            shortlisted_market.append(market)\n",
    "            shortlisted_market_dict[market] = {'is_adi_increase': is_adi_increase,\n",
    "                                               'is_aroon': is_aroon,\n",
    "                                               'is_macd': is_macd,\n",
    "                                               'is_stochastic': is_stochastic}\n",
    "    except Exception as e:\n",
    "        print(e)\n",
    "        continue\n",
    "    "
   ]
  },
  {
   "cell_type": "code",
   "execution_count": 38,
   "metadata": {},
   "outputs": [
    {
     "data": {
      "text/plain": [
       "['APTUSDT',\n",
       " 'ARBTC',\n",
       " 'CTSIUSDT',\n",
       " 'HARDUSDT',\n",
       " 'ICPUSDT',\n",
       " 'ILVUSDT',\n",
       " 'LPTUSDT',\n",
       " 'LSKUSDT',\n",
       " 'NULSBTC',\n",
       " 'QUICKBTC',\n",
       " 'REEFUSDT',\n",
       " 'SANDUSDT',\n",
       " 'STGBTC',\n",
       " 'SUIUSDT',\n",
       " 'TRBBTC',\n",
       " 'UNFIUSDT',\n",
       " 'XLMUSDT']"
      ]
     },
     "execution_count": 38,
     "metadata": {},
     "output_type": "execute_result"
    }
   ],
   "source": [
    "shortlisted_market"
   ]
  },
  {
   "cell_type": "code",
   "execution_count": 42,
   "metadata": {},
   "outputs": [
    {
     "data": {
      "text/plain": [
       "{'is_adi_increase': True,\n",
       " 'is_aroon': False,\n",
       " 'is_macd': True,\n",
       " 'is_stochastic': True}"
      ]
     },
     "execution_count": 42,
     "metadata": {},
     "output_type": "execute_result"
    }
   ],
   "source": [
    "shortlisted_market_dict['TRBBTC']"
   ]
  },
  {
   "cell_type": "code",
   "execution_count": 8,
   "metadata": {},
   "outputs": [],
   "source": [
    "is_aroon = False\n",
    "day_df = (df.resample('D', on='timestamp').agg({'open': 'first', 'high': 'max', 'low': 'min', 'close': 'last','volume': 'mean'}))\n",
    "day_df['timestamp'] = day_df.index\n",
    "aroon = ta.trend.AroonIndicator(low=day_df['low'],high=day_df['high'])\n",
    "aroon_up = aroon.aroon_up()\n",
    "aroon_down = aroon.aroon_down()\n",
    "aroon_diff = aroon.aroon_indicator()\n",
    "\n",
    "if aroon_diff[-1] > 0 and aroon_diff[-1] < 10:\n",
    "    is_aroon = True\n",
    "elif np.mean(aroon_up[-3:]) > 85:\n",
    "    is_aroon = True"
   ]
  },
  {
   "cell_type": "code",
   "execution_count": 12,
   "metadata": {},
   "outputs": [],
   "source": []
  },
  {
   "cell_type": "code",
   "execution_count": 17,
   "metadata": {},
   "outputs": [],
   "source": []
  },
  {
   "cell_type": "code",
   "execution_count": 18,
   "metadata": {},
   "outputs": [
    {
     "data": {
      "text/plain": [
       "timestamp\n",
       "2018-04-17          NaN\n",
       "2018-04-18          NaN\n",
       "2018-04-19          NaN\n",
       "2018-04-20          NaN\n",
       "2018-04-21          NaN\n",
       "                ...    \n",
       "2024-02-13    77.551020\n",
       "2024-02-14    94.122966\n",
       "2024-02-15    97.212294\n",
       "2024-02-16    89.101203\n",
       "2024-02-17    81.457891\n",
       "Freq: D, Name: stoch_k, Length: 2133, dtype: float64"
      ]
     },
     "execution_count": 18,
     "metadata": {},
     "output_type": "execute_result"
    }
   ],
   "source": [
    "stochastic"
   ]
  },
  {
   "cell_type": "code",
   "execution_count": null,
   "metadata": {},
   "outputs": [],
   "source": [
    "\n",
    "\n",
    "btc_correlation = 0"
   ]
  },
  {
   "cell_type": "code",
   "execution_count": 5,
   "metadata": {},
   "outputs": [
    {
     "name": "stdout",
     "output_type": "stream",
     "text": [
      "True\n",
      "True\n",
      "False\n",
      "False\n",
      "False\n"
     ]
    }
   ],
   "source": [
    "a = \"\\u0030\" #unicode for 0\n",
    "b = \"\\u00B2\" #unicode for &sup2;\n",
    "c = \"10km2\"\n",
    "d = \"-1\"\n",
    "e = \"1.5\"\n",
    "\n",
    "print(a.isnumeric())\n",
    "print(b.isnumeric())\n",
    "print(c.isnumeric())\n",
    "print(d.isnumeric())\n",
    "print(e.isnumeric())"
   ]
  },
  {
   "cell_type": "code",
   "execution_count": 9,
   "metadata": {},
   "outputs": [
    {
     "ename": "ValueError",
     "evalue": "could not convert string to float: '-291.302et'",
     "output_type": "error",
     "traceback": [
      "\u001b[1;31m---------------------------------------------------------------------------\u001b[0m",
      "\u001b[1;31mValueError\u001b[0m                                Traceback (most recent call last)",
      "Cell \u001b[1;32mIn[9], line 1\u001b[0m\n\u001b[1;32m----> 1\u001b[0m \u001b[38;5;28mfloat\u001b[39m(\u001b[38;5;124m'\u001b[39m\u001b[38;5;124m-291.302et\u001b[39m\u001b[38;5;124m'\u001b[39m)\u001b[38;5;241m+\u001b[39m\u001b[38;5;241m10\u001b[39m\n",
      "\u001b[1;31mValueError\u001b[0m: could not convert string to float: '-291.302et'"
     ]
    }
   ],
   "source": [
    "float('-291.302et')+10"
   ]
  },
  {
   "cell_type": "code",
   "execution_count": 15,
   "metadata": {},
   "outputs": [
    {
     "data": {
      "text/plain": [
       "array([0, 3, 4, 0])"
      ]
     },
     "execution_count": 15,
     "metadata": {},
     "output_type": "execute_result"
    }
   ],
   "source": [
    "import numpy as np\n",
    "a = np.array([-2,3,4,-2])\n",
    "b = np.array\n",
    "np.where(a > 0, a, 0)"
   ]
  },
  {
   "cell_type": "code",
   "execution_count": 27,
   "metadata": {},
   "outputs": [
    {
     "name": "stdout",
     "output_type": "stream",
     "text": [
      "skajcbakjsbc PetalWidthCm\n"
     ]
    }
   ],
   "source": [
    "import re\n",
    "\n",
    "x = 'skajcbakjsbc>=PetalWidthCm'\n",
    "a = re.findall('(.+?)[><=!]+',x)[0]\n",
    "# b = re.findall('[><=!]+(.+?)',x)[0]\n",
    "b = re.findall('[><=!]+(.+)', x)[0]\n",
    "\n",
    "\n",
    "print(a,b)"
   ]
  },
  {
   "cell_type": "code",
   "execution_count": null,
   "metadata": {},
   "outputs": [],
   "source": []
  }
 ],
 "metadata": {
  "kernelspec": {
   "display_name": "base",
   "language": "python",
   "name": "python3"
  },
  "language_info": {
   "codemirror_mode": {
    "name": "ipython",
    "version": 3
   },
   "file_extension": ".py",
   "mimetype": "text/x-python",
   "name": "python",
   "nbconvert_exporter": "python",
   "pygments_lexer": "ipython3",
   "version": "3.11.5"
  }
 },
 "nbformat": 4,
 "nbformat_minor": 2
}
