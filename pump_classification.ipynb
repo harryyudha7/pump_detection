{
 "cells": [
  {
   "cell_type": "code",
   "execution_count": 3,
   "metadata": {},
   "outputs": [],
   "source": [
    "import ipywidgets as widgets\n",
    "import pandas as pd\n",
    "import numpy as np\n",
    "import os\n",
    "import re\n",
    "from tqdm import tqdm\n",
    "from imblearn.over_sampling import SMOTE\n",
    "from sklearn.model_selection import train_test_split\n",
    "from sklearn.metrics import classification_report\n",
    "from sklearn.metrics import confusion_matrix \n",
    "import copy"
   ]
  },
  {
   "cell_type": "code",
   "execution_count": 1,
   "metadata": {},
   "outputs": [],
   "source": [
    "CUR_DIR = os.curdir\n",
    "PATH_FILE = CUR_DIR + '/fileCSVNow/fileCSV - Copy/'"
   ]
  },
  {
   "cell_type": "code",
   "execution_count": 4,
   "metadata": {},
   "outputs": [
    {
     "data": {
      "application/vnd.jupyter.widget-view+json": {
       "model_id": "54b6fee660a84413a029b8fcb505606f",
       "version_major": 2,
       "version_minor": 0
      },
      "text/plain": [
       "HBox(children=(VBox(children=(Checkbox(value=False, description='all', indent=False), Checkbox(value=False, de…"
      ]
     },
     "metadata": {},
     "output_type": "display_data"
    }
   ],
   "source": [
    "coin_list = os.listdir(PATH_FILE)\n",
    "dict_checkbox = {}\n",
    "sel_all = widgets.Checkbox(\n",
    "    value=False,\n",
    "    description='all',\n",
    "    disabled=False,\n",
    "    indent=False\n",
    ")\n",
    "for i in range(len(coin_list)):\n",
    "    file_name = coin_list[i].split('-')\n",
    "    coin_name = file_name[0]\n",
    "    for j in file_name[1:-1]:\n",
    "        # print(i)\n",
    "        if j != 'usd':\n",
    "            coin_name = coin_name + '-' + j\n",
    "        else:\n",
    "            break\n",
    "    coin_list[i] = coin_name\n",
    "    dict_checkbox[coin_name] = widgets.Checkbox(\n",
    "                                value=False,\n",
    "                                description=coin_name,\n",
    "                                disabled=False,\n",
    "                                indent=False,\n",
    "                                continous_update=True\n",
    "                            )\n",
    "    widgets.dlink((sel_all, 'value'), (dict_checkbox[coin_name], 'value'))\n",
    "\n",
    "\n",
    "DISP_COL = 20\n",
    "\n",
    "dict_vbox = {}\n",
    "for i in range(DISP_COL):\n",
    "    dict_vbox[i] = []\n",
    "dict_vbox[0].append(sel_all)\n",
    "\n",
    "for i in range(1,len(coin_list)+1):\n",
    "    coord = i%DISP_COL\n",
    "    dict_vbox[coord].append(dict_checkbox[coin_list[i-1]])\n",
    "\n",
    "hbox = [widgets.VBox(i) for i in dict_vbox.values()]\n",
    "display(widgets.HBox(hbox))"
   ]
  },
  {
   "cell_type": "code",
   "execution_count": 5,
   "metadata": {},
   "outputs": [],
   "source": [
    "list_checked = []\n",
    "for i in coin_list:\n",
    "    if dict_checkbox[i].value:\n",
    "        list_checked.append(i)\n",
    "\n",
    "df_checked = {}\n",
    "for i in list_checked:\n",
    "    df_checked[i] = pd.read_csv(PATH_FILE + i + '-usd-max.csv')\n",
    "    df_checked[i]['pct_change'] = df_checked[i]['price'].pct_change()\n",
    "    df_checked[i]['pct_change'] = np.where(df_checked[i]['pct_change'] > 10**3, 10, df_checked[i]['pct_change'])\n"
   ]
  },
  {
   "cell_type": "code",
   "execution_count": 52,
   "metadata": {},
   "outputs": [],
   "source": [
    "PUMP_THRESHOLD = 1\n",
    "num_pump = 0\n",
    "for i in list_checked:\n",
    "    num_pump = num_pump + len(df_checked[i][df_checked[i]['pct_change'] > PUMP_THRESHOLD])"
   ]
  },
  {
   "cell_type": "markdown",
   "metadata": {},
   "source": [
    "# is_pump on a single day"
   ]
  },
  {
   "cell_type": "code",
   "execution_count": 6,
   "metadata": {},
   "outputs": [
    {
     "name": "stderr",
     "output_type": "stream",
     "text": [
      "100%|██████████| 831/831 [07:15<00:00,  1.91it/s]\n"
     ]
    }
   ],
   "source": [
    "PUMP_THRESHOLD = 1\n",
    "WINDOW_BEFORE = 15\n",
    "WINDOW_AFTER = 7\n",
    "\n",
    "data_x = []\n",
    "data_y = []\n",
    "for i in tqdm(list_checked):\n",
    "    max_idx = max(df_checked[i].index)\n",
    "    df_checked_dropna = df_checked[i].dropna()\n",
    "    for j in df_checked_dropna.index:\n",
    "        if j + WINDOW_BEFORE < max_idx:\n",
    "            df_temp = df_checked_dropna.iloc[j:j+WINDOW_BEFORE]\n",
    "            one_data = [i, df_temp['snapped_at'].values[0]] + df_temp['pct_change'].values.tolist()\n",
    "            data_x.append(one_data)\n",
    "            low_bound = j+WINDOW_BEFORE\n",
    "            up_bound = min([low_bound+WINDOW_AFTER,max_idx])\n",
    "            df_temp = df_checked_dropna.iloc[low_bound:up_bound]\n",
    "            if (df_temp['pct_change'] >= PUMP_THRESHOLD).any():\n",
    "                data_y.append(1)\n",
    "            else:\n",
    "                data_y.append(0)"
   ]
  },
  {
   "cell_type": "code",
   "execution_count": 14,
   "metadata": {},
   "outputs": [],
   "source": [
    "TEST_SIZE = 0.2\n",
    "\n",
    "prediktor_real = pd.DataFrame(data_x)\n",
    "prediktor_real['target'] = data_y\n",
    "prediktor_real = prediktor_real.dropna()\n",
    "\n",
    "prediktor = pd.DataFrame(data_x)\n",
    "prediktor['target'] = data_y\n",
    "prediktor.replace([np.inf, -np.inf], np.nan, inplace=True)\n",
    "prediktor = prediktor.dropna()\n",
    "prediktor_0 = prediktor[prediktor['target'] == 0]\n",
    "prediktor_1 = prediktor[prediktor['target'] == 1]\n",
    "prediktor_0 = prediktor_0.sample(n=int(len(prediktor_0)))\n",
    "\n",
    "prediktor = pd.concat([prediktor_0, prediktor_1]).drop([0,1],1)\n",
    "target = prediktor['target']\n",
    "prediktor = prediktor.drop('target',1)\n",
    "\n",
    "\n",
    "X_train, X_test, y_train, y_test = train_test_split(prediktor, target, test_size= TEST_SIZE)\n",
    "\n",
    "scale = SMOTE()\n",
    "X_train,y_train = scale.fit_resample(X_train, y_train)\n",
    "\n",
    "X = prediktor_real[np.arange(2,17).tolist()]\n",
    "y = prediktor_real['target']"
   ]
  },
  {
   "cell_type": "code",
   "execution_count": 8,
   "metadata": {},
   "outputs": [],
   "source": [
    "arr_pred = []\n",
    "for i in df_checked.keys():\n",
    "    data_now = df_checked[i].iloc[-WINDOW_BEFORE:]\n",
    "    arr_pred.append(data_now['pct_change'].values.tolist())\n",
    "test_now = pd.DataFrame(arr_pred).dropna()"
   ]
  },
  {
   "cell_type": "code",
   "execution_count": 13,
   "metadata": {},
   "outputs": [
    {
     "name": "stdout",
     "output_type": "stream",
     "text": [
      "              precision    recall  f1-score   support\n",
      "\n",
      "           0       0.69      0.92      0.79      9781\n",
      "           1       0.88      0.60      0.71      9799\n",
      "\n",
      "    accuracy                           0.76     19580\n",
      "   macro avg       0.78      0.76      0.75     19580\n",
      "weighted avg       0.78      0.76      0.75     19580\n",
      "\n",
      "              precision    recall  f1-score   support\n",
      "\n",
      "           0       0.70      0.91      0.79      2457\n",
      "           1       0.87      0.60      0.71      2439\n",
      "\n",
      "    accuracy                           0.76      4896\n",
      "   macro avg       0.79      0.76      0.75      4896\n",
      "weighted avg       0.78      0.76      0.75      4896\n",
      "\n",
      "              precision    recall  f1-score   support\n",
      "\n",
      "           0       0.69      0.91      0.79     12238\n",
      "           1       0.88      0.60      0.71     12238\n",
      "\n",
      "    accuracy                           0.76     24476\n",
      "   macro avg       0.78      0.76      0.75     24476\n",
      "weighted avg       0.78      0.76      0.75     24476\n",
      "\n",
      "False Positive Percentage:  0.12664277180406214  FP:  212  TP:  1462\n",
      "False Negative Rate:  0.303227808814401  FN:  977  TN:  2245\n",
      "{'anc': 0.550903350422999, 'aog': 0.5000145948341278, 'bor': 0.697718241427026, 'box': 0.8150779683014662, 'bwo': 0.8138218988433437, 'ceek': 0.6924984951483566, 'ctxc': 0.6803327900377099, 'dvf': 0.521046745980378, 'firo': 0.9119549142346841, 'fis': 0.5882915316586264, 'fun': 0.5878747061948104, 'hec': 0.5571526629412915, 'koge': 0.6708273156601763, 'mana': 0.9309733130813811, 'ngm': 0.8205557341619851, 'nif': 0.9407545680224985, 'nmkr': 0.8214839747685119, 'pha': 0.6379887493393426, 'pinksale': 0.9482552065592245, 'plex': 0.7667894125806924, 'pltc': 0.642680043816938, 'pop': 0.7815445845050135, 'pundix': 0.7070391158843563, 'rei': 0.6751985976036963, 'rmrk': 0.5092598502889771, 'RSS3': 0.6902832589585159, 'rsv': 0.8180652493489333, 'skl': 0.5039493374169828, 'step': 0.7680133279075676, 'talk': 0.7562593775135724, 'usdc': 0.9470658898458169, 'usdd': 0.605537015026556, 'waxp': 0.8004426819949231, 'wrx': 0.7663296061318761, 'xrp': 0.530613045477331}\n",
      "35\n"
     ]
    }
   ],
   "source": [
    "from sklearn.gaussian_process import GaussianProcessClassifier\n",
    "\n",
    "model = GaussianProcessClassifier().fit(X_train, y_train)\n",
    "\n",
    "y_train_pred = model.predict(X_train)\n",
    "y_test_pred = model.predict(X_test)\n",
    "y_pred = model.predict(X)\n",
    "\n",
    "print(classification_report(y_train, y_train_pred))\n",
    "print(classification_report(y_test, y_test_pred))\n",
    "print(classification_report(y, y_pred))\n",
    "\n",
    "tn, fp, fn, tp  = confusion_matrix(y_test, y_test_pred).ravel()\n",
    "\n",
    "FPP = fp/(fp+tp)\n",
    "FNP = fn/(tn+fn)\n",
    "\n",
    "print('False Positive Percentage: ', FPP, ' FP: ', fp, ' TP: ', tp)\n",
    "print('False Negative Rate: ', FNP, ' FN: ', fn, ' TN: ', tn)\n",
    "\n",
    "gpr_pred = model.predict(test_now)\n",
    "gpr_pred_proba = model.predict_proba(test_now)\n",
    "gpr_pred_coin = {}\n",
    "for i in range(len(gpr_pred)):\n",
    "    if gpr_pred[i] == 1:\n",
    "        gpr_pred_coin[coin_list[i]] = gpr_pred_proba[i][1]\n",
    "print(gpr_pred_coin)\n",
    "print(len(gpr_pred_coin))"
   ]
  },
  {
   "cell_type": "code",
   "execution_count": 65,
   "metadata": {},
   "outputs": [
    {
     "name": "stdout",
     "output_type": "stream",
     "text": [
      "              precision    recall  f1-score   support\n",
      "\n",
      "           0       0.70      0.92      0.79      9768\n",
      "           1       0.88      0.60      0.72      9796\n",
      "\n",
      "    accuracy                           0.76     19564\n",
      "   macro avg       0.79      0.76      0.75     19564\n",
      "weighted avg       0.79      0.76      0.75     19564\n",
      "\n",
      "              precision    recall  f1-score   support\n",
      "\n",
      "           0       0.70      0.92      0.79      2460\n",
      "           1       0.88      0.59      0.71      2432\n",
      "\n",
      "    accuracy                           0.76      4892\n",
      "   macro avg       0.79      0.76      0.75      4892\n",
      "weighted avg       0.79      0.76      0.75      4892\n",
      "\n",
      "              precision    recall  f1-score   support\n",
      "\n",
      "           0       0.70      0.92      0.79     12228\n",
      "           1       0.88      0.60      0.71     12228\n",
      "\n",
      "    accuracy                           0.76     24456\n",
      "   macro avg       0.79      0.76      0.75     24456\n",
      "weighted avg       0.79      0.76      0.75     24456\n",
      "\n"
     ]
    }
   ],
   "source": [
    "from sklearn.gaussian_process import GaussianProcessClassifier\n",
    "\n",
    "model = GaussianProcessClassifier().fit(X_train, y_train)\n",
    "\n",
    "y_train_pred = model.predict(X_train)\n",
    "y_test_pred = model.predict(X_test)\n",
    "y_pred = model.predict(X)\n",
    "\n",
    "print(classification_report(y_train, y_train_pred))\n",
    "print(classification_report(y_test, y_test_pred))\n",
    "print(classification_report(y, y_pred))\n"
   ]
  },
  {
   "cell_type": "code",
   "execution_count": 15,
   "metadata": {},
   "outputs": [
    {
     "name": "stdout",
     "output_type": "stream",
     "text": [
      "              precision    recall  f1-score   support\n",
      "\n",
      "           0       1.00      0.95      0.98    555453\n",
      "           1       0.95      1.00      0.98    555453\n",
      "\n",
      "    accuracy                           0.98   1110906\n",
      "   macro avg       0.98      0.98      0.98   1110906\n",
      "weighted avg       0.98      0.98      0.98   1110906\n",
      "\n",
      "              precision    recall  f1-score   support\n",
      "\n",
      "           0       0.99      0.93      0.96    138842\n",
      "           1       0.05      0.39      0.09      1241\n",
      "\n",
      "    accuracy                           0.93    140083\n",
      "   macro avg       0.52      0.66      0.53    140083\n",
      "weighted avg       0.99      0.93      0.96    140083\n",
      "\n",
      "              precision    recall  f1-score   support\n",
      "\n",
      "           0       1.00      0.95      0.97    694295\n",
      "           1       0.13      0.88      0.23      6119\n",
      "\n",
      "    accuracy                           0.95    700414\n",
      "   macro avg       0.56      0.91      0.60    700414\n",
      "weighted avg       0.99      0.95      0.97    700414\n",
      "\n",
      "False Positive Percentage:  0.9503970300092812  FP:  9216  TP:  481\n",
      "False Negative Rate:  0.005828846655315755  FN:  760  TN:  129626\n",
      "{'anc': 0.8, 'ankr': 0.6, 'ata': 0.8, 'bdx': 1.0, 'bigsb': 0.6, 'bit': 0.6, 'boa': 1.0, 'box': 0.6, 'cate': 1.0, 'cel': 0.8, 'cusdc': 1.0, 'dext': 0.6, 'dodo': 1.0, 'dpx': 0.8, 'dvf': 1.0, 'edg': 1.0, 'elg': 1.0, 'firo': 1.0, 'flux': 1.0, 'get': 0.6, 'ion': 1.0, 'iotx': 0.8, 'lsk': 0.6, 'mana': 1.0, 'mngo': 0.6, 'nif': 0.8, 'omax': 0.6, 'ooki': 0.6, 'peak': 1.0, 'pha': 0.6, 'plt': 0.6, 'pokt': 0.6, 'regen': 0.8, 'rmrk': 0.8, 'RSS3': 0.8, 'rsv': 0.8, 'slnd': 1.0, 'sov': 0.6, 'step': 0.6, 'sushi': 0.8, 'tonic': 1.0, 'upp': 0.6, 'uqc': 0.8, 'usdc': 0.8, 'usdk': 1.0, 'usdx': 0.6, 'vr': 0.8, 'wcfg': 0.6, 'wmt': 0.6, 'xch': 0.8, 'xdata': 0.6}\n",
      "51\n"
     ]
    }
   ],
   "source": [
    "from sklearn.neighbors import KNeighborsClassifier\n",
    "\n",
    "model1 = KNeighborsClassifier().fit(X_train, y_train)\n",
    "\n",
    "y_train_pred = model1.predict(X_train)\n",
    "y_test_pred = model1.predict(X_test)\n",
    "y_pred = model1.predict(X.dropna())\n",
    "\n",
    "print(classification_report(y_train, y_train_pred))\n",
    "print(classification_report(y_test, y_test_pred))\n",
    "print(classification_report(y, y_pred))\n",
    "\n",
    "tn, fp, fn, tp  = confusion_matrix(y_test, y_test_pred).ravel()\n",
    "\n",
    "FPP = fp/(fp+tp)\n",
    "FNP = fn/(tn+fn)\n",
    "\n",
    "print('False Positive Percentage: ', FPP, ' FP: ', fp, ' TP: ', tp)\n",
    "print('False Negative Rate: ', FNP, ' FN: ', fn, ' TN: ', tn)\n",
    "\n",
    "knn_pred = model1.predict(test_now)\n",
    "knn_pred_proba = model1.predict_proba(test_now)\n",
    "knn_pred_coin = {}\n",
    "for i in range(len(knn_pred)):\n",
    "    if knn_pred[i] == 1:\n",
    "        knn_pred_coin[coin_list[i]] = knn_pred_proba[i][1]\n",
    "print(knn_pred_coin)\n",
    "print(len(knn_pred_coin))\n",
    "\n"
   ]
  },
  {
   "cell_type": "code",
   "execution_count": 16,
   "metadata": {},
   "outputs": [
    {
     "name": "stdout",
     "output_type": "stream",
     "text": [
      "              precision    recall  f1-score   support\n",
      "\n",
      "           0       0.68      0.88      0.77    555453\n",
      "           1       0.84      0.59      0.69    555453\n",
      "\n",
      "    accuracy                           0.74   1110906\n",
      "   macro avg       0.76      0.74      0.73   1110906\n",
      "weighted avg       0.76      0.74      0.73   1110906\n",
      "\n",
      "              precision    recall  f1-score   support\n",
      "\n",
      "           0       1.00      0.88      0.94    138842\n",
      "           1       0.05      0.65      0.09      1241\n",
      "\n",
      "    accuracy                           0.88    140083\n",
      "   macro avg       0.52      0.77      0.51    140083\n",
      "weighted avg       0.99      0.88      0.93    140083\n",
      "\n",
      "              precision    recall  f1-score   support\n",
      "\n",
      "           0       1.00      0.88      0.94    694295\n",
      "           1       0.05      0.65      0.09      6119\n",
      "\n",
      "    accuracy                           0.88    700414\n",
      "   macro avg       0.52      0.77      0.51    700414\n",
      "weighted avg       0.99      0.88      0.93    700414\n",
      "\n",
      "False Positive Percentage:  0.9522426971618179  FP:  16071  TP:  806\n",
      "False Negative Rate:  0.0035306722075223607  FN:  435  TN:  122771\n",
      "{'anc': 0.5057675217090241, 'aog': 0.5010303182255389, 'asd': 0.5021895458279527, 'bcn': 0.5015132023167045, 'bezoge': 0.5002383477351842, 'bor': 0.5076340169744719, 'boring': 0.5004965874530324, 'box': 0.5065660396667766, 'bux': 0.5015987505406877, 'bwo': 0.5088674337157836, 'ceek': 0.5021895458279527, 'ctxc': 0.5108186485299075, 'dvf': 0.5221799857845116, 'elg': 0.5023713100829162, 'firo': 0.5215503532436534, 'fis': 0.5044850446338318, 'gt': 0.5020871715885367, 'hec': 0.5055339122098566, 'hive': 0.5029393460544191, 'ltc': 0.5015947775999118, 'mana': 0.5054827895258658, 'mngo': 0.5009489036679396, 'mvl': 0.5000529709722239, 'nftx': 0.5011250818902976, 'ngm': 0.5186611339427961, 'nif': 0.5103885748851807, 'nmkr': 0.5140943283765319, 'people': 0.5001904622275526, 'pha': 0.5010044626316599, 'pinksale': 0.5108620331449947, 'plex': 0.504201236035311, 'pltc': 0.5011250818902976, 'pop': 0.5003594523072386, 'qkc': 0.5016503361905453, 'quick': 0.5009489036679396, 'raca': 0.5007325680058645, 'regen': 0.5004965874530324, 'rei': 0.5020015203855218, 'rfr': 0.5016503361905453, 'rif': 0.5002026734339469, 'rmrk': 0.5021895458279527, 'rsv': 0.5016612511778532, 'sipher': 0.5021895458279527, 'skl': 0.5002026734339469, 'step': 0.5001040723556991, 'talk': 0.5049247528381767, 'tt': 0.5016503361905453, 'usdc': 0.5139696009633781, 'usdd': 0.5034616648646707, 'vrsc': 0.504314731073573, 'waxp': 0.5003594523072386, 'wcfg': 0.5009064473471776, 'wicc': 0.5015436767185195, 'wrx': 0.5065394487829687, 'x2y2': 0.5008668430576015, 'xdb': 0.5016761916053618, 'xrp': 0.5008890653752429, 'ycc': 0.5033315052872861}\n",
      "58\n"
     ]
    }
   ],
   "source": [
    "from sklearn.ensemble import RandomForestClassifier,AdaBoostClassifier\n",
    "\n",
    "model2 = AdaBoostClassifier().fit(X_train, y_train)\n",
    "\n",
    "y_train_pred = model2.predict(X_train)\n",
    "y_test_pred = model2.predict(X_test)\n",
    "y_pred = model2.predict(X)\n",
    "\n",
    "print(classification_report(y_train, y_train_pred))\n",
    "print(classification_report(y_test, y_test_pred))\n",
    "print(classification_report(y, y_pred))\n",
    "\n",
    "tn, fp, fn, tp  = confusion_matrix(y_test, y_test_pred).ravel()\n",
    "\n",
    "FPP = fp/(fp+tp)\n",
    "FNP = fn/(tn+fn)\n",
    "\n",
    "print('False Positive Percentage: ', FPP, ' FP: ', fp, ' TP: ', tp)\n",
    "print('False Negative Rate: ', FNP, ' FN: ', fn, ' TN: ', tn)\n",
    "\n",
    "ab_pred = model2.predict(test_now)\n",
    "ab_pred_proba = model2.predict_proba(test_now)\n",
    "ab_pred_coin = {}\n",
    "for i in range(len(ab_pred)):\n",
    "    if ab_pred[i] == 1:\n",
    "        ab_pred_coin[coin_list[i]] = ab_pred_proba[i][1]\n",
    "print(ab_pred_coin)\n",
    "print(len(ab_pred_coin))\n"
   ]
  },
  {
   "cell_type": "code",
   "execution_count": 27,
   "metadata": {},
   "outputs": [
    {
     "name": "stdout",
     "output_type": "stream",
     "text": [
      "              precision    recall  f1-score   support\n",
      "\n",
      "           0       1.00      1.00      1.00      9768\n",
      "           1       1.00      1.00      1.00      9796\n",
      "\n",
      "    accuracy                           1.00     19564\n",
      "   macro avg       1.00      1.00      1.00     19564\n",
      "weighted avg       1.00      1.00      1.00     19564\n",
      "\n",
      "              precision    recall  f1-score   support\n",
      "\n",
      "           0       0.74      0.72      0.73      2460\n",
      "           1       0.73      0.75      0.74      2432\n",
      "\n",
      "    accuracy                           0.73      4892\n",
      "   macro avg       0.73      0.73      0.73      4892\n",
      "weighted avg       0.73      0.73      0.73      4892\n",
      "\n",
      "              precision    recall  f1-score   support\n",
      "\n",
      "           0       0.95      0.94      0.95     12228\n",
      "           1       0.94      0.95      0.95     12228\n",
      "\n",
      "    accuracy                           0.95     24456\n",
      "   macro avg       0.95      0.95      0.95     24456\n",
      "weighted avg       0.95      0.95      0.95     24456\n",
      "\n"
     ]
    }
   ],
   "source": [
    "from sklearn.tree import DecisionTreeClassifier\n",
    "\n",
    "model3 = DecisionTreeClassifier().fit(X_train, y_train)\n",
    "\n",
    "y_train_pred = model3.predict(X_train)\n",
    "y_test_pred = model3.predict(X_test)\n",
    "y_pred = model3.predict(X)\n",
    "\n",
    "print(classification_report(y_train, y_train_pred))\n",
    "print(classification_report(y_test, y_test_pred))\n",
    "print(classification_report(y, y_pred))"
   ]
  },
  {
   "cell_type": "code",
   "execution_count": 17,
   "metadata": {},
   "outputs": [
    {
     "name": "stdout",
     "output_type": "stream",
     "text": [
      "              precision    recall  f1-score   support\n",
      "\n",
      "           0       1.00      1.00      1.00    555453\n",
      "           1       1.00      1.00      1.00    555453\n",
      "\n",
      "    accuracy                           1.00   1110906\n",
      "   macro avg       1.00      1.00      1.00   1110906\n",
      "weighted avg       1.00      1.00      1.00   1110906\n",
      "\n",
      "              precision    recall  f1-score   support\n",
      "\n",
      "           0       0.99      0.99      0.99    138842\n",
      "           1       0.20      0.38      0.26      1241\n",
      "\n",
      "    accuracy                           0.98    140083\n",
      "   macro avg       0.60      0.68      0.63    140083\n",
      "weighted avg       0.99      0.98      0.98    140083\n",
      "\n",
      "              precision    recall  f1-score   support\n",
      "\n",
      "           0       1.00      1.00      1.00    694295\n",
      "           1       0.68      0.87      0.76      6119\n",
      "\n",
      "    accuracy                           1.00    700414\n",
      "   macro avg       0.84      0.94      0.88    700414\n",
      "weighted avg       1.00      1.00      1.00    700414\n",
      "\n",
      "False Positive Percentage:  0.8019303399076794  FP:  1911  TP:  472\n",
      "False Negative Rate:  0.005584604212055193  FN:  769  TN:  136931\n",
      "{'bwo': 0.79, 'ctxc': 0.55, 'firo': 0.69, 'nif': 0.76, 'peak': 0.8573618151188437, 'pinksale': 0.68, 'rmrk': 0.69, 'rsv': 0.53, 'usdc': 0.51}\n",
      "9\n"
     ]
    }
   ],
   "source": [
    "model4 = RandomForestClassifier().fit(X_train, y_train)\n",
    "\n",
    "y_train_pred = model4.predict(X_train)\n",
    "y_test_pred = model4.predict(X_test)\n",
    "y_pred = model4.predict(X)\n",
    "\n",
    "print(classification_report(y_train, y_train_pred))\n",
    "print(classification_report(y_test, y_test_pred))\n",
    "print(classification_report(y, y_pred))\n",
    "\n",
    "tn, fp, fn, tp  = confusion_matrix(y_test, y_test_pred).ravel()\n",
    "\n",
    "FPP = fp/(fp+tp)\n",
    "FNP = fn/(tn+fn)\n",
    "\n",
    "print('False Positive Percentage: ', FPP, ' FP: ', fp, ' TP: ', tp)\n",
    "print('False Negative Rate: ', FNP, ' FN: ', fn, ' TN: ', tn)\n",
    "\n",
    "rf_pred = model4.predict(test_now)\n",
    "rf_pred_proba = model4.predict_proba(test_now)\n",
    "rf_pred_coin = {}\n",
    "for i in range(len(rf_pred)):\n",
    "    if rf_pred[i] == 1:\n",
    "        rf_pred_coin[coin_list[i]] = rf_pred_proba[i][1]\n",
    "print(rf_pred_coin)\n",
    "print(len(rf_pred_coin))"
   ]
  },
  {
   "cell_type": "code",
   "execution_count": 22,
   "metadata": {},
   "outputs": [
    {
     "name": "stdout",
     "output_type": "stream",
     "text": [
      "              precision    recall  f1-score   support\n",
      "\n",
      "           0       0.69      0.90      0.78    555453\n",
      "           1       0.86      0.60      0.70    555453\n",
      "\n",
      "    accuracy                           0.75   1110906\n",
      "   macro avg       0.77      0.75      0.74   1110906\n",
      "weighted avg       0.77      0.75      0.74   1110906\n",
      "\n",
      "              precision    recall  f1-score   support\n",
      "\n",
      "           0       1.00      0.90      0.95    138842\n",
      "           1       0.05      0.65      0.10      1241\n",
      "\n",
      "    accuracy                           0.90    140083\n",
      "   macro avg       0.53      0.78      0.52    140083\n",
      "weighted avg       0.99      0.90      0.94    140083\n",
      "\n",
      "              precision    recall  f1-score   support\n",
      "\n",
      "           0       1.00      0.90      0.95    694295\n",
      "           1       0.05      0.65      0.10      6119\n",
      "\n",
      "    accuracy                           0.90    700414\n",
      "   macro avg       0.53      0.78      0.52    700414\n",
      "weighted avg       0.99      0.90      0.94    700414\n",
      "\n",
      "False Positive Percentage:  0.9454202840029612  FP:  14048  TP:  811\n",
      "False Negative Rate:  0.003433846546987798  FN:  430  TN:  124794\n",
      "{'anc': 0.7799720571727563, 'aog': 0.6663098113177209, 'asd': 0.7172937456379284, 'ast': 0.5231136615706788, 'bor': 0.6125398254499771, 'boring': 0.5301405495687116, 'box': 0.8233901196109168, 'bux': 0.517974862899531, 'bwo': 0.908010395559799, 'ceek': 0.5868814920669513, 'ctxc': 0.904308508000647, 'dao': 0.5173339094917315, 'dvf': 0.9783199923470358, 'elg': 0.5442937158418674, 'firo': 0.9716033809114377, 'fis': 0.6908451857584379, 'gt': 0.6097426841864931, 'hec': 0.609527444833761, 'hive': 0.5504065528821566, 'koge': 0.5071943165907495, 'mana': 0.6999665229104588, 'nftx': 0.5464692125860284, 'ngm': 0.9200510307113023, 'nif': 0.9012578803534029, 'nmkr': 0.9197152885537053, 'ooe': 0.520495255372009, 'pha': 0.6870344191804169, 'pinksale': 0.9044828344618553, 'plex': 0.8347078494106482, 'pltc': 0.5602983409648127, 'pop': 0.5352780287446836, 'raca': 0.5995714264962001, 'regen': 0.5301405495687116, 'rfr': 0.5044888364331614, 'rmrk': 0.7042835366627581, 'rsv': 0.5733840553044081, 'sipher': 0.6250131538209486, 'skl': 0.5343989952368617, 'step': 0.6362765940020838, 'talk': 0.7319871473018476, 'usdc': 0.9809668028427465, 'usdd': 0.6705774650001214, 'vrsc': 0.6389461666923419, 'waxp': 0.659345028118285, 'wrx': 0.7992607320861183, 'xdb': 0.6006624750582306, 'ycc': 0.5761252888539848}\n",
      "47\n"
     ]
    }
   ],
   "source": [
    "from sklearn.ensemble import GradientBoostingClassifier\n",
    "\n",
    "model5 = GradientBoostingClassifier().fit(X_train, y_train)\n",
    "\n",
    "y_train_pred = model5.predict(X_train)\n",
    "y_test_pred = model5.predict(X_test)\n",
    "y_pred = model5.predict(X)\n",
    "\n",
    "print(classification_report(y_train, y_train_pred))\n",
    "print(classification_report(y_test, y_test_pred))\n",
    "print(classification_report(y, y_pred))\n",
    "\n",
    "tn, fp, fn, tp  = confusion_matrix(y_test, y_test_pred).ravel()\n",
    "\n",
    "FPP = fp/(fp+tp)\n",
    "FNP = fn/(tn+fn)\n",
    "\n",
    "print('False Positive Percentage: ', FPP, ' FP: ', fp, ' TP: ', tp)\n",
    "print('False Negative Rate: ', FNP, ' FN: ', fn, ' TN: ', tn)\n",
    "\n",
    "gb_pred = model5.predict(test_now)\n",
    "gb_pred_proba = model5.predict_proba(test_now)\n",
    "gb_pred_coin = {}\n",
    "for i in range(len(gb_pred)):\n",
    "    if gb_pred[i] == 1:\n",
    "        gb_pred_coin[coin_list[i]] = gb_pred_proba[i][1]\n",
    "print(gb_pred_coin)\n",
    "print(len(gb_pred_coin))\n"
   ]
  },
  {
   "cell_type": "markdown",
   "metadata": {},
   "source": [
    "# Is_pump not in a single day"
   ]
  },
  {
   "cell_type": "code",
   "execution_count": 6,
   "metadata": {},
   "outputs": [
    {
     "name": "stderr",
     "output_type": "stream",
     "text": [
      " 69%|██████▉   | 574/831 [03:59<01:14,  3.46it/s]c:\\Users\\asus\\Anaconda3\\lib\\site-packages\\ipykernel_launcher.py:19: RuntimeWarning: divide by zero encountered in double_scalars\n",
      "100%|██████████| 831/831 [05:55<00:00,  2.34it/s]\n"
     ]
    }
   ],
   "source": [
    "PUMP_THRESHOLD = 3\n",
    "WINDOW_BEFORE = 30\n",
    "WINDOW_AFTER = 30\n",
    "\n",
    "data_x = []\n",
    "data_y = []\n",
    "for i in tqdm(list_checked):\n",
    "    max_idx = max(df_checked[i].index)\n",
    "    df_checked_dropna = df_checked[i].dropna()\n",
    "    for j in df_checked_dropna.index:\n",
    "        if j + WINDOW_BEFORE < max_idx-1:\n",
    "            df_temp = df_checked_dropna.iloc[j:j+WINDOW_BEFORE]\n",
    "            one_data = [i, df_temp['snapped_at'].values[0]] + df_temp['pct_change'].values.tolist()\n",
    "            try:\n",
    "                low_bound = j+WINDOW_BEFORE\n",
    "                up_bound = min([low_bound+WINDOW_AFTER,max_idx+1])\n",
    "                df_temp_next = df_checked_dropna.iloc[low_bound:up_bound]\n",
    "                max_price = max(df_temp_next['price'])\n",
    "                pct_to_max = (max_price - df_temp['price'].values[-1])/df_temp['price'].values[-1]\n",
    "                if  pct_to_max > PUMP_THRESHOLD:\n",
    "                    data_y.append(1)\n",
    "                else:\n",
    "                    data_y.append(0)\n",
    "                data_x.append(one_data)\n",
    "            except: continue"
   ]
  },
  {
   "cell_type": "code",
   "execution_count": 11,
   "metadata": {},
   "outputs": [],
   "source": [
    "TEST_SIZE = 0.2\n",
    "\n",
    "prediktor_real = pd.DataFrame(data_x)\n",
    "prediktor_real['target'] = data_y\n",
    "\n",
    "prediktor = pd.DataFrame(data_x)\n",
    "prediktor['target'] = data_y\n",
    "prediktor.replace([np.inf, -np.inf], np.nan, inplace=True)\n",
    "prediktor = prediktor.dropna()\n",
    "prediktor_0 = prediktor[prediktor['target'] == 0]\n",
    "prediktor_1 = prediktor[prediktor['target'] == 1]\n",
    "prediktor_0 = prediktor_0.sample(n=int(len(prediktor_0)))\n",
    "\n",
    "prediktor = pd.concat([prediktor_0, prediktor_1]).drop([0,1],1)\n",
    "target = prediktor['target']\n",
    "prediktor = prediktor.drop('target',1)\n",
    "\n",
    "\n",
    "X_train, X_test, y_train, y_test = train_test_split(prediktor, target, test_size= TEST_SIZE)\n",
    "\n",
    "scale = SMOTE()\n",
    "X_train,y_train = scale.fit_resample(X_train, y_train)\n",
    "\n",
    "X = prediktor_real[np.arange(2,2+WINDOW_AFTER).tolist()]\n",
    "y = prediktor_real['target']"
   ]
  },
  {
   "cell_type": "code",
   "execution_count": 8,
   "metadata": {},
   "outputs": [],
   "source": [
    "arr_pred = []\n",
    "for i in df_checked.keys():\n",
    "    data_now = df_checked[i].iloc[-WINDOW_BEFORE:]\n",
    "    arr_pred.append(data_now['pct_change'].values.tolist())\n",
    "test_now = pd.DataFrame(arr_pred).dropna()\n"
   ]
  },
  {
   "cell_type": "code",
   "execution_count": 40,
   "metadata": {},
   "outputs": [
    {
     "name": "stdout",
     "output_type": "stream",
     "text": [
      "              precision    recall  f1-score   support\n",
      "\n",
      "           0       0.74      0.85      0.80      9690\n",
      "           1       0.83      0.71      0.76      9690\n",
      "\n",
      "    accuracy                           0.78     19380\n",
      "   macro avg       0.79      0.78      0.78     19380\n",
      "weighted avg       0.79      0.78      0.78     19380\n",
      "\n",
      "              precision    recall  f1-score   support\n",
      "\n",
      "           0       0.64      0.80      0.71      2388\n",
      "           1       0.74      0.56      0.64      2444\n",
      "\n",
      "    accuracy                           0.68      4832\n",
      "   macro avg       0.69      0.68      0.68      4832\n",
      "weighted avg       0.69      0.68      0.68      4832\n",
      "\n",
      "              precision    recall  f1-score   support\n",
      "\n",
      "           0       0.99      0.79      0.88    687506\n",
      "           1       0.05      0.68      0.10     12078\n",
      "\n",
      "    accuracy                           0.78    699584\n",
      "   macro avg       0.52      0.73      0.49    699584\n",
      "weighted avg       0.98      0.78      0.86    699584\n",
      "\n",
      "False Positive Percentage:  0.259656652360515  FP:  484  TP:  1380\n",
      "False Negative Rate:  0.3584905660377358  FN:  1064  TN:  1904\n",
      "{'ach': 0.8, 'adx': 0.6, 'albt': 0.6, 'ankr': 0.6, 'aog': 0.8, 'ark': 0.6, 'arpa': 0.6, 'ast': 0.6, 'astr': 0.6, 'ata': 0.6, 'auction': 0.6, 'avax': 0.6, 'bcn': 1.0, 'blz': 0.6, 'bor': 0.6, 'boring': 0.8, 'box': 1.0, 'btt': 0.6, 'bux': 0.6, 'bwo': 0.6, 'cdt': 0.6, 'ceek': 0.8, 'celo': 0.6, 'ctxc': 0.6, 'cube': 0.8, 'deto': 0.6, 'dext': 1.0, 'dfx': 0.6, 'dvf': 1.0, 'dvi': 0.6, 'dvpn': 0.6, 'egld': 0.6, 'elon': 0.6, 'etc': 0.6, 'farm': 0.6, 'firo': 0.8, 'fis': 0.8, 'flow': 0.8, 'fun': 0.6, 'fx': 0.6, 'gns': 0.8, 'grt': 0.6, 'gt': 0.8, 'hec': 0.6, 'hero': 0.6, 'hi': 0.6, 'ibeur': 0.6, 'inst': 0.8, 'juno': 0.6, 'kiro': 0.6, 'koge': 0.6, 'krl': 0.6, 'lat': 0.6, 'lina': 0.6, 'loomold': 0.6, 'lsk': 0.6, 'mana': 0.6, 'map': 0.6, 'maps': 0.6, 'mex': 0.6, 'mim': 0.6, 'mix': 1.0, 'mvl': 0.8, 'nexo': 0.6, 'nft': 0.6, 'nftx': 0.8, 'ngm': 0.6, 'nif': 1.0, 'nim': 0.8, 'nmkr': 1.0, 'nu': 0.6, 'ogn': 0.8, 'om': 0.6, 'ovr': 1.0, 'oxy': 0.6, 'peak': 1.0, 'pha': 0.8, 'pinksale': 0.8, 'plex': 1.0, 'pltc': 0.8, 'pop': 1.0, 'prom': 0.6, 'pundix': 0.8, 'raca': 0.6, 'rad': 0.6, 'rail': 1.0, 'ray': 0.6, 'regen': 0.8, 'rep': 0.6, 'rfr': 1.0, 'ride': 0.6, 'rif': 0.6, 'rise': 0.8, 'rmrk': 0.6, 'rook': 0.6, 'rsr': 0.8, 'RSS3': 1.0, 'rsv': 1.0, 'rune': 0.8, 'rvp': 0.6, 'sai': 0.6, 'saito': 0.6, 'sbd': 0.6, 'sbtc': 0.8, 'seth2': 0.6, 'sgb': 0.6, 'skl': 0.6, 'slnd': 0.6, 'sov': 0.6, 'srm': 0.6, 'stc': 1.0, 'step': 1.0, 'steth': 0.6, 'super': 0.6, 'susd': 0.8, 'sushi': 0.6, 'swap': 0.6, 'talk': 0.8, 'tel': 0.8, 'temple': 0.6, 'trb': 0.6, 'tribe': 0.6, 'tt': 0.6, 'usdc': 1.0, 'usdd': 0.8, 'usdx': 0.6, 'waxp': 1.0, 'wcfg': 0.6, 'win': 0.6, 'wing': 0.6, 'wrld': 0.8, 'wrx': 0.8, 'xmon': 0.6, 'xrp': 1.0, 'xtz': 0.6, 'xvs': 0.6}\n",
      "136\n"
     ]
    }
   ],
   "source": [
    "from sklearn.neighbors import KNeighborsClassifier\n",
    "\n",
    "model1 = KNeighborsClassifier().fit(X_train, y_train)\n",
    "\n",
    "y_train_pred = model1.predict(X_train)\n",
    "y_test_pred = model1.predict(X_test)\n",
    "y_pred = model1.predict(X)\n",
    "\n",
    "print(classification_report(y_train, y_train_pred))\n",
    "print(classification_report(y_test, y_test_pred))\n",
    "print(classification_report(y, y_pred))\n",
    "\n",
    "tn, fp, fn, tp  = confusion_matrix(y_test, y_test_pred).ravel()\n",
    "\n",
    "FPP = fp/(fp+tp)\n",
    "FNP = fn/(tn+fn)\n",
    "\n",
    "print('False Positive Percentage: ', FPP, ' FP: ', fp, ' TP: ', tp)\n",
    "print('False Negative Rate: ', FNP, ' FN: ', fn, ' TN: ', tn)\n",
    "\n",
    "knn_pred = model1.predict(test_now)\n",
    "knn_pred_proba = model1.predict_proba(test_now)\n",
    "knn_pred_coin = {}\n",
    "for i in range(len(knn_pred)):\n",
    "    if knn_pred[i] == 1:\n",
    "        knn_pred_coin[coin_list[i]] = knn_pred_proba[i][1]\n",
    "print(knn_pred_coin)\n",
    "print(len(knn_pred_coin))\n",
    "\n"
   ]
  },
  {
   "cell_type": "code",
   "execution_count": 13,
   "metadata": {},
   "outputs": [
    {
     "name": "stdout",
     "output_type": "stream",
     "text": [
      "              precision    recall  f1-score   support\n",
      "\n",
      "           0       0.61      0.71      0.66    536920\n",
      "           1       0.65      0.55      0.60    536920\n",
      "\n",
      "    accuracy                           0.63   1073840\n",
      "   macro avg       0.63      0.63      0.63   1073840\n",
      "weighted avg       0.63      0.63      0.63   1073840\n",
      "\n",
      "              precision    recall  f1-score   support\n",
      "\n",
      "           0       0.98      0.70      0.82    134249\n",
      "           1       0.04      0.52      0.07      3191\n",
      "\n",
      "    accuracy                           0.70    137440\n",
      "   macro avg       0.51      0.61      0.45    137440\n",
      "weighted avg       0.96      0.70      0.80    137440\n",
      "\n",
      "              precision    recall  f1-score   support\n",
      "\n",
      "           0       0.98      0.71      0.82    671169\n",
      "           1       0.04      0.55      0.08     16029\n",
      "\n",
      "    accuracy                           0.70    687198\n",
      "   macro avg       0.51      0.63      0.45    687198\n",
      "weighted avg       0.96      0.70      0.81    687198\n",
      "\n",
      "False Positive Percentage:  0.9600897618415655  FP:  39789  TP:  1654\n",
      "False Negative Rate:  0.016010917007823162  FN:  1537  TN:  94460\n",
      "{'10set': 0.5061450988348254, '1inch': 0.5003257730664911, 'adco': 0.5002754723815723, 'ads': 0.5008319262577486, 'aergo': 0.5006616513948502, 'aion': 0.501675090098693, 'alcx': 0.5003944180957857, 'algo': 0.5006616513948502, 'alice': 0.5003143771844806, 'alpaca': 0.5008319262577486, 'alpine': 0.5008319262577486, 'alu': 0.5008319262577486, 'amp': 0.501864930996819, 'ampl': 0.5014451593031493, 'anc': 0.5085617980465827, 'ant': 0.5031429624629089, 'aog': 0.5006095569671556, 'aqt': 0.5006225585416493, 'ardr': 0.5017810344630574, 'arpa': 0.5032089190847976, 'arv': 0.500753677855388, 'asd': 0.5020455176421199, 'ast': 0.5028756736583209, 'atm': 0.5006339544103378, 'aury': 0.5006818252197928, 'auto': 0.5004620582227894, 'ava': 0.5005557059219937, 'avt': 0.5048671554828006, 'axel': 0.5005015559420792, 'babydoge': 0.5027938516767193, 'bat': 0.5015830644307268, 'bcd': 0.5027200671558378, 'bdx': 0.5003040619695305, 'bit': 0.5008319262577486, 'bmx': 0.5006767191206224, 'bnb': 0.5008319262577486, 'boa': 0.5003459469187435, 'boba': 0.5001175441667618, 'bond': 0.5006339544103378, 'bor': 0.5065082398099486, 'boring': 0.5036086894016739, 'box': 0.5024037705562007, 'btg': 0.500753677855388, 'btr': 0.500660030246341, 'btt': 0.500406403781552, 'bux': 0.5007918714704608, 'bwo': 0.5051869298499846, 'c98': 0.5017810344630574, 'cate': 0.501317939049996, 'cbat': 0.5010841672094651, 'chz': 0.5013772793098752, 'city': 0.500753677855388, 'coc': 0.5017810344630574, 'core': 0.5015830644307268, 'cot': 0.5008319262577486, 'coti': 0.500753677855388, 'cre': 0.5006178084729065, 'cream': 0.5006616513948502, 'crts': 0.5005557059219937, 'cspr': 0.5007674505334161, 'ctxc': 0.50040132823929, 'cube': 0.501316852486507, 'cusdc': 0.5015916474233856, 'cvx': 0.502392534997174, 'cvxcrv': 0.503747387391522, 'cweb': 0.5015990771717299, 'dao': 0.5017810344630574, 'dash': 0.500660030246341, 'ddx': 0.501013832075711, 'dei': 0.5008319262577486, 'dep': 0.5006818252197928, 'dexe': 0.5033425333139288, 'dg': 0.5004620582227894, 'dhn': 0.5014215610870617, 'DIA': 0.5004728682701196, 'divi': 0.5005557059219937, 'dka': 0.500753677855388, 'dnt': 0.5005540847726493, 'dusk': 0.5138133421406331, 'dvi': 0.5006225585416493, 'elf': 0.5022387462932, 'es': 0.5014612153990848, 'eurs': 0.5002668464233456, 'eurt': 0.5008319262577486, 'feg': 0.5015830644307268, 'fida': 0.5008319262577486, 'fil': 0.5011759035662875, 'fitfi': 0.5006616513948502, 'flow': 0.5007259808850231, 'frax': 0.5008319262577486, 'front': 0.5017810344630574, 'ftm': 0.5005765994789272, 'fwt': 0.5017810344630574, 'gas': 0.5003257730664911, 'gbex': 0.5006818252197928, 'gno': 0.5017810344630574, 'gods': 0.5017810344630574, 'grs': 0.5005064441162423, 'gst-bsc': 0.5020317152941208, 'gtc': 0.5007259808850231, 'gusd': 0.5008319262577486, 'gxt': 0.5011048304905736, 'gyen': 0.5017810344630574, 'hbtc': 0.5019045150562923, 'hc': 0.500446800955535, 'hero': 0.5004281677181934, 'hoo': 0.5012748853202109, 'hot': 0.501864930996819, 'hxro': 0.5006616513948502, 'hydra': 0.5008174014858704, 'icp': 0.5033793685666492, 'ieth': 0.5017163915206949, 'ilv': 0.5004620582227894, 'inj': 0.5017810344630574, 'inst': 0.5007928334432751, 'jasmy': 0.500753677855388, 'jet': 0.5003423960004301, 'jewel': 0.500406403781552, 'joe': 0.500753677855388, 'kilt': 0.5033627204460597, 'kiro': 0.5006616513948502, 'klay': 0.5004724498063465, 'kncl': 0.5007071947703695, 'kp3r': 0.5003514827693645, 'kripto': 0.5008319262577486, 'krl': 0.504664138289294, 'kub': 0.5023353519225425, 'lcx': 0.5038988356053427, 'lina': 0.501483077798906, 'link': 0.5000487296589539, 'ln': 0.5002844804724764, 'lon': 0.5008205304021859, 'loomold': 0.502786452327645, 'lpt': 0.5005540847726493, 'lqty': 0.5045889774561921, 'lrc': 0.5033113820554581, 'luffy': 0.5011430664619371, 'magic': 0.5006616513948502, 'map': 0.501081883271422, 'math': 0.500753677855388, 'matic': 0.5024966522580794, 'mbox': 0.5006616513948502, 'mdt': 0.5006616513948502, 'metis': 0.5006616513948502, 'mex': 0.5027200671558378, 'mina': 0.50158144329562, 'miota': 0.5002774548427262, 'mir': 0.5021745359726497, 'mix': 0.5008319262577486, 'mlk': 0.5004442685669787, 'mnw': 0.5006616513948502, 'msol': 0.5017810344630574, 'mtl': 0.5017165593625393, 'mtrg': 0.5022493198864415, 'musd': 0.5017322202922055, 'mxc': 0.5001705656143466, 'nct': 0.5008781300338946, 'nexo': 0.502297739215371, 'nftx': 0.5043574546160609, 'nif': 0.5031652291205789, 'nkn': 0.5017810344630574, 'nmx': 0.5017810344630574, 'noia': 0.5004620582227894, 'nuls': 0.5006339544103378, 'ocean': 0.5008319262577486, 'ohm': 0.5013176498165274, 'olt': 0.5015084605433995, 'om': 0.500753677855388, 'omg': 0.5017810344630574, 'omi': 0.5009426864454494, 'ooki': 0.5004341536391772, 'op': 0.5017533377780383, 'orbs': 0.501675090098693, 'orn': 0.5006376600168164, 'ovr': 0.5008562678979145, 'oxt': 0.5007044160987939, 'pdex': 0.5017810344630574, 'peak': 0.5016728631460413, 'phonon': 0.5051726169201395, 'pinksale': 0.5004064566277441, 'pltc': 0.5006616513948502, 'plu': 0.500753677855388, 'pnk': 0.5027938516767193, 'pny': 0.5039804855440201, 'pokt': 0.500772184692578, 'powr': 0.5006616513948502, 'prom': 0.5018092740714118, 'prq': 0.5010047804048704, 'pstake': 0.5005201942803071, 'pyr': 0.5001922418387068, 'qash': 0.5037136092547246, 'qi': 0.5006616513948502, 'qkc': 0.501198870513134, 'qom': 0.501406066703282, 'qtum': 0.505338940134628, 'rare': 0.5005064441162423, 'rari': 0.5003222221479863, 'rbn': 0.5013295351386865, 'rch': 0.5015184471970913, 'regen': 0.5017810344630574, 'req': 0.5036506159672657, 'rev': 0.5006225585416493, 'rfr': 0.5029857034665581, 'rgt': 0.5022164653651683, 'rly': 0.5005064441162423, 'root': 0.5017810344630574, 'rpl': 0.5019012805416785, 'RSS3': 0.5008205304021859, 'rsv': 0.5004822320661557, 'rune': 0.5008319262577486, 'safemoon': 0.5024489089048371, 'savax': 0.5026592231237513, 'sc': 0.500533202927481, 'scrt': 0.5017810344630574, 'sdao': 0.5014884132334239, 'sero': 0.5024689559100078, 'seth2': 0.5026482164428651, 'shib': 0.5017810344630574, 'snow': 0.5018511117986514, 'SNT': 0.5014859740478079, 'snx': 0.5004846523185127, 'sov': 0.5023942599975594, 'starl': 0.5017810344630574, 'stars': 0.505737148422423, 'steth': 0.5048345382380311, 'stx': 0.5002303478491507, 'sure': 0.5005090257395618, 'sushi': 0.5003719769552561, 'swapxi': 0.5015681379616613, 'syn': 0.501736743970284, 'sys': 0.5020709209662256, 'taboo': 0.5020556096968084, 'tfuel': 0.5013669113228304, 'theta': 0.5002453896518412, 'time': 0.5013295351386865, 'titan': 0.5012002811769095, 'tlm': 0.5027200671558378, 'tone': 0.5004945454342322, 'tonic': 0.5008319262577486, 'tor': 0.5006616513948502, 'tpt': 0.5007237539120902, 'tru': 0.5026862881259714, 'tryb': 0.5020358108139946, 'tusd': 0.5002719894248935, 'twt': 0.5005048229665592, 'uos': 0.5155103038164178, 'usdt': 0.5012748853202109, 'velo': 0.5007044160987939, 'vid': 0.5006616513948502, 'vires': 0.5017810344630574, 'vita': 0.5006339544103378, 'vr': 0.5008284150461092, 'vro': 0.5002303219024891, 'vvs': 0.500433356920749, 'waxp': 0.5002361362212707, 'whale': 0.5000509037886837, 'wild': 0.5004846523185127, 'woo': 0.5018580035522442, 'woop': 0.50047030673776, 'wrld': 0.5007145850219916, 'x2y2': 0.5006616513948502, 'xcad': 0.5024052971211276, 'xch': 0.5001236632948806, 'xcm': 0.5099282265601444, 'xdb': 0.500772184692578, 'xdc': 0.500753677855388, 'xem': 0.5017810344630574, 'xmon': 0.5006339544103378, 'xmr': 0.5006339544103378, 'xno': 0.5014217779152, 'xpr': 0.5040415578283873, 'xprt': 0.500423606448383, 'xsushi': 0.5007044160987939, 'ycc': 0.5009941501400529, 'yld': 0.503747387391522}\n",
      "275\n"
     ]
    }
   ],
   "source": [
    "from sklearn.ensemble import RandomForestClassifier,AdaBoostClassifier\n",
    "\n",
    "model2 = AdaBoostClassifier().fit(X_train, y_train)\n",
    "\n",
    "y_train_pred = model2.predict(X_train)\n",
    "y_test_pred = model2.predict(X_test)\n",
    "y_pred = model2.predict(X)\n",
    "\n",
    "print(classification_report(y_train, y_train_pred))\n",
    "print(classification_report(y_test, y_test_pred))\n",
    "print(classification_report(y, y_pred))\n",
    "\n",
    "tn, fp, fn, tp  = confusion_matrix(y_test, y_test_pred).ravel()\n",
    "\n",
    "FPP = fp/(fp+tp)\n",
    "FNP = fn/(tn+fn)\n",
    "\n",
    "print('False Positive Percentage: ', FPP, ' FP: ', fp, ' TP: ', tp)\n",
    "print('False Negative Rate: ', FNP, ' FN: ', fn, ' TN: ', tn)\n",
    "\n",
    "ab_pred = model2.predict(test_now)\n",
    "ab_pred_proba = model2.predict_proba(test_now)\n",
    "ab_pred_coin = {}\n",
    "for i in range(len(ab_pred)):\n",
    "    if ab_pred[i] == 1:\n",
    "        ab_pred_coin[coin_list[i]] = ab_pred_proba[i][1]\n",
    "print(ab_pred_coin)\n",
    "print(len(ab_pred_coin))\n"
   ]
  },
  {
   "cell_type": "code",
   "execution_count": 14,
   "metadata": {},
   "outputs": [
    {
     "name": "stdout",
     "output_type": "stream",
     "text": [
      "              precision    recall  f1-score   support\n",
      "\n",
      "           0       1.00      1.00      1.00    536920\n",
      "           1       1.00      1.00      1.00    536920\n",
      "\n",
      "    accuracy                           1.00   1073840\n",
      "   macro avg       1.00      1.00      1.00   1073840\n",
      "weighted avg       1.00      1.00      1.00   1073840\n",
      "\n",
      "              precision    recall  f1-score   support\n",
      "\n",
      "           0       0.98      0.99      0.99    134249\n",
      "           1       0.19      0.07      0.10      3191\n",
      "\n",
      "    accuracy                           0.97    137440\n",
      "   macro avg       0.59      0.53      0.54    137440\n",
      "weighted avg       0.96      0.97      0.97    137440\n",
      "\n",
      "              precision    recall  f1-score   support\n",
      "\n",
      "           0       1.00      1.00      1.00    671169\n",
      "           1       0.91      0.81      0.86     16029\n",
      "\n",
      "    accuracy                           0.99    687198\n",
      "   macro avg       0.95      0.91      0.93    687198\n",
      "weighted avg       0.99      0.99      0.99    687198\n",
      "\n",
      "False Positive Percentage:  0.8068283917340521  FP:  898  TP:  215\n",
      "False Negative Rate:  0.021829864957051793  FN:  2976  TN:  133351\n",
      "{'pcl': 0.9033478336806452, 'rgt': 0.51}\n",
      "2\n"
     ]
    }
   ],
   "source": [
    "model4 = RandomForestClassifier().fit(X_train, y_train)\n",
    "\n",
    "y_train_pred = model4.predict(X_train)\n",
    "y_test_pred = model4.predict(X_test)\n",
    "y_pred = model4.predict(X)\n",
    "\n",
    "print(classification_report(y_train, y_train_pred))\n",
    "print(classification_report(y_test, y_test_pred))\n",
    "print(classification_report(y, y_pred))\n",
    "\n",
    "tn, fp, fn, tp  = confusion_matrix(y_test, y_test_pred).ravel()\n",
    "\n",
    "FPP = fp/(fp+tp)\n",
    "FNP = fn/(tn+fn)\n",
    "\n",
    "print('False Positive Percentage: ', FPP, ' FP: ', fp, ' TP: ', tp)\n",
    "print('False Negative Rate: ', FNP, ' FN: ', fn, ' TN: ', tn)\n",
    "\n",
    "rf_pred = model4.predict(test_now)\n",
    "rf_pred_proba = model4.predict_proba(test_now)\n",
    "rf_pred_coin = {}\n",
    "for i in range(len(rf_pred)):\n",
    "    if rf_pred[i] == 1:\n",
    "        rf_pred_coin[coin_list[i]] = rf_pred_proba[i][1]\n",
    "print(rf_pred_coin)\n",
    "print(len(rf_pred_coin))"
   ]
  },
  {
   "cell_type": "code",
   "execution_count": 47,
   "metadata": {},
   "outputs": [
    {
     "name": "stdout",
     "output_type": "stream",
     "text": [
      "              precision    recall  f1-score   support\n",
      "\n",
      "           0       0.66      0.79      0.72    550036\n",
      "           1       0.74      0.60      0.66    550036\n",
      "\n",
      "    accuracy                           0.69   1100072\n",
      "   macro avg       0.70      0.69      0.69   1100072\n",
      "weighted avg       0.70      0.69      0.69   1100072\n",
      "\n",
      "              precision    recall  f1-score   support\n",
      "\n",
      "           0       0.99      0.79      0.88    137470\n",
      "           1       0.05      0.63      0.09      2447\n",
      "\n",
      "    accuracy                           0.78    139917\n",
      "   macro avg       0.52      0.71      0.48    139917\n",
      "weighted avg       0.98      0.78      0.86    139917\n",
      "\n",
      "              precision    recall  f1-score   support\n",
      "\n",
      "           0       0.99      0.79      0.88    687506\n",
      "           1       0.05      0.65      0.09     12078\n",
      "\n",
      "    accuracy                           0.78    699584\n",
      "   macro avg       0.52      0.72      0.49    699584\n",
      "weighted avg       0.98      0.78      0.86    699584\n",
      "\n",
      "False Positive Percentage:  0.950473368970181  FP:  29516  TP:  1538\n",
      "False Negative Rate:  0.008349944425562405  FN:  909  TN:  107954\n",
      "{'agld': 0.545042483419503, 'anc': 0.7747007084001092, 'aog': 0.619824210376804, 'arpa': 0.5358072802250493, 'asd': 0.7034754209664607, 'ast': 0.6890697266645711, 'babydoge': 0.5293732899347808, 'bcn': 0.6112561785307795, 'bor': 0.8291616287160644, 'boring': 0.6285276579129458, 'box': 0.7505018274207239, 'brg.x': 0.5484472866712884, 'btr': 0.5018371893987793, 'bux': 0.5131025470173355, 'bwo': 0.8965627243901114, 'cdt': 0.6003569182246807, 'ceek': 0.6898753473158263, 'cocos': 0.5248396120357801, 'cre': 0.5869623000630461, 'ctxc': 0.5017802159454074, 'cusdc': 0.5582539748374014, 'cvxcrv': 0.678325811884539, 'cweb': 0.5268237936962373, 'cxo': 0.5297288767566358, 'deto': 0.5755719260364507, 'dext': 0.6055354746842123, 'dvf': 0.8862424145246764, 'elg': 0.5716811517653104, 'firo': 0.5969455369802635, 'fis': 0.5902302810635421, 'fun': 0.5484304835921378, 'ghst': 0.5083110223729655, 'gns': 0.5038938693498948, 'grt': 0.5595003264267451, 'gt': 0.5262025941566814, 'HARD': 0.5579008485935155, 'hec': 0.6800398474884164, 'ibeur': 0.5455426460683553, 'idex': 0.5499948529296014, 'koge': 0.6320125256116466, 'lend': 0.5062955833004076, 'ln': 0.5576609401510431, 'loka': 0.5704086655281883, 'ltc': 0.5188344673601905, 'lusd': 0.5051009908732383, 'mana': 0.5261342754137495, 'mask': 0.552150504866361, 'mdt': 0.5109725988436055, 'mim': 0.5026760512468536, 'mix': 0.5317528423200487, 'mvl': 0.5584242879231158, 'nftx': 0.6445384304888547, 'ngm': 0.7978424453919278, 'nif': 0.827519816975021, 'nmkr': 0.8724717486843654, 'ooe': 0.7002200957085143, 'oxy': 0.515939338628219, 'pha': 0.6586335234347652, 'pinksale': 0.523360779453838, 'plex': 0.755616413522306, 'pltc': 0.5587040324183082, 'poly': 0.5871296332265455, 'pop': 0.6257033224421586, 'qash': 0.5203231695418523, 'qkc': 0.6475159446836642, 'quick': 0.5229739479703679, 'raca': 0.6956202833799557, 'regen': 0.5669853035087647, 'rfr': 0.7462347678730742, 'rif': 0.6192371153206573, 'rise': 0.5949145728377337, 'rmrk': 0.7290138769406437, 'rsv': 0.6287003502147485, 'rune': 0.5180104788134122, 'sbtc': 0.5439499760818348, 'sipher': 0.5740005237407431, 'skl': 0.5264494178408088, 'sofi': 0.5150749018643054, 'sov': 0.5292662318116331, 'stc': 0.5101158437665343, 'step': 0.7409457599200691, 'super': 0.6282735966225732, 'talk': 0.6278871318137007, 'temple': 0.5117143417602521, 'toke': 0.5677894238611326, 'tribe': 0.5414390390882864, 'tru': 0.5634020426115511, 'tt': 0.664681171074452, 'tusd': 0.5485281649860614, 'usdc': 0.959740601663976, 'usdd': 0.6720962115227026, 'usdx': 0.564805080623778, 'usv': 0.5090661024896005, 'valor': 0.5022753181381417, 'vrsc': 0.5124276124531819, 'waxp': 0.5588552362702035, 'wcfg': 0.5791179553377261, 'wrx': 0.6501293051131156, 'xdg': 0.5293822558974274, 'xrp': 0.6501261536599002, 'xsgd': 0.616486249221372, 'xvs': 0.7015044860257892, 'ycc': 0.516451684962594, 'zb': 0.5055705268267474}\n",
      "104\n"
     ]
    }
   ],
   "source": [
    "from sklearn.ensemble import GradientBoostingClassifier\n",
    "\n",
    "model5 = GradientBoostingClassifier().fit(X_train, y_train)\n",
    "\n",
    "y_train_pred = model5.predict(X_train)\n",
    "y_test_pred = model5.predict(X_test)\n",
    "y_pred = model5.predict(X)\n",
    "\n",
    "print(classification_report(y_train, y_train_pred))\n",
    "print(classification_report(y_test, y_test_pred))\n",
    "print(classification_report(y, y_pred))\n",
    "\n",
    "tn, fp, fn, tp  = confusion_matrix(y_test, y_test_pred).ravel()\n",
    "\n",
    "FPP = fp/(fp+tp)\n",
    "FNP = fn/(tn+fn)\n",
    "\n",
    "print('False Positive Percentage: ', FPP, ' FP: ', fp, ' TP: ', tp)\n",
    "print('False Negative Rate: ', FNP, ' FN: ', fn, ' TN: ', tn)\n",
    "\n",
    "gb_pred = model5.predict(test_now)\n",
    "gb_pred_proba = model5.predict_proba(test_now)\n",
    "gb_pred_coin = {}\n",
    "for i in range(len(gb_pred)):\n",
    "    if gb_pred[i] == 1:\n",
    "        gb_pred_coin[coin_list[i]] = gb_pred_proba[i][1]\n",
    "print(gb_pred_coin)\n",
    "print(len(gb_pred_coin))\n"
   ]
  },
  {
   "cell_type": "code",
   "execution_count": 34,
   "metadata": {},
   "outputs": [
    {
     "name": "stdout",
     "output_type": "stream",
     "text": [
      "              precision    recall  f1-score   support\n",
      "\n",
      "           0       0.99      0.84      0.91    687506\n",
      "           1       0.06      0.58      0.11     12078\n",
      "\n",
      "    accuracy                           0.84    699584\n",
      "   macro avg       0.53      0.71      0.51    699584\n",
      "weighted avg       0.98      0.84      0.90    699584\n",
      "\n",
      "False Positive Percentage:  0.2058660763696735  FP:  372  TP:  1435\n",
      "False Negative Rate:  0.331900826446281  FN:  1004  TN:  2021\n",
      "{'agld': 0.6149510519261696, 'alcx': 0.5339189119367447, 'anc': 0.6658286331525574, 'aog': 0.5000212312899125, 'arpa': 0.5116871089946677, 'ast': 0.6657068442368086, 'bor': 0.7848289992141417, 'boring': 0.5681592561272311, 'box': 0.804528048971406, 'bwo': 0.813820245805573, 'cdt': 0.5947313592001251, 'ceek': 0.7381073308721966, 'ctxc': 0.6410255000731411, 'cvxcrv': 0.624233222060866, 'deto': 0.5381761337185367, 'dext': 0.5273484042645364, 'dvf': 0.5072101474961777, 'elg': 0.5439579500205127, 'firo': 0.8511377685862271, 'fun': 0.6327088849253073, 'gt': 0.5676105923133719, 'hec': 0.6515667712085929, 'koge': 0.7475527548515402, 'lend': 0.5011361218583152, 'ln': 0.5732443773834177, 'mana': 0.8049142596670436, 'mask': 0.5827786433270319, 'mix': 0.5482176472257123, 'nftx': 0.6683494964457282, 'ngm': 0.8696478903212892, 'nif': 0.9754928478641887, 'nmkr': 0.9295481655100275, 'ooe': 0.6497952233546584, 'pha': 0.7662943206231034, 'pinksale': 0.8545362388886133, 'plex': 0.6250146097400773, 'pltc': 0.7224398675392649, 'pop': 0.8411337281472697, 'pundix': 0.8367564586696972, 'qkc': 0.5266868121558872, 'raca': 0.6203831967849851, 'regen': 0.6001298206742263, 'rei': 0.6589346882449831, 'rfr': 0.6138698104657294, 'rif': 0.622642938762624, 'rise': 0.5978719721061054, 'rly': 0.5650215464674346, 'rook': 0.5130869365496515, 'RSS3': 0.6622573361507307, 'rsv': 0.6219425389945172, 'sbtc': 0.5179597757076948, 'skl': 0.6610133485835377, 'stc': 0.601105425782265, 'step': 0.876341159794606, 'super': 0.7200004637643929, 'talk': 0.8359882839988586, 'temple': 0.5092423052072341, 'tru': 0.5747743640801559, 'tt': 0.5373308538202792, 'usdc': 0.9750729430330694, 'usdd': 0.5974852334719856, 'usdx': 0.5588746454025539, 'waxp': 0.8007808878628566, 'wcfg': 0.6434188511253183, 'wrx': 0.7776253299205109, 'xdb': 0.5280619244572762, 'xdg': 0.5516062259484613, 'xrp': 0.7619334324959368, 'xsgd': 0.5831617088344103, 'xvs': 0.7131892840258729, 'ycc': 0.5077630335388079}\n",
      "71\n"
     ]
    }
   ],
   "source": [
    "from sklearn.gaussian_process import GaussianProcessClassifier\n",
    "\n",
    "model = GaussianProcessClassifier().fit(X_train, y_train)\n",
    "\n",
    "y_train_pred = model.predict(X_train)\n",
    "y_test_pred = model.predict(X_test)\n",
    "n_loop = int(len(prediktor_real)/len(X_train))\n",
    "y_pred = []\n",
    "for i in range(n_loop+1):\n",
    "    print((i+1)/n_loop)\n",
    "    right_bound = np.min([(i+1)*len(X_train),len(prediktor_real)])\n",
    "    X_partial = prediktor_real.iloc[i*len(X_train):right_bound]\n",
    "    y_target = X_partial['target']\n",
    "    X_partial = X_partial[np.arange(2,17).tolist()]\n",
    "    y_pred = y_pred + model.predict(X_partial).tolist()\n",
    "print(classification_report(y_train, y_train_pred))\n",
    "print(classification_report(y_test, y_test_pred))\n",
    "print(classification_report(prediktor_real['target'], y_pred))\n",
    "\n",
    "tn, fp, fn, tp  = confusion_matrix(y_test, y_test_pred).ravel()\n",
    "\n",
    "FPP = fp/(fp+tp)\n",
    "FNP = fn/(tn+fn)\n",
    "\n",
    "print('False Positive Percentage: ', FPP, ' FP: ', fp, ' TP: ', tp)\n",
    "print('False Negative Rate: ', FNP, ' FN: ', fn, ' TN: ', tn)\n",
    "\n",
    "gpr_pred = model.predict(test_now)\n",
    "gpr_pred_proba = model.predict_proba(test_now)\n",
    "gpr_pred_coin = {}\n",
    "for i in range(len(gpr_pred)):\n",
    "    if gpr_pred[i] == 1:\n",
    "        gpr_pred_coin[coin_list[i]] = gpr_pred_proba[i][1]\n",
    "print(gpr_pred_coin)\n",
    "print(len(gpr_pred_coin))"
   ]
  },
  {
   "cell_type": "code",
   "execution_count": 25,
   "metadata": {},
   "outputs": [
    {
     "name": "stderr",
     "output_type": "stream",
     "text": [
      "c:\\Users\\asus\\Anaconda3\\lib\\site-packages\\ipykernel_launcher.py:5: SettingWithCopyWarning: \n",
      "A value is trying to be set on a copy of a slice from a DataFrame.\n",
      "Try using .loc[row_indexer,col_indexer] = value instead\n",
      "\n",
      "See the caveats in the documentation: https://pandas.pydata.org/pandas-docs/stable/user_guide/indexing.html#returning-a-view-versus-a-copy\n",
      "  \"\"\"\n"
     ]
    }
   ],
   "source": [
    "DATE_LIST = np.unique(prediktor_real[1])\n",
    "DATE_LAST = 365\n",
    "\n",
    "data_pump = prediktor_real[prediktor_real['target'] == 1]\n",
    "data_pump['target_pred'] = y_pred\n",
    "\n",
    "dict_num_pump = {}\n",
    "dict_num_pump_pred = {}\n",
    "for i in DATE_LIST[-DATE_LAST:]:\n",
    "    temp_df = data_pump[data_pump[1] == i]\n",
    "    dict_num_pump[i] = len(temp_df)\n",
    "    dict_num_pump_pred[i] = len(temp_df[temp_df['target_pred'] == 1])"
   ]
  },
  {
   "cell_type": "code",
   "execution_count": 26,
   "metadata": {},
   "outputs": [
    {
     "data": {
      "application/vnd.plotly.v1+json": {
       "config": {
        "plotlyServerURL": "https://plot.ly"
       },
       "data": [
        {
         "type": "bar",
         "x": [
          "2021-06-17 00:00:00 UTC",
          "2021-06-18 00:00:00 UTC",
          "2021-06-19 00:00:00 UTC",
          "2021-06-20 00:00:00 UTC",
          "2021-06-21 00:00:00 UTC",
          "2021-06-22 00:00:00 UTC",
          "2021-06-23 00:00:00 UTC",
          "2021-06-24 00:00:00 UTC",
          "2021-06-25 00:00:00 UTC",
          "2021-06-26 00:00:00 UTC",
          "2021-06-27 00:00:00 UTC",
          "2021-06-28 00:00:00 UTC",
          "2021-06-29 00:00:00 UTC",
          "2021-06-30 00:00:00 UTC",
          "2021-07-01 00:00:00 UTC",
          "2021-07-02 00:00:00 UTC",
          "2021-07-03 00:00:00 UTC",
          "2021-07-04 00:00:00 UTC",
          "2021-07-05 00:00:00 UTC",
          "2021-07-06 00:00:00 UTC",
          "2021-07-07 00:00:00 UTC",
          "2021-07-08 00:00:00 UTC",
          "2021-07-09 00:00:00 UTC",
          "2021-07-10 00:00:00 UTC",
          "2021-07-11 00:00:00 UTC",
          "2021-07-12 00:00:00 UTC",
          "2021-07-13 00:00:00 UTC",
          "2021-07-14 00:00:00 UTC",
          "2021-07-15 00:00:00 UTC",
          "2021-07-16 00:00:00 UTC",
          "2021-07-17 00:00:00 UTC",
          "2021-07-18 00:00:00 UTC",
          "2021-07-19 00:00:00 UTC",
          "2021-07-20 00:00:00 UTC",
          "2021-07-21 00:00:00 UTC",
          "2021-07-22 00:00:00 UTC",
          "2021-07-23 00:00:00 UTC",
          "2021-07-24 00:00:00 UTC",
          "2021-07-25 00:00:00 UTC",
          "2021-07-26 00:00:00 UTC",
          "2021-07-27 00:00:00 UTC",
          "2021-07-28 00:00:00 UTC",
          "2021-07-29 00:00:00 UTC",
          "2021-07-30 00:00:00 UTC",
          "2021-07-31 00:00:00 UTC",
          "2021-08-01 00:00:00 UTC",
          "2021-08-02 00:00:00 UTC",
          "2021-08-03 00:00:00 UTC",
          "2021-08-04 00:00:00 UTC",
          "2021-08-05 00:00:00 UTC",
          "2021-08-06 00:00:00 UTC",
          "2021-08-07 00:00:00 UTC",
          "2021-08-08 00:00:00 UTC",
          "2021-08-09 00:00:00 UTC",
          "2021-08-10 00:00:00 UTC",
          "2021-08-11 00:00:00 UTC",
          "2021-08-12 00:00:00 UTC",
          "2021-08-13 00:00:00 UTC",
          "2021-08-14 00:00:00 UTC",
          "2021-08-15 00:00:00 UTC",
          "2021-08-16 00:00:00 UTC",
          "2021-08-17 00:00:00 UTC",
          "2021-08-18 00:00:00 UTC",
          "2021-08-19 00:00:00 UTC",
          "2021-08-20 00:00:00 UTC",
          "2021-08-21 00:00:00 UTC",
          "2021-08-22 00:00:00 UTC",
          "2021-08-23 00:00:00 UTC",
          "2021-08-24 00:00:00 UTC",
          "2021-08-25 00:00:00 UTC",
          "2021-08-26 00:00:00 UTC",
          "2021-08-27 00:00:00 UTC",
          "2021-08-28 00:00:00 UTC",
          "2021-08-29 00:00:00 UTC",
          "2021-08-30 00:00:00 UTC",
          "2021-08-31 00:00:00 UTC",
          "2021-09-01 00:00:00 UTC",
          "2021-09-02 00:00:00 UTC",
          "2021-09-03 00:00:00 UTC",
          "2021-09-04 00:00:00 UTC",
          "2021-09-05 00:00:00 UTC",
          "2021-09-06 00:00:00 UTC",
          "2021-09-07 00:00:00 UTC",
          "2021-09-08 00:00:00 UTC",
          "2021-09-09 00:00:00 UTC",
          "2021-09-10 00:00:00 UTC",
          "2021-09-11 00:00:00 UTC",
          "2021-09-12 00:00:00 UTC",
          "2021-09-13 00:00:00 UTC",
          "2021-09-14 00:00:00 UTC",
          "2021-09-15 00:00:00 UTC",
          "2021-09-16 00:00:00 UTC",
          "2021-09-17 00:00:00 UTC",
          "2021-09-18 00:00:00 UTC",
          "2021-09-19 00:00:00 UTC",
          "2021-09-20 00:00:00 UTC",
          "2021-09-21 00:00:00 UTC",
          "2021-09-22 00:00:00 UTC",
          "2021-09-23 00:00:00 UTC",
          "2021-09-24 00:00:00 UTC",
          "2021-09-25 00:00:00 UTC",
          "2021-09-26 00:00:00 UTC",
          "2021-09-27 00:00:00 UTC",
          "2021-09-28 00:00:00 UTC",
          "2021-09-29 00:00:00 UTC",
          "2021-09-30 00:00:00 UTC",
          "2021-10-01 00:00:00 UTC",
          "2021-10-02 00:00:00 UTC",
          "2021-10-03 00:00:00 UTC",
          "2021-10-04 00:00:00 UTC",
          "2021-10-05 00:00:00 UTC",
          "2021-10-06 00:00:00 UTC",
          "2021-10-07 00:00:00 UTC",
          "2021-10-08 00:00:00 UTC",
          "2021-10-09 00:00:00 UTC",
          "2021-10-10 00:00:00 UTC",
          "2021-10-11 00:00:00 UTC",
          "2021-10-12 00:00:00 UTC",
          "2021-10-13 00:00:00 UTC",
          "2021-10-14 00:00:00 UTC",
          "2021-10-15 00:00:00 UTC",
          "2021-10-16 00:00:00 UTC",
          "2021-10-17 00:00:00 UTC",
          "2021-10-18 00:00:00 UTC",
          "2021-10-19 00:00:00 UTC",
          "2021-10-20 00:00:00 UTC",
          "2021-10-21 00:00:00 UTC",
          "2021-10-22 00:00:00 UTC",
          "2021-10-23 00:00:00 UTC",
          "2021-10-24 00:00:00 UTC",
          "2021-10-25 00:00:00 UTC",
          "2021-10-26 00:00:00 UTC",
          "2021-10-27 00:00:00 UTC",
          "2021-10-28 00:00:00 UTC",
          "2021-10-29 00:00:00 UTC",
          "2021-10-30 00:00:00 UTC",
          "2021-10-31 00:00:00 UTC",
          "2021-11-01 00:00:00 UTC",
          "2021-11-02 00:00:00 UTC",
          "2021-11-03 00:00:00 UTC",
          "2021-11-04 00:00:00 UTC",
          "2021-11-05 00:00:00 UTC",
          "2021-11-06 00:00:00 UTC",
          "2021-11-07 00:00:00 UTC",
          "2021-11-08 00:00:00 UTC",
          "2021-11-09 00:00:00 UTC",
          "2021-11-10 00:00:00 UTC",
          "2021-11-11 00:00:00 UTC",
          "2021-11-12 00:00:00 UTC",
          "2021-11-13 00:00:00 UTC",
          "2021-11-14 00:00:00 UTC",
          "2021-11-15 00:00:00 UTC",
          "2021-11-16 00:00:00 UTC",
          "2021-11-17 00:00:00 UTC",
          "2021-11-18 00:00:00 UTC",
          "2021-11-19 00:00:00 UTC",
          "2021-11-20 00:00:00 UTC",
          "2021-11-21 00:00:00 UTC",
          "2021-11-22 00:00:00 UTC",
          "2021-11-23 00:00:00 UTC",
          "2021-11-24 00:00:00 UTC",
          "2021-11-25 00:00:00 UTC",
          "2021-11-26 00:00:00 UTC",
          "2021-11-27 00:00:00 UTC",
          "2021-11-28 00:00:00 UTC",
          "2021-11-29 00:00:00 UTC",
          "2021-11-30 00:00:00 UTC",
          "2021-12-01 00:00:00 UTC",
          "2021-12-02 00:00:00 UTC",
          "2021-12-03 00:00:00 UTC",
          "2021-12-04 00:00:00 UTC",
          "2021-12-05 00:00:00 UTC",
          "2021-12-06 00:00:00 UTC",
          "2021-12-07 00:00:00 UTC",
          "2021-12-08 00:00:00 UTC",
          "2021-12-09 00:00:00 UTC",
          "2021-12-10 00:00:00 UTC",
          "2021-12-11 00:00:00 UTC",
          "2021-12-12 00:00:00 UTC",
          "2021-12-13 00:00:00 UTC",
          "2021-12-14 00:00:00 UTC",
          "2021-12-15 00:00:00 UTC",
          "2021-12-16 00:00:00 UTC",
          "2021-12-17 00:00:00 UTC",
          "2021-12-18 00:00:00 UTC",
          "2021-12-19 00:00:00 UTC",
          "2021-12-20 00:00:00 UTC",
          "2021-12-21 00:00:00 UTC",
          "2021-12-22 00:00:00 UTC",
          "2021-12-23 00:00:00 UTC",
          "2021-12-24 00:00:00 UTC",
          "2021-12-25 00:00:00 UTC",
          "2021-12-26 00:00:00 UTC",
          "2021-12-27 00:00:00 UTC",
          "2021-12-28 00:00:00 UTC",
          "2021-12-29 00:00:00 UTC",
          "2021-12-30 00:00:00 UTC",
          "2021-12-31 00:00:00 UTC",
          "2022-01-01 00:00:00 UTC",
          "2022-01-02 00:00:00 UTC",
          "2022-01-03 00:00:00 UTC",
          "2022-01-04 00:00:00 UTC",
          "2022-01-05 00:00:00 UTC",
          "2022-01-06 00:00:00 UTC",
          "2022-01-07 00:00:00 UTC",
          "2022-01-08 00:00:00 UTC",
          "2022-01-09 00:00:00 UTC",
          "2022-01-10 00:00:00 UTC",
          "2022-01-11 00:00:00 UTC",
          "2022-01-12 00:00:00 UTC",
          "2022-01-13 00:00:00 UTC",
          "2022-01-14 00:00:00 UTC",
          "2022-01-15 00:00:00 UTC",
          "2022-01-16 00:00:00 UTC",
          "2022-01-17 00:00:00 UTC",
          "2022-01-18 00:00:00 UTC",
          "2022-01-19 00:00:00 UTC",
          "2022-01-20 00:00:00 UTC",
          "2022-01-21 00:00:00 UTC",
          "2022-01-22 00:00:00 UTC",
          "2022-01-23 00:00:00 UTC",
          "2022-01-24 00:00:00 UTC",
          "2022-01-25 00:00:00 UTC",
          "2022-01-26 00:00:00 UTC",
          "2022-01-27 00:00:00 UTC",
          "2022-01-28 00:00:00 UTC",
          "2022-01-29 00:00:00 UTC",
          "2022-01-30 00:00:00 UTC",
          "2022-01-31 00:00:00 UTC",
          "2022-02-01 00:00:00 UTC",
          "2022-02-02 00:00:00 UTC",
          "2022-02-03 00:00:00 UTC",
          "2022-02-04 00:00:00 UTC",
          "2022-02-05 00:00:00 UTC",
          "2022-02-06 00:00:00 UTC",
          "2022-02-07 00:00:00 UTC",
          "2022-02-08 00:00:00 UTC",
          "2022-02-09 00:00:00 UTC",
          "2022-02-10 00:00:00 UTC",
          "2022-02-11 00:00:00 UTC",
          "2022-02-12 00:00:00 UTC",
          "2022-02-13 00:00:00 UTC",
          "2022-02-14 00:00:00 UTC",
          "2022-02-15 00:00:00 UTC",
          "2022-02-16 00:00:00 UTC",
          "2022-02-17 00:00:00 UTC",
          "2022-02-18 00:00:00 UTC",
          "2022-02-19 00:00:00 UTC",
          "2022-02-20 00:00:00 UTC",
          "2022-02-21 00:00:00 UTC",
          "2022-02-22 00:00:00 UTC",
          "2022-02-23 00:00:00 UTC",
          "2022-02-24 00:00:00 UTC",
          "2022-02-25 00:00:00 UTC",
          "2022-02-26 00:00:00 UTC",
          "2022-02-27 00:00:00 UTC",
          "2022-02-28 00:00:00 UTC",
          "2022-03-01 00:00:00 UTC",
          "2022-03-02 00:00:00 UTC",
          "2022-03-03 00:00:00 UTC",
          "2022-03-04 00:00:00 UTC",
          "2022-03-05 00:00:00 UTC",
          "2022-03-06 00:00:00 UTC",
          "2022-03-07 00:00:00 UTC",
          "2022-03-08 00:00:00 UTC",
          "2022-03-09 00:00:00 UTC",
          "2022-03-10 00:00:00 UTC",
          "2022-03-11 00:00:00 UTC",
          "2022-03-12 00:00:00 UTC",
          "2022-03-13 00:00:00 UTC",
          "2022-03-14 00:00:00 UTC",
          "2022-03-15 00:00:00 UTC",
          "2022-03-16 00:00:00 UTC",
          "2022-03-17 00:00:00 UTC",
          "2022-03-18 00:00:00 UTC",
          "2022-03-19 00:00:00 UTC",
          "2022-03-20 00:00:00 UTC",
          "2022-03-21 00:00:00 UTC",
          "2022-03-22 00:00:00 UTC",
          "2022-03-23 00:00:00 UTC",
          "2022-03-24 00:00:00 UTC",
          "2022-03-25 00:00:00 UTC",
          "2022-03-26 00:00:00 UTC",
          "2022-03-27 00:00:00 UTC",
          "2022-03-28 00:00:00 UTC",
          "2022-03-29 00:00:00 UTC",
          "2022-03-30 00:00:00 UTC",
          "2022-03-31 00:00:00 UTC",
          "2022-04-01 00:00:00 UTC",
          "2022-04-02 00:00:00 UTC",
          "2022-04-03 00:00:00 UTC",
          "2022-04-04 00:00:00 UTC",
          "2022-04-05 00:00:00 UTC",
          "2022-04-06 00:00:00 UTC",
          "2022-04-07 00:00:00 UTC",
          "2022-04-08 00:00:00 UTC",
          "2022-04-09 00:00:00 UTC",
          "2022-04-10 00:00:00 UTC",
          "2022-04-11 00:00:00 UTC",
          "2022-04-12 00:00:00 UTC",
          "2022-04-13 00:00:00 UTC",
          "2022-04-14 00:00:00 UTC",
          "2022-04-15 00:00:00 UTC",
          "2022-04-16 00:00:00 UTC",
          "2022-04-17 00:00:00 UTC",
          "2022-04-18 00:00:00 UTC",
          "2022-04-19 00:00:00 UTC",
          "2022-04-20 00:00:00 UTC",
          "2022-04-21 00:00:00 UTC",
          "2022-04-22 00:00:00 UTC",
          "2022-04-23 00:00:00 UTC",
          "2022-04-24 00:00:00 UTC",
          "2022-04-25 00:00:00 UTC",
          "2022-04-26 00:00:00 UTC",
          "2022-04-27 00:00:00 UTC",
          "2022-04-28 00:00:00 UTC",
          "2022-04-29 00:00:00 UTC",
          "2022-04-30 00:00:00 UTC",
          "2022-05-01 00:00:00 UTC",
          "2022-05-02 00:00:00 UTC",
          "2022-05-03 00:00:00 UTC",
          "2022-05-04 00:00:00 UTC",
          "2022-05-05 00:00:00 UTC",
          "2022-05-06 00:00:00 UTC",
          "2022-05-07 00:00:00 UTC",
          "2022-05-08 00:00:00 UTC",
          "2022-05-09 00:00:00 UTC",
          "2022-05-10 00:00:00 UTC",
          "2022-05-11 00:00:00 UTC",
          "2022-05-12 00:00:00 UTC",
          "2022-05-13 00:00:00 UTC",
          "2022-05-14 00:00:00 UTC",
          "2022-05-15 00:00:00 UTC",
          "2022-05-16 00:00:00 UTC",
          "2022-05-17 00:00:00 UTC",
          "2022-05-18 00:00:00 UTC",
          "2022-05-19 00:00:00 UTC",
          "2022-05-20 00:00:00 UTC",
          "2022-05-21 00:00:00 UTC",
          "2022-05-22 00:00:00 UTC",
          "2022-05-23 00:00:00 UTC",
          "2022-05-24 00:00:00 UTC",
          "2022-05-25 00:00:00 UTC",
          "2022-05-26 00:00:00 UTC",
          "2022-05-27 00:00:00 UTC",
          "2022-05-28 00:00:00 UTC",
          "2022-05-29 00:00:00 UTC",
          "2022-05-30 00:00:00 UTC",
          "2022-05-31 00:00:00 UTC",
          "2022-06-01 00:00:00 UTC",
          "2022-06-02 00:00:00 UTC",
          "2022-06-03 00:00:00 UTC",
          "2022-06-04 00:00:00 UTC",
          "2022-06-05 00:00:00 UTC",
          "2022-06-06 00:00:00 UTC",
          "2022-06-07 00:00:00 UTC",
          "2022-06-08 00:00:00 UTC",
          "2022-06-09 00:00:00 UTC",
          "2022-06-10 00:00:00 UTC",
          "2022-06-11 00:00:00 UTC",
          "2022-06-12 00:00:00 UTC",
          "2022-06-13 00:00:00 UTC",
          "2022-06-14 00:00:00 UTC",
          "2022-06-15 00:00:00 UTC",
          "2022-06-16 00:00:00 UTC"
         ],
         "y": [
          5,
          7,
          9,
          8,
          8,
          7,
          5,
          5,
          5,
          6,
          6,
          6,
          8,
          5,
          3,
          5,
          6,
          9,
          9,
          11,
          19,
          12,
          14,
          12,
          12,
          13,
          17,
          12,
          13,
          11,
          7,
          12,
          17,
          18,
          23,
          21,
          16,
          19,
          14,
          20,
          21,
          18,
          12,
          17,
          16,
          12,
          18,
          16,
          18,
          23,
          22,
          18,
          15,
          15,
          14,
          16,
          9,
          14,
          12,
          21,
          24,
          30,
          27,
          25,
          26,
          20,
          15,
          11,
          5,
          10,
          7,
          8,
          11,
          9,
          10,
          10,
          8,
          8,
          6,
          7,
          8,
          8,
          10,
          11,
          6,
          6,
          8,
          9,
          9,
          7,
          14,
          21,
          22,
          20,
          24,
          25,
          22,
          17,
          17,
          20,
          18,
          16,
          22,
          18,
          21,
          21,
          16,
          10,
          12,
          8,
          13,
          10,
          14,
          18,
          24,
          29,
          31,
          31,
          36,
          37,
          28,
          25,
          27,
          29,
          25,
          19,
          25,
          30,
          26,
          25,
          22,
          18,
          16,
          16,
          12,
          13,
          16,
          11,
          10,
          11,
          10,
          19,
          15,
          13,
          10,
          14,
          12,
          11,
          11,
          13,
          10,
          10,
          10,
          11,
          9,
          9,
          8,
          7,
          7,
          8,
          7,
          4,
          6,
          5,
          2,
          1,
          4,
          2,
          5,
          4,
          8,
          3,
          8,
          9,
          8,
          9,
          11,
          10,
          11,
          13,
          9,
          10,
          8,
          7,
          9,
          4,
          6,
          6,
          7,
          10,
          7,
          9,
          10,
          7,
          6,
          7,
          6,
          6,
          4,
          4,
          4,
          4,
          5,
          5,
          2,
          5,
          9,
          11,
          7,
          8,
          9,
          7,
          4,
          7,
          7,
          4,
          5,
          7,
          6,
          4,
          4,
          4,
          1,
          2,
          0,
          1,
          0,
          3,
          2,
          2,
          2,
          2,
          2,
          4,
          4,
          4,
          6,
          4,
          3,
          5,
          3,
          6,
          4,
          4,
          2,
          2,
          2,
          2,
          0,
          1,
          4,
          6,
          3,
          6,
          8,
          6,
          7,
          5,
          7,
          8,
          7,
          8,
          10,
          12,
          11,
          9,
          9,
          8,
          13,
          11,
          10,
          8,
          10,
          8,
          8,
          4,
          5,
          5,
          5,
          5,
          6,
          6,
          3,
          3,
          5,
          7,
          7,
          8,
          5,
          6,
          7,
          6,
          6,
          7,
          4,
          4,
          2,
          3,
          2,
          1,
          2,
          2,
          3,
          5,
          5,
          5,
          3,
          3,
          3,
          1,
          0,
          2,
          1,
          2,
          4,
          11,
          22,
          12,
          10,
          7,
          11,
          6,
          7,
          5,
          5,
          7,
          7,
          3,
          4,
          4,
          4,
          7,
          6,
          5,
          2,
          3,
          6,
          6,
          5,
          6,
          6,
          3,
          1,
          2,
          0,
          0,
          0,
          1,
          4,
          5,
          5,
          7,
          5,
          13,
          10,
          8,
          7,
          6,
          5,
          4,
          4,
          5,
          3,
          1,
          0
         ]
        }
       ],
       "layout": {
        "template": {
         "data": {
          "bar": [
           {
            "error_x": {
             "color": "#2a3f5f"
            },
            "error_y": {
             "color": "#2a3f5f"
            },
            "marker": {
             "line": {
              "color": "#E5ECF6",
              "width": 0.5
             }
            },
            "type": "bar"
           }
          ],
          "barpolar": [
           {
            "marker": {
             "line": {
              "color": "#E5ECF6",
              "width": 0.5
             }
            },
            "type": "barpolar"
           }
          ],
          "carpet": [
           {
            "aaxis": {
             "endlinecolor": "#2a3f5f",
             "gridcolor": "white",
             "linecolor": "white",
             "minorgridcolor": "white",
             "startlinecolor": "#2a3f5f"
            },
            "baxis": {
             "endlinecolor": "#2a3f5f",
             "gridcolor": "white",
             "linecolor": "white",
             "minorgridcolor": "white",
             "startlinecolor": "#2a3f5f"
            },
            "type": "carpet"
           }
          ],
          "choropleth": [
           {
            "colorbar": {
             "outlinewidth": 0,
             "ticks": ""
            },
            "type": "choropleth"
           }
          ],
          "contour": [
           {
            "colorbar": {
             "outlinewidth": 0,
             "ticks": ""
            },
            "colorscale": [
             [
              0,
              "#0d0887"
             ],
             [
              0.1111111111111111,
              "#46039f"
             ],
             [
              0.2222222222222222,
              "#7201a8"
             ],
             [
              0.3333333333333333,
              "#9c179e"
             ],
             [
              0.4444444444444444,
              "#bd3786"
             ],
             [
              0.5555555555555556,
              "#d8576b"
             ],
             [
              0.6666666666666666,
              "#ed7953"
             ],
             [
              0.7777777777777778,
              "#fb9f3a"
             ],
             [
              0.8888888888888888,
              "#fdca26"
             ],
             [
              1,
              "#f0f921"
             ]
            ],
            "type": "contour"
           }
          ],
          "contourcarpet": [
           {
            "colorbar": {
             "outlinewidth": 0,
             "ticks": ""
            },
            "type": "contourcarpet"
           }
          ],
          "heatmap": [
           {
            "colorbar": {
             "outlinewidth": 0,
             "ticks": ""
            },
            "colorscale": [
             [
              0,
              "#0d0887"
             ],
             [
              0.1111111111111111,
              "#46039f"
             ],
             [
              0.2222222222222222,
              "#7201a8"
             ],
             [
              0.3333333333333333,
              "#9c179e"
             ],
             [
              0.4444444444444444,
              "#bd3786"
             ],
             [
              0.5555555555555556,
              "#d8576b"
             ],
             [
              0.6666666666666666,
              "#ed7953"
             ],
             [
              0.7777777777777778,
              "#fb9f3a"
             ],
             [
              0.8888888888888888,
              "#fdca26"
             ],
             [
              1,
              "#f0f921"
             ]
            ],
            "type": "heatmap"
           }
          ],
          "heatmapgl": [
           {
            "colorbar": {
             "outlinewidth": 0,
             "ticks": ""
            },
            "colorscale": [
             [
              0,
              "#0d0887"
             ],
             [
              0.1111111111111111,
              "#46039f"
             ],
             [
              0.2222222222222222,
              "#7201a8"
             ],
             [
              0.3333333333333333,
              "#9c179e"
             ],
             [
              0.4444444444444444,
              "#bd3786"
             ],
             [
              0.5555555555555556,
              "#d8576b"
             ],
             [
              0.6666666666666666,
              "#ed7953"
             ],
             [
              0.7777777777777778,
              "#fb9f3a"
             ],
             [
              0.8888888888888888,
              "#fdca26"
             ],
             [
              1,
              "#f0f921"
             ]
            ],
            "type": "heatmapgl"
           }
          ],
          "histogram": [
           {
            "marker": {
             "colorbar": {
              "outlinewidth": 0,
              "ticks": ""
             }
            },
            "type": "histogram"
           }
          ],
          "histogram2d": [
           {
            "colorbar": {
             "outlinewidth": 0,
             "ticks": ""
            },
            "colorscale": [
             [
              0,
              "#0d0887"
             ],
             [
              0.1111111111111111,
              "#46039f"
             ],
             [
              0.2222222222222222,
              "#7201a8"
             ],
             [
              0.3333333333333333,
              "#9c179e"
             ],
             [
              0.4444444444444444,
              "#bd3786"
             ],
             [
              0.5555555555555556,
              "#d8576b"
             ],
             [
              0.6666666666666666,
              "#ed7953"
             ],
             [
              0.7777777777777778,
              "#fb9f3a"
             ],
             [
              0.8888888888888888,
              "#fdca26"
             ],
             [
              1,
              "#f0f921"
             ]
            ],
            "type": "histogram2d"
           }
          ],
          "histogram2dcontour": [
           {
            "colorbar": {
             "outlinewidth": 0,
             "ticks": ""
            },
            "colorscale": [
             [
              0,
              "#0d0887"
             ],
             [
              0.1111111111111111,
              "#46039f"
             ],
             [
              0.2222222222222222,
              "#7201a8"
             ],
             [
              0.3333333333333333,
              "#9c179e"
             ],
             [
              0.4444444444444444,
              "#bd3786"
             ],
             [
              0.5555555555555556,
              "#d8576b"
             ],
             [
              0.6666666666666666,
              "#ed7953"
             ],
             [
              0.7777777777777778,
              "#fb9f3a"
             ],
             [
              0.8888888888888888,
              "#fdca26"
             ],
             [
              1,
              "#f0f921"
             ]
            ],
            "type": "histogram2dcontour"
           }
          ],
          "mesh3d": [
           {
            "colorbar": {
             "outlinewidth": 0,
             "ticks": ""
            },
            "type": "mesh3d"
           }
          ],
          "parcoords": [
           {
            "line": {
             "colorbar": {
              "outlinewidth": 0,
              "ticks": ""
             }
            },
            "type": "parcoords"
           }
          ],
          "pie": [
           {
            "automargin": true,
            "type": "pie"
           }
          ],
          "scatter": [
           {
            "marker": {
             "colorbar": {
              "outlinewidth": 0,
              "ticks": ""
             }
            },
            "type": "scatter"
           }
          ],
          "scatter3d": [
           {
            "line": {
             "colorbar": {
              "outlinewidth": 0,
              "ticks": ""
             }
            },
            "marker": {
             "colorbar": {
              "outlinewidth": 0,
              "ticks": ""
             }
            },
            "type": "scatter3d"
           }
          ],
          "scattercarpet": [
           {
            "marker": {
             "colorbar": {
              "outlinewidth": 0,
              "ticks": ""
             }
            },
            "type": "scattercarpet"
           }
          ],
          "scattergeo": [
           {
            "marker": {
             "colorbar": {
              "outlinewidth": 0,
              "ticks": ""
             }
            },
            "type": "scattergeo"
           }
          ],
          "scattergl": [
           {
            "marker": {
             "colorbar": {
              "outlinewidth": 0,
              "ticks": ""
             }
            },
            "type": "scattergl"
           }
          ],
          "scattermapbox": [
           {
            "marker": {
             "colorbar": {
              "outlinewidth": 0,
              "ticks": ""
             }
            },
            "type": "scattermapbox"
           }
          ],
          "scatterpolar": [
           {
            "marker": {
             "colorbar": {
              "outlinewidth": 0,
              "ticks": ""
             }
            },
            "type": "scatterpolar"
           }
          ],
          "scatterpolargl": [
           {
            "marker": {
             "colorbar": {
              "outlinewidth": 0,
              "ticks": ""
             }
            },
            "type": "scatterpolargl"
           }
          ],
          "scatterternary": [
           {
            "marker": {
             "colorbar": {
              "outlinewidth": 0,
              "ticks": ""
             }
            },
            "type": "scatterternary"
           }
          ],
          "surface": [
           {
            "colorbar": {
             "outlinewidth": 0,
             "ticks": ""
            },
            "colorscale": [
             [
              0,
              "#0d0887"
             ],
             [
              0.1111111111111111,
              "#46039f"
             ],
             [
              0.2222222222222222,
              "#7201a8"
             ],
             [
              0.3333333333333333,
              "#9c179e"
             ],
             [
              0.4444444444444444,
              "#bd3786"
             ],
             [
              0.5555555555555556,
              "#d8576b"
             ],
             [
              0.6666666666666666,
              "#ed7953"
             ],
             [
              0.7777777777777778,
              "#fb9f3a"
             ],
             [
              0.8888888888888888,
              "#fdca26"
             ],
             [
              1,
              "#f0f921"
             ]
            ],
            "type": "surface"
           }
          ],
          "table": [
           {
            "cells": {
             "fill": {
              "color": "#EBF0F8"
             },
             "line": {
              "color": "white"
             }
            },
            "header": {
             "fill": {
              "color": "#C8D4E3"
             },
             "line": {
              "color": "white"
             }
            },
            "type": "table"
           }
          ]
         },
         "layout": {
          "annotationdefaults": {
           "arrowcolor": "#2a3f5f",
           "arrowhead": 0,
           "arrowwidth": 1
          },
          "autotypenumbers": "strict",
          "coloraxis": {
           "colorbar": {
            "outlinewidth": 0,
            "ticks": ""
           }
          },
          "colorscale": {
           "diverging": [
            [
             0,
             "#8e0152"
            ],
            [
             0.1,
             "#c51b7d"
            ],
            [
             0.2,
             "#de77ae"
            ],
            [
             0.3,
             "#f1b6da"
            ],
            [
             0.4,
             "#fde0ef"
            ],
            [
             0.5,
             "#f7f7f7"
            ],
            [
             0.6,
             "#e6f5d0"
            ],
            [
             0.7,
             "#b8e186"
            ],
            [
             0.8,
             "#7fbc41"
            ],
            [
             0.9,
             "#4d9221"
            ],
            [
             1,
             "#276419"
            ]
           ],
           "sequential": [
            [
             0,
             "#0d0887"
            ],
            [
             0.1111111111111111,
             "#46039f"
            ],
            [
             0.2222222222222222,
             "#7201a8"
            ],
            [
             0.3333333333333333,
             "#9c179e"
            ],
            [
             0.4444444444444444,
             "#bd3786"
            ],
            [
             0.5555555555555556,
             "#d8576b"
            ],
            [
             0.6666666666666666,
             "#ed7953"
            ],
            [
             0.7777777777777778,
             "#fb9f3a"
            ],
            [
             0.8888888888888888,
             "#fdca26"
            ],
            [
             1,
             "#f0f921"
            ]
           ],
           "sequentialminus": [
            [
             0,
             "#0d0887"
            ],
            [
             0.1111111111111111,
             "#46039f"
            ],
            [
             0.2222222222222222,
             "#7201a8"
            ],
            [
             0.3333333333333333,
             "#9c179e"
            ],
            [
             0.4444444444444444,
             "#bd3786"
            ],
            [
             0.5555555555555556,
             "#d8576b"
            ],
            [
             0.6666666666666666,
             "#ed7953"
            ],
            [
             0.7777777777777778,
             "#fb9f3a"
            ],
            [
             0.8888888888888888,
             "#fdca26"
            ],
            [
             1,
             "#f0f921"
            ]
           ]
          },
          "colorway": [
           "#636efa",
           "#EF553B",
           "#00cc96",
           "#ab63fa",
           "#FFA15A",
           "#19d3f3",
           "#FF6692",
           "#B6E880",
           "#FF97FF",
           "#FECB52"
          ],
          "font": {
           "color": "#2a3f5f"
          },
          "geo": {
           "bgcolor": "white",
           "lakecolor": "white",
           "landcolor": "#E5ECF6",
           "showlakes": true,
           "showland": true,
           "subunitcolor": "white"
          },
          "hoverlabel": {
           "align": "left"
          },
          "hovermode": "closest",
          "mapbox": {
           "style": "light"
          },
          "paper_bgcolor": "white",
          "plot_bgcolor": "#E5ECF6",
          "polar": {
           "angularaxis": {
            "gridcolor": "white",
            "linecolor": "white",
            "ticks": ""
           },
           "bgcolor": "#E5ECF6",
           "radialaxis": {
            "gridcolor": "white",
            "linecolor": "white",
            "ticks": ""
           }
          },
          "scene": {
           "xaxis": {
            "backgroundcolor": "#E5ECF6",
            "gridcolor": "white",
            "gridwidth": 2,
            "linecolor": "white",
            "showbackground": true,
            "ticks": "",
            "zerolinecolor": "white"
           },
           "yaxis": {
            "backgroundcolor": "#E5ECF6",
            "gridcolor": "white",
            "gridwidth": 2,
            "linecolor": "white",
            "showbackground": true,
            "ticks": "",
            "zerolinecolor": "white"
           },
           "zaxis": {
            "backgroundcolor": "#E5ECF6",
            "gridcolor": "white",
            "gridwidth": 2,
            "linecolor": "white",
            "showbackground": true,
            "ticks": "",
            "zerolinecolor": "white"
           }
          },
          "shapedefaults": {
           "line": {
            "color": "#2a3f5f"
           }
          },
          "ternary": {
           "aaxis": {
            "gridcolor": "white",
            "linecolor": "white",
            "ticks": ""
           },
           "baxis": {
            "gridcolor": "white",
            "linecolor": "white",
            "ticks": ""
           },
           "bgcolor": "#E5ECF6",
           "caxis": {
            "gridcolor": "white",
            "linecolor": "white",
            "ticks": ""
           }
          },
          "title": {
           "x": 0.05
          },
          "xaxis": {
           "automargin": true,
           "gridcolor": "white",
           "linecolor": "white",
           "ticks": "",
           "title": {
            "standoff": 15
           },
           "zerolinecolor": "white",
           "zerolinewidth": 2
          },
          "yaxis": {
           "automargin": true,
           "gridcolor": "white",
           "linecolor": "white",
           "ticks": "",
           "title": {
            "standoff": 15
           },
           "zerolinecolor": "white",
           "zerolinewidth": 2
          }
         }
        }
       }
      }
     },
     "metadata": {},
     "output_type": "display_data"
    },
    {
     "data": {
      "application/vnd.plotly.v1+json": {
       "config": {
        "plotlyServerURL": "https://plot.ly"
       },
       "data": [
        {
         "type": "bar",
         "x": [
          "2021-06-17 00:00:00 UTC",
          "2021-06-18 00:00:00 UTC",
          "2021-06-19 00:00:00 UTC",
          "2021-06-20 00:00:00 UTC",
          "2021-06-21 00:00:00 UTC",
          "2021-06-22 00:00:00 UTC",
          "2021-06-23 00:00:00 UTC",
          "2021-06-24 00:00:00 UTC",
          "2021-06-25 00:00:00 UTC",
          "2021-06-26 00:00:00 UTC",
          "2021-06-27 00:00:00 UTC",
          "2021-06-28 00:00:00 UTC",
          "2021-06-29 00:00:00 UTC",
          "2021-06-30 00:00:00 UTC",
          "2021-07-01 00:00:00 UTC",
          "2021-07-02 00:00:00 UTC",
          "2021-07-03 00:00:00 UTC",
          "2021-07-04 00:00:00 UTC",
          "2021-07-05 00:00:00 UTC",
          "2021-07-06 00:00:00 UTC",
          "2021-07-07 00:00:00 UTC",
          "2021-07-08 00:00:00 UTC",
          "2021-07-09 00:00:00 UTC",
          "2021-07-10 00:00:00 UTC",
          "2021-07-11 00:00:00 UTC",
          "2021-07-12 00:00:00 UTC",
          "2021-07-13 00:00:00 UTC",
          "2021-07-14 00:00:00 UTC",
          "2021-07-15 00:00:00 UTC",
          "2021-07-16 00:00:00 UTC",
          "2021-07-17 00:00:00 UTC",
          "2021-07-18 00:00:00 UTC",
          "2021-07-19 00:00:00 UTC",
          "2021-07-20 00:00:00 UTC",
          "2021-07-21 00:00:00 UTC",
          "2021-07-22 00:00:00 UTC",
          "2021-07-23 00:00:00 UTC",
          "2021-07-24 00:00:00 UTC",
          "2021-07-25 00:00:00 UTC",
          "2021-07-26 00:00:00 UTC",
          "2021-07-27 00:00:00 UTC",
          "2021-07-28 00:00:00 UTC",
          "2021-07-29 00:00:00 UTC",
          "2021-07-30 00:00:00 UTC",
          "2021-07-31 00:00:00 UTC",
          "2021-08-01 00:00:00 UTC",
          "2021-08-02 00:00:00 UTC",
          "2021-08-03 00:00:00 UTC",
          "2021-08-04 00:00:00 UTC",
          "2021-08-05 00:00:00 UTC",
          "2021-08-06 00:00:00 UTC",
          "2021-08-07 00:00:00 UTC",
          "2021-08-08 00:00:00 UTC",
          "2021-08-09 00:00:00 UTC",
          "2021-08-10 00:00:00 UTC",
          "2021-08-11 00:00:00 UTC",
          "2021-08-12 00:00:00 UTC",
          "2021-08-13 00:00:00 UTC",
          "2021-08-14 00:00:00 UTC",
          "2021-08-15 00:00:00 UTC",
          "2021-08-16 00:00:00 UTC",
          "2021-08-17 00:00:00 UTC",
          "2021-08-18 00:00:00 UTC",
          "2021-08-19 00:00:00 UTC",
          "2021-08-20 00:00:00 UTC",
          "2021-08-21 00:00:00 UTC",
          "2021-08-22 00:00:00 UTC",
          "2021-08-23 00:00:00 UTC",
          "2021-08-24 00:00:00 UTC",
          "2021-08-25 00:00:00 UTC",
          "2021-08-26 00:00:00 UTC",
          "2021-08-27 00:00:00 UTC",
          "2021-08-28 00:00:00 UTC",
          "2021-08-29 00:00:00 UTC",
          "2021-08-30 00:00:00 UTC",
          "2021-08-31 00:00:00 UTC",
          "2021-09-01 00:00:00 UTC",
          "2021-09-02 00:00:00 UTC",
          "2021-09-03 00:00:00 UTC",
          "2021-09-04 00:00:00 UTC",
          "2021-09-05 00:00:00 UTC",
          "2021-09-06 00:00:00 UTC",
          "2021-09-07 00:00:00 UTC",
          "2021-09-08 00:00:00 UTC",
          "2021-09-09 00:00:00 UTC",
          "2021-09-10 00:00:00 UTC",
          "2021-09-11 00:00:00 UTC",
          "2021-09-12 00:00:00 UTC",
          "2021-09-13 00:00:00 UTC",
          "2021-09-14 00:00:00 UTC",
          "2021-09-15 00:00:00 UTC",
          "2021-09-16 00:00:00 UTC",
          "2021-09-17 00:00:00 UTC",
          "2021-09-18 00:00:00 UTC",
          "2021-09-19 00:00:00 UTC",
          "2021-09-20 00:00:00 UTC",
          "2021-09-21 00:00:00 UTC",
          "2021-09-22 00:00:00 UTC",
          "2021-09-23 00:00:00 UTC",
          "2021-09-24 00:00:00 UTC",
          "2021-09-25 00:00:00 UTC",
          "2021-09-26 00:00:00 UTC",
          "2021-09-27 00:00:00 UTC",
          "2021-09-28 00:00:00 UTC",
          "2021-09-29 00:00:00 UTC",
          "2021-09-30 00:00:00 UTC",
          "2021-10-01 00:00:00 UTC",
          "2021-10-02 00:00:00 UTC",
          "2021-10-03 00:00:00 UTC",
          "2021-10-04 00:00:00 UTC",
          "2021-10-05 00:00:00 UTC",
          "2021-10-06 00:00:00 UTC",
          "2021-10-07 00:00:00 UTC",
          "2021-10-08 00:00:00 UTC",
          "2021-10-09 00:00:00 UTC",
          "2021-10-10 00:00:00 UTC",
          "2021-10-11 00:00:00 UTC",
          "2021-10-12 00:00:00 UTC",
          "2021-10-13 00:00:00 UTC",
          "2021-10-14 00:00:00 UTC",
          "2021-10-15 00:00:00 UTC",
          "2021-10-16 00:00:00 UTC",
          "2021-10-17 00:00:00 UTC",
          "2021-10-18 00:00:00 UTC",
          "2021-10-19 00:00:00 UTC",
          "2021-10-20 00:00:00 UTC",
          "2021-10-21 00:00:00 UTC",
          "2021-10-22 00:00:00 UTC",
          "2021-10-23 00:00:00 UTC",
          "2021-10-24 00:00:00 UTC",
          "2021-10-25 00:00:00 UTC",
          "2021-10-26 00:00:00 UTC",
          "2021-10-27 00:00:00 UTC",
          "2021-10-28 00:00:00 UTC",
          "2021-10-29 00:00:00 UTC",
          "2021-10-30 00:00:00 UTC",
          "2021-10-31 00:00:00 UTC",
          "2021-11-01 00:00:00 UTC",
          "2021-11-02 00:00:00 UTC",
          "2021-11-03 00:00:00 UTC",
          "2021-11-04 00:00:00 UTC",
          "2021-11-05 00:00:00 UTC",
          "2021-11-06 00:00:00 UTC",
          "2021-11-07 00:00:00 UTC",
          "2021-11-08 00:00:00 UTC",
          "2021-11-09 00:00:00 UTC",
          "2021-11-10 00:00:00 UTC",
          "2021-11-11 00:00:00 UTC",
          "2021-11-12 00:00:00 UTC",
          "2021-11-13 00:00:00 UTC",
          "2021-11-14 00:00:00 UTC",
          "2021-11-15 00:00:00 UTC",
          "2021-11-16 00:00:00 UTC",
          "2021-11-17 00:00:00 UTC",
          "2021-11-18 00:00:00 UTC",
          "2021-11-19 00:00:00 UTC",
          "2021-11-20 00:00:00 UTC",
          "2021-11-21 00:00:00 UTC",
          "2021-11-22 00:00:00 UTC",
          "2021-11-23 00:00:00 UTC",
          "2021-11-24 00:00:00 UTC",
          "2021-11-25 00:00:00 UTC",
          "2021-11-26 00:00:00 UTC",
          "2021-11-27 00:00:00 UTC",
          "2021-11-28 00:00:00 UTC",
          "2021-11-29 00:00:00 UTC",
          "2021-11-30 00:00:00 UTC",
          "2021-12-01 00:00:00 UTC",
          "2021-12-02 00:00:00 UTC",
          "2021-12-03 00:00:00 UTC",
          "2021-12-04 00:00:00 UTC",
          "2021-12-05 00:00:00 UTC",
          "2021-12-06 00:00:00 UTC",
          "2021-12-07 00:00:00 UTC",
          "2021-12-08 00:00:00 UTC",
          "2021-12-09 00:00:00 UTC",
          "2021-12-10 00:00:00 UTC",
          "2021-12-11 00:00:00 UTC",
          "2021-12-12 00:00:00 UTC",
          "2021-12-13 00:00:00 UTC",
          "2021-12-14 00:00:00 UTC",
          "2021-12-15 00:00:00 UTC",
          "2021-12-16 00:00:00 UTC",
          "2021-12-17 00:00:00 UTC",
          "2021-12-18 00:00:00 UTC",
          "2021-12-19 00:00:00 UTC",
          "2021-12-20 00:00:00 UTC",
          "2021-12-21 00:00:00 UTC",
          "2021-12-22 00:00:00 UTC",
          "2021-12-23 00:00:00 UTC",
          "2021-12-24 00:00:00 UTC",
          "2021-12-25 00:00:00 UTC",
          "2021-12-26 00:00:00 UTC",
          "2021-12-27 00:00:00 UTC",
          "2021-12-28 00:00:00 UTC",
          "2021-12-29 00:00:00 UTC",
          "2021-12-30 00:00:00 UTC",
          "2021-12-31 00:00:00 UTC",
          "2022-01-01 00:00:00 UTC",
          "2022-01-02 00:00:00 UTC",
          "2022-01-03 00:00:00 UTC",
          "2022-01-04 00:00:00 UTC",
          "2022-01-05 00:00:00 UTC",
          "2022-01-06 00:00:00 UTC",
          "2022-01-07 00:00:00 UTC",
          "2022-01-08 00:00:00 UTC",
          "2022-01-09 00:00:00 UTC",
          "2022-01-10 00:00:00 UTC",
          "2022-01-11 00:00:00 UTC",
          "2022-01-12 00:00:00 UTC",
          "2022-01-13 00:00:00 UTC",
          "2022-01-14 00:00:00 UTC",
          "2022-01-15 00:00:00 UTC",
          "2022-01-16 00:00:00 UTC",
          "2022-01-17 00:00:00 UTC",
          "2022-01-18 00:00:00 UTC",
          "2022-01-19 00:00:00 UTC",
          "2022-01-20 00:00:00 UTC",
          "2022-01-21 00:00:00 UTC",
          "2022-01-22 00:00:00 UTC",
          "2022-01-23 00:00:00 UTC",
          "2022-01-24 00:00:00 UTC",
          "2022-01-25 00:00:00 UTC",
          "2022-01-26 00:00:00 UTC",
          "2022-01-27 00:00:00 UTC",
          "2022-01-28 00:00:00 UTC",
          "2022-01-29 00:00:00 UTC",
          "2022-01-30 00:00:00 UTC",
          "2022-01-31 00:00:00 UTC",
          "2022-02-01 00:00:00 UTC",
          "2022-02-02 00:00:00 UTC",
          "2022-02-03 00:00:00 UTC",
          "2022-02-04 00:00:00 UTC",
          "2022-02-05 00:00:00 UTC",
          "2022-02-06 00:00:00 UTC",
          "2022-02-07 00:00:00 UTC",
          "2022-02-08 00:00:00 UTC",
          "2022-02-09 00:00:00 UTC",
          "2022-02-10 00:00:00 UTC",
          "2022-02-11 00:00:00 UTC",
          "2022-02-12 00:00:00 UTC",
          "2022-02-13 00:00:00 UTC",
          "2022-02-14 00:00:00 UTC",
          "2022-02-15 00:00:00 UTC",
          "2022-02-16 00:00:00 UTC",
          "2022-02-17 00:00:00 UTC",
          "2022-02-18 00:00:00 UTC",
          "2022-02-19 00:00:00 UTC",
          "2022-02-20 00:00:00 UTC",
          "2022-02-21 00:00:00 UTC",
          "2022-02-22 00:00:00 UTC",
          "2022-02-23 00:00:00 UTC",
          "2022-02-24 00:00:00 UTC",
          "2022-02-25 00:00:00 UTC",
          "2022-02-26 00:00:00 UTC",
          "2022-02-27 00:00:00 UTC",
          "2022-02-28 00:00:00 UTC",
          "2022-03-01 00:00:00 UTC",
          "2022-03-02 00:00:00 UTC",
          "2022-03-03 00:00:00 UTC",
          "2022-03-04 00:00:00 UTC",
          "2022-03-05 00:00:00 UTC",
          "2022-03-06 00:00:00 UTC",
          "2022-03-07 00:00:00 UTC",
          "2022-03-08 00:00:00 UTC",
          "2022-03-09 00:00:00 UTC",
          "2022-03-10 00:00:00 UTC",
          "2022-03-11 00:00:00 UTC",
          "2022-03-12 00:00:00 UTC",
          "2022-03-13 00:00:00 UTC",
          "2022-03-14 00:00:00 UTC",
          "2022-03-15 00:00:00 UTC",
          "2022-03-16 00:00:00 UTC",
          "2022-03-17 00:00:00 UTC",
          "2022-03-18 00:00:00 UTC",
          "2022-03-19 00:00:00 UTC",
          "2022-03-20 00:00:00 UTC",
          "2022-03-21 00:00:00 UTC",
          "2022-03-22 00:00:00 UTC",
          "2022-03-23 00:00:00 UTC",
          "2022-03-24 00:00:00 UTC",
          "2022-03-25 00:00:00 UTC",
          "2022-03-26 00:00:00 UTC",
          "2022-03-27 00:00:00 UTC",
          "2022-03-28 00:00:00 UTC",
          "2022-03-29 00:00:00 UTC",
          "2022-03-30 00:00:00 UTC",
          "2022-03-31 00:00:00 UTC",
          "2022-04-01 00:00:00 UTC",
          "2022-04-02 00:00:00 UTC",
          "2022-04-03 00:00:00 UTC",
          "2022-04-04 00:00:00 UTC",
          "2022-04-05 00:00:00 UTC",
          "2022-04-06 00:00:00 UTC",
          "2022-04-07 00:00:00 UTC",
          "2022-04-08 00:00:00 UTC",
          "2022-04-09 00:00:00 UTC",
          "2022-04-10 00:00:00 UTC",
          "2022-04-11 00:00:00 UTC",
          "2022-04-12 00:00:00 UTC",
          "2022-04-13 00:00:00 UTC",
          "2022-04-14 00:00:00 UTC",
          "2022-04-15 00:00:00 UTC",
          "2022-04-16 00:00:00 UTC",
          "2022-04-17 00:00:00 UTC",
          "2022-04-18 00:00:00 UTC",
          "2022-04-19 00:00:00 UTC",
          "2022-04-20 00:00:00 UTC",
          "2022-04-21 00:00:00 UTC",
          "2022-04-22 00:00:00 UTC",
          "2022-04-23 00:00:00 UTC",
          "2022-04-24 00:00:00 UTC",
          "2022-04-25 00:00:00 UTC",
          "2022-04-26 00:00:00 UTC",
          "2022-04-27 00:00:00 UTC",
          "2022-04-28 00:00:00 UTC",
          "2022-04-29 00:00:00 UTC",
          "2022-04-30 00:00:00 UTC",
          "2022-05-01 00:00:00 UTC",
          "2022-05-02 00:00:00 UTC",
          "2022-05-03 00:00:00 UTC",
          "2022-05-04 00:00:00 UTC",
          "2022-05-05 00:00:00 UTC",
          "2022-05-06 00:00:00 UTC",
          "2022-05-07 00:00:00 UTC",
          "2022-05-08 00:00:00 UTC",
          "2022-05-09 00:00:00 UTC",
          "2022-05-10 00:00:00 UTC",
          "2022-05-11 00:00:00 UTC",
          "2022-05-12 00:00:00 UTC",
          "2022-05-13 00:00:00 UTC",
          "2022-05-14 00:00:00 UTC",
          "2022-05-15 00:00:00 UTC",
          "2022-05-16 00:00:00 UTC",
          "2022-05-17 00:00:00 UTC",
          "2022-05-18 00:00:00 UTC",
          "2022-05-19 00:00:00 UTC",
          "2022-05-20 00:00:00 UTC",
          "2022-05-21 00:00:00 UTC",
          "2022-05-22 00:00:00 UTC",
          "2022-05-23 00:00:00 UTC",
          "2022-05-24 00:00:00 UTC",
          "2022-05-25 00:00:00 UTC",
          "2022-05-26 00:00:00 UTC",
          "2022-05-27 00:00:00 UTC",
          "2022-05-28 00:00:00 UTC",
          "2022-05-29 00:00:00 UTC",
          "2022-05-30 00:00:00 UTC",
          "2022-05-31 00:00:00 UTC",
          "2022-06-01 00:00:00 UTC",
          "2022-06-02 00:00:00 UTC",
          "2022-06-03 00:00:00 UTC",
          "2022-06-04 00:00:00 UTC",
          "2022-06-05 00:00:00 UTC",
          "2022-06-06 00:00:00 UTC",
          "2022-06-07 00:00:00 UTC",
          "2022-06-08 00:00:00 UTC",
          "2022-06-09 00:00:00 UTC",
          "2022-06-10 00:00:00 UTC",
          "2022-06-11 00:00:00 UTC",
          "2022-06-12 00:00:00 UTC",
          "2022-06-13 00:00:00 UTC",
          "2022-06-14 00:00:00 UTC",
          "2022-06-15 00:00:00 UTC",
          "2022-06-16 00:00:00 UTC"
         ],
         "y": [
          3,
          5,
          5,
          5,
          5,
          4,
          3,
          1,
          1,
          0,
          1,
          1,
          3,
          0,
          1,
          2,
          2,
          5,
          3,
          6,
          9,
          6,
          6,
          5,
          3,
          4,
          8,
          5,
          5,
          4,
          5,
          7,
          7,
          3,
          7,
          7,
          4,
          8,
          5,
          7,
          9,
          11,
          6,
          9,
          11,
          7,
          11,
          9,
          11,
          14,
          13,
          10,
          9,
          8,
          7,
          7,
          3,
          8,
          8,
          8,
          12,
          10,
          10,
          10,
          12,
          7,
          6,
          8,
          5,
          6,
          5,
          4,
          6,
          4,
          5,
          5,
          5,
          6,
          3,
          3,
          5,
          6,
          8,
          7,
          5,
          4,
          6,
          7,
          5,
          4,
          4,
          7,
          6,
          8,
          9,
          10,
          11,
          12,
          14,
          16,
          12,
          10,
          12,
          10,
          7,
          6,
          4,
          4,
          4,
          3,
          7,
          7,
          11,
          11,
          14,
          18,
          18,
          18,
          22,
          19,
          15,
          16,
          17,
          20,
          15,
          11,
          17,
          19,
          16,
          15,
          13,
          15,
          13,
          9,
          7,
          8,
          10,
          6,
          6,
          7,
          3,
          5,
          9,
          6,
          4,
          7,
          7,
          6,
          5,
          6,
          5,
          5,
          4,
          3,
          3,
          4,
          5,
          4,
          5,
          6,
          5,
          2,
          3,
          3,
          1,
          0,
          2,
          1,
          4,
          3,
          2,
          1,
          3,
          3,
          3,
          4,
          4,
          7,
          6,
          6,
          4,
          5,
          4,
          4,
          8,
          4,
          4,
          5,
          7,
          8,
          5,
          6,
          3,
          2,
          2,
          3,
          4,
          3,
          2,
          2,
          2,
          3,
          4,
          5,
          2,
          3,
          2,
          4,
          0,
          2,
          5,
          3,
          3,
          5,
          3,
          1,
          2,
          1,
          1,
          2,
          2,
          3,
          1,
          2,
          0,
          1,
          0,
          3,
          2,
          2,
          2,
          2,
          1,
          2,
          3,
          3,
          5,
          3,
          3,
          4,
          3,
          4,
          2,
          1,
          1,
          1,
          2,
          2,
          0,
          1,
          2,
          3,
          1,
          5,
          4,
          3,
          4,
          3,
          3,
          3,
          1,
          2,
          4,
          3,
          2,
          3,
          4,
          3,
          5,
          6,
          5,
          4,
          4,
          3,
          4,
          2,
          3,
          3,
          4,
          4,
          5,
          5,
          1,
          2,
          4,
          2,
          4,
          5,
          3,
          4,
          5,
          4,
          4,
          5,
          2,
          2,
          1,
          2,
          2,
          0,
          1,
          1,
          2,
          3,
          2,
          4,
          2,
          2,
          2,
          1,
          0,
          1,
          0,
          1,
          3,
          3,
          3,
          3,
          2,
          1,
          3,
          1,
          2,
          2,
          2,
          2,
          4,
          2,
          2,
          3,
          1,
          3,
          3,
          3,
          2,
          2,
          4,
          4,
          4,
          5,
          4,
          2,
          1,
          2,
          0,
          0,
          0,
          0,
          0,
          0,
          2,
          1,
          3,
          6,
          6,
          5,
          4,
          4,
          2,
          1,
          2,
          3,
          2,
          0,
          0
         ]
        }
       ],
       "layout": {
        "template": {
         "data": {
          "bar": [
           {
            "error_x": {
             "color": "#2a3f5f"
            },
            "error_y": {
             "color": "#2a3f5f"
            },
            "marker": {
             "line": {
              "color": "#E5ECF6",
              "width": 0.5
             }
            },
            "type": "bar"
           }
          ],
          "barpolar": [
           {
            "marker": {
             "line": {
              "color": "#E5ECF6",
              "width": 0.5
             }
            },
            "type": "barpolar"
           }
          ],
          "carpet": [
           {
            "aaxis": {
             "endlinecolor": "#2a3f5f",
             "gridcolor": "white",
             "linecolor": "white",
             "minorgridcolor": "white",
             "startlinecolor": "#2a3f5f"
            },
            "baxis": {
             "endlinecolor": "#2a3f5f",
             "gridcolor": "white",
             "linecolor": "white",
             "minorgridcolor": "white",
             "startlinecolor": "#2a3f5f"
            },
            "type": "carpet"
           }
          ],
          "choropleth": [
           {
            "colorbar": {
             "outlinewidth": 0,
             "ticks": ""
            },
            "type": "choropleth"
           }
          ],
          "contour": [
           {
            "colorbar": {
             "outlinewidth": 0,
             "ticks": ""
            },
            "colorscale": [
             [
              0,
              "#0d0887"
             ],
             [
              0.1111111111111111,
              "#46039f"
             ],
             [
              0.2222222222222222,
              "#7201a8"
             ],
             [
              0.3333333333333333,
              "#9c179e"
             ],
             [
              0.4444444444444444,
              "#bd3786"
             ],
             [
              0.5555555555555556,
              "#d8576b"
             ],
             [
              0.6666666666666666,
              "#ed7953"
             ],
             [
              0.7777777777777778,
              "#fb9f3a"
             ],
             [
              0.8888888888888888,
              "#fdca26"
             ],
             [
              1,
              "#f0f921"
             ]
            ],
            "type": "contour"
           }
          ],
          "contourcarpet": [
           {
            "colorbar": {
             "outlinewidth": 0,
             "ticks": ""
            },
            "type": "contourcarpet"
           }
          ],
          "heatmap": [
           {
            "colorbar": {
             "outlinewidth": 0,
             "ticks": ""
            },
            "colorscale": [
             [
              0,
              "#0d0887"
             ],
             [
              0.1111111111111111,
              "#46039f"
             ],
             [
              0.2222222222222222,
              "#7201a8"
             ],
             [
              0.3333333333333333,
              "#9c179e"
             ],
             [
              0.4444444444444444,
              "#bd3786"
             ],
             [
              0.5555555555555556,
              "#d8576b"
             ],
             [
              0.6666666666666666,
              "#ed7953"
             ],
             [
              0.7777777777777778,
              "#fb9f3a"
             ],
             [
              0.8888888888888888,
              "#fdca26"
             ],
             [
              1,
              "#f0f921"
             ]
            ],
            "type": "heatmap"
           }
          ],
          "heatmapgl": [
           {
            "colorbar": {
             "outlinewidth": 0,
             "ticks": ""
            },
            "colorscale": [
             [
              0,
              "#0d0887"
             ],
             [
              0.1111111111111111,
              "#46039f"
             ],
             [
              0.2222222222222222,
              "#7201a8"
             ],
             [
              0.3333333333333333,
              "#9c179e"
             ],
             [
              0.4444444444444444,
              "#bd3786"
             ],
             [
              0.5555555555555556,
              "#d8576b"
             ],
             [
              0.6666666666666666,
              "#ed7953"
             ],
             [
              0.7777777777777778,
              "#fb9f3a"
             ],
             [
              0.8888888888888888,
              "#fdca26"
             ],
             [
              1,
              "#f0f921"
             ]
            ],
            "type": "heatmapgl"
           }
          ],
          "histogram": [
           {
            "marker": {
             "colorbar": {
              "outlinewidth": 0,
              "ticks": ""
             }
            },
            "type": "histogram"
           }
          ],
          "histogram2d": [
           {
            "colorbar": {
             "outlinewidth": 0,
             "ticks": ""
            },
            "colorscale": [
             [
              0,
              "#0d0887"
             ],
             [
              0.1111111111111111,
              "#46039f"
             ],
             [
              0.2222222222222222,
              "#7201a8"
             ],
             [
              0.3333333333333333,
              "#9c179e"
             ],
             [
              0.4444444444444444,
              "#bd3786"
             ],
             [
              0.5555555555555556,
              "#d8576b"
             ],
             [
              0.6666666666666666,
              "#ed7953"
             ],
             [
              0.7777777777777778,
              "#fb9f3a"
             ],
             [
              0.8888888888888888,
              "#fdca26"
             ],
             [
              1,
              "#f0f921"
             ]
            ],
            "type": "histogram2d"
           }
          ],
          "histogram2dcontour": [
           {
            "colorbar": {
             "outlinewidth": 0,
             "ticks": ""
            },
            "colorscale": [
             [
              0,
              "#0d0887"
             ],
             [
              0.1111111111111111,
              "#46039f"
             ],
             [
              0.2222222222222222,
              "#7201a8"
             ],
             [
              0.3333333333333333,
              "#9c179e"
             ],
             [
              0.4444444444444444,
              "#bd3786"
             ],
             [
              0.5555555555555556,
              "#d8576b"
             ],
             [
              0.6666666666666666,
              "#ed7953"
             ],
             [
              0.7777777777777778,
              "#fb9f3a"
             ],
             [
              0.8888888888888888,
              "#fdca26"
             ],
             [
              1,
              "#f0f921"
             ]
            ],
            "type": "histogram2dcontour"
           }
          ],
          "mesh3d": [
           {
            "colorbar": {
             "outlinewidth": 0,
             "ticks": ""
            },
            "type": "mesh3d"
           }
          ],
          "parcoords": [
           {
            "line": {
             "colorbar": {
              "outlinewidth": 0,
              "ticks": ""
             }
            },
            "type": "parcoords"
           }
          ],
          "pie": [
           {
            "automargin": true,
            "type": "pie"
           }
          ],
          "scatter": [
           {
            "marker": {
             "colorbar": {
              "outlinewidth": 0,
              "ticks": ""
             }
            },
            "type": "scatter"
           }
          ],
          "scatter3d": [
           {
            "line": {
             "colorbar": {
              "outlinewidth": 0,
              "ticks": ""
             }
            },
            "marker": {
             "colorbar": {
              "outlinewidth": 0,
              "ticks": ""
             }
            },
            "type": "scatter3d"
           }
          ],
          "scattercarpet": [
           {
            "marker": {
             "colorbar": {
              "outlinewidth": 0,
              "ticks": ""
             }
            },
            "type": "scattercarpet"
           }
          ],
          "scattergeo": [
           {
            "marker": {
             "colorbar": {
              "outlinewidth": 0,
              "ticks": ""
             }
            },
            "type": "scattergeo"
           }
          ],
          "scattergl": [
           {
            "marker": {
             "colorbar": {
              "outlinewidth": 0,
              "ticks": ""
             }
            },
            "type": "scattergl"
           }
          ],
          "scattermapbox": [
           {
            "marker": {
             "colorbar": {
              "outlinewidth": 0,
              "ticks": ""
             }
            },
            "type": "scattermapbox"
           }
          ],
          "scatterpolar": [
           {
            "marker": {
             "colorbar": {
              "outlinewidth": 0,
              "ticks": ""
             }
            },
            "type": "scatterpolar"
           }
          ],
          "scatterpolargl": [
           {
            "marker": {
             "colorbar": {
              "outlinewidth": 0,
              "ticks": ""
             }
            },
            "type": "scatterpolargl"
           }
          ],
          "scatterternary": [
           {
            "marker": {
             "colorbar": {
              "outlinewidth": 0,
              "ticks": ""
             }
            },
            "type": "scatterternary"
           }
          ],
          "surface": [
           {
            "colorbar": {
             "outlinewidth": 0,
             "ticks": ""
            },
            "colorscale": [
             [
              0,
              "#0d0887"
             ],
             [
              0.1111111111111111,
              "#46039f"
             ],
             [
              0.2222222222222222,
              "#7201a8"
             ],
             [
              0.3333333333333333,
              "#9c179e"
             ],
             [
              0.4444444444444444,
              "#bd3786"
             ],
             [
              0.5555555555555556,
              "#d8576b"
             ],
             [
              0.6666666666666666,
              "#ed7953"
             ],
             [
              0.7777777777777778,
              "#fb9f3a"
             ],
             [
              0.8888888888888888,
              "#fdca26"
             ],
             [
              1,
              "#f0f921"
             ]
            ],
            "type": "surface"
           }
          ],
          "table": [
           {
            "cells": {
             "fill": {
              "color": "#EBF0F8"
             },
             "line": {
              "color": "white"
             }
            },
            "header": {
             "fill": {
              "color": "#C8D4E3"
             },
             "line": {
              "color": "white"
             }
            },
            "type": "table"
           }
          ]
         },
         "layout": {
          "annotationdefaults": {
           "arrowcolor": "#2a3f5f",
           "arrowhead": 0,
           "arrowwidth": 1
          },
          "autotypenumbers": "strict",
          "coloraxis": {
           "colorbar": {
            "outlinewidth": 0,
            "ticks": ""
           }
          },
          "colorscale": {
           "diverging": [
            [
             0,
             "#8e0152"
            ],
            [
             0.1,
             "#c51b7d"
            ],
            [
             0.2,
             "#de77ae"
            ],
            [
             0.3,
             "#f1b6da"
            ],
            [
             0.4,
             "#fde0ef"
            ],
            [
             0.5,
             "#f7f7f7"
            ],
            [
             0.6,
             "#e6f5d0"
            ],
            [
             0.7,
             "#b8e186"
            ],
            [
             0.8,
             "#7fbc41"
            ],
            [
             0.9,
             "#4d9221"
            ],
            [
             1,
             "#276419"
            ]
           ],
           "sequential": [
            [
             0,
             "#0d0887"
            ],
            [
             0.1111111111111111,
             "#46039f"
            ],
            [
             0.2222222222222222,
             "#7201a8"
            ],
            [
             0.3333333333333333,
             "#9c179e"
            ],
            [
             0.4444444444444444,
             "#bd3786"
            ],
            [
             0.5555555555555556,
             "#d8576b"
            ],
            [
             0.6666666666666666,
             "#ed7953"
            ],
            [
             0.7777777777777778,
             "#fb9f3a"
            ],
            [
             0.8888888888888888,
             "#fdca26"
            ],
            [
             1,
             "#f0f921"
            ]
           ],
           "sequentialminus": [
            [
             0,
             "#0d0887"
            ],
            [
             0.1111111111111111,
             "#46039f"
            ],
            [
             0.2222222222222222,
             "#7201a8"
            ],
            [
             0.3333333333333333,
             "#9c179e"
            ],
            [
             0.4444444444444444,
             "#bd3786"
            ],
            [
             0.5555555555555556,
             "#d8576b"
            ],
            [
             0.6666666666666666,
             "#ed7953"
            ],
            [
             0.7777777777777778,
             "#fb9f3a"
            ],
            [
             0.8888888888888888,
             "#fdca26"
            ],
            [
             1,
             "#f0f921"
            ]
           ]
          },
          "colorway": [
           "#636efa",
           "#EF553B",
           "#00cc96",
           "#ab63fa",
           "#FFA15A",
           "#19d3f3",
           "#FF6692",
           "#B6E880",
           "#FF97FF",
           "#FECB52"
          ],
          "font": {
           "color": "#2a3f5f"
          },
          "geo": {
           "bgcolor": "white",
           "lakecolor": "white",
           "landcolor": "#E5ECF6",
           "showlakes": true,
           "showland": true,
           "subunitcolor": "white"
          },
          "hoverlabel": {
           "align": "left"
          },
          "hovermode": "closest",
          "mapbox": {
           "style": "light"
          },
          "paper_bgcolor": "white",
          "plot_bgcolor": "#E5ECF6",
          "polar": {
           "angularaxis": {
            "gridcolor": "white",
            "linecolor": "white",
            "ticks": ""
           },
           "bgcolor": "#E5ECF6",
           "radialaxis": {
            "gridcolor": "white",
            "linecolor": "white",
            "ticks": ""
           }
          },
          "scene": {
           "xaxis": {
            "backgroundcolor": "#E5ECF6",
            "gridcolor": "white",
            "gridwidth": 2,
            "linecolor": "white",
            "showbackground": true,
            "ticks": "",
            "zerolinecolor": "white"
           },
           "yaxis": {
            "backgroundcolor": "#E5ECF6",
            "gridcolor": "white",
            "gridwidth": 2,
            "linecolor": "white",
            "showbackground": true,
            "ticks": "",
            "zerolinecolor": "white"
           },
           "zaxis": {
            "backgroundcolor": "#E5ECF6",
            "gridcolor": "white",
            "gridwidth": 2,
            "linecolor": "white",
            "showbackground": true,
            "ticks": "",
            "zerolinecolor": "white"
           }
          },
          "shapedefaults": {
           "line": {
            "color": "#2a3f5f"
           }
          },
          "ternary": {
           "aaxis": {
            "gridcolor": "white",
            "linecolor": "white",
            "ticks": ""
           },
           "baxis": {
            "gridcolor": "white",
            "linecolor": "white",
            "ticks": ""
           },
           "bgcolor": "#E5ECF6",
           "caxis": {
            "gridcolor": "white",
            "linecolor": "white",
            "ticks": ""
           }
          },
          "title": {
           "x": 0.05
          },
          "xaxis": {
           "automargin": true,
           "gridcolor": "white",
           "linecolor": "white",
           "ticks": "",
           "title": {
            "standoff": 15
           },
           "zerolinecolor": "white",
           "zerolinewidth": 2
          },
          "yaxis": {
           "automargin": true,
           "gridcolor": "white",
           "linecolor": "white",
           "ticks": "",
           "title": {
            "standoff": 15
           },
           "zerolinecolor": "white",
           "zerolinewidth": 2
          }
         }
        }
       }
      }
     },
     "metadata": {},
     "output_type": "display_data"
    }
   ],
   "source": [
    "import plotly.graph_objects as go\n",
    "\n",
    "fig = go.Figure([go.Bar(x=list(dict_num_pump.keys()), y=list(dict_num_pump.values()))])\n",
    "fig.show()\n",
    "\n",
    "fig = go.Figure([go.Bar(x=list(dict_num_pump_pred.keys()), y=list(dict_num_pump_pred.values()))])\n",
    "fig.show()"
   ]
  },
  {
   "cell_type": "code",
   "execution_count": 14,
   "metadata": {},
   "outputs": [
    {
     "data": {
      "text/html": [
       "<div>\n",
       "<style scoped>\n",
       "    .dataframe tbody tr th:only-of-type {\n",
       "        vertical-align: middle;\n",
       "    }\n",
       "\n",
       "    .dataframe tbody tr th {\n",
       "        vertical-align: top;\n",
       "    }\n",
       "\n",
       "    .dataframe thead th {\n",
       "        text-align: right;\n",
       "    }\n",
       "</style>\n",
       "<table border=\"1\" class=\"dataframe\">\n",
       "  <thead>\n",
       "    <tr style=\"text-align: right;\">\n",
       "      <th></th>\n",
       "      <th>0</th>\n",
       "      <th>1</th>\n",
       "      <th>2</th>\n",
       "      <th>3</th>\n",
       "      <th>4</th>\n",
       "      <th>5</th>\n",
       "      <th>6</th>\n",
       "      <th>7</th>\n",
       "      <th>8</th>\n",
       "      <th>9</th>\n",
       "      <th>10</th>\n",
       "      <th>11</th>\n",
       "      <th>12</th>\n",
       "      <th>13</th>\n",
       "      <th>14</th>\n",
       "      <th>15</th>\n",
       "      <th>16</th>\n",
       "      <th>target</th>\n",
       "    </tr>\n",
       "  </thead>\n",
       "  <tbody>\n",
       "    <tr>\n",
       "      <th>397335</th>\n",
       "      <td>nmr</td>\n",
       "      <td>2022-06-15 00:00:00 UTC</td>\n",
       "      <td>0.009953</td>\n",
       "      <td>0.026725</td>\n",
       "      <td>-0.061326</td>\n",
       "      <td>0.013263</td>\n",
       "      <td>-0.031594</td>\n",
       "      <td>0.030202</td>\n",
       "      <td>0.066239</td>\n",
       "      <td>-0.025231</td>\n",
       "      <td>-0.04168</td>\n",
       "      <td>0.130091</td>\n",
       "      <td>0.015258</td>\n",
       "      <td>0.029318</td>\n",
       "      <td>-0.059703</td>\n",
       "      <td>-0.00321</td>\n",
       "      <td>0.047474</td>\n",
       "      <td>1</td>\n",
       "    </tr>\n",
       "  </tbody>\n",
       "</table>\n",
       "</div>"
      ],
      "text/plain": [
       "          0                        1         2         3         4         5  \\\n",
       "397335  nmr  2022-06-15 00:00:00 UTC  0.009953  0.026725 -0.061326  0.013263   \n",
       "\n",
       "               6         7         8         9       10        11        12  \\\n",
       "397335 -0.031594  0.030202  0.066239 -0.025231 -0.04168  0.130091  0.015258   \n",
       "\n",
       "              13        14       15        16  target  \n",
       "397335  0.029318 -0.059703 -0.00321  0.047474       1  "
      ]
     },
     "execution_count": 14,
     "metadata": {},
     "output_type": "execute_result"
    }
   ],
   "source": [
    "DATE_SHOW = '2022-06-15 00:00:00 UTC'\n",
    "df_show = prediktor_real[prediktor_real[1] == DATE_SHOW]\n",
    "df_show[df_show['target'] == 1]"
   ]
  },
  {
   "cell_type": "markdown",
   "metadata": {},
   "source": [
    "# USING MA"
   ]
  },
  {
   "cell_type": "code",
   "execution_count": 33,
   "metadata": {},
   "outputs": [
    {
     "name": "stderr",
     "output_type": "stream",
     "text": [
      "c:\\Users\\asus\\Anaconda3\\lib\\site-packages\\ipykernel_launcher.py:12: SettingWithCopyWarning: \n",
      "A value is trying to be set on a copy of a slice from a DataFrame.\n",
      "Try using .loc[row_indexer,col_indexer] = value instead\n",
      "\n",
      "See the caveats in the documentation: https://pandas.pydata.org/pandas-docs/stable/user_guide/indexing.html#returning-a-view-versus-a-copy\n",
      "  if sys.path[0] == '':\n"
     ]
    }
   ],
   "source": [
    "ma_used = [7, 20, 50]\n",
    "df_checked_ma = copy.copy(df_checked)\n",
    "for i in df_checked_ma.keys():\n",
    "  for j in ma_used:\n",
    "    df_checked_ma[i]['ma_' + str(j)] = df_checked_ma[i]['price'].rolling(window=j).mean()\n",
    "\n",
    "for i in df_checked_ma.keys():\n",
    "  df_checked_ma[i] = df_checked_ma[i].dropna()\n",
    "\n",
    "for i in df_checked_ma.keys():\n",
    "  for j in ma_used:\n",
    "    df_checked_ma[i]['pct_ma_' + str(j)] = (df_checked_ma[i]['price'] - df_checked_ma[i]['ma_' + str(j)])/df_checked_ma[i]['ma_' + str(j)]"
   ]
  },
  {
   "cell_type": "code",
   "execution_count": 68,
   "metadata": {},
   "outputs": [
    {
     "name": "stderr",
     "output_type": "stream",
     "text": [
      "c:\\Users\\asus\\Anaconda3\\lib\\site-packages\\ipykernel_launcher.py:20: RuntimeWarning: divide by zero encountered in double_scalars\n",
      "100%|██████████| 831/831 [06:40<00:00,  2.07it/s]\n"
     ]
    }
   ],
   "source": [
    "PUMP_THRESHOLD = 1\n",
    "WINDOW_BEFORE = 15\n",
    "WINDOW_AFTER = 7\n",
    "\n",
    "data_x = []\n",
    "data_y = []\n",
    "for i in tqdm(list_checked):\n",
    "    try:\n",
    "        max_idx = max(df_checked_ma[i].index)\n",
    "        df_checked_dropna = df_checked_ma[i].dropna()\n",
    "        for j in df_checked_dropna.index:\n",
    "            if j + WINDOW_BEFORE < max_idx-1:\n",
    "                df_temp = df_checked_dropna.loc[j:j+WINDOW_BEFORE-1]\n",
    "                one_data = [i, df_temp['snapped_at'].values[0]] + df_temp['pct_change'].values.tolist() + [df_temp['pct_ma_' + str(k)].values[-1] for k in ma_used]\n",
    "                try:\n",
    "                    low_bound = j+WINDOW_BEFORE\n",
    "                    up_bound = min([low_bound+WINDOW_AFTER,max_idx+1])\n",
    "                    df_temp_next = df_checked_dropna.loc[low_bound:up_bound]\n",
    "                    max_price = max(df_temp_next['price'])\n",
    "                    pct_to_max = (max_price - df_temp['price'].values[-1])/df_temp['price'].values[-1]\n",
    "                    if  pct_to_max > PUMP_THRESHOLD:\n",
    "                        data_y.append(1)\n",
    "                    else:\n",
    "                        data_y.append(0)\n",
    "                    data_x.append(one_data)\n",
    "                except: continue\n",
    "    except: continue"
   ]
  },
  {
   "cell_type": "code",
   "execution_count": 97,
   "metadata": {},
   "outputs": [],
   "source": [
    "TEST_SIZE = 0.2\n",
    "\n",
    "prediktor_real = pd.DataFrame(data_x)\n",
    "prediktor_real['target'] = data_y\n",
    "prediktor_real = prediktor_real.dropna()\n",
    "\n",
    "prediktor = prediktor_real.drop([0,1],1)\n",
    "target = prediktor['target']\n",
    "prediktor = prediktor.drop('target',1)\n",
    "\n",
    "X_train, X_test, y_train, y_test = train_test_split(prediktor, target, test_size= TEST_SIZE)\n",
    "\n",
    "prediktor = pd.DataFrame(X_test)\n",
    "prediktor['target'] = y_test\n",
    "prediktor.replace([np.inf, -np.inf], np.nan, inplace=True)\n",
    "prediktor = prediktor.dropna()\n",
    "prediktor_0 = prediktor[prediktor['target'] == 0]\n",
    "prediktor_1 = prediktor[prediktor['target'] == 1]\n",
    "\n",
    "prediktor = pd.concat([prediktor_0, prediktor_1])\n",
    "y_test = prediktor['target']\n",
    "X_test = prediktor.drop('target',1)\n",
    "\n",
    "\n",
    "prediktor = pd.DataFrame(X_train)\n",
    "prediktor['target'] = y_train\n",
    "prediktor.replace([np.inf, -np.inf], np.nan, inplace=True)\n",
    "prediktor = prediktor.dropna()\n",
    "prediktor_0 = prediktor[prediktor['target'] == 0]\n",
    "prediktor_1 = prediktor[prediktor['target'] == 1]\n",
    "prediktor_0 = prediktor_0.sample(n=int(len(prediktor_0)))\n",
    "\n",
    "prediktor = pd.concat([prediktor_0, prediktor_1])\n",
    "y_train = prediktor['target']\n",
    "X_train = prediktor.drop('target',1)\n",
    "\n",
    "scale = SMOTE()\n",
    "X_train,y_train = scale.fit_resample(X_train, y_train)\n",
    "\n",
    "X = prediktor_real.drop([0,1],1)\n",
    "y = prediktor_real['target']"
   ]
  },
  {
   "cell_type": "code",
   "execution_count": 82,
   "metadata": {},
   "outputs": [],
   "source": [
    "arr_pred = []\n",
    "for i in df_checked_ma.keys():\n",
    "    try:\n",
    "        data_now = df_checked_ma[i].iloc[-WINDOW_BEFORE:]\n",
    "        arr_pred.append(data_now['pct_change'].values.tolist() + [data_now['pct_ma_' + str(k)].values[-1] for k in ma_used])\n",
    "    except: continue\n",
    "test_now = pd.DataFrame(arr_pred).dropna()\n"
   ]
  },
  {
   "cell_type": "code",
   "execution_count": 99,
   "metadata": {},
   "outputs": [
    {
     "name": "stdout",
     "output_type": "stream",
     "text": [
      "              precision    recall  f1-score   support\n",
      "\n",
      "           0       0.67      0.77      0.72    518019\n",
      "           1       0.73      0.63      0.68    518019\n",
      "\n",
      "    accuracy                           0.70   1036038\n",
      "   macro avg       0.70      0.70      0.70   1036038\n",
      "weighted avg       0.70      0.70      0.70   1036038\n",
      "\n",
      "              precision    recall  f1-score   support\n",
      "\n",
      "           0       0.99      0.77      0.87    129504\n",
      "           1       0.05      0.62      0.09      2478\n",
      "\n",
      "    accuracy                           0.77    131982\n",
      "   macro avg       0.52      0.70      0.48    131982\n",
      "weighted avg       0.97      0.77      0.85    131982\n",
      "\n",
      "False Positive Percentage:  0.9500909208988181  FP:  29259  TP:  1537\n",
      "False Negative Rate:  0.009299705492854743  FN:  941  TN:  100245\n",
      "{'adco': 0.5011224427920151, 'anc': 0.5019415819750008, 'aurora': 0.5015291023874403, 'babydoge': 0.5003190070520674, 'bcn': 0.5001724167325184, 'bnt': 0.5005791000119841, 'bor': 0.5004422657966131, 'boring': 0.5004916751454228, 'box': 0.5149489286698136, 'bux': 0.5233180534128113, 'ccd': 0.5034167704181854, 'cdt': 0.5036245346475742, 'cro': 0.5088683563245829, 'cvc': 0.5007154000489054, 'dag': 0.5008956833079177, 'deto': 0.5010690838377433, 'dka': 0.5015846439300271, 'dodo': 0.5001367218186928, 'dot': 0.5172892653605929, 'elg': 0.5015846439300271, 'es': 0.5022306893789913, 'fida': 0.5136689790985478, 'fidu': 0.5091679428734013, 'ftt': 0.5017151336830487, 'gmt': 0.5051072957689199, 'gxc': 0.5012177591091237, 'hns': 0.5005543305743837, 'husd': 0.5007154000489054, 'inj': 0.5058535363553803, 'kin': 0.5010649433515224, 'knc': 0.5008956833079177, 'loka': 0.5045873711301603, 'ltc': 0.5031634618735361, 'mft': 0.5048592472246425, 'mv': 0.502746694408276, 'mxc': 0.5115580243461475, 'nct': 0.511576027164343, 'nsbt': 0.5015846439300271, 'nxs': 0.5004050037362171, 'ousd': 0.5024274444016719, 'oxt': 0.5030604207768382, 'pac': 0.5088180769706796, 'pha': 0.500894980528181, 'phonon': 0.5059156881624545, 'pnk': 0.5015450344279245, 'psg': 0.5005791000119841, 'pyr': 0.5052349918265219, 'qnt': 0.5053116310605054, 'quick': 0.5016368950857082, 'rail': 0.5022306893789913, 'rari': 0.5017940328860345, 'rdpx': 0.5045305736574488, 'rei': 0.5062514597700809, 'rif': 0.5066688659424955, 'rise': 0.5072217987499454, 'rly': 0.5008584008399676, 'sfp': 0.5003801204240639, 'snx': 0.5030988092991264, 'sol': 0.5107913961249821, 'stc': 0.5036534242607607, 'super': 0.5069435260189519, 'susd': 0.5035375996330861, 'sx': 0.504461300067013, 'sxp': 0.5060005077580694, 'sys': 0.5017305468114585, 'tomo': 0.5010236918128574, 'tusd': 0.5026686697119216, 'undead': 0.501778011615216, 'vite': 0.5052207329993423, 'vxv': 0.5002505473145803, 'wan': 0.5003684164206259, 'wcfg': 0.5038984558813944, 'woop': 0.5046735234907995, 'xdc': 0.5000389455389731, 'xno': 0.5017151336830487, 'xprt': 0.5010690838377433}\n",
      "76\n"
     ]
    }
   ],
   "source": [
    "from sklearn.ensemble import RandomForestClassifier,AdaBoostClassifier\n",
    "\n",
    "model2 = AdaBoostClassifier().fit(X_train, y_train)\n",
    "\n",
    "y_train_pred = model2.predict(X_train)\n",
    "y_test_pred = model2.predict(X_test)\n",
    "# y_pred = model2.predict(X)\n",
    "\n",
    "print(classification_report(y_train, y_train_pred))\n",
    "print(classification_report(y_test, y_test_pred))\n",
    "# print(classification_report(y, y_pred))\n",
    "\n",
    "tn, fp, fn, tp  = confusion_matrix(y_test, y_test_pred).ravel()\n",
    "\n",
    "FPP = fp/(fp+tp)\n",
    "FNP = fn/(tn+fn)\n",
    "\n",
    "print('False Positive Percentage: ', FPP, ' FP: ', fp, ' TP: ', tp)\n",
    "print('False Negative Rate: ', FNP, ' FN: ', fn, ' TN: ', tn)\n",
    "\n",
    "ab_pred = model2.predict(test_now)\n",
    "ab_pred_proba = model2.predict_proba(test_now)\n",
    "ab_pred_coin = {}\n",
    "for i in range(len(ab_pred)):\n",
    "    if ab_pred[i] == 1:\n",
    "        ab_pred_coin[coin_list[i]] = ab_pred_proba[i][1]\n",
    "print(ab_pred_coin)\n",
    "print(len(ab_pred_coin))\n"
   ]
  },
  {
   "cell_type": "code",
   "execution_count": 100,
   "metadata": {},
   "outputs": [
    {
     "name": "stdout",
     "output_type": "stream",
     "text": [
      "              precision    recall  f1-score   support\n",
      "\n",
      "           0       1.00      1.00      1.00    518019\n",
      "           1       1.00      1.00      1.00    518019\n",
      "\n",
      "    accuracy                           1.00   1036038\n",
      "   macro avg       1.00      1.00      1.00   1036038\n",
      "weighted avg       1.00      1.00      1.00   1036038\n",
      "\n",
      "              precision    recall  f1-score   support\n",
      "\n",
      "           0       0.98      0.98      0.98    129504\n",
      "           1       0.18      0.21      0.20      2478\n",
      "\n",
      "    accuracy                           0.97    131982\n",
      "   macro avg       0.58      0.60      0.59    131982\n",
      "weighted avg       0.97      0.97      0.97    131982\n",
      "\n",
      "False Positive Percentage:  0.8181506849315069  FP:  2389  TP:  531\n",
      "False Negative Rate:  0.015085772729385877  FN:  1947  TN:  127115\n",
      "{'bux': 0.91, 'fida': 0.58, 'fidu': 0.56, 'mxc': 0.67, 'rdpx': 0.68, 'rei': 0.62, 'wnxm': 0.6}\n",
      "7\n"
     ]
    }
   ],
   "source": [
    "model4 = RandomForestClassifier().fit(X_train, y_train)\n",
    "\n",
    "y_train_pred = model4.predict(X_train)\n",
    "y_test_pred = model4.predict(X_test)\n",
    "# y_pred = model4.predict(X)\n",
    "\n",
    "print(classification_report(y_train, y_train_pred))\n",
    "print(classification_report(y_test, y_test_pred))\n",
    "# print(classification_report(y, y_pred))\n",
    "\n",
    "tn, fp, fn, tp  = confusion_matrix(y_test, y_test_pred).ravel()\n",
    "\n",
    "FPP = fp/(fp+tp)\n",
    "FNP = fn/(tn+fn)\n",
    "\n",
    "print('False Positive Percentage: ', FPP, ' FP: ', fp, ' TP: ', tp)\n",
    "print('False Negative Rate: ', FNP, ' FN: ', fn, ' TN: ', tn)\n",
    "\n",
    "rf_pred = model4.predict(test_now)\n",
    "rf_pred_proba = model4.predict_proba(test_now)\n",
    "rf_pred_coin = {}\n",
    "for i in range(len(rf_pred)):\n",
    "    if rf_pred[i] == 1:\n",
    "        rf_pred_coin[coin_list[i]] = rf_pred_proba[i][1]\n",
    "print(rf_pred_coin)\n",
    "print(len(rf_pred_coin))"
   ]
  },
  {
   "cell_type": "code",
   "execution_count": 102,
   "metadata": {},
   "outputs": [
    {
     "name": "stdout",
     "output_type": "stream",
     "text": [
      "{'max_depth': 12, 'n_estimators': 200}\n"
     ]
    }
   ],
   "source": [
    "from sklearn.model_selection import GridSearchCV\n",
    "\n",
    "param_grid = { \n",
    "    'n_estimators': [200, 500],\n",
    "    'max_depth' : [4, 8, 12],\n",
    "    # 'criterion' :['gini', 'entropy']\n",
    "}\n",
    "\n",
    "model4 = RandomForestClassifier()\n",
    "\n",
    "cv_model4 = GridSearchCV(estimator=model4, param_grid=param_grid, cv= 5)\n",
    "cv_model4.fit(X_train, y_train)\n",
    "print(cv_model4.best_params_)"
   ]
  },
  {
   "cell_type": "code",
   "execution_count": 103,
   "metadata": {},
   "outputs": [
    {
     "data": {
      "text/plain": [
       "{'mean_fit_time': array([ 394.67731905,  963.68347168,  745.04512391, 1771.3310657 ,\n",
       "         945.37780786, 2473.71791735]),\n",
       " 'std_fit_time': array([  5.13253717,  44.58993148,   5.31360743,  48.11548609,\n",
       "          9.66296047, 149.82966995]),\n",
       " 'mean_score_time': array([ 2.52139006,  6.06971827,  3.4976284 ,  8.26511464,  4.4900033 ,\n",
       "        12.15226002]),\n",
       " 'std_score_time': array([0.27177996, 0.265858  , 0.2835551 , 0.71665571, 0.09729807,\n",
       "        0.57500583]),\n",
       " 'param_max_depth': masked_array(data=[4, 4, 8, 8, 12, 12],\n",
       "              mask=[False, False, False, False, False, False],\n",
       "        fill_value='?',\n",
       "             dtype=object),\n",
       " 'param_n_estimators': masked_array(data=[200, 500, 200, 500, 200, 500],\n",
       "              mask=[False, False, False, False, False, False],\n",
       "        fill_value='?',\n",
       "             dtype=object),\n",
       " 'params': [{'max_depth': 4, 'n_estimators': 200},\n",
       "  {'max_depth': 4, 'n_estimators': 500},\n",
       "  {'max_depth': 8, 'n_estimators': 200},\n",
       "  {'max_depth': 8, 'n_estimators': 500},\n",
       "  {'max_depth': 12, 'n_estimators': 200},\n",
       "  {'max_depth': 12, 'n_estimators': 500}],\n",
       " 'split0_test_score': array([0.69349639, 0.69313443, 0.70953342, 0.70906529, 0.73817613,\n",
       "        0.73747635]),\n",
       " 'split1_test_score': array([0.69128605, 0.69127157, 0.7062903 , 0.70665708, 0.73627466,\n",
       "        0.73591753]),\n",
       " 'split2_test_score': array([0.68826011, 0.68826976, 0.70419578, 0.70422957, 0.7339678 ,\n",
       "        0.73377958]),\n",
       " 'split3_test_score': array([0.69036278, 0.68982708, 0.70557462, 0.70573388, 0.73423678,\n",
       "        0.73404373]),\n",
       " 'split4_test_score': array([0.69071026, 0.69133282, 0.70716723, 0.70665084, 0.73579561,\n",
       "        0.73605621]),\n",
       " 'mean_test_score': array([0.69082312, 0.69076713, 0.70655227, 0.70646733, 0.7356902 ,\n",
       "        0.73545468]),\n",
       " 'std_test_score': array([0.00168252, 0.0016309 , 0.00178005, 0.00157255, 0.00152392,\n",
       "        0.0013755 ]),\n",
       " 'rank_test_score': array([5, 6, 3, 4, 1, 2])}"
      ]
     },
     "execution_count": 103,
     "metadata": {},
     "output_type": "execute_result"
    }
   ],
   "source": [
    "cv_model4.cv_results_"
   ]
  },
  {
   "cell_type": "code",
   "execution_count": 104,
   "metadata": {},
   "outputs": [
    {
     "name": "stdout",
     "output_type": "stream",
     "text": [
      "              precision    recall  f1-score   support\n",
      "\n",
      "           0       0.71      0.83      0.76    518019\n",
      "           1       0.79      0.66      0.72    518019\n",
      "\n",
      "    accuracy                           0.74   1036038\n",
      "   macro avg       0.75      0.74      0.74   1036038\n",
      "weighted avg       0.75      0.74      0.74   1036038\n",
      "\n",
      "              precision    recall  f1-score   support\n",
      "\n",
      "           0       0.99      0.82      0.90    129504\n",
      "           1       0.06      0.57      0.10      2478\n",
      "\n",
      "    accuracy                           0.81    131982\n",
      "   macro avg       0.52      0.69      0.50    131982\n",
      "weighted avg       0.97      0.81      0.88    131982\n",
      "\n",
      "False Positive Percentage:  0.9438373163604339  FP:  23578  TP:  1403\n",
      "False Negative Rate:  0.01004663507817684  FN:  1075  TN:  105926\n",
      "{'10set': 0.5151279104274523, 'adco': 0.5019814457975728, 'anc': 0.520420362725112, 'arpa': 0.6001704218195122, 'asd': 0.500569640754966, 'ast': 0.5181987331723062, 'babydoge': 0.5377118075190446, 'box': 0.5339895985947891, 'bux': 0.9542818367525476, 'cdai': 0.5626990442715089, 'cdt': 0.5644550793426468, 'cro': 0.691537454018548, 'dag': 0.5527842350397734, 'dodo': 0.5253577513786045, 'fida': 0.7233789783640684, 'fidu': 0.7675073398632205, 'gmt': 0.6123060697749849, 'inj': 0.5421459515878704, 'kin': 0.529347898501308, 'ltc': 0.6698317716013407, 'mft': 0.6356186594448655, 'mv': 0.6204968002275919, 'mxc': 0.8884975244592732, 'ousd': 0.5576094792406497, 'pbx': 0.5060625631943495, 'pha': 0.5150095134617597, 'phonon': 0.7066729936026297, 'pyr': 0.6362711169565528, 'qnt': 0.5033822748321328, 'rari': 0.6403916046442408, 'rdpx': 0.8323846338375266, 'rei': 0.7687119295897056, 'rif': 0.6880454488315746, 'rise': 0.7719345335510305, 'scrt': 0.5631531109613623, 'snx': 0.5127899898836165, 'sol': 0.7945647334858975, 'stc': 0.6227317465567949, 'susd': 0.5630231271521707, 'swp': 0.5003330751068985, 'sx': 0.5326093376518098, 'undead': 0.573890829143527, 'wan': 0.5175277645769618, 'wcfg': 0.6414668647386987, 'wnxm': 0.5573628913274653, 'woop': 0.5166695099153323, 'xdc': 0.5398812689278935, 'xdg': 0.5196488728534745}\n",
      "48\n"
     ]
    }
   ],
   "source": [
    "model4 = cv_model4\n",
    "# model4 = RandomForestClassifier().fit(X_train, y_train)\n",
    "\n",
    "y_train_pred = model4.predict(X_train)\n",
    "y_test_pred = model4.predict(X_test)\n",
    "# y_pred = model4.predict(X)\n",
    "\n",
    "print(classification_report(y_train, y_train_pred))\n",
    "print(classification_report(y_test, y_test_pred))\n",
    "# print(classification_report(y, y_pred))\n",
    "\n",
    "tn, fp, fn, tp  = confusion_matrix(y_test, y_test_pred).ravel()\n",
    "\n",
    "FPP = fp/(fp+tp)\n",
    "FNP = fn/(tn+fn)\n",
    "\n",
    "print('False Positive Percentage: ', FPP, ' FP: ', fp, ' TP: ', tp)\n",
    "print('False Negative Rate: ', FNP, ' FN: ', fn, ' TN: ', tn)\n",
    "\n",
    "rf_pred = model4.predict(test_now)\n",
    "rf_pred_proba = model4.predict_proba(test_now)\n",
    "rf_pred_coin = {}\n",
    "for i in range(len(rf_pred)):\n",
    "    if rf_pred[i] == 1:\n",
    "        rf_pred_coin[coin_list[i]] = rf_pred_proba[i][1]\n",
    "print(rf_pred_coin)\n",
    "print(len(rf_pred_coin))\n"
   ]
  },
  {
   "cell_type": "code",
   "execution_count": 101,
   "metadata": {},
   "outputs": [
    {
     "name": "stdout",
     "output_type": "stream",
     "text": [
      "              precision    recall  f1-score   support\n",
      "\n",
      "           0       0.68      0.77      0.73    518019\n",
      "           1       0.74      0.64      0.69    518019\n",
      "\n",
      "    accuracy                           0.71   1036038\n",
      "   macro avg       0.71      0.71      0.71   1036038\n",
      "weighted avg       0.71      0.71      0.71   1036038\n",
      "\n",
      "              precision    recall  f1-score   support\n",
      "\n",
      "           0       0.99      0.77      0.87    129504\n",
      "           1       0.05      0.64      0.09      2478\n",
      "\n",
      "    accuracy                           0.77    131982\n",
      "   macro avg       0.52      0.71      0.48    131982\n",
      "weighted avg       0.97      0.77      0.85    131982\n",
      "\n",
      "False Positive Percentage:  0.9489077042399172  FP:  29363  TP:  1581\n",
      "False Negative Rate:  0.008877847938399415  FN:  897  TN:  100141\n",
      "{'10set': 0.5438995360119299, 'anc': 0.60541415226599, 'aog': 0.5529154390082265, 'arpa': 0.5827276669976558, 'asd': 0.5630436205142474, 'auto': 0.5172260432321362, 'babydoge': 0.5940445041340778, 'box': 0.9455369945163761, 'bux': 0.9709351440931491, 'cdai': 0.5721416120631578, 'cdt': 0.7028844833098983, 'cro': 0.8237174924774351, 'cvc': 0.576979618154498, 'dag': 0.6703652729376991, 'dodo': 0.6044731494828967, 'dot': 0.7641739584329116, 'fida': 0.8391296538432451, 'fidu': 0.7806752579955156, 'gmt': 0.7435364858431082, 'gxc': 0.5554084059473869, 'husd': 0.545791194722634, 'inj': 0.6233465437472026, 'kin': 0.5574815873656874, 'kp3r': 0.5407636032741169, 'lqty': 0.5491904162106062, 'ltc': 0.6927495666683019, 'mdx': 0.5820430178783352, 'mft': 0.7728610098798434, 'mv': 0.6771432004773309, 'mxc': 0.8609718062434338, 'nct': 0.7600951512448181, 'ousd': 0.573295265985729, 'pac': 0.7575302163405714, 'pbx': 0.6922655016238031, 'pha': 0.5855626617633679, 'phonon': 0.7559909798374075, 'pnk': 0.5672330475055869, 'pundix': 0.6215577104390694, 'pyr': 0.6988754516190204, 'qnt': 0.610330526254814, 'quick': 0.5353479056405167, 'rari': 0.6622267896804398, 'rdpx': 0.8008642779285198, 'rei': 0.8618819416172018, 'rif': 0.6783704325628724, 'rise': 0.828305587717535, 'rly': 0.533808862362625, 'scrt': 0.5933648641182715, 'sdn': 0.5713900017221579, 'sfp': 0.5110790718361483, 'snx': 0.6396576933612127, 'sol': 0.813451378971908, 'stc': 0.7571105808967555, 'super': 0.634034547522956, 'susd': 0.6781192791787242, 'sx': 0.5795191673901484, 'sxp': 0.5676940057602683, 'tusd': 0.8079062439481357, 'undead': 0.5711167831889165, 'vite': 0.613527084013048, 'wan': 0.5283855574204722, 'wcfg': 0.7360610769313672, 'woop': 0.5629627854203831, 'xdc': 0.5913067831747912, 'xdg': 0.5500116833073151}\n",
      "65\n"
     ]
    }
   ],
   "source": [
    "from sklearn.ensemble import GradientBoostingClassifier\n",
    "\n",
    "model5 = GradientBoostingClassifier().fit(X_train, y_train)\n",
    "\n",
    "y_train_pred = model5.predict(X_train)\n",
    "y_test_pred = model5.predict(X_test)\n",
    "# y_pred = model5.predict(X)\n",
    "\n",
    "print(classification_report(y_train, y_train_pred))\n",
    "print(classification_report(y_test, y_test_pred))\n",
    "# print(classification_report(y, y_pred))\n",
    "\n",
    "tn, fp, fn, tp  = confusion_matrix(y_test, y_test_pred).ravel()\n",
    "\n",
    "FPP = fp/(fp+tp)\n",
    "FNP = fn/(tn+fn)\n",
    "\n",
    "print('False Positive Percentage: ', FPP, ' FP: ', fp, ' TP: ', tp)\n",
    "print('False Negative Rate: ', FNP, ' FN: ', fn, ' TN: ', tn)\n",
    "\n",
    "gb_pred = model5.predict(test_now)\n",
    "gb_pred_proba = model5.predict_proba(test_now)\n",
    "gb_pred_coin = {}\n",
    "for i in range(len(gb_pred)):\n",
    "    if gb_pred[i] == 1:\n",
    "        gb_pred_coin[coin_list[i]] = gb_pred_proba[i][1]\n",
    "print(gb_pred_coin)\n",
    "print(len(gb_pred_coin))\n"
   ]
  },
  {
   "cell_type": "code",
   "execution_count": 94,
   "metadata": {},
   "outputs": [
    {
     "name": "stdout",
     "output_type": "stream",
     "text": [
      "              precision    recall  f1-score   support\n",
      "\n",
      "           0       0.91      0.80      0.85     19848\n",
      "           1       0.82      0.92      0.87     19848\n",
      "\n",
      "    accuracy                           0.86     39696\n",
      "   macro avg       0.87      0.86      0.86     39696\n",
      "weighted avg       0.87      0.86      0.86     39696\n",
      "\n",
      "              precision    recall  f1-score   support\n",
      "\n",
      "           0       0.99      0.73      0.84    129524\n",
      "           1       0.04      0.62      0.08      2458\n",
      "\n",
      "    accuracy                           0.72    131982\n",
      "   macro avg       0.52      0.67      0.46    131982\n",
      "weighted avg       0.97      0.72      0.82    131982\n",
      "\n",
      "False Positive Percentage:  0.9590307538880354  FP:  35581  TP:  1520\n",
      "False Negative Rate:  0.009886067811258312  FN:  938  TN:  93943\n",
      "{'ae': 0.6, 'alcx': 0.6, 'alu': 0.8, 'anc': 1.0, 'aog': 0.8, 'arpa': 0.8, 'ata': 0.8, 'atolo': 0.6, 'auction': 0.6, 'audio': 0.6, 'aurora': 0.8, 'ava': 1.0, 'babydoge': 0.6, 'badger': 0.8, 'bat': 0.8, 'bcd': 0.6, 'bcn': 0.8, 'bel': 0.6, 'bico': 0.6, 'bmx': 0.6, 'boo': 0.6, 'boring': 0.6, 'box': 1.0, 'btm': 0.6, 'btr': 0.8, 'btrfly': 0.6, 'bux': 1.0, 'bwo': 0.6, 'c98': 0.6, 'cate': 0.8, 'cel': 0.6, 'chess': 0.6, 'chsb': 0.8, 'chz': 0.6, 'cro': 1.0, 'crv': 0.8, 'ctx': 0.8, 'cvc': 0.6, 'cvxcrv': 0.6, 'dcr': 0.8, 'dei': 0.6, 'deto': 0.6, 'dfi': 0.6, 'dg': 0.6, 'DIA': 0.6, 'dka': 0.8, 'dodo': 0.6, 'dot': 1.0, 'dpx': 0.8, 'elon': 0.6, 'eth': 0.6, 'eurs': 0.6, 'eurt': 0.6, 'fida': 1.0, 'fidu': 0.6, 'frax': 0.6, 'fx': 0.6, 'gf': 0.6, 'gmt': 1.0, 'gno': 1.0, 'go': 1.0, 'gt': 0.6, 'gxc': 0.8, 'hns': 0.8, 'hxro': 0.6, 'inj': 0.8, 'iotx': 1.0, 'jade': 0.6, 'kda': 0.6, 'keep': 0.8, 'kin': 0.8, 'knc': 1.0, 'kp3r': 0.6, 'lazio': 1.0, 'lcx': 0.8, 'lend': 0.6, 'lpt': 1.0, 'lqty': 1.0, 'ltc': 0.8, 'lyxe': 0.6, 'mdt': 0.6, 'med': 0.6, 'meta': 1.0, 'mft': 1.0, 'mtrg': 0.6, 'mv': 1.0, 'mxc': 1.0, 'myst': 0.8, 'nct': 0.6, 'near': 0.6, 'ngc': 0.6, 'ngm': 0.6, 'npxs': 0.8, 'nu': 1.0, 'ooe': 0.6, 'osmo': 0.6, 'ousd': 0.8, 'ovr': 0.6, 'oxt': 0.8, 'pac': 1.0, 'pbx': 1.0, 'phonon': 0.8, 'pla': 0.6, 'pnk': 0.6, 'pokt': 0.6, 'poly': 1.0, 'pop': 0.8, 'pro': 1.0, 'pundix': 0.6, 'qanx': 0.6, 'qi': 0.8, 'quack': 0.8, 'quick': 1.0, 'raca': 0.6, 'rari': 1.0, 'rdpx': 0.8, 'req': 0.6, 'rgt': 0.6, 'rif': 1.0, 'rise': 0.6, 'rly': 0.8, 'safemoon': 0.6, 'saito': 0.6, 'sand': 0.8, 'savax': 0.8, 'scp': 0.8, 'skl': 0.6, 'snx': 0.8, 'sol': 0.8, 'stc': 0.8, 'steth': 0.6, 'stg': 0.6, 'super': 0.6, 'susd': 0.6, 'sx': 0.8, 'sxp': 1.0, 'sylo': 0.6, 'syn': 0.6, 'thor': 0.6, 'time': 0.8, 'tlos': 1.0, 'tpt': 0.6, 'tusd': 1.0, 'usdn': 0.6, 'usv': 0.6, 'valor': 1.0, 'vid': 0.6, 'vite': 0.8, 'vr': 0.6, 'vra': 0.6, 'vro': 0.6, 'wan': 0.6, 'waves': 0.6, 'wcfg': 0.8, 'wild': 0.6, 'wnxm': 0.8, 'woo': 0.6, 'x2y2': 0.8, 'xch': 0.6, 'xdc': 0.6, 'xdg': 0.6, 'xki': 0.6}\n",
      "162\n"
     ]
    }
   ],
   "source": [
    "from sklearn.neighbors import KNeighborsClassifier\n",
    "\n",
    "model1 = KNeighborsClassifier().fit(X_train, y_train)\n",
    "\n",
    "y_train_pred = model1.predict(X_train)\n",
    "y_test_pred = model1.predict(X_test)\n",
    "# y_pred = model1.predict(X)\n",
    "\n",
    "print(classification_report(y_train, y_train_pred))\n",
    "print(classification_report(y_test, y_test_pred))\n",
    "# print(classification_report(y, y_pred))\n",
    "\n",
    "tn, fp, fn, tp  = confusion_matrix(y_test, y_test_pred).ravel()\n",
    "\n",
    "FPP = fp/(fp+tp)\n",
    "FNP = fn/(tn+fn)\n",
    "\n",
    "print('False Positive Percentage: ', FPP, ' FP: ', fp, ' TP: ', tp)\n",
    "print('False Negative Rate: ', FNP, ' FN: ', fn, ' TN: ', tn)\n",
    "\n",
    "knn_pred = model1.predict(test_now)\n",
    "knn_pred_proba = model1.predict_proba(test_now)\n",
    "knn_pred_coin = {}\n",
    "for i in range(len(knn_pred)):\n",
    "    if knn_pred[i] == 1:\n",
    "        knn_pred_coin[coin_list[i]] = knn_pred_proba[i][1]\n",
    "print(knn_pred_coin)\n",
    "print(len(knn_pred_coin))\n",
    "\n"
   ]
  },
  {
   "cell_type": "code",
   "execution_count": 92,
   "metadata": {},
   "outputs": [
    {
     "ename": "MemoryError",
     "evalue": "Unable to allocate 2.91 GiB for an array with shape (19756, 19756) and data type float64",
     "output_type": "error",
     "traceback": [
      "\u001b[1;31m---------------------------------------------------------------------------\u001b[0m",
      "\u001b[1;31mMemoryError\u001b[0m                               Traceback (most recent call last)",
      "\u001b[1;32m<ipython-input-92-59057fffde20>\u001b[0m in \u001b[0;36m<module>\u001b[1;34m\u001b[0m\n\u001b[0;32m      1\u001b[0m \u001b[1;32mfrom\u001b[0m \u001b[0msklearn\u001b[0m\u001b[1;33m.\u001b[0m\u001b[0mgaussian_process\u001b[0m \u001b[1;32mimport\u001b[0m \u001b[0mGaussianProcessClassifier\u001b[0m\u001b[1;33m\u001b[0m\u001b[1;33m\u001b[0m\u001b[0m\n\u001b[0;32m      2\u001b[0m \u001b[1;33m\u001b[0m\u001b[0m\n\u001b[1;32m----> 3\u001b[1;33m \u001b[0mmodel\u001b[0m \u001b[1;33m=\u001b[0m \u001b[0mGaussianProcessClassifier\u001b[0m\u001b[1;33m(\u001b[0m\u001b[1;33m)\u001b[0m\u001b[1;33m.\u001b[0m\u001b[0mfit\u001b[0m\u001b[1;33m(\u001b[0m\u001b[0mX_train\u001b[0m\u001b[1;33m,\u001b[0m \u001b[0my_train\u001b[0m\u001b[1;33m)\u001b[0m\u001b[1;33m\u001b[0m\u001b[1;33m\u001b[0m\u001b[0m\n\u001b[0m\u001b[0;32m      4\u001b[0m \u001b[1;33m\u001b[0m\u001b[0m\n\u001b[0;32m      5\u001b[0m \u001b[0my_train_pred\u001b[0m \u001b[1;33m=\u001b[0m \u001b[0mmodel\u001b[0m\u001b[1;33m.\u001b[0m\u001b[0mpredict\u001b[0m\u001b[1;33m(\u001b[0m\u001b[0mX_train\u001b[0m\u001b[1;33m)\u001b[0m\u001b[1;33m\u001b[0m\u001b[1;33m\u001b[0m\u001b[0m\n",
      "\u001b[1;32mc:\\Users\\asus\\Anaconda3\\lib\\site-packages\\sklearn\\gaussian_process\\_gpc.py\u001b[0m in \u001b[0;36mfit\u001b[1;34m(self, X, y)\u001b[0m\n\u001b[0;32m    662\u001b[0m                                  % self.multi_class)\n\u001b[0;32m    663\u001b[0m \u001b[1;33m\u001b[0m\u001b[0m\n\u001b[1;32m--> 664\u001b[1;33m         \u001b[0mself\u001b[0m\u001b[1;33m.\u001b[0m\u001b[0mbase_estimator_\u001b[0m\u001b[1;33m.\u001b[0m\u001b[0mfit\u001b[0m\u001b[1;33m(\u001b[0m\u001b[0mX\u001b[0m\u001b[1;33m,\u001b[0m \u001b[0my\u001b[0m\u001b[1;33m)\u001b[0m\u001b[1;33m\u001b[0m\u001b[1;33m\u001b[0m\u001b[0m\n\u001b[0m\u001b[0;32m    665\u001b[0m \u001b[1;33m\u001b[0m\u001b[0m\n\u001b[0;32m    666\u001b[0m         \u001b[1;32mif\u001b[0m \u001b[0mself\u001b[0m\u001b[1;33m.\u001b[0m\u001b[0mn_classes_\u001b[0m \u001b[1;33m>\u001b[0m \u001b[1;36m2\u001b[0m\u001b[1;33m:\u001b[0m\u001b[1;33m\u001b[0m\u001b[1;33m\u001b[0m\u001b[0m\n",
      "\u001b[1;32mc:\\Users\\asus\\Anaconda3\\lib\\site-packages\\sklearn\\gaussian_process\\_gpc.py\u001b[0m in \u001b[0;36mfit\u001b[1;34m(self, X, y)\u001b[0m\n\u001b[0;32m    237\u001b[0m         \u001b[1;32melse\u001b[0m\u001b[1;33m:\u001b[0m\u001b[1;33m\u001b[0m\u001b[1;33m\u001b[0m\u001b[0m\n\u001b[0;32m    238\u001b[0m             \u001b[0mself\u001b[0m\u001b[1;33m.\u001b[0m\u001b[0mlog_marginal_likelihood_value_\u001b[0m \u001b[1;33m=\u001b[0m\u001b[0;31m \u001b[0m\u001b[0;31m\\\u001b[0m\u001b[1;33m\u001b[0m\u001b[1;33m\u001b[0m\u001b[0m\n\u001b[1;32m--> 239\u001b[1;33m                 \u001b[0mself\u001b[0m\u001b[1;33m.\u001b[0m\u001b[0mlog_marginal_likelihood\u001b[0m\u001b[1;33m(\u001b[0m\u001b[0mself\u001b[0m\u001b[1;33m.\u001b[0m\u001b[0mkernel_\u001b[0m\u001b[1;33m.\u001b[0m\u001b[0mtheta\u001b[0m\u001b[1;33m)\u001b[0m\u001b[1;33m\u001b[0m\u001b[1;33m\u001b[0m\u001b[0m\n\u001b[0m\u001b[0;32m    240\u001b[0m \u001b[1;33m\u001b[0m\u001b[0m\n\u001b[0;32m    241\u001b[0m         \u001b[1;31m# Precompute quantities required for predictions which are independent\u001b[0m\u001b[1;33m\u001b[0m\u001b[1;33m\u001b[0m\u001b[1;33m\u001b[0m\u001b[0m\n",
      "\u001b[1;32mc:\\Users\\asus\\Anaconda3\\lib\\site-packages\\sklearn\\gaussian_process\\_gpc.py\u001b[0m in \u001b[0;36mlog_marginal_likelihood\u001b[1;34m(self, theta, eval_gradient, clone_kernel)\u001b[0m\n\u001b[0;32m    362\u001b[0m         \u001b[1;31m# which can be reused for computing Z's gradient\u001b[0m\u001b[1;33m\u001b[0m\u001b[1;33m\u001b[0m\u001b[1;33m\u001b[0m\u001b[0m\n\u001b[0;32m    363\u001b[0m         \u001b[0mZ\u001b[0m\u001b[1;33m,\u001b[0m \u001b[1;33m(\u001b[0m\u001b[0mpi\u001b[0m\u001b[1;33m,\u001b[0m \u001b[0mW_sr\u001b[0m\u001b[1;33m,\u001b[0m \u001b[0mL\u001b[0m\u001b[1;33m,\u001b[0m \u001b[0mb\u001b[0m\u001b[1;33m,\u001b[0m \u001b[0ma\u001b[0m\u001b[1;33m)\u001b[0m \u001b[1;33m=\u001b[0m\u001b[0;31m \u001b[0m\u001b[0;31m\\\u001b[0m\u001b[1;33m\u001b[0m\u001b[1;33m\u001b[0m\u001b[0m\n\u001b[1;32m--> 364\u001b[1;33m             \u001b[0mself\u001b[0m\u001b[1;33m.\u001b[0m\u001b[0m_posterior_mode\u001b[0m\u001b[1;33m(\u001b[0m\u001b[0mK\u001b[0m\u001b[1;33m,\u001b[0m \u001b[0mreturn_temporaries\u001b[0m\u001b[1;33m=\u001b[0m\u001b[1;32mTrue\u001b[0m\u001b[1;33m)\u001b[0m\u001b[1;33m\u001b[0m\u001b[1;33m\u001b[0m\u001b[0m\n\u001b[0m\u001b[0;32m    365\u001b[0m \u001b[1;33m\u001b[0m\u001b[0m\n\u001b[0;32m    366\u001b[0m         \u001b[1;32mif\u001b[0m \u001b[1;32mnot\u001b[0m \u001b[0meval_gradient\u001b[0m\u001b[1;33m:\u001b[0m\u001b[1;33m\u001b[0m\u001b[1;33m\u001b[0m\u001b[0m\n",
      "\u001b[1;32mc:\\Users\\asus\\Anaconda3\\lib\\site-packages\\sklearn\\gaussian_process\\_gpc.py\u001b[0m in \u001b[0;36m_posterior_mode\u001b[1;34m(self, K, return_temporaries)\u001b[0m\n\u001b[0;32m    414\u001b[0m             \u001b[0mW_sr\u001b[0m \u001b[1;33m=\u001b[0m \u001b[0mnp\u001b[0m\u001b[1;33m.\u001b[0m\u001b[0msqrt\u001b[0m\u001b[1;33m(\u001b[0m\u001b[0mW\u001b[0m\u001b[1;33m)\u001b[0m\u001b[1;33m\u001b[0m\u001b[1;33m\u001b[0m\u001b[0m\n\u001b[0;32m    415\u001b[0m             \u001b[0mW_sr_K\u001b[0m \u001b[1;33m=\u001b[0m \u001b[0mW_sr\u001b[0m\u001b[1;33m[\u001b[0m\u001b[1;33m:\u001b[0m\u001b[1;33m,\u001b[0m \u001b[0mnp\u001b[0m\u001b[1;33m.\u001b[0m\u001b[0mnewaxis\u001b[0m\u001b[1;33m]\u001b[0m \u001b[1;33m*\u001b[0m \u001b[0mK\u001b[0m\u001b[1;33m\u001b[0m\u001b[1;33m\u001b[0m\u001b[0m\n\u001b[1;32m--> 416\u001b[1;33m             \u001b[0mB\u001b[0m \u001b[1;33m=\u001b[0m \u001b[0mnp\u001b[0m\u001b[1;33m.\u001b[0m\u001b[0meye\u001b[0m\u001b[1;33m(\u001b[0m\u001b[0mW\u001b[0m\u001b[1;33m.\u001b[0m\u001b[0mshape\u001b[0m\u001b[1;33m[\u001b[0m\u001b[1;36m0\u001b[0m\u001b[1;33m]\u001b[0m\u001b[1;33m)\u001b[0m \u001b[1;33m+\u001b[0m \u001b[0mW_sr_K\u001b[0m \u001b[1;33m*\u001b[0m \u001b[0mW_sr\u001b[0m\u001b[1;33m\u001b[0m\u001b[1;33m\u001b[0m\u001b[0m\n\u001b[0m\u001b[0;32m    417\u001b[0m             \u001b[0mL\u001b[0m \u001b[1;33m=\u001b[0m \u001b[0mcholesky\u001b[0m\u001b[1;33m(\u001b[0m\u001b[0mB\u001b[0m\u001b[1;33m,\u001b[0m \u001b[0mlower\u001b[0m\u001b[1;33m=\u001b[0m\u001b[1;32mTrue\u001b[0m\u001b[1;33m)\u001b[0m\u001b[1;33m\u001b[0m\u001b[1;33m\u001b[0m\u001b[0m\n\u001b[0;32m    418\u001b[0m             \u001b[1;31m# Line 6\u001b[0m\u001b[1;33m\u001b[0m\u001b[1;33m\u001b[0m\u001b[1;33m\u001b[0m\u001b[0m\n",
      "\u001b[1;31mMemoryError\u001b[0m: Unable to allocate 2.91 GiB for an array with shape (19756, 19756) and data type float64"
     ]
    }
   ],
   "source": [
    "from sklearn.gaussian_process import GaussianProcessClassifier\n",
    "\n",
    "model = GaussianProcessClassifier().fit(X_train, y_train)\n",
    "\n",
    "y_train_pred = model.predict(X_train)\n",
    "# y_test_pred = model.predict(X_test)\n",
    "n_loop = int(len(X_test)/len(X_train))\n",
    "y_test_pred = []\n",
    "for i in range(n_loop+1):\n",
    "    print((i+1)/n_loop)\n",
    "    right_bound = np.min([(i+1)*len(X_train),len(prediktor_real)])\n",
    "    X_partial = X_test.iloc[i*len(X_train):right_bound]\n",
    "    y_target = X_partial['target']\n",
    "    X_partial = X_partial[np.arange(2,17).tolist()]\n",
    "    y_test_pred = y_test_pred + model.predict(X_partial).tolist()\n",
    "print(classification_report(y_train, y_train_pred))\n",
    "print(classification_report(y_test, y_test_pred))\n",
    "# print(classification_report(prediktor_real['target'], y_pred))\n",
    "\n",
    "tn, fp, fn, tp  = confusion_matrix(y_test, y_test_pred).ravel()\n",
    "\n",
    "FPP = fp/(fp+tp)\n",
    "FNP = fn/(tn+fn)\n",
    "\n",
    "print('False Positive Percentage: ', FPP, ' FP: ', fp, ' TP: ', tp)\n",
    "print('False Negative Rate: ', FNP, ' FN: ', fn, ' TN: ', tn)\n",
    "\n",
    "gpr_pred = model.predict(test_now)\n",
    "gpr_pred_proba = model.predict_proba(test_now)\n",
    "gpr_pred_coin = {}\n",
    "for i in range(len(gpr_pred)):\n",
    "    if gpr_pred[i] == 1:\n",
    "        gpr_pred_coin[coin_list[i]] = gpr_pred_proba[i][1]\n",
    "print(gpr_pred_coin)\n",
    "print(len(gpr_pred_coin))"
   ]
  },
  {
   "cell_type": "code",
   "execution_count": 91,
   "metadata": {},
   "outputs": [
    {
     "data": {
      "text/plain": [
       "19756"
      ]
     },
     "execution_count": 91,
     "metadata": {},
     "output_type": "execute_result"
    }
   ],
   "source": [
    "len(y_train)"
   ]
  },
  {
   "cell_type": "markdown",
   "metadata": {},
   "source": [
    "# Kotretan"
   ]
  },
  {
   "cell_type": "code",
   "execution_count": 30,
   "metadata": {},
   "outputs": [
    {
     "data": {
      "text/plain": [
       "699584"
      ]
     },
     "execution_count": 30,
     "metadata": {},
     "output_type": "execute_result"
    }
   ],
   "source": [
    "len(prediktor_real.dropna())"
   ]
  },
  {
   "cell_type": "code",
   "execution_count": 11,
   "metadata": {},
   "outputs": [
    {
     "data": {
      "text/plain": [
       "1110906"
      ]
     },
     "execution_count": 11,
     "metadata": {},
     "output_type": "execute_result"
    }
   ],
   "source": [
    "len(X_train)"
   ]
  },
  {
   "cell_type": "code",
   "execution_count": 19,
   "metadata": {},
   "outputs": [],
   "source": [
    "df_checked_dict = {}\n",
    "for i in df_checked.keys():\n",
    "    df_checked_dict[i] = df_checked[i].to_dict()"
   ]
  },
  {
   "cell_type": "code",
   "execution_count": 21,
   "metadata": {},
   "outputs": [],
   "source": [
    "import json\n",
    "\n",
    "with open(\"df_checked_dict.json\", \"w\") as outfile:\n",
    "    json.dump(df_checked_dict, outfile)"
   ]
  },
  {
   "cell_type": "code",
   "execution_count": 6,
   "metadata": {},
   "outputs": [
    {
     "name": "stdout",
     "output_type": "stream",
     "text": [
      "(n_estimators=100, *, criterion='mse', max_depth=None, min_samples_split=2, min_samples_leaf=1, min_weight_fraction_leaf=0.0, max_features='auto', max_leaf_nodes=None, min_impurity_decrease=0.0, min_impurity_split=None, bootstrap=True, oob_score=False, n_jobs=None, random_state=None, verbose=0, warm_start=False, ccp_alpha=0.0, max_samples=None)\n",
      "(*, fit_intercept=True, normalize=False, copy_X=True, n_jobs=None, positive=False)\n"
     ]
    }
   ],
   "source": [
    "import inspect\n",
    "from sklearn.ensemble import RandomForestRegressor\n",
    "from sklearn.linear_model import LinearRegression\n",
    "\n",
    "models = [RandomForestRegressor(), LinearRegression()]\n",
    "\n",
    "for m in models:\n",
    "    hyperparams = inspect.signature(m.__init__)\n",
    "    print(hyperparams) # Do something with them here"
   ]
  },
  {
   "cell_type": "code",
   "execution_count": null,
   "metadata": {},
   "outputs": [],
   "source": []
  }
 ],
 "metadata": {
  "kernelspec": {
   "display_name": "Python 3.7.6 ('base')",
   "language": "python",
   "name": "python3"
  },
  "language_info": {
   "codemirror_mode": {
    "name": "ipython",
    "version": 3
   },
   "file_extension": ".py",
   "mimetype": "text/x-python",
   "name": "python",
   "nbconvert_exporter": "python",
   "pygments_lexer": "ipython3",
   "version": "3.7.6"
  },
  "orig_nbformat": 4,
  "vscode": {
   "interpreter": {
    "hash": "ebda45beb80756052cac5fc35cc43e06ce6409a558745ebee29bebc2013f1d43"
   }
  }
 },
 "nbformat": 4,
 "nbformat_minor": 2
}
