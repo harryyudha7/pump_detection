{
 "cells": [
  {
   "cell_type": "code",
   "execution_count": 4,
   "metadata": {},
   "outputs": [],
   "source": [
    "import ipywidgets as widgets\n",
    "import pandas as pd\n",
    "import numpy as np\n",
    "import os\n",
    "import re\n",
    "from tqdm import tqdm\n",
    "from imblearn.over_sampling import SMOTE\n",
    "from sklearn.model_selection import train_test_split\n",
    "from sklearn.metrics import classification_report\n",
    "from sklearn.metrics import confusion_matrix \n",
    "import copy\n",
    "import plotly.graph_objects as go\n",
    "import matplotlib.pyplot as plt"
   ]
  },
  {
   "cell_type": "code",
   "execution_count": 1,
   "metadata": {},
   "outputs": [],
   "source": [
    "def plot_candlestick(coin, start_date, final_date, base_date=0):\n",
    "    temp_df = copy.deepcopy(df_checked[coin]).dropna()\n",
    "    close_price = temp_df['price'].iloc[1:].values\n",
    "    temp_df = temp_df[:-1]\n",
    "    temp_df['close_price'] = close_price\n",
    "    temp_df = temp_df[temp_df['snapped_at'] >= start_date]\n",
    "    temp_df = temp_df[temp_df['snapped_at'] <= final_date]\n",
    "    high_price = np.maximum(temp_df['price'], temp_df['close_price'])\n",
    "    low_price = np.minimum(temp_df['price'], temp_df['close_price'])\n",
    "    fig = go.Figure(data=[go.Candlestick(x=temp_df['snapped_at'],\n",
    "                open=temp_df['price'],\n",
    "                high=high_price,\n",
    "                low=low_price,\n",
    "                close=temp_df['close_price'])])\n",
    "    if base_date != 0:\n",
    "        fig.update_layout(title=coin,\n",
    "            shapes = [dict(\n",
    "            x0=base_date, x1=base_date, y0=0, y1=1, xref='x', yref='paper',\n",
    "            line_width=2)])\n",
    "    return fig"
   ]
  },
  {
   "cell_type": "code",
   "execution_count": 2,
   "metadata": {},
   "outputs": [],
   "source": [
    "CUR_DIR = os.curdir\n",
    "PATH_FILE = CUR_DIR + '/fileCSVNow/fileCSV - Copy/'"
   ]
  },
  {
   "cell_type": "code",
   "execution_count": 5,
   "metadata": {},
   "outputs": [
    {
     "data": {
      "application/vnd.jupyter.widget-view+json": {
       "model_id": "3a60aa984f654ec9a5ad17292eb76262",
       "version_major": 2,
       "version_minor": 0
      },
      "text/plain": [
       "HBox(children=(VBox(children=(Checkbox(value=False, description='all', indent=False), Checkbox(value=False, de…"
      ]
     },
     "metadata": {},
     "output_type": "display_data"
    }
   ],
   "source": [
    "coin_list = os.listdir(PATH_FILE)\n",
    "dict_checkbox = {}\n",
    "sel_all = widgets.Checkbox(\n",
    "    value=False,\n",
    "    description='all',\n",
    "    disabled=False,\n",
    "    indent=False\n",
    ")\n",
    "for i in range(len(coin_list)):\n",
    "    file_name = coin_list[i].split('-')\n",
    "    coin_name = file_name[0]\n",
    "    for j in file_name[1:-1]:\n",
    "        # print(i)\n",
    "        if j != 'usd':\n",
    "            coin_name = coin_name + '-' + j\n",
    "        else:\n",
    "            break\n",
    "    coin_list[i] = coin_name\n",
    "    dict_checkbox[coin_name] = widgets.Checkbox(\n",
    "                                value=False,\n",
    "                                description=coin_name,\n",
    "                                disabled=False,\n",
    "                                indent=False,\n",
    "                                continous_update=True\n",
    "                            )\n",
    "    widgets.dlink((sel_all, 'value'), (dict_checkbox[coin_name], 'value'))\n",
    "\n",
    "\n",
    "DISP_COL = 20\n",
    "\n",
    "dict_vbox = {}\n",
    "for i in range(DISP_COL):\n",
    "    dict_vbox[i] = []\n",
    "dict_vbox[0].append(sel_all)\n",
    "\n",
    "for i in range(1,len(coin_list)+1):\n",
    "    coord = i%DISP_COL\n",
    "    dict_vbox[coord].append(dict_checkbox[coin_list[i-1]])\n",
    "\n",
    "hbox = [widgets.VBox(i) for i in dict_vbox.values()]\n",
    "display(widgets.HBox(hbox))"
   ]
  },
  {
   "cell_type": "code",
   "execution_count": 6,
   "metadata": {},
   "outputs": [],
   "source": [
    "list_checked = []\n",
    "for i in coin_list:\n",
    "    if dict_checkbox[i].value:\n",
    "        list_checked.append(i)\n",
    "\n",
    "df_checked = {}\n",
    "for i in list_checked:\n",
    "    df_checked[i] = pd.read_csv(PATH_FILE + i + '-usd-max.csv')\n",
    "    df_checked[i]['pct_change'] = df_checked[i]['price'].pct_change()\n",
    "    df_checked[i]['pct_change'] = np.where(df_checked[i]['pct_change'] > 10**3, 10, df_checked[i]['pct_change'])\n",
    "    df_checked[i]['snapped_at'] = pd.to_datetime(df_checked[i]['snapped_at'], format='%Y-%m-%d %H:%M:%S UTC')\n"
   ]
  },
  {
   "cell_type": "code",
   "execution_count": 7,
   "metadata": {},
   "outputs": [
    {
     "name": "stderr",
     "output_type": "stream",
     "text": [
      " 69%|██████▉   | 575/831 [01:49<00:28,  9.00it/s]"
     ]
    },
    {
     "name": "stdout",
     "output_type": "stream",
     "text": [
      "float division by zero\n"
     ]
    },
    {
     "name": "stderr",
     "output_type": "stream",
     "text": [
      "100%|██████████| 831/831 [02:47<00:00,  4.96it/s]\n"
     ]
    }
   ],
   "source": [
    "PUMP_THRESHOLD = 1\n",
    "PUMP_THRESHOLD_INITIAL = 0.5\n",
    "WINDOW_BEFORE = 7\n",
    "WINDOW_AFTER = 30\n",
    "PCT_THRESHOLD = 0.3\n",
    "\n",
    "data_pump = []\n",
    "for i in tqdm(list_checked):\n",
    "# for i in ['shib']:\n",
    "    max_idx = max(df_checked[i].index)\n",
    "    df_checked_dropna = df_checked[i].dropna()\n",
    "    j = list(df_checked_dropna.index)[0]\n",
    "    while j < max_idx:\n",
    "        try:\n",
    "            is_pump = False\n",
    "            low_bound = j\n",
    "            up_bound = min([low_bound+WINDOW_AFTER, max_idx+1])\n",
    "            df_temp_next = df_checked_dropna.loc[low_bound:up_bound]\n",
    "            max_price = max(df_temp_next['price'])\n",
    "            idx_max_price = list(df_temp_next.index)[df_temp_next['price'].argmax()]\n",
    "            base_price = min(df_temp_next['price'])\n",
    "            idx_base_price = list(df_temp_next.index)[df_temp_next['price'].argmin()]\n",
    "            pct_to_max = (max_price - base_price)/base_price\n",
    "            if  pct_to_max > PUMP_THRESHOLD_INITIAL:\n",
    "                pump_analysis = True\n",
    "            else:\n",
    "                pump_analysis = False\n",
    "                j = j+1\n",
    "            while pump_analysis:\n",
    "                low_bound = idx_max_price + 1\n",
    "                up_bound = min([low_bound+WINDOW_AFTER, max_idx+1])\n",
    "                df_temp_next = df_checked_dropna.loc[low_bound:up_bound]\n",
    "                max_price_new = max(df_temp_next['price'])\n",
    "                idx_max_price_new = list(df_temp_next.index)[df_temp_next['price'].argmax()]\n",
    "                pct_to_max_new = (max_price_new - base_price)/base_price\n",
    "                if pct_to_max_new > PUMP_THRESHOLD and max_price_new > max_price:\n",
    "                    idx_max_price = idx_max_price_new\n",
    "                    max_price = max_price_new\n",
    "                    pct_to_max = pct_to_max_new\n",
    "                    is_pump = True\n",
    "                else:\n",
    "                    pump_analysis = False\n",
    "                    if is_pump:\n",
    "                        data_pump.append([i, df_checked_dropna['snapped_at'].loc[idx_base_price], base_price, df_checked_dropna['snapped_at'].loc[idx_max_price], max_price, pct_to_max])\n",
    "                    j = idx_max_price + 1\n",
    "        except ValueError: j = j+1\n",
    "        except Exception as e: \n",
    "            print(e)\n",
    "            break\n",
    "    # print(i)\n"
   ]
  },
  {
   "cell_type": "code",
   "execution_count": 9,
   "metadata": {},
   "outputs": [
    {
     "data": {
      "text/plain": [
       "3144"
      ]
     },
     "execution_count": 9,
     "metadata": {},
     "output_type": "execute_result"
    }
   ],
   "source": [
    "len(data_pump)"
   ]
  },
  {
   "cell_type": "code",
   "execution_count": 19,
   "metadata": {},
   "outputs": [
    {
     "data": {
      "text/plain": [
       "5.70041420229866e-11"
      ]
     },
     "execution_count": 19,
     "metadata": {},
     "output_type": "execute_result"
    }
   ],
   "source": [
    "df_checked_dropna.iloc[idx_base_price]['price']"
   ]
  },
  {
   "cell_type": "code",
   "execution_count": 10,
   "metadata": {},
   "outputs": [],
   "source": [
    "df_data_pump = pd.DataFrame(data_pump)\n",
    "df_data_pump.columns = ['coin', 'base_date', 'base_price', 'max_date', 'max_price', 'pct_change']\n",
    "df_data_pump.to_csv('small_pump.csv')\n",
    "df_data_pump['base_date'] = pd.to_datetime(df_data_pump['base_date'], format='%Y-%m-%d %H:%M:%S UTC')\n",
    "df_data_pump['max_date'] = pd.to_datetime(df_data_pump['max_date'], format='%Y-%m-%d %H:%M:%S UTC')\n",
    "df_data_pump['pump_length'] = df_data_pump['max_date'] - df_data_pump['base_date']\n",
    "\n",
    "arr_listing = []\n",
    "for i in df_data_pump['coin']:\n",
    "    date_listing = df_checked[i]['snapped_at'][0]\n",
    "    arr_listing.append(date_listing)\n",
    "df_data_pump['date_listing'] = arr_listing\n",
    "\n",
    "df_data_pump['pump_to_listing'] = df_data_pump['base_date'] - df_data_pump['date_listing']\n"
   ]
  },
  {
   "cell_type": "code",
   "execution_count": 12,
   "metadata": {},
   "outputs": [
    {
     "name": "stdout",
     "output_type": "stream",
     "text": [
      "127\n"
     ]
    },
    {
     "data": {
      "text/html": [
       "<div>\n",
       "<style scoped>\n",
       "    .dataframe tbody tr th:only-of-type {\n",
       "        vertical-align: middle;\n",
       "    }\n",
       "\n",
       "    .dataframe tbody tr th {\n",
       "        vertical-align: top;\n",
       "    }\n",
       "\n",
       "    .dataframe thead th {\n",
       "        text-align: right;\n",
       "    }\n",
       "</style>\n",
       "<table border=\"1\" class=\"dataframe\">\n",
       "  <thead>\n",
       "    <tr style=\"text-align: right;\">\n",
       "      <th></th>\n",
       "      <th>coin</th>\n",
       "      <th>base_date</th>\n",
       "      <th>base_price</th>\n",
       "      <th>max_date</th>\n",
       "      <th>max_price</th>\n",
       "      <th>pct_change</th>\n",
       "      <th>pump_length</th>\n",
       "      <th>date_listing</th>\n",
       "      <th>pump_to_listing</th>\n",
       "    </tr>\n",
       "  </thead>\n",
       "  <tbody>\n",
       "    <tr>\n",
       "      <th>525</th>\n",
       "      <td>shib</td>\n",
       "      <td>2020-08-28</td>\n",
       "      <td>8.238667e-11</td>\n",
       "      <td>2020-09-04</td>\n",
       "      <td>5.428842e-10</td>\n",
       "      <td>5.589467</td>\n",
       "      <td>7 days</td>\n",
       "      <td>2020-08-01</td>\n",
       "      <td>27 days</td>\n",
       "    </tr>\n",
       "  </tbody>\n",
       "</table>\n",
       "</div>"
      ],
      "text/plain": [
       "     coin  base_date    base_price   max_date     max_price  pct_change  \\\n",
       "525  shib 2020-08-28  8.238667e-11 2020-09-04  5.428842e-10    5.589467   \n",
       "\n",
       "    pump_length date_listing pump_to_listing  \n",
       "525      7 days   2020-08-01         27 days  "
      ]
     },
     "execution_count": 12,
     "metadata": {},
     "output_type": "execute_result"
    }
   ],
   "source": [
    "df_data_pump_30 = df_data_pump[df_data_pump['pump_length'] <= pd.Timedelta(30, 'd')]\n",
    "print(len(df_data_pump_30[df_data_pump_30['pct_change'] >= 5]))\n",
    "df_data_pump_30[df_data_pump_30['coin'] == 'shib']"
   ]
  },
  {
   "cell_type": "code",
   "execution_count": 21,
   "metadata": {},
   "outputs": [
    {
     "data": {
      "text/html": [
       "<div>\n",
       "<style scoped>\n",
       "    .dataframe tbody tr th:only-of-type {\n",
       "        vertical-align: middle;\n",
       "    }\n",
       "\n",
       "    .dataframe tbody tr th {\n",
       "        vertical-align: top;\n",
       "    }\n",
       "\n",
       "    .dataframe thead th {\n",
       "        text-align: right;\n",
       "    }\n",
       "</style>\n",
       "<table border=\"1\" class=\"dataframe\">\n",
       "  <thead>\n",
       "    <tr style=\"text-align: right;\">\n",
       "      <th></th>\n",
       "      <th>coin</th>\n",
       "      <th>base_date</th>\n",
       "      <th>base_price</th>\n",
       "      <th>max_date</th>\n",
       "      <th>max_price</th>\n",
       "      <th>pct_change</th>\n",
       "      <th>pump_length</th>\n",
       "      <th>date_listing</th>\n",
       "      <th>pump_to_listing</th>\n",
       "    </tr>\n",
       "  </thead>\n",
       "  <tbody>\n",
       "    <tr>\n",
       "      <th>0</th>\n",
       "      <td>10set</td>\n",
       "      <td>2022-06-09</td>\n",
       "      <td>0.276610</td>\n",
       "      <td>2022-06-25</td>\n",
       "      <td>3.752881</td>\n",
       "      <td>12.567406</td>\n",
       "      <td>16 days</td>\n",
       "      <td>2021-04-02</td>\n",
       "      <td>433 days</td>\n",
       "    </tr>\n",
       "    <tr>\n",
       "      <th>3</th>\n",
       "      <td>ach</td>\n",
       "      <td>2021-07-21</td>\n",
       "      <td>0.001368</td>\n",
       "      <td>2021-08-07</td>\n",
       "      <td>0.159230</td>\n",
       "      <td>115.397746</td>\n",
       "      <td>17 days</td>\n",
       "      <td>2020-09-08</td>\n",
       "      <td>316 days</td>\n",
       "    </tr>\n",
       "    <tr>\n",
       "      <th>10</th>\n",
       "      <td>agix</td>\n",
       "      <td>2021-05-29</td>\n",
       "      <td>0.037961</td>\n",
       "      <td>2021-06-09</td>\n",
       "      <td>0.804910</td>\n",
       "      <td>20.203556</td>\n",
       "      <td>11 days</td>\n",
       "      <td>2018-01-22</td>\n",
       "      <td>1223 days</td>\n",
       "    </tr>\n",
       "    <tr>\n",
       "      <th>16</th>\n",
       "      <td>alu</td>\n",
       "      <td>2021-10-13</td>\n",
       "      <td>0.037773</td>\n",
       "      <td>2021-11-03</td>\n",
       "      <td>0.426552</td>\n",
       "      <td>10.292616</td>\n",
       "      <td>21 days</td>\n",
       "      <td>2021-04-30</td>\n",
       "      <td>166 days</td>\n",
       "    </tr>\n",
       "    <tr>\n",
       "      <th>19</th>\n",
       "      <td>amp</td>\n",
       "      <td>2021-01-28</td>\n",
       "      <td>0.005664</td>\n",
       "      <td>2021-02-14</td>\n",
       "      <td>0.036486</td>\n",
       "      <td>5.442166</td>\n",
       "      <td>17 days</td>\n",
       "      <td>2020-09-09</td>\n",
       "      <td>141 days</td>\n",
       "    </tr>\n",
       "    <tr>\n",
       "      <th>...</th>\n",
       "      <td>...</td>\n",
       "      <td>...</td>\n",
       "      <td>...</td>\n",
       "      <td>...</td>\n",
       "      <td>...</td>\n",
       "      <td>...</td>\n",
       "      <td>...</td>\n",
       "      <td>...</td>\n",
       "      <td>...</td>\n",
       "    </tr>\n",
       "    <tr>\n",
       "      <th>656</th>\n",
       "      <td>xki</td>\n",
       "      <td>2021-11-09</td>\n",
       "      <td>0.033357</td>\n",
       "      <td>2021-11-27</td>\n",
       "      <td>0.487947</td>\n",
       "      <td>13.628216</td>\n",
       "      <td>18 days</td>\n",
       "      <td>2021-05-21</td>\n",
       "      <td>172 days</td>\n",
       "    </tr>\n",
       "    <tr>\n",
       "      <th>664</th>\n",
       "      <td>xpr</td>\n",
       "      <td>2021-09-22</td>\n",
       "      <td>0.006046</td>\n",
       "      <td>2021-10-20</td>\n",
       "      <td>0.047137</td>\n",
       "      <td>6.796220</td>\n",
       "      <td>28 days</td>\n",
       "      <td>2020-04-07</td>\n",
       "      <td>533 days</td>\n",
       "    </tr>\n",
       "    <tr>\n",
       "      <th>671</th>\n",
       "      <td>xvg</td>\n",
       "      <td>2015-02-06</td>\n",
       "      <td>0.000002</td>\n",
       "      <td>2015-02-19</td>\n",
       "      <td>0.000033</td>\n",
       "      <td>13.866493</td>\n",
       "      <td>13 days</td>\n",
       "      <td>2014-10-25</td>\n",
       "      <td>104 days</td>\n",
       "    </tr>\n",
       "    <tr>\n",
       "      <th>681</th>\n",
       "      <td>zig</td>\n",
       "      <td>2021-11-22</td>\n",
       "      <td>0.020934</td>\n",
       "      <td>2021-12-01</td>\n",
       "      <td>0.177940</td>\n",
       "      <td>7.500013</td>\n",
       "      <td>9 days</td>\n",
       "      <td>2021-04-15</td>\n",
       "      <td>221 days</td>\n",
       "    </tr>\n",
       "    <tr>\n",
       "      <th>685</th>\n",
       "      <td>znn</td>\n",
       "      <td>2019-08-24</td>\n",
       "      <td>0.233719</td>\n",
       "      <td>2019-09-17</td>\n",
       "      <td>2.555386</td>\n",
       "      <td>9.933598</td>\n",
       "      <td>24 days</td>\n",
       "      <td>2019-04-24</td>\n",
       "      <td>122 days</td>\n",
       "    </tr>\n",
       "  </tbody>\n",
       "</table>\n",
       "<p>100 rows × 9 columns</p>\n",
       "</div>"
      ],
      "text/plain": [
       "      coin  base_date  base_price   max_date  max_price  pct_change  \\\n",
       "0    10set 2022-06-09    0.276610 2022-06-25   3.752881   12.567406   \n",
       "3      ach 2021-07-21    0.001368 2021-08-07   0.159230  115.397746   \n",
       "10    agix 2021-05-29    0.037961 2021-06-09   0.804910   20.203556   \n",
       "16     alu 2021-10-13    0.037773 2021-11-03   0.426552   10.292616   \n",
       "19     amp 2021-01-28    0.005664 2021-02-14   0.036486    5.442166   \n",
       "..     ...        ...         ...        ...        ...         ...   \n",
       "656    xki 2021-11-09    0.033357 2021-11-27   0.487947   13.628216   \n",
       "664    xpr 2021-09-22    0.006046 2021-10-20   0.047137    6.796220   \n",
       "671    xvg 2015-02-06    0.000002 2015-02-19   0.000033   13.866493   \n",
       "681    zig 2021-11-22    0.020934 2021-12-01   0.177940    7.500013   \n",
       "685    znn 2019-08-24    0.233719 2019-09-17   2.555386    9.933598   \n",
       "\n",
       "    pump_length date_listing pump_to_listing  \n",
       "0       16 days   2021-04-02        433 days  \n",
       "3       17 days   2020-09-08        316 days  \n",
       "10      11 days   2018-01-22       1223 days  \n",
       "16      21 days   2021-04-30        166 days  \n",
       "19      17 days   2020-09-09        141 days  \n",
       "..          ...          ...             ...  \n",
       "656     18 days   2021-05-21        172 days  \n",
       "664     28 days   2020-04-07        533 days  \n",
       "671     13 days   2014-10-25        104 days  \n",
       "681      9 days   2021-04-15        221 days  \n",
       "685     24 days   2019-04-24        122 days  \n",
       "\n",
       "[100 rows x 9 columns]"
      ]
     },
     "execution_count": 21,
     "metadata": {},
     "output_type": "execute_result"
    }
   ],
   "source": [
    "LISTING_THRESHOLD = 100\n",
    "df_data_pump_30_no_listing = df_data_pump_30[df_data_pump_30['pump_to_listing'] > pd.Timedelta(LISTING_THRESHOLD,'d')]\n",
    "df_data_pump_30_no_listing.head(100)"
   ]
  },
  {
   "cell_type": "code",
   "execution_count": 30,
   "metadata": {},
   "outputs": [
    {
     "data": {
      "text/plain": [
       "0     2022-06-09\n",
       "3     2021-07-21\n",
       "10    2021-05-29\n",
       "16    2021-10-13\n",
       "19    2021-01-28\n",
       "         ...    \n",
       "656   2021-11-09\n",
       "664   2021-09-22\n",
       "671   2015-02-06\n",
       "681   2021-11-22\n",
       "685   2019-08-24\n",
       "Name: base_date, Length: 100, dtype: datetime64[ns]"
      ]
     },
     "execution_count": 30,
     "metadata": {},
     "output_type": "execute_result"
    }
   ],
   "source": [
    "df_data_pump_30_no_listing['base_date']"
   ]
  },
  {
   "cell_type": "code",
   "execution_count": 26,
   "metadata": {},
   "outputs": [],
   "source": [
    "df_data_pump_30_no_listing.to_csv('pump_lessthan30.csv')"
   ]
  },
  {
   "cell_type": "code",
   "execution_count": 25,
   "metadata": {},
   "outputs": [
    {
     "data": {
      "application/vnd.plotly.v1+json": {
       "config": {
        "plotlyServerURL": "https://plot.ly"
       },
       "data": [
        {
         "close": [
          0.0034368192794287018,
          0.0033898043892881947,
          0.0032782574399304173,
          0.00335685048867276,
          0.003312740098944161,
          0.003498244051956507,
          0.0035987097313406524,
          0.0034385589445708373,
          0.0035941742068126494,
          0.003480238631185701,
          0.003519610810830957,
          0.0036513219160688687,
          0.003861740581175625,
          0.003597122190663321,
          0.0041902128470142855,
          0.0039363525737752605,
          0.004016919678752265,
          0.003846576818546736,
          0.00401972979935144,
          0.004221369830334937,
          0.004924283971744784,
          0.005147097003734066,
          0.005075297219744104,
          0.0045777534088110115,
          0.004193225550670221,
          0.004151362758471585,
          0.004246574179718803,
          0.004223652586018971,
          0.0045208694746116775,
          0.004485202621086215,
          0.004984014400803477,
          0.004868741441870687,
          0.004670154300098954,
          0.004262709058228624,
          0.004183126809630021,
          0.004434468520919991,
          0.004310719419062577,
          0.0041932839445322796,
          0.004577987598548097,
          0.0045879172143553845,
          0.0045438446052847355,
          0.004459893098934679,
          0.004910662132406768,
          0.006429925042233936,
          0.008120765542904768,
          0.0066760033095017365,
          0.006935699251452182,
          0.00943462918618945,
          0.00875045082652328,
          0.009034368795754328,
          0.0093619063187702,
          0.008072443262488778,
          0.00808233077564707,
          0.007862565803593702,
          0.008856107202518221,
          0.008150878137982657,
          0.008531133605608586,
          0.008491387539459326,
          0.007141606172988224,
          0.006046114676547687,
          0.0075601798763961095,
          0.007910049468423759,
          0.007315328410953435,
          0.009106738298356409,
          0.008254454087815477,
          0.008292006277483163,
          0.007674750152663566,
          0.008026416781466776,
          0.008381884607705664,
          0.009926747554587905,
          0.01065492696421533,
          0.012908276401981188,
          0.015284488614230396,
          0.016336315355390534,
          0.014773950476419509,
          0.014336270224876818,
          0.017072087662446733,
          0.024249280763450468,
          0.021635157868503244,
          0.02284724674059252,
          0.02800508190193495
         ],
         "high": [
          0.003525733613955521,
          0.0034368192794287018,
          0.0033898043892881947,
          0.00335685048867276,
          0.00335685048867276,
          0.003498244051956507,
          0.0035987097313406524,
          0.0035987097313406524,
          0.0035941742068126494,
          0.0035941742068126494,
          0.003519610810830957,
          0.0036513219160688687,
          0.003861740581175625,
          0.003861740581175625,
          0.0041902128470142855,
          0.0041902128470142855,
          0.004016919678752265,
          0.004016919678752265,
          0.00401972979935144,
          0.004221369830334937,
          0.004924283971744784,
          0.005147097003734066,
          0.005147097003734066,
          0.005075297219744104,
          0.0045777534088110115,
          0.004193225550670221,
          0.004246574179718803,
          0.004246574179718803,
          0.0045208694746116775,
          0.0045208694746116775,
          0.004984014400803477,
          0.004984014400803477,
          0.004868741441870687,
          0.004670154300098954,
          0.004262709058228624,
          0.004434468520919991,
          0.004434468520919991,
          0.004310719419062577,
          0.004577987598548097,
          0.0045879172143553845,
          0.0045879172143553845,
          0.0045438446052847355,
          0.004910662132406768,
          0.006429925042233936,
          0.008120765542904768,
          0.008120765542904768,
          0.006935699251452182,
          0.00943462918618945,
          0.00943462918618945,
          0.009034368795754328,
          0.0093619063187702,
          0.0093619063187702,
          0.00808233077564707,
          0.00808233077564707,
          0.008856107202518221,
          0.008856107202518221,
          0.008531133605608586,
          0.008531133605608586,
          0.008491387539459326,
          0.007141606172988224,
          0.0075601798763961095,
          0.007910049468423759,
          0.007910049468423759,
          0.009106738298356409,
          0.009106738298356409,
          0.008292006277483163,
          0.008292006277483163,
          0.008026416781466776,
          0.008381884607705664,
          0.009926747554587905,
          0.01065492696421533,
          0.012908276401981188,
          0.015284488614230396,
          0.016336315355390534,
          0.016336315355390534,
          0.014773950476419509,
          0.017072087662446733,
          0.024249280763450468,
          0.024249280763450468,
          0.02284724674059252,
          0.02800508190193495
         ],
         "low": [
          0.0034368192794287018,
          0.0033898043892881947,
          0.0032782574399304173,
          0.0032782574399304173,
          0.003312740098944161,
          0.003312740098944161,
          0.003498244051956507,
          0.0034385589445708373,
          0.0034385589445708373,
          0.003480238631185701,
          0.003480238631185701,
          0.003519610810830957,
          0.0036513219160688687,
          0.003597122190663321,
          0.003597122190663321,
          0.0039363525737752605,
          0.0039363525737752605,
          0.003846576818546736,
          0.003846576818546736,
          0.00401972979935144,
          0.004221369830334937,
          0.004924283971744784,
          0.005075297219744104,
          0.0045777534088110115,
          0.004193225550670221,
          0.004151362758471585,
          0.004151362758471585,
          0.004223652586018971,
          0.004223652586018971,
          0.004485202621086215,
          0.004485202621086215,
          0.004868741441870687,
          0.004670154300098954,
          0.004262709058228624,
          0.004183126809630021,
          0.004183126809630021,
          0.004310719419062577,
          0.0041932839445322796,
          0.0041932839445322796,
          0.004577987598548097,
          0.0045438446052847355,
          0.004459893098934679,
          0.004459893098934679,
          0.004910662132406768,
          0.006429925042233936,
          0.0066760033095017365,
          0.0066760033095017365,
          0.006935699251452182,
          0.00875045082652328,
          0.00875045082652328,
          0.009034368795754328,
          0.008072443262488778,
          0.008072443262488778,
          0.007862565803593702,
          0.007862565803593702,
          0.008150878137982657,
          0.008150878137982657,
          0.008491387539459326,
          0.007141606172988224,
          0.006046114676547687,
          0.006046114676547687,
          0.0075601798763961095,
          0.007315328410953435,
          0.007315328410953435,
          0.008254454087815477,
          0.008254454087815477,
          0.007674750152663566,
          0.007674750152663566,
          0.008026416781466776,
          0.008381884607705664,
          0.009926747554587905,
          0.01065492696421533,
          0.012908276401981188,
          0.015284488614230396,
          0.014773950476419509,
          0.014336270224876818,
          0.014336270224876818,
          0.017072087662446733,
          0.021635157868503244,
          0.021635157868503244,
          0.02284724674059252
         ],
         "open": [
          0.003525733613955521,
          0.0034368192794287018,
          0.0033898043892881947,
          0.0032782574399304173,
          0.00335685048867276,
          0.003312740098944161,
          0.003498244051956507,
          0.0035987097313406524,
          0.0034385589445708373,
          0.0035941742068126494,
          0.003480238631185701,
          0.003519610810830957,
          0.0036513219160688687,
          0.003861740581175625,
          0.003597122190663321,
          0.0041902128470142855,
          0.0039363525737752605,
          0.004016919678752265,
          0.003846576818546736,
          0.00401972979935144,
          0.004221369830334937,
          0.004924283971744784,
          0.005147097003734066,
          0.005075297219744104,
          0.0045777534088110115,
          0.004193225550670221,
          0.004151362758471585,
          0.004246574179718803,
          0.004223652586018971,
          0.0045208694746116775,
          0.004485202621086215,
          0.004984014400803477,
          0.004868741441870687,
          0.004670154300098954,
          0.004262709058228624,
          0.004183126809630021,
          0.004434468520919991,
          0.004310719419062577,
          0.0041932839445322796,
          0.004577987598548097,
          0.0045879172143553845,
          0.0045438446052847355,
          0.004459893098934679,
          0.004910662132406768,
          0.006429925042233936,
          0.008120765542904768,
          0.0066760033095017365,
          0.006935699251452182,
          0.00943462918618945,
          0.00875045082652328,
          0.009034368795754328,
          0.0093619063187702,
          0.008072443262488778,
          0.00808233077564707,
          0.007862565803593702,
          0.008856107202518221,
          0.008150878137982657,
          0.008531133605608586,
          0.008491387539459326,
          0.007141606172988224,
          0.006046114676547687,
          0.0075601798763961095,
          0.007910049468423759,
          0.007315328410953435,
          0.009106738298356409,
          0.008254454087815477,
          0.008292006277483163,
          0.007674750152663566,
          0.008026416781466776,
          0.008381884607705664,
          0.009926747554587905,
          0.01065492696421533,
          0.012908276401981188,
          0.015284488614230396,
          0.016336315355390534,
          0.014773950476419509,
          0.014336270224876818,
          0.017072087662446733,
          0.024249280763450468,
          0.021635157868503244,
          0.02284724674059252
         ],
         "type": "candlestick",
         "x": [
          "2021-07-24T00:00:00",
          "2021-07-25T00:00:00",
          "2021-07-26T00:00:00",
          "2021-07-27T00:00:00",
          "2021-07-28T00:00:00",
          "2021-07-29T00:00:00",
          "2021-07-30T00:00:00",
          "2021-07-31T00:00:00",
          "2021-08-01T00:00:00",
          "2021-08-02T00:00:00",
          "2021-08-03T00:00:00",
          "2021-08-04T00:00:00",
          "2021-08-05T00:00:00",
          "2021-08-06T00:00:00",
          "2021-08-07T00:00:00",
          "2021-08-08T00:00:00",
          "2021-08-09T00:00:00",
          "2021-08-10T00:00:00",
          "2021-08-11T00:00:00",
          "2021-08-12T00:00:00",
          "2021-08-13T00:00:00",
          "2021-08-14T00:00:00",
          "2021-08-15T00:00:00",
          "2021-08-16T00:00:00",
          "2021-08-17T00:00:00",
          "2021-08-18T00:00:00",
          "2021-08-19T00:00:00",
          "2021-08-20T00:00:00",
          "2021-08-21T00:00:00",
          "2021-08-22T00:00:00",
          "2021-08-23T00:00:00",
          "2021-08-24T00:00:00",
          "2021-08-25T00:00:00",
          "2021-08-26T00:00:00",
          "2021-08-27T00:00:00",
          "2021-08-28T00:00:00",
          "2021-08-29T00:00:00",
          "2021-08-30T00:00:00",
          "2021-08-31T00:00:00",
          "2021-09-01T00:00:00",
          "2021-09-02T00:00:00",
          "2021-09-03T00:00:00",
          "2021-09-04T00:00:00",
          "2021-09-05T00:00:00",
          "2021-09-06T00:00:00",
          "2021-09-07T00:00:00",
          "2021-09-08T00:00:00",
          "2021-09-09T00:00:00",
          "2021-09-10T00:00:00",
          "2021-09-11T00:00:00",
          "2021-09-12T00:00:00",
          "2021-09-13T00:00:00",
          "2021-09-14T00:00:00",
          "2021-09-15T00:00:00",
          "2021-09-16T00:00:00",
          "2021-09-17T00:00:00",
          "2021-09-18T00:00:00",
          "2021-09-19T00:00:00",
          "2021-09-20T00:00:00",
          "2021-09-21T00:00:00",
          "2021-09-22T00:00:00",
          "2021-09-23T00:00:00",
          "2021-09-24T00:00:00",
          "2021-09-25T00:00:00",
          "2021-09-26T00:00:00",
          "2021-09-27T00:00:00",
          "2021-09-28T00:00:00",
          "2021-09-29T00:00:00",
          "2021-09-30T00:00:00",
          "2021-10-01T00:00:00",
          "2021-10-02T00:00:00",
          "2021-10-03T00:00:00",
          "2021-10-04T00:00:00",
          "2021-10-05T00:00:00",
          "2021-10-06T00:00:00",
          "2021-10-07T00:00:00",
          "2021-10-08T00:00:00",
          "2021-10-09T00:00:00",
          "2021-10-10T00:00:00",
          "2021-10-11T00:00:00",
          "2021-10-12T00:00:00"
         ]
        }
       ],
       "layout": {
        "shapes": [
         {
          "line": {
           "width": 2
          },
          "x0": "2021-09-22T00:00:00",
          "x1": "2021-09-22T00:00:00",
          "xref": "x",
          "y0": 0,
          "y1": 1,
          "yref": "paper"
         }
        ],
        "template": {
         "data": {
          "bar": [
           {
            "error_x": {
             "color": "#2a3f5f"
            },
            "error_y": {
             "color": "#2a3f5f"
            },
            "marker": {
             "line": {
              "color": "#E5ECF6",
              "width": 0.5
             }
            },
            "type": "bar"
           }
          ],
          "barpolar": [
           {
            "marker": {
             "line": {
              "color": "#E5ECF6",
              "width": 0.5
             }
            },
            "type": "barpolar"
           }
          ],
          "carpet": [
           {
            "aaxis": {
             "endlinecolor": "#2a3f5f",
             "gridcolor": "white",
             "linecolor": "white",
             "minorgridcolor": "white",
             "startlinecolor": "#2a3f5f"
            },
            "baxis": {
             "endlinecolor": "#2a3f5f",
             "gridcolor": "white",
             "linecolor": "white",
             "minorgridcolor": "white",
             "startlinecolor": "#2a3f5f"
            },
            "type": "carpet"
           }
          ],
          "choropleth": [
           {
            "colorbar": {
             "outlinewidth": 0,
             "ticks": ""
            },
            "type": "choropleth"
           }
          ],
          "contour": [
           {
            "colorbar": {
             "outlinewidth": 0,
             "ticks": ""
            },
            "colorscale": [
             [
              0,
              "#0d0887"
             ],
             [
              0.1111111111111111,
              "#46039f"
             ],
             [
              0.2222222222222222,
              "#7201a8"
             ],
             [
              0.3333333333333333,
              "#9c179e"
             ],
             [
              0.4444444444444444,
              "#bd3786"
             ],
             [
              0.5555555555555556,
              "#d8576b"
             ],
             [
              0.6666666666666666,
              "#ed7953"
             ],
             [
              0.7777777777777778,
              "#fb9f3a"
             ],
             [
              0.8888888888888888,
              "#fdca26"
             ],
             [
              1,
              "#f0f921"
             ]
            ],
            "type": "contour"
           }
          ],
          "contourcarpet": [
           {
            "colorbar": {
             "outlinewidth": 0,
             "ticks": ""
            },
            "type": "contourcarpet"
           }
          ],
          "heatmap": [
           {
            "colorbar": {
             "outlinewidth": 0,
             "ticks": ""
            },
            "colorscale": [
             [
              0,
              "#0d0887"
             ],
             [
              0.1111111111111111,
              "#46039f"
             ],
             [
              0.2222222222222222,
              "#7201a8"
             ],
             [
              0.3333333333333333,
              "#9c179e"
             ],
             [
              0.4444444444444444,
              "#bd3786"
             ],
             [
              0.5555555555555556,
              "#d8576b"
             ],
             [
              0.6666666666666666,
              "#ed7953"
             ],
             [
              0.7777777777777778,
              "#fb9f3a"
             ],
             [
              0.8888888888888888,
              "#fdca26"
             ],
             [
              1,
              "#f0f921"
             ]
            ],
            "type": "heatmap"
           }
          ],
          "heatmapgl": [
           {
            "colorbar": {
             "outlinewidth": 0,
             "ticks": ""
            },
            "colorscale": [
             [
              0,
              "#0d0887"
             ],
             [
              0.1111111111111111,
              "#46039f"
             ],
             [
              0.2222222222222222,
              "#7201a8"
             ],
             [
              0.3333333333333333,
              "#9c179e"
             ],
             [
              0.4444444444444444,
              "#bd3786"
             ],
             [
              0.5555555555555556,
              "#d8576b"
             ],
             [
              0.6666666666666666,
              "#ed7953"
             ],
             [
              0.7777777777777778,
              "#fb9f3a"
             ],
             [
              0.8888888888888888,
              "#fdca26"
             ],
             [
              1,
              "#f0f921"
             ]
            ],
            "type": "heatmapgl"
           }
          ],
          "histogram": [
           {
            "marker": {
             "colorbar": {
              "outlinewidth": 0,
              "ticks": ""
             }
            },
            "type": "histogram"
           }
          ],
          "histogram2d": [
           {
            "colorbar": {
             "outlinewidth": 0,
             "ticks": ""
            },
            "colorscale": [
             [
              0,
              "#0d0887"
             ],
             [
              0.1111111111111111,
              "#46039f"
             ],
             [
              0.2222222222222222,
              "#7201a8"
             ],
             [
              0.3333333333333333,
              "#9c179e"
             ],
             [
              0.4444444444444444,
              "#bd3786"
             ],
             [
              0.5555555555555556,
              "#d8576b"
             ],
             [
              0.6666666666666666,
              "#ed7953"
             ],
             [
              0.7777777777777778,
              "#fb9f3a"
             ],
             [
              0.8888888888888888,
              "#fdca26"
             ],
             [
              1,
              "#f0f921"
             ]
            ],
            "type": "histogram2d"
           }
          ],
          "histogram2dcontour": [
           {
            "colorbar": {
             "outlinewidth": 0,
             "ticks": ""
            },
            "colorscale": [
             [
              0,
              "#0d0887"
             ],
             [
              0.1111111111111111,
              "#46039f"
             ],
             [
              0.2222222222222222,
              "#7201a8"
             ],
             [
              0.3333333333333333,
              "#9c179e"
             ],
             [
              0.4444444444444444,
              "#bd3786"
             ],
             [
              0.5555555555555556,
              "#d8576b"
             ],
             [
              0.6666666666666666,
              "#ed7953"
             ],
             [
              0.7777777777777778,
              "#fb9f3a"
             ],
             [
              0.8888888888888888,
              "#fdca26"
             ],
             [
              1,
              "#f0f921"
             ]
            ],
            "type": "histogram2dcontour"
           }
          ],
          "mesh3d": [
           {
            "colorbar": {
             "outlinewidth": 0,
             "ticks": ""
            },
            "type": "mesh3d"
           }
          ],
          "parcoords": [
           {
            "line": {
             "colorbar": {
              "outlinewidth": 0,
              "ticks": ""
             }
            },
            "type": "parcoords"
           }
          ],
          "pie": [
           {
            "automargin": true,
            "type": "pie"
           }
          ],
          "scatter": [
           {
            "marker": {
             "colorbar": {
              "outlinewidth": 0,
              "ticks": ""
             }
            },
            "type": "scatter"
           }
          ],
          "scatter3d": [
           {
            "line": {
             "colorbar": {
              "outlinewidth": 0,
              "ticks": ""
             }
            },
            "marker": {
             "colorbar": {
              "outlinewidth": 0,
              "ticks": ""
             }
            },
            "type": "scatter3d"
           }
          ],
          "scattercarpet": [
           {
            "marker": {
             "colorbar": {
              "outlinewidth": 0,
              "ticks": ""
             }
            },
            "type": "scattercarpet"
           }
          ],
          "scattergeo": [
           {
            "marker": {
             "colorbar": {
              "outlinewidth": 0,
              "ticks": ""
             }
            },
            "type": "scattergeo"
           }
          ],
          "scattergl": [
           {
            "marker": {
             "colorbar": {
              "outlinewidth": 0,
              "ticks": ""
             }
            },
            "type": "scattergl"
           }
          ],
          "scattermapbox": [
           {
            "marker": {
             "colorbar": {
              "outlinewidth": 0,
              "ticks": ""
             }
            },
            "type": "scattermapbox"
           }
          ],
          "scatterpolar": [
           {
            "marker": {
             "colorbar": {
              "outlinewidth": 0,
              "ticks": ""
             }
            },
            "type": "scatterpolar"
           }
          ],
          "scatterpolargl": [
           {
            "marker": {
             "colorbar": {
              "outlinewidth": 0,
              "ticks": ""
             }
            },
            "type": "scatterpolargl"
           }
          ],
          "scatterternary": [
           {
            "marker": {
             "colorbar": {
              "outlinewidth": 0,
              "ticks": ""
             }
            },
            "type": "scatterternary"
           }
          ],
          "surface": [
           {
            "colorbar": {
             "outlinewidth": 0,
             "ticks": ""
            },
            "colorscale": [
             [
              0,
              "#0d0887"
             ],
             [
              0.1111111111111111,
              "#46039f"
             ],
             [
              0.2222222222222222,
              "#7201a8"
             ],
             [
              0.3333333333333333,
              "#9c179e"
             ],
             [
              0.4444444444444444,
              "#bd3786"
             ],
             [
              0.5555555555555556,
              "#d8576b"
             ],
             [
              0.6666666666666666,
              "#ed7953"
             ],
             [
              0.7777777777777778,
              "#fb9f3a"
             ],
             [
              0.8888888888888888,
              "#fdca26"
             ],
             [
              1,
              "#f0f921"
             ]
            ],
            "type": "surface"
           }
          ],
          "table": [
           {
            "cells": {
             "fill": {
              "color": "#EBF0F8"
             },
             "line": {
              "color": "white"
             }
            },
            "header": {
             "fill": {
              "color": "#C8D4E3"
             },
             "line": {
              "color": "white"
             }
            },
            "type": "table"
           }
          ]
         },
         "layout": {
          "annotationdefaults": {
           "arrowcolor": "#2a3f5f",
           "arrowhead": 0,
           "arrowwidth": 1
          },
          "autotypenumbers": "strict",
          "coloraxis": {
           "colorbar": {
            "outlinewidth": 0,
            "ticks": ""
           }
          },
          "colorscale": {
           "diverging": [
            [
             0,
             "#8e0152"
            ],
            [
             0.1,
             "#c51b7d"
            ],
            [
             0.2,
             "#de77ae"
            ],
            [
             0.3,
             "#f1b6da"
            ],
            [
             0.4,
             "#fde0ef"
            ],
            [
             0.5,
             "#f7f7f7"
            ],
            [
             0.6,
             "#e6f5d0"
            ],
            [
             0.7,
             "#b8e186"
            ],
            [
             0.8,
             "#7fbc41"
            ],
            [
             0.9,
             "#4d9221"
            ],
            [
             1,
             "#276419"
            ]
           ],
           "sequential": [
            [
             0,
             "#0d0887"
            ],
            [
             0.1111111111111111,
             "#46039f"
            ],
            [
             0.2222222222222222,
             "#7201a8"
            ],
            [
             0.3333333333333333,
             "#9c179e"
            ],
            [
             0.4444444444444444,
             "#bd3786"
            ],
            [
             0.5555555555555556,
             "#d8576b"
            ],
            [
             0.6666666666666666,
             "#ed7953"
            ],
            [
             0.7777777777777778,
             "#fb9f3a"
            ],
            [
             0.8888888888888888,
             "#fdca26"
            ],
            [
             1,
             "#f0f921"
            ]
           ],
           "sequentialminus": [
            [
             0,
             "#0d0887"
            ],
            [
             0.1111111111111111,
             "#46039f"
            ],
            [
             0.2222222222222222,
             "#7201a8"
            ],
            [
             0.3333333333333333,
             "#9c179e"
            ],
            [
             0.4444444444444444,
             "#bd3786"
            ],
            [
             0.5555555555555556,
             "#d8576b"
            ],
            [
             0.6666666666666666,
             "#ed7953"
            ],
            [
             0.7777777777777778,
             "#fb9f3a"
            ],
            [
             0.8888888888888888,
             "#fdca26"
            ],
            [
             1,
             "#f0f921"
            ]
           ]
          },
          "colorway": [
           "#636efa",
           "#EF553B",
           "#00cc96",
           "#ab63fa",
           "#FFA15A",
           "#19d3f3",
           "#FF6692",
           "#B6E880",
           "#FF97FF",
           "#FECB52"
          ],
          "font": {
           "color": "#2a3f5f"
          },
          "geo": {
           "bgcolor": "white",
           "lakecolor": "white",
           "landcolor": "#E5ECF6",
           "showlakes": true,
           "showland": true,
           "subunitcolor": "white"
          },
          "hoverlabel": {
           "align": "left"
          },
          "hovermode": "closest",
          "mapbox": {
           "style": "light"
          },
          "paper_bgcolor": "white",
          "plot_bgcolor": "#E5ECF6",
          "polar": {
           "angularaxis": {
            "gridcolor": "white",
            "linecolor": "white",
            "ticks": ""
           },
           "bgcolor": "#E5ECF6",
           "radialaxis": {
            "gridcolor": "white",
            "linecolor": "white",
            "ticks": ""
           }
          },
          "scene": {
           "xaxis": {
            "backgroundcolor": "#E5ECF6",
            "gridcolor": "white",
            "gridwidth": 2,
            "linecolor": "white",
            "showbackground": true,
            "ticks": "",
            "zerolinecolor": "white"
           },
           "yaxis": {
            "backgroundcolor": "#E5ECF6",
            "gridcolor": "white",
            "gridwidth": 2,
            "linecolor": "white",
            "showbackground": true,
            "ticks": "",
            "zerolinecolor": "white"
           },
           "zaxis": {
            "backgroundcolor": "#E5ECF6",
            "gridcolor": "white",
            "gridwidth": 2,
            "linecolor": "white",
            "showbackground": true,
            "ticks": "",
            "zerolinecolor": "white"
           }
          },
          "shapedefaults": {
           "line": {
            "color": "#2a3f5f"
           }
          },
          "ternary": {
           "aaxis": {
            "gridcolor": "white",
            "linecolor": "white",
            "ticks": ""
           },
           "baxis": {
            "gridcolor": "white",
            "linecolor": "white",
            "ticks": ""
           },
           "bgcolor": "#E5ECF6",
           "caxis": {
            "gridcolor": "white",
            "linecolor": "white",
            "ticks": ""
           }
          },
          "title": {
           "x": 0.05
          },
          "xaxis": {
           "automargin": true,
           "gridcolor": "white",
           "linecolor": "white",
           "ticks": "",
           "title": {
            "standoff": 15
           },
           "zerolinecolor": "white",
           "zerolinewidth": 2
          },
          "yaxis": {
           "automargin": true,
           "gridcolor": "white",
           "linecolor": "white",
           "ticks": "",
           "title": {
            "standoff": 15
           },
           "zerolinecolor": "white",
           "zerolinewidth": 2
          }
         }
        },
        "title": {
         "text": "xpr"
        }
       }
      }
     },
     "metadata": {},
     "output_type": "display_data"
    }
   ],
   "source": [
    "idx = 664\n",
    "days_before = 60\n",
    "days_after = 20\n",
    "fig = plot_candlestick(df_data_pump_30_no_listing['coin'][idx],df_data_pump_30_no_listing['base_date'][idx] - pd.Timedelta(days_before, 'd'), \n",
    "                        df_data_pump_30_no_listing['base_date'][idx]+pd.Timedelta(days_after, 'd'), base_date=df_data_pump_30_no_listing['base_date'][idx])\n",
    "# fig.update_layout(shapes = [dict(\n",
    "#         x0=df_data_pump_steady['base_date'][idx], x1=df_data_pump_steady['base_date'][idx], y0=0, y1=1, xref='x', yref='paper',\n",
    "#         line_width=2)])\n",
    "fig"
   ]
  },
  {
   "cell_type": "code",
   "execution_count": 22,
   "metadata": {},
   "outputs": [
    {
     "data": {
      "application/vnd.plotly.v1+json": {
       "config": {
        "plotlyServerURL": "https://plot.ly"
       },
       "data": [
        {
         "alignmentgroup": "True",
         "bingroup": "x",
         "hovertemplate": "pump_length=%{x}<br>count=%{y}<extra></extra>",
         "legendgroup": "",
         "marker": {
          "color": "#636efa"
         },
         "name": "",
         "offsetgroup": "",
         "orientation": "v",
         "showlegend": false,
         "type": "histogram",
         "x": [
          1382400000000000,
          3283200000000000,
          4147200000000000,
          1468800000000000,
          5443200000000000,
          3369600000000000,
          6048000000000000,
          6134400000000000,
          5270400000000000,
          5616000000000000,
          950400000000000,
          3801600000000000,
          6048000000000000,
          2851200000000000,
          8121600000000000,
          3196800000000000,
          1814400000000000,
          4492800000000000,
          3110400000000000,
          1468800000000000,
          2073600000000000,
          4838400000000000,
          6048000000000000,
          4147200000000000,
          4060800000000000,
          3888000000000000,
          345600000000000,
          2073600000000000,
          5443200000000000,
          10195200000000000,
          3024000000000000,
          1641600000000000,
          691200000000000,
          5097600000000000,
          5097600000000000,
          4406400000000000,
          6307200000000000,
          5356800000000000,
          5270400000000000,
          6393600000000000,
          1728000000000000,
          3542400000000000,
          4060800000000000,
          7948800000000000,
          2764800000000000,
          4233600000000000,
          1814400000000000,
          1641600000000000,
          2332800000000000,
          6393600000000000,
          2764800000000000,
          3196800000000000,
          3628800000000000,
          5616000000000000,
          2764800000000000,
          1900800000000000,
          2160000000000000,
          4147200000000000,
          60048000000000000,
          2505600000000000,
          1296000000000000,
          3801600000000000,
          3283200000000000,
          7516800000000000,
          11923200000000000,
          2937600000000000,
          3628800000000000,
          3369600000000000,
          3283200000000000,
          5702400000000000,
          4233600000000000,
          864000000000000,
          518400000000000,
          2678400000000000,
          3801600000000000,
          3801600000000000,
          3715200000000000,
          4752000000000000,
          2764800000000000,
          2678400000000000,
          2246400000000000,
          4665600000000000,
          2937600000000000,
          5616000000000000,
          5529600000000000,
          5529600000000000,
          8985600000000000,
          3283200000000000,
          7689600000000000,
          4752000000000000,
          4147200000000000,
          4752000000000000,
          4579200000000000,
          2592000000000000,
          2505600000000000,
          3456000000000000,
          1641600000000000,
          4579200000000000,
          4147200000000000,
          3283200000000000,
          1900800000000000,
          20736000000000000,
          17539200000000000,
          3369600000000000,
          2419200000000000,
          5270400000000000,
          6220800000000000,
          5961600000000000,
          5961600000000000,
          4060800000000000,
          3024000000000000,
          4924800000000000,
          5184000000000000,
          8467200000000000,
          3369600000000000,
          5702400000000000,
          4665600000000000,
          6998400000000000,
          3369600000000000,
          5097600000000000,
          3715200000000000,
          4320000000000000,
          7862400000000000,
          2937600000000000,
          6652800000000000,
          3628800000000000,
          86400000000000,
          3888000000000000,
          4752000000000000,
          4924800000000000,
          2246400000000000,
          4838400000000000,
          2592000000000000,
          4406400000000000,
          2937600000000000,
          3715200000000000,
          2505600000000000,
          4320000000000000,
          5184000000000000,
          2592000000000000,
          2332800000000000,
          1641600000000000,
          7430400000000000,
          604800000000000,
          3888000000000000,
          3542400000000000,
          4320000000000000,
          4924800000000000,
          4579200000000000,
          4147200000000000,
          691200000000000,
          2678400000000000,
          3542400000000000,
          14860800000000000,
          6998400000000000,
          3456000000000000,
          10454400000000000,
          4752000000000000,
          8208000000000000,
          2419200000000000,
          3715200000000000,
          2937600000000000,
          3456000000000000,
          5270400000000000,
          2419200000000000,
          4492800000000000,
          6652800000000000,
          9504000000000000,
          3888000000000000,
          3196800000000000,
          2073600000000000,
          6048000000000000,
          7776000000000000,
          4752000000000000,
          4838400000000000,
          4060800000000000,
          3628800000000000,
          4320000000000000,
          2937600000000000,
          5702400000000000,
          3024000000000000,
          4752000000000000,
          6134400000000000,
          5097600000000000,
          3715200000000000,
          7516800000000000,
          5702400000000000,
          2937600000000000,
          3456000000000000,
          5788800000000000,
          1468800000000000,
          691200000000000,
          259200000000000,
          1641600000000000,
          4147200000000000,
          2419200000000000,
          4320000000000000,
          6134400000000000,
          4752000000000000,
          2592000000000000,
          5961600000000000,
          7084800000000000,
          1814400000000000,
          5356800000000000,
          3369600000000000,
          7084800000000000,
          3628800000000000,
          6566400000000000,
          4752000000000000,
          6393600000000000,
          2160000000000000,
          5788800000000000,
          3283200000000000,
          2678400000000000,
          2678400000000000,
          2678400000000000,
          2678400000000000,
          4406400000000000,
          4924800000000000,
          4406400000000000,
          6220800000000000,
          6566400000000000,
          10454400000000000,
          2937600000000000,
          1814400000000000,
          1814400000000000,
          2851200000000000,
          3801600000000000,
          2246400000000000,
          4233600000000000,
          10108800000000000,
          4924800000000000,
          8553600000000000,
          3456000000000000,
          3628800000000000,
          3110400000000000,
          4665600000000000,
          2505600000000000,
          2419200000000000,
          4320000000000000,
          5702400000000000,
          2937600000000000,
          2505600000000000,
          7516800000000000,
          4752000000000000,
          2937600000000000,
          6048000000000000,
          4320000000000000,
          3888000000000000,
          3715200000000000,
          8035200000000000,
          4320000000000000,
          3456000000000000,
          1036800000000000,
          2764800000000000,
          2851200000000000,
          6739200000000000,
          1641600000000000,
          3024000000000000,
          2073600000000000,
          2505600000000000,
          5270400000000000,
          950400000000000,
          2764800000000000,
          4147200000000000,
          3801600000000000,
          1296000000000000,
          1987200000000000,
          1382400000000000,
          2937600000000000,
          4060800000000000,
          5097600000000000,
          1555200000000000,
          2764800000000000,
          4233600000000000,
          6393600000000000,
          5443200000000000,
          5788800000000000,
          4233600000000000,
          5184000000000000,
          5184000000000000,
          10368000000000000,
          4060800000000000,
          5184000000000000,
          5011200000000000,
          4579200000000000,
          6307200000000000,
          950400000000000,
          2764800000000000,
          7344000000000000,
          2246400000000000,
          4233600000000000,
          1987200000000000,
          5616000000000000,
          4579200000000000,
          6220800000000000,
          8812800000000000,
          3628800000000000,
          3888000000000000,
          1468800000000000,
          4233600000000000,
          3283200000000000,
          4233600000000000,
          2678400000000000,
          3715200000000000,
          7776000000000000,
          2419200000000000,
          950400000000000,
          6739200000000000,
          2592000000000000,
          4924800000000000,
          5616000000000000,
          5788800000000000,
          950400000000000,
          4147200000000000,
          6825600000000000,
          8121600000000000,
          3110400000000000,
          3283200000000000,
          3369600000000000,
          6998400000000000,
          3801600000000000,
          6393600000000000,
          3715200000000000,
          7776000000000000,
          4406400000000000,
          5616000000000000,
          3456000000000000,
          4492800000000000,
          13564800000000000,
          2678400000000000,
          3283200000000000,
          2592000000000000,
          3801600000000000,
          5616000000000000,
          3196800000000000,
          10022400000000000,
          3110400000000000,
          2419200000000000,
          5356800000000000,
          6566400000000000,
          1728000000000000,
          3974400000000000,
          4320000000000000,
          11750400000000000,
          6048000000000000,
          7862400000000000,
          4924800000000000,
          2764800000000000,
          6048000000000000,
          5270400000000000,
          2505600000000000,
          3196800000000000,
          5788800000000000,
          4320000000000000,
          5184000000000000,
          13046400000000000,
          8121600000000000,
          2851200000000000,
          3801600000000000,
          9417600000000000,
          5356800000000000,
          4838400000000000,
          3715200000000000,
          2592000000000000,
          1900800000000000,
          2332800000000000,
          4579200000000000,
          4752000000000000,
          8121600000000000,
          3542400000000000,
          5184000000000000,
          4233600000000000,
          4406400000000000,
          3542400000000000,
          259200000000000,
          4320000000000000,
          4924800000000000,
          2592000000000000,
          4060800000000000,
          4492800000000000,
          5184000000000000,
          3542400000000000,
          5788800000000000,
          11491200000000000,
          9936000000000000,
          7084800000000000,
          5270400000000000,
          3801600000000000,
          5270400000000000,
          3456000000000000,
          5443200000000000,
          2937600000000000,
          3456000000000000,
          3110400000000000,
          5529600000000000,
          2160000000000000,
          6134400000000000,
          3369600000000000,
          3888000000000000,
          4665600000000000,
          4320000000000000,
          4406400000000000,
          7430400000000000,
          3715200000000000,
          3456000000000000,
          5356800000000000,
          4320000000000000,
          5270400000000000,
          7603200000000000,
          3542400000000000,
          3801600000000000,
          4060800000000000,
          5961600000000000,
          5961600000000000,
          6220800000000000,
          4752000000000000,
          1036800000000000,
          4579200000000000,
          3801600000000000,
          2764800000000000,
          3801600000000000,
          2764800000000000,
          3628800000000000,
          5961600000000000,
          5443200000000000,
          5011200000000000,
          3369600000000000,
          3196800000000000,
          6652800000000000,
          4752000000000000,
          4320000000000000,
          7171200000000000,
          3110400000000000,
          4665600000000000,
          7776000000000000,
          7689600000000000,
          5097600000000000,
          2073600000000000,
          2073600000000000,
          3110400000000000,
          1382400000000000,
          4752000000000000,
          3024000000000000,
          4060800000000000,
          259200000000000,
          864000000000000,
          1987200000000000,
          7344000000000000,
          4752000000000000,
          5356800000000000,
          7948800000000000,
          4838400000000000,
          3974400000000000,
          4579200000000000,
          6912000000000000,
          3283200000000000,
          1900800000000000,
          1987200000000000,
          2851200000000000,
          6480000000000000,
          6480000000000000,
          6825600000000000,
          5788800000000000,
          4060800000000000,
          3801600000000000,
          2764800000000000,
          2332800000000000,
          3369600000000000,
          1987200000000000,
          4060800000000000,
          13910400000000000,
          4406400000000000,
          7603200000000000,
          4665600000000000,
          11145600000000000,
          2937600000000000,
          5270400000000000,
          5616000000000000,
          1987200000000000,
          7689600000000000,
          6220800000000000,
          4060800000000000,
          864000000000000,
          1296000000000000,
          4233600000000000,
          8985600000000000,
          6307200000000000,
          4406400000000000,
          3801600000000000,
          1296000000000000,
          3024000000000000,
          4492800000000000,
          3628800000000000,
          3196800000000000,
          4579200000000000,
          5788800000000000,
          6134400000000000,
          3715200000000000,
          5788800000000000,
          6480000000000000,
          6480000000000000,
          5356800000000000,
          4406400000000000,
          5011200000000000,
          8553600000000000,
          4147200000000000,
          3283200000000000,
          6048000000000000,
          7689600000000000,
          5097600000000000,
          2419200000000000,
          5184000000000000,
          6566400000000000,
          5356800000000000,
          3024000000000000,
          4752000000000000,
          3024000000000000,
          6393600000000000,
          4406400000000000,
          4147200000000000,
          3628800000000000,
          5961600000000000,
          3369600000000000,
          2764800000000000,
          604800000000000,
          4492800000000000,
          6566400000000000,
          4320000000000000,
          2419200000000000,
          4492800000000000,
          3715200000000000,
          604800000000000,
          2592000000000000,
          4233600000000000,
          259200000000000,
          4838400000000000,
          604800000000000,
          9936000000000000,
          3801600000000000,
          3888000000000000,
          2419200000000000,
          4492800000000000,
          6652800000000000,
          4233600000000000,
          4320000000000000,
          4752000000000000,
          2073600000000000,
          5961600000000000,
          3715200000000000,
          7776000000000000,
          3369600000000000,
          5097600000000000,
          4579200000000000,
          4838400000000000,
          2419200000000000,
          5184000000000000,
          4492800000000000,
          4147200000000000,
          3456000000000000,
          8812800000000000,
          3542400000000000,
          1555200000000000,
          3369600000000000,
          2505600000000000,
          5616000000000000,
          6912000000000000,
          3542400000000000,
          8294400000000000,
          4406400000000000,
          3974400000000000,
          7862400000000000,
          2764800000000000,
          5011200000000000,
          8380800000000000,
          1555200000000000,
          3542400000000000,
          13132800000000000,
          2851200000000000,
          5270400000000000,
          5702400000000000,
          3974400000000000,
          3974400000000000,
          5270400000000000,
          10886400000000000,
          4320000000000000,
          2764800000000000,
          3456000000000000,
          2764800000000000,
          2332800000000000,
          3628800000000000,
          4060800000000000,
          2764800000000000,
          3974400000000000,
          1900800000000000,
          4665600000000000,
          5616000000000000,
          5356800000000000,
          2419200000000000,
          777600000000000,
          4147200000000000,
          864000000000000,
          28252800000000000,
          5529600000000000,
          3369600000000000,
          5616000000000000,
          3542400000000000,
          4233600000000000,
          2937600000000000,
          5011200000000000,
          2246400000000000,
          7430400000000000,
          6134400000000000,
          6825600000000000,
          950400000000000,
          43113600000000000,
          2160000000000000,
          3024000000000000,
          4665600000000000,
          6998400000000000,
          5616000000000000,
          4406400000000000,
          5270400000000000,
          3628800000000000,
          9849600000000000,
          1728000000000000,
          1900800000000000,
          4492800000000000,
          4060800000000000,
          4060800000000000,
          5356800000000000,
          3283200000000000,
          5097600000000000,
          5356800000000000,
          2937600000000000,
          5270400000000000,
          3542400000000000,
          2937600000000000,
          10540800000000000,
          1468800000000000,
          4752000000000000,
          4665600000000000,
          5270400000000000,
          4838400000000000,
          11664000000000000,
          3369600000000000,
          4838400000000000,
          4752000000000000,
          12700800000000000,
          3196800000000000,
          7776000000000000,
          3715200000000000,
          2851200000000000,
          5097600000000000,
          4838400000000000,
          1382400000000000,
          1555200000000000,
          3801600000000000,
          5097600000000000,
          2851200000000000,
          2851200000000000,
          2937600000000000,
          3715200000000000,
          5270400000000000,
          2419200000000000,
          1900800000000000,
          2160000000000000,
          2937600000000000,
          4579200000000000,
          6652800000000000,
          4752000000000000,
          1123200000000000,
          7171200000000000,
          6739200000000000,
          2678400000000000,
          4492800000000000,
          5616000000000000,
          4838400000000000,
          2505600000000000,
          2851200000000000,
          5011200000000000,
          777600000000000,
          6048000000000000,
          4147200000000000,
          3110400000000000,
          2073600000000000,
          4579200000000000,
          3715200000000000,
          2851200000000000,
          4924800000000000
         ],
         "xaxis": "x",
         "yaxis": "y"
        }
       ],
       "layout": {
        "barmode": "relative",
        "legend": {
         "tracegroupgap": 0
        },
        "margin": {
         "t": 60
        },
        "template": {
         "data": {
          "bar": [
           {
            "error_x": {
             "color": "#2a3f5f"
            },
            "error_y": {
             "color": "#2a3f5f"
            },
            "marker": {
             "line": {
              "color": "#E5ECF6",
              "width": 0.5
             }
            },
            "type": "bar"
           }
          ],
          "barpolar": [
           {
            "marker": {
             "line": {
              "color": "#E5ECF6",
              "width": 0.5
             }
            },
            "type": "barpolar"
           }
          ],
          "carpet": [
           {
            "aaxis": {
             "endlinecolor": "#2a3f5f",
             "gridcolor": "white",
             "linecolor": "white",
             "minorgridcolor": "white",
             "startlinecolor": "#2a3f5f"
            },
            "baxis": {
             "endlinecolor": "#2a3f5f",
             "gridcolor": "white",
             "linecolor": "white",
             "minorgridcolor": "white",
             "startlinecolor": "#2a3f5f"
            },
            "type": "carpet"
           }
          ],
          "choropleth": [
           {
            "colorbar": {
             "outlinewidth": 0,
             "ticks": ""
            },
            "type": "choropleth"
           }
          ],
          "contour": [
           {
            "colorbar": {
             "outlinewidth": 0,
             "ticks": ""
            },
            "colorscale": [
             [
              0,
              "#0d0887"
             ],
             [
              0.1111111111111111,
              "#46039f"
             ],
             [
              0.2222222222222222,
              "#7201a8"
             ],
             [
              0.3333333333333333,
              "#9c179e"
             ],
             [
              0.4444444444444444,
              "#bd3786"
             ],
             [
              0.5555555555555556,
              "#d8576b"
             ],
             [
              0.6666666666666666,
              "#ed7953"
             ],
             [
              0.7777777777777778,
              "#fb9f3a"
             ],
             [
              0.8888888888888888,
              "#fdca26"
             ],
             [
              1,
              "#f0f921"
             ]
            ],
            "type": "contour"
           }
          ],
          "contourcarpet": [
           {
            "colorbar": {
             "outlinewidth": 0,
             "ticks": ""
            },
            "type": "contourcarpet"
           }
          ],
          "heatmap": [
           {
            "colorbar": {
             "outlinewidth": 0,
             "ticks": ""
            },
            "colorscale": [
             [
              0,
              "#0d0887"
             ],
             [
              0.1111111111111111,
              "#46039f"
             ],
             [
              0.2222222222222222,
              "#7201a8"
             ],
             [
              0.3333333333333333,
              "#9c179e"
             ],
             [
              0.4444444444444444,
              "#bd3786"
             ],
             [
              0.5555555555555556,
              "#d8576b"
             ],
             [
              0.6666666666666666,
              "#ed7953"
             ],
             [
              0.7777777777777778,
              "#fb9f3a"
             ],
             [
              0.8888888888888888,
              "#fdca26"
             ],
             [
              1,
              "#f0f921"
             ]
            ],
            "type": "heatmap"
           }
          ],
          "heatmapgl": [
           {
            "colorbar": {
             "outlinewidth": 0,
             "ticks": ""
            },
            "colorscale": [
             [
              0,
              "#0d0887"
             ],
             [
              0.1111111111111111,
              "#46039f"
             ],
             [
              0.2222222222222222,
              "#7201a8"
             ],
             [
              0.3333333333333333,
              "#9c179e"
             ],
             [
              0.4444444444444444,
              "#bd3786"
             ],
             [
              0.5555555555555556,
              "#d8576b"
             ],
             [
              0.6666666666666666,
              "#ed7953"
             ],
             [
              0.7777777777777778,
              "#fb9f3a"
             ],
             [
              0.8888888888888888,
              "#fdca26"
             ],
             [
              1,
              "#f0f921"
             ]
            ],
            "type": "heatmapgl"
           }
          ],
          "histogram": [
           {
            "marker": {
             "colorbar": {
              "outlinewidth": 0,
              "ticks": ""
             }
            },
            "type": "histogram"
           }
          ],
          "histogram2d": [
           {
            "colorbar": {
             "outlinewidth": 0,
             "ticks": ""
            },
            "colorscale": [
             [
              0,
              "#0d0887"
             ],
             [
              0.1111111111111111,
              "#46039f"
             ],
             [
              0.2222222222222222,
              "#7201a8"
             ],
             [
              0.3333333333333333,
              "#9c179e"
             ],
             [
              0.4444444444444444,
              "#bd3786"
             ],
             [
              0.5555555555555556,
              "#d8576b"
             ],
             [
              0.6666666666666666,
              "#ed7953"
             ],
             [
              0.7777777777777778,
              "#fb9f3a"
             ],
             [
              0.8888888888888888,
              "#fdca26"
             ],
             [
              1,
              "#f0f921"
             ]
            ],
            "type": "histogram2d"
           }
          ],
          "histogram2dcontour": [
           {
            "colorbar": {
             "outlinewidth": 0,
             "ticks": ""
            },
            "colorscale": [
             [
              0,
              "#0d0887"
             ],
             [
              0.1111111111111111,
              "#46039f"
             ],
             [
              0.2222222222222222,
              "#7201a8"
             ],
             [
              0.3333333333333333,
              "#9c179e"
             ],
             [
              0.4444444444444444,
              "#bd3786"
             ],
             [
              0.5555555555555556,
              "#d8576b"
             ],
             [
              0.6666666666666666,
              "#ed7953"
             ],
             [
              0.7777777777777778,
              "#fb9f3a"
             ],
             [
              0.8888888888888888,
              "#fdca26"
             ],
             [
              1,
              "#f0f921"
             ]
            ],
            "type": "histogram2dcontour"
           }
          ],
          "mesh3d": [
           {
            "colorbar": {
             "outlinewidth": 0,
             "ticks": ""
            },
            "type": "mesh3d"
           }
          ],
          "parcoords": [
           {
            "line": {
             "colorbar": {
              "outlinewidth": 0,
              "ticks": ""
             }
            },
            "type": "parcoords"
           }
          ],
          "pie": [
           {
            "automargin": true,
            "type": "pie"
           }
          ],
          "scatter": [
           {
            "marker": {
             "colorbar": {
              "outlinewidth": 0,
              "ticks": ""
             }
            },
            "type": "scatter"
           }
          ],
          "scatter3d": [
           {
            "line": {
             "colorbar": {
              "outlinewidth": 0,
              "ticks": ""
             }
            },
            "marker": {
             "colorbar": {
              "outlinewidth": 0,
              "ticks": ""
             }
            },
            "type": "scatter3d"
           }
          ],
          "scattercarpet": [
           {
            "marker": {
             "colorbar": {
              "outlinewidth": 0,
              "ticks": ""
             }
            },
            "type": "scattercarpet"
           }
          ],
          "scattergeo": [
           {
            "marker": {
             "colorbar": {
              "outlinewidth": 0,
              "ticks": ""
             }
            },
            "type": "scattergeo"
           }
          ],
          "scattergl": [
           {
            "marker": {
             "colorbar": {
              "outlinewidth": 0,
              "ticks": ""
             }
            },
            "type": "scattergl"
           }
          ],
          "scattermapbox": [
           {
            "marker": {
             "colorbar": {
              "outlinewidth": 0,
              "ticks": ""
             }
            },
            "type": "scattermapbox"
           }
          ],
          "scatterpolar": [
           {
            "marker": {
             "colorbar": {
              "outlinewidth": 0,
              "ticks": ""
             }
            },
            "type": "scatterpolar"
           }
          ],
          "scatterpolargl": [
           {
            "marker": {
             "colorbar": {
              "outlinewidth": 0,
              "ticks": ""
             }
            },
            "type": "scatterpolargl"
           }
          ],
          "scatterternary": [
           {
            "marker": {
             "colorbar": {
              "outlinewidth": 0,
              "ticks": ""
             }
            },
            "type": "scatterternary"
           }
          ],
          "surface": [
           {
            "colorbar": {
             "outlinewidth": 0,
             "ticks": ""
            },
            "colorscale": [
             [
              0,
              "#0d0887"
             ],
             [
              0.1111111111111111,
              "#46039f"
             ],
             [
              0.2222222222222222,
              "#7201a8"
             ],
             [
              0.3333333333333333,
              "#9c179e"
             ],
             [
              0.4444444444444444,
              "#bd3786"
             ],
             [
              0.5555555555555556,
              "#d8576b"
             ],
             [
              0.6666666666666666,
              "#ed7953"
             ],
             [
              0.7777777777777778,
              "#fb9f3a"
             ],
             [
              0.8888888888888888,
              "#fdca26"
             ],
             [
              1,
              "#f0f921"
             ]
            ],
            "type": "surface"
           }
          ],
          "table": [
           {
            "cells": {
             "fill": {
              "color": "#EBF0F8"
             },
             "line": {
              "color": "white"
             }
            },
            "header": {
             "fill": {
              "color": "#C8D4E3"
             },
             "line": {
              "color": "white"
             }
            },
            "type": "table"
           }
          ]
         },
         "layout": {
          "annotationdefaults": {
           "arrowcolor": "#2a3f5f",
           "arrowhead": 0,
           "arrowwidth": 1
          },
          "autotypenumbers": "strict",
          "coloraxis": {
           "colorbar": {
            "outlinewidth": 0,
            "ticks": ""
           }
          },
          "colorscale": {
           "diverging": [
            [
             0,
             "#8e0152"
            ],
            [
             0.1,
             "#c51b7d"
            ],
            [
             0.2,
             "#de77ae"
            ],
            [
             0.3,
             "#f1b6da"
            ],
            [
             0.4,
             "#fde0ef"
            ],
            [
             0.5,
             "#f7f7f7"
            ],
            [
             0.6,
             "#e6f5d0"
            ],
            [
             0.7,
             "#b8e186"
            ],
            [
             0.8,
             "#7fbc41"
            ],
            [
             0.9,
             "#4d9221"
            ],
            [
             1,
             "#276419"
            ]
           ],
           "sequential": [
            [
             0,
             "#0d0887"
            ],
            [
             0.1111111111111111,
             "#46039f"
            ],
            [
             0.2222222222222222,
             "#7201a8"
            ],
            [
             0.3333333333333333,
             "#9c179e"
            ],
            [
             0.4444444444444444,
             "#bd3786"
            ],
            [
             0.5555555555555556,
             "#d8576b"
            ],
            [
             0.6666666666666666,
             "#ed7953"
            ],
            [
             0.7777777777777778,
             "#fb9f3a"
            ],
            [
             0.8888888888888888,
             "#fdca26"
            ],
            [
             1,
             "#f0f921"
            ]
           ],
           "sequentialminus": [
            [
             0,
             "#0d0887"
            ],
            [
             0.1111111111111111,
             "#46039f"
            ],
            [
             0.2222222222222222,
             "#7201a8"
            ],
            [
             0.3333333333333333,
             "#9c179e"
            ],
            [
             0.4444444444444444,
             "#bd3786"
            ],
            [
             0.5555555555555556,
             "#d8576b"
            ],
            [
             0.6666666666666666,
             "#ed7953"
            ],
            [
             0.7777777777777778,
             "#fb9f3a"
            ],
            [
             0.8888888888888888,
             "#fdca26"
            ],
            [
             1,
             "#f0f921"
            ]
           ]
          },
          "colorway": [
           "#636efa",
           "#EF553B",
           "#00cc96",
           "#ab63fa",
           "#FFA15A",
           "#19d3f3",
           "#FF6692",
           "#B6E880",
           "#FF97FF",
           "#FECB52"
          ],
          "font": {
           "color": "#2a3f5f"
          },
          "geo": {
           "bgcolor": "white",
           "lakecolor": "white",
           "landcolor": "#E5ECF6",
           "showlakes": true,
           "showland": true,
           "subunitcolor": "white"
          },
          "hoverlabel": {
           "align": "left"
          },
          "hovermode": "closest",
          "mapbox": {
           "style": "light"
          },
          "paper_bgcolor": "white",
          "plot_bgcolor": "#E5ECF6",
          "polar": {
           "angularaxis": {
            "gridcolor": "white",
            "linecolor": "white",
            "ticks": ""
           },
           "bgcolor": "#E5ECF6",
           "radialaxis": {
            "gridcolor": "white",
            "linecolor": "white",
            "ticks": ""
           }
          },
          "scene": {
           "xaxis": {
            "backgroundcolor": "#E5ECF6",
            "gridcolor": "white",
            "gridwidth": 2,
            "linecolor": "white",
            "showbackground": true,
            "ticks": "",
            "zerolinecolor": "white"
           },
           "yaxis": {
            "backgroundcolor": "#E5ECF6",
            "gridcolor": "white",
            "gridwidth": 2,
            "linecolor": "white",
            "showbackground": true,
            "ticks": "",
            "zerolinecolor": "white"
           },
           "zaxis": {
            "backgroundcolor": "#E5ECF6",
            "gridcolor": "white",
            "gridwidth": 2,
            "linecolor": "white",
            "showbackground": true,
            "ticks": "",
            "zerolinecolor": "white"
           }
          },
          "shapedefaults": {
           "line": {
            "color": "#2a3f5f"
           }
          },
          "ternary": {
           "aaxis": {
            "gridcolor": "white",
            "linecolor": "white",
            "ticks": ""
           },
           "baxis": {
            "gridcolor": "white",
            "linecolor": "white",
            "ticks": ""
           },
           "bgcolor": "#E5ECF6",
           "caxis": {
            "gridcolor": "white",
            "linecolor": "white",
            "ticks": ""
           }
          },
          "title": {
           "x": 0.05
          },
          "xaxis": {
           "automargin": true,
           "gridcolor": "white",
           "linecolor": "white",
           "ticks": "",
           "title": {
            "standoff": 15
           },
           "zerolinecolor": "white",
           "zerolinewidth": 2
          },
          "yaxis": {
           "automargin": true,
           "gridcolor": "white",
           "linecolor": "white",
           "ticks": "",
           "title": {
            "standoff": 15
           },
           "zerolinecolor": "white",
           "zerolinewidth": 2
          }
         }
        },
        "xaxis": {
         "anchor": "y",
         "domain": [
          0,
          1
         ],
         "title": {
          "text": "pump_length"
         }
        },
        "yaxis": {
         "anchor": "x",
         "domain": [
          0,
          1
         ],
         "title": {
          "text": "count"
         }
        }
       }
      }
     },
     "metadata": {},
     "output_type": "display_data"
    }
   ],
   "source": [
    "import plotly.express as px\n",
    "fig = px.histogram(df_data_pump, x=\"pump_length\")\n",
    "fig.show()\n",
    "\n",
    "fig = go.Figure(data=[go.Histogram(x=arr_early_max_price[arr_early_max_price <= 0])])\n",
    "fig.show()"
   ]
  },
  {
   "cell_type": "code",
   "execution_count": 12,
   "metadata": {},
   "outputs": [],
   "source": [
    "THRESHOLD_STEADY = 60\n",
    "df_data_pump_steady = df_data_pump[df_data_pump['base_date'] - df_data_pump['date_listing'] >= pd.Timedelta(THRESHOLD_STEADY, 'd')]\n",
    "df_data_pump_steady.reset_index(inplace=True)"
   ]
  },
  {
   "cell_type": "code",
   "execution_count": null,
   "metadata": {},
   "outputs": [],
   "source": [
    "PUMP_THRESHOLD = 10\n",
    "df_data_pump_steady = df_data_pump_steady[df_data_pump_steady['pct_change'] > PUMP_THRESHOLD].reset_index()"
   ]
  },
  {
   "cell_type": "code",
   "execution_count": null,
   "metadata": {},
   "outputs": [
    {
     "data": {
      "application/vnd.plotly.v1+json": {
       "config": {
        "plotlyServerURL": "https://plot.ly"
       },
       "data": [
        {
         "close": [
          6.289395335427509,
          5.533717125417518,
          6.18760482058283,
          6.007502967778279,
          5.696327853627398,
          5.4904724324933385,
          7.71030338919035,
          9.07744349693785,
          8.655694375454084,
          13.37578435085168,
          22.48986670696473,
          28.716456668934377,
          17.920713843947986,
          19.6001537381348,
          25.960178333588637,
          25.960178333588637,
          22.461996360761656,
          21.724394817832362,
          19.31280485824909,
          19.29095201204585,
          17.768048600360764,
          17.823957709858913,
          56.5476027823133,
          56.5476027823133,
          78.69135356820865,
          94.64083767400416,
          73.0657744613187,
          64.37082856037145,
          76.59408188736474,
          83.68800174905745,
          77.78608379126503,
          82.68725188772495,
          67.6652707763033,
          71.70399168879608,
          83.87611727823669,
          77.91264007605591,
          77.9349974749811,
          87.73360241794028,
          84.81082050198427,
          87.46664227581587,
          82.00655931957391,
          84.27362925146,
          81.8046005540485,
          83.97960821207751,
          75.33271514629456,
          80.75046893239113,
          82.96011135363563,
          78.08986661841116,
          71.78424743948075,
          68.9615442333723,
          76.26122256280574,
          64.28384407170175,
          72.53779014576524,
          73.05197132806137,
          77.69015523074175,
          83.04371595351994,
          86.41284329734471,
          110.91033676811077
         ],
         "high": [
          6.289395335427509,
          6.289395335427509,
          6.18760482058283,
          6.18760482058283,
          6.007502967778279,
          5.696327853627398,
          7.71030338919035,
          9.07744349693785,
          9.07744349693785,
          13.37578435085168,
          22.48986670696473,
          28.716456668934377,
          28.716456668934377,
          19.6001537381348,
          25.960178333588637,
          25.960178333588637,
          25.960178333588637,
          22.461996360761656,
          21.724394817832362,
          19.31280485824909,
          19.29095201204585,
          17.823957709858913,
          56.5476027823133,
          56.5476027823133,
          78.69135356820865,
          94.64083767400416,
          94.64083767400416,
          73.0657744613187,
          76.59408188736474,
          83.68800174905745,
          83.68800174905745,
          82.68725188772495,
          82.68725188772495,
          71.70399168879608,
          83.87611727823669,
          83.87611727823669,
          77.9349974749811,
          87.73360241794028,
          87.73360241794028,
          87.46664227581587,
          87.46664227581587,
          84.27362925146,
          84.27362925146,
          83.97960821207751,
          83.97960821207751,
          80.75046893239113,
          82.96011135363563,
          82.96011135363563,
          78.08986661841116,
          71.78424743948075,
          76.26122256280574,
          76.26122256280574,
          72.53779014576524,
          73.05197132806137,
          77.69015523074175,
          83.04371595351994,
          86.41284329734471,
          110.91033676811077
         ],
         "low": [
          5.404229495576817,
          5.533717125417518,
          5.533717125417518,
          6.007502967778279,
          5.696327853627398,
          5.4904724324933385,
          5.4904724324933385,
          7.71030338919035,
          8.655694375454084,
          8.655694375454084,
          13.37578435085168,
          22.48986670696473,
          17.920713843947986,
          17.920713843947986,
          19.6001537381348,
          25.960178333588637,
          22.461996360761656,
          21.724394817832362,
          19.31280485824909,
          19.29095201204585,
          17.768048600360764,
          17.768048600360764,
          17.823957709858913,
          56.5476027823133,
          56.5476027823133,
          78.69135356820865,
          73.0657744613187,
          64.37082856037145,
          64.37082856037145,
          76.59408188736474,
          77.78608379126503,
          77.78608379126503,
          67.6652707763033,
          67.6652707763033,
          71.70399168879608,
          77.91264007605591,
          77.91264007605591,
          77.9349974749811,
          84.81082050198427,
          84.81082050198427,
          82.00655931957391,
          82.00655931957391,
          81.8046005540485,
          81.8046005540485,
          75.33271514629456,
          75.33271514629456,
          80.75046893239113,
          78.08986661841116,
          71.78424743948075,
          68.9615442333723,
          68.9615442333723,
          64.28384407170175,
          64.28384407170175,
          72.53779014576524,
          73.05197132806137,
          77.69015523074175,
          83.04371595351994,
          86.41284329734471
         ],
         "open": [
          5.404229495576817,
          6.289395335427509,
          5.533717125417518,
          6.18760482058283,
          6.007502967778279,
          5.696327853627398,
          5.4904724324933385,
          7.71030338919035,
          9.07744349693785,
          8.655694375454084,
          13.37578435085168,
          22.48986670696473,
          28.716456668934377,
          17.920713843947986,
          19.6001537381348,
          25.960178333588637,
          25.960178333588637,
          22.461996360761656,
          21.724394817832362,
          19.31280485824909,
          19.29095201204585,
          17.768048600360764,
          17.823957709858913,
          56.5476027823133,
          56.5476027823133,
          78.69135356820865,
          94.64083767400416,
          73.0657744613187,
          64.37082856037145,
          76.59408188736474,
          83.68800174905745,
          77.78608379126503,
          82.68725188772495,
          67.6652707763033,
          71.70399168879608,
          83.87611727823669,
          77.91264007605591,
          77.9349974749811,
          87.73360241794028,
          84.81082050198427,
          87.46664227581587,
          82.00655931957391,
          84.27362925146,
          81.8046005540485,
          83.97960821207751,
          75.33271514629456,
          80.75046893239113,
          82.96011135363563,
          78.08986661841116,
          71.78424743948075,
          68.9615442333723,
          76.26122256280574,
          64.28384407170175,
          72.53779014576524,
          73.05197132806137,
          77.69015523074175,
          83.04371595351994,
          86.41284329734471
         ],
         "type": "candlestick",
         "x": [
          "2020-11-13T00:00:00",
          "2020-11-14T00:00:00",
          "2020-11-15T00:00:00",
          "2020-11-16T00:00:00",
          "2020-11-17T00:00:00",
          "2020-11-18T00:00:00",
          "2020-11-19T00:00:00",
          "2020-11-20T00:00:00",
          "2020-11-21T00:00:00",
          "2020-11-22T00:00:00",
          "2020-11-23T00:00:00",
          "2020-11-24T00:00:00",
          "2020-11-25T00:00:00",
          "2020-11-26T00:00:00",
          "2020-11-27T00:00:00",
          "2020-11-28T00:00:00",
          "2020-11-29T00:00:00",
          "2020-11-30T00:00:00",
          "2020-12-01T00:00:00",
          "2020-12-02T00:00:00",
          "2020-12-03T00:00:00",
          "2020-12-04T00:00:00",
          "2020-12-05T00:00:00",
          "2020-12-14T00:00:00",
          "2020-12-15T00:00:00",
          "2020-12-16T00:00:00",
          "2020-12-17T00:00:00",
          "2020-12-18T00:00:00",
          "2020-12-19T00:00:00",
          "2020-12-20T00:00:00",
          "2020-12-21T00:00:00",
          "2020-12-22T00:00:00",
          "2020-12-23T00:00:00",
          "2020-12-24T00:00:00",
          "2020-12-25T00:00:00",
          "2020-12-26T00:00:00",
          "2020-12-27T00:00:00",
          "2020-12-28T00:00:00",
          "2020-12-29T00:00:00",
          "2020-12-30T00:00:00",
          "2020-12-31T00:00:00",
          "2021-01-01T00:00:00",
          "2021-01-02T00:00:00",
          "2021-01-03T00:00:00",
          "2021-01-04T00:00:00",
          "2021-01-05T00:00:00",
          "2021-01-06T00:00:00",
          "2021-01-07T00:00:00",
          "2021-01-08T00:00:00",
          "2021-01-09T00:00:00",
          "2021-01-10T00:00:00",
          "2021-01-11T00:00:00",
          "2021-01-12T00:00:00",
          "2021-01-13T00:00:00",
          "2021-01-14T00:00:00",
          "2021-01-15T00:00:00",
          "2021-01-16T00:00:00",
          "2021-01-17T00:00:00"
         ]
        }
       ],
       "layout": {
        "shapes": [
         {
          "line": {
           "width": 2
          },
          "x0": "2021-01-12T00:00:00",
          "x1": "2021-01-12T00:00:00",
          "xref": "x",
          "y0": 0,
          "y1": 1,
          "yref": "paper"
         }
        ],
        "template": {
         "data": {
          "bar": [
           {
            "error_x": {
             "color": "#2a3f5f"
            },
            "error_y": {
             "color": "#2a3f5f"
            },
            "marker": {
             "line": {
              "color": "#E5ECF6",
              "width": 0.5
             }
            },
            "type": "bar"
           }
          ],
          "barpolar": [
           {
            "marker": {
             "line": {
              "color": "#E5ECF6",
              "width": 0.5
             }
            },
            "type": "barpolar"
           }
          ],
          "carpet": [
           {
            "aaxis": {
             "endlinecolor": "#2a3f5f",
             "gridcolor": "white",
             "linecolor": "white",
             "minorgridcolor": "white",
             "startlinecolor": "#2a3f5f"
            },
            "baxis": {
             "endlinecolor": "#2a3f5f",
             "gridcolor": "white",
             "linecolor": "white",
             "minorgridcolor": "white",
             "startlinecolor": "#2a3f5f"
            },
            "type": "carpet"
           }
          ],
          "choropleth": [
           {
            "colorbar": {
             "outlinewidth": 0,
             "ticks": ""
            },
            "type": "choropleth"
           }
          ],
          "contour": [
           {
            "colorbar": {
             "outlinewidth": 0,
             "ticks": ""
            },
            "colorscale": [
             [
              0,
              "#0d0887"
             ],
             [
              0.1111111111111111,
              "#46039f"
             ],
             [
              0.2222222222222222,
              "#7201a8"
             ],
             [
              0.3333333333333333,
              "#9c179e"
             ],
             [
              0.4444444444444444,
              "#bd3786"
             ],
             [
              0.5555555555555556,
              "#d8576b"
             ],
             [
              0.6666666666666666,
              "#ed7953"
             ],
             [
              0.7777777777777778,
              "#fb9f3a"
             ],
             [
              0.8888888888888888,
              "#fdca26"
             ],
             [
              1,
              "#f0f921"
             ]
            ],
            "type": "contour"
           }
          ],
          "contourcarpet": [
           {
            "colorbar": {
             "outlinewidth": 0,
             "ticks": ""
            },
            "type": "contourcarpet"
           }
          ],
          "heatmap": [
           {
            "colorbar": {
             "outlinewidth": 0,
             "ticks": ""
            },
            "colorscale": [
             [
              0,
              "#0d0887"
             ],
             [
              0.1111111111111111,
              "#46039f"
             ],
             [
              0.2222222222222222,
              "#7201a8"
             ],
             [
              0.3333333333333333,
              "#9c179e"
             ],
             [
              0.4444444444444444,
              "#bd3786"
             ],
             [
              0.5555555555555556,
              "#d8576b"
             ],
             [
              0.6666666666666666,
              "#ed7953"
             ],
             [
              0.7777777777777778,
              "#fb9f3a"
             ],
             [
              0.8888888888888888,
              "#fdca26"
             ],
             [
              1,
              "#f0f921"
             ]
            ],
            "type": "heatmap"
           }
          ],
          "heatmapgl": [
           {
            "colorbar": {
             "outlinewidth": 0,
             "ticks": ""
            },
            "colorscale": [
             [
              0,
              "#0d0887"
             ],
             [
              0.1111111111111111,
              "#46039f"
             ],
             [
              0.2222222222222222,
              "#7201a8"
             ],
             [
              0.3333333333333333,
              "#9c179e"
             ],
             [
              0.4444444444444444,
              "#bd3786"
             ],
             [
              0.5555555555555556,
              "#d8576b"
             ],
             [
              0.6666666666666666,
              "#ed7953"
             ],
             [
              0.7777777777777778,
              "#fb9f3a"
             ],
             [
              0.8888888888888888,
              "#fdca26"
             ],
             [
              1,
              "#f0f921"
             ]
            ],
            "type": "heatmapgl"
           }
          ],
          "histogram": [
           {
            "marker": {
             "colorbar": {
              "outlinewidth": 0,
              "ticks": ""
             }
            },
            "type": "histogram"
           }
          ],
          "histogram2d": [
           {
            "colorbar": {
             "outlinewidth": 0,
             "ticks": ""
            },
            "colorscale": [
             [
              0,
              "#0d0887"
             ],
             [
              0.1111111111111111,
              "#46039f"
             ],
             [
              0.2222222222222222,
              "#7201a8"
             ],
             [
              0.3333333333333333,
              "#9c179e"
             ],
             [
              0.4444444444444444,
              "#bd3786"
             ],
             [
              0.5555555555555556,
              "#d8576b"
             ],
             [
              0.6666666666666666,
              "#ed7953"
             ],
             [
              0.7777777777777778,
              "#fb9f3a"
             ],
             [
              0.8888888888888888,
              "#fdca26"
             ],
             [
              1,
              "#f0f921"
             ]
            ],
            "type": "histogram2d"
           }
          ],
          "histogram2dcontour": [
           {
            "colorbar": {
             "outlinewidth": 0,
             "ticks": ""
            },
            "colorscale": [
             [
              0,
              "#0d0887"
             ],
             [
              0.1111111111111111,
              "#46039f"
             ],
             [
              0.2222222222222222,
              "#7201a8"
             ],
             [
              0.3333333333333333,
              "#9c179e"
             ],
             [
              0.4444444444444444,
              "#bd3786"
             ],
             [
              0.5555555555555556,
              "#d8576b"
             ],
             [
              0.6666666666666666,
              "#ed7953"
             ],
             [
              0.7777777777777778,
              "#fb9f3a"
             ],
             [
              0.8888888888888888,
              "#fdca26"
             ],
             [
              1,
              "#f0f921"
             ]
            ],
            "type": "histogram2dcontour"
           }
          ],
          "mesh3d": [
           {
            "colorbar": {
             "outlinewidth": 0,
             "ticks": ""
            },
            "type": "mesh3d"
           }
          ],
          "parcoords": [
           {
            "line": {
             "colorbar": {
              "outlinewidth": 0,
              "ticks": ""
             }
            },
            "type": "parcoords"
           }
          ],
          "pie": [
           {
            "automargin": true,
            "type": "pie"
           }
          ],
          "scatter": [
           {
            "marker": {
             "colorbar": {
              "outlinewidth": 0,
              "ticks": ""
             }
            },
            "type": "scatter"
           }
          ],
          "scatter3d": [
           {
            "line": {
             "colorbar": {
              "outlinewidth": 0,
              "ticks": ""
             }
            },
            "marker": {
             "colorbar": {
              "outlinewidth": 0,
              "ticks": ""
             }
            },
            "type": "scatter3d"
           }
          ],
          "scattercarpet": [
           {
            "marker": {
             "colorbar": {
              "outlinewidth": 0,
              "ticks": ""
             }
            },
            "type": "scattercarpet"
           }
          ],
          "scattergeo": [
           {
            "marker": {
             "colorbar": {
              "outlinewidth": 0,
              "ticks": ""
             }
            },
            "type": "scattergeo"
           }
          ],
          "scattergl": [
           {
            "marker": {
             "colorbar": {
              "outlinewidth": 0,
              "ticks": ""
             }
            },
            "type": "scattergl"
           }
          ],
          "scattermapbox": [
           {
            "marker": {
             "colorbar": {
              "outlinewidth": 0,
              "ticks": ""
             }
            },
            "type": "scattermapbox"
           }
          ],
          "scatterpolar": [
           {
            "marker": {
             "colorbar": {
              "outlinewidth": 0,
              "ticks": ""
             }
            },
            "type": "scatterpolar"
           }
          ],
          "scatterpolargl": [
           {
            "marker": {
             "colorbar": {
              "outlinewidth": 0,
              "ticks": ""
             }
            },
            "type": "scatterpolargl"
           }
          ],
          "scatterternary": [
           {
            "marker": {
             "colorbar": {
              "outlinewidth": 0,
              "ticks": ""
             }
            },
            "type": "scatterternary"
           }
          ],
          "surface": [
           {
            "colorbar": {
             "outlinewidth": 0,
             "ticks": ""
            },
            "colorscale": [
             [
              0,
              "#0d0887"
             ],
             [
              0.1111111111111111,
              "#46039f"
             ],
             [
              0.2222222222222222,
              "#7201a8"
             ],
             [
              0.3333333333333333,
              "#9c179e"
             ],
             [
              0.4444444444444444,
              "#bd3786"
             ],
             [
              0.5555555555555556,
              "#d8576b"
             ],
             [
              0.6666666666666666,
              "#ed7953"
             ],
             [
              0.7777777777777778,
              "#fb9f3a"
             ],
             [
              0.8888888888888888,
              "#fdca26"
             ],
             [
              1,
              "#f0f921"
             ]
            ],
            "type": "surface"
           }
          ],
          "table": [
           {
            "cells": {
             "fill": {
              "color": "#EBF0F8"
             },
             "line": {
              "color": "white"
             }
            },
            "header": {
             "fill": {
              "color": "#C8D4E3"
             },
             "line": {
              "color": "white"
             }
            },
            "type": "table"
           }
          ]
         },
         "layout": {
          "annotationdefaults": {
           "arrowcolor": "#2a3f5f",
           "arrowhead": 0,
           "arrowwidth": 1
          },
          "autotypenumbers": "strict",
          "coloraxis": {
           "colorbar": {
            "outlinewidth": 0,
            "ticks": ""
           }
          },
          "colorscale": {
           "diverging": [
            [
             0,
             "#8e0152"
            ],
            [
             0.1,
             "#c51b7d"
            ],
            [
             0.2,
             "#de77ae"
            ],
            [
             0.3,
             "#f1b6da"
            ],
            [
             0.4,
             "#fde0ef"
            ],
            [
             0.5,
             "#f7f7f7"
            ],
            [
             0.6,
             "#e6f5d0"
            ],
            [
             0.7,
             "#b8e186"
            ],
            [
             0.8,
             "#7fbc41"
            ],
            [
             0.9,
             "#4d9221"
            ],
            [
             1,
             "#276419"
            ]
           ],
           "sequential": [
            [
             0,
             "#0d0887"
            ],
            [
             0.1111111111111111,
             "#46039f"
            ],
            [
             0.2222222222222222,
             "#7201a8"
            ],
            [
             0.3333333333333333,
             "#9c179e"
            ],
            [
             0.4444444444444444,
             "#bd3786"
            ],
            [
             0.5555555555555556,
             "#d8576b"
            ],
            [
             0.6666666666666666,
             "#ed7953"
            ],
            [
             0.7777777777777778,
             "#fb9f3a"
            ],
            [
             0.8888888888888888,
             "#fdca26"
            ],
            [
             1,
             "#f0f921"
            ]
           ],
           "sequentialminus": [
            [
             0,
             "#0d0887"
            ],
            [
             0.1111111111111111,
             "#46039f"
            ],
            [
             0.2222222222222222,
             "#7201a8"
            ],
            [
             0.3333333333333333,
             "#9c179e"
            ],
            [
             0.4444444444444444,
             "#bd3786"
            ],
            [
             0.5555555555555556,
             "#d8576b"
            ],
            [
             0.6666666666666666,
             "#ed7953"
            ],
            [
             0.7777777777777778,
             "#fb9f3a"
            ],
            [
             0.8888888888888888,
             "#fdca26"
            ],
            [
             1,
             "#f0f921"
            ]
           ]
          },
          "colorway": [
           "#636efa",
           "#EF553B",
           "#00cc96",
           "#ab63fa",
           "#FFA15A",
           "#19d3f3",
           "#FF6692",
           "#B6E880",
           "#FF97FF",
           "#FECB52"
          ],
          "font": {
           "color": "#2a3f5f"
          },
          "geo": {
           "bgcolor": "white",
           "lakecolor": "white",
           "landcolor": "#E5ECF6",
           "showlakes": true,
           "showland": true,
           "subunitcolor": "white"
          },
          "hoverlabel": {
           "align": "left"
          },
          "hovermode": "closest",
          "mapbox": {
           "style": "light"
          },
          "paper_bgcolor": "white",
          "plot_bgcolor": "#E5ECF6",
          "polar": {
           "angularaxis": {
            "gridcolor": "white",
            "linecolor": "white",
            "ticks": ""
           },
           "bgcolor": "#E5ECF6",
           "radialaxis": {
            "gridcolor": "white",
            "linecolor": "white",
            "ticks": ""
           }
          },
          "scene": {
           "xaxis": {
            "backgroundcolor": "#E5ECF6",
            "gridcolor": "white",
            "gridwidth": 2,
            "linecolor": "white",
            "showbackground": true,
            "ticks": "",
            "zerolinecolor": "white"
           },
           "yaxis": {
            "backgroundcolor": "#E5ECF6",
            "gridcolor": "white",
            "gridwidth": 2,
            "linecolor": "white",
            "showbackground": true,
            "ticks": "",
            "zerolinecolor": "white"
           },
           "zaxis": {
            "backgroundcolor": "#E5ECF6",
            "gridcolor": "white",
            "gridwidth": 2,
            "linecolor": "white",
            "showbackground": true,
            "ticks": "",
            "zerolinecolor": "white"
           }
          },
          "shapedefaults": {
           "line": {
            "color": "#2a3f5f"
           }
          },
          "ternary": {
           "aaxis": {
            "gridcolor": "white",
            "linecolor": "white",
            "ticks": ""
           },
           "baxis": {
            "gridcolor": "white",
            "linecolor": "white",
            "ticks": ""
           },
           "bgcolor": "#E5ECF6",
           "caxis": {
            "gridcolor": "white",
            "linecolor": "white",
            "ticks": ""
           }
          },
          "title": {
           "x": 0.05
          },
          "xaxis": {
           "automargin": true,
           "gridcolor": "white",
           "linecolor": "white",
           "ticks": "",
           "title": {
            "standoff": 15
           },
           "zerolinecolor": "white",
           "zerolinewidth": 2
          },
          "yaxis": {
           "automargin": true,
           "gridcolor": "white",
           "linecolor": "white",
           "ticks": "",
           "title": {
            "standoff": 15
           },
           "zerolinecolor": "white",
           "zerolinewidth": 2
          }
         }
        },
        "title": {
         "text": "bifi"
        }
       }
      }
     },
     "metadata": {},
     "output_type": "display_data"
    }
   ],
   "source": [
    "idx = 100\n",
    "days_before = 60\n",
    "days_after = 5\n",
    "fig = plot_candlestick(df_data_pump_steady['coin'][idx],df_data_pump_steady['base_date'][idx] - pd.Timedelta(days_before, 'd'), \n",
    "                        df_data_pump_steady['base_date'][idx]+pd.Timedelta(days_after, 'd'), base_date=df_data_pump_steady['base_date'][idx])\n",
    "# fig.update_layout(shapes = [dict(\n",
    "#         x0=df_data_pump_steady['base_date'][idx], x1=df_data_pump_steady['base_date'][idx], y0=0, y1=1, xref='x', yref='paper',\n",
    "#         line_width=2)])\n",
    "fig"
   ]
  },
  {
   "cell_type": "code",
   "execution_count": null,
   "metadata": {},
   "outputs": [
    {
     "data": {
      "application/vnd.plotly.v1+json": {
       "config": {
        "plotlyServerURL": "https://plot.ly"
       },
       "data": [
        {
         "close": [
          0.04720572766207996,
          0.05082932283403721,
          0.04202001769226404,
          0.04226568289215485,
          0.04913133849739598,
          0.056777616033250614,
          0.05264198379303516,
          0.04691333927234457,
          0.06848424098238239,
          0.050402517181916906,
          0.048957682617914826,
          0.037484528440292375,
          0.035147856450959386,
          0.026865935373920503,
          0.036430591487639004,
          0.03624408691626613,
          0.046612929714888084,
          0.05462687990388478,
          0.0469642881307817,
          0.043674404072809786,
          0.04462061887939495,
          0.04597122421483793,
          0.043700681397210416,
          0.04435042458245824,
          0.048203630234594605,
          0.04361026461879748,
          0.04086101121856329,
          0.04108263345577376,
          0.03674603023679954,
          0.03602944420659614,
          0.03928169819501237,
          0.03553917248238524,
          0.034065229021688466,
          0.03304032020673507,
          0.03522831438969603,
          0.037650531023602135,
          0.03808074200458793,
          0.03842112777648332,
          0.03742652725535761,
          0.03469214554825888,
          0.035700464774045516,
          0.0354899094344149,
          0.027211363466896732,
          0.02467984654813444,
          0.02901831250792764,
          0.028586810388084163,
          0.02617623338663557,
          0.024742164050679052,
          0.02642694078052239,
          0.02677077326519308,
          0.03006053322743405,
          0.02920519679568878,
          0.02680925517553753,
          0.026648523059262647,
          0.028254666860735588,
          0.029172166859150563,
          0.027216261870387788,
          0.02921850240243942,
          0.03166540958477944,
          0.02882786795198994,
          0.02880207551462843,
          0.028275045346609008,
          0.03042393179642205,
          0.02886434590097393,
          0.027517028538904274,
          0.02702502823157887,
          0.024709617944036845,
          0.022835016528941952,
          0.02332326247860176,
          0.02660868830184822,
          0.02261416806867129,
          0.020983263113518627,
          0.023283836574143433,
          0.025400752399068662,
          0.025426306006818084,
          0.025891618896080416,
          0.0283916710269348,
          0.026880938229751638,
          0.02785208248238693,
          0.027779631766129177,
          0.03018488187263814,
          0.030056346873456645,
          0.032820053429959264,
          0.03101304599684488,
          0.03164586841142018,
          0.029974855724578708,
          0.031129703732817343,
          0.03432464218815102,
          0.03509571634147096,
          0.03808657729815089,
          0.036093637645894974,
          0.04146647658223364,
          0.041845369167522316,
          0.045989728124271725,
          0.043323998163302437,
          0.04626408468974422,
          0.0509873076957433,
          0.04894195399422247,
          0.04586468477296336,
          0.041747591875479335,
          0.04197727991122705,
          0.04842301460661623,
          0.04640764255092654,
          0.04641363615653553,
          0.05119138101976318,
          0.049390458988770106,
          0.04429232040529578,
          0.0460176229598611,
          0.04307707144810477,
          0.04546905059776925,
          0.04527561371274417,
          0.04442102771318905,
          0.045682472915401034,
          0.0483230454566764,
          0.058090394111751126,
          0.05382127161174542,
          0.053503365537867206,
          0.054224801544926364,
          0.058002506130682925,
          0.05751586967005917,
          0.044712705325926035,
          0.057234344452951925,
          0.06493694894871074,
          0.056433068178341775,
          0.06472970613130664,
          0.0864008812815451,
          0.07988389639807865,
          0.09795281014911823,
          0.09434126286772714,
          0.10438663607554108,
          0.12041361003457204,
          0.11352767960444965,
          0.10225210284732802,
          0.08838411531163992,
          0.08224993722087412,
          0.1087216708061481,
          0.1396239905260554,
          0.17712012672682814,
          0.16229774394680085,
          0.16854411121964932,
          0.15481180512281728,
          0.15469710482760501,
          0.14653841537427176,
          0.1380106766702402,
          0.14446510060979234,
          0.14513071506542674,
          0.1438658203755475,
          0.14405559202417498,
          0.14038747266146753,
          0.13166684793584935,
          0.13429688268209888,
          0.17457793854095194,
          0.1597781072029859,
          0.1527879451931159,
          0.14588018406686076,
          0.1457587226362825,
          0.1422549585486416,
          0.1431398400128178,
          0.14152621994561435,
          0.14035123366377636,
          0.13398870470001825
         ],
         "high": [
          0.05556071440230027,
          0.05082932283403721,
          0.05082932283403721,
          0.04226568289215485,
          0.04913133849739598,
          0.056777616033250614,
          0.056777616033250614,
          0.05264198379303516,
          0.06848424098238239,
          0.06848424098238239,
          0.050402517181916906,
          0.048957682617914826,
          0.037484528440292375,
          0.035147856450959386,
          0.036430591487639004,
          0.036430591487639004,
          0.046612929714888084,
          0.05462687990388478,
          0.05462687990388478,
          0.0469642881307817,
          0.04462061887939495,
          0.04597122421483793,
          0.04597122421483793,
          0.04435042458245824,
          0.048203630234594605,
          0.048203630234594605,
          0.04361026461879748,
          0.04108263345577376,
          0.04108263345577376,
          0.03674603023679954,
          0.03928169819501237,
          0.03928169819501237,
          0.03553917248238524,
          0.034065229021688466,
          0.03522831438969603,
          0.037650531023602135,
          0.03808074200458793,
          0.03842112777648332,
          0.03842112777648332,
          0.03742652725535761,
          0.035700464774045516,
          0.035700464774045516,
          0.0354899094344149,
          0.027211363466896732,
          0.02901831250792764,
          0.02901831250792764,
          0.028586810388084163,
          0.02617623338663557,
          0.02642694078052239,
          0.02677077326519308,
          0.03006053322743405,
          0.03006053322743405,
          0.02920519679568878,
          0.02680925517553753,
          0.028254666860735588,
          0.029172166859150563,
          0.029172166859150563,
          0.02921850240243942,
          0.03166540958477944,
          0.03166540958477944,
          0.02882786795198994,
          0.02880207551462843,
          0.03042393179642205,
          0.03042393179642205,
          0.02886434590097393,
          0.027517028538904274,
          0.02702502823157887,
          0.024709617944036845,
          0.02332326247860176,
          0.02660868830184822,
          0.02660868830184822,
          0.02261416806867129,
          0.023283836574143433,
          0.025400752399068662,
          0.025426306006818084,
          0.025891618896080416,
          0.0283916710269348,
          0.0283916710269348,
          0.02785208248238693,
          0.02785208248238693,
          0.03018488187263814,
          0.03018488187263814,
          0.032820053429959264,
          0.032820053429959264,
          0.03164586841142018,
          0.03164586841142018,
          0.031129703732817343,
          0.03432464218815102,
          0.03509571634147096,
          0.03808657729815089,
          0.03808657729815089,
          0.04146647658223364,
          0.041845369167522316,
          0.045989728124271725,
          0.045989728124271725,
          0.04626408468974422,
          0.0509873076957433,
          0.0509873076957433,
          0.04894195399422247,
          0.04586468477296336,
          0.04197727991122705,
          0.04842301460661623,
          0.04842301460661623,
          0.04641363615653553,
          0.05119138101976318,
          0.05119138101976318,
          0.049390458988770106,
          0.0460176229598611,
          0.0460176229598611,
          0.04546905059776925,
          0.04546905059776925,
          0.04527561371274417,
          0.045682472915401034,
          0.0483230454566764,
          0.058090394111751126,
          0.058090394111751126,
          0.05382127161174542,
          0.054224801544926364,
          0.058002506130682925,
          0.058002506130682925,
          0.05751586967005917,
          0.057234344452951925,
          0.06493694894871074,
          0.06493694894871074,
          0.06472970613130664,
          0.0864008812815451,
          0.0864008812815451,
          0.09795281014911823,
          0.09795281014911823,
          0.10438663607554108,
          0.12041361003457204,
          0.12041361003457204,
          0.11352767960444965,
          0.10225210284732802,
          0.08838411531163992,
          0.1087216708061481,
          0.1396239905260554,
          0.17712012672682814,
          0.17712012672682814,
          0.16854411121964932,
          0.16854411121964932,
          0.15481180512281728,
          0.15469710482760501,
          0.14653841537427176,
          0.14446510060979234,
          0.14513071506542674,
          0.14513071506542674,
          0.14405559202417498,
          0.14405559202417498,
          0.14038747266146753,
          0.13429688268209888,
          0.17457793854095194,
          0.17457793854095194,
          0.1597781072029859,
          0.1527879451931159,
          0.14588018406686076,
          0.1457587226362825,
          0.1431398400128178,
          0.1431398400128178,
          0.14152621994561435,
          0.14035123366377636
         ],
         "low": [
          0.04720572766207996,
          0.04720572766207996,
          0.04202001769226404,
          0.04202001769226404,
          0.04226568289215485,
          0.04913133849739598,
          0.05264198379303516,
          0.04691333927234457,
          0.04691333927234457,
          0.050402517181916906,
          0.048957682617914826,
          0.037484528440292375,
          0.035147856450959386,
          0.026865935373920503,
          0.026865935373920503,
          0.03624408691626613,
          0.03624408691626613,
          0.046612929714888084,
          0.0469642881307817,
          0.043674404072809786,
          0.043674404072809786,
          0.04462061887939495,
          0.043700681397210416,
          0.043700681397210416,
          0.04435042458245824,
          0.04361026461879748,
          0.04086101121856329,
          0.04086101121856329,
          0.03674603023679954,
          0.03602944420659614,
          0.03602944420659614,
          0.03553917248238524,
          0.034065229021688466,
          0.03304032020673507,
          0.03304032020673507,
          0.03522831438969603,
          0.037650531023602135,
          0.03808074200458793,
          0.03742652725535761,
          0.03469214554825888,
          0.03469214554825888,
          0.0354899094344149,
          0.027211363466896732,
          0.02467984654813444,
          0.02467984654813444,
          0.028586810388084163,
          0.02617623338663557,
          0.024742164050679052,
          0.024742164050679052,
          0.02642694078052239,
          0.02677077326519308,
          0.02920519679568878,
          0.02680925517553753,
          0.026648523059262647,
          0.026648523059262647,
          0.028254666860735588,
          0.027216261870387788,
          0.027216261870387788,
          0.02921850240243942,
          0.02882786795198994,
          0.02880207551462843,
          0.028275045346609008,
          0.028275045346609008,
          0.02886434590097393,
          0.027517028538904274,
          0.02702502823157887,
          0.024709617944036845,
          0.022835016528941952,
          0.022835016528941952,
          0.02332326247860176,
          0.02261416806867129,
          0.020983263113518627,
          0.020983263113518627,
          0.023283836574143433,
          0.025400752399068662,
          0.025426306006818084,
          0.025891618896080416,
          0.026880938229751638,
          0.026880938229751638,
          0.027779631766129177,
          0.027779631766129177,
          0.030056346873456645,
          0.030056346873456645,
          0.03101304599684488,
          0.03101304599684488,
          0.029974855724578708,
          0.029974855724578708,
          0.031129703732817343,
          0.03432464218815102,
          0.03509571634147096,
          0.036093637645894974,
          0.036093637645894974,
          0.04146647658223364,
          0.041845369167522316,
          0.043323998163302437,
          0.043323998163302437,
          0.04626408468974422,
          0.04894195399422247,
          0.04586468477296336,
          0.041747591875479335,
          0.041747591875479335,
          0.04197727991122705,
          0.04640764255092654,
          0.04640764255092654,
          0.04641363615653553,
          0.049390458988770106,
          0.04429232040529578,
          0.04429232040529578,
          0.04307707144810477,
          0.04307707144810477,
          0.04527561371274417,
          0.04442102771318905,
          0.04442102771318905,
          0.045682472915401034,
          0.0483230454566764,
          0.05382127161174542,
          0.053503365537867206,
          0.053503365537867206,
          0.054224801544926364,
          0.05751586967005917,
          0.044712705325926035,
          0.044712705325926035,
          0.057234344452951925,
          0.056433068178341775,
          0.056433068178341775,
          0.06472970613130664,
          0.07988389639807865,
          0.07988389639807865,
          0.09434126286772714,
          0.09434126286772714,
          0.10438663607554108,
          0.11352767960444965,
          0.10225210284732802,
          0.08838411531163992,
          0.08224993722087412,
          0.08224993722087412,
          0.1087216708061481,
          0.1396239905260554,
          0.16229774394680085,
          0.16229774394680085,
          0.15481180512281728,
          0.15469710482760501,
          0.14653841537427176,
          0.1380106766702402,
          0.1380106766702402,
          0.14446510060979234,
          0.1438658203755475,
          0.1438658203755475,
          0.14038747266146753,
          0.13166684793584935,
          0.13166684793584935,
          0.13429688268209888,
          0.1597781072029859,
          0.1527879451931159,
          0.14588018406686076,
          0.1457587226362825,
          0.1422549585486416,
          0.1422549585486416,
          0.14152621994561435,
          0.14035123366377636,
          0.13398870470001825
         ],
         "open": [
          0.05556071440230027,
          0.04720572766207996,
          0.05082932283403721,
          0.04202001769226404,
          0.04226568289215485,
          0.04913133849739598,
          0.056777616033250614,
          0.05264198379303516,
          0.04691333927234457,
          0.06848424098238239,
          0.050402517181916906,
          0.048957682617914826,
          0.037484528440292375,
          0.035147856450959386,
          0.026865935373920503,
          0.036430591487639004,
          0.03624408691626613,
          0.046612929714888084,
          0.05462687990388478,
          0.0469642881307817,
          0.043674404072809786,
          0.04462061887939495,
          0.04597122421483793,
          0.043700681397210416,
          0.04435042458245824,
          0.048203630234594605,
          0.04361026461879748,
          0.04086101121856329,
          0.04108263345577376,
          0.03674603023679954,
          0.03602944420659614,
          0.03928169819501237,
          0.03553917248238524,
          0.034065229021688466,
          0.03304032020673507,
          0.03522831438969603,
          0.037650531023602135,
          0.03808074200458793,
          0.03842112777648332,
          0.03742652725535761,
          0.03469214554825888,
          0.035700464774045516,
          0.0354899094344149,
          0.027211363466896732,
          0.02467984654813444,
          0.02901831250792764,
          0.028586810388084163,
          0.02617623338663557,
          0.024742164050679052,
          0.02642694078052239,
          0.02677077326519308,
          0.03006053322743405,
          0.02920519679568878,
          0.02680925517553753,
          0.026648523059262647,
          0.028254666860735588,
          0.029172166859150563,
          0.027216261870387788,
          0.02921850240243942,
          0.03166540958477944,
          0.02882786795198994,
          0.02880207551462843,
          0.028275045346609008,
          0.03042393179642205,
          0.02886434590097393,
          0.027517028538904274,
          0.02702502823157887,
          0.024709617944036845,
          0.022835016528941952,
          0.02332326247860176,
          0.02660868830184822,
          0.02261416806867129,
          0.020983263113518627,
          0.023283836574143433,
          0.025400752399068662,
          0.025426306006818084,
          0.025891618896080416,
          0.0283916710269348,
          0.026880938229751638,
          0.02785208248238693,
          0.027779631766129177,
          0.03018488187263814,
          0.030056346873456645,
          0.032820053429959264,
          0.03101304599684488,
          0.03164586841142018,
          0.029974855724578708,
          0.031129703732817343,
          0.03432464218815102,
          0.03509571634147096,
          0.03808657729815089,
          0.036093637645894974,
          0.04146647658223364,
          0.041845369167522316,
          0.045989728124271725,
          0.043323998163302437,
          0.04626408468974422,
          0.0509873076957433,
          0.04894195399422247,
          0.04586468477296336,
          0.041747591875479335,
          0.04197727991122705,
          0.04842301460661623,
          0.04640764255092654,
          0.04641363615653553,
          0.05119138101976318,
          0.049390458988770106,
          0.04429232040529578,
          0.0460176229598611,
          0.04307707144810477,
          0.04546905059776925,
          0.04527561371274417,
          0.04442102771318905,
          0.045682472915401034,
          0.0483230454566764,
          0.058090394111751126,
          0.05382127161174542,
          0.053503365537867206,
          0.054224801544926364,
          0.058002506130682925,
          0.05751586967005917,
          0.044712705325926035,
          0.057234344452951925,
          0.06493694894871074,
          0.056433068178341775,
          0.06472970613130664,
          0.0864008812815451,
          0.07988389639807865,
          0.09795281014911823,
          0.09434126286772714,
          0.10438663607554108,
          0.12041361003457204,
          0.11352767960444965,
          0.10225210284732802,
          0.08838411531163992,
          0.08224993722087412,
          0.1087216708061481,
          0.1396239905260554,
          0.17712012672682814,
          0.16229774394680085,
          0.16854411121964932,
          0.15481180512281728,
          0.15469710482760501,
          0.14653841537427176,
          0.1380106766702402,
          0.14446510060979234,
          0.14513071506542674,
          0.1438658203755475,
          0.14405559202417498,
          0.14038747266146753,
          0.13166684793584935,
          0.13429688268209888,
          0.17457793854095194,
          0.1597781072029859,
          0.1527879451931159,
          0.14588018406686076,
          0.1457587226362825,
          0.1422549585486416,
          0.1431398400128178,
          0.14152621994561435,
          0.14035123366377636
         ],
         "type": "candlestick",
         "x": [
          "2021-05-10T00:00:00",
          "2021-05-11T00:00:00",
          "2021-05-12T00:00:00",
          "2021-05-13T00:00:00",
          "2021-05-14T00:00:00",
          "2021-05-15T00:00:00",
          "2021-05-16T00:00:00",
          "2021-05-17T00:00:00",
          "2021-05-18T00:00:00",
          "2021-05-19T00:00:00",
          "2021-05-20T00:00:00",
          "2021-05-21T00:00:00",
          "2021-05-22T00:00:00",
          "2021-05-23T00:00:00",
          "2021-05-24T00:00:00",
          "2021-05-25T00:00:00",
          "2021-05-26T00:00:00",
          "2021-05-27T00:00:00",
          "2021-05-28T00:00:00",
          "2021-05-29T00:00:00",
          "2021-05-30T00:00:00",
          "2021-05-31T00:00:00",
          "2021-06-01T00:00:00",
          "2021-06-02T00:00:00",
          "2021-06-03T00:00:00",
          "2021-06-04T00:00:00",
          "2021-06-05T00:00:00",
          "2021-06-06T00:00:00",
          "2021-06-07T00:00:00",
          "2021-06-08T00:00:00",
          "2021-06-09T00:00:00",
          "2021-06-10T00:00:00",
          "2021-06-11T00:00:00",
          "2021-06-12T00:00:00",
          "2021-06-13T00:00:00",
          "2021-06-14T00:00:00",
          "2021-06-15T00:00:00",
          "2021-06-16T00:00:00",
          "2021-06-17T00:00:00",
          "2021-06-18T00:00:00",
          "2021-06-19T00:00:00",
          "2021-06-20T00:00:00",
          "2021-06-21T00:00:00",
          "2021-06-22T00:00:00",
          "2021-06-23T00:00:00",
          "2021-06-24T00:00:00",
          "2021-06-25T00:00:00",
          "2021-06-26T00:00:00",
          "2021-06-27T00:00:00",
          "2021-06-28T00:00:00",
          "2021-06-29T00:00:00",
          "2021-06-30T00:00:00",
          "2021-07-01T00:00:00",
          "2021-07-02T00:00:00",
          "2021-07-03T00:00:00",
          "2021-07-04T00:00:00",
          "2021-07-05T00:00:00",
          "2021-07-06T00:00:00",
          "2021-07-07T00:00:00",
          "2021-07-08T00:00:00",
          "2021-07-09T00:00:00",
          "2021-07-10T00:00:00",
          "2021-07-11T00:00:00",
          "2021-07-12T00:00:00",
          "2021-07-13T00:00:00",
          "2021-07-14T00:00:00",
          "2021-07-15T00:00:00",
          "2021-07-16T00:00:00",
          "2021-07-17T00:00:00",
          "2021-07-18T00:00:00",
          "2021-07-19T00:00:00",
          "2021-07-20T00:00:00",
          "2021-07-21T00:00:00",
          "2021-07-22T00:00:00",
          "2021-07-23T00:00:00",
          "2021-07-24T00:00:00",
          "2021-07-25T00:00:00",
          "2021-07-26T00:00:00",
          "2021-07-27T00:00:00",
          "2021-07-28T00:00:00",
          "2021-07-29T00:00:00",
          "2021-07-30T00:00:00",
          "2021-07-31T00:00:00",
          "2021-08-01T00:00:00",
          "2021-08-02T00:00:00",
          "2021-08-03T00:00:00",
          "2021-08-04T00:00:00",
          "2021-08-05T00:00:00",
          "2021-08-06T00:00:00",
          "2021-08-07T00:00:00",
          "2021-08-08T00:00:00",
          "2021-08-09T00:00:00",
          "2021-08-10T00:00:00",
          "2021-08-11T00:00:00",
          "2021-08-12T00:00:00",
          "2021-08-13T00:00:00",
          "2021-08-14T00:00:00",
          "2021-08-15T00:00:00",
          "2021-08-16T00:00:00",
          "2021-08-17T00:00:00",
          "2021-08-18T00:00:00",
          "2021-08-19T00:00:00",
          "2021-08-20T00:00:00",
          "2021-08-21T00:00:00",
          "2021-08-22T00:00:00",
          "2021-08-23T00:00:00",
          "2021-08-24T00:00:00",
          "2021-08-25T00:00:00",
          "2021-08-26T00:00:00",
          "2021-08-27T00:00:00",
          "2021-08-28T00:00:00",
          "2021-08-29T00:00:00",
          "2021-08-30T00:00:00",
          "2021-08-31T00:00:00",
          "2021-09-01T00:00:00",
          "2021-09-02T00:00:00",
          "2021-09-03T00:00:00",
          "2021-09-04T00:00:00",
          "2021-09-05T00:00:00",
          "2021-09-06T00:00:00",
          "2021-09-07T00:00:00",
          "2021-09-08T00:00:00",
          "2021-09-09T00:00:00",
          "2021-09-10T00:00:00",
          "2021-09-11T00:00:00",
          "2021-09-12T00:00:00",
          "2021-09-13T00:00:00",
          "2021-09-14T00:00:00",
          "2021-09-15T00:00:00",
          "2021-09-16T00:00:00",
          "2021-09-17T00:00:00",
          "2021-09-18T00:00:00",
          "2021-09-19T00:00:00",
          "2021-09-20T00:00:00",
          "2021-09-21T00:00:00",
          "2021-09-22T00:00:00",
          "2021-09-23T00:00:00",
          "2021-09-24T00:00:00",
          "2021-09-25T00:00:00",
          "2021-09-26T00:00:00",
          "2021-09-27T00:00:00",
          "2021-09-28T00:00:00",
          "2021-09-29T00:00:00",
          "2021-09-30T00:00:00",
          "2021-10-01T00:00:00",
          "2021-10-02T00:00:00",
          "2021-10-03T00:00:00",
          "2021-10-04T00:00:00",
          "2021-10-05T00:00:00",
          "2021-10-06T00:00:00",
          "2021-10-07T00:00:00",
          "2021-10-08T00:00:00",
          "2021-10-09T00:00:00",
          "2021-10-10T00:00:00",
          "2021-10-11T00:00:00",
          "2021-10-12T00:00:00",
          "2021-10-13T00:00:00",
          "2021-10-14T00:00:00",
          "2021-10-15T00:00:00",
          "2021-10-16T00:00:00",
          "2021-10-17T00:00:00"
         ]
        }
       ],
       "layout": {
        "shapes": [
         {
          "line": {
           "width": 2
          },
          "x0": "2021-08-18T00:00:00",
          "x1": "2021-08-18T00:00:00",
          "xref": "x",
          "y0": 0,
          "y1": 1,
          "yref": "paper"
         }
        ],
        "template": {
         "data": {
          "bar": [
           {
            "error_x": {
             "color": "#2a3f5f"
            },
            "error_y": {
             "color": "#2a3f5f"
            },
            "marker": {
             "line": {
              "color": "#E5ECF6",
              "width": 0.5
             }
            },
            "type": "bar"
           }
          ],
          "barpolar": [
           {
            "marker": {
             "line": {
              "color": "#E5ECF6",
              "width": 0.5
             }
            },
            "type": "barpolar"
           }
          ],
          "carpet": [
           {
            "aaxis": {
             "endlinecolor": "#2a3f5f",
             "gridcolor": "white",
             "linecolor": "white",
             "minorgridcolor": "white",
             "startlinecolor": "#2a3f5f"
            },
            "baxis": {
             "endlinecolor": "#2a3f5f",
             "gridcolor": "white",
             "linecolor": "white",
             "minorgridcolor": "white",
             "startlinecolor": "#2a3f5f"
            },
            "type": "carpet"
           }
          ],
          "choropleth": [
           {
            "colorbar": {
             "outlinewidth": 0,
             "ticks": ""
            },
            "type": "choropleth"
           }
          ],
          "contour": [
           {
            "colorbar": {
             "outlinewidth": 0,
             "ticks": ""
            },
            "colorscale": [
             [
              0,
              "#0d0887"
             ],
             [
              0.1111111111111111,
              "#46039f"
             ],
             [
              0.2222222222222222,
              "#7201a8"
             ],
             [
              0.3333333333333333,
              "#9c179e"
             ],
             [
              0.4444444444444444,
              "#bd3786"
             ],
             [
              0.5555555555555556,
              "#d8576b"
             ],
             [
              0.6666666666666666,
              "#ed7953"
             ],
             [
              0.7777777777777778,
              "#fb9f3a"
             ],
             [
              0.8888888888888888,
              "#fdca26"
             ],
             [
              1,
              "#f0f921"
             ]
            ],
            "type": "contour"
           }
          ],
          "contourcarpet": [
           {
            "colorbar": {
             "outlinewidth": 0,
             "ticks": ""
            },
            "type": "contourcarpet"
           }
          ],
          "heatmap": [
           {
            "colorbar": {
             "outlinewidth": 0,
             "ticks": ""
            },
            "colorscale": [
             [
              0,
              "#0d0887"
             ],
             [
              0.1111111111111111,
              "#46039f"
             ],
             [
              0.2222222222222222,
              "#7201a8"
             ],
             [
              0.3333333333333333,
              "#9c179e"
             ],
             [
              0.4444444444444444,
              "#bd3786"
             ],
             [
              0.5555555555555556,
              "#d8576b"
             ],
             [
              0.6666666666666666,
              "#ed7953"
             ],
             [
              0.7777777777777778,
              "#fb9f3a"
             ],
             [
              0.8888888888888888,
              "#fdca26"
             ],
             [
              1,
              "#f0f921"
             ]
            ],
            "type": "heatmap"
           }
          ],
          "heatmapgl": [
           {
            "colorbar": {
             "outlinewidth": 0,
             "ticks": ""
            },
            "colorscale": [
             [
              0,
              "#0d0887"
             ],
             [
              0.1111111111111111,
              "#46039f"
             ],
             [
              0.2222222222222222,
              "#7201a8"
             ],
             [
              0.3333333333333333,
              "#9c179e"
             ],
             [
              0.4444444444444444,
              "#bd3786"
             ],
             [
              0.5555555555555556,
              "#d8576b"
             ],
             [
              0.6666666666666666,
              "#ed7953"
             ],
             [
              0.7777777777777778,
              "#fb9f3a"
             ],
             [
              0.8888888888888888,
              "#fdca26"
             ],
             [
              1,
              "#f0f921"
             ]
            ],
            "type": "heatmapgl"
           }
          ],
          "histogram": [
           {
            "marker": {
             "colorbar": {
              "outlinewidth": 0,
              "ticks": ""
             }
            },
            "type": "histogram"
           }
          ],
          "histogram2d": [
           {
            "colorbar": {
             "outlinewidth": 0,
             "ticks": ""
            },
            "colorscale": [
             [
              0,
              "#0d0887"
             ],
             [
              0.1111111111111111,
              "#46039f"
             ],
             [
              0.2222222222222222,
              "#7201a8"
             ],
             [
              0.3333333333333333,
              "#9c179e"
             ],
             [
              0.4444444444444444,
              "#bd3786"
             ],
             [
              0.5555555555555556,
              "#d8576b"
             ],
             [
              0.6666666666666666,
              "#ed7953"
             ],
             [
              0.7777777777777778,
              "#fb9f3a"
             ],
             [
              0.8888888888888888,
              "#fdca26"
             ],
             [
              1,
              "#f0f921"
             ]
            ],
            "type": "histogram2d"
           }
          ],
          "histogram2dcontour": [
           {
            "colorbar": {
             "outlinewidth": 0,
             "ticks": ""
            },
            "colorscale": [
             [
              0,
              "#0d0887"
             ],
             [
              0.1111111111111111,
              "#46039f"
             ],
             [
              0.2222222222222222,
              "#7201a8"
             ],
             [
              0.3333333333333333,
              "#9c179e"
             ],
             [
              0.4444444444444444,
              "#bd3786"
             ],
             [
              0.5555555555555556,
              "#d8576b"
             ],
             [
              0.6666666666666666,
              "#ed7953"
             ],
             [
              0.7777777777777778,
              "#fb9f3a"
             ],
             [
              0.8888888888888888,
              "#fdca26"
             ],
             [
              1,
              "#f0f921"
             ]
            ],
            "type": "histogram2dcontour"
           }
          ],
          "mesh3d": [
           {
            "colorbar": {
             "outlinewidth": 0,
             "ticks": ""
            },
            "type": "mesh3d"
           }
          ],
          "parcoords": [
           {
            "line": {
             "colorbar": {
              "outlinewidth": 0,
              "ticks": ""
             }
            },
            "type": "parcoords"
           }
          ],
          "pie": [
           {
            "automargin": true,
            "type": "pie"
           }
          ],
          "scatter": [
           {
            "marker": {
             "colorbar": {
              "outlinewidth": 0,
              "ticks": ""
             }
            },
            "type": "scatter"
           }
          ],
          "scatter3d": [
           {
            "line": {
             "colorbar": {
              "outlinewidth": 0,
              "ticks": ""
             }
            },
            "marker": {
             "colorbar": {
              "outlinewidth": 0,
              "ticks": ""
             }
            },
            "type": "scatter3d"
           }
          ],
          "scattercarpet": [
           {
            "marker": {
             "colorbar": {
              "outlinewidth": 0,
              "ticks": ""
             }
            },
            "type": "scattercarpet"
           }
          ],
          "scattergeo": [
           {
            "marker": {
             "colorbar": {
              "outlinewidth": 0,
              "ticks": ""
             }
            },
            "type": "scattergeo"
           }
          ],
          "scattergl": [
           {
            "marker": {
             "colorbar": {
              "outlinewidth": 0,
              "ticks": ""
             }
            },
            "type": "scattergl"
           }
          ],
          "scattermapbox": [
           {
            "marker": {
             "colorbar": {
              "outlinewidth": 0,
              "ticks": ""
             }
            },
            "type": "scattermapbox"
           }
          ],
          "scatterpolar": [
           {
            "marker": {
             "colorbar": {
              "outlinewidth": 0,
              "ticks": ""
             }
            },
            "type": "scatterpolar"
           }
          ],
          "scatterpolargl": [
           {
            "marker": {
             "colorbar": {
              "outlinewidth": 0,
              "ticks": ""
             }
            },
            "type": "scatterpolargl"
           }
          ],
          "scatterternary": [
           {
            "marker": {
             "colorbar": {
              "outlinewidth": 0,
              "ticks": ""
             }
            },
            "type": "scatterternary"
           }
          ],
          "surface": [
           {
            "colorbar": {
             "outlinewidth": 0,
             "ticks": ""
            },
            "colorscale": [
             [
              0,
              "#0d0887"
             ],
             [
              0.1111111111111111,
              "#46039f"
             ],
             [
              0.2222222222222222,
              "#7201a8"
             ],
             [
              0.3333333333333333,
              "#9c179e"
             ],
             [
              0.4444444444444444,
              "#bd3786"
             ],
             [
              0.5555555555555556,
              "#d8576b"
             ],
             [
              0.6666666666666666,
              "#ed7953"
             ],
             [
              0.7777777777777778,
              "#fb9f3a"
             ],
             [
              0.8888888888888888,
              "#fdca26"
             ],
             [
              1,
              "#f0f921"
             ]
            ],
            "type": "surface"
           }
          ],
          "table": [
           {
            "cells": {
             "fill": {
              "color": "#EBF0F8"
             },
             "line": {
              "color": "white"
             }
            },
            "header": {
             "fill": {
              "color": "#C8D4E3"
             },
             "line": {
              "color": "white"
             }
            },
            "type": "table"
           }
          ]
         },
         "layout": {
          "annotationdefaults": {
           "arrowcolor": "#2a3f5f",
           "arrowhead": 0,
           "arrowwidth": 1
          },
          "autotypenumbers": "strict",
          "coloraxis": {
           "colorbar": {
            "outlinewidth": 0,
            "ticks": ""
           }
          },
          "colorscale": {
           "diverging": [
            [
             0,
             "#8e0152"
            ],
            [
             0.1,
             "#c51b7d"
            ],
            [
             0.2,
             "#de77ae"
            ],
            [
             0.3,
             "#f1b6da"
            ],
            [
             0.4,
             "#fde0ef"
            ],
            [
             0.5,
             "#f7f7f7"
            ],
            [
             0.6,
             "#e6f5d0"
            ],
            [
             0.7,
             "#b8e186"
            ],
            [
             0.8,
             "#7fbc41"
            ],
            [
             0.9,
             "#4d9221"
            ],
            [
             1,
             "#276419"
            ]
           ],
           "sequential": [
            [
             0,
             "#0d0887"
            ],
            [
             0.1111111111111111,
             "#46039f"
            ],
            [
             0.2222222222222222,
             "#7201a8"
            ],
            [
             0.3333333333333333,
             "#9c179e"
            ],
            [
             0.4444444444444444,
             "#bd3786"
            ],
            [
             0.5555555555555556,
             "#d8576b"
            ],
            [
             0.6666666666666666,
             "#ed7953"
            ],
            [
             0.7777777777777778,
             "#fb9f3a"
            ],
            [
             0.8888888888888888,
             "#fdca26"
            ],
            [
             1,
             "#f0f921"
            ]
           ],
           "sequentialminus": [
            [
             0,
             "#0d0887"
            ],
            [
             0.1111111111111111,
             "#46039f"
            ],
            [
             0.2222222222222222,
             "#7201a8"
            ],
            [
             0.3333333333333333,
             "#9c179e"
            ],
            [
             0.4444444444444444,
             "#bd3786"
            ],
            [
             0.5555555555555556,
             "#d8576b"
            ],
            [
             0.6666666666666666,
             "#ed7953"
            ],
            [
             0.7777777777777778,
             "#fb9f3a"
            ],
            [
             0.8888888888888888,
             "#fdca26"
            ],
            [
             1,
             "#f0f921"
            ]
           ]
          },
          "colorway": [
           "#636efa",
           "#EF553B",
           "#00cc96",
           "#ab63fa",
           "#FFA15A",
           "#19d3f3",
           "#FF6692",
           "#B6E880",
           "#FF97FF",
           "#FECB52"
          ],
          "font": {
           "color": "#2a3f5f"
          },
          "geo": {
           "bgcolor": "white",
           "lakecolor": "white",
           "landcolor": "#E5ECF6",
           "showlakes": true,
           "showland": true,
           "subunitcolor": "white"
          },
          "hoverlabel": {
           "align": "left"
          },
          "hovermode": "closest",
          "mapbox": {
           "style": "light"
          },
          "paper_bgcolor": "white",
          "plot_bgcolor": "#E5ECF6",
          "polar": {
           "angularaxis": {
            "gridcolor": "white",
            "linecolor": "white",
            "ticks": ""
           },
           "bgcolor": "#E5ECF6",
           "radialaxis": {
            "gridcolor": "white",
            "linecolor": "white",
            "ticks": ""
           }
          },
          "scene": {
           "xaxis": {
            "backgroundcolor": "#E5ECF6",
            "gridcolor": "white",
            "gridwidth": 2,
            "linecolor": "white",
            "showbackground": true,
            "ticks": "",
            "zerolinecolor": "white"
           },
           "yaxis": {
            "backgroundcolor": "#E5ECF6",
            "gridcolor": "white",
            "gridwidth": 2,
            "linecolor": "white",
            "showbackground": true,
            "ticks": "",
            "zerolinecolor": "white"
           },
           "zaxis": {
            "backgroundcolor": "#E5ECF6",
            "gridcolor": "white",
            "gridwidth": 2,
            "linecolor": "white",
            "showbackground": true,
            "ticks": "",
            "zerolinecolor": "white"
           }
          },
          "shapedefaults": {
           "line": {
            "color": "#2a3f5f"
           }
          },
          "ternary": {
           "aaxis": {
            "gridcolor": "white",
            "linecolor": "white",
            "ticks": ""
           },
           "baxis": {
            "gridcolor": "white",
            "linecolor": "white",
            "ticks": ""
           },
           "bgcolor": "#E5ECF6",
           "caxis": {
            "gridcolor": "white",
            "linecolor": "white",
            "ticks": ""
           }
          },
          "title": {
           "x": 0.05
          },
          "xaxis": {
           "automargin": true,
           "gridcolor": "white",
           "linecolor": "white",
           "ticks": "",
           "title": {
            "standoff": 15
           },
           "zerolinecolor": "white",
           "zerolinewidth": 2
          },
          "yaxis": {
           "automargin": true,
           "gridcolor": "white",
           "linecolor": "white",
           "ticks": "",
           "title": {
            "standoff": 15
           },
           "zerolinecolor": "white",
           "zerolinewidth": 2
          }
         }
        },
        "title": {
         "text": "celr"
        }
       }
      }
     },
     "metadata": {},
     "output_type": "display_data"
    }
   ],
   "source": [
    "idx = 154\n",
    "days_before = 100\n",
    "days_after = 60\n",
    "fig = plot_candlestick(df_data_pump_steady['coin'][idx],df_data_pump_steady['base_date'][idx] - pd.Timedelta(days_before, 'd'), \n",
    "                        df_data_pump_steady['base_date'][idx]+pd.Timedelta(days_after, 'd'), base_date=df_data_pump_steady['base_date'][idx])\n",
    "fig"
   ]
  },
  {
   "cell_type": "code",
   "execution_count": null,
   "metadata": {},
   "outputs": [
    {
     "data": {
      "application/vnd.plotly.v1+json": {
       "config": {
        "plotlyServerURL": "https://plot.ly"
       },
       "data": [
        {
         "close": [
          6.017377718236229e-11,
          6.266734132520364e-11,
          6.270987963720177e-11,
          6.156924718433831e-11,
          6.665932067992256e-11,
          7.036255079705781e-11,
          6.846711866676478e-11,
          6.663523860866045e-11,
          6.663523860866045e-11,
          5.837674540766513e-11,
          6.098038520569615e-11,
          6.341670555847792e-11,
          6.426154187506634e-11,
          6.361826275934561e-11,
          6.361826275934561e-11,
          6.212961403794648e-11,
          6.31666891878091e-11,
          5.958511247393969e-11,
          5.958511247393969e-11,
          5.70041420229866e-11,
          5.70041420229866e-11,
          5.911951256239673e-11,
          6.070699949385315e-11,
          6.03738783620927e-11,
          6.085890231259887e-11,
          6.705286557425062e-11,
          6.705286557425062e-11,
          6.665127299723255e-11,
          6.474901455286858e-11,
          6.474901455286858e-11,
          7.324784468138286e-11,
          7.825122164129955e-11,
          7.621957134892439e-11,
          7.729511122315788e-11,
          7.729511122315788e-11,
          8.01504597815801e-11,
          8.01504597815801e-11,
          9.453382359031786e-11,
          1.1068794381616041e-10,
          1.1068794381616041e-10,
          1.1983681511623625e-10,
          1.3429641112917921e-10,
          1.3429641112917921e-10,
          1.329379750448184e-10,
          1.1359763582492529e-10,
          1.0977865333305109e-10,
          1.2729086350567608e-10,
          1.2729086350567608e-10,
          1.2974491147193371e-10,
          1.2603788062590454e-10,
          1.2267473248233286e-10,
          1.2247502762245903e-10,
          1.3925230334039279e-10,
          1.3470718640470472e-10,
          1.2658892802370601e-10,
          1.2658892802370601e-10,
          1.2507403812084807e-10,
          1.325531890535625e-10,
          1.440077707501169e-10,
          1.378412739513597e-10,
          1.3076497138606164e-10,
          1.3754610698645958e-10,
          1.4284686864960562e-10,
          5.053099748283053e-9,
          2.9099589964068003e-8,
          1.0983038379220613e-8,
          1.6149420242961024e-8,
          1.3708617503094763e-8,
          1.079284523457842e-8,
          7.802630119340748e-9,
          8.263738526956087e-9,
          7.855330131611049e-9,
          1.0884908436869819e-8,
          8.834539357750208e-9,
          9.885576299576059e-9,
          8.835133685646002e-9,
          8.902588149103974e-9,
          8.347030051506333e-9,
          7.119914858518675e-9,
          7.706168171520382e-9,
          6.665451918400686e-9,
          7.625815142117058e-9,
          7.74888185388819e-9,
          7.067456621075913e-9,
          7.044666870420374e-9,
          7.2804499018075245e-9,
          6.689463579065539e-9,
          5.864411937505095e-9,
          6.119703701817564e-9,
          5.887824338455845e-9,
          5.962768550778089e-9,
          8.174162623974642e-9,
          1.2384667266588942e-8,
          1.3937830244161437e-8
         ],
         "high": [
          6.017377718236229e-11,
          6.266734132520364e-11,
          6.270987963720177e-11,
          6.270987963720177e-11,
          6.665932067992256e-11,
          7.036255079705781e-11,
          7.036255079705781e-11,
          6.846711866676478e-11,
          6.663523860866045e-11,
          6.663523860866045e-11,
          6.098038520569615e-11,
          6.341670555847792e-11,
          6.426154187506634e-11,
          6.426154187506634e-11,
          6.361826275934561e-11,
          6.361826275934561e-11,
          6.31666891878091e-11,
          6.31666891878091e-11,
          5.958511247393969e-11,
          5.958511247393969e-11,
          5.70041420229866e-11,
          5.911951256239673e-11,
          6.070699949385315e-11,
          6.070699949385315e-11,
          6.085890231259887e-11,
          6.705286557425062e-11,
          6.705286557425062e-11,
          6.705286557425062e-11,
          6.665127299723255e-11,
          6.474901455286858e-11,
          7.324784468138286e-11,
          7.825122164129955e-11,
          7.825122164129955e-11,
          7.729511122315788e-11,
          7.729511122315788e-11,
          8.01504597815801e-11,
          8.01504597815801e-11,
          9.453382359031786e-11,
          1.1068794381616041e-10,
          1.1068794381616041e-10,
          1.1983681511623625e-10,
          1.3429641112917921e-10,
          1.3429641112917921e-10,
          1.3429641112917921e-10,
          1.329379750448184e-10,
          1.1359763582492529e-10,
          1.2729086350567608e-10,
          1.2729086350567608e-10,
          1.2974491147193371e-10,
          1.2974491147193371e-10,
          1.2603788062590454e-10,
          1.2267473248233286e-10,
          1.3925230334039279e-10,
          1.3925230334039279e-10,
          1.3470718640470472e-10,
          1.2658892802370601e-10,
          1.2658892802370601e-10,
          1.325531890535625e-10,
          1.440077707501169e-10,
          1.440077707501169e-10,
          1.378412739513597e-10,
          1.3754610698645958e-10,
          1.4284686864960562e-10,
          5.053099748283053e-9,
          2.9099589964068003e-8,
          2.9099589964068003e-8,
          1.6149420242961024e-8,
          1.6149420242961024e-8,
          1.3708617503094763e-8,
          1.079284523457842e-8,
          8.263738526956087e-9,
          8.263738526956087e-9,
          1.0884908436869819e-8,
          1.0884908436869819e-8,
          9.885576299576059e-9,
          9.885576299576059e-9,
          8.902588149103974e-9,
          8.902588149103974e-9,
          8.347030051506333e-9,
          7.706168171520382e-9,
          7.706168171520382e-9,
          7.625815142117058e-9,
          7.74888185388819e-9,
          7.74888185388819e-9,
          7.067456621075913e-9,
          7.2804499018075245e-9,
          7.2804499018075245e-9,
          6.689463579065539e-9,
          6.119703701817564e-9,
          6.119703701817564e-9,
          5.962768550778089e-9,
          8.174162623974642e-9,
          1.2384667266588942e-8,
          1.3937830244161437e-8
         ],
         "low": [
          5.830974796011736e-11,
          6.017377718236229e-11,
          6.266734132520364e-11,
          6.156924718433831e-11,
          6.156924718433831e-11,
          6.665932067992256e-11,
          6.846711866676478e-11,
          6.663523860866045e-11,
          6.663523860866045e-11,
          5.837674540766513e-11,
          5.837674540766513e-11,
          6.098038520569615e-11,
          6.341670555847792e-11,
          6.361826275934561e-11,
          6.361826275934561e-11,
          6.212961403794648e-11,
          6.212961403794648e-11,
          5.958511247393969e-11,
          5.958511247393969e-11,
          5.70041420229866e-11,
          5.70041420229866e-11,
          5.70041420229866e-11,
          5.911951256239673e-11,
          6.03738783620927e-11,
          6.03738783620927e-11,
          6.085890231259887e-11,
          6.705286557425062e-11,
          6.665127299723255e-11,
          6.474901455286858e-11,
          6.474901455286858e-11,
          6.474901455286858e-11,
          7.324784468138286e-11,
          7.621957134892439e-11,
          7.621957134892439e-11,
          7.729511122315788e-11,
          7.729511122315788e-11,
          8.01504597815801e-11,
          8.01504597815801e-11,
          9.453382359031786e-11,
          1.1068794381616041e-10,
          1.1068794381616041e-10,
          1.1983681511623625e-10,
          1.3429641112917921e-10,
          1.329379750448184e-10,
          1.1359763582492529e-10,
          1.0977865333305109e-10,
          1.0977865333305109e-10,
          1.2729086350567608e-10,
          1.2729086350567608e-10,
          1.2603788062590454e-10,
          1.2267473248233286e-10,
          1.2247502762245903e-10,
          1.2247502762245903e-10,
          1.3470718640470472e-10,
          1.2658892802370601e-10,
          1.2658892802370601e-10,
          1.2507403812084807e-10,
          1.2507403812084807e-10,
          1.325531890535625e-10,
          1.378412739513597e-10,
          1.3076497138606164e-10,
          1.3076497138606164e-10,
          1.3754610698645958e-10,
          1.4284686864960562e-10,
          5.053099748283053e-9,
          1.0983038379220613e-8,
          1.0983038379220613e-8,
          1.3708617503094763e-8,
          1.079284523457842e-8,
          7.802630119340748e-9,
          7.802630119340748e-9,
          7.855330131611049e-9,
          7.855330131611049e-9,
          8.834539357750208e-9,
          8.834539357750208e-9,
          8.835133685646002e-9,
          8.835133685646002e-9,
          8.347030051506333e-9,
          7.119914858518675e-9,
          7.119914858518675e-9,
          6.665451918400686e-9,
          6.665451918400686e-9,
          7.625815142117058e-9,
          7.067456621075913e-9,
          7.044666870420374e-9,
          7.044666870420374e-9,
          6.689463579065539e-9,
          5.864411937505095e-9,
          5.864411937505095e-9,
          5.887824338455845e-9,
          5.887824338455845e-9,
          5.962768550778089e-9,
          8.174162623974642e-9,
          1.2384667266588942e-8
         ],
         "open": [
          5.830974796011736e-11,
          6.017377718236229e-11,
          6.266734132520364e-11,
          6.270987963720177e-11,
          6.156924718433831e-11,
          6.665932067992256e-11,
          7.036255079705781e-11,
          6.846711866676478e-11,
          6.663523860866045e-11,
          6.663523860866045e-11,
          5.837674540766513e-11,
          6.098038520569615e-11,
          6.341670555847792e-11,
          6.426154187506634e-11,
          6.361826275934561e-11,
          6.361826275934561e-11,
          6.212961403794648e-11,
          6.31666891878091e-11,
          5.958511247393969e-11,
          5.958511247393969e-11,
          5.70041420229866e-11,
          5.70041420229866e-11,
          5.911951256239673e-11,
          6.070699949385315e-11,
          6.03738783620927e-11,
          6.085890231259887e-11,
          6.705286557425062e-11,
          6.705286557425062e-11,
          6.665127299723255e-11,
          6.474901455286858e-11,
          6.474901455286858e-11,
          7.324784468138286e-11,
          7.825122164129955e-11,
          7.621957134892439e-11,
          7.729511122315788e-11,
          7.729511122315788e-11,
          8.01504597815801e-11,
          8.01504597815801e-11,
          9.453382359031786e-11,
          1.1068794381616041e-10,
          1.1068794381616041e-10,
          1.1983681511623625e-10,
          1.3429641112917921e-10,
          1.3429641112917921e-10,
          1.329379750448184e-10,
          1.1359763582492529e-10,
          1.0977865333305109e-10,
          1.2729086350567608e-10,
          1.2729086350567608e-10,
          1.2974491147193371e-10,
          1.2603788062590454e-10,
          1.2267473248233286e-10,
          1.2247502762245903e-10,
          1.3925230334039279e-10,
          1.3470718640470472e-10,
          1.2658892802370601e-10,
          1.2658892802370601e-10,
          1.2507403812084807e-10,
          1.325531890535625e-10,
          1.440077707501169e-10,
          1.378412739513597e-10,
          1.3076497138606164e-10,
          1.3754610698645958e-10,
          1.4284686864960562e-10,
          5.053099748283053e-9,
          2.9099589964068003e-8,
          1.0983038379220613e-8,
          1.6149420242961024e-8,
          1.3708617503094763e-8,
          1.079284523457842e-8,
          7.802630119340748e-9,
          8.263738526956087e-9,
          7.855330131611049e-9,
          1.0884908436869819e-8,
          8.834539357750208e-9,
          9.885576299576059e-9,
          8.835133685646002e-9,
          8.902588149103974e-9,
          8.347030051506333e-9,
          7.119914858518675e-9,
          7.706168171520382e-9,
          6.665451918400686e-9,
          7.625815142117058e-9,
          7.74888185388819e-9,
          7.067456621075913e-9,
          7.044666870420374e-9,
          7.2804499018075245e-9,
          6.689463579065539e-9,
          5.864411937505095e-9,
          6.119703701817564e-9,
          5.887824338455845e-9,
          5.962768550778089e-9,
          8.174162623974642e-9,
          1.2384667266588942e-8
         ],
         "type": "candlestick",
         "x": [
          "2020-11-16T00:00:00",
          "2020-11-17T00:00:00",
          "2020-11-18T00:00:00",
          "2020-11-19T00:00:00",
          "2020-11-20T00:00:00",
          "2020-11-21T00:00:00",
          "2020-11-22T00:00:00",
          "2020-11-23T00:00:00",
          "2020-11-27T00:00:00",
          "2020-11-28T00:00:00",
          "2020-11-29T00:00:00",
          "2020-11-30T00:00:00",
          "2020-12-01T00:00:00",
          "2020-12-02T00:00:00",
          "2020-12-04T00:00:00",
          "2020-12-05T00:00:00",
          "2020-12-06T00:00:00",
          "2020-12-07T00:00:00",
          "2020-12-08T00:00:00",
          "2020-12-09T00:00:00",
          "2020-12-11T00:00:00",
          "2020-12-12T00:00:00",
          "2020-12-13T00:00:00",
          "2020-12-14T00:00:00",
          "2020-12-15T00:00:00",
          "2020-12-16T00:00:00",
          "2020-12-19T00:00:00",
          "2020-12-20T00:00:00",
          "2020-12-21T00:00:00",
          "2020-12-26T00:00:00",
          "2020-12-27T00:00:00",
          "2020-12-28T00:00:00",
          "2020-12-29T00:00:00",
          "2020-12-30T00:00:00",
          "2020-12-31T00:00:00",
          "2021-01-01T00:00:00",
          "2021-01-02T00:00:00",
          "2021-01-03T00:00:00",
          "2021-01-04T00:00:00",
          "2021-01-05T00:00:00",
          "2021-01-06T00:00:00",
          "2021-01-07T00:00:00",
          "2021-01-09T00:00:00",
          "2021-01-10T00:00:00",
          "2021-01-11T00:00:00",
          "2021-01-12T00:00:00",
          "2021-01-13T00:00:00",
          "2021-01-14T00:00:00",
          "2021-01-15T00:00:00",
          "2021-01-16T00:00:00",
          "2021-01-17T00:00:00",
          "2021-01-18T00:00:00",
          "2021-01-19T00:00:00",
          "2021-01-20T00:00:00",
          "2021-01-21T00:00:00",
          "2021-01-22T00:00:00",
          "2021-01-23T00:00:00",
          "2021-01-24T00:00:00",
          "2021-01-25T00:00:00",
          "2021-01-26T00:00:00",
          "2021-01-27T00:00:00",
          "2021-01-28T00:00:00",
          "2021-01-29T00:00:00",
          "2021-01-30T00:00:00",
          "2021-01-31T00:00:00",
          "2021-02-01T00:00:00",
          "2021-02-02T00:00:00",
          "2021-02-03T00:00:00",
          "2021-02-04T00:00:00",
          "2021-02-05T00:00:00",
          "2021-02-06T00:00:00",
          "2021-02-07T00:00:00",
          "2021-02-08T00:00:00",
          "2021-02-09T00:00:00",
          "2021-02-10T00:00:00",
          "2021-02-11T00:00:00",
          "2021-02-12T00:00:00",
          "2021-02-13T00:00:00",
          "2021-02-14T00:00:00",
          "2021-02-15T00:00:00",
          "2021-02-16T00:00:00",
          "2021-02-17T00:00:00",
          "2021-02-18T00:00:00",
          "2021-02-19T00:00:00",
          "2021-02-20T00:00:00",
          "2021-02-21T00:00:00",
          "2021-02-22T00:00:00",
          "2021-02-23T00:00:00",
          "2021-02-24T00:00:00",
          "2021-02-25T00:00:00",
          "2021-02-26T00:00:00",
          "2021-02-27T00:00:00",
          "2021-02-28T00:00:00",
          "2021-03-01T00:00:00"
         ]
        }
       ],
       "layout": {
        "shapes": [
         {
          "line": {
           "width": 2
          },
          "x0": "2021-02-24T00:00:00",
          "x1": "2021-02-24T00:00:00",
          "xref": "x",
          "y0": 0,
          "y1": 1,
          "yref": "paper"
         }
        ],
        "template": {
         "data": {
          "bar": [
           {
            "error_x": {
             "color": "#2a3f5f"
            },
            "error_y": {
             "color": "#2a3f5f"
            },
            "marker": {
             "line": {
              "color": "#E5ECF6",
              "width": 0.5
             }
            },
            "type": "bar"
           }
          ],
          "barpolar": [
           {
            "marker": {
             "line": {
              "color": "#E5ECF6",
              "width": 0.5
             }
            },
            "type": "barpolar"
           }
          ],
          "carpet": [
           {
            "aaxis": {
             "endlinecolor": "#2a3f5f",
             "gridcolor": "white",
             "linecolor": "white",
             "minorgridcolor": "white",
             "startlinecolor": "#2a3f5f"
            },
            "baxis": {
             "endlinecolor": "#2a3f5f",
             "gridcolor": "white",
             "linecolor": "white",
             "minorgridcolor": "white",
             "startlinecolor": "#2a3f5f"
            },
            "type": "carpet"
           }
          ],
          "choropleth": [
           {
            "colorbar": {
             "outlinewidth": 0,
             "ticks": ""
            },
            "type": "choropleth"
           }
          ],
          "contour": [
           {
            "colorbar": {
             "outlinewidth": 0,
             "ticks": ""
            },
            "colorscale": [
             [
              0,
              "#0d0887"
             ],
             [
              0.1111111111111111,
              "#46039f"
             ],
             [
              0.2222222222222222,
              "#7201a8"
             ],
             [
              0.3333333333333333,
              "#9c179e"
             ],
             [
              0.4444444444444444,
              "#bd3786"
             ],
             [
              0.5555555555555556,
              "#d8576b"
             ],
             [
              0.6666666666666666,
              "#ed7953"
             ],
             [
              0.7777777777777778,
              "#fb9f3a"
             ],
             [
              0.8888888888888888,
              "#fdca26"
             ],
             [
              1,
              "#f0f921"
             ]
            ],
            "type": "contour"
           }
          ],
          "contourcarpet": [
           {
            "colorbar": {
             "outlinewidth": 0,
             "ticks": ""
            },
            "type": "contourcarpet"
           }
          ],
          "heatmap": [
           {
            "colorbar": {
             "outlinewidth": 0,
             "ticks": ""
            },
            "colorscale": [
             [
              0,
              "#0d0887"
             ],
             [
              0.1111111111111111,
              "#46039f"
             ],
             [
              0.2222222222222222,
              "#7201a8"
             ],
             [
              0.3333333333333333,
              "#9c179e"
             ],
             [
              0.4444444444444444,
              "#bd3786"
             ],
             [
              0.5555555555555556,
              "#d8576b"
             ],
             [
              0.6666666666666666,
              "#ed7953"
             ],
             [
              0.7777777777777778,
              "#fb9f3a"
             ],
             [
              0.8888888888888888,
              "#fdca26"
             ],
             [
              1,
              "#f0f921"
             ]
            ],
            "type": "heatmap"
           }
          ],
          "heatmapgl": [
           {
            "colorbar": {
             "outlinewidth": 0,
             "ticks": ""
            },
            "colorscale": [
             [
              0,
              "#0d0887"
             ],
             [
              0.1111111111111111,
              "#46039f"
             ],
             [
              0.2222222222222222,
              "#7201a8"
             ],
             [
              0.3333333333333333,
              "#9c179e"
             ],
             [
              0.4444444444444444,
              "#bd3786"
             ],
             [
              0.5555555555555556,
              "#d8576b"
             ],
             [
              0.6666666666666666,
              "#ed7953"
             ],
             [
              0.7777777777777778,
              "#fb9f3a"
             ],
             [
              0.8888888888888888,
              "#fdca26"
             ],
             [
              1,
              "#f0f921"
             ]
            ],
            "type": "heatmapgl"
           }
          ],
          "histogram": [
           {
            "marker": {
             "colorbar": {
              "outlinewidth": 0,
              "ticks": ""
             }
            },
            "type": "histogram"
           }
          ],
          "histogram2d": [
           {
            "colorbar": {
             "outlinewidth": 0,
             "ticks": ""
            },
            "colorscale": [
             [
              0,
              "#0d0887"
             ],
             [
              0.1111111111111111,
              "#46039f"
             ],
             [
              0.2222222222222222,
              "#7201a8"
             ],
             [
              0.3333333333333333,
              "#9c179e"
             ],
             [
              0.4444444444444444,
              "#bd3786"
             ],
             [
              0.5555555555555556,
              "#d8576b"
             ],
             [
              0.6666666666666666,
              "#ed7953"
             ],
             [
              0.7777777777777778,
              "#fb9f3a"
             ],
             [
              0.8888888888888888,
              "#fdca26"
             ],
             [
              1,
              "#f0f921"
             ]
            ],
            "type": "histogram2d"
           }
          ],
          "histogram2dcontour": [
           {
            "colorbar": {
             "outlinewidth": 0,
             "ticks": ""
            },
            "colorscale": [
             [
              0,
              "#0d0887"
             ],
             [
              0.1111111111111111,
              "#46039f"
             ],
             [
              0.2222222222222222,
              "#7201a8"
             ],
             [
              0.3333333333333333,
              "#9c179e"
             ],
             [
              0.4444444444444444,
              "#bd3786"
             ],
             [
              0.5555555555555556,
              "#d8576b"
             ],
             [
              0.6666666666666666,
              "#ed7953"
             ],
             [
              0.7777777777777778,
              "#fb9f3a"
             ],
             [
              0.8888888888888888,
              "#fdca26"
             ],
             [
              1,
              "#f0f921"
             ]
            ],
            "type": "histogram2dcontour"
           }
          ],
          "mesh3d": [
           {
            "colorbar": {
             "outlinewidth": 0,
             "ticks": ""
            },
            "type": "mesh3d"
           }
          ],
          "parcoords": [
           {
            "line": {
             "colorbar": {
              "outlinewidth": 0,
              "ticks": ""
             }
            },
            "type": "parcoords"
           }
          ],
          "pie": [
           {
            "automargin": true,
            "type": "pie"
           }
          ],
          "scatter": [
           {
            "marker": {
             "colorbar": {
              "outlinewidth": 0,
              "ticks": ""
             }
            },
            "type": "scatter"
           }
          ],
          "scatter3d": [
           {
            "line": {
             "colorbar": {
              "outlinewidth": 0,
              "ticks": ""
             }
            },
            "marker": {
             "colorbar": {
              "outlinewidth": 0,
              "ticks": ""
             }
            },
            "type": "scatter3d"
           }
          ],
          "scattercarpet": [
           {
            "marker": {
             "colorbar": {
              "outlinewidth": 0,
              "ticks": ""
             }
            },
            "type": "scattercarpet"
           }
          ],
          "scattergeo": [
           {
            "marker": {
             "colorbar": {
              "outlinewidth": 0,
              "ticks": ""
             }
            },
            "type": "scattergeo"
           }
          ],
          "scattergl": [
           {
            "marker": {
             "colorbar": {
              "outlinewidth": 0,
              "ticks": ""
             }
            },
            "type": "scattergl"
           }
          ],
          "scattermapbox": [
           {
            "marker": {
             "colorbar": {
              "outlinewidth": 0,
              "ticks": ""
             }
            },
            "type": "scattermapbox"
           }
          ],
          "scatterpolar": [
           {
            "marker": {
             "colorbar": {
              "outlinewidth": 0,
              "ticks": ""
             }
            },
            "type": "scatterpolar"
           }
          ],
          "scatterpolargl": [
           {
            "marker": {
             "colorbar": {
              "outlinewidth": 0,
              "ticks": ""
             }
            },
            "type": "scatterpolargl"
           }
          ],
          "scatterternary": [
           {
            "marker": {
             "colorbar": {
              "outlinewidth": 0,
              "ticks": ""
             }
            },
            "type": "scatterternary"
           }
          ],
          "surface": [
           {
            "colorbar": {
             "outlinewidth": 0,
             "ticks": ""
            },
            "colorscale": [
             [
              0,
              "#0d0887"
             ],
             [
              0.1111111111111111,
              "#46039f"
             ],
             [
              0.2222222222222222,
              "#7201a8"
             ],
             [
              0.3333333333333333,
              "#9c179e"
             ],
             [
              0.4444444444444444,
              "#bd3786"
             ],
             [
              0.5555555555555556,
              "#d8576b"
             ],
             [
              0.6666666666666666,
              "#ed7953"
             ],
             [
              0.7777777777777778,
              "#fb9f3a"
             ],
             [
              0.8888888888888888,
              "#fdca26"
             ],
             [
              1,
              "#f0f921"
             ]
            ],
            "type": "surface"
           }
          ],
          "table": [
           {
            "cells": {
             "fill": {
              "color": "#EBF0F8"
             },
             "line": {
              "color": "white"
             }
            },
            "header": {
             "fill": {
              "color": "#C8D4E3"
             },
             "line": {
              "color": "white"
             }
            },
            "type": "table"
           }
          ]
         },
         "layout": {
          "annotationdefaults": {
           "arrowcolor": "#2a3f5f",
           "arrowhead": 0,
           "arrowwidth": 1
          },
          "autotypenumbers": "strict",
          "coloraxis": {
           "colorbar": {
            "outlinewidth": 0,
            "ticks": ""
           }
          },
          "colorscale": {
           "diverging": [
            [
             0,
             "#8e0152"
            ],
            [
             0.1,
             "#c51b7d"
            ],
            [
             0.2,
             "#de77ae"
            ],
            [
             0.3,
             "#f1b6da"
            ],
            [
             0.4,
             "#fde0ef"
            ],
            [
             0.5,
             "#f7f7f7"
            ],
            [
             0.6,
             "#e6f5d0"
            ],
            [
             0.7,
             "#b8e186"
            ],
            [
             0.8,
             "#7fbc41"
            ],
            [
             0.9,
             "#4d9221"
            ],
            [
             1,
             "#276419"
            ]
           ],
           "sequential": [
            [
             0,
             "#0d0887"
            ],
            [
             0.1111111111111111,
             "#46039f"
            ],
            [
             0.2222222222222222,
             "#7201a8"
            ],
            [
             0.3333333333333333,
             "#9c179e"
            ],
            [
             0.4444444444444444,
             "#bd3786"
            ],
            [
             0.5555555555555556,
             "#d8576b"
            ],
            [
             0.6666666666666666,
             "#ed7953"
            ],
            [
             0.7777777777777778,
             "#fb9f3a"
            ],
            [
             0.8888888888888888,
             "#fdca26"
            ],
            [
             1,
             "#f0f921"
            ]
           ],
           "sequentialminus": [
            [
             0,
             "#0d0887"
            ],
            [
             0.1111111111111111,
             "#46039f"
            ],
            [
             0.2222222222222222,
             "#7201a8"
            ],
            [
             0.3333333333333333,
             "#9c179e"
            ],
            [
             0.4444444444444444,
             "#bd3786"
            ],
            [
             0.5555555555555556,
             "#d8576b"
            ],
            [
             0.6666666666666666,
             "#ed7953"
            ],
            [
             0.7777777777777778,
             "#fb9f3a"
            ],
            [
             0.8888888888888888,
             "#fdca26"
            ],
            [
             1,
             "#f0f921"
            ]
           ]
          },
          "colorway": [
           "#636efa",
           "#EF553B",
           "#00cc96",
           "#ab63fa",
           "#FFA15A",
           "#19d3f3",
           "#FF6692",
           "#B6E880",
           "#FF97FF",
           "#FECB52"
          ],
          "font": {
           "color": "#2a3f5f"
          },
          "geo": {
           "bgcolor": "white",
           "lakecolor": "white",
           "landcolor": "#E5ECF6",
           "showlakes": true,
           "showland": true,
           "subunitcolor": "white"
          },
          "hoverlabel": {
           "align": "left"
          },
          "hovermode": "closest",
          "mapbox": {
           "style": "light"
          },
          "paper_bgcolor": "white",
          "plot_bgcolor": "#E5ECF6",
          "polar": {
           "angularaxis": {
            "gridcolor": "white",
            "linecolor": "white",
            "ticks": ""
           },
           "bgcolor": "#E5ECF6",
           "radialaxis": {
            "gridcolor": "white",
            "linecolor": "white",
            "ticks": ""
           }
          },
          "scene": {
           "xaxis": {
            "backgroundcolor": "#E5ECF6",
            "gridcolor": "white",
            "gridwidth": 2,
            "linecolor": "white",
            "showbackground": true,
            "ticks": "",
            "zerolinecolor": "white"
           },
           "yaxis": {
            "backgroundcolor": "#E5ECF6",
            "gridcolor": "white",
            "gridwidth": 2,
            "linecolor": "white",
            "showbackground": true,
            "ticks": "",
            "zerolinecolor": "white"
           },
           "zaxis": {
            "backgroundcolor": "#E5ECF6",
            "gridcolor": "white",
            "gridwidth": 2,
            "linecolor": "white",
            "showbackground": true,
            "ticks": "",
            "zerolinecolor": "white"
           }
          },
          "shapedefaults": {
           "line": {
            "color": "#2a3f5f"
           }
          },
          "ternary": {
           "aaxis": {
            "gridcolor": "white",
            "linecolor": "white",
            "ticks": ""
           },
           "baxis": {
            "gridcolor": "white",
            "linecolor": "white",
            "ticks": ""
           },
           "bgcolor": "#E5ECF6",
           "caxis": {
            "gridcolor": "white",
            "linecolor": "white",
            "ticks": ""
           }
          },
          "title": {
           "x": 0.05
          },
          "xaxis": {
           "automargin": true,
           "gridcolor": "white",
           "linecolor": "white",
           "ticks": "",
           "title": {
            "standoff": 15
           },
           "zerolinecolor": "white",
           "zerolinewidth": 2
          },
          "yaxis": {
           "automargin": true,
           "gridcolor": "white",
           "linecolor": "white",
           "ticks": "",
           "title": {
            "standoff": 15
           },
           "zerolinecolor": "white",
           "zerolinewidth": 2
          }
         }
        },
        "title": {
         "text": "shib"
        }
       }
      }
     },
     "metadata": {},
     "output_type": "display_data"
    }
   ],
   "source": [
    "idx = 720\n",
    "days_before = 100\n",
    "days_after = 5\n",
    "fig = plot_candlestick(df_data_pump_steady['coin'][idx],df_data_pump_steady['base_date'][idx] - pd.Timedelta(days_before, 'd'), \n",
    "                        df_data_pump_steady['base_date'][idx]+pd.Timedelta(days_after, 'd'), base_date=df_data_pump_steady['base_date'][idx])\n",
    "fig"
   ]
  },
  {
   "cell_type": "code",
   "execution_count": 30,
   "metadata": {},
   "outputs": [
    {
     "data": {
      "application/vnd.plotly.v1+json": {
       "config": {
        "plotlyServerURL": "https://plot.ly"
       },
       "data": [
        {
         "type": "histogram",
         "x": [
          433,
          316,
          1223,
          166,
          141,
          118,
          379,
          784,
          1010,
          172,
          300,
          946,
          31,
          605,
          812,
          253,
          161,
          7,
          798,
          44,
          264,
          118,
          41,
          436,
          69,
          562,
          264,
          342,
          1256,
          132,
          454,
          370,
          337,
          242,
          180,
          642,
          407,
          268,
          231,
          1468,
          452,
          17,
          30,
          201,
          1152,
          25,
          49,
          162,
          41,
          41,
          11,
          246,
          724,
          116,
          79,
          1375,
          310,
          342,
          149,
          2701,
          252,
          906,
          577,
          179,
          52,
          1360,
          920,
          1466,
          491,
          27,
          126,
          914,
          176,
          785,
          1361,
          65,
          23,
          49,
          5,
          241,
          81,
          529,
          540,
          625,
          1537,
          46,
          35,
          268,
          172,
          533,
          23,
          59,
          104,
          6,
          221,
          122
         ]
        }
       ],
       "layout": {
        "template": {
         "data": {
          "bar": [
           {
            "error_x": {
             "color": "#2a3f5f"
            },
            "error_y": {
             "color": "#2a3f5f"
            },
            "marker": {
             "line": {
              "color": "#E5ECF6",
              "width": 0.5
             }
            },
            "type": "bar"
           }
          ],
          "barpolar": [
           {
            "marker": {
             "line": {
              "color": "#E5ECF6",
              "width": 0.5
             }
            },
            "type": "barpolar"
           }
          ],
          "carpet": [
           {
            "aaxis": {
             "endlinecolor": "#2a3f5f",
             "gridcolor": "white",
             "linecolor": "white",
             "minorgridcolor": "white",
             "startlinecolor": "#2a3f5f"
            },
            "baxis": {
             "endlinecolor": "#2a3f5f",
             "gridcolor": "white",
             "linecolor": "white",
             "minorgridcolor": "white",
             "startlinecolor": "#2a3f5f"
            },
            "type": "carpet"
           }
          ],
          "choropleth": [
           {
            "colorbar": {
             "outlinewidth": 0,
             "ticks": ""
            },
            "type": "choropleth"
           }
          ],
          "contour": [
           {
            "colorbar": {
             "outlinewidth": 0,
             "ticks": ""
            },
            "colorscale": [
             [
              0,
              "#0d0887"
             ],
             [
              0.1111111111111111,
              "#46039f"
             ],
             [
              0.2222222222222222,
              "#7201a8"
             ],
             [
              0.3333333333333333,
              "#9c179e"
             ],
             [
              0.4444444444444444,
              "#bd3786"
             ],
             [
              0.5555555555555556,
              "#d8576b"
             ],
             [
              0.6666666666666666,
              "#ed7953"
             ],
             [
              0.7777777777777778,
              "#fb9f3a"
             ],
             [
              0.8888888888888888,
              "#fdca26"
             ],
             [
              1,
              "#f0f921"
             ]
            ],
            "type": "contour"
           }
          ],
          "contourcarpet": [
           {
            "colorbar": {
             "outlinewidth": 0,
             "ticks": ""
            },
            "type": "contourcarpet"
           }
          ],
          "heatmap": [
           {
            "colorbar": {
             "outlinewidth": 0,
             "ticks": ""
            },
            "colorscale": [
             [
              0,
              "#0d0887"
             ],
             [
              0.1111111111111111,
              "#46039f"
             ],
             [
              0.2222222222222222,
              "#7201a8"
             ],
             [
              0.3333333333333333,
              "#9c179e"
             ],
             [
              0.4444444444444444,
              "#bd3786"
             ],
             [
              0.5555555555555556,
              "#d8576b"
             ],
             [
              0.6666666666666666,
              "#ed7953"
             ],
             [
              0.7777777777777778,
              "#fb9f3a"
             ],
             [
              0.8888888888888888,
              "#fdca26"
             ],
             [
              1,
              "#f0f921"
             ]
            ],
            "type": "heatmap"
           }
          ],
          "heatmapgl": [
           {
            "colorbar": {
             "outlinewidth": 0,
             "ticks": ""
            },
            "colorscale": [
             [
              0,
              "#0d0887"
             ],
             [
              0.1111111111111111,
              "#46039f"
             ],
             [
              0.2222222222222222,
              "#7201a8"
             ],
             [
              0.3333333333333333,
              "#9c179e"
             ],
             [
              0.4444444444444444,
              "#bd3786"
             ],
             [
              0.5555555555555556,
              "#d8576b"
             ],
             [
              0.6666666666666666,
              "#ed7953"
             ],
             [
              0.7777777777777778,
              "#fb9f3a"
             ],
             [
              0.8888888888888888,
              "#fdca26"
             ],
             [
              1,
              "#f0f921"
             ]
            ],
            "type": "heatmapgl"
           }
          ],
          "histogram": [
           {
            "marker": {
             "colorbar": {
              "outlinewidth": 0,
              "ticks": ""
             }
            },
            "type": "histogram"
           }
          ],
          "histogram2d": [
           {
            "colorbar": {
             "outlinewidth": 0,
             "ticks": ""
            },
            "colorscale": [
             [
              0,
              "#0d0887"
             ],
             [
              0.1111111111111111,
              "#46039f"
             ],
             [
              0.2222222222222222,
              "#7201a8"
             ],
             [
              0.3333333333333333,
              "#9c179e"
             ],
             [
              0.4444444444444444,
              "#bd3786"
             ],
             [
              0.5555555555555556,
              "#d8576b"
             ],
             [
              0.6666666666666666,
              "#ed7953"
             ],
             [
              0.7777777777777778,
              "#fb9f3a"
             ],
             [
              0.8888888888888888,
              "#fdca26"
             ],
             [
              1,
              "#f0f921"
             ]
            ],
            "type": "histogram2d"
           }
          ],
          "histogram2dcontour": [
           {
            "colorbar": {
             "outlinewidth": 0,
             "ticks": ""
            },
            "colorscale": [
             [
              0,
              "#0d0887"
             ],
             [
              0.1111111111111111,
              "#46039f"
             ],
             [
              0.2222222222222222,
              "#7201a8"
             ],
             [
              0.3333333333333333,
              "#9c179e"
             ],
             [
              0.4444444444444444,
              "#bd3786"
             ],
             [
              0.5555555555555556,
              "#d8576b"
             ],
             [
              0.6666666666666666,
              "#ed7953"
             ],
             [
              0.7777777777777778,
              "#fb9f3a"
             ],
             [
              0.8888888888888888,
              "#fdca26"
             ],
             [
              1,
              "#f0f921"
             ]
            ],
            "type": "histogram2dcontour"
           }
          ],
          "mesh3d": [
           {
            "colorbar": {
             "outlinewidth": 0,
             "ticks": ""
            },
            "type": "mesh3d"
           }
          ],
          "parcoords": [
           {
            "line": {
             "colorbar": {
              "outlinewidth": 0,
              "ticks": ""
             }
            },
            "type": "parcoords"
           }
          ],
          "pie": [
           {
            "automargin": true,
            "type": "pie"
           }
          ],
          "scatter": [
           {
            "marker": {
             "colorbar": {
              "outlinewidth": 0,
              "ticks": ""
             }
            },
            "type": "scatter"
           }
          ],
          "scatter3d": [
           {
            "line": {
             "colorbar": {
              "outlinewidth": 0,
              "ticks": ""
             }
            },
            "marker": {
             "colorbar": {
              "outlinewidth": 0,
              "ticks": ""
             }
            },
            "type": "scatter3d"
           }
          ],
          "scattercarpet": [
           {
            "marker": {
             "colorbar": {
              "outlinewidth": 0,
              "ticks": ""
             }
            },
            "type": "scattercarpet"
           }
          ],
          "scattergeo": [
           {
            "marker": {
             "colorbar": {
              "outlinewidth": 0,
              "ticks": ""
             }
            },
            "type": "scattergeo"
           }
          ],
          "scattergl": [
           {
            "marker": {
             "colorbar": {
              "outlinewidth": 0,
              "ticks": ""
             }
            },
            "type": "scattergl"
           }
          ],
          "scattermapbox": [
           {
            "marker": {
             "colorbar": {
              "outlinewidth": 0,
              "ticks": ""
             }
            },
            "type": "scattermapbox"
           }
          ],
          "scatterpolar": [
           {
            "marker": {
             "colorbar": {
              "outlinewidth": 0,
              "ticks": ""
             }
            },
            "type": "scatterpolar"
           }
          ],
          "scatterpolargl": [
           {
            "marker": {
             "colorbar": {
              "outlinewidth": 0,
              "ticks": ""
             }
            },
            "type": "scatterpolargl"
           }
          ],
          "scatterternary": [
           {
            "marker": {
             "colorbar": {
              "outlinewidth": 0,
              "ticks": ""
             }
            },
            "type": "scatterternary"
           }
          ],
          "surface": [
           {
            "colorbar": {
             "outlinewidth": 0,
             "ticks": ""
            },
            "colorscale": [
             [
              0,
              "#0d0887"
             ],
             [
              0.1111111111111111,
              "#46039f"
             ],
             [
              0.2222222222222222,
              "#7201a8"
             ],
             [
              0.3333333333333333,
              "#9c179e"
             ],
             [
              0.4444444444444444,
              "#bd3786"
             ],
             [
              0.5555555555555556,
              "#d8576b"
             ],
             [
              0.6666666666666666,
              "#ed7953"
             ],
             [
              0.7777777777777778,
              "#fb9f3a"
             ],
             [
              0.8888888888888888,
              "#fdca26"
             ],
             [
              1,
              "#f0f921"
             ]
            ],
            "type": "surface"
           }
          ],
          "table": [
           {
            "cells": {
             "fill": {
              "color": "#EBF0F8"
             },
             "line": {
              "color": "white"
             }
            },
            "header": {
             "fill": {
              "color": "#C8D4E3"
             },
             "line": {
              "color": "white"
             }
            },
            "type": "table"
           }
          ]
         },
         "layout": {
          "annotationdefaults": {
           "arrowcolor": "#2a3f5f",
           "arrowhead": 0,
           "arrowwidth": 1
          },
          "autotypenumbers": "strict",
          "coloraxis": {
           "colorbar": {
            "outlinewidth": 0,
            "ticks": ""
           }
          },
          "colorscale": {
           "diverging": [
            [
             0,
             "#8e0152"
            ],
            [
             0.1,
             "#c51b7d"
            ],
            [
             0.2,
             "#de77ae"
            ],
            [
             0.3,
             "#f1b6da"
            ],
            [
             0.4,
             "#fde0ef"
            ],
            [
             0.5,
             "#f7f7f7"
            ],
            [
             0.6,
             "#e6f5d0"
            ],
            [
             0.7,
             "#b8e186"
            ],
            [
             0.8,
             "#7fbc41"
            ],
            [
             0.9,
             "#4d9221"
            ],
            [
             1,
             "#276419"
            ]
           ],
           "sequential": [
            [
             0,
             "#0d0887"
            ],
            [
             0.1111111111111111,
             "#46039f"
            ],
            [
             0.2222222222222222,
             "#7201a8"
            ],
            [
             0.3333333333333333,
             "#9c179e"
            ],
            [
             0.4444444444444444,
             "#bd3786"
            ],
            [
             0.5555555555555556,
             "#d8576b"
            ],
            [
             0.6666666666666666,
             "#ed7953"
            ],
            [
             0.7777777777777778,
             "#fb9f3a"
            ],
            [
             0.8888888888888888,
             "#fdca26"
            ],
            [
             1,
             "#f0f921"
            ]
           ],
           "sequentialminus": [
            [
             0,
             "#0d0887"
            ],
            [
             0.1111111111111111,
             "#46039f"
            ],
            [
             0.2222222222222222,
             "#7201a8"
            ],
            [
             0.3333333333333333,
             "#9c179e"
            ],
            [
             0.4444444444444444,
             "#bd3786"
            ],
            [
             0.5555555555555556,
             "#d8576b"
            ],
            [
             0.6666666666666666,
             "#ed7953"
            ],
            [
             0.7777777777777778,
             "#fb9f3a"
            ],
            [
             0.8888888888888888,
             "#fdca26"
            ],
            [
             1,
             "#f0f921"
            ]
           ]
          },
          "colorway": [
           "#636efa",
           "#EF553B",
           "#00cc96",
           "#ab63fa",
           "#FFA15A",
           "#19d3f3",
           "#FF6692",
           "#B6E880",
           "#FF97FF",
           "#FECB52"
          ],
          "font": {
           "color": "#2a3f5f"
          },
          "geo": {
           "bgcolor": "white",
           "lakecolor": "white",
           "landcolor": "#E5ECF6",
           "showlakes": true,
           "showland": true,
           "subunitcolor": "white"
          },
          "hoverlabel": {
           "align": "left"
          },
          "hovermode": "closest",
          "mapbox": {
           "style": "light"
          },
          "paper_bgcolor": "white",
          "plot_bgcolor": "#E5ECF6",
          "polar": {
           "angularaxis": {
            "gridcolor": "white",
            "linecolor": "white",
            "ticks": ""
           },
           "bgcolor": "#E5ECF6",
           "radialaxis": {
            "gridcolor": "white",
            "linecolor": "white",
            "ticks": ""
           }
          },
          "scene": {
           "xaxis": {
            "backgroundcolor": "#E5ECF6",
            "gridcolor": "white",
            "gridwidth": 2,
            "linecolor": "white",
            "showbackground": true,
            "ticks": "",
            "zerolinecolor": "white"
           },
           "yaxis": {
            "backgroundcolor": "#E5ECF6",
            "gridcolor": "white",
            "gridwidth": 2,
            "linecolor": "white",
            "showbackground": true,
            "ticks": "",
            "zerolinecolor": "white"
           },
           "zaxis": {
            "backgroundcolor": "#E5ECF6",
            "gridcolor": "white",
            "gridwidth": 2,
            "linecolor": "white",
            "showbackground": true,
            "ticks": "",
            "zerolinecolor": "white"
           }
          },
          "shapedefaults": {
           "line": {
            "color": "#2a3f5f"
           }
          },
          "ternary": {
           "aaxis": {
            "gridcolor": "white",
            "linecolor": "white",
            "ticks": ""
           },
           "baxis": {
            "gridcolor": "white",
            "linecolor": "white",
            "ticks": ""
           },
           "bgcolor": "#E5ECF6",
           "caxis": {
            "gridcolor": "white",
            "linecolor": "white",
            "ticks": ""
           }
          },
          "title": {
           "x": 0.05
          },
          "xaxis": {
           "automargin": true,
           "gridcolor": "white",
           "linecolor": "white",
           "ticks": "",
           "title": {
            "standoff": 15
           },
           "zerolinecolor": "white",
           "zerolinewidth": 2
          },
          "yaxis": {
           "automargin": true,
           "gridcolor": "white",
           "linecolor": "white",
           "ticks": "",
           "title": {
            "standoff": 15
           },
           "zerolinecolor": "white",
           "zerolinewidth": 2
          }
         }
        }
       }
      }
     },
     "metadata": {},
     "output_type": "display_data"
    },
    {
     "name": "stdout",
     "output_type": "stream",
     "text": [
      "Banyaknya data coin yg dipump  96\n"
     ]
    }
   ],
   "source": [
    "listing_to_pump = []\n",
    "for i in df_data_pump_30['coin'].unique():\n",
    "    temp_df= df_data_pump_30[df_data_pump_30['coin'] == i]\n",
    "    listing_to_pump.append((temp_df['base_date'].iloc[0] - temp_df['date_listing'].iloc[0]).days)\n",
    "    \n",
    "fig = go.Figure(data=[go.Histogram(x=listing_to_pump)])\n",
    "fig.show()\n",
    "print('Banyaknya data coin yg dipump ', len(listing_to_pump))"
   ]
  },
  {
   "cell_type": "code",
   "execution_count": 14,
   "metadata": {},
   "outputs": [
    {
     "data": {
      "application/vnd.plotly.v1+json": {
       "config": {
        "plotlyServerURL": "https://plot.ly"
       },
       "data": [
        {
         "alignmentgroup": "True",
         "bingroup": "x",
         "hovertemplate": "coin=%{x}<br>count=%{y}<extra></extra>",
         "legendgroup": "",
         "marker": {
          "color": "#636efa"
         },
         "name": "",
         "offsetgroup": "",
         "orientation": "v",
         "showlegend": false,
         "type": "histogram",
         "x": [
          "10set",
          "aave",
          "ach",
          "ads",
          "ads",
          "aergo",
          "agix",
          "albt",
          "alu",
          "alu",
          "ama",
          "amp",
          "ampl",
          "ankr",
          "ankr",
          "ant",
          "aog",
          "aog",
          "aog",
          "aog",
          "aog",
          "aog",
          "aog",
          "aog",
          "aog",
          "aqt",
          "ar",
          "ar",
          "ardr",
          "ardr",
          "ark",
          "arrr",
          "arrr",
          "asd",
          "asd",
          "ask",
          "ast",
          "atm",
          "atm",
          "audio",
          "ava",
          "ava",
          "avax",
          "avax",
          "avinoc",
          "avinoc",
          "avinoc",
          "avinoc",
          "avt",
          "avt",
          "avt",
          "axs",
          "axs",
          "babydoge",
          "bake",
          "bake",
          "band",
          "bat",
          "bcd",
          "bcd",
          "bcd",
          "bch",
          "bcn",
          "bcn",
          "bcn",
          "bcn",
          "bel",
          "bezoge",
          "bfc",
          "bifi",
          "bnb",
          "bnt",
          "bnt",
          "boo",
          "bor",
          "boring",
          "box",
          "box",
          "bsw",
          "btc",
          "btnt",
          "btnt",
          "btnt",
          "btnt",
          "btr",
          "bts",
          "bts",
          "bux",
          "bux",
          "cake",
          "cate",
          "cdt",
          "ceek",
          "ceek",
          "celr",
          "chr",
          "chsb",
          "chz",
          "cocos",
          "cocos",
          "coti",
          "coval",
          "coval",
          "coval",
          "coval",
          "coval",
          "coval",
          "coval",
          "coval",
          "cre",
          "cream",
          "crv",
          "ctc",
          "ctsi",
          "ctx",
          "cxo",
          "cxo",
          "cxo",
          "dag",
          "dag",
          "dash",
          "dashd",
          "dashd",
          "dashd",
          "dashd",
          "dawn",
          "dcr",
          "dcr",
          "dent",
          "dep",
          "dero",
          "dexe",
          "dexe",
          "dext",
          "dfi",
          "dfx",
          "dfx",
          "dgb",
          "dgb",
          "dgb",
          "dgb",
          "dgb",
          "divi",
          "dka",
          "dnt",
          "dodo",
          "doge",
          "doge",
          "doge",
          "doge",
          "dpx",
          "dusk",
          "dvi",
          "dvi",
          "dvpn",
          "dvpn",
          "dvpn",
          "dvpn",
          "dvpn",
          "edg",
          "egld",
          "elon",
          "emaid",
          "enj",
          "enj",
          "eos",
          "erg",
          "erg",
          "erg",
          "etc",
          "etc",
          "eth",
          "exrd",
          "farm",
          "fct",
          "feg",
          "feg",
          "fet",
          "fet",
          "fida",
          "firo",
          "flex",
          "flux",
          "flux",
          "fox",
          "fox",
          "front",
          "fsn",
          "ftm",
          "ftm",
          "fun",
          "fun",
          "fuse",
          "fuse",
          "fuse",
          "fuse",
          "fx",
          "gala",
          "gala",
          "gala",
          "gas",
          "get",
          "get",
          "get",
          "gfarm2",
          "gfarm2",
          "glm",
          "grid",
          "grid",
          "grid",
          "grid",
          "grs",
          "grs",
          "grs",
          "grs",
          "grs",
          "grs",
          "gto",
          "gto",
          "gxc",
          "gxt",
          "gxt",
          "hbar",
          "hc",
          "hoge",
          "hot",
          "htb",
          "htr",
          "hunt",
          "hunt",
          "ichi",
          "icx",
          "idex",
          "ilv",
          "index",
          "inv",
          "ion",
          "iotx",
          "iq",
          "iris",
          "jasmy",
          "kai",
          "kcs",
          "kcs",
          "kda",
          "key",
          "kin",
          "kiro",
          "kishu",
          "klay",
          "klv",
          "kmd",
          "koda",
          "koge",
          "koin",
          "koin",
          "krl",
          "kub",
          "lcx",
          "lcx",
          "lend",
          "lend",
          "lina",
          "ln",
          "loc",
          "lpt",
          "lrc",
          "lsk",
          "ltc",
          "ltc",
          "ltc",
          "ltx",
          "luffy",
          "lyxe",
          "mana",
          "mana",
          "map",
          "maps",
          "matic",
          "matic",
          "mbox",
          "med",
          "meta",
          "meta",
          "metis",
          "mft",
          "miota",
          "mix",
          "mix",
          "mln",
          "mmpro",
          "mnw",
          "mnw",
          "mtl",
          "mtrg",
          "mtrg",
          "mvl",
          "myst",
          "ncr",
          "nct",
          "nct",
          "near",
          "neo",
          "neo",
          "neo",
          "nex",
          "nftx",
          "ngc",
          "nim",
          "nkn",
          "noia",
          "noia",
          "npxs",
          "nrv",
          "nu",
          "nxs",
          "nxs",
          "nxs",
          "ocean",
          "ogn",
          "olt",
          "olt",
          "om",
          "omi",
          "one",
          "orbs",
          "orn",
          "ousd",
          "pac",
          "pac",
          "pac",
          "perp",
          "phb",
          "pla",
          "plu",
          "pnd",
          "pnd",
          "pnd",
          "pnd",
          "pnd",
          "pnd",
          "pnd",
          "pnd",
          "pnd",
          "pnd",
          "pnd",
          "pnd",
          "pnd",
          "pnd",
          "pnd",
          "pnk",
          "pny",
          "pny",
          "pny",
          "pny",
          "pny",
          "pols",
          "poly",
          "pre",
          "pre",
          "pre",
          "pro",
          "prom",
          "prq",
          "prq",
          "qkc",
          "qnt",
          "qtum",
          "quack",
          "rari",
          "ray",
          "rdpx",
          "req",
          "rfox",
          "rfox",
          "rfr",
          "rfr",
          "rfr",
          "rgt",
          "rif",
          "rise",
          "rlc",
          "rlc",
          "rndr",
          "rndr",
          "rpl",
          "rpl",
          "rune",
          "rune",
          "rvn",
          "rvn",
          "sai",
          "saito",
          "samo",
          "san",
          "sand",
          "sand",
          "sbd",
          "sc",
          "sc",
          "sc",
          "scp",
          "scp",
          "scp",
          "scp",
          "scrt",
          "sdao",
          "seth",
          "sfund",
          "shib",
          "shib",
          "shib",
          "shr",
          "shr",
          "six",
          "six",
          "six",
          "slp",
          "slp",
          "slp",
          "snow",
          "snow",
          "snow",
          "snow",
          "SNT",
          "sol",
          "sol",
          "sol",
          "solve",
          "solve",
          "soul",
          "soul",
          "spell",
          "srm",
          "starl",
          "steem",
          "steem",
          "steem",
          "step",
          "stmx",
          "strax",
          "SUKU",
          "sure",
          "sure",
          "sure",
          "sushi",
          "swap",
          "sxp",
          "sylo",
          "sys",
          "sys",
          "taboo",
          "tel",
          "tfuel",
          "tfuel",
          "time",
          "time",
          "tlos",
          "tlos",
          "tomb",
          "ton",
          "tone",
          "tpt",
          "trac",
          "trb",
          "tru",
          "tt",
          "twt",
          "twt",
          "twt",
          "ubsn",
          "ubsn",
          "ubt",
          "ufo",
          "uft",
          "uma",
          "unfi",
          "Uni",
          "upp",
          "uqc",
          "ustc",
          "veri",
          "veri",
          "veri",
          "vet",
          "vgx",
          "vgx",
          "vid",
          "vite",
          "vtho",
          "vxv",
          "vxv",
          "vxv",
          "vxv",
          "waves",
          "waves",
          "waxp",
          "whale",
          "win",
          "woo",
          "wrx",
          "wwy",
          "xava",
          "xava",
          "xdata",
          "xdb",
          "xdb",
          "xdc",
          "xdc",
          "xem",
          "xem",
          "xem",
          "xido",
          "xki",
          "xlm",
          "xlm",
          "xmon",
          "xmon",
          "xmr",
          "xno",
          "xpr",
          "xrp",
          "xrp",
          "xrp",
          "xrp",
          "xvg",
          "xvg",
          "xvg",
          "xvg",
          "xvs",
          "xyo",
          "zec",
          "zig",
          "zmt",
          "znn",
          "znn",
          "znn",
          "znn"
         ],
         "xaxis": "x",
         "yaxis": "y"
        }
       ],
       "layout": {
        "barmode": "relative",
        "legend": {
         "tracegroupgap": 0
        },
        "margin": {
         "t": 60
        },
        "template": {
         "data": {
          "bar": [
           {
            "error_x": {
             "color": "#2a3f5f"
            },
            "error_y": {
             "color": "#2a3f5f"
            },
            "marker": {
             "line": {
              "color": "#E5ECF6",
              "width": 0.5
             }
            },
            "type": "bar"
           }
          ],
          "barpolar": [
           {
            "marker": {
             "line": {
              "color": "#E5ECF6",
              "width": 0.5
             }
            },
            "type": "barpolar"
           }
          ],
          "carpet": [
           {
            "aaxis": {
             "endlinecolor": "#2a3f5f",
             "gridcolor": "white",
             "linecolor": "white",
             "minorgridcolor": "white",
             "startlinecolor": "#2a3f5f"
            },
            "baxis": {
             "endlinecolor": "#2a3f5f",
             "gridcolor": "white",
             "linecolor": "white",
             "minorgridcolor": "white",
             "startlinecolor": "#2a3f5f"
            },
            "type": "carpet"
           }
          ],
          "choropleth": [
           {
            "colorbar": {
             "outlinewidth": 0,
             "ticks": ""
            },
            "type": "choropleth"
           }
          ],
          "contour": [
           {
            "colorbar": {
             "outlinewidth": 0,
             "ticks": ""
            },
            "colorscale": [
             [
              0,
              "#0d0887"
             ],
             [
              0.1111111111111111,
              "#46039f"
             ],
             [
              0.2222222222222222,
              "#7201a8"
             ],
             [
              0.3333333333333333,
              "#9c179e"
             ],
             [
              0.4444444444444444,
              "#bd3786"
             ],
             [
              0.5555555555555556,
              "#d8576b"
             ],
             [
              0.6666666666666666,
              "#ed7953"
             ],
             [
              0.7777777777777778,
              "#fb9f3a"
             ],
             [
              0.8888888888888888,
              "#fdca26"
             ],
             [
              1,
              "#f0f921"
             ]
            ],
            "type": "contour"
           }
          ],
          "contourcarpet": [
           {
            "colorbar": {
             "outlinewidth": 0,
             "ticks": ""
            },
            "type": "contourcarpet"
           }
          ],
          "heatmap": [
           {
            "colorbar": {
             "outlinewidth": 0,
             "ticks": ""
            },
            "colorscale": [
             [
              0,
              "#0d0887"
             ],
             [
              0.1111111111111111,
              "#46039f"
             ],
             [
              0.2222222222222222,
              "#7201a8"
             ],
             [
              0.3333333333333333,
              "#9c179e"
             ],
             [
              0.4444444444444444,
              "#bd3786"
             ],
             [
              0.5555555555555556,
              "#d8576b"
             ],
             [
              0.6666666666666666,
              "#ed7953"
             ],
             [
              0.7777777777777778,
              "#fb9f3a"
             ],
             [
              0.8888888888888888,
              "#fdca26"
             ],
             [
              1,
              "#f0f921"
             ]
            ],
            "type": "heatmap"
           }
          ],
          "heatmapgl": [
           {
            "colorbar": {
             "outlinewidth": 0,
             "ticks": ""
            },
            "colorscale": [
             [
              0,
              "#0d0887"
             ],
             [
              0.1111111111111111,
              "#46039f"
             ],
             [
              0.2222222222222222,
              "#7201a8"
             ],
             [
              0.3333333333333333,
              "#9c179e"
             ],
             [
              0.4444444444444444,
              "#bd3786"
             ],
             [
              0.5555555555555556,
              "#d8576b"
             ],
             [
              0.6666666666666666,
              "#ed7953"
             ],
             [
              0.7777777777777778,
              "#fb9f3a"
             ],
             [
              0.8888888888888888,
              "#fdca26"
             ],
             [
              1,
              "#f0f921"
             ]
            ],
            "type": "heatmapgl"
           }
          ],
          "histogram": [
           {
            "marker": {
             "colorbar": {
              "outlinewidth": 0,
              "ticks": ""
             }
            },
            "type": "histogram"
           }
          ],
          "histogram2d": [
           {
            "colorbar": {
             "outlinewidth": 0,
             "ticks": ""
            },
            "colorscale": [
             [
              0,
              "#0d0887"
             ],
             [
              0.1111111111111111,
              "#46039f"
             ],
             [
              0.2222222222222222,
              "#7201a8"
             ],
             [
              0.3333333333333333,
              "#9c179e"
             ],
             [
              0.4444444444444444,
              "#bd3786"
             ],
             [
              0.5555555555555556,
              "#d8576b"
             ],
             [
              0.6666666666666666,
              "#ed7953"
             ],
             [
              0.7777777777777778,
              "#fb9f3a"
             ],
             [
              0.8888888888888888,
              "#fdca26"
             ],
             [
              1,
              "#f0f921"
             ]
            ],
            "type": "histogram2d"
           }
          ],
          "histogram2dcontour": [
           {
            "colorbar": {
             "outlinewidth": 0,
             "ticks": ""
            },
            "colorscale": [
             [
              0,
              "#0d0887"
             ],
             [
              0.1111111111111111,
              "#46039f"
             ],
             [
              0.2222222222222222,
              "#7201a8"
             ],
             [
              0.3333333333333333,
              "#9c179e"
             ],
             [
              0.4444444444444444,
              "#bd3786"
             ],
             [
              0.5555555555555556,
              "#d8576b"
             ],
             [
              0.6666666666666666,
              "#ed7953"
             ],
             [
              0.7777777777777778,
              "#fb9f3a"
             ],
             [
              0.8888888888888888,
              "#fdca26"
             ],
             [
              1,
              "#f0f921"
             ]
            ],
            "type": "histogram2dcontour"
           }
          ],
          "mesh3d": [
           {
            "colorbar": {
             "outlinewidth": 0,
             "ticks": ""
            },
            "type": "mesh3d"
           }
          ],
          "parcoords": [
           {
            "line": {
             "colorbar": {
              "outlinewidth": 0,
              "ticks": ""
             }
            },
            "type": "parcoords"
           }
          ],
          "pie": [
           {
            "automargin": true,
            "type": "pie"
           }
          ],
          "scatter": [
           {
            "marker": {
             "colorbar": {
              "outlinewidth": 0,
              "ticks": ""
             }
            },
            "type": "scatter"
           }
          ],
          "scatter3d": [
           {
            "line": {
             "colorbar": {
              "outlinewidth": 0,
              "ticks": ""
             }
            },
            "marker": {
             "colorbar": {
              "outlinewidth": 0,
              "ticks": ""
             }
            },
            "type": "scatter3d"
           }
          ],
          "scattercarpet": [
           {
            "marker": {
             "colorbar": {
              "outlinewidth": 0,
              "ticks": ""
             }
            },
            "type": "scattercarpet"
           }
          ],
          "scattergeo": [
           {
            "marker": {
             "colorbar": {
              "outlinewidth": 0,
              "ticks": ""
             }
            },
            "type": "scattergeo"
           }
          ],
          "scattergl": [
           {
            "marker": {
             "colorbar": {
              "outlinewidth": 0,
              "ticks": ""
             }
            },
            "type": "scattergl"
           }
          ],
          "scattermapbox": [
           {
            "marker": {
             "colorbar": {
              "outlinewidth": 0,
              "ticks": ""
             }
            },
            "type": "scattermapbox"
           }
          ],
          "scatterpolar": [
           {
            "marker": {
             "colorbar": {
              "outlinewidth": 0,
              "ticks": ""
             }
            },
            "type": "scatterpolar"
           }
          ],
          "scatterpolargl": [
           {
            "marker": {
             "colorbar": {
              "outlinewidth": 0,
              "ticks": ""
             }
            },
            "type": "scatterpolargl"
           }
          ],
          "scatterternary": [
           {
            "marker": {
             "colorbar": {
              "outlinewidth": 0,
              "ticks": ""
             }
            },
            "type": "scatterternary"
           }
          ],
          "surface": [
           {
            "colorbar": {
             "outlinewidth": 0,
             "ticks": ""
            },
            "colorscale": [
             [
              0,
              "#0d0887"
             ],
             [
              0.1111111111111111,
              "#46039f"
             ],
             [
              0.2222222222222222,
              "#7201a8"
             ],
             [
              0.3333333333333333,
              "#9c179e"
             ],
             [
              0.4444444444444444,
              "#bd3786"
             ],
             [
              0.5555555555555556,
              "#d8576b"
             ],
             [
              0.6666666666666666,
              "#ed7953"
             ],
             [
              0.7777777777777778,
              "#fb9f3a"
             ],
             [
              0.8888888888888888,
              "#fdca26"
             ],
             [
              1,
              "#f0f921"
             ]
            ],
            "type": "surface"
           }
          ],
          "table": [
           {
            "cells": {
             "fill": {
              "color": "#EBF0F8"
             },
             "line": {
              "color": "white"
             }
            },
            "header": {
             "fill": {
              "color": "#C8D4E3"
             },
             "line": {
              "color": "white"
             }
            },
            "type": "table"
           }
          ]
         },
         "layout": {
          "annotationdefaults": {
           "arrowcolor": "#2a3f5f",
           "arrowhead": 0,
           "arrowwidth": 1
          },
          "autotypenumbers": "strict",
          "coloraxis": {
           "colorbar": {
            "outlinewidth": 0,
            "ticks": ""
           }
          },
          "colorscale": {
           "diverging": [
            [
             0,
             "#8e0152"
            ],
            [
             0.1,
             "#c51b7d"
            ],
            [
             0.2,
             "#de77ae"
            ],
            [
             0.3,
             "#f1b6da"
            ],
            [
             0.4,
             "#fde0ef"
            ],
            [
             0.5,
             "#f7f7f7"
            ],
            [
             0.6,
             "#e6f5d0"
            ],
            [
             0.7,
             "#b8e186"
            ],
            [
             0.8,
             "#7fbc41"
            ],
            [
             0.9,
             "#4d9221"
            ],
            [
             1,
             "#276419"
            ]
           ],
           "sequential": [
            [
             0,
             "#0d0887"
            ],
            [
             0.1111111111111111,
             "#46039f"
            ],
            [
             0.2222222222222222,
             "#7201a8"
            ],
            [
             0.3333333333333333,
             "#9c179e"
            ],
            [
             0.4444444444444444,
             "#bd3786"
            ],
            [
             0.5555555555555556,
             "#d8576b"
            ],
            [
             0.6666666666666666,
             "#ed7953"
            ],
            [
             0.7777777777777778,
             "#fb9f3a"
            ],
            [
             0.8888888888888888,
             "#fdca26"
            ],
            [
             1,
             "#f0f921"
            ]
           ],
           "sequentialminus": [
            [
             0,
             "#0d0887"
            ],
            [
             0.1111111111111111,
             "#46039f"
            ],
            [
             0.2222222222222222,
             "#7201a8"
            ],
            [
             0.3333333333333333,
             "#9c179e"
            ],
            [
             0.4444444444444444,
             "#bd3786"
            ],
            [
             0.5555555555555556,
             "#d8576b"
            ],
            [
             0.6666666666666666,
             "#ed7953"
            ],
            [
             0.7777777777777778,
             "#fb9f3a"
            ],
            [
             0.8888888888888888,
             "#fdca26"
            ],
            [
             1,
             "#f0f921"
            ]
           ]
          },
          "colorway": [
           "#636efa",
           "#EF553B",
           "#00cc96",
           "#ab63fa",
           "#FFA15A",
           "#19d3f3",
           "#FF6692",
           "#B6E880",
           "#FF97FF",
           "#FECB52"
          ],
          "font": {
           "color": "#2a3f5f"
          },
          "geo": {
           "bgcolor": "white",
           "lakecolor": "white",
           "landcolor": "#E5ECF6",
           "showlakes": true,
           "showland": true,
           "subunitcolor": "white"
          },
          "hoverlabel": {
           "align": "left"
          },
          "hovermode": "closest",
          "mapbox": {
           "style": "light"
          },
          "paper_bgcolor": "white",
          "plot_bgcolor": "#E5ECF6",
          "polar": {
           "angularaxis": {
            "gridcolor": "white",
            "linecolor": "white",
            "ticks": ""
           },
           "bgcolor": "#E5ECF6",
           "radialaxis": {
            "gridcolor": "white",
            "linecolor": "white",
            "ticks": ""
           }
          },
          "scene": {
           "xaxis": {
            "backgroundcolor": "#E5ECF6",
            "gridcolor": "white",
            "gridwidth": 2,
            "linecolor": "white",
            "showbackground": true,
            "ticks": "",
            "zerolinecolor": "white"
           },
           "yaxis": {
            "backgroundcolor": "#E5ECF6",
            "gridcolor": "white",
            "gridwidth": 2,
            "linecolor": "white",
            "showbackground": true,
            "ticks": "",
            "zerolinecolor": "white"
           },
           "zaxis": {
            "backgroundcolor": "#E5ECF6",
            "gridcolor": "white",
            "gridwidth": 2,
            "linecolor": "white",
            "showbackground": true,
            "ticks": "",
            "zerolinecolor": "white"
           }
          },
          "shapedefaults": {
           "line": {
            "color": "#2a3f5f"
           }
          },
          "ternary": {
           "aaxis": {
            "gridcolor": "white",
            "linecolor": "white",
            "ticks": ""
           },
           "baxis": {
            "gridcolor": "white",
            "linecolor": "white",
            "ticks": ""
           },
           "bgcolor": "#E5ECF6",
           "caxis": {
            "gridcolor": "white",
            "linecolor": "white",
            "ticks": ""
           }
          },
          "title": {
           "x": 0.05
          },
          "xaxis": {
           "automargin": true,
           "gridcolor": "white",
           "linecolor": "white",
           "ticks": "",
           "title": {
            "standoff": 15
           },
           "zerolinecolor": "white",
           "zerolinewidth": 2
          },
          "yaxis": {
           "automargin": true,
           "gridcolor": "white",
           "linecolor": "white",
           "ticks": "",
           "title": {
            "standoff": 15
           },
           "zerolinecolor": "white",
           "zerolinewidth": 2
          }
         }
        },
        "xaxis": {
         "anchor": "y",
         "domain": [
          0,
          1
         ],
         "title": {
          "text": "coin"
         }
        },
        "yaxis": {
         "anchor": "x",
         "domain": [
          0,
          1
         ],
         "title": {
          "text": "count"
         }
        }
       }
      }
     },
     "metadata": {},
     "output_type": "display_data"
    }
   ],
   "source": [
    "import plotly.express as px\n",
    "fig = px.histogram(df_data_pump_30, x=\"coin\")\n",
    "fig.show()"
   ]
  },
  {
   "cell_type": "code",
   "execution_count": null,
   "metadata": {},
   "outputs": [
    {
     "data": {
      "text/html": [
       "<div>\n",
       "<style scoped>\n",
       "    .dataframe tbody tr th:only-of-type {\n",
       "        vertical-align: middle;\n",
       "    }\n",
       "\n",
       "    .dataframe tbody tr th {\n",
       "        vertical-align: top;\n",
       "    }\n",
       "\n",
       "    .dataframe thead th {\n",
       "        text-align: right;\n",
       "    }\n",
       "</style>\n",
       "<table border=\"1\" class=\"dataframe\">\n",
       "  <thead>\n",
       "    <tr style=\"text-align: right;\">\n",
       "      <th></th>\n",
       "      <th>index</th>\n",
       "      <th>coin</th>\n",
       "      <th>base_date</th>\n",
       "      <th>base_price</th>\n",
       "      <th>max_date</th>\n",
       "      <th>max_price</th>\n",
       "      <th>pct_change</th>\n",
       "      <th>pump_length</th>\n",
       "      <th>date_listing</th>\n",
       "    </tr>\n",
       "  </thead>\n",
       "  <tbody>\n",
       "    <tr>\n",
       "      <th>0</th>\n",
       "      <td>0</td>\n",
       "      <td>10set</td>\n",
       "      <td>2022-06-09</td>\n",
       "      <td>0.276610</td>\n",
       "      <td>2022-06-25</td>\n",
       "      <td>3.752881</td>\n",
       "      <td>12.567406</td>\n",
       "      <td>16 days</td>\n",
       "      <td>2021-04-02</td>\n",
       "    </tr>\n",
       "    <tr>\n",
       "      <th>2</th>\n",
       "      <td>3</td>\n",
       "      <td>ach</td>\n",
       "      <td>2021-07-21</td>\n",
       "      <td>0.001368</td>\n",
       "      <td>2021-08-07</td>\n",
       "      <td>0.159230</td>\n",
       "      <td>115.397746</td>\n",
       "      <td>17 days</td>\n",
       "      <td>2020-09-08</td>\n",
       "    </tr>\n",
       "    <tr>\n",
       "      <th>3</th>\n",
       "      <td>6</td>\n",
       "      <td>ads</td>\n",
       "      <td>2019-03-25</td>\n",
       "      <td>0.013898</td>\n",
       "      <td>2019-06-03</td>\n",
       "      <td>0.865757</td>\n",
       "      <td>61.294233</td>\n",
       "      <td>70 days</td>\n",
       "      <td>2017-10-29</td>\n",
       "    </tr>\n",
       "    <tr>\n",
       "      <th>4</th>\n",
       "      <td>7</td>\n",
       "      <td>ads</td>\n",
       "      <td>2021-03-05</td>\n",
       "      <td>0.035086</td>\n",
       "      <td>2021-05-15</td>\n",
       "      <td>0.524421</td>\n",
       "      <td>13.946808</td>\n",
       "      <td>71 days</td>\n",
       "      <td>2017-10-29</td>\n",
       "    </tr>\n",
       "    <tr>\n",
       "      <th>6</th>\n",
       "      <td>10</td>\n",
       "      <td>agix</td>\n",
       "      <td>2021-05-29</td>\n",
       "      <td>0.037961</td>\n",
       "      <td>2021-06-09</td>\n",
       "      <td>0.804910</td>\n",
       "      <td>20.203556</td>\n",
       "      <td>11 days</td>\n",
       "      <td>2018-01-22</td>\n",
       "    </tr>\n",
       "    <tr>\n",
       "      <th>...</th>\n",
       "      <td>...</td>\n",
       "      <td>...</td>\n",
       "      <td>...</td>\n",
       "      <td>...</td>\n",
       "      <td>...</td>\n",
       "      <td>...</td>\n",
       "      <td>...</td>\n",
       "      <td>...</td>\n",
       "      <td>...</td>\n",
       "    </tr>\n",
       "    <tr>\n",
       "      <th>527</th>\n",
       "      <td>673</td>\n",
       "      <td>xvg</td>\n",
       "      <td>2017-03-20</td>\n",
       "      <td>0.000010</td>\n",
       "      <td>2017-06-06</td>\n",
       "      <td>0.006659</td>\n",
       "      <td>641.731018</td>\n",
       "      <td>78 days</td>\n",
       "      <td>2014-10-25</td>\n",
       "    </tr>\n",
       "    <tr>\n",
       "      <th>528</th>\n",
       "      <td>674</td>\n",
       "      <td>xvg</td>\n",
       "      <td>2017-11-23</td>\n",
       "      <td>0.005429</td>\n",
       "      <td>2017-12-24</td>\n",
       "      <td>0.261874</td>\n",
       "      <td>47.239292</td>\n",
       "      <td>31 days</td>\n",
       "      <td>2014-10-25</td>\n",
       "    </tr>\n",
       "    <tr>\n",
       "      <th>529</th>\n",
       "      <td>675</td>\n",
       "      <td>xvs</td>\n",
       "      <td>2020-12-30</td>\n",
       "      <td>3.286471</td>\n",
       "      <td>2021-02-20</td>\n",
       "      <td>94.573640</td>\n",
       "      <td>27.776651</td>\n",
       "      <td>52 days</td>\n",
       "      <td>2020-10-06</td>\n",
       "    </tr>\n",
       "    <tr>\n",
       "      <th>530</th>\n",
       "      <td>676</td>\n",
       "      <td>xyo</td>\n",
       "      <td>2021-01-30</td>\n",
       "      <td>0.000210</td>\n",
       "      <td>2021-04-05</td>\n",
       "      <td>0.007910</td>\n",
       "      <td>36.650722</td>\n",
       "      <td>65 days</td>\n",
       "      <td>2018-06-12</td>\n",
       "    </tr>\n",
       "    <tr>\n",
       "      <th>533</th>\n",
       "      <td>683</td>\n",
       "      <td>zmt</td>\n",
       "      <td>2021-11-14</td>\n",
       "      <td>0.201346</td>\n",
       "      <td>2022-01-01</td>\n",
       "      <td>4.416243</td>\n",
       "      <td>20.933622</td>\n",
       "      <td>48 days</td>\n",
       "      <td>2021-02-04</td>\n",
       "    </tr>\n",
       "  </tbody>\n",
       "</table>\n",
       "<p>291 rows × 9 columns</p>\n",
       "</div>"
      ],
      "text/plain": [
       "     index   coin  base_date  base_price   max_date  max_price  pct_change  \\\n",
       "0        0  10set 2022-06-09    0.276610 2022-06-25   3.752881   12.567406   \n",
       "2        3    ach 2021-07-21    0.001368 2021-08-07   0.159230  115.397746   \n",
       "3        6    ads 2019-03-25    0.013898 2019-06-03   0.865757   61.294233   \n",
       "4        7    ads 2021-03-05    0.035086 2021-05-15   0.524421   13.946808   \n",
       "6       10   agix 2021-05-29    0.037961 2021-06-09   0.804910   20.203556   \n",
       "..     ...    ...        ...         ...        ...        ...         ...   \n",
       "527    673    xvg 2017-03-20    0.000010 2017-06-06   0.006659  641.731018   \n",
       "528    674    xvg 2017-11-23    0.005429 2017-12-24   0.261874   47.239292   \n",
       "529    675    xvs 2020-12-30    3.286471 2021-02-20  94.573640   27.776651   \n",
       "530    676    xyo 2021-01-30    0.000210 2021-04-05   0.007910   36.650722   \n",
       "533    683    zmt 2021-11-14    0.201346 2022-01-01   4.416243   20.933622   \n",
       "\n",
       "    pump_length date_listing  \n",
       "0       16 days   2021-04-02  \n",
       "2       17 days   2020-09-08  \n",
       "3       70 days   2017-10-29  \n",
       "4       71 days   2017-10-29  \n",
       "6       11 days   2018-01-22  \n",
       "..          ...          ...  \n",
       "527     78 days   2014-10-25  \n",
       "528     31 days   2014-10-25  \n",
       "529     52 days   2020-10-06  \n",
       "530     65 days   2018-06-12  \n",
       "533     48 days   2021-02-04  \n",
       "\n",
       "[291 rows x 9 columns]"
      ]
     },
     "execution_count": 139,
     "metadata": {},
     "output_type": "execute_result"
    }
   ],
   "source": [
    "df_data_pump_steady[df_data_pump_steady['pct_change'] >= 10]"
   ]
  },
  {
   "cell_type": "markdown",
   "metadata": {},
   "source": [
    "# Initial Coin Offering Analysis"
   ]
  },
  {
   "cell_type": "code",
   "execution_count": 15,
   "metadata": {},
   "outputs": [
    {
     "data": {
      "application/vnd.plotly.v1+json": {
       "config": {
        "plotlyServerURL": "https://plot.ly"
       },
       "data": [
        {
         "type": "histogram",
         "x": [
          2.8924484065504252,
          1.469636941918379,
          1.1375709321237224,
          0.37657884651565954,
          0.5415508019436887,
          3.822458901641149,
          2.7595009744348147,
          6.57532921127055,
          0.6741155544808604,
          2.295557615516704,
          0.008867855137016928,
          0.06412377635604234,
          0.7046996805412357,
          0.9493356741764108,
          3.4428287750199016,
          2.68822196907293,
          0.9766259543307338,
          0.9967457747944719,
          0.9687856990338635,
          8.266167429664067,
          0.7880944902663037,
          7.784619935370612,
          0.04642814639703446,
          0.24005168605285765,
          0.302163450882855,
          0.04619712188389052,
          1.0786606666203291,
          0.08046589386526852,
          0.003952337753623486,
          0.4151581114280294,
          1.7678830710824112,
          4.534181817093433,
          4.159311094194639,
          0.23240211945855066,
          0.1531895959998807,
          5.802676830883189,
          1.9137182066782492,
          3.1768004228236664,
          0.47185323158888065,
          6.480923097514275,
          0.053781963408185654,
          0.23350631785854575,
          1.8342436080241484,
          0.4521650506677594,
          1.3319804277964553,
          1.9760565801037528,
          0.35235303306291665,
          3.8800762700175606,
          0.8393011764459078,
          0.10761436101840956,
          1.214845812465847,
          0.15575530996322334,
          1.0742270177449245,
          8.447073899372896,
          0.04473769821354729,
          1.2675185191457936,
          0.2516749847743468,
          0.29056372250630685,
          1.8999997450501174,
          0.17173363063333483,
          0.5926022506418968,
          6.340656458557941,
          0.07835794536945816,
          5.588697092545435,
          1.050709646061271,
          0.8577070602636456,
          1.3473859146322056,
          0.14172078484791853,
          3.4045534850720243,
          6.488047217495968,
          0.5505528335443484,
          3.612186504225736,
          0.21009890704576872,
          0.0648009180494502,
          7.707398854448432,
          3.366171950949598,
          1.9628337184091829,
          1.257920228484105,
          0.04922394678492237,
          0.6786309665298565,
          2.2897788384067557,
          4.490151086005,
          0.2411044417259139,
          0.39594980548817243,
          1.6314966146836216,
          2.6657412447474553,
          0.4376269276231986,
          0.08037383972385224,
          0.002998637873239303,
          1.235398085039542,
          0.6072511671195002,
          7.046569865405989,
          0.08922575221856294,
          6.198274276431815,
          0.07683151491532907,
          6.542488047992858,
          0.0390312250275964,
          3.2551184770901087,
          0.10805846925341188,
          0.3235750017012285,
          4.434587603541664,
          0.24686229800543788,
          0.1051617710045274,
          0.00034008489605660694,
          3.5934743821481447,
          0.0205465677206957,
          4.300548333921304,
          0.009246188145655554,
          0.15353346401588347,
          0.42072529906926365,
          1.1810510612151293,
          0.5279871399989275,
          3.278687319963492,
          2.375601774254716,
          4.44300041629729,
          1.0044494701923903,
          0.10355915624876054,
          0.2701319076027495,
          0.05748754277902833,
          0.7905303539377554,
          2.843906951488296,
          3.824480693163999,
          0.6991282442330254,
          1.7258126749284832,
          1.0308392318226236,
          0.000022555832145179126,
          0.042239426265797554,
          0.37729026967407064,
          1.3140511889734914,
          1.468795603209885,
          0.042957367497333136,
          6.34541782582462,
          0.011985934604216063,
          0.7318533702812093,
          3.4764924772856336,
          3.1335585360510425,
          0.6765121918826871,
          0.3127815422887549,
          0.006179315450260445,
          1.8687240613637681,
          1.3517584222437513,
          1.8081809670373648,
          1.0166563277118268,
          0.02727148637133813,
          1.2371786605422788,
          5.573935697512684,
          4.858908115776874,
          0.0968386334791138,
          1.1090028867067125,
          0.7186942505174992,
          3.775055795248485,
          1.1346397158536823,
          2.016304761540697,
          3.4003873131323727,
          0.8770432838433552,
          0.8223045196167212,
          8.774355252590027,
          0.49828836715520547,
          0.20566801474659696,
          2.374572279410712,
          0.13507936774036708,
          3.1193552384538017,
          1.1448812603515082,
          9.276894159232636,
          0.9439617184035399,
          0.4531352306286896,
          2.5294367787364744,
          4.343134899485365,
          3.9688670391621654,
          1.125863660783208,
          1.0923351060165287,
          0.7529210069237312,
          0.00017509649185670087,
          0.5665637336302567,
          0.03182711298882781,
          0.02253880132984993,
          1.3901848739495801,
          0.7299819614095004,
          2.20878814995476,
          0.5438009122986068,
          9.639725901828466,
          1.760694063888518,
          2.6685297303763567,
          3.649882252461302,
          0.01717569694204143,
          0.0874533951352476,
          0.054645377952149396,
          0.0666474424126167,
          0.2405483639173264,
          2.1270307910707484,
          0.0273089140137636,
          0.4082218925117295,
          2.3021055245845936,
          0.3075383664563565,
          1.462352326959351,
          1.945503993048441,
          0.021063022147247312,
          4.657907369632983,
          1.9221110787697486,
          2.8634017728450405,
          0.053802003652028245,
          0.17949633814951932,
          0.7549264238587283,
          0.3723305020234961,
          2.5196050234876806,
          4.677199203083931,
          0.19104467278302986,
          2.7896466190115916,
          0.4132710032178396,
          0.5245560237020819,
          2.6813142657283198,
          1.312109407104845,
          1.871876669568958,
          0.007867297935798729,
          0.33288622299498716,
          1.5653848210942933,
          0.11872802847332048,
          1.8367385146399184,
          3.569476151645731,
          3.638612076598041,
          3.419995868868914,
          0.5960270959371952,
          2.46798680452351,
          0.14034142926382662,
          0.4378794230598074,
          1.657715564690068,
          1.1535750090542327,
          2.333801517902161,
          0.0046715661992672184,
          4.312656165756837,
          1.4594688061197945,
          0.005667236616628177,
          1.1857458980121942,
          2.6076539819984554,
          1.103122859732394,
          1.8551822937191709,
          0.15898545097889671,
          4.2873393909093815,
          3.3187591321839514,
          0.6004888856147749,
          7.546114296604765,
          0.41704714607490295,
          3.5093715054627213,
          2.579329507304688,
          0.19515839202832877,
          0.5011653029025342,
          0.06607449816632399,
          0.03936906730179086,
          0.16881183735711056,
          0.15078562156116254,
          0.1697681761743037,
          0.3407273834029865,
          0.129873215297706,
          0.019774030924665058,
          1.1516190445601457,
          0.7914189266623068,
          2.6187128076040835,
          0.3659397692815979,
          2.0977577667178458,
          1.3544557159542632,
          2.3758161084247984,
          1.1544075708234296,
          0.028900672586086206,
          0.6563905308011778,
          2.4127805110702356,
          0.015231458180163276,
          0.10356649252484329,
          5.9677738348007665,
          0.516619585461778,
          7.540413509146191,
          0.8102389940853327,
          1.907596953418751,
          0.04048331846988676,
          0.8331515609707041,
          0.6238888219711416,
          0.8355535924357496,
          1.5394504546616077,
          1.717610182370821,
          4.310316760028823,
          9.422019173390566,
          0.5862909461555047,
          1.965440234034956,
          3.335750110052172,
          0.24230878712667936,
          0.009518066336449733,
          0.507558310838035,
          8.927974472581875,
          0.08211553426992466,
          0.7572044087241169,
          5.160515022131055,
          0.8507863230343216,
          1.2607281999072053,
          5.4464266854097065,
          3.376224735759001,
          3.762883904734602,
          0.8110546961052276,
          3.4924209435085367,
          1.9178256391613735,
          5.733687171911206,
          4.022222619546502,
          2.3952179959019815,
          0.013854036089798875,
          8.661113442390842,
          0.17382348296396832,
          1.0427609570845562,
          3.0721695818074144,
          2.5812972232236353,
          2.512491667049031,
          1.4862010519922684,
          4.518864336682404,
          0.6528013142775212,
          2.73028986791823,
          0.10387003362173408,
          1.9745707978251672,
          0.39598151146722876,
          0.01747894872241082,
          6.154601778214099,
          0.006916980417371982,
          0.03568771536030209,
          0.39393416567928424,
          0.9937787728953243,
          4.330426430503395,
          0.5858019692967398,
          0.6511464314778566,
          0.5643040430514027,
          6.328713132557188,
          0.29517207898893627,
          1.075339451503923,
          5.121234758256661,
          1.1270035463247898,
          4.424658608788026,
          0.03332808643015738,
          3.028781546081315,
          4.614107883817427,
          1.0031230472373163,
          0.5776508915676105,
          0.003752474669184769,
          5.468097449213809,
          0.07126850156112036,
          1.0399067049202175,
          3.1502846055357687,
          1.7368825554118623,
          1.1177437620684396,
          0.197621634835061,
          2.246171088925945,
          0.18229926859319726,
          1.6662350614201238,
          2.203017566601666,
          0.5002156119210833,
          0.21263766506233842,
          0.5606409693246251,
          3.338748950857883,
          0.6990896452145574,
          4.0081607948534685,
          5.7744999670215345,
          0.3185132736877881,
          2.3557475912486243,
          0.5067168522816462,
          6.15171464493532,
          0.02750308620068297,
          0.19125587280900924,
          1.2248638865065091,
          2.6817330204934393,
          0.10891831882383261,
          3.383244586742466,
          0.5091354819924303,
          0.4133068733102042,
          1.1033989640886066,
          0.2146693845457074,
          6.666402005365059,
          2.326167948063601,
          1.597227264170193,
          0.1046887913937189,
          0.7104678187251068,
          4.709724790436193,
          8.027632850618355,
          0.5994207080987509,
          0.017758721730469693,
          0.5963578162720266,
          1.102062317185435,
          0.06283983061661907,
          0.5956184102227239,
          0.29733891927100464,
          0.9222467209401578,
          0.5044991314291165,
          1.0483011314121478,
          1.647977862674027,
          0.12114034682800195,
          0.013437900603302041,
          0.9406570945567464,
          1.1327540215078002,
          1.5361750859332537,
          0.0894719464274421,
          1.7545462367360642,
          0.8132835975546573,
          0.3123248731910168,
          0.15314530589843414,
          0.29237588921355434,
          1.6156924060789155,
          8.150705403336381,
          0.9279953242043172,
          0.24352389916174816,
          0.1445129496651299,
          1.8572041488954871,
          0.1523008600294746,
          4.1171594309332145,
          6.472660362153338,
          1.8971260521514892,
          3.7575386888416284,
          3.9877652140525304,
          0.15147009325809593,
          3.5590925092847456,
          0.5896346644010196,
          0.3630250129292806,
          1.3701439597046865,
          0.07015322313882881,
          0.6354599711797516,
          4.267987788108876,
          1.1427103308388264,
          0.606080641611903,
          5.879442606247802,
          1.1316664369623126,
          1.1662282171883804,
          0.2447580444049401,
          0.6331528416506268,
          0.2630889127953913,
          0.9525602433000633,
          0.9523066490570717,
          1.1273670500293966,
          0.931304343120221,
          0.8866888999730735,
          3.288166367706276,
          4.282826669558305,
          2.515417887945172,
          3.2010305398844636,
          0.34580340105239604,
          0.43640837796019655,
          0.13356747715159792,
          1.8612698693196124,
          5.016158820479621,
          0.08684621537806791,
          1.3472181145593252,
          5.836785907410298,
          1.8440782325678768,
          0.15747389207774548,
          0.38063519241611143,
          0.06234942391973191,
          0.3256771875846759,
          0.31621711958707927,
          0.6071688413301455,
          2.5028941523530737,
          0.4758035602174155,
          2.8337951408735687,
          9.118686626155561,
          0.05007724767158941,
          1.0646363133735137,
          0.7353193074172459,
          1.7340617340161217,
          5.115196053702556,
          1.0779496144607486,
          0.9682083696223661,
          0.12732831028761804,
          0.037114620677245046,
          6.590235422577431,
          0.2577606411604781,
          0.7819727019318745,
          0.6860497307338619,
          0.4665166274637661,
          0.5749274917458591,
          0.16973205357190202,
          0.3508141530767933,
          0.011175949098091033,
          2.287045082655182,
          0.13150093369439234,
          0.08175724323253611,
          0.6456261636620577,
          2.6658780771316732,
          1.3068782273000434,
          0.3795470158432519,
          2.4680152789243457,
          0.07534905447332244,
          5.730833873483049,
          0.601844751779697,
          2.1015607736740995,
          2.3555083043128118,
          0.21718319794060761,
          4.813692151843924,
          1.1596199096225712,
          8.767250221353368,
          0.10008817813543501,
          0.6357936847336159,
          0.17144764195551077,
          1.6675306477033425,
          0.8544417863885932,
          0.02988438477109946,
          2.4138186639957775,
          0.38295496677667556,
          0.3484385189588565,
          0.19716046403093124,
          1.9106103343263259,
          7.792053550539382,
          0.32162720343146406,
          3.507268766669766,
          0.2220042664835838,
          1.9485862517713917,
          0.22577839898441812,
          0.26382683284175734,
          0.3633718501856241,
          1.9205682026061761,
          0.97664943085002,
          0.5070284075284509,
          1.6939071103167365,
          1.3210155346333283,
          0.5582355510238639,
          0.20456479124652588,
          6.668833079752928,
          0.05754964356403532,
          2.783744888160314,
          1.5340254334876517,
          0.1595076509203289,
          0.02139387968058011,
          1.0039699881936648,
          0.6440218020290237,
          7.146478728149008,
          1.3526714068969246,
          0.18078604487719893,
          0.0643341285248324,
          1.2277796590311598,
          2.5593728658256842,
          0.04170831341744031,
          2.7579663702776145,
          0.00017653837872011802,
          7.131207510810138,
          1.0609870654259728,
          1.3097118452730965,
          0.03699180383739299,
          0.005641667720747216,
          0.03487545827053561,
          0.04875138495515976,
          0.042885849462919116,
          0.02281502076802824,
          0.11708234051397184,
          1.1733986613508622,
          0.0030958586452580913,
          0.06626217076829713,
          0.012169111100294602,
          0.12310641674573855,
          3.694605161949489,
          1.9222305576394099,
          0.05840898527637422,
          1.5540485783535243,
          0.3134539760060243,
          0.3602567171022509,
          0.08933951491232378,
          0.7998094760405604,
          0.39827216109573993,
          0.5810299219751652,
          0.24457571721315477,
          0.17731526918677606,
          1.2329514262516146,
          0.04523827392120067,
          1.3047164427367826,
          0.8467070105268161,
          1.923175567212627,
          4.754412337647241,
          1.0716193969218455,
          0.8755326213068131,
          6.476270710312976,
          0.5980049622745912,
          1.1252623487983628,
          6.522327738652027,
          2.1119935720173966,
          0.18274848586526707,
          0.4827416226357082,
          1.2084753572091544,
          0.11416687076267697,
          0.34076539572465786,
          0.22567602311650403,
          1.3137713821549737,
          4.717746414511578,
          2.458480074563322,
          4.813758658781873,
          0.3662749366969506,
          2.2576386948319893,
          0.06048963150832578,
          0.14476221767204112,
          0.2899269512870887,
          0.8095310329317592,
          0.2512147622599858,
          0.9128147313040216,
          1.0138184589039485,
          1.0241681643582672,
          4.113126052994333,
          0.7958843436161652,
          3.041300266631063,
          4.527414108218411,
          1.4425077972842297,
          0.10891626866703273,
          3.0455569969661815,
          0.5270436869036156,
          0.4747091030477837,
          0.6141228647031018,
          8.832386651413424,
          6.196182843264909,
          9.098544700502961,
          0.8511614819303331,
          0.015548329081754995,
          3.1589637517027773,
          0.03145724052256872,
          0.2386195318657765,
          0.4249928812907607,
          2.893610997363686,
          0.4830424916783423,
          3.6061756792522095,
          0.6990183929126627,
          0.1639663707192395
         ]
        }
       ],
       "layout": {
        "template": {
         "data": {
          "bar": [
           {
            "error_x": {
             "color": "#2a3f5f"
            },
            "error_y": {
             "color": "#2a3f5f"
            },
            "marker": {
             "line": {
              "color": "#E5ECF6",
              "width": 0.5
             }
            },
            "type": "bar"
           }
          ],
          "barpolar": [
           {
            "marker": {
             "line": {
              "color": "#E5ECF6",
              "width": 0.5
             }
            },
            "type": "barpolar"
           }
          ],
          "carpet": [
           {
            "aaxis": {
             "endlinecolor": "#2a3f5f",
             "gridcolor": "white",
             "linecolor": "white",
             "minorgridcolor": "white",
             "startlinecolor": "#2a3f5f"
            },
            "baxis": {
             "endlinecolor": "#2a3f5f",
             "gridcolor": "white",
             "linecolor": "white",
             "minorgridcolor": "white",
             "startlinecolor": "#2a3f5f"
            },
            "type": "carpet"
           }
          ],
          "choropleth": [
           {
            "colorbar": {
             "outlinewidth": 0,
             "ticks": ""
            },
            "type": "choropleth"
           }
          ],
          "contour": [
           {
            "colorbar": {
             "outlinewidth": 0,
             "ticks": ""
            },
            "colorscale": [
             [
              0,
              "#0d0887"
             ],
             [
              0.1111111111111111,
              "#46039f"
             ],
             [
              0.2222222222222222,
              "#7201a8"
             ],
             [
              0.3333333333333333,
              "#9c179e"
             ],
             [
              0.4444444444444444,
              "#bd3786"
             ],
             [
              0.5555555555555556,
              "#d8576b"
             ],
             [
              0.6666666666666666,
              "#ed7953"
             ],
             [
              0.7777777777777778,
              "#fb9f3a"
             ],
             [
              0.8888888888888888,
              "#fdca26"
             ],
             [
              1,
              "#f0f921"
             ]
            ],
            "type": "contour"
           }
          ],
          "contourcarpet": [
           {
            "colorbar": {
             "outlinewidth": 0,
             "ticks": ""
            },
            "type": "contourcarpet"
           }
          ],
          "heatmap": [
           {
            "colorbar": {
             "outlinewidth": 0,
             "ticks": ""
            },
            "colorscale": [
             [
              0,
              "#0d0887"
             ],
             [
              0.1111111111111111,
              "#46039f"
             ],
             [
              0.2222222222222222,
              "#7201a8"
             ],
             [
              0.3333333333333333,
              "#9c179e"
             ],
             [
              0.4444444444444444,
              "#bd3786"
             ],
             [
              0.5555555555555556,
              "#d8576b"
             ],
             [
              0.6666666666666666,
              "#ed7953"
             ],
             [
              0.7777777777777778,
              "#fb9f3a"
             ],
             [
              0.8888888888888888,
              "#fdca26"
             ],
             [
              1,
              "#f0f921"
             ]
            ],
            "type": "heatmap"
           }
          ],
          "heatmapgl": [
           {
            "colorbar": {
             "outlinewidth": 0,
             "ticks": ""
            },
            "colorscale": [
             [
              0,
              "#0d0887"
             ],
             [
              0.1111111111111111,
              "#46039f"
             ],
             [
              0.2222222222222222,
              "#7201a8"
             ],
             [
              0.3333333333333333,
              "#9c179e"
             ],
             [
              0.4444444444444444,
              "#bd3786"
             ],
             [
              0.5555555555555556,
              "#d8576b"
             ],
             [
              0.6666666666666666,
              "#ed7953"
             ],
             [
              0.7777777777777778,
              "#fb9f3a"
             ],
             [
              0.8888888888888888,
              "#fdca26"
             ],
             [
              1,
              "#f0f921"
             ]
            ],
            "type": "heatmapgl"
           }
          ],
          "histogram": [
           {
            "marker": {
             "colorbar": {
              "outlinewidth": 0,
              "ticks": ""
             }
            },
            "type": "histogram"
           }
          ],
          "histogram2d": [
           {
            "colorbar": {
             "outlinewidth": 0,
             "ticks": ""
            },
            "colorscale": [
             [
              0,
              "#0d0887"
             ],
             [
              0.1111111111111111,
              "#46039f"
             ],
             [
              0.2222222222222222,
              "#7201a8"
             ],
             [
              0.3333333333333333,
              "#9c179e"
             ],
             [
              0.4444444444444444,
              "#bd3786"
             ],
             [
              0.5555555555555556,
              "#d8576b"
             ],
             [
              0.6666666666666666,
              "#ed7953"
             ],
             [
              0.7777777777777778,
              "#fb9f3a"
             ],
             [
              0.8888888888888888,
              "#fdca26"
             ],
             [
              1,
              "#f0f921"
             ]
            ],
            "type": "histogram2d"
           }
          ],
          "histogram2dcontour": [
           {
            "colorbar": {
             "outlinewidth": 0,
             "ticks": ""
            },
            "colorscale": [
             [
              0,
              "#0d0887"
             ],
             [
              0.1111111111111111,
              "#46039f"
             ],
             [
              0.2222222222222222,
              "#7201a8"
             ],
             [
              0.3333333333333333,
              "#9c179e"
             ],
             [
              0.4444444444444444,
              "#bd3786"
             ],
             [
              0.5555555555555556,
              "#d8576b"
             ],
             [
              0.6666666666666666,
              "#ed7953"
             ],
             [
              0.7777777777777778,
              "#fb9f3a"
             ],
             [
              0.8888888888888888,
              "#fdca26"
             ],
             [
              1,
              "#f0f921"
             ]
            ],
            "type": "histogram2dcontour"
           }
          ],
          "mesh3d": [
           {
            "colorbar": {
             "outlinewidth": 0,
             "ticks": ""
            },
            "type": "mesh3d"
           }
          ],
          "parcoords": [
           {
            "line": {
             "colorbar": {
              "outlinewidth": 0,
              "ticks": ""
             }
            },
            "type": "parcoords"
           }
          ],
          "pie": [
           {
            "automargin": true,
            "type": "pie"
           }
          ],
          "scatter": [
           {
            "marker": {
             "colorbar": {
              "outlinewidth": 0,
              "ticks": ""
             }
            },
            "type": "scatter"
           }
          ],
          "scatter3d": [
           {
            "line": {
             "colorbar": {
              "outlinewidth": 0,
              "ticks": ""
             }
            },
            "marker": {
             "colorbar": {
              "outlinewidth": 0,
              "ticks": ""
             }
            },
            "type": "scatter3d"
           }
          ],
          "scattercarpet": [
           {
            "marker": {
             "colorbar": {
              "outlinewidth": 0,
              "ticks": ""
             }
            },
            "type": "scattercarpet"
           }
          ],
          "scattergeo": [
           {
            "marker": {
             "colorbar": {
              "outlinewidth": 0,
              "ticks": ""
             }
            },
            "type": "scattergeo"
           }
          ],
          "scattergl": [
           {
            "marker": {
             "colorbar": {
              "outlinewidth": 0,
              "ticks": ""
             }
            },
            "type": "scattergl"
           }
          ],
          "scattermapbox": [
           {
            "marker": {
             "colorbar": {
              "outlinewidth": 0,
              "ticks": ""
             }
            },
            "type": "scattermapbox"
           }
          ],
          "scatterpolar": [
           {
            "marker": {
             "colorbar": {
              "outlinewidth": 0,
              "ticks": ""
             }
            },
            "type": "scatterpolar"
           }
          ],
          "scatterpolargl": [
           {
            "marker": {
             "colorbar": {
              "outlinewidth": 0,
              "ticks": ""
             }
            },
            "type": "scatterpolargl"
           }
          ],
          "scatterternary": [
           {
            "marker": {
             "colorbar": {
              "outlinewidth": 0,
              "ticks": ""
             }
            },
            "type": "scatterternary"
           }
          ],
          "surface": [
           {
            "colorbar": {
             "outlinewidth": 0,
             "ticks": ""
            },
            "colorscale": [
             [
              0,
              "#0d0887"
             ],
             [
              0.1111111111111111,
              "#46039f"
             ],
             [
              0.2222222222222222,
              "#7201a8"
             ],
             [
              0.3333333333333333,
              "#9c179e"
             ],
             [
              0.4444444444444444,
              "#bd3786"
             ],
             [
              0.5555555555555556,
              "#d8576b"
             ],
             [
              0.6666666666666666,
              "#ed7953"
             ],
             [
              0.7777777777777778,
              "#fb9f3a"
             ],
             [
              0.8888888888888888,
              "#fdca26"
             ],
             [
              1,
              "#f0f921"
             ]
            ],
            "type": "surface"
           }
          ],
          "table": [
           {
            "cells": {
             "fill": {
              "color": "#EBF0F8"
             },
             "line": {
              "color": "white"
             }
            },
            "header": {
             "fill": {
              "color": "#C8D4E3"
             },
             "line": {
              "color": "white"
             }
            },
            "type": "table"
           }
          ]
         },
         "layout": {
          "annotationdefaults": {
           "arrowcolor": "#2a3f5f",
           "arrowhead": 0,
           "arrowwidth": 1
          },
          "autotypenumbers": "strict",
          "coloraxis": {
           "colorbar": {
            "outlinewidth": 0,
            "ticks": ""
           }
          },
          "colorscale": {
           "diverging": [
            [
             0,
             "#8e0152"
            ],
            [
             0.1,
             "#c51b7d"
            ],
            [
             0.2,
             "#de77ae"
            ],
            [
             0.3,
             "#f1b6da"
            ],
            [
             0.4,
             "#fde0ef"
            ],
            [
             0.5,
             "#f7f7f7"
            ],
            [
             0.6,
             "#e6f5d0"
            ],
            [
             0.7,
             "#b8e186"
            ],
            [
             0.8,
             "#7fbc41"
            ],
            [
             0.9,
             "#4d9221"
            ],
            [
             1,
             "#276419"
            ]
           ],
           "sequential": [
            [
             0,
             "#0d0887"
            ],
            [
             0.1111111111111111,
             "#46039f"
            ],
            [
             0.2222222222222222,
             "#7201a8"
            ],
            [
             0.3333333333333333,
             "#9c179e"
            ],
            [
             0.4444444444444444,
             "#bd3786"
            ],
            [
             0.5555555555555556,
             "#d8576b"
            ],
            [
             0.6666666666666666,
             "#ed7953"
            ],
            [
             0.7777777777777778,
             "#fb9f3a"
            ],
            [
             0.8888888888888888,
             "#fdca26"
            ],
            [
             1,
             "#f0f921"
            ]
           ],
           "sequentialminus": [
            [
             0,
             "#0d0887"
            ],
            [
             0.1111111111111111,
             "#46039f"
            ],
            [
             0.2222222222222222,
             "#7201a8"
            ],
            [
             0.3333333333333333,
             "#9c179e"
            ],
            [
             0.4444444444444444,
             "#bd3786"
            ],
            [
             0.5555555555555556,
             "#d8576b"
            ],
            [
             0.6666666666666666,
             "#ed7953"
            ],
            [
             0.7777777777777778,
             "#fb9f3a"
            ],
            [
             0.8888888888888888,
             "#fdca26"
            ],
            [
             1,
             "#f0f921"
            ]
           ]
          },
          "colorway": [
           "#636efa",
           "#EF553B",
           "#00cc96",
           "#ab63fa",
           "#FFA15A",
           "#19d3f3",
           "#FF6692",
           "#B6E880",
           "#FF97FF",
           "#FECB52"
          ],
          "font": {
           "color": "#2a3f5f"
          },
          "geo": {
           "bgcolor": "white",
           "lakecolor": "white",
           "landcolor": "#E5ECF6",
           "showlakes": true,
           "showland": true,
           "subunitcolor": "white"
          },
          "hoverlabel": {
           "align": "left"
          },
          "hovermode": "closest",
          "mapbox": {
           "style": "light"
          },
          "paper_bgcolor": "white",
          "plot_bgcolor": "#E5ECF6",
          "polar": {
           "angularaxis": {
            "gridcolor": "white",
            "linecolor": "white",
            "ticks": ""
           },
           "bgcolor": "#E5ECF6",
           "radialaxis": {
            "gridcolor": "white",
            "linecolor": "white",
            "ticks": ""
           }
          },
          "scene": {
           "xaxis": {
            "backgroundcolor": "#E5ECF6",
            "gridcolor": "white",
            "gridwidth": 2,
            "linecolor": "white",
            "showbackground": true,
            "ticks": "",
            "zerolinecolor": "white"
           },
           "yaxis": {
            "backgroundcolor": "#E5ECF6",
            "gridcolor": "white",
            "gridwidth": 2,
            "linecolor": "white",
            "showbackground": true,
            "ticks": "",
            "zerolinecolor": "white"
           },
           "zaxis": {
            "backgroundcolor": "#E5ECF6",
            "gridcolor": "white",
            "gridwidth": 2,
            "linecolor": "white",
            "showbackground": true,
            "ticks": "",
            "zerolinecolor": "white"
           }
          },
          "shapedefaults": {
           "line": {
            "color": "#2a3f5f"
           }
          },
          "ternary": {
           "aaxis": {
            "gridcolor": "white",
            "linecolor": "white",
            "ticks": ""
           },
           "baxis": {
            "gridcolor": "white",
            "linecolor": "white",
            "ticks": ""
           },
           "bgcolor": "#E5ECF6",
           "caxis": {
            "gridcolor": "white",
            "linecolor": "white",
            "ticks": ""
           }
          },
          "title": {
           "x": 0.05
          },
          "xaxis": {
           "automargin": true,
           "gridcolor": "white",
           "linecolor": "white",
           "ticks": "",
           "title": {
            "standoff": 15
           },
           "zerolinecolor": "white",
           "zerolinewidth": 2
          },
          "yaxis": {
           "automargin": true,
           "gridcolor": "white",
           "linecolor": "white",
           "ticks": "",
           "title": {
            "standoff": 15
           },
           "zerolinecolor": "white",
           "zerolinewidth": 2
          }
         }
        }
       }
      }
     },
     "metadata": {},
     "output_type": "display_data"
    },
    {
     "data": {
      "application/vnd.plotly.v1+json": {
       "config": {
        "plotlyServerURL": "https://plot.ly"
       },
       "data": [
        {
         "type": "histogram",
         "x": [
          -0.5360960651704684,
          -0.8997347216316036,
          -0.8962306777546006,
          -0.7677522877683091,
          -0.820410899013317,
          -0.7423327340920725,
          -0.7096258857298805,
          -0.7170566200664715,
          -0.44829589471044795,
          -0.9420413542557331,
          -0.5621403608983696,
          -0.7305912074254013,
          -0.8557213117781914,
          -0.8958442463331765,
          -0.9149295551018375,
          -0.3070151731126749,
          -0.6695918343891947,
          -0.902916144596381,
          -1,
          -0.9319140119196127,
          -0.9143681390805913,
          -0.9901784675898304,
          -0.8029819643136518,
          -0.6957337851119769,
          -0.8828371302340589,
          -0.6473135981925797,
          -0.508866092459142,
          -0.9780425521995261,
          -0.9562441691622275,
          -0.9316895529348154,
          -0.835502432364874,
          -0.9894354990289045,
          -0.9776805055008363,
          -0.8254353461073403,
          -0.8902199463921427,
          -0.4870818964408413,
          -0.9351722169234696,
          -0.5162907890077646,
          -0.7508387980764509,
          -0.8470915592377337,
          -0.8144083449116662,
          -0.662132721296081,
          -0.8836347232583408,
          -0.911826088389678,
          -0.665550136814532,
          -0.8695906358486505,
          -0.8107757239423592,
          -0.7197249462079008,
          -0.8553227365134922,
          -0.5391669133395303,
          -0.5052126080650262,
          -0.8713539588843607,
          -0.8434504312580159,
          -0.4093582920995931,
          -0.9377927932226897,
          -0.38319509999202284,
          -0.8997460704816032,
          -0.9294265631291548,
          -0.5992244061692351,
          -0.8699719739834508,
          -0.7366868408658901,
          -0.9316474448615106,
          -0.08775978982068555,
          -0.7934415333257032,
          -0.8414137217512825,
          -0.9521432187341977,
          -0.7526162902810973,
          -0.831422182945461,
          -0.8578628651872923,
          -0.6778065907357086,
          -0.7662199646961346,
          -0.6376115298721835,
          -0.9240072679458768,
          -0.33073333459174586,
          -0.8205650628544969,
          -0.9300656695715355,
          -0.7319274386129351,
          -0.6854807492468902,
          -0.9297909532265012,
          -0.7189702275564508,
          -0.9041980751839257,
          -0.9819134976348168,
          -0.751533334915624,
          -0.9912017584246152,
          -0.6722655540640964,
          -0.6187411583959186,
          -0.7940002064941786,
          -0.9737970079948041,
          -0.7154046923424061,
          -0.9310734717322078,
          -0.8070366210784282,
          -0.7843393324314568,
          -0.8636753048666826,
          -0.8786366849672764,
          -0.8179118974306739,
          -0.8738298448021821,
          -0.7289884479288906,
          -0.6830149651335893,
          -0.7332440723034945,
          -0.17131307672403778,
          -0.8772001766074528,
          -0.5579672173051208,
          -0.5651640425602669,
          -0.773977501926426,
          -0.5269047068156277,
          -0.31029787494507793,
          -0.7819722238890218,
          -0.9390744762070171,
          -0.8890830134008288,
          -0.7229358686325967,
          -0.9186341425805634,
          -0.5624380945275813,
          -0.5884238997897991,
          -0.6106515654156441,
          -0.6697280513675615,
          -0.989200890996983,
          -0.8041869734205246
         ]
        }
       ],
       "layout": {
        "template": {
         "data": {
          "bar": [
           {
            "error_x": {
             "color": "#2a3f5f"
            },
            "error_y": {
             "color": "#2a3f5f"
            },
            "marker": {
             "line": {
              "color": "#E5ECF6",
              "width": 0.5
             }
            },
            "type": "bar"
           }
          ],
          "barpolar": [
           {
            "marker": {
             "line": {
              "color": "#E5ECF6",
              "width": 0.5
             }
            },
            "type": "barpolar"
           }
          ],
          "carpet": [
           {
            "aaxis": {
             "endlinecolor": "#2a3f5f",
             "gridcolor": "white",
             "linecolor": "white",
             "minorgridcolor": "white",
             "startlinecolor": "#2a3f5f"
            },
            "baxis": {
             "endlinecolor": "#2a3f5f",
             "gridcolor": "white",
             "linecolor": "white",
             "minorgridcolor": "white",
             "startlinecolor": "#2a3f5f"
            },
            "type": "carpet"
           }
          ],
          "choropleth": [
           {
            "colorbar": {
             "outlinewidth": 0,
             "ticks": ""
            },
            "type": "choropleth"
           }
          ],
          "contour": [
           {
            "colorbar": {
             "outlinewidth": 0,
             "ticks": ""
            },
            "colorscale": [
             [
              0,
              "#0d0887"
             ],
             [
              0.1111111111111111,
              "#46039f"
             ],
             [
              0.2222222222222222,
              "#7201a8"
             ],
             [
              0.3333333333333333,
              "#9c179e"
             ],
             [
              0.4444444444444444,
              "#bd3786"
             ],
             [
              0.5555555555555556,
              "#d8576b"
             ],
             [
              0.6666666666666666,
              "#ed7953"
             ],
             [
              0.7777777777777778,
              "#fb9f3a"
             ],
             [
              0.8888888888888888,
              "#fdca26"
             ],
             [
              1,
              "#f0f921"
             ]
            ],
            "type": "contour"
           }
          ],
          "contourcarpet": [
           {
            "colorbar": {
             "outlinewidth": 0,
             "ticks": ""
            },
            "type": "contourcarpet"
           }
          ],
          "heatmap": [
           {
            "colorbar": {
             "outlinewidth": 0,
             "ticks": ""
            },
            "colorscale": [
             [
              0,
              "#0d0887"
             ],
             [
              0.1111111111111111,
              "#46039f"
             ],
             [
              0.2222222222222222,
              "#7201a8"
             ],
             [
              0.3333333333333333,
              "#9c179e"
             ],
             [
              0.4444444444444444,
              "#bd3786"
             ],
             [
              0.5555555555555556,
              "#d8576b"
             ],
             [
              0.6666666666666666,
              "#ed7953"
             ],
             [
              0.7777777777777778,
              "#fb9f3a"
             ],
             [
              0.8888888888888888,
              "#fdca26"
             ],
             [
              1,
              "#f0f921"
             ]
            ],
            "type": "heatmap"
           }
          ],
          "heatmapgl": [
           {
            "colorbar": {
             "outlinewidth": 0,
             "ticks": ""
            },
            "colorscale": [
             [
              0,
              "#0d0887"
             ],
             [
              0.1111111111111111,
              "#46039f"
             ],
             [
              0.2222222222222222,
              "#7201a8"
             ],
             [
              0.3333333333333333,
              "#9c179e"
             ],
             [
              0.4444444444444444,
              "#bd3786"
             ],
             [
              0.5555555555555556,
              "#d8576b"
             ],
             [
              0.6666666666666666,
              "#ed7953"
             ],
             [
              0.7777777777777778,
              "#fb9f3a"
             ],
             [
              0.8888888888888888,
              "#fdca26"
             ],
             [
              1,
              "#f0f921"
             ]
            ],
            "type": "heatmapgl"
           }
          ],
          "histogram": [
           {
            "marker": {
             "colorbar": {
              "outlinewidth": 0,
              "ticks": ""
             }
            },
            "type": "histogram"
           }
          ],
          "histogram2d": [
           {
            "colorbar": {
             "outlinewidth": 0,
             "ticks": ""
            },
            "colorscale": [
             [
              0,
              "#0d0887"
             ],
             [
              0.1111111111111111,
              "#46039f"
             ],
             [
              0.2222222222222222,
              "#7201a8"
             ],
             [
              0.3333333333333333,
              "#9c179e"
             ],
             [
              0.4444444444444444,
              "#bd3786"
             ],
             [
              0.5555555555555556,
              "#d8576b"
             ],
             [
              0.6666666666666666,
              "#ed7953"
             ],
             [
              0.7777777777777778,
              "#fb9f3a"
             ],
             [
              0.8888888888888888,
              "#fdca26"
             ],
             [
              1,
              "#f0f921"
             ]
            ],
            "type": "histogram2d"
           }
          ],
          "histogram2dcontour": [
           {
            "colorbar": {
             "outlinewidth": 0,
             "ticks": ""
            },
            "colorscale": [
             [
              0,
              "#0d0887"
             ],
             [
              0.1111111111111111,
              "#46039f"
             ],
             [
              0.2222222222222222,
              "#7201a8"
             ],
             [
              0.3333333333333333,
              "#9c179e"
             ],
             [
              0.4444444444444444,
              "#bd3786"
             ],
             [
              0.5555555555555556,
              "#d8576b"
             ],
             [
              0.6666666666666666,
              "#ed7953"
             ],
             [
              0.7777777777777778,
              "#fb9f3a"
             ],
             [
              0.8888888888888888,
              "#fdca26"
             ],
             [
              1,
              "#f0f921"
             ]
            ],
            "type": "histogram2dcontour"
           }
          ],
          "mesh3d": [
           {
            "colorbar": {
             "outlinewidth": 0,
             "ticks": ""
            },
            "type": "mesh3d"
           }
          ],
          "parcoords": [
           {
            "line": {
             "colorbar": {
              "outlinewidth": 0,
              "ticks": ""
             }
            },
            "type": "parcoords"
           }
          ],
          "pie": [
           {
            "automargin": true,
            "type": "pie"
           }
          ],
          "scatter": [
           {
            "marker": {
             "colorbar": {
              "outlinewidth": 0,
              "ticks": ""
             }
            },
            "type": "scatter"
           }
          ],
          "scatter3d": [
           {
            "line": {
             "colorbar": {
              "outlinewidth": 0,
              "ticks": ""
             }
            },
            "marker": {
             "colorbar": {
              "outlinewidth": 0,
              "ticks": ""
             }
            },
            "type": "scatter3d"
           }
          ],
          "scattercarpet": [
           {
            "marker": {
             "colorbar": {
              "outlinewidth": 0,
              "ticks": ""
             }
            },
            "type": "scattercarpet"
           }
          ],
          "scattergeo": [
           {
            "marker": {
             "colorbar": {
              "outlinewidth": 0,
              "ticks": ""
             }
            },
            "type": "scattergeo"
           }
          ],
          "scattergl": [
           {
            "marker": {
             "colorbar": {
              "outlinewidth": 0,
              "ticks": ""
             }
            },
            "type": "scattergl"
           }
          ],
          "scattermapbox": [
           {
            "marker": {
             "colorbar": {
              "outlinewidth": 0,
              "ticks": ""
             }
            },
            "type": "scattermapbox"
           }
          ],
          "scatterpolar": [
           {
            "marker": {
             "colorbar": {
              "outlinewidth": 0,
              "ticks": ""
             }
            },
            "type": "scatterpolar"
           }
          ],
          "scatterpolargl": [
           {
            "marker": {
             "colorbar": {
              "outlinewidth": 0,
              "ticks": ""
             }
            },
            "type": "scatterpolargl"
           }
          ],
          "scatterternary": [
           {
            "marker": {
             "colorbar": {
              "outlinewidth": 0,
              "ticks": ""
             }
            },
            "type": "scatterternary"
           }
          ],
          "surface": [
           {
            "colorbar": {
             "outlinewidth": 0,
             "ticks": ""
            },
            "colorscale": [
             [
              0,
              "#0d0887"
             ],
             [
              0.1111111111111111,
              "#46039f"
             ],
             [
              0.2222222222222222,
              "#7201a8"
             ],
             [
              0.3333333333333333,
              "#9c179e"
             ],
             [
              0.4444444444444444,
              "#bd3786"
             ],
             [
              0.5555555555555556,
              "#d8576b"
             ],
             [
              0.6666666666666666,
              "#ed7953"
             ],
             [
              0.7777777777777778,
              "#fb9f3a"
             ],
             [
              0.8888888888888888,
              "#fdca26"
             ],
             [
              1,
              "#f0f921"
             ]
            ],
            "type": "surface"
           }
          ],
          "table": [
           {
            "cells": {
             "fill": {
              "color": "#EBF0F8"
             },
             "line": {
              "color": "white"
             }
            },
            "header": {
             "fill": {
              "color": "#C8D4E3"
             },
             "line": {
              "color": "white"
             }
            },
            "type": "table"
           }
          ]
         },
         "layout": {
          "annotationdefaults": {
           "arrowcolor": "#2a3f5f",
           "arrowhead": 0,
           "arrowwidth": 1
          },
          "autotypenumbers": "strict",
          "coloraxis": {
           "colorbar": {
            "outlinewidth": 0,
            "ticks": ""
           }
          },
          "colorscale": {
           "diverging": [
            [
             0,
             "#8e0152"
            ],
            [
             0.1,
             "#c51b7d"
            ],
            [
             0.2,
             "#de77ae"
            ],
            [
             0.3,
             "#f1b6da"
            ],
            [
             0.4,
             "#fde0ef"
            ],
            [
             0.5,
             "#f7f7f7"
            ],
            [
             0.6,
             "#e6f5d0"
            ],
            [
             0.7,
             "#b8e186"
            ],
            [
             0.8,
             "#7fbc41"
            ],
            [
             0.9,
             "#4d9221"
            ],
            [
             1,
             "#276419"
            ]
           ],
           "sequential": [
            [
             0,
             "#0d0887"
            ],
            [
             0.1111111111111111,
             "#46039f"
            ],
            [
             0.2222222222222222,
             "#7201a8"
            ],
            [
             0.3333333333333333,
             "#9c179e"
            ],
            [
             0.4444444444444444,
             "#bd3786"
            ],
            [
             0.5555555555555556,
             "#d8576b"
            ],
            [
             0.6666666666666666,
             "#ed7953"
            ],
            [
             0.7777777777777778,
             "#fb9f3a"
            ],
            [
             0.8888888888888888,
             "#fdca26"
            ],
            [
             1,
             "#f0f921"
            ]
           ],
           "sequentialminus": [
            [
             0,
             "#0d0887"
            ],
            [
             0.1111111111111111,
             "#46039f"
            ],
            [
             0.2222222222222222,
             "#7201a8"
            ],
            [
             0.3333333333333333,
             "#9c179e"
            ],
            [
             0.4444444444444444,
             "#bd3786"
            ],
            [
             0.5555555555555556,
             "#d8576b"
            ],
            [
             0.6666666666666666,
             "#ed7953"
            ],
            [
             0.7777777777777778,
             "#fb9f3a"
            ],
            [
             0.8888888888888888,
             "#fdca26"
            ],
            [
             1,
             "#f0f921"
            ]
           ]
          },
          "colorway": [
           "#636efa",
           "#EF553B",
           "#00cc96",
           "#ab63fa",
           "#FFA15A",
           "#19d3f3",
           "#FF6692",
           "#B6E880",
           "#FF97FF",
           "#FECB52"
          ],
          "font": {
           "color": "#2a3f5f"
          },
          "geo": {
           "bgcolor": "white",
           "lakecolor": "white",
           "landcolor": "#E5ECF6",
           "showlakes": true,
           "showland": true,
           "subunitcolor": "white"
          },
          "hoverlabel": {
           "align": "left"
          },
          "hovermode": "closest",
          "mapbox": {
           "style": "light"
          },
          "paper_bgcolor": "white",
          "plot_bgcolor": "#E5ECF6",
          "polar": {
           "angularaxis": {
            "gridcolor": "white",
            "linecolor": "white",
            "ticks": ""
           },
           "bgcolor": "#E5ECF6",
           "radialaxis": {
            "gridcolor": "white",
            "linecolor": "white",
            "ticks": ""
           }
          },
          "scene": {
           "xaxis": {
            "backgroundcolor": "#E5ECF6",
            "gridcolor": "white",
            "gridwidth": 2,
            "linecolor": "white",
            "showbackground": true,
            "ticks": "",
            "zerolinecolor": "white"
           },
           "yaxis": {
            "backgroundcolor": "#E5ECF6",
            "gridcolor": "white",
            "gridwidth": 2,
            "linecolor": "white",
            "showbackground": true,
            "ticks": "",
            "zerolinecolor": "white"
           },
           "zaxis": {
            "backgroundcolor": "#E5ECF6",
            "gridcolor": "white",
            "gridwidth": 2,
            "linecolor": "white",
            "showbackground": true,
            "ticks": "",
            "zerolinecolor": "white"
           }
          },
          "shapedefaults": {
           "line": {
            "color": "#2a3f5f"
           }
          },
          "ternary": {
           "aaxis": {
            "gridcolor": "white",
            "linecolor": "white",
            "ticks": ""
           },
           "baxis": {
            "gridcolor": "white",
            "linecolor": "white",
            "ticks": ""
           },
           "bgcolor": "#E5ECF6",
           "caxis": {
            "gridcolor": "white",
            "linecolor": "white",
            "ticks": ""
           }
          },
          "title": {
           "x": 0.05
          },
          "xaxis": {
           "automargin": true,
           "gridcolor": "white",
           "linecolor": "white",
           "ticks": "",
           "title": {
            "standoff": 15
           },
           "zerolinecolor": "white",
           "zerolinewidth": 2
          },
          "yaxis": {
           "automargin": true,
           "gridcolor": "white",
           "linecolor": "white",
           "ticks": "",
           "title": {
            "standoff": 15
           },
           "zerolinecolor": "white",
           "zerolinewidth": 2
          }
         }
        }
       }
      }
     },
     "metadata": {},
     "output_type": "display_data"
    }
   ],
   "source": [
    "NUM_EARLY_DAY = 100\n",
    "arr_early_max_price = []\n",
    "for i in df_checked.keys():\n",
    "    temp_df = df_checked[i].iloc[:NUM_EARLY_DAY]\n",
    "    max_price = max(temp_df['price'])\n",
    "    pct_to_max = (max_price - temp_df['price'][0])/temp_df['price'][0]\n",
    "    if pct_to_max == 0:\n",
    "        min_price = min(temp_df['price'])\n",
    "        pct_to_min = (min_price - temp_df['price'][0])/temp_df['price'][0]\n",
    "        arr_early_max_price.append(pct_to_min)\n",
    "    else:\n",
    "        arr_early_max_price.append(pct_to_max)\n",
    "arr_early_max_price = np.array(arr_early_max_price)\n",
    "fig = go.Figure(data=[go.Histogram(x=arr_early_max_price[np.logical_and((arr_early_max_price > 0),(arr_early_max_price < 10))])])\n",
    "fig.show()\n",
    "\n",
    "fig = go.Figure(data=[go.Histogram(x=arr_early_max_price[arr_early_max_price <= 0])])\n",
    "fig.show()"
   ]
  },
  {
   "cell_type": "code",
   "execution_count": 16,
   "metadata": {},
   "outputs": [
    {
     "name": "stdout",
     "output_type": "stream",
     "text": [
      "probability coin down to > 30%:  0.14007308160779536\n",
      "probability coin up to > 100%:  0.46772228989037756\n",
      "probability coin up to > 200%:  0.32399512789281365\n",
      "probability coin up to > 800%:  0.12423873325213154\n"
     ]
    }
   ],
   "source": [
    "print('probability coin down to > 30%: ', len(arr_early_max_price[arr_early_max_price <= -0.3])/len(arr_early_max_price))\n",
    "print('probability coin up to > 100%: ', len(arr_early_max_price[arr_early_max_price >= 1])/len(arr_early_max_price))\n",
    "print('probability coin up to > 200%: ', len(arr_early_max_price[arr_early_max_price >= 2])/len(arr_early_max_price))\n",
    "print('probability coin up to > 800%: ', len(arr_early_max_price[arr_early_max_price >= 8])/len(arr_early_max_price))"
   ]
  },
  {
   "cell_type": "markdown",
   "metadata": {},
   "source": [
    "# Steady Coin Analysis"
   ]
  },
  {
   "cell_type": "code",
   "execution_count": null,
   "metadata": {},
   "outputs": [],
   "source": [
    "WINDOW_BEFORE = 30\n",
    "arr_pct_change = []\n",
    "for i in df_data_pump_steady.index:\n",
    "    coin = df_data_pump_steady['coin'][i]\n",
    "    temp_df = df_checked[coin]\n",
    "    base_date = df_data_pump_steady['base_date'][i]\n",
    "    listing_date = df_data_pump_steady['date_listing'][i]\n",
    "    temp_df = temp_df[temp_df['snapped_at'] > base_date-pd.Timedelta(WINDOW_BEFORE, 'd')]\n",
    "    temp_df = temp_df[temp_df['snapped_at'] <= base_date]\n",
    "    if len(temp_df) == WINDOW_BEFORE:\n",
    "        arr_pct_change.append(temp_df['pct_change'].values.tolist())"
   ]
  },
  {
   "cell_type": "code",
   "execution_count": null,
   "metadata": {},
   "outputs": [
    {
     "data": {
      "text/plain": [
       "level_0                          45\n",
       "index                            56\n",
       "coin                         avinoc\n",
       "base_date       2019-09-03 00:00:00\n",
       "base_price              3.01404e-05\n",
       "max_date        2019-09-28 00:00:00\n",
       "max_price                 0.0018999\n",
       "pct_change                  62.0352\n",
       "pump_length        25 days 00:00:00\n",
       "date_listing    2018-08-10 00:00:00\n",
       "Name: 26, dtype: object"
      ]
     },
     "execution_count": 171,
     "metadata": {},
     "output_type": "execute_result"
    }
   ],
   "source": [
    "df_data_pump_steady.iloc[26]"
   ]
  },
  {
   "cell_type": "code",
   "execution_count": null,
   "metadata": {},
   "outputs": [
    {
     "data": {
      "image/png": "[encoded data removed]",
      "text/plain": [
       "<Figure size 1332x756 with 30 Axes>"
      ]
     },
     "metadata": {
      "needs_background": "light"
     },
     "output_type": "display_data"
    }
   ],
   "source": [
    "n_x = 6\n",
    "n_y = 5\n",
    "fig, axs = plt.subplots(n_x, n_y)\n",
    "for i in range(len(arr_pct_change[0])):\n",
    "    x_ax = int(i/n_y)\n",
    "    y_ax = i%n_y\n",
    "    axs[x_ax, y_ax].hist([arr_pct_change[j][i] for j in range(len(arr_pct_change))])\n",
    "    axs[x_ax, y_ax].set_title('d-%i' %i)\n",
    "\n",
    "fig.set_size_inches(18.5, 10.5)\n"
   ]
  },
  {
   "cell_type": "code",
   "execution_count": null,
   "metadata": {},
   "outputs": [
    {
     "ename": "IndexError",
     "evalue": "list index out of range",
     "output_type": "error",
     "traceback": [
      "\u001b[1;31m---------------------------------------------------------------------------\u001b[0m",
      "\u001b[1;31mIndexError\u001b[0m                                Traceback (most recent call last)",
      "\u001b[1;32m<ipython-input-159-e2c51f2fdbd5>\u001b[0m in \u001b[0;36m<module>\u001b[1;34m\u001b[0m\n\u001b[1;32m----> 1\u001b[1;33m \u001b[1;33m[\u001b[0m\u001b[0marr_pct_change\u001b[0m\u001b[1;33m[\u001b[0m\u001b[0mj\u001b[0m\u001b[1;33m]\u001b[0m\u001b[1;33m[\u001b[0m\u001b[0mi\u001b[0m\u001b[1;33m]\u001b[0m \u001b[1;32mfor\u001b[0m \u001b[0mj\u001b[0m \u001b[1;32min\u001b[0m \u001b[0mrange\u001b[0m\u001b[1;33m(\u001b[0m\u001b[0mlen\u001b[0m\u001b[1;33m(\u001b[0m\u001b[0marr_pct_change\u001b[0m\u001b[1;33m)\u001b[0m\u001b[1;33m)\u001b[0m\u001b[1;33m]\u001b[0m\u001b[1;33m\u001b[0m\u001b[1;33m\u001b[0m\u001b[0m\n\u001b[0m",
      "\u001b[1;32m<ipython-input-159-e2c51f2fdbd5>\u001b[0m in \u001b[0;36m<listcomp>\u001b[1;34m(.0)\u001b[0m\n\u001b[1;32m----> 1\u001b[1;33m \u001b[1;33m[\u001b[0m\u001b[0marr_pct_change\u001b[0m\u001b[1;33m[\u001b[0m\u001b[0mj\u001b[0m\u001b[1;33m]\u001b[0m\u001b[1;33m[\u001b[0m\u001b[0mi\u001b[0m\u001b[1;33m]\u001b[0m \u001b[1;32mfor\u001b[0m \u001b[0mj\u001b[0m \u001b[1;32min\u001b[0m \u001b[0mrange\u001b[0m\u001b[1;33m(\u001b[0m\u001b[0mlen\u001b[0m\u001b[1;33m(\u001b[0m\u001b[0marr_pct_change\u001b[0m\u001b[1;33m)\u001b[0m\u001b[1;33m)\u001b[0m\u001b[1;33m]\u001b[0m\u001b[1;33m\u001b[0m\u001b[1;33m\u001b[0m\u001b[0m\n\u001b[0m",
      "\u001b[1;31mIndexError\u001b[0m: list index out of range"
     ]
    }
   ],
   "source": [
    "[arr_pct_change[j][i] for j in range(len(arr_pct_change))]"
   ]
  },
  {
   "cell_type": "code",
   "execution_count": null,
   "metadata": {},
   "outputs": [
    {
     "name": "stdout",
     "output_type": "stream",
     "text": [
      "26\n",
      "27\n",
      "28\n",
      "47\n",
      "51\n",
      "70\n",
      "78\n",
      "136\n",
      "189\n",
      "210\n",
      "226\n",
      "232\n",
      "251\n",
      "267\n",
      "284\n"
     ]
    }
   ],
   "source": [
    "a = []\n",
    "for j in range(len(arr_pct_change)):\n",
    "    # a.append(arr_pct_change[j][i])\n",
    "    if len(arr_pct_change[j]) != 30:\n",
    "        print(j)"
   ]
  },
  {
   "cell_type": "code",
   "execution_count": null,
   "metadata": {},
   "outputs": [
    {
     "data": {
      "text/plain": [
       "9"
      ]
     },
     "execution_count": 166,
     "metadata": {},
     "output_type": "execute_result"
    }
   ],
   "source": [
    "i"
   ]
  },
  {
   "cell_type": "code",
   "execution_count": null,
   "metadata": {},
   "outputs": [
    {
     "data": {
      "text/plain": [
       "[-0.9849227072387,\n",
       " 0.0,\n",
       " 298.3720292632238,\n",
       " 0.0,\n",
       " 0.985288675049774,\n",
       " 0.0054527193081586045,\n",
       " -0.9958141384934694,\n",
       " 0.0,\n",
       " -0.006313539289696135]"
      ]
     },
     "execution_count": 165,
     "metadata": {},
     "output_type": "execute_result"
    }
   ],
   "source": [
    "arr_pct_change[j]"
   ]
  },
  {
   "cell_type": "code",
   "execution_count": 27,
   "metadata": {},
   "outputs": [],
   "source": [
    "df = pd.read_csv('pump_lessthan30.csv')"
   ]
  },
  {
   "cell_type": "code",
   "execution_count": 29,
   "metadata": {},
   "outputs": [
    {
     "data": {
      "text/plain": [
       "0     2022-06-09\n",
       "1     2021-07-21\n",
       "2     2021-05-29\n",
       "3     2021-10-13\n",
       "4     2021-01-28\n",
       "         ...    \n",
       "95    2021-11-09\n",
       "96    2021-09-22\n",
       "97    2015-02-06\n",
       "98    2021-11-22\n",
       "99    2019-08-24\n",
       "Name: base_date, Length: 100, dtype: object"
      ]
     },
     "execution_count": 29,
     "metadata": {},
     "output_type": "execute_result"
    }
   ],
   "source": [
    "df['base_date']"
   ]
  },
  {
   "cell_type": "code",
   "execution_count": null,
   "metadata": {},
   "outputs": [],
   "source": []
  }
 ],
 "metadata": {
  "kernelspec": {
   "display_name": "Python 3.7.6 ('base')",
   "language": "python",
   "name": "python3"
  },
  "language_info": {
   "codemirror_mode": {
    "name": "ipython",
    "version": 3
   },
   "file_extension": ".py",
   "mimetype": "text/x-python",
   "name": "python",
   "nbconvert_exporter": "python",
   "pygments_lexer": "ipython3",
   "version": "3.7.6"
  },
  "orig_nbformat": 4,
  "vscode": {
   "interpreter": {
    "hash": "ebda45beb80756052cac5fc35cc43e06ce6409a558745ebee29bebc2013f1d43"
   }
  }
 },
 "nbformat": 4,
 "nbformat_minor": 2
}
