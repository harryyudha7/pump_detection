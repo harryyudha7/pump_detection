{
 "cells": [
  {
   "cell_type": "code",
   "execution_count": null,
   "metadata": {},
   "outputs": [],
   "source": [
    "import pandas as pd\n",
    "import numpy as np\n",
    "import mysql.connector\n",
    "from mysql.connector import Error\n",
    "from datetime import datetime, timedelta"
   ]
  },
  {
   "cell_type": "code",
   "execution_count": 2,
   "metadata": {},
   "outputs": [],
   "source": [
    "def create_db_connection(host_name, user_name, user_password, db_name):\n",
    "    connection = None\n",
    "    try:\n",
    "        connection = mysql.connector.connect(\n",
    "            host=host_name,\n",
    "            user=user_name,\n",
    "            passwd=user_password,\n",
    "            database=db_name\n",
    "        )\n",
    "        print(\"MySQL Database connection successful\")\n",
    "    except Error as err:\n",
    "        print(f\"Error: '{err}'\")\n",
    "\n",
    "    return connection"
   ]
  },
  {
   "cell_type": "code",
   "execution_count": 16,
   "metadata": {},
   "outputs": [],
   "source": [
    "def execute_query(connection, query, varlist=None):\n",
    "    cursor = connection.cursor(buffered=True)\n",
    "    try:\n",
    "        if varlist is None:\n",
    "            cursor.execute(query)\n",
    "        else:\n",
    "            cursor.execute(query, varlist)\n",
    "        connection.commit()\n",
    "        print(\"Query successful\")\n",
    "        return cursor.fetchall()\n",
    "    except Error as err:\n",
    "        print(f\"Error: '{err}'\")\n",
    "\n",
    "def executemany_query(connection, query, varlist=None):\n",
    "    cursor = connection.cursor()\n",
    "    try:\n",
    "        if varlist is None:\n",
    "            cursor.executemany(query)\n",
    "        else:\n",
    "            cursor.executemany(query, varlist)\n",
    "        connection.commit()\n",
    "        print(\"Query successful\")\n",
    "    except Error as err:\n",
    "        print(f\"Error: '{err}'\")"
   ]
  },
  {
   "cell_type": "code",
   "execution_count": 17,
   "metadata": {},
   "outputs": [
    {
     "name": "stdout",
     "output_type": "stream",
     "text": [
      "MySQL Database connection successful\n"
     ]
    }
   ],
   "source": [
    "pw = '27111998'\n",
    "db = 'crypto_db'\n",
    "connection = create_db_connection(\"localhost\", \"root\", pw, db)"
   ]
  },
  {
   "cell_type": "code",
   "execution_count": 42,
   "metadata": {},
   "outputs": [
    {
     "name": "stdout",
     "output_type": "stream",
     "text": [
      "Query successful\n"
     ]
    }
   ],
   "source": [
    "query = 'SELECT * FROM btcusdt ORDER BY timestamp ASC'\n",
    "res = execute_query(connection,query)\n",
    "# cursor.execute(query)\n"
   ]
  },
  {
   "cell_type": "code",
   "execution_count": 50,
   "metadata": {},
   "outputs": [
    {
     "data": {
      "text/html": [
       "<div>\n",
       "<style scoped>\n",
       "    .dataframe tbody tr th:only-of-type {\n",
       "        vertical-align: middle;\n",
       "    }\n",
       "\n",
       "    .dataframe tbody tr th {\n",
       "        vertical-align: top;\n",
       "    }\n",
       "\n",
       "    .dataframe thead th {\n",
       "        text-align: right;\n",
       "    }\n",
       "</style>\n",
       "<table border=\"1\" class=\"dataframe\">\n",
       "  <thead>\n",
       "    <tr style=\"text-align: right;\">\n",
       "      <th></th>\n",
       "      <th>timestamp</th>\n",
       "      <th>open</th>\n",
       "      <th>high</th>\n",
       "      <th>low</th>\n",
       "      <th>close</th>\n",
       "      <th>volume</th>\n",
       "    </tr>\n",
       "  </thead>\n",
       "  <tbody>\n",
       "    <tr>\n",
       "      <th>0</th>\n",
       "      <td>1502942400000</td>\n",
       "      <td>4261.48</td>\n",
       "      <td>4313.62</td>\n",
       "      <td>4261.32</td>\n",
       "      <td>4308.83</td>\n",
       "      <td>47.181000</td>\n",
       "    </tr>\n",
       "    <tr>\n",
       "      <th>1</th>\n",
       "      <td>1502946000000</td>\n",
       "      <td>4308.83</td>\n",
       "      <td>4328.69</td>\n",
       "      <td>4291.37</td>\n",
       "      <td>4315.32</td>\n",
       "      <td>23.234900</td>\n",
       "    </tr>\n",
       "    <tr>\n",
       "      <th>2</th>\n",
       "      <td>1502949600000</td>\n",
       "      <td>4330.29</td>\n",
       "      <td>4345.45</td>\n",
       "      <td>4309.37</td>\n",
       "      <td>4324.35</td>\n",
       "      <td>7.229690</td>\n",
       "    </tr>\n",
       "    <tr>\n",
       "      <th>3</th>\n",
       "      <td>1502953200000</td>\n",
       "      <td>4316.62</td>\n",
       "      <td>4349.99</td>\n",
       "      <td>4287.41</td>\n",
       "      <td>4349.99</td>\n",
       "      <td>4.443250</td>\n",
       "    </tr>\n",
       "    <tr>\n",
       "      <th>4</th>\n",
       "      <td>1502956800000</td>\n",
       "      <td>4333.32</td>\n",
       "      <td>4377.85</td>\n",
       "      <td>4333.32</td>\n",
       "      <td>4360.69</td>\n",
       "      <td>0.972807</td>\n",
       "    </tr>\n",
       "    <tr>\n",
       "      <th>...</th>\n",
       "      <td>...</td>\n",
       "      <td>...</td>\n",
       "      <td>...</td>\n",
       "      <td>...</td>\n",
       "      <td>...</td>\n",
       "      <td>...</td>\n",
       "    </tr>\n",
       "    <tr>\n",
       "      <th>56932</th>\n",
       "      <td>1708156800000</td>\n",
       "      <td>51911.30</td>\n",
       "      <td>51911.30</td>\n",
       "      <td>51702.40</td>\n",
       "      <td>51740.00</td>\n",
       "      <td>837.773000</td>\n",
       "    </tr>\n",
       "    <tr>\n",
       "      <th>56933</th>\n",
       "      <td>1708160400000</td>\n",
       "      <td>51740.00</td>\n",
       "      <td>51795.80</td>\n",
       "      <td>51651.50</td>\n",
       "      <td>51676.40</td>\n",
       "      <td>931.136000</td>\n",
       "    </tr>\n",
       "    <tr>\n",
       "      <th>56934</th>\n",
       "      <td>1708164000000</td>\n",
       "      <td>51676.40</td>\n",
       "      <td>51729.20</td>\n",
       "      <td>51500.00</td>\n",
       "      <td>51721.70</td>\n",
       "      <td>1322.860000</td>\n",
       "    </tr>\n",
       "    <tr>\n",
       "      <th>56935</th>\n",
       "      <td>1708167600000</td>\n",
       "      <td>51721.70</td>\n",
       "      <td>51800.00</td>\n",
       "      <td>51677.20</td>\n",
       "      <td>51690.50</td>\n",
       "      <td>719.365000</td>\n",
       "    </tr>\n",
       "    <tr>\n",
       "      <th>56936</th>\n",
       "      <td>1708171200000</td>\n",
       "      <td>51690.50</td>\n",
       "      <td>51696.00</td>\n",
       "      <td>51631.10</td>\n",
       "      <td>51690.80</td>\n",
       "      <td>284.746000</td>\n",
       "    </tr>\n",
       "  </tbody>\n",
       "</table>\n",
       "<p>56881 rows × 6 columns</p>\n",
       "</div>"
      ],
      "text/plain": [
       "           timestamp      open      high       low     close       volume\n",
       "0      1502942400000   4261.48   4313.62   4261.32   4308.83    47.181000\n",
       "1      1502946000000   4308.83   4328.69   4291.37   4315.32    23.234900\n",
       "2      1502949600000   4330.29   4345.45   4309.37   4324.35     7.229690\n",
       "3      1502953200000   4316.62   4349.99   4287.41   4349.99     4.443250\n",
       "4      1502956800000   4333.32   4377.85   4333.32   4360.69     0.972807\n",
       "...              ...       ...       ...       ...       ...          ...\n",
       "56932  1708156800000  51911.30  51911.30  51702.40  51740.00   837.773000\n",
       "56933  1708160400000  51740.00  51795.80  51651.50  51676.40   931.136000\n",
       "56934  1708164000000  51676.40  51729.20  51500.00  51721.70  1322.860000\n",
       "56935  1708167600000  51721.70  51800.00  51677.20  51690.50   719.365000\n",
       "56936  1708171200000  51690.50  51696.00  51631.10  51690.80   284.746000\n",
       "\n",
       "[56881 rows x 6 columns]"
      ]
     },
     "execution_count": 50,
     "metadata": {},
     "output_type": "execute_result"
    }
   ],
   "source": [
    "df = pd.DataFrame(res,columns=['timestamp', 'open','high', 'low','close','volume'])\n",
    "df = df.drop_duplicates()\n",
    "df"
   ]
  },
  {
   "cell_type": "code",
   "execution_count": 54,
   "metadata": {},
   "outputs": [
    {
     "data": {
      "text/html": [
       "<div>\n",
       "<style scoped>\n",
       "    .dataframe tbody tr th:only-of-type {\n",
       "        vertical-align: middle;\n",
       "    }\n",
       "\n",
       "    .dataframe tbody tr th {\n",
       "        vertical-align: top;\n",
       "    }\n",
       "\n",
       "    .dataframe thead th {\n",
       "        text-align: right;\n",
       "    }\n",
       "</style>\n",
       "<table border=\"1\" class=\"dataframe\">\n",
       "  <thead>\n",
       "    <tr style=\"text-align: right;\">\n",
       "      <th></th>\n",
       "      <th>timestamp</th>\n",
       "      <th>open</th>\n",
       "      <th>high</th>\n",
       "      <th>low</th>\n",
       "      <th>close</th>\n",
       "      <th>volume</th>\n",
       "    </tr>\n",
       "  </thead>\n",
       "  <tbody>\n",
       "    <tr>\n",
       "      <th>0</th>\n",
       "      <td>2017-08-17 04:00:00</td>\n",
       "      <td>4261.48</td>\n",
       "      <td>4313.62</td>\n",
       "      <td>4261.32</td>\n",
       "      <td>4308.83</td>\n",
       "      <td>47.181000</td>\n",
       "    </tr>\n",
       "    <tr>\n",
       "      <th>1</th>\n",
       "      <td>2017-08-17 05:00:00</td>\n",
       "      <td>4308.83</td>\n",
       "      <td>4328.69</td>\n",
       "      <td>4291.37</td>\n",
       "      <td>4315.32</td>\n",
       "      <td>23.234900</td>\n",
       "    </tr>\n",
       "    <tr>\n",
       "      <th>2</th>\n",
       "      <td>2017-08-17 06:00:00</td>\n",
       "      <td>4330.29</td>\n",
       "      <td>4345.45</td>\n",
       "      <td>4309.37</td>\n",
       "      <td>4324.35</td>\n",
       "      <td>7.229690</td>\n",
       "    </tr>\n",
       "    <tr>\n",
       "      <th>3</th>\n",
       "      <td>2017-08-17 07:00:00</td>\n",
       "      <td>4316.62</td>\n",
       "      <td>4349.99</td>\n",
       "      <td>4287.41</td>\n",
       "      <td>4349.99</td>\n",
       "      <td>4.443250</td>\n",
       "    </tr>\n",
       "    <tr>\n",
       "      <th>4</th>\n",
       "      <td>2017-08-17 08:00:00</td>\n",
       "      <td>4333.32</td>\n",
       "      <td>4377.85</td>\n",
       "      <td>4333.32</td>\n",
       "      <td>4360.69</td>\n",
       "      <td>0.972807</td>\n",
       "    </tr>\n",
       "    <tr>\n",
       "      <th>5</th>\n",
       "      <td>2017-08-17 09:00:00</td>\n",
       "      <td>4360.00</td>\n",
       "      <td>4445.78</td>\n",
       "      <td>4360.00</td>\n",
       "      <td>4444.00</td>\n",
       "      <td>10.763600</td>\n",
       "    </tr>\n",
       "    <tr>\n",
       "      <th>6</th>\n",
       "      <td>2017-08-17 10:00:00</td>\n",
       "      <td>4441.10</td>\n",
       "      <td>4470.00</td>\n",
       "      <td>4399.81</td>\n",
       "      <td>4460.00</td>\n",
       "      <td>24.865400</td>\n",
       "    </tr>\n",
       "    <tr>\n",
       "      <th>7</th>\n",
       "      <td>2017-08-17 11:00:00</td>\n",
       "      <td>4460.00</td>\n",
       "      <td>4485.39</td>\n",
       "      <td>4427.30</td>\n",
       "      <td>4427.30</td>\n",
       "      <td>27.018100</td>\n",
       "    </tr>\n",
       "    <tr>\n",
       "      <th>8</th>\n",
       "      <td>2017-08-17 12:00:00</td>\n",
       "      <td>4436.06</td>\n",
       "      <td>4449.56</td>\n",
       "      <td>4411.00</td>\n",
       "      <td>4411.00</td>\n",
       "      <td>23.032400</td>\n",
       "    </tr>\n",
       "    <tr>\n",
       "      <th>9</th>\n",
       "      <td>2017-08-17 13:00:00</td>\n",
       "      <td>4411.00</td>\n",
       "      <td>4459.00</td>\n",
       "      <td>4411.00</td>\n",
       "      <td>4459.00</td>\n",
       "      <td>31.312400</td>\n",
       "    </tr>\n",
       "    <tr>\n",
       "      <th>10</th>\n",
       "      <td>2017-08-17 14:00:00</td>\n",
       "      <td>4459.00</td>\n",
       "      <td>4485.39</td>\n",
       "      <td>4435.93</td>\n",
       "      <td>4470.82</td>\n",
       "      <td>51.735900</td>\n",
       "    </tr>\n",
       "    <tr>\n",
       "      <th>11</th>\n",
       "      <td>2017-08-17 15:00:00</td>\n",
       "      <td>4470.82</td>\n",
       "      <td>4470.82</td>\n",
       "      <td>4333.42</td>\n",
       "      <td>4352.34</td>\n",
       "      <td>68.481300</td>\n",
       "    </tr>\n",
       "    <tr>\n",
       "      <th>12</th>\n",
       "      <td>2017-08-17 16:00:00</td>\n",
       "      <td>4352.33</td>\n",
       "      <td>4354.35</td>\n",
       "      <td>4255.30</td>\n",
       "      <td>4354.18</td>\n",
       "      <td>67.458800</td>\n",
       "    </tr>\n",
       "    <tr>\n",
       "      <th>13</th>\n",
       "      <td>2017-08-17 17:00:00</td>\n",
       "      <td>4354.18</td>\n",
       "      <td>4354.84</td>\n",
       "      <td>4235.45</td>\n",
       "      <td>4289.24</td>\n",
       "      <td>59.664900</td>\n",
       "    </tr>\n",
       "    <tr>\n",
       "      <th>14</th>\n",
       "      <td>2017-08-17 18:00:00</td>\n",
       "      <td>4289.24</td>\n",
       "      <td>4302.45</td>\n",
       "      <td>4218.68</td>\n",
       "      <td>4256.97</td>\n",
       "      <td>51.275200</td>\n",
       "    </tr>\n",
       "    <tr>\n",
       "      <th>15</th>\n",
       "      <td>2017-08-17 19:00:00</td>\n",
       "      <td>4241.91</td>\n",
       "      <td>4335.30</td>\n",
       "      <td>4200.74</td>\n",
       "      <td>4325.23</td>\n",
       "      <td>46.710800</td>\n",
       "    </tr>\n",
       "    <tr>\n",
       "      <th>16</th>\n",
       "      <td>2017-08-17 20:00:00</td>\n",
       "      <td>4307.56</td>\n",
       "      <td>4354.84</td>\n",
       "      <td>4258.56</td>\n",
       "      <td>4346.74</td>\n",
       "      <td>48.975500</td>\n",
       "    </tr>\n",
       "    <tr>\n",
       "      <th>17</th>\n",
       "      <td>2017-08-17 21:00:00</td>\n",
       "      <td>4346.74</td>\n",
       "      <td>4369.69</td>\n",
       "      <td>4309.23</td>\n",
       "      <td>4333.55</td>\n",
       "      <td>61.773000</td>\n",
       "    </tr>\n",
       "    <tr>\n",
       "      <th>18</th>\n",
       "      <td>2017-08-17 22:00:00</td>\n",
       "      <td>4333.55</td>\n",
       "      <td>4359.13</td>\n",
       "      <td>4310.00</td>\n",
       "      <td>4336.80</td>\n",
       "      <td>57.376100</td>\n",
       "    </tr>\n",
       "    <tr>\n",
       "      <th>19</th>\n",
       "      <td>2017-08-17 23:00:00</td>\n",
       "      <td>4313.39</td>\n",
       "      <td>4337.38</td>\n",
       "      <td>4280.82</td>\n",
       "      <td>4285.08</td>\n",
       "      <td>81.645300</td>\n",
       "    </tr>\n",
       "    <tr>\n",
       "      <th>20</th>\n",
       "      <td>2017-08-18 00:00:00</td>\n",
       "      <td>4285.08</td>\n",
       "      <td>4340.62</td>\n",
       "      <td>4228.76</td>\n",
       "      <td>4286.53</td>\n",
       "      <td>82.435500</td>\n",
       "    </tr>\n",
       "    <tr>\n",
       "      <th>21</th>\n",
       "      <td>2017-08-18 01:00:00</td>\n",
       "      <td>4269.36</td>\n",
       "      <td>4269.36</td>\n",
       "      <td>4134.61</td>\n",
       "      <td>4243.59</td>\n",
       "      <td>75.684900</td>\n",
       "    </tr>\n",
       "    <tr>\n",
       "      <th>22</th>\n",
       "      <td>2017-08-18 02:00:00</td>\n",
       "      <td>4251.95</td>\n",
       "      <td>4298.64</td>\n",
       "      <td>4234.00</td>\n",
       "      <td>4267.59</td>\n",
       "      <td>54.071300</td>\n",
       "    </tr>\n",
       "    <tr>\n",
       "      <th>23</th>\n",
       "      <td>2017-08-18 03:00:00</td>\n",
       "      <td>4244.77</td>\n",
       "      <td>4308.70</td>\n",
       "      <td>4234.00</td>\n",
       "      <td>4292.39</td>\n",
       "      <td>64.001400</td>\n",
       "    </tr>\n",
       "    <tr>\n",
       "      <th>24</th>\n",
       "      <td>2017-08-18 04:00:00</td>\n",
       "      <td>4292.39</td>\n",
       "      <td>4292.39</td>\n",
       "      <td>4234.43</td>\n",
       "      <td>4287.92</td>\n",
       "      <td>50.797500</td>\n",
       "    </tr>\n",
       "  </tbody>\n",
       "</table>\n",
       "</div>"
      ],
      "text/plain": [
       "             timestamp     open     high      low    close     volume\n",
       "0  2017-08-17 04:00:00  4261.48  4313.62  4261.32  4308.83  47.181000\n",
       "1  2017-08-17 05:00:00  4308.83  4328.69  4291.37  4315.32  23.234900\n",
       "2  2017-08-17 06:00:00  4330.29  4345.45  4309.37  4324.35   7.229690\n",
       "3  2017-08-17 07:00:00  4316.62  4349.99  4287.41  4349.99   4.443250\n",
       "4  2017-08-17 08:00:00  4333.32  4377.85  4333.32  4360.69   0.972807\n",
       "5  2017-08-17 09:00:00  4360.00  4445.78  4360.00  4444.00  10.763600\n",
       "6  2017-08-17 10:00:00  4441.10  4470.00  4399.81  4460.00  24.865400\n",
       "7  2017-08-17 11:00:00  4460.00  4485.39  4427.30  4427.30  27.018100\n",
       "8  2017-08-17 12:00:00  4436.06  4449.56  4411.00  4411.00  23.032400\n",
       "9  2017-08-17 13:00:00  4411.00  4459.00  4411.00  4459.00  31.312400\n",
       "10 2017-08-17 14:00:00  4459.00  4485.39  4435.93  4470.82  51.735900\n",
       "11 2017-08-17 15:00:00  4470.82  4470.82  4333.42  4352.34  68.481300\n",
       "12 2017-08-17 16:00:00  4352.33  4354.35  4255.30  4354.18  67.458800\n",
       "13 2017-08-17 17:00:00  4354.18  4354.84  4235.45  4289.24  59.664900\n",
       "14 2017-08-17 18:00:00  4289.24  4302.45  4218.68  4256.97  51.275200\n",
       "15 2017-08-17 19:00:00  4241.91  4335.30  4200.74  4325.23  46.710800\n",
       "16 2017-08-17 20:00:00  4307.56  4354.84  4258.56  4346.74  48.975500\n",
       "17 2017-08-17 21:00:00  4346.74  4369.69  4309.23  4333.55  61.773000\n",
       "18 2017-08-17 22:00:00  4333.55  4359.13  4310.00  4336.80  57.376100\n",
       "19 2017-08-17 23:00:00  4313.39  4337.38  4280.82  4285.08  81.645300\n",
       "20 2017-08-18 00:00:00  4285.08  4340.62  4228.76  4286.53  82.435500\n",
       "21 2017-08-18 01:00:00  4269.36  4269.36  4134.61  4243.59  75.684900\n",
       "22 2017-08-18 02:00:00  4251.95  4298.64  4234.00  4267.59  54.071300\n",
       "23 2017-08-18 03:00:00  4244.77  4308.70  4234.00  4292.39  64.001400\n",
       "24 2017-08-18 04:00:00  4292.39  4292.39  4234.43  4287.92  50.797500"
      ]
     },
     "execution_count": 54,
     "metadata": {},
     "output_type": "execute_result"
    }
   ],
   "source": [
    "df['timestamp'] = pd.to_datetime(df['timestamp'], unit='ms')\n",
    "df.head(25)"
   ]
  },
  {
   "cell_type": "code",
   "execution_count": 83,
   "metadata": {},
   "outputs": [
    {
     "data": {
      "text/html": [
       "<div>\n",
       "<style scoped>\n",
       "    .dataframe tbody tr th:only-of-type {\n",
       "        vertical-align: middle;\n",
       "    }\n",
       "\n",
       "    .dataframe tbody tr th {\n",
       "        vertical-align: top;\n",
       "    }\n",
       "\n",
       "    .dataframe thead th {\n",
       "        text-align: right;\n",
       "    }\n",
       "</style>\n",
       "<table border=\"1\" class=\"dataframe\">\n",
       "  <thead>\n",
       "    <tr style=\"text-align: right;\">\n",
       "      <th></th>\n",
       "      <th>open</th>\n",
       "      <th>high</th>\n",
       "      <th>low</th>\n",
       "      <th>close</th>\n",
       "    </tr>\n",
       "    <tr>\n",
       "      <th>timestamp</th>\n",
       "      <th></th>\n",
       "      <th></th>\n",
       "      <th></th>\n",
       "      <th></th>\n",
       "    </tr>\n",
       "  </thead>\n",
       "  <tbody>\n",
       "    <tr>\n",
       "      <th>2017-08-17</th>\n",
       "      <td>4261.48</td>\n",
       "      <td>4485.39</td>\n",
       "      <td>4200.74</td>\n",
       "      <td>4285.08</td>\n",
       "    </tr>\n",
       "    <tr>\n",
       "      <th>2017-08-18</th>\n",
       "      <td>4285.08</td>\n",
       "      <td>4371.52</td>\n",
       "      <td>3938.77</td>\n",
       "      <td>4108.37</td>\n",
       "    </tr>\n",
       "    <tr>\n",
       "      <th>2017-08-19</th>\n",
       "      <td>4108.37</td>\n",
       "      <td>4184.69</td>\n",
       "      <td>3850.00</td>\n",
       "      <td>4139.98</td>\n",
       "    </tr>\n",
       "    <tr>\n",
       "      <th>2017-08-20</th>\n",
       "      <td>4120.98</td>\n",
       "      <td>4211.08</td>\n",
       "      <td>4032.62</td>\n",
       "      <td>4086.29</td>\n",
       "    </tr>\n",
       "    <tr>\n",
       "      <th>2017-08-21</th>\n",
       "      <td>4069.13</td>\n",
       "      <td>4119.62</td>\n",
       "      <td>3911.79</td>\n",
       "      <td>4016.00</td>\n",
       "    </tr>\n",
       "    <tr>\n",
       "      <th>...</th>\n",
       "      <td>...</td>\n",
       "      <td>...</td>\n",
       "      <td>...</td>\n",
       "      <td>...</td>\n",
       "    </tr>\n",
       "    <tr>\n",
       "      <th>2024-02-13</th>\n",
       "      <td>49917.30</td>\n",
       "      <td>50368.60</td>\n",
       "      <td>48300.90</td>\n",
       "      <td>49699.60</td>\n",
       "    </tr>\n",
       "    <tr>\n",
       "      <th>2024-02-14</th>\n",
       "      <td>49699.60</td>\n",
       "      <td>52043.70</td>\n",
       "      <td>49225.00</td>\n",
       "      <td>51795.20</td>\n",
       "    </tr>\n",
       "    <tr>\n",
       "      <th>2024-02-15</th>\n",
       "      <td>51795.20</td>\n",
       "      <td>52816.60</td>\n",
       "      <td>51314.00</td>\n",
       "      <td>51880.00</td>\n",
       "    </tr>\n",
       "    <tr>\n",
       "      <th>2024-02-16</th>\n",
       "      <td>51880.00</td>\n",
       "      <td>52572.10</td>\n",
       "      <td>51566.00</td>\n",
       "      <td>52124.10</td>\n",
       "    </tr>\n",
       "    <tr>\n",
       "      <th>2024-02-17</th>\n",
       "      <td>52124.10</td>\n",
       "      <td>52162.80</td>\n",
       "      <td>51500.00</td>\n",
       "      <td>51690.80</td>\n",
       "    </tr>\n",
       "  </tbody>\n",
       "</table>\n",
       "<p>2376 rows × 4 columns</p>\n",
       "</div>"
      ],
      "text/plain": [
       "                open      high       low     close\n",
       "timestamp                                         \n",
       "2017-08-17   4261.48   4485.39   4200.74   4285.08\n",
       "2017-08-18   4285.08   4371.52   3938.77   4108.37\n",
       "2017-08-19   4108.37   4184.69   3850.00   4139.98\n",
       "2017-08-20   4120.98   4211.08   4032.62   4086.29\n",
       "2017-08-21   4069.13   4119.62   3911.79   4016.00\n",
       "...              ...       ...       ...       ...\n",
       "2024-02-13  49917.30  50368.60  48300.90  49699.60\n",
       "2024-02-14  49699.60  52043.70  49225.00  51795.20\n",
       "2024-02-15  51795.20  52816.60  51314.00  51880.00\n",
       "2024-02-16  51880.00  52572.10  51566.00  52124.10\n",
       "2024-02-17  52124.10  52162.80  51500.00  51690.80\n",
       "\n",
       "[2376 rows x 4 columns]"
      ]
     },
     "execution_count": 83,
     "metadata": {},
     "output_type": "execute_result"
    }
   ],
   "source": [
    "day_df = (df.resample('D', on='timestamp')\n",
    "               .agg({'open': 'first', 'high': 'max', 'low': 'min', 'close': 'last'}))\n",
    "day_df"
   ]
  },
  {
   "cell_type": "code",
   "execution_count": 84,
   "metadata": {},
   "outputs": [
    {
     "data": {
      "text/html": [
       "<div>\n",
       "<style scoped>\n",
       "    .dataframe tbody tr th:only-of-type {\n",
       "        vertical-align: middle;\n",
       "    }\n",
       "\n",
       "    .dataframe tbody tr th {\n",
       "        vertical-align: top;\n",
       "    }\n",
       "\n",
       "    .dataframe thead th {\n",
       "        text-align: right;\n",
       "    }\n",
       "</style>\n",
       "<table border=\"1\" class=\"dataframe\">\n",
       "  <thead>\n",
       "    <tr style=\"text-align: right;\">\n",
       "      <th></th>\n",
       "      <th>open</th>\n",
       "      <th>high</th>\n",
       "      <th>low</th>\n",
       "      <th>close</th>\n",
       "      <th>timestamp</th>\n",
       "    </tr>\n",
       "    <tr>\n",
       "      <th>timestamp</th>\n",
       "      <th></th>\n",
       "      <th></th>\n",
       "      <th></th>\n",
       "      <th></th>\n",
       "      <th></th>\n",
       "    </tr>\n",
       "  </thead>\n",
       "  <tbody>\n",
       "    <tr>\n",
       "      <th>2017-08-17</th>\n",
       "      <td>4261.48</td>\n",
       "      <td>4485.39</td>\n",
       "      <td>4200.74</td>\n",
       "      <td>4285.08</td>\n",
       "      <td>2017-08-17</td>\n",
       "    </tr>\n",
       "    <tr>\n",
       "      <th>2017-08-18</th>\n",
       "      <td>4285.08</td>\n",
       "      <td>4371.52</td>\n",
       "      <td>3938.77</td>\n",
       "      <td>4108.37</td>\n",
       "      <td>2017-08-18</td>\n",
       "    </tr>\n",
       "    <tr>\n",
       "      <th>2017-08-19</th>\n",
       "      <td>4108.37</td>\n",
       "      <td>4184.69</td>\n",
       "      <td>3850.00</td>\n",
       "      <td>4139.98</td>\n",
       "      <td>2017-08-19</td>\n",
       "    </tr>\n",
       "    <tr>\n",
       "      <th>2017-08-20</th>\n",
       "      <td>4120.98</td>\n",
       "      <td>4211.08</td>\n",
       "      <td>4032.62</td>\n",
       "      <td>4086.29</td>\n",
       "      <td>2017-08-20</td>\n",
       "    </tr>\n",
       "    <tr>\n",
       "      <th>2017-08-21</th>\n",
       "      <td>4069.13</td>\n",
       "      <td>4119.62</td>\n",
       "      <td>3911.79</td>\n",
       "      <td>4016.00</td>\n",
       "      <td>2017-08-21</td>\n",
       "    </tr>\n",
       "    <tr>\n",
       "      <th>...</th>\n",
       "      <td>...</td>\n",
       "      <td>...</td>\n",
       "      <td>...</td>\n",
       "      <td>...</td>\n",
       "      <td>...</td>\n",
       "    </tr>\n",
       "    <tr>\n",
       "      <th>2024-02-13</th>\n",
       "      <td>49917.30</td>\n",
       "      <td>50368.60</td>\n",
       "      <td>48300.90</td>\n",
       "      <td>49699.60</td>\n",
       "      <td>2024-02-13</td>\n",
       "    </tr>\n",
       "    <tr>\n",
       "      <th>2024-02-14</th>\n",
       "      <td>49699.60</td>\n",
       "      <td>52043.70</td>\n",
       "      <td>49225.00</td>\n",
       "      <td>51795.20</td>\n",
       "      <td>2024-02-14</td>\n",
       "    </tr>\n",
       "    <tr>\n",
       "      <th>2024-02-15</th>\n",
       "      <td>51795.20</td>\n",
       "      <td>52816.60</td>\n",
       "      <td>51314.00</td>\n",
       "      <td>51880.00</td>\n",
       "      <td>2024-02-15</td>\n",
       "    </tr>\n",
       "    <tr>\n",
       "      <th>2024-02-16</th>\n",
       "      <td>51880.00</td>\n",
       "      <td>52572.10</td>\n",
       "      <td>51566.00</td>\n",
       "      <td>52124.10</td>\n",
       "      <td>2024-02-16</td>\n",
       "    </tr>\n",
       "    <tr>\n",
       "      <th>2024-02-17</th>\n",
       "      <td>52124.10</td>\n",
       "      <td>52162.80</td>\n",
       "      <td>51500.00</td>\n",
       "      <td>51690.80</td>\n",
       "      <td>2024-02-17</td>\n",
       "    </tr>\n",
       "  </tbody>\n",
       "</table>\n",
       "<p>2376 rows × 5 columns</p>\n",
       "</div>"
      ],
      "text/plain": [
       "                open      high       low     close  timestamp\n",
       "timestamp                                                    \n",
       "2017-08-17   4261.48   4485.39   4200.74   4285.08 2017-08-17\n",
       "2017-08-18   4285.08   4371.52   3938.77   4108.37 2017-08-18\n",
       "2017-08-19   4108.37   4184.69   3850.00   4139.98 2017-08-19\n",
       "2017-08-20   4120.98   4211.08   4032.62   4086.29 2017-08-20\n",
       "2017-08-21   4069.13   4119.62   3911.79   4016.00 2017-08-21\n",
       "...              ...       ...       ...       ...        ...\n",
       "2024-02-13  49917.30  50368.60  48300.90  49699.60 2024-02-13\n",
       "2024-02-14  49699.60  52043.70  49225.00  51795.20 2024-02-14\n",
       "2024-02-15  51795.20  52816.60  51314.00  51880.00 2024-02-15\n",
       "2024-02-16  51880.00  52572.10  51566.00  52124.10 2024-02-16\n",
       "2024-02-17  52124.10  52162.80  51500.00  51690.80 2024-02-17\n",
       "\n",
       "[2376 rows x 5 columns]"
      ]
     },
     "execution_count": 84,
     "metadata": {},
     "output_type": "execute_result"
    }
   ],
   "source": [
    "day_df['timestamp'] = day_df.index\n",
    "day_df"
   ]
  },
  {
   "cell_type": "code",
   "execution_count": 85,
   "metadata": {},
   "outputs": [],
   "source": [
    "PUMP_THRESHOLD = 1\n",
    "PUMP_THRESHOLD_INITIAL = 0.5\n",
    "WINDOW_BEFORE = 7\n",
    "WINDOW_AFTER = 14\n",
    "PCT_THRESHOLD = 0.3\n",
    "\n",
    "data_pump = []\n",
    "max_idx = max(day_df.index)\n",
    "# df_checked_dropna = df_checked[i].dropna()\n",
    "j = list(day_df.index)[0]\n",
    "while j < max_idx:\n",
    "    try:\n",
    "        is_pump = False\n",
    "        low_bound = j\n",
    "        up_bound = min([low_bound+pd.DateOffset(days=WINDOW_AFTER), max_idx+pd.DateOffset(days=1)])\n",
    "        df_temp_next = day_df.loc[low_bound:up_bound]\n",
    "        max_price = max(df_temp_next['close'])\n",
    "        idx_max_price = list(df_temp_next.index)[df_temp_next['close'].argmax()]\n",
    "        # print(idx_max_price)\n",
    "        base_price = np.percentile(df_temp_next['close'],10)\n",
    "        idx_base_price = list(df_temp_next.index)[df_temp_next['close'].argmin()]\n",
    "        pct_to_max = (max_price - base_price)/base_price\n",
    "        if  pct_to_max > PUMP_THRESHOLD_INITIAL:\n",
    "            pump_analysis = True\n",
    "        else:\n",
    "            pump_analysis = False\n",
    "            j = j+pd.DateOffset(days=1)\n",
    "        while pump_analysis:\n",
    "            low_bound = idx_max_price + pd.DateOffset(days=1)\n",
    "            up_bound = min([low_bound+pd.DateOffset(days=WINDOW_AFTER), max_idx+pd.DateOffset(days=1)])\n",
    "            df_temp_next = day_df.loc[low_bound:up_bound]\n",
    "            max_price_new = max(df_temp_next['close'])\n",
    "            idx_max_price_new = list(df_temp_next.index)[df_temp_next['close'].argmax()]\n",
    "            pct_to_max_new = (max_price_new - base_price)/base_price\n",
    "            if pct_to_max_new > PUMP_THRESHOLD and max_price_new > max_price:\n",
    "                idx_max_price = idx_max_price_new\n",
    "                max_price = max_price_new\n",
    "                pct_to_max = pct_to_max_new\n",
    "                is_pump = True\n",
    "            else:\n",
    "                pump_analysis = False\n",
    "                if is_pump:\n",
    "                    data_pump.append(['btcusdt', day_df['timestamp'].loc[idx_base_price], base_price, day_df['timestamp'].loc[idx_max_price], max_price, pct_to_max])\n",
    "                j = idx_max_price + pd.DateOffset(days=1)\n",
    "    except ValueError: j = j+pd.DateOffset(days=1)\n",
    "    except Exception as e: \n",
    "        print(e)\n",
    "        break"
   ]
  },
  {
   "cell_type": "code",
   "execution_count": 86,
   "metadata": {},
   "outputs": [
    {
     "data": {
      "text/plain": [
       "[['btcusdt',\n",
       "  Timestamp('2017-11-23 00:00:00'),\n",
       "  8165.168,\n",
       "  Timestamp('2017-12-16 00:00:00'),\n",
       "  19102.7,\n",
       "  1.3395354510770632]]"
      ]
     },
     "execution_count": 86,
     "metadata": {},
     "output_type": "execute_result"
    }
   ],
   "source": [
    "data_pump"
   ]
  },
  {
   "cell_type": "markdown",
   "metadata": {},
   "source": [
    "ALL MARKET"
   ]
  },
  {
   "cell_type": "code",
   "execution_count": 87,
   "metadata": {},
   "outputs": [
    {
     "name": "stdout",
     "output_type": "stream",
     "text": [
      "605\n",
      "['1INCH/BTC', '1INCH/USDT', 'AAVE/USDT', 'ACA/BTC', 'ACA/USDT', 'ACE/BTC', 'ACE/USDT', 'ACH/BTC', 'ACH/USDT', 'ACM/USDT', 'ADA/BTC', 'ADA/USDT', 'ADX/BTC', 'ADX/USDT', 'AERGO/BTC', 'AERGO/USDT', 'AGIX/BTC', 'AGIX/USDT', 'AGLD/BTC', 'AGLD/USDT', 'AI/BTC', 'AI/USDT', 'AKRO/USDT', 'ALCX/BTC', 'ALCX/USDT', 'ALGO/BTC', 'ALGO/USDT', 'ALICE/BTC', 'ALICE/USDT', 'ALPACA/BTC', 'ALPACA/USDT', 'ALPHA/BTC', 'ALPHA/USDT', 'ALPINE/BTC', 'ALPINE/USDT', 'ALT/BTC', 'ALT/USDT', 'AMP/USDT', 'ANKR/BTC', 'ANKR/USDT', 'ANT/BTC', 'ANT/USDT', 'APE/BTC', 'APE/USDT', 'API3/BTC', 'API3/USDT', 'APT/BTC', 'APT/USDT', 'ARB/BTC', 'ARB/USDT', 'ARKM/BTC', 'ARKM/USDT', 'ARPA/BTC', 'ARPA/USDT', 'AR/BTC', 'AR/USDT', 'ASR/USDT', 'ASTR/USDT', 'AST/BTC', 'ATA/BTC', 'ATA/USDT', 'ATM/USDT', 'ATOM/BTC', 'ATOM/USDT', 'AUCTION/BTC', 'AUCTION/USDT', 'AUDIO/BTC', 'AUDIO/USDT', 'AVAX/BTC', 'AVAX/USDT', 'AVA/BTC', 'AVA/USDT', 'AXS/BTC', 'AXS/USDT', 'BADGER/BTC', 'BADGER/USDT', 'BAL/BTC', 'BAL/USDT', 'BAND/BTC', 'BAND/USDT', 'BAR/USDT', 'BAT/BTC', 'BAT/USDT', 'BCH/BTC', 'BCH/USDT', 'BEAMX/USDT', 'BEL/BTC', 'BEL/USDT', 'BETA/BTC', 'BETA/USDT', 'BICO/BTC', 'BICO/USDT', 'BIFI/USDT', 'BLUR/BTC', 'BLUR/USDT', 'BLZ/BTC', 'BLZ/USDT', 'BNBDOWN/USDT', 'BNBUP/USDT', 'BNB/BTC', 'BNB/USDT', 'BNT/BTC', 'BNT/USDT', 'BNX/BTC', 'BNX/USDT', 'BOND/BTC', 'BOND/USDT', 'BONK/USDT', 'BSW/USDT', 'BTCDOWN/USDT', 'BTCUP/USDT', 'BTC/USDT', 'BTTC/USDT', 'C98/BTC', 'C98/USDT', 'CAKE/USDT', 'CELO/BTC', 'CELO/USDT', 'CELR/BTC', 'CELR/USDT', 'CFX/BTC', 'CFX/USDT', 'CHESS/BTC', 'CHESS/USDT', 'CHR/BTC', 'CHR/USDT', 'CHZ/BTC', 'CHZ/USDT', 'CITY/USDT', 'CKB/USDT', 'CLV/BTC', 'CLV/USDT', 'COMBO/USDT', 'COMP/BTC', 'COMP/USDT', 'COS/BTC', 'COS/USDT', 'COTI/BTC', 'COTI/USDT', 'CREAM/USDT', 'CREO/USDT', 'CRV/BTC', 'CRV/USDT', 'CTK/BTC', 'CTK/USDT', 'CTSI/BTC', 'CTSI/USDT', 'CTXC/BTC', 'CTXC/USDT', 'CVP/USDT', 'CVX/USDT', 'CYBER/BTC', 'CYBER/USDT', 'DAR/BTC', 'DAR/USDT', 'DASH/BTC', 'DASH/USDT', 'DATA/BTC', 'DATA/USDT', 'DCR/BTC', 'DCR/USDT', 'DEGO/BTC', 'DEGO/USDT', 'DENT/USDT', 'DEXE/USDT', 'DF/USDT', 'DGB/BTC', 'DGB/USDT', 'DIA/BTC', 'DIA/USDT', 'DODO/BTC', 'DODO/USDT', 'DOGE/BTC', 'DOGE/USDT', 'DOT/BTC', 'DOT/USDT', 'DUSK/BTC', 'DUSK/USDT', 'DYDX/BTC', 'DYDX/USDT', 'DYM/BTC', 'DYM/USDT', 'EDU/BTC', 'EDU/USDT', 'EGLD/BTC', 'EGLD/USDT', 'ELF/BTC', 'ELF/USDT', 'ENJ/BTC', 'ENJ/USDT', 'ENS/BTC', 'ENS/USDT', 'EOS/BTC', 'EOS/USDT', 'EPX/USDT', 'ERN/USDT', 'ETC/BTC', 'ETC/USDT', 'ETHDOWN/USDT', 'ETHUP/USDT', 'ETH/BTC', 'ETH/USDT', 'FARM/BTC', 'FARM/USDT', 'FDUSD/USDT', 'FET/BTC', 'FET/USDT', 'FIDA/BTC', 'FIDA/USDT', 'FIL/BTC', 'FIL/USDT', 'FIO/BTC', 'FIO/USDT', 'FIRO/BTC', 'FIRO/USDT', 'FIS/BTC', 'FIS/USDT', 'FLM/BTC', 'FLM/USDT', 'FLOKI/USDT', 'FLOW/BTC', 'FLOW/USDT', 'FLUX/BTC', 'FLUX/USDT', 'FORTH/BTC', 'FORTH/USDT', 'FOR/BTC', 'FOR/USDT', 'FRONT/BTC', 'FRONT/USDT', 'FTM/BTC', 'FTM/USDT', 'FXS/BTC', 'FXS/USDT', 'GALA/BTC', 'GALA/USDT', 'GAL/BTC', 'GAL/USDT', 'GAS/BTC', 'GAS/USDT', 'GFT/USDT', 'GHST/USDT', 'GLMR/BTC', 'GLMR/USDT', 'GLM/BTC', 'GLM/USDT', 'GMT/BTC', 'GMT/USDT', 'GMX/BTC', 'GMX/USDT', 'GRT/BTC', 'GRT/USDT', 'GTC/BTC', 'GTC/USDT', 'HARD/BTC', 'HARD/USDT', 'HBAR/BTC', 'HBAR/USDT', 'HFT/BTC', 'HFT/USDT', 'HIFI/USDT', 'HIGH/BTC', 'HIGH/USDT', 'HIVE/BTC', 'HIVE/USDT', 'HOOK/BTC', 'HOOK/USDT', 'HOT/USDT', 'ICP/BTC', 'ICP/USDT', 'ICX/BTC', 'ICX/USDT', 'IDEX/BTC', 'IDEX/USDT', 'ID/BTC', 'ID/USDT', 'ILV/BTC', 'ILV/USDT', 'IMX/BTC', 'IMX/USDT', 'INJ/BTC', 'INJ/USDT', 'IOST/BTC', 'IOST/USDT', 'IOTA/BTC', 'IOTA/USDT', 'IOTX/BTC', 'IOTX/USDT', 'IQ/USDT', 'IRIS/BTC', 'IRIS/USDT', 'JASMY/USDT', 'JOE/BTC', 'JOE/USDT', 'JST/BTC', 'JST/USDT', 'JTO/USDT', 'JUP/USDT', 'KAVA/BTC', 'KAVA/USDT', 'KDA/BTC', 'KDA/USDT', 'KEY/USDT', 'KLAY/BTC', 'KLAY/USDT', 'KMD/BTC', 'KMD/USDT', 'KNC/BTC', 'KNC/USDT', 'KP3R/USDT', 'KSM/BTC', 'KSM/USDT', 'LAZIO/BTC', 'LAZIO/USDT', 'LDO/BTC', 'LDO/USDT', 'LEVER/USDT', 'LINA/BTC', 'LINA/USDT', 'LINK/BTC', 'LINK/USDT', 'LIT/BTC', 'LIT/USDT', 'LOKA/BTC', 'LOKA/USDT', 'LPT/BTC', 'LPT/USDT', 'LRC/BTC', 'LRC/USDT', 'LSK/BTC', 'LSK/USDT', 'LTC/BTC', 'LTC/USDT', 'LTO/BTC', 'LTO/USDT', 'LUNA/USDT', 'LUNC/USDT', 'MAGIC/BTC', 'MAGIC/USDT', 'MANA/BTC', 'MANA/USDT', 'MANTA/BTC', 'MANTA/USDT', 'MASK/USDT', 'MATIC/BTC', 'MATIC/USDT', 'MAV/BTC', 'MAV/USDT', 'MBL/USDT', 'MBOX/BTC', 'MBOX/USDT', 'MDT/BTC', 'MDT/USDT', 'MDX/BTC', 'MDX/USDT', 'MEME/USDT', 'MINA/BTC', 'MINA/USDT', 'MKR/BTC', 'MKR/USDT', 'MLN/BTC', 'MLN/USDT', 'MOB/BTC', 'MOB/USDT', 'MOVR/BTC', 'MOVR/USDT', 'MTL/BTC', 'MTL/USDT', 'MULTI/USDT', 'NBT/USDT', 'NEAR/BTC', 'NEAR/USDT', 'NEO/BTC', 'NEO/USDT', 'NEXO/BTC', 'NEXO/USDT', 'NKN/BTC', 'NKN/USDT', 'NMR/BTC', 'NMR/USDT', 'NTRN/BTC', 'NTRN/USDT', 'NULS/BTC', 'NULS/USDT', 'OCEAN/BTC', 'OCEAN/USDT', 'OGN/BTC', 'OGN/USDT', 'OG/BTC', 'OG/USDT', 'OMG/USDT', 'OM/USDT', 'ONE/BTC', 'ONE/USDT', 'ONG/BTC', 'ONG/USDT', 'ONT/BTC', 'ONT/USDT', 'OOKI/USDT', 'OP/BTC', 'OP/USDT', 'ORDI/BTC', 'ORDI/USDT', 'ORN/BTC', 'ORN/USDT', 'OXT/BTC', 'OXT/USDT', 'PAXG/BTC', 'PAXG/USDT', 'PENDLE/BTC', 'PENDLE/USDT', 'PEOPLE/BTC', 'PEOPLE/USDT', 'PEPE/USDT', 'PERP/BTC', 'PERP/USDT', 'PHA/BTC', 'PHA/USDT', 'PLA/BTC', 'PLA/USDT', 'PNT/USDT', 'POLS/USDT', 'POLYX/BTC', 'POLYX/USDT', 'POND/BTC', 'POND/USDT', 'PORTO/BTC', 'PORTO/USDT', 'POWR/BTC', 'POWR/USDT', 'PROM/USDT', 'PSG/USDT', 'PYR/BTC', 'PYR/USDT', 'PYTH/BTC', 'PYTH/USDT', 'QI/BTC', 'QI/USDT', 'QNT/BTC', 'QNT/USDT', 'QTUM/BTC', 'QTUM/USDT', 'QUICK/BTC', 'QUICK/USDT', 'RAD/BTC', 'RAD/USDT', 'RARE/BTC', 'RARE/USDT', 'RAY/USDT', 'RDNT/BTC', 'RDNT/USDT', 'REEF/USDT', 'REI/USDT', 'REN/BTC', 'REN/USDT', 'REQ/BTC', 'REQ/USDT', 'RIF/BTC', 'RIF/USDT', 'RLC/BTC', 'RLC/USDT', 'RNDR/BTC', 'RNDR/USDT', 'RONIN/BTC', 'RONIN/USDT', 'ROSE/BTC', 'ROSE/USDT', 'RPL/USDT', 'RSR/USDT', 'RUNE/BTC', 'RUNE/USDT', 'RVN/BTC', 'RVN/USDT', 'SAND/BTC', 'SAND/USDT', 'SANTOS/BTC', 'SANTOS/USDT', 'SCRT/BTC', 'SCRT/USDT', 'SC/USDT', 'SEI/BTC', 'SEI/USDT', 'SFP/BTC', 'SFP/USDT', 'SHIB/USDT', 'SKL/BTC', 'SKL/USDT', 'SLP/USDT', 'SNT/BTC', 'SNX/BTC', 'SNX/USDT', 'SOL/BTC', 'SOL/USDT', 'SPELL/USDT', 'SSV/BTC', 'SSV/USDT', 'STEEM/BTC', 'STG/BTC', 'STG/USDT', 'STMX/USDT', 'STORJ/BTC', 'STORJ/USDT', 'STPT/BTC', 'STPT/USDT', 'STRAX/BTC', 'STRAX/USDT', 'STX/BTC', 'STX/USDT', 'SUI/BTC', 'SUI/USDT', 'SUN/USDT', 'SUPER/BTC', 'SUPER/USDT', 'SUSHI/BTC', 'SUSHI/USDT', 'SXP/BTC', 'SXP/USDT', 'SYS/BTC', 'SYS/USDT', 'TFUEL/BTC', 'TFUEL/USDT', 'THETA/BTC', 'THETA/USDT', 'TIA/BTC', 'TIA/USDT', 'TKO/BTC', 'TKO/USDT', 'TLM/BTC', 'TLM/USDT', 'TRB/BTC', 'TRB/USDT', 'TROY/USDT', 'TRU/BTC', 'TRU/USDT', 'TRX/BTC', 'TRX/USDT', 'TUSD/USDT', 'TWT/BTC', 'TWT/USDT', 'T/USDT', 'UFT/USDT', 'UMA/BTC', 'UMA/USDT', 'UNFI/BTC', 'UNFI/USDT', 'UNI/BTC', 'UNI/USDT', 'USDC/USDT', 'USTC/USDT', 'UTK/BTC', 'UTK/USDT', 'VANRY/BTC', 'VANRY/USDT', 'VELO/USDT', 'VET/BTC', 'VET/USDT', 'VGX/USDT', 'VIC/BTC', 'VIC/USDT', 'VIDT/BTC', 'VIDT/USDT', 'VITE/BTC', 'VITE/USDT', 'VOXEL/BTC', 'VOXEL/USDT', 'VTHO/USDT', 'WAN/BTC', 'WAN/USDT', 'WAVES/BTC', 'WAVES/USDT', 'WAXP/BTC', 'WAXP/USDT', 'WBTC/BTC', 'WING/BTC', 'WING/USDT', 'WIN/USDT', 'WLD/BTC', 'WLD/USDT', 'WOO/BTC', 'WOO/USDT', 'WRX/USDT', 'XAI/USDT', 'XEC/USDT', 'XEM/USDT', 'XLM/BTC', 'XLM/USDT', 'XNO/BTC', 'XNO/USDT', 'XRP/BTC', 'XRP/USDT', 'XTZ/BTC', 'XTZ/USDT', 'XVG/USDT', 'XVS/BTC', 'XVS/USDT', 'YFI/BTC', 'YFI/USDT', 'YGG/BTC', 'YGG/USDT', 'ZEN/BTC', 'ZEN/USDT', 'ZIL/BTC', 'ZIL/USDT', 'ZRX/BTC', 'ZRX/USDT']\n"
     ]
    }
   ],
   "source": [
    "import ccxt\n",
    "exchange_id = 'tokocrypto'\n",
    "exchange_class = getattr(ccxt, exchange_id)\n",
    "exchange = exchange_class({\n",
    "    'apiKey': 'YOUR_API_KEY',\n",
    "    'secret': 'YOUR_SECRET',\n",
    "})\n",
    "markets = exchange.load_markets()\n",
    "market_list = list(markets.keys())\n",
    "considered_market = []\n",
    "for i in market_list:\n",
    "    if '/USDT' in i or '/BTC' in i:\n",
    "        considered_market.append(i)\n",
    "\n",
    "print(len(considered_market))\n",
    "print(considered_market)"
   ]
  },
  {
   "cell_type": "code",
   "execution_count": 94,
   "metadata": {},
   "outputs": [
    {
     "name": "stdout",
     "output_type": "stream",
     "text": [
      "1INCHBTC\n",
      "Query successful\n",
      "1INCHUSDT\n",
      "Query successful\n",
      "AAVEUSDT\n",
      "Query successful\n",
      "ACABTC\n",
      "Query successful\n",
      "ACAUSDT\n",
      "Query successful\n",
      "ACEBTC\n",
      "Query successful\n",
      "ACEUSDT\n",
      "Query successful\n",
      "ACHBTC\n",
      "Query successful\n",
      "ACHUSDT\n",
      "Query successful\n",
      "ACMUSDT\n",
      "Query successful\n",
      "ADABTC\n",
      "Query successful\n",
      "ADAUSDT\n",
      "Query successful\n",
      "ADXBTC\n",
      "Query successful\n",
      "ADXUSDT\n",
      "Query successful\n",
      "AERGOBTC\n",
      "Query successful\n",
      "AERGOUSDT\n",
      "Query successful\n",
      "AGIXBTC\n",
      "Query successful\n",
      "AGIXUSDT\n",
      "Query successful\n",
      "AGLDBTC\n",
      "Query successful\n",
      "AGLDUSDT\n",
      "Query successful\n",
      "AIBTC\n",
      "Query successful\n",
      "AIUSDT\n",
      "Query successful\n",
      "AKROUSDT\n",
      "Query successful\n",
      "ALCXBTC\n",
      "Query successful\n",
      "ALCXUSDT\n",
      "Query successful\n",
      "ALGOBTC\n",
      "Query successful\n",
      "ALGOUSDT\n",
      "Query successful\n",
      "ALICEBTC\n",
      "Query successful\n",
      "ALICEUSDT\n",
      "Query successful\n",
      "ALPACABTC\n",
      "Query successful\n",
      "ALPACAUSDT\n",
      "Query successful\n",
      "ALPHABTC\n",
      "Query successful\n",
      "ALPHAUSDT\n",
      "Query successful\n",
      "ALPINEBTC\n",
      "Query successful\n",
      "ALPINEUSDT\n",
      "Query successful\n",
      "ALTBTC\n",
      "Query successful\n",
      "ALTUSDT\n",
      "Query successful\n",
      "AMPUSDT\n",
      "Query successful\n",
      "ANKRBTC\n",
      "Query successful\n",
      "ANKRUSDT\n",
      "Query successful\n",
      "ANTBTC\n",
      "Query successful\n",
      "ANTUSDT\n",
      "Query successful\n",
      "APEBTC\n",
      "Query successful\n",
      "APEUSDT\n",
      "Query successful\n",
      "API3BTC\n",
      "Query successful\n",
      "API3USDT\n",
      "Query successful\n",
      "APTBTC\n",
      "Query successful\n",
      "APTUSDT\n",
      "Query successful\n",
      "ARBBTC\n",
      "Query successful\n",
      "ARBUSDT\n",
      "Query successful\n",
      "ARKMBTC\n",
      "Query successful\n",
      "ARKMUSDT\n",
      "Query successful\n",
      "ARPABTC\n",
      "Query successful\n",
      "ARPAUSDT\n",
      "Query successful\n",
      "ARBTC\n",
      "Query successful\n",
      "ARUSDT\n",
      "Query successful\n",
      "ASRUSDT\n",
      "Query successful\n",
      "ASTRUSDT\n",
      "Query successful\n",
      "ASTBTC\n",
      "Query successful\n",
      "ATABTC\n",
      "Query successful\n",
      "ATAUSDT\n",
      "Query successful\n",
      "ATMUSDT\n",
      "Query successful\n",
      "ATOMBTC\n",
      "Query successful\n",
      "ATOMUSDT\n",
      "Query successful\n",
      "AUCTIONBTC\n",
      "Query successful\n",
      "AUCTIONUSDT\n",
      "Query successful\n",
      "AUDIOBTC\n",
      "Query successful\n",
      "AUDIOUSDT\n",
      "Query successful\n",
      "AVAXBTC\n",
      "Query successful\n",
      "AVAXUSDT\n",
      "Query successful\n",
      "AVABTC\n",
      "Query successful\n",
      "AVAUSDT\n",
      "Query successful\n",
      "AXSBTC\n",
      "Query successful\n",
      "AXSUSDT\n",
      "Query successful\n",
      "BADGERBTC\n",
      "Query successful\n",
      "BADGERUSDT\n",
      "Query successful\n",
      "BALBTC\n",
      "Query successful\n",
      "BALUSDT\n",
      "Query successful\n",
      "BANDBTC\n",
      "Query successful\n",
      "BANDUSDT\n",
      "Query successful\n",
      "BARUSDT\n",
      "Query successful\n",
      "BATBTC\n",
      "Query successful\n",
      "BATUSDT\n",
      "Query successful\n",
      "BCHBTC\n",
      "Query successful\n",
      "BCHUSDT\n",
      "Query successful\n",
      "BEAMXUSDT\n",
      "Query successful\n",
      "BELBTC\n",
      "Query successful\n",
      "BELUSDT\n",
      "Query successful\n",
      "BETABTC\n",
      "Query successful\n",
      "BETAUSDT\n",
      "Query successful\n",
      "BICOBTC\n",
      "Query successful\n",
      "BICOUSDT\n",
      "Query successful\n",
      "BIFIUSDT\n",
      "Query successful\n",
      "BLURBTC\n",
      "Query successful\n",
      "BLURUSDT\n",
      "Query successful\n",
      "BLZBTC\n",
      "Query successful\n",
      "BLZUSDT\n",
      "Query successful\n",
      "BNBDOWNUSDT\n",
      "Query successful\n",
      "BNBUPUSDT\n",
      "Query successful\n",
      "BNBBTC\n",
      "Query successful\n",
      "BNBUSDT\n",
      "Query successful\n",
      "BNTBTC\n",
      "Query successful\n",
      "BNTUSDT\n",
      "Query successful\n",
      "BNXBTC\n",
      "Query successful\n",
      "BNXUSDT\n",
      "Query successful\n",
      "BONDBTC\n",
      "Query successful\n",
      "BONDUSDT\n",
      "Query successful\n",
      "BONKUSDT\n",
      "Query successful\n",
      "BSWUSDT\n",
      "Query successful\n",
      "BTCDOWNUSDT\n",
      "Query successful\n",
      "BTCUPUSDT\n",
      "Query successful\n",
      "BTCUSDT\n",
      "Query successful\n",
      "BTTCUSDT\n",
      "Query successful\n",
      "C98BTC\n",
      "Query successful\n",
      "C98USDT\n",
      "Query successful\n",
      "CAKEUSDT\n",
      "Query successful\n",
      "CELOBTC\n",
      "Query successful\n",
      "CELOUSDT\n",
      "Query successful\n",
      "CELRBTC\n",
      "Query successful\n",
      "CELRUSDT\n",
      "Query successful\n",
      "CFXBTC\n",
      "Query successful\n",
      "CFXUSDT\n",
      "Query successful\n",
      "CHESSBTC\n",
      "Query successful\n",
      "CHESSUSDT\n",
      "Query successful\n",
      "CHRBTC\n",
      "Query successful\n",
      "CHRUSDT\n",
      "Query successful\n",
      "CHZBTC\n",
      "Query successful\n",
      "CHZUSDT\n",
      "Query successful\n",
      "CITYUSDT\n",
      "Query successful\n",
      "CKBUSDT\n",
      "Query successful\n",
      "CLVBTC\n",
      "Query successful\n",
      "CLVUSDT\n",
      "Query successful\n",
      "COMBOUSDT\n",
      "Query successful\n",
      "COMPBTC\n",
      "Query successful\n",
      "COMPUSDT\n",
      "Query successful\n",
      "COSBTC\n",
      "Query successful\n",
      "COSUSDT\n",
      "Query successful\n",
      "COTIBTC\n",
      "Query successful\n",
      "COTIUSDT\n",
      "Query successful\n",
      "CREAMUSDT\n",
      "Query successful\n",
      "CREOUSDT\n",
      "Query successful\n",
      "market failed:  CREOUSDT  error:  max() arg is an empty sequence\n",
      "CRVBTC\n",
      "Query successful\n",
      "CRVUSDT\n",
      "Query successful\n",
      "CTKBTC\n",
      "Query successful\n",
      "CTKUSDT\n",
      "Query successful\n",
      "CTSIBTC\n",
      "Query successful\n",
      "CTSIUSDT\n",
      "Query successful\n",
      "CTXCBTC\n",
      "Query successful\n",
      "CTXCUSDT\n",
      "Query successful\n",
      "CVPUSDT\n",
      "Query successful\n",
      "CVXUSDT\n",
      "Query successful\n",
      "CYBERBTC\n",
      "Query successful\n",
      "CYBERUSDT\n",
      "Query successful\n",
      "DARBTC\n",
      "Query successful\n",
      "DARUSDT\n",
      "Query successful\n",
      "DASHBTC\n",
      "Query successful\n",
      "DASHUSDT\n",
      "Query successful\n",
      "DATABTC\n",
      "Query successful\n",
      "DATAUSDT\n",
      "Query successful\n",
      "DCRBTC\n",
      "Query successful\n",
      "DCRUSDT\n",
      "Query successful\n",
      "DEGOBTC\n",
      "Query successful\n",
      "DEGOUSDT\n",
      "Query successful\n",
      "DENTUSDT\n",
      "Query successful\n",
      "DEXEUSDT\n",
      "Query successful\n",
      "DFUSDT\n",
      "Query successful\n",
      "DGBBTC\n",
      "Query successful\n",
      "DGBUSDT\n",
      "Query successful\n",
      "DIABTC\n",
      "Query successful\n",
      "DIAUSDT\n",
      "Query successful\n",
      "DODOBTC\n",
      "Query successful\n",
      "DODOUSDT\n",
      "Query successful\n",
      "DOGEBTC\n",
      "Query successful\n",
      "DOGEUSDT\n",
      "Query successful\n",
      "DOTBTC\n",
      "Query successful\n",
      "DOTUSDT\n",
      "Query successful\n",
      "DUSKBTC\n",
      "Query successful\n",
      "DUSKUSDT\n",
      "Query successful\n",
      "DYDXBTC\n",
      "Query successful\n",
      "DYDXUSDT\n",
      "Query successful\n",
      "DYMBTC\n",
      "Query successful\n",
      "DYMUSDT\n",
      "Query successful\n",
      "EDUBTC\n",
      "Query successful\n",
      "EDUUSDT\n",
      "Query successful\n",
      "EGLDBTC\n",
      "Query successful\n",
      "EGLDUSDT\n",
      "Query successful\n",
      "ELFBTC\n",
      "Query successful\n",
      "ELFUSDT\n",
      "Query successful\n",
      "ENJBTC\n",
      "Query successful\n",
      "ENJUSDT\n",
      "Query successful\n",
      "ENSBTC\n",
      "Query successful\n",
      "ENSUSDT\n",
      "Query successful\n",
      "EOSBTC\n",
      "Query successful\n",
      "EOSUSDT\n",
      "Query successful\n",
      "EPXUSDT\n",
      "Query successful\n",
      "ERNUSDT\n",
      "Query successful\n",
      "ETCBTC\n",
      "Query successful\n",
      "ETCUSDT\n",
      "Query successful\n",
      "ETHDOWNUSDT\n",
      "Query successful\n",
      "ETHUPUSDT\n",
      "Query successful\n",
      "ETHBTC\n",
      "Query successful\n",
      "ETHUSDT\n",
      "Query successful\n",
      "FARMBTC\n",
      "Query successful\n",
      "FARMUSDT\n",
      "Query successful\n",
      "FDUSDUSDT\n",
      "Query successful\n",
      "FETBTC\n",
      "Query successful\n",
      "FETUSDT\n",
      "Query successful\n",
      "FIDABTC\n",
      "Query successful\n",
      "FIDAUSDT\n",
      "Query successful\n",
      "FILBTC\n",
      "Query successful\n",
      "FILUSDT\n",
      "Query successful\n",
      "FIOBTC\n",
      "Query successful\n",
      "FIOUSDT\n",
      "Query successful\n",
      "FIROBTC\n",
      "Query successful\n",
      "FIROUSDT\n",
      "Query successful\n",
      "FISBTC\n",
      "Query successful\n",
      "FISUSDT\n",
      "Query successful\n",
      "FLMBTC\n",
      "Query successful\n",
      "FLMUSDT\n",
      "Query successful\n",
      "FLOKIUSDT\n",
      "Query successful\n",
      "FLOWBTC\n",
      "Query successful\n",
      "FLOWUSDT\n",
      "Query successful\n",
      "FLUXBTC\n",
      "Query successful\n",
      "FLUXUSDT\n",
      "Query successful\n",
      "FORTHBTC\n",
      "Query successful\n",
      "FORTHUSDT\n",
      "Query successful\n",
      "FORBTC\n",
      "Query successful\n",
      "FORUSDT\n",
      "Query successful\n",
      "FRONTBTC\n",
      "Query successful\n",
      "FRONTUSDT\n",
      "Query successful\n",
      "FTMBTC\n",
      "Query successful\n",
      "FTMUSDT\n",
      "Query successful\n",
      "FXSBTC\n",
      "Query successful\n",
      "FXSUSDT\n",
      "Query successful\n",
      "GALABTC\n",
      "Query successful\n",
      "GALAUSDT\n",
      "Query successful\n",
      "GALBTC\n",
      "Query successful\n",
      "GALUSDT\n",
      "Query successful\n",
      "GASBTC\n",
      "Query successful\n",
      "GASUSDT\n",
      "Query successful\n",
      "GFTUSDT\n",
      "Query successful\n",
      "GHSTUSDT\n",
      "Query successful\n",
      "GLMRBTC\n",
      "Query successful\n",
      "GLMRUSDT\n",
      "Query successful\n",
      "GLMBTC\n",
      "Query successful\n",
      "GLMUSDT\n",
      "Query successful\n",
      "GMTBTC\n",
      "Query successful\n",
      "GMTUSDT\n",
      "Query successful\n",
      "GMXBTC\n",
      "Query successful\n",
      "GMXUSDT\n",
      "Query successful\n",
      "GRTBTC\n",
      "Query successful\n",
      "GRTUSDT\n",
      "Query successful\n",
      "GTCBTC\n",
      "Query successful\n",
      "GTCUSDT\n",
      "Query successful\n",
      "HARDBTC\n",
      "Query successful\n",
      "HARDUSDT\n",
      "Query successful\n",
      "HBARBTC\n",
      "Query successful\n",
      "HBARUSDT\n",
      "Query successful\n",
      "HFTBTC\n",
      "Query successful\n",
      "HFTUSDT\n",
      "Query successful\n",
      "HIFIUSDT\n",
      "Query successful\n",
      "HIGHBTC\n",
      "Query successful\n",
      "HIGHUSDT\n",
      "Query successful\n",
      "HIVEBTC\n",
      "Query successful\n",
      "HIVEUSDT\n",
      "Query successful\n",
      "HOOKBTC\n",
      "Query successful\n",
      "HOOKUSDT\n",
      "Query successful\n",
      "HOTUSDT\n",
      "Query successful\n",
      "ICPBTC\n",
      "Query successful\n",
      "ICPUSDT\n",
      "Query successful\n",
      "ICXBTC\n",
      "Query successful\n",
      "ICXUSDT\n",
      "Query successful\n",
      "IDEXBTC\n",
      "Query successful\n",
      "IDEXUSDT\n",
      "Query successful\n",
      "IDBTC\n",
      "Query successful\n",
      "IDUSDT\n",
      "Query successful\n",
      "ILVBTC\n",
      "Query successful\n",
      "ILVUSDT\n",
      "Query successful\n",
      "IMXBTC\n",
      "Query successful\n",
      "IMXUSDT\n",
      "Query successful\n",
      "INJBTC\n",
      "Query successful\n",
      "INJUSDT\n",
      "Query successful\n",
      "IOSTBTC\n",
      "Query successful\n",
      "IOSTUSDT\n",
      "Query successful\n",
      "IOTABTC\n",
      "Query successful\n",
      "IOTAUSDT\n",
      "Query successful\n",
      "IOTXBTC\n",
      "Query successful\n",
      "IOTXUSDT\n",
      "Query successful\n",
      "IQUSDT\n",
      "Query successful\n",
      "IRISBTC\n",
      "Query successful\n",
      "IRISUSDT\n",
      "Query successful\n",
      "JASMYUSDT\n",
      "Query successful\n",
      "JOEBTC\n",
      "Query successful\n",
      "JOEUSDT\n",
      "Query successful\n",
      "JSTBTC\n",
      "Query successful\n",
      "JSTUSDT\n",
      "Query successful\n",
      "JTOUSDT\n",
      "Query successful\n",
      "JUPUSDT\n",
      "Query successful\n",
      "KAVABTC\n",
      "Query successful\n",
      "KAVAUSDT\n",
      "Query successful\n",
      "KDABTC\n",
      "Query successful\n",
      "KDAUSDT\n",
      "Query successful\n",
      "KEYUSDT\n",
      "Query successful\n",
      "KLAYBTC\n",
      "Query successful\n",
      "KLAYUSDT\n",
      "Query successful\n",
      "KMDBTC\n",
      "Query successful\n",
      "KMDUSDT\n",
      "Query successful\n",
      "KNCBTC\n",
      "Query successful\n",
      "KNCUSDT\n",
      "Query successful\n",
      "KP3RUSDT\n",
      "Query successful\n",
      "KSMBTC\n",
      "Query successful\n",
      "KSMUSDT\n",
      "Query successful\n",
      "LAZIOBTC\n",
      "Query successful\n",
      "LAZIOUSDT\n",
      "Query successful\n",
      "LDOBTC\n",
      "Query successful\n",
      "LDOUSDT\n",
      "Query successful\n",
      "LEVERUSDT\n",
      "Query successful\n",
      "LINABTC\n",
      "Query successful\n",
      "LINAUSDT\n",
      "Query successful\n",
      "LINKBTC\n",
      "Query successful\n",
      "LINKUSDT\n",
      "Query successful\n",
      "LITBTC\n",
      "Query successful\n",
      "LITUSDT\n",
      "Query successful\n",
      "LOKABTC\n",
      "Query successful\n",
      "LOKAUSDT\n",
      "Query successful\n",
      "LPTBTC\n",
      "Query successful\n",
      "LPTUSDT\n",
      "Query successful\n",
      "LRCBTC\n",
      "Query successful\n",
      "LRCUSDT\n",
      "Query successful\n",
      "LSKBTC\n",
      "Query successful\n",
      "LSKUSDT\n",
      "Query successful\n",
      "LTCBTC\n",
      "Query successful\n",
      "LTCUSDT\n",
      "Query successful\n",
      "LTOBTC\n",
      "Query successful\n",
      "LTOUSDT\n",
      "Query successful\n",
      "LUNAUSDT\n",
      "Query successful\n",
      "LUNCUSDT\n",
      "Query successful\n",
      "MAGICBTC\n",
      "Query successful\n",
      "MAGICUSDT\n",
      "Query successful\n",
      "MANABTC\n",
      "Query successful\n",
      "MANAUSDT\n",
      "Query successful\n",
      "MANTABTC\n",
      "Query successful\n",
      "MANTAUSDT\n",
      "Query successful\n",
      "MASKUSDT\n",
      "Query successful\n",
      "MATICBTC\n",
      "Query successful\n",
      "MATICUSDT\n",
      "Query successful\n",
      "MAVBTC\n",
      "Query successful\n",
      "MAVUSDT\n",
      "Query successful\n",
      "MBLUSDT\n",
      "Query successful\n",
      "MBOXBTC\n",
      "Query successful\n",
      "MBOXUSDT\n",
      "Query successful\n",
      "MDTBTC\n",
      "Query successful\n",
      "MDTUSDT\n",
      "Query successful\n",
      "MDXBTC\n",
      "Query successful\n",
      "MDXUSDT\n",
      "Query successful\n",
      "MEMEUSDT\n",
      "Query successful\n",
      "MINABTC\n",
      "Query successful\n",
      "MINAUSDT\n",
      "Query successful\n",
      "MKRBTC\n",
      "Query successful\n",
      "MKRUSDT\n",
      "Query successful\n",
      "MLNBTC\n",
      "Query successful\n",
      "MLNUSDT\n",
      "Query successful\n",
      "MOBBTC\n",
      "Query successful\n",
      "MOBUSDT\n",
      "Query successful\n",
      "MOVRBTC\n",
      "Query successful\n",
      "MOVRUSDT\n",
      "Query successful\n",
      "MTLBTC\n",
      "Query successful\n",
      "MTLUSDT\n",
      "Query successful\n",
      "MULTIUSDT\n",
      "Query successful\n",
      "NBTUSDT\n",
      "Query successful\n",
      "NEARBTC\n",
      "Query successful\n",
      "NEARUSDT\n",
      "Query successful\n",
      "NEOBTC\n",
      "Query successful\n",
      "NEOUSDT\n",
      "Query successful\n",
      "NEXOBTC\n",
      "Query successful\n",
      "NEXOUSDT\n",
      "Query successful\n",
      "NKNBTC\n",
      "Query successful\n",
      "NKNUSDT\n",
      "Query successful\n",
      "NMRBTC\n",
      "Query successful\n",
      "NMRUSDT\n",
      "Query successful\n",
      "NTRNBTC\n",
      "Query successful\n",
      "NTRNUSDT\n",
      "Query successful\n",
      "NULSBTC\n",
      "Query successful\n",
      "NULSUSDT\n",
      "Query successful\n",
      "OCEANBTC\n",
      "Query successful\n",
      "OCEANUSDT\n",
      "Query successful\n",
      "OGNBTC\n",
      "Query successful\n",
      "OGNUSDT\n",
      "Query successful\n",
      "OGBTC\n",
      "Query successful\n",
      "OGUSDT\n",
      "Query successful\n",
      "OMGUSDT\n",
      "Query successful\n",
      "OMUSDT\n",
      "Query successful\n",
      "ONEBTC\n",
      "Query successful\n",
      "ONEUSDT\n",
      "Query successful\n",
      "ONGBTC\n",
      "Query successful\n",
      "ONGUSDT\n",
      "Query successful\n",
      "ONTBTC\n",
      "Query successful\n",
      "ONTUSDT\n",
      "Query successful\n",
      "OOKIUSDT\n",
      "Query successful\n",
      "OPBTC\n",
      "Query successful\n",
      "OPUSDT\n",
      "Query successful\n",
      "ORDIBTC\n",
      "Query successful\n",
      "ORDIUSDT\n",
      "Query successful\n",
      "ORNBTC\n",
      "Query successful\n",
      "ORNUSDT\n",
      "Query successful\n",
      "OXTBTC\n",
      "Query successful\n",
      "OXTUSDT\n",
      "Query successful\n",
      "PAXGBTC\n",
      "Query successful\n",
      "PAXGUSDT\n",
      "Query successful\n",
      "PENDLEBTC\n",
      "Query successful\n",
      "PENDLEUSDT\n",
      "Query successful\n",
      "PEOPLEBTC\n",
      "Query successful\n",
      "PEOPLEUSDT\n",
      "Query successful\n",
      "PEPEUSDT\n",
      "Query successful\n",
      "PERPBTC\n",
      "Query successful\n",
      "PERPUSDT\n",
      "Query successful\n",
      "PHABTC\n",
      "Query successful\n",
      "PHAUSDT\n",
      "Query successful\n",
      "PLABTC\n",
      "Query successful\n",
      "PLAUSDT\n",
      "Query successful\n",
      "PNTUSDT\n",
      "Query successful\n",
      "POLSUSDT\n",
      "Query successful\n",
      "POLYXBTC\n",
      "Query successful\n",
      "POLYXUSDT\n",
      "Query successful\n",
      "PONDBTC\n",
      "Query successful\n",
      "PONDUSDT\n",
      "Query successful\n",
      "PORTOBTC\n",
      "Query successful\n",
      "PORTOUSDT\n",
      "Query successful\n",
      "POWRBTC\n",
      "Query successful\n",
      "POWRUSDT\n",
      "Query successful\n",
      "PROMUSDT\n",
      "Query successful\n",
      "PSGUSDT\n",
      "Query successful\n",
      "PYRBTC\n",
      "Query successful\n",
      "PYRUSDT\n",
      "Query successful\n",
      "PYTHBTC\n",
      "Query successful\n",
      "PYTHUSDT\n",
      "Query successful\n",
      "QIBTC\n",
      "Query successful\n",
      "QIUSDT\n",
      "Query successful\n",
      "QNTBTC\n",
      "Query successful\n",
      "QNTUSDT\n",
      "Query successful\n",
      "QTUMBTC\n",
      "Query successful\n",
      "QTUMUSDT\n",
      "Query successful\n",
      "QUICKBTC\n",
      "Query successful\n",
      "QUICKUSDT\n",
      "Query successful\n",
      "RADBTC\n",
      "Query successful\n",
      "RADUSDT\n",
      "Query successful\n",
      "RAREBTC\n",
      "Query successful\n",
      "RAREUSDT\n",
      "Query successful\n",
      "RAYUSDT\n",
      "Query successful\n",
      "RDNTBTC\n",
      "Query successful\n",
      "RDNTUSDT\n",
      "Query successful\n",
      "REEFUSDT\n",
      "Query successful\n",
      "REIUSDT\n",
      "Query successful\n",
      "RENBTC\n",
      "Query successful\n",
      "RENUSDT\n",
      "Query successful\n",
      "REQBTC\n",
      "Query successful\n",
      "REQUSDT\n",
      "Query successful\n",
      "RIFBTC\n",
      "Query successful\n",
      "RIFUSDT\n",
      "Query successful\n",
      "RLCBTC\n",
      "Query successful\n",
      "RLCUSDT\n",
      "Query successful\n",
      "RNDRBTC\n",
      "Query successful\n",
      "RNDRUSDT\n",
      "Query successful\n",
      "RONINBTC\n",
      "Query successful\n",
      "RONINUSDT\n",
      "Query successful\n",
      "ROSEBTC\n",
      "Query successful\n",
      "ROSEUSDT\n",
      "Query successful\n",
      "RPLUSDT\n",
      "Query successful\n",
      "RSRUSDT\n",
      "Query successful\n",
      "RUNEBTC\n",
      "Query successful\n",
      "RUNEUSDT\n",
      "Query successful\n",
      "RVNBTC\n",
      "Query successful\n",
      "RVNUSDT\n",
      "Query successful\n",
      "SANDBTC\n",
      "Query successful\n",
      "SANDUSDT\n",
      "Query successful\n",
      "SANTOSBTC\n",
      "Query successful\n",
      "SANTOSUSDT\n",
      "Query successful\n",
      "SCRTBTC\n",
      "Query successful\n",
      "SCRTUSDT\n",
      "Query successful\n",
      "SCUSDT\n",
      "Query successful\n",
      "SEIBTC\n",
      "Query successful\n",
      "SEIUSDT\n",
      "Query successful\n",
      "SFPBTC\n",
      "Query successful\n",
      "SFPUSDT\n",
      "Query successful\n",
      "SHIBUSDT\n",
      "Query successful\n",
      "SKLBTC\n",
      "Query successful\n",
      "SKLUSDT\n",
      "Query successful\n",
      "SLPUSDT\n",
      "Query successful\n",
      "SNTBTC\n",
      "Query successful\n",
      "SNXBTC\n",
      "Query successful\n",
      "SNXUSDT\n",
      "Query successful\n",
      "SOLBTC\n",
      "Query successful\n",
      "SOLUSDT\n",
      "Query successful\n",
      "SPELLUSDT\n",
      "Query successful\n",
      "SSVBTC\n",
      "Query successful\n",
      "SSVUSDT\n",
      "Query successful\n",
      "STEEMBTC\n",
      "Query successful\n",
      "STGBTC\n",
      "Query successful\n",
      "STGUSDT\n",
      "Query successful\n",
      "STMXUSDT\n",
      "Query successful\n",
      "STORJBTC\n",
      "Query successful\n",
      "STORJUSDT\n",
      "Query successful\n",
      "STPTBTC\n",
      "Query successful\n",
      "STPTUSDT\n",
      "Query successful\n",
      "STRAXBTC\n",
      "Query successful\n",
      "STRAXUSDT\n",
      "Query successful\n",
      "STXBTC\n",
      "Query successful\n",
      "STXUSDT\n",
      "Query successful\n",
      "SUIBTC\n",
      "Query successful\n",
      "SUIUSDT\n",
      "Query successful\n",
      "SUNUSDT\n",
      "Query successful\n",
      "SUPERBTC\n",
      "Query successful\n",
      "SUPERUSDT\n",
      "Query successful\n",
      "SUSHIBTC\n",
      "Query successful\n",
      "SUSHIUSDT\n",
      "Query successful\n",
      "SXPBTC\n",
      "Query successful\n",
      "SXPUSDT\n",
      "Query successful\n",
      "SYSBTC\n",
      "Query successful\n",
      "SYSUSDT\n",
      "Query successful\n",
      "TFUELBTC\n",
      "Query successful\n",
      "TFUELUSDT\n",
      "Query successful\n",
      "THETABTC\n",
      "Query successful\n",
      "THETAUSDT\n",
      "Query successful\n",
      "TIABTC\n",
      "Query successful\n",
      "TIAUSDT\n",
      "Query successful\n",
      "TKOBTC\n",
      "Query successful\n",
      "TKOUSDT\n",
      "Query successful\n",
      "TLMBTC\n",
      "Query successful\n",
      "TLMUSDT\n",
      "Query successful\n",
      "TRBBTC\n",
      "Query successful\n",
      "TRBUSDT\n",
      "Query successful\n",
      "TROYUSDT\n",
      "Query successful\n",
      "TRUBTC\n",
      "Query successful\n",
      "TRUUSDT\n",
      "Query successful\n",
      "TRXBTC\n",
      "Query successful\n",
      "TRXUSDT\n",
      "Query successful\n",
      "TUSDUSDT\n",
      "Query successful\n",
      "TWTBTC\n",
      "Query successful\n",
      "TWTUSDT\n",
      "Query successful\n",
      "TUSDT\n",
      "Query successful\n",
      "UFTUSDT\n",
      "Query successful\n",
      "UMABTC\n",
      "Query successful\n",
      "UMAUSDT\n",
      "Query successful\n",
      "UNFIBTC\n",
      "Query successful\n",
      "UNFIUSDT\n",
      "Query successful\n",
      "UNIBTC\n",
      "Query successful\n",
      "UNIUSDT\n",
      "Query successful\n",
      "USDCUSDT\n",
      "Query successful\n",
      "USTCUSDT\n",
      "Query successful\n",
      "UTKBTC\n",
      "Query successful\n",
      "UTKUSDT\n",
      "Query successful\n",
      "VANRYBTC\n",
      "Query successful\n",
      "VANRYUSDT\n",
      "Query successful\n",
      "VELOUSDT\n",
      "Query successful\n",
      "market failed:  VELOUSDT  error:  max() arg is an empty sequence\n",
      "VETBTC\n",
      "Query successful\n",
      "VETUSDT\n",
      "Query successful\n",
      "VGXUSDT\n",
      "Query successful\n",
      "VICBTC\n",
      "Query successful\n",
      "VICUSDT\n",
      "Query successful\n",
      "VIDTBTC\n",
      "Query successful\n",
      "VIDTUSDT\n",
      "Query successful\n",
      "VITEBTC\n",
      "Query successful\n",
      "VITEUSDT\n",
      "Query successful\n",
      "VOXELBTC\n",
      "Query successful\n",
      "VOXELUSDT\n",
      "Query successful\n",
      "VTHOUSDT\n",
      "Query successful\n",
      "WANBTC\n",
      "Query successful\n",
      "WANUSDT\n",
      "Query successful\n",
      "WAVESBTC\n",
      "Query successful\n",
      "WAVESUSDT\n",
      "Query successful\n",
      "WAXPBTC\n",
      "Query successful\n",
      "WAXPUSDT\n",
      "Query successful\n",
      "WBTCBTC\n",
      "Query successful\n",
      "WINGBTC\n",
      "Query successful\n",
      "WINGUSDT\n",
      "Query successful\n",
      "WINUSDT\n",
      "Query successful\n",
      "WLDBTC\n",
      "Query successful\n",
      "WLDUSDT\n",
      "Query successful\n",
      "WOOBTC\n",
      "Query successful\n",
      "WOOUSDT\n",
      "Query successful\n",
      "WRXUSDT\n",
      "Query successful\n",
      "XAIUSDT\n",
      "Query successful\n",
      "XECUSDT\n",
      "Query successful\n",
      "XEMUSDT\n",
      "Query successful\n",
      "XLMBTC\n",
      "Query successful\n",
      "XLMUSDT\n",
      "Query successful\n",
      "XNOBTC\n",
      "Query successful\n",
      "XNOUSDT\n",
      "Query successful\n",
      "XRPBTC\n",
      "Query successful\n",
      "XRPUSDT\n",
      "Query successful\n",
      "XTZBTC\n",
      "Query successful\n",
      "XTZUSDT\n",
      "Query successful\n",
      "XVGUSDT\n",
      "Query successful\n",
      "XVSBTC\n",
      "Query successful\n",
      "XVSUSDT\n",
      "Query successful\n",
      "YFIBTC\n",
      "Query successful\n",
      "YFIUSDT\n",
      "Query successful\n",
      "YGGBTC\n",
      "Query successful\n",
      "YGGUSDT\n",
      "Query successful\n",
      "ZENBTC\n",
      "Query successful\n",
      "ZENUSDT\n",
      "Query successful\n",
      "ZILBTC\n",
      "Query successful\n",
      "ZILUSDT\n",
      "Query successful\n",
      "ZRXBTC\n",
      "Query successful\n",
      "ZRXUSDT\n",
      "Query successful\n"
     ]
    }
   ],
   "source": [
    "PUMP_THRESHOLD = 1\n",
    "PUMP_THRESHOLD_INITIAL = 0.5\n",
    "WINDOW_BEFORE = 7\n",
    "WINDOW_AFTER = 14\n",
    "PCT_THRESHOLD = 0.3\n",
    "data_pump = []\n",
    "for i in range(len(considered_market)):\n",
    "    try:\n",
    "        market = considered_market[i]\n",
    "        market = market.replace('/', '')\n",
    "        print(market)\n",
    "        query = 'SELECT * FROM %s ORDER BY timestamp ASC' % market\n",
    "        res = execute_query(connection,query)\n",
    "        df = pd.DataFrame(res,columns=['timestamp', 'open','high', 'low','close','volume'])\n",
    "        df = df.drop_duplicates()\n",
    "        df['timestamp'] = pd.to_datetime(df['timestamp'], unit='ms')\n",
    "        day_df = (df.resample('D', on='timestamp').agg({'open': 'first', 'high': 'max', 'low': 'min', 'close': 'last'}))\n",
    "        day_df['timestamp'] = day_df.index\n",
    "\n",
    "        max_idx = max(day_df.index)\n",
    "        # df_checked_dropna = df_checked[i].dropna()\n",
    "        j = list(day_df.index)[0]\n",
    "        while j < max_idx:\n",
    "            try:\n",
    "                is_pump = False\n",
    "                low_bound = j\n",
    "                up_bound = min([low_bound+pd.DateOffset(days=WINDOW_AFTER), max_idx+pd.DateOffset(days=1)])\n",
    "                df_temp_next = day_df.loc[low_bound:up_bound]\n",
    "                max_price = max(df_temp_next['close'])\n",
    "                idx_max_price = list(df_temp_next.index)[df_temp_next['close'].argmax()]\n",
    "                # print(idx_max_price)\n",
    "                base_price = np.percentile(df_temp_next['close'],10)\n",
    "                idx_base_price = list(df_temp_next.index)[df_temp_next['close'].argmin()]\n",
    "                pct_to_max = (max_price - base_price)/base_price\n",
    "                if  pct_to_max > PUMP_THRESHOLD_INITIAL:\n",
    "                    pump_analysis = True\n",
    "                else:\n",
    "                    pump_analysis = False\n",
    "                    j = j+pd.DateOffset(days=1)\n",
    "                while pump_analysis:\n",
    "                    low_bound = idx_max_price + pd.DateOffset(days=1)\n",
    "                    up_bound = min([low_bound+pd.DateOffset(days=WINDOW_AFTER), max_idx+pd.DateOffset(days=1)])\n",
    "                    df_temp_next = day_df.loc[low_bound:up_bound]\n",
    "                    max_price_new = max(df_temp_next['close'])\n",
    "                    idx_max_price_new = list(df_temp_next.index)[df_temp_next['close'].argmax()]\n",
    "                    pct_to_max_new = (max_price_new - base_price)/base_price\n",
    "                    if pct_to_max_new > PUMP_THRESHOLD and max_price_new > max_price:\n",
    "                        idx_max_price = idx_max_price_new\n",
    "                        max_price = max_price_new\n",
    "                        pct_to_max = pct_to_max_new\n",
    "                        is_pump = True\n",
    "                    else:\n",
    "                        pump_analysis = False\n",
    "                        if is_pump:\n",
    "                            data_pump.append([market, day_df['timestamp'].loc[idx_base_price], base_price, day_df['timestamp'].loc[idx_max_price], max_price, pct_to_max])\n",
    "                        j = idx_max_price + pd.DateOffset(days=1)\n",
    "            except ValueError: j = j+pd.DateOffset(days=1)\n",
    "            except Exception as e: \n",
    "                print(e)\n",
    "                break\n",
    "    except Exception as e:\n",
    "        print('market failed: ', market, ' error: ', e)\n",
    "        continue\n",
    "\n",
    "\n"
   ]
  },
  {
   "cell_type": "code",
   "execution_count": 99,
   "metadata": {},
   "outputs": [
    {
     "name": "stdout",
     "output_type": "stream",
     "text": [
      "1246\n"
     ]
    },
    {
     "data": {
      "text/plain": [
       "['AAVEUSDT',\n",
       " Timestamp('2020-11-04 00:00:00'),\n",
       " 28.5708,\n",
       " Timestamp('2020-12-05 00:00:00'),\n",
       " 92.714,\n",
       " 2.24506139135061]"
      ]
     },
     "execution_count": 99,
     "metadata": {},
     "output_type": "execute_result"
    }
   ],
   "source": [
    "print(len(data_pump))\n",
    "data_pump[2]"
   ]
  },
  {
   "cell_type": "code",
   "execution_count": 100,
   "metadata": {},
   "outputs": [],
   "source": [
    "df_data_pump = pd.DataFrame(data_pump, columns=['market','start','base_price','end','last_price','increase'])"
   ]
  },
  {
   "cell_type": "code",
   "execution_count": 104,
   "metadata": {},
   "outputs": [
    {
     "name": "stdout",
     "output_type": "stream",
     "text": [
      "1INCHBTC\n",
      "Query successful\n",
      "1INCHUSDT\n",
      "Query successful\n",
      "AAVEUSDT\n",
      "Query successful\n",
      "ACABTC\n",
      "Query successful\n",
      "ACAUSDT\n",
      "Query successful\n",
      "ACEBTC\n",
      "Query successful\n",
      "ACEUSDT\n",
      "Query successful\n",
      "ACHBTC\n",
      "Query successful\n",
      "ACHUSDT\n",
      "Query successful\n",
      "ACMUSDT\n",
      "Query successful\n",
      "ADABTC\n",
      "Query successful\n",
      "ADAUSDT\n",
      "Query successful\n",
      "ADXBTC\n",
      "Query successful\n",
      "ADXUSDT\n",
      "Query successful\n",
      "AERGOBTC\n",
      "Query successful\n",
      "AERGOUSDT\n",
      "Query successful\n",
      "AGIXBTC\n",
      "Query successful\n",
      "AGIXUSDT\n",
      "Query successful\n",
      "AGLDBTC\n",
      "Query successful\n",
      "AGLDUSDT\n",
      "Query successful\n",
      "AIBTC\n",
      "Query successful\n",
      "AIUSDT\n",
      "Query successful\n",
      "AKROUSDT\n",
      "Query successful\n",
      "ALCXBTC\n",
      "Query successful\n",
      "ALCXUSDT\n",
      "Query successful\n",
      "ALGOBTC\n",
      "Query successful\n",
      "ALGOUSDT\n",
      "Query successful\n",
      "ALICEBTC\n",
      "Query successful\n",
      "ALICEUSDT\n",
      "Query successful\n",
      "ALPACABTC\n",
      "Query successful\n",
      "ALPACAUSDT\n",
      "Query successful\n",
      "ALPHABTC\n",
      "Query successful\n",
      "ALPHAUSDT\n",
      "Query successful\n",
      "ALPINEBTC\n",
      "Query successful\n",
      "ALPINEUSDT\n",
      "Query successful\n",
      "ALTBTC\n",
      "Query successful\n",
      "ALTUSDT\n",
      "Query successful\n",
      "AMPUSDT\n",
      "Query successful\n",
      "ANKRBTC\n",
      "Query successful\n",
      "ANKRUSDT\n",
      "Query successful\n",
      "ANTBTC\n",
      "Query successful\n",
      "ANTUSDT\n",
      "Query successful\n",
      "APEBTC\n",
      "Query successful\n",
      "APEUSDT\n",
      "Query successful\n",
      "API3BTC\n",
      "Query successful\n",
      "API3USDT\n",
      "Query successful\n",
      "APTBTC\n",
      "Query successful\n",
      "APTUSDT\n",
      "Query successful\n",
      "ARBBTC\n",
      "Query successful\n",
      "ARBUSDT\n",
      "Query successful\n",
      "ARKMBTC\n",
      "Query successful\n",
      "ARKMUSDT\n",
      "Query successful\n",
      "ARPABTC\n",
      "Query successful\n",
      "ARPAUSDT\n",
      "Query successful\n",
      "ARBTC\n",
      "Query successful\n",
      "ARUSDT\n",
      "Query successful\n",
      "ASRUSDT\n",
      "Query successful\n",
      "ASTRUSDT\n",
      "Query successful\n",
      "ASTBTC\n",
      "Query successful\n",
      "ATABTC\n",
      "Query successful\n",
      "ATAUSDT\n",
      "Query successful\n",
      "ATMUSDT\n",
      "Query successful\n",
      "ATOMBTC\n",
      "Query successful\n",
      "ATOMUSDT\n",
      "Query successful\n",
      "AUCTIONBTC\n",
      "Query successful\n",
      "AUCTIONUSDT\n",
      "Query successful\n",
      "AUDIOBTC\n",
      "Query successful\n",
      "AUDIOUSDT\n",
      "Query successful\n",
      "AVAXBTC\n",
      "Query successful\n",
      "AVAXUSDT\n",
      "Query successful\n",
      "AVABTC\n",
      "Query successful\n",
      "AVAUSDT\n",
      "Query successful\n",
      "AXSBTC\n",
      "Query successful\n",
      "AXSUSDT\n",
      "Query successful\n",
      "BADGERBTC\n",
      "Query successful\n",
      "BADGERUSDT\n",
      "Query successful\n",
      "BALBTC\n",
      "Query successful\n",
      "BALUSDT\n",
      "Query successful\n",
      "BANDBTC\n",
      "Query successful\n",
      "BANDUSDT\n",
      "Query successful\n",
      "BARUSDT\n",
      "Query successful\n",
      "BATBTC\n",
      "Query successful\n",
      "BATUSDT\n",
      "Query successful\n",
      "BCHBTC\n",
      "Query successful\n",
      "BCHUSDT\n",
      "Query successful\n",
      "BEAMXUSDT\n",
      "Query successful\n",
      "BELBTC\n",
      "Query successful\n",
      "BELUSDT\n",
      "Query successful\n",
      "BETABTC\n",
      "Query successful\n",
      "BETAUSDT\n",
      "Query successful\n",
      "BICOBTC\n",
      "Query successful\n",
      "BICOUSDT\n",
      "Query successful\n",
      "BIFIUSDT\n",
      "Query successful\n",
      "BLURBTC\n",
      "Query successful\n",
      "BLURUSDT\n",
      "Query successful\n",
      "BLZBTC\n",
      "Query successful\n",
      "BLZUSDT\n",
      "Query successful\n",
      "BNBDOWNUSDT\n",
      "Query successful\n",
      "BNBUPUSDT\n",
      "Query successful\n",
      "BNBBTC\n",
      "Query successful\n",
      "BNBUSDT\n",
      "Query successful\n",
      "BNTBTC\n",
      "Query successful\n",
      "BNTUSDT\n",
      "Query successful\n",
      "BNXBTC\n",
      "Query successful\n",
      "BNXUSDT\n",
      "Query successful\n",
      "BONDBTC\n",
      "Query successful\n",
      "BONDUSDT\n",
      "Query successful\n",
      "BONKUSDT\n",
      "Query successful\n",
      "BSWUSDT\n",
      "Query successful\n",
      "BTCDOWNUSDT\n",
      "Query successful\n",
      "BTCUPUSDT\n",
      "Query successful\n",
      "BTCUSDT\n",
      "Query successful\n",
      "BTTCUSDT\n",
      "Query successful\n",
      "C98BTC\n",
      "Query successful\n",
      "C98USDT\n",
      "Query successful\n",
      "CAKEUSDT\n",
      "Query successful\n",
      "CELOBTC\n",
      "Query successful\n",
      "CELOUSDT\n",
      "Query successful\n",
      "CELRBTC\n",
      "Query successful\n",
      "CELRUSDT\n",
      "Query successful\n",
      "CFXBTC\n",
      "Query successful\n",
      "CFXUSDT\n",
      "Query successful\n",
      "CHESSBTC\n",
      "Query successful\n",
      "CHESSUSDT\n",
      "Query successful\n",
      "CHRBTC\n",
      "Query successful\n",
      "CHRUSDT\n",
      "Query successful\n",
      "CHZBTC\n",
      "Query successful\n",
      "CHZUSDT\n",
      "Query successful\n",
      "CITYUSDT\n",
      "Query successful\n",
      "CKBUSDT\n",
      "Query successful\n",
      "CLVBTC\n",
      "Query successful\n",
      "CLVUSDT\n",
      "Query successful\n",
      "COMBOUSDT\n",
      "Query successful\n",
      "COMPBTC\n",
      "Query successful\n",
      "COMPUSDT\n",
      "Query successful\n",
      "COSBTC\n",
      "Query successful\n",
      "COSUSDT\n",
      "Query successful\n",
      "COTIBTC\n",
      "Query successful\n",
      "COTIUSDT\n",
      "Query successful\n",
      "CREAMUSDT\n",
      "Query successful\n",
      "CREOUSDT\n",
      "Query successful\n",
      "CRVBTC\n",
      "Query successful\n",
      "CRVUSDT\n",
      "Query successful\n",
      "CTKBTC\n",
      "Query successful\n",
      "CTKUSDT\n",
      "Query successful\n",
      "CTSIBTC\n",
      "Query successful\n",
      "CTSIUSDT\n",
      "Query successful\n",
      "CTXCBTC\n",
      "Query successful\n",
      "CTXCUSDT\n",
      "Query successful\n",
      "CVPUSDT\n",
      "Query successful\n",
      "CVXUSDT\n",
      "Query successful\n",
      "CYBERBTC\n",
      "Query successful\n",
      "CYBERUSDT\n",
      "Query successful\n",
      "DARBTC\n",
      "Query successful\n",
      "DARUSDT\n",
      "Query successful\n",
      "DASHBTC\n",
      "Query successful\n",
      "DASHUSDT\n",
      "Query successful\n",
      "DATABTC\n",
      "Query successful\n",
      "DATAUSDT\n",
      "Query successful\n",
      "DCRBTC\n",
      "Query successful\n",
      "DCRUSDT\n",
      "Query successful\n",
      "DEGOBTC\n",
      "Query successful\n",
      "DEGOUSDT\n",
      "Query successful\n",
      "DENTUSDT\n",
      "Query successful\n",
      "DEXEUSDT\n",
      "Query successful\n",
      "DFUSDT\n",
      "Query successful\n",
      "DGBBTC\n",
      "Query successful\n",
      "DGBUSDT\n",
      "Query successful\n",
      "DIABTC\n",
      "Query successful\n",
      "DIAUSDT\n",
      "Query successful\n",
      "DODOBTC\n",
      "Query successful\n",
      "DODOUSDT\n",
      "Query successful\n",
      "DOGEBTC\n",
      "Query successful\n",
      "DOGEUSDT\n",
      "Query successful\n",
      "DOTBTC\n",
      "Query successful\n",
      "DOTUSDT\n",
      "Query successful\n",
      "DUSKBTC\n",
      "Query successful\n",
      "DUSKUSDT\n",
      "Query successful\n",
      "DYDXBTC\n",
      "Query successful\n",
      "DYDXUSDT\n",
      "Query successful\n",
      "DYMBTC\n",
      "Query successful\n",
      "DYMUSDT\n",
      "Query successful\n",
      "EDUBTC\n",
      "Query successful\n",
      "EDUUSDT\n",
      "Query successful\n",
      "EGLDBTC\n",
      "Query successful\n",
      "EGLDUSDT\n",
      "Query successful\n",
      "ELFBTC\n",
      "Query successful\n",
      "ELFUSDT\n",
      "Query successful\n",
      "ENJBTC\n",
      "Query successful\n",
      "ENJUSDT\n",
      "Query successful\n",
      "ENSBTC\n",
      "Query successful\n",
      "ENSUSDT\n",
      "Query successful\n",
      "EOSBTC\n",
      "Query successful\n",
      "EOSUSDT\n",
      "Query successful\n",
      "EPXUSDT\n",
      "Query successful\n",
      "ERNUSDT\n",
      "Query successful\n",
      "ETCBTC\n",
      "Query successful\n",
      "ETCUSDT\n",
      "Query successful\n",
      "ETHDOWNUSDT\n",
      "Query successful\n",
      "ETHUPUSDT\n",
      "Query successful\n",
      "ETHBTC\n",
      "Query successful\n",
      "ETHUSDT\n",
      "Query successful\n",
      "FARMBTC\n",
      "Query successful\n",
      "FARMUSDT\n",
      "Query successful\n",
      "FDUSDUSDT\n",
      "Query successful\n",
      "FETBTC\n",
      "Query successful\n",
      "FETUSDT\n",
      "Query successful\n",
      "FIDABTC\n",
      "Query successful\n",
      "FIDAUSDT\n",
      "Query successful\n",
      "FILBTC\n",
      "Query successful\n",
      "FILUSDT\n",
      "Query successful\n",
      "FIOBTC\n",
      "Query successful\n",
      "FIOUSDT\n",
      "Query successful\n",
      "FIROBTC\n",
      "Query successful\n",
      "FIROUSDT\n",
      "Query successful\n",
      "FISBTC\n",
      "Query successful\n",
      "FISUSDT\n",
      "Query successful\n",
      "FLMBTC\n",
      "Query successful\n",
      "FLMUSDT\n",
      "Query successful\n",
      "FLOKIUSDT\n",
      "Query successful\n",
      "FLOWBTC\n",
      "Query successful\n",
      "FLOWUSDT\n",
      "Query successful\n",
      "FLUXBTC\n",
      "Query successful\n",
      "FLUXUSDT\n",
      "Query successful\n",
      "FORTHBTC\n",
      "Query successful\n",
      "FORTHUSDT\n",
      "Query successful\n",
      "FORBTC\n",
      "Query successful\n",
      "FORUSDT\n",
      "Query successful\n",
      "FRONTBTC\n",
      "Query successful\n",
      "FRONTUSDT\n",
      "Query successful\n",
      "FTMBTC\n",
      "Query successful\n",
      "FTMUSDT\n",
      "Query successful\n",
      "FXSBTC\n",
      "Query successful\n",
      "FXSUSDT\n",
      "Query successful\n",
      "GALABTC\n",
      "Query successful\n",
      "GALAUSDT\n",
      "Query successful\n",
      "GALBTC\n",
      "Query successful\n",
      "GALUSDT\n",
      "Query successful\n",
      "GASBTC\n",
      "Query successful\n",
      "GASUSDT\n",
      "Query successful\n",
      "GFTUSDT\n",
      "Query successful\n",
      "GHSTUSDT\n",
      "Query successful\n",
      "GLMRBTC\n",
      "Query successful\n",
      "GLMRUSDT\n",
      "Query successful\n",
      "GLMBTC\n",
      "Query successful\n",
      "GLMUSDT\n",
      "Query successful\n",
      "GMTBTC\n",
      "Query successful\n",
      "GMTUSDT\n",
      "Query successful\n",
      "GMXBTC\n",
      "Query successful\n",
      "GMXUSDT\n",
      "Query successful\n",
      "GRTBTC\n",
      "Query successful\n",
      "GRTUSDT\n",
      "Query successful\n",
      "GTCBTC\n",
      "Query successful\n",
      "GTCUSDT\n",
      "Query successful\n",
      "HARDBTC\n",
      "Query successful\n",
      "HARDUSDT\n",
      "Query successful\n",
      "HBARBTC\n",
      "Query successful\n",
      "HBARUSDT\n",
      "Query successful\n",
      "HFTBTC\n",
      "Query successful\n",
      "HFTUSDT\n",
      "Query successful\n",
      "HIFIUSDT\n",
      "Query successful\n",
      "HIGHBTC\n",
      "Query successful\n",
      "HIGHUSDT\n",
      "Query successful\n",
      "HIVEBTC\n",
      "Query successful\n",
      "HIVEUSDT\n",
      "Query successful\n",
      "HOOKBTC\n",
      "Query successful\n",
      "HOOKUSDT\n",
      "Query successful\n",
      "HOTUSDT\n",
      "Query successful\n",
      "ICPBTC\n",
      "Query successful\n",
      "ICPUSDT\n",
      "Query successful\n",
      "ICXBTC\n",
      "Query successful\n",
      "ICXUSDT\n",
      "Query successful\n",
      "IDEXBTC\n",
      "Query successful\n",
      "IDEXUSDT\n",
      "Query successful\n",
      "IDBTC\n",
      "Query successful\n",
      "IDUSDT\n",
      "Query successful\n",
      "ILVBTC\n",
      "Query successful\n",
      "ILVUSDT\n",
      "Query successful\n",
      "IMXBTC\n",
      "Query successful\n",
      "IMXUSDT\n",
      "Query successful\n",
      "INJBTC\n",
      "Query successful\n",
      "INJUSDT\n",
      "Query successful\n",
      "IOSTBTC\n",
      "Query successful\n",
      "IOSTUSDT\n",
      "Query successful\n",
      "IOTABTC\n",
      "Query successful\n",
      "IOTAUSDT\n",
      "Query successful\n",
      "IOTXBTC\n",
      "Query successful\n",
      "IOTXUSDT\n",
      "Query successful\n",
      "IQUSDT\n",
      "Query successful\n",
      "IRISBTC\n",
      "Query successful\n",
      "IRISUSDT\n",
      "Query successful\n",
      "JASMYUSDT\n",
      "Query successful\n",
      "JOEBTC\n",
      "Query successful\n",
      "JOEUSDT\n",
      "Query successful\n",
      "JSTBTC\n",
      "Query successful\n",
      "JSTUSDT\n",
      "Query successful\n",
      "JTOUSDT\n",
      "Query successful\n",
      "JUPUSDT\n",
      "Query successful\n",
      "KAVABTC\n",
      "Query successful\n",
      "KAVAUSDT\n",
      "Query successful\n",
      "KDABTC\n",
      "Query successful\n",
      "KDAUSDT\n",
      "Query successful\n",
      "KEYUSDT\n",
      "Query successful\n",
      "KLAYBTC\n",
      "Query successful\n",
      "KLAYUSDT\n",
      "Query successful\n",
      "KMDBTC\n",
      "Query successful\n",
      "KMDUSDT\n",
      "Query successful\n",
      "KNCBTC\n",
      "Query successful\n",
      "KNCUSDT\n",
      "Query successful\n",
      "KP3RUSDT\n",
      "Query successful\n",
      "KSMBTC\n",
      "Query successful\n",
      "KSMUSDT\n",
      "Query successful\n",
      "LAZIOBTC\n",
      "Query successful\n",
      "LAZIOUSDT\n",
      "Query successful\n",
      "LDOBTC\n",
      "Query successful\n",
      "LDOUSDT\n",
      "Query successful\n",
      "LEVERUSDT\n",
      "Query successful\n",
      "LINABTC\n",
      "Query successful\n",
      "LINAUSDT\n",
      "Query successful\n",
      "LINKBTC\n",
      "Query successful\n",
      "LINKUSDT\n",
      "Query successful\n",
      "LITBTC\n",
      "Query successful\n",
      "LITUSDT\n",
      "Query successful\n",
      "LOKABTC\n",
      "Query successful\n",
      "LOKAUSDT\n",
      "Query successful\n",
      "LPTBTC\n",
      "Query successful\n",
      "LPTUSDT\n",
      "Query successful\n",
      "LRCBTC\n",
      "Query successful\n",
      "LRCUSDT\n",
      "Query successful\n",
      "LSKBTC\n",
      "Query successful\n",
      "LSKUSDT\n",
      "Query successful\n",
      "LTCBTC\n",
      "Query successful\n",
      "LTCUSDT\n",
      "Query successful\n",
      "LTOBTC\n",
      "Query successful\n",
      "LTOUSDT\n",
      "Query successful\n",
      "LUNAUSDT\n",
      "Query successful\n",
      "LUNCUSDT\n",
      "Query successful\n",
      "MAGICBTC\n",
      "Query successful\n",
      "MAGICUSDT\n",
      "Query successful\n",
      "MANABTC\n",
      "Query successful\n",
      "MANAUSDT\n",
      "Query successful\n",
      "MANTABTC\n",
      "Query successful\n",
      "MANTAUSDT\n",
      "Query successful\n",
      "MASKUSDT\n",
      "Query successful\n",
      "MATICBTC\n",
      "Query successful\n",
      "MATICUSDT\n",
      "Query successful\n",
      "MAVBTC\n",
      "Query successful\n",
      "MAVUSDT\n",
      "Query successful\n",
      "MBLUSDT\n",
      "Query successful\n",
      "MBOXBTC\n",
      "Query successful\n",
      "MBOXUSDT\n",
      "Query successful\n",
      "MDTBTC\n",
      "Query successful\n",
      "MDTUSDT\n",
      "Query successful\n",
      "MDXBTC\n",
      "Query successful\n",
      "MDXUSDT\n",
      "Query successful\n",
      "MEMEUSDT\n",
      "Query successful\n",
      "MINABTC\n",
      "Query successful\n",
      "MINAUSDT\n",
      "Query successful\n",
      "MKRBTC\n",
      "Query successful\n",
      "MKRUSDT\n",
      "Query successful\n",
      "MLNBTC\n",
      "Query successful\n",
      "MLNUSDT\n",
      "Query successful\n",
      "MOBBTC\n",
      "Query successful\n",
      "MOBUSDT\n",
      "Query successful\n",
      "MOVRBTC\n",
      "Query successful\n",
      "MOVRUSDT\n",
      "Query successful\n",
      "MTLBTC\n",
      "Query successful\n",
      "MTLUSDT\n",
      "Query successful\n",
      "MULTIUSDT\n",
      "Query successful\n",
      "NBTUSDT\n",
      "Query successful\n",
      "NEARBTC\n",
      "Query successful\n",
      "NEARUSDT\n",
      "Query successful\n",
      "NEOBTC\n",
      "Query successful\n",
      "NEOUSDT\n",
      "Query successful\n",
      "NEXOBTC\n",
      "Query successful\n",
      "NEXOUSDT\n",
      "Query successful\n",
      "NKNBTC\n",
      "Query successful\n",
      "NKNUSDT\n",
      "Query successful\n",
      "NMRBTC\n",
      "Query successful\n",
      "NMRUSDT\n",
      "Query successful\n",
      "NTRNBTC\n",
      "Query successful\n",
      "NTRNUSDT\n",
      "Query successful\n",
      "NULSBTC\n",
      "Query successful\n",
      "NULSUSDT\n",
      "Query successful\n",
      "OCEANBTC\n",
      "Query successful\n",
      "OCEANUSDT\n",
      "Query successful\n",
      "OGNBTC\n",
      "Query successful\n",
      "OGNUSDT\n",
      "Query successful\n",
      "OGBTC\n",
      "Query successful\n",
      "OGUSDT\n",
      "Query successful\n",
      "OMGUSDT\n",
      "Query successful\n",
      "OMUSDT\n",
      "Query successful\n",
      "ONEBTC\n",
      "Query successful\n",
      "ONEUSDT\n",
      "Query successful\n",
      "ONGBTC\n",
      "Query successful\n",
      "ONGUSDT\n",
      "Query successful\n",
      "ONTBTC\n",
      "Query successful\n",
      "ONTUSDT\n",
      "Query successful\n",
      "OOKIUSDT\n",
      "Query successful\n",
      "OPBTC\n",
      "Query successful\n",
      "OPUSDT\n",
      "Query successful\n",
      "ORDIBTC\n",
      "Query successful\n",
      "ORDIUSDT\n",
      "Query successful\n",
      "ORNBTC\n",
      "Query successful\n",
      "ORNUSDT\n",
      "Query successful\n",
      "OXTBTC\n",
      "Query successful\n",
      "OXTUSDT\n",
      "Query successful\n",
      "PAXGBTC\n",
      "Query successful\n",
      "PAXGUSDT\n",
      "Query successful\n",
      "PENDLEBTC\n",
      "Query successful\n",
      "PENDLEUSDT\n",
      "Query successful\n",
      "PEOPLEBTC\n",
      "Query successful\n",
      "PEOPLEUSDT\n",
      "Query successful\n",
      "PEPEUSDT\n",
      "Query successful\n",
      "PERPBTC\n",
      "Query successful\n",
      "PERPUSDT\n",
      "Query successful\n",
      "PHABTC\n",
      "Query successful\n",
      "PHAUSDT\n",
      "Query successful\n",
      "PLABTC\n",
      "Query successful\n",
      "PLAUSDT\n",
      "Query successful\n",
      "PNTUSDT\n",
      "Query successful\n",
      "POLSUSDT\n",
      "Query successful\n",
      "POLYXBTC\n",
      "Query successful\n",
      "POLYXUSDT\n",
      "Query successful\n",
      "PONDBTC\n",
      "Query successful\n",
      "PONDUSDT\n",
      "Query successful\n",
      "PORTOBTC\n",
      "Query successful\n",
      "PORTOUSDT\n",
      "Query successful\n",
      "POWRBTC\n",
      "Query successful\n",
      "POWRUSDT\n",
      "Query successful\n",
      "PROMUSDT\n",
      "Query successful\n",
      "PSGUSDT\n",
      "Query successful\n",
      "PYRBTC\n",
      "Query successful\n",
      "PYRUSDT\n",
      "Query successful\n",
      "PYTHBTC\n",
      "Query successful\n",
      "PYTHUSDT\n",
      "Query successful\n",
      "QIBTC\n",
      "Query successful\n",
      "QIUSDT\n",
      "Query successful\n",
      "QNTBTC\n",
      "Query successful\n",
      "QNTUSDT\n",
      "Query successful\n",
      "QTUMBTC\n",
      "Query successful\n",
      "QTUMUSDT\n",
      "Query successful\n",
      "QUICKBTC\n",
      "Query successful\n",
      "QUICKUSDT\n",
      "Query successful\n",
      "RADBTC\n",
      "Query successful\n",
      "RADUSDT\n",
      "Query successful\n",
      "RAREBTC\n",
      "Query successful\n",
      "RAREUSDT\n",
      "Query successful\n",
      "RAYUSDT\n",
      "Query successful\n",
      "RDNTBTC\n",
      "Query successful\n",
      "RDNTUSDT\n",
      "Query successful\n",
      "REEFUSDT\n",
      "Query successful\n",
      "REIUSDT\n",
      "Query successful\n",
      "RENBTC\n",
      "Query successful\n",
      "RENUSDT\n",
      "Query successful\n",
      "REQBTC\n",
      "Query successful\n",
      "REQUSDT\n",
      "Query successful\n",
      "RIFBTC\n",
      "Query successful\n",
      "RIFUSDT\n",
      "Query successful\n",
      "RLCBTC\n",
      "Query successful\n",
      "RLCUSDT\n",
      "Query successful\n",
      "RNDRBTC\n",
      "Query successful\n",
      "RNDRUSDT\n",
      "Query successful\n",
      "RONINBTC\n",
      "Query successful\n",
      "RONINUSDT\n",
      "Query successful\n",
      "ROSEBTC\n",
      "Query successful\n",
      "ROSEUSDT\n",
      "Query successful\n",
      "RPLUSDT\n",
      "Query successful\n",
      "RSRUSDT\n",
      "Query successful\n",
      "RUNEBTC\n",
      "Query successful\n",
      "RUNEUSDT\n",
      "Query successful\n",
      "RVNBTC\n",
      "Query successful\n",
      "RVNUSDT\n",
      "Query successful\n",
      "SANDBTC\n",
      "Query successful\n",
      "SANDUSDT\n",
      "Query successful\n",
      "SANTOSBTC\n",
      "Query successful\n",
      "SANTOSUSDT\n",
      "Query successful\n",
      "SCRTBTC\n",
      "Query successful\n",
      "SCRTUSDT\n",
      "Query successful\n",
      "SCUSDT\n",
      "Query successful\n",
      "SEIBTC\n",
      "Query successful\n",
      "SEIUSDT\n",
      "Query successful\n",
      "SFPBTC\n",
      "Query successful\n",
      "SFPUSDT\n",
      "Query successful\n",
      "SHIBUSDT\n",
      "Query successful\n",
      "SKLBTC\n",
      "Query successful\n",
      "SKLUSDT\n",
      "Query successful\n",
      "SLPUSDT\n",
      "Query successful\n",
      "SNTBTC\n",
      "Query successful\n",
      "SNXBTC\n",
      "Query successful\n",
      "SNXUSDT\n",
      "Query successful\n",
      "SOLBTC\n",
      "Query successful\n",
      "SOLUSDT\n",
      "Query successful\n",
      "SPELLUSDT\n",
      "Query successful\n",
      "SSVBTC\n",
      "Query successful\n",
      "SSVUSDT\n",
      "Query successful\n",
      "STEEMBTC\n",
      "Query successful\n",
      "STGBTC\n",
      "Query successful\n",
      "STGUSDT\n",
      "Query successful\n",
      "STMXUSDT\n",
      "Query successful\n",
      "STORJBTC\n",
      "Query successful\n",
      "STORJUSDT\n",
      "Query successful\n",
      "STPTBTC\n",
      "Query successful\n",
      "STPTUSDT\n",
      "Query successful\n",
      "STRAXBTC\n",
      "Query successful\n",
      "STRAXUSDT\n",
      "Query successful\n",
      "STXBTC\n",
      "Query successful\n",
      "STXUSDT\n",
      "Query successful\n",
      "SUIBTC\n",
      "Query successful\n",
      "SUIUSDT\n",
      "Query successful\n",
      "SUNUSDT\n",
      "Query successful\n",
      "SUPERBTC\n",
      "Query successful\n",
      "SUPERUSDT\n",
      "Query successful\n",
      "SUSHIBTC\n",
      "Query successful\n",
      "SUSHIUSDT\n",
      "Query successful\n",
      "SXPBTC\n",
      "Query successful\n",
      "SXPUSDT\n",
      "Query successful\n",
      "SYSBTC\n",
      "Query successful\n",
      "SYSUSDT\n",
      "Query successful\n",
      "TFUELBTC\n",
      "Query successful\n",
      "TFUELUSDT\n",
      "Query successful\n",
      "THETABTC\n",
      "Query successful\n",
      "THETAUSDT\n",
      "Query successful\n",
      "TIABTC\n",
      "Query successful\n",
      "TIAUSDT\n",
      "Query successful\n",
      "TKOBTC\n",
      "Query successful\n",
      "TKOUSDT\n",
      "Query successful\n",
      "TLMBTC\n",
      "Query successful\n",
      "TLMUSDT\n",
      "Query successful\n",
      "TRBBTC\n",
      "Query successful\n",
      "TRBUSDT\n",
      "Query successful\n",
      "TROYUSDT\n",
      "Query successful\n",
      "TRUBTC\n",
      "Query successful\n",
      "TRUUSDT\n",
      "Query successful\n",
      "TRXBTC\n",
      "Query successful\n",
      "TRXUSDT\n",
      "Query successful\n",
      "TUSDUSDT\n",
      "Query successful\n",
      "TWTBTC\n",
      "Query successful\n",
      "TWTUSDT\n",
      "Query successful\n",
      "TUSDT\n",
      "Query successful\n",
      "UFTUSDT\n",
      "Query successful\n",
      "UMABTC\n",
      "Query successful\n",
      "UMAUSDT\n",
      "Query successful\n",
      "UNFIBTC\n",
      "Query successful\n",
      "UNFIUSDT\n",
      "Query successful\n",
      "UNIBTC\n",
      "Query successful\n",
      "UNIUSDT\n",
      "Query successful\n",
      "USDCUSDT\n",
      "Query successful\n",
      "USTCUSDT\n",
      "Query successful\n",
      "UTKBTC\n",
      "Query successful\n",
      "UTKUSDT\n",
      "Query successful\n",
      "VANRYBTC\n",
      "Query successful\n",
      "VANRYUSDT\n",
      "Query successful\n",
      "VELOUSDT\n",
      "Query successful\n",
      "VETBTC\n",
      "Query successful\n",
      "VETUSDT\n",
      "Query successful\n",
      "VGXUSDT\n",
      "Query successful\n",
      "VICBTC\n",
      "Query successful\n",
      "VICUSDT\n",
      "Query successful\n",
      "VIDTBTC\n",
      "Query successful\n",
      "VIDTUSDT\n",
      "Query successful\n",
      "VITEBTC\n",
      "Query successful\n",
      "VITEUSDT\n",
      "Query successful\n",
      "VOXELBTC\n",
      "Query successful\n",
      "VOXELUSDT\n",
      "Query successful\n",
      "VTHOUSDT\n",
      "Query successful\n",
      "WANBTC\n",
      "Query successful\n",
      "WANUSDT\n",
      "Query successful\n",
      "WAVESBTC\n",
      "Query successful\n",
      "WAVESUSDT\n",
      "Query successful\n",
      "WAXPBTC\n",
      "Query successful\n",
      "WAXPUSDT\n",
      "Query successful\n",
      "WBTCBTC\n",
      "Query successful\n",
      "WINGBTC\n",
      "Query successful\n",
      "WINGUSDT\n",
      "Query successful\n",
      "WINUSDT\n",
      "Query successful\n",
      "WLDBTC\n",
      "Query successful\n",
      "WLDUSDT\n",
      "Query successful\n",
      "WOOBTC\n",
      "Query successful\n",
      "WOOUSDT\n",
      "Query successful\n",
      "WRXUSDT\n",
      "Query successful\n",
      "XAIUSDT\n",
      "Query successful\n",
      "XECUSDT\n",
      "Query successful\n",
      "XEMUSDT\n",
      "Query successful\n",
      "XLMBTC\n",
      "Query successful\n",
      "XLMUSDT\n",
      "Query successful\n",
      "XNOBTC\n",
      "Query successful\n",
      "XNOUSDT\n",
      "Query successful\n",
      "XRPBTC\n",
      "Query successful\n",
      "XRPUSDT\n",
      "Query successful\n",
      "XTZBTC\n",
      "Query successful\n",
      "XTZUSDT\n",
      "Query successful\n",
      "XVGUSDT\n",
      "Query successful\n",
      "XVSBTC\n",
      "Query successful\n",
      "XVSUSDT\n",
      "Query successful\n",
      "YFIBTC\n",
      "Query successful\n",
      "YFIUSDT\n",
      "Query successful\n",
      "YGGBTC\n",
      "Query successful\n",
      "YGGUSDT\n",
      "Query successful\n",
      "ZENBTC\n",
      "Query successful\n",
      "ZENUSDT\n",
      "Query successful\n",
      "ZILBTC\n",
      "Query successful\n",
      "ZILUSDT\n",
      "Query successful\n",
      "ZRXBTC\n",
      "Query successful\n",
      "ZRXUSDT\n",
      "Query successful\n"
     ]
    }
   ],
   "source": [
    "dict_initial_listing = {}\n",
    "for i in range(len(considered_market)):\n",
    "    try:\n",
    "        market = considered_market[i]\n",
    "        market = market.replace('/', '')\n",
    "        print(market)\n",
    "        query = 'SELECT * FROM %s ORDER BY timestamp ASC' % market\n",
    "        res = execute_query(connection,query)\n",
    "        df = pd.DataFrame(res,columns=['timestamp', 'open','high', 'low','close','volume'])\n",
    "        df = df.drop_duplicates()\n",
    "        df['timestamp'] = pd.to_datetime(df['timestamp'], unit='ms')\n",
    "        day_df = (df.resample('D', on='timestamp').agg({'open': 'first', 'high': 'max', 'low': 'min', 'close': 'last'}))\n",
    "        day_df['timestamp'] = day_df.index\n",
    "        dict_initial_listing[market] = day_df['timestamp'].iloc[0]\n",
    "    except:\n",
    "        continue\n",
    "        "
   ]
  },
  {
   "cell_type": "code",
   "execution_count": 105,
   "metadata": {},
   "outputs": [
    {
     "data": {
      "text/plain": [
       "{'1INCHBTC': Timestamp('2020-12-25 00:00:00'),\n",
       " '1INCHUSDT': Timestamp('2020-12-25 00:00:00'),\n",
       " 'AAVEUSDT': Timestamp('2020-10-15 00:00:00'),\n",
       " 'ACABTC': Timestamp('2022-01-25 00:00:00'),\n",
       " 'ACAUSDT': Timestamp('2022-01-25 00:00:00'),\n",
       " 'ACEBTC': Timestamp('2023-12-18 00:00:00'),\n",
       " 'ACEUSDT': Timestamp('2023-12-18 00:00:00'),\n",
       " 'ACHBTC': Timestamp('2022-01-10 00:00:00'),\n",
       " 'ACHUSDT': Timestamp('2022-01-10 00:00:00'),\n",
       " 'ACMUSDT': Timestamp('2021-02-24 00:00:00'),\n",
       " 'ADABTC': Timestamp('2017-11-30 00:00:00'),\n",
       " 'ADAUSDT': Timestamp('2018-04-17 00:00:00'),\n",
       " 'ADXBTC': Timestamp('2017-11-29 00:00:00'),\n",
       " 'ADXUSDT': Timestamp('2021-10-29 00:00:00'),\n",
       " 'AERGOBTC': Timestamp('2020-10-21 00:00:00'),\n",
       " 'AERGOUSDT': Timestamp('2023-05-05 00:00:00'),\n",
       " 'AGIXBTC': Timestamp('2021-06-02 00:00:00'),\n",
       " 'AGIXUSDT': Timestamp('2023-02-17 00:00:00'),\n",
       " 'AGLDBTC': Timestamp('2021-10-05 00:00:00'),\n",
       " 'AGLDUSDT': Timestamp('2021-10-05 00:00:00'),\n",
       " 'AIBTC': Timestamp('2024-01-04 00:00:00'),\n",
       " 'AIUSDT': Timestamp('2024-01-04 00:00:00'),\n",
       " 'AKROUSDT': Timestamp('2020-11-02 00:00:00'),\n",
       " 'ALCXBTC': Timestamp('2021-11-30 00:00:00'),\n",
       " 'ALCXUSDT': Timestamp('2021-11-30 00:00:00'),\n",
       " 'ALGOBTC': Timestamp('2019-06-22 00:00:00'),\n",
       " 'ALGOUSDT': Timestamp('2019-06-22 00:00:00'),\n",
       " 'ALICEBTC': Timestamp('2021-03-15 00:00:00'),\n",
       " 'ALICEUSDT': Timestamp('2021-03-15 00:00:00'),\n",
       " 'ALPACABTC': Timestamp('2021-08-11 00:00:00'),\n",
       " 'ALPACAUSDT': Timestamp('2021-08-11 00:00:00'),\n",
       " 'ALPHABTC': Timestamp('2020-10-10 00:00:00'),\n",
       " 'ALPHAUSDT': Timestamp('2020-10-10 00:00:00'),\n",
       " 'ALPINEBTC': Timestamp('2022-02-21 00:00:00'),\n",
       " 'ALPINEUSDT': Timestamp('2022-02-21 00:00:00'),\n",
       " 'ALTBTC': Timestamp('2024-01-25 00:00:00'),\n",
       " 'ALTUSDT': Timestamp('2024-01-25 00:00:00'),\n",
       " 'AMPUSDT': Timestamp('2021-11-23 00:00:00'),\n",
       " 'ANKRBTC': Timestamp('2019-07-23 00:00:00'),\n",
       " 'ANKRUSDT': Timestamp('2019-07-23 00:00:00'),\n",
       " 'ANTBTC': Timestamp('2020-08-13 00:00:00'),\n",
       " 'ANTUSDT': Timestamp('2020-08-13 00:00:00'),\n",
       " 'APEBTC': Timestamp('2022-03-17 00:00:00'),\n",
       " 'APEUSDT': Timestamp('2022-03-17 00:00:00'),\n",
       " 'API3BTC': Timestamp('2022-01-21 00:00:00'),\n",
       " 'API3USDT': Timestamp('2022-01-21 00:00:00'),\n",
       " 'APTBTC': Timestamp('2022-10-19 00:00:00'),\n",
       " 'APTUSDT': Timestamp('2022-10-19 00:00:00'),\n",
       " 'ARBBTC': Timestamp('2023-03-23 00:00:00'),\n",
       " 'ARBUSDT': Timestamp('2023-03-23 00:00:00'),\n",
       " 'ARKMBTC': Timestamp('2023-07-18 00:00:00'),\n",
       " 'ARKMUSDT': Timestamp('2023-07-18 00:00:00'),\n",
       " 'ARPABTC': Timestamp('2019-11-06 00:00:00'),\n",
       " 'ARPAUSDT': Timestamp('2019-11-06 00:00:00'),\n",
       " 'ARBTC': Timestamp('2021-05-14 00:00:00'),\n",
       " 'ARUSDT': Timestamp('2021-05-14 00:00:00'),\n",
       " 'ASRUSDT': Timestamp('2020-12-30 00:00:00'),\n",
       " 'ASTRUSDT': Timestamp('2022-02-28 00:00:00'),\n",
       " 'ASTBTC': Timestamp('2017-10-19 00:00:00'),\n",
       " 'ATABTC': Timestamp('2021-06-07 00:00:00'),\n",
       " 'ATAUSDT': Timestamp('2021-06-07 00:00:00'),\n",
       " 'ATMUSDT': Timestamp('2020-12-30 00:00:00'),\n",
       " 'ATOMBTC': Timestamp('2019-04-29 00:00:00'),\n",
       " 'ATOMUSDT': Timestamp('2019-04-29 00:00:00'),\n",
       " 'AUCTIONBTC': Timestamp('2021-02-25 00:00:00'),\n",
       " 'AUCTIONUSDT': Timestamp('2021-10-29 00:00:00'),\n",
       " 'AUDIOBTC': Timestamp('2020-10-23 00:00:00'),\n",
       " 'AUDIOUSDT': Timestamp('2020-10-23 00:00:00'),\n",
       " 'AVAXBTC': Timestamp('2020-09-22 00:00:00'),\n",
       " 'AVAXUSDT': Timestamp('2020-09-22 00:00:00'),\n",
       " 'AVABTC': Timestamp('2020-08-05 00:00:00'),\n",
       " 'AVAUSDT': Timestamp('2020-11-24 00:00:00'),\n",
       " 'AXSBTC': Timestamp('2020-11-04 00:00:00'),\n",
       " 'AXSUSDT': Timestamp('2020-11-04 00:00:00'),\n",
       " 'BADGERBTC': Timestamp('2021-03-02 00:00:00'),\n",
       " 'BADGERUSDT': Timestamp('2021-03-02 00:00:00'),\n",
       " 'BALBTC': Timestamp('2020-08-06 00:00:00'),\n",
       " 'BALUSDT': Timestamp('2020-08-11 00:00:00'),\n",
       " 'BANDBTC': Timestamp('2019-09-18 00:00:00'),\n",
       " 'BANDUSDT': Timestamp('2019-09-18 00:00:00'),\n",
       " 'BARUSDT': Timestamp('2021-04-21 00:00:00'),\n",
       " 'BATBTC': Timestamp('2017-11-13 00:00:00'),\n",
       " 'BATUSDT': Timestamp('2019-03-04 00:00:00'),\n",
       " 'BCHBTC': Timestamp('2019-11-28 00:00:00'),\n",
       " 'BCHUSDT': Timestamp('2019-11-28 00:00:00'),\n",
       " 'BEAMXUSDT': Timestamp('2023-11-14 00:00:00'),\n",
       " 'BELBTC': Timestamp('2020-09-15 00:00:00'),\n",
       " 'BELUSDT': Timestamp('2020-09-15 00:00:00'),\n",
       " 'BETABTC': Timestamp('2021-10-08 00:00:00'),\n",
       " 'BETAUSDT': Timestamp('2021-10-08 00:00:00'),\n",
       " 'BICOBTC': Timestamp('2021-12-09 00:00:00'),\n",
       " 'BICOUSDT': Timestamp('2021-12-09 00:00:00'),\n",
       " 'BIFIUSDT': Timestamp('2022-04-01 00:00:00'),\n",
       " 'BLURBTC': Timestamp('2023-11-24 00:00:00'),\n",
       " 'BLURUSDT': Timestamp('2023-11-24 00:00:00'),\n",
       " 'BLZBTC': Timestamp('2018-02-06 00:00:00'),\n",
       " 'BLZUSDT': Timestamp('2020-08-11 00:00:00'),\n",
       " 'BNBDOWNUSDT': Timestamp('2020-08-06 00:00:00'),\n",
       " 'BNBUPUSDT': Timestamp('2020-08-06 00:00:00'),\n",
       " 'BNBBTC': Timestamp('2017-07-14 00:00:00'),\n",
       " 'BNBUSDT': Timestamp('2017-11-06 00:00:00'),\n",
       " 'BNTBTC': Timestamp('2017-10-17 00:00:00'),\n",
       " 'BNTUSDT': Timestamp('2020-02-06 00:00:00'),\n",
       " 'BNXBTC': Timestamp('2021-11-04 00:00:00'),\n",
       " 'BNXUSDT': Timestamp('2021-11-04 00:00:00'),\n",
       " 'BONDBTC': Timestamp('2021-07-05 00:00:00'),\n",
       " 'BONDUSDT': Timestamp('2021-07-05 00:00:00'),\n",
       " 'BONKUSDT': Timestamp('2023-12-15 00:00:00'),\n",
       " 'BSWUSDT': Timestamp('2022-03-21 00:00:00'),\n",
       " 'BTCDOWNUSDT': Timestamp('2020-05-14 00:00:00'),\n",
       " 'BTCUPUSDT': Timestamp('2020-05-14 00:00:00'),\n",
       " 'BTCUSDT': Timestamp('2017-08-17 00:00:00'),\n",
       " 'BTTCUSDT': Timestamp('2022-01-25 00:00:00'),\n",
       " 'C98BTC': Timestamp('2021-07-23 00:00:00'),\n",
       " 'C98USDT': Timestamp('2021-07-23 00:00:00'),\n",
       " 'CAKEUSDT': Timestamp('2021-02-19 00:00:00'),\n",
       " 'CELOBTC': Timestamp('2021-01-05 00:00:00'),\n",
       " 'CELOUSDT': Timestamp('2021-01-05 00:00:00'),\n",
       " 'CELRBTC': Timestamp('2019-03-25 00:00:00'),\n",
       " 'CELRUSDT': Timestamp('2019-03-25 00:00:00'),\n",
       " 'CFXBTC': Timestamp('2021-03-29 00:00:00'),\n",
       " 'CFXUSDT': Timestamp('2021-03-29 00:00:00'),\n",
       " 'CHESSBTC': Timestamp('2021-10-22 00:00:00'),\n",
       " 'CHESSUSDT': Timestamp('2021-10-22 00:00:00'),\n",
       " 'CHRBTC': Timestamp('2020-05-07 00:00:00'),\n",
       " 'CHRUSDT': Timestamp('2020-05-07 00:00:00'),\n",
       " 'CHZBTC': Timestamp('2019-09-06 00:00:00'),\n",
       " 'CHZUSDT': Timestamp('2019-09-06 00:00:00'),\n",
       " 'CITYUSDT': Timestamp('2021-11-10 00:00:00'),\n",
       " 'CKBUSDT': Timestamp('2021-01-26 00:00:00'),\n",
       " 'CLVBTC': Timestamp('2021-07-29 00:00:00'),\n",
       " 'CLVUSDT': Timestamp('2021-07-29 00:00:00'),\n",
       " 'COMBOUSDT': Timestamp('2023-06-02 00:00:00'),\n",
       " 'COMPBTC': Timestamp('2020-06-25 00:00:00'),\n",
       " 'COMPUSDT': Timestamp('2020-06-25 00:00:00'),\n",
       " 'COSBTC': Timestamp('2019-08-03 00:00:00'),\n",
       " 'COSUSDT': Timestamp('2019-08-03 00:00:00'),\n",
       " 'COTIBTC': Timestamp('2020-02-26 00:00:00'),\n",
       " 'COTIUSDT': Timestamp('2020-02-26 00:00:00'),\n",
       " 'CREAMUSDT': Timestamp('2023-09-22 00:00:00'),\n",
       " 'CRVBTC': Timestamp('2020-08-15 00:00:00'),\n",
       " 'CRVUSDT': Timestamp('2020-08-15 00:00:00'),\n",
       " 'CTKBTC': Timestamp('2020-10-27 00:00:00'),\n",
       " 'CTKUSDT': Timestamp('2020-10-27 00:00:00'),\n",
       " 'CTSIBTC': Timestamp('2020-04-23 00:00:00'),\n",
       " 'CTSIUSDT': Timestamp('2020-04-23 00:00:00'),\n",
       " 'CTXCBTC': Timestamp('2019-11-22 00:00:00'),\n",
       " 'CTXCUSDT': Timestamp('2019-11-22 00:00:00'),\n",
       " 'CVPUSDT': Timestamp('2021-10-04 00:00:00'),\n",
       " 'CVXUSDT': Timestamp('2021-12-23 00:00:00'),\n",
       " 'CYBERBTC': Timestamp('2023-08-15 00:00:00'),\n",
       " 'CYBERUSDT': Timestamp('2023-08-15 00:00:00'),\n",
       " 'DARBTC': Timestamp('2021-11-04 00:00:00'),\n",
       " 'DARUSDT': Timestamp('2021-11-04 00:00:00'),\n",
       " 'DASHBTC': Timestamp('2017-10-20 00:00:00'),\n",
       " 'DASHUSDT': Timestamp('2019-03-28 00:00:00'),\n",
       " 'DATABTC': Timestamp('2018-06-08 00:00:00'),\n",
       " 'DATAUSDT': Timestamp('2020-04-07 00:00:00'),\n",
       " 'DCRBTC': Timestamp('2018-10-24 00:00:00'),\n",
       " 'DCRUSDT': Timestamp('2020-07-30 00:00:00'),\n",
       " 'DEGOBTC': Timestamp('2021-03-10 00:00:00'),\n",
       " 'DEGOUSDT': Timestamp('2021-03-10 00:00:00'),\n",
       " 'DENTUSDT': Timestamp('2019-08-27 00:00:00'),\n",
       " 'DEXEUSDT': Timestamp('2021-07-23 00:00:00'),\n",
       " 'DFUSDT': Timestamp('2021-09-24 00:00:00'),\n",
       " 'DGBBTC': Timestamp('2020-06-22 00:00:00'),\n",
       " 'DGBUSDT': Timestamp('2020-07-20 00:00:00'),\n",
       " 'DIABTC': Timestamp('2020-09-02 00:00:00'),\n",
       " 'DIAUSDT': Timestamp('2020-09-04 00:00:00'),\n",
       " 'DODOBTC': Timestamp('2021-02-19 00:00:00'),\n",
       " 'DODOUSDT': Timestamp('2021-02-19 00:00:00'),\n",
       " 'DOGEBTC': Timestamp('2019-07-05 00:00:00'),\n",
       " 'DOGEUSDT': Timestamp('2019-07-05 00:00:00'),\n",
       " 'DOTBTC': Timestamp('2020-08-18 00:00:00'),\n",
       " 'DOTUSDT': Timestamp('2020-08-18 00:00:00'),\n",
       " 'DUSKBTC': Timestamp('2019-07-22 00:00:00'),\n",
       " 'DUSKUSDT': Timestamp('2019-07-22 00:00:00'),\n",
       " 'DYDXBTC': Timestamp('2021-09-09 00:00:00'),\n",
       " 'DYDXUSDT': Timestamp('2021-09-09 00:00:00'),\n",
       " 'DYMBTC': Timestamp('2024-02-06 00:00:00'),\n",
       " 'DYMUSDT': Timestamp('2024-02-06 00:00:00'),\n",
       " 'EDUBTC': Timestamp('2023-04-28 00:00:00'),\n",
       " 'EDUUSDT': Timestamp('2023-04-28 00:00:00'),\n",
       " 'EGLDBTC': Timestamp('2020-09-03 00:00:00'),\n",
       " 'EGLDUSDT': Timestamp('2020-09-03 00:00:00'),\n",
       " 'ELFBTC': Timestamp('2017-12-21 00:00:00'),\n",
       " 'ELFUSDT': Timestamp('2021-09-08 00:00:00'),\n",
       " 'ENJBTC': Timestamp('2017-11-03 00:00:00'),\n",
       " 'ENJUSDT': Timestamp('2019-04-18 00:00:00'),\n",
       " 'ENSBTC': Timestamp('2021-11-10 00:00:00'),\n",
       " 'ENSUSDT': Timestamp('2021-11-10 00:00:00'),\n",
       " 'EOSBTC': Timestamp('2017-10-11 00:00:00'),\n",
       " 'EOSUSDT': Timestamp('2018-05-28 00:00:00'),\n",
       " 'EPXUSDT': Timestamp('2022-05-23 00:00:00'),\n",
       " 'ERNUSDT': Timestamp('2021-06-22 00:00:00'),\n",
       " 'ETCBTC': Timestamp('2017-10-12 00:00:00'),\n",
       " 'ETCUSDT': Timestamp('2018-06-12 00:00:00'),\n",
       " 'ETHDOWNUSDT': Timestamp('2020-07-13 00:00:00'),\n",
       " 'ETHUPUSDT': Timestamp('2020-07-13 00:00:00'),\n",
       " 'ETHBTC': Timestamp('2017-07-14 00:00:00'),\n",
       " 'ETHUSDT': Timestamp('2017-08-17 00:00:00'),\n",
       " 'FARMBTC': Timestamp('2021-08-11 00:00:00'),\n",
       " 'FARMUSDT': Timestamp('2021-08-11 00:00:00'),\n",
       " 'FDUSDUSDT': Timestamp('2023-07-26 00:00:00'),\n",
       " 'FETBTC': Timestamp('2019-02-28 00:00:00'),\n",
       " 'FETUSDT': Timestamp('2019-02-28 00:00:00'),\n",
       " 'FIDABTC': Timestamp('2021-09-30 00:00:00'),\n",
       " 'FIDAUSDT': Timestamp('2021-09-30 00:00:00'),\n",
       " 'FILBTC': Timestamp('2020-10-15 00:00:00'),\n",
       " 'FILUSDT': Timestamp('2020-10-15 00:00:00'),\n",
       " 'FIOBTC': Timestamp('2020-07-31 00:00:00'),\n",
       " 'FIOUSDT': Timestamp('2020-09-04 00:00:00'),\n",
       " 'FIROBTC': Timestamp('2021-01-29 00:00:00'),\n",
       " 'FIROUSDT': Timestamp('2021-01-29 00:00:00'),\n",
       " 'FISBTC': Timestamp('2021-03-03 00:00:00'),\n",
       " 'FISUSDT': Timestamp('2021-03-03 00:00:00'),\n",
       " 'FLMBTC': Timestamp('2020-09-28 00:00:00'),\n",
       " 'FLMUSDT': Timestamp('2020-09-28 00:00:00'),\n",
       " 'FLOKIUSDT': Timestamp('2023-05-05 00:00:00'),\n",
       " 'FLOWBTC': Timestamp('2021-07-30 00:00:00'),\n",
       " 'FLOWUSDT': Timestamp('2021-07-30 00:00:00'),\n",
       " 'FLUXBTC': Timestamp('2021-12-10 00:00:00'),\n",
       " 'FLUXUSDT': Timestamp('2021-12-10 00:00:00'),\n",
       " 'FORTHBTC': Timestamp('2021-04-23 00:00:00'),\n",
       " 'FORTHUSDT': Timestamp('2021-04-23 00:00:00'),\n",
       " 'FORBTC': Timestamp('2020-11-17 00:00:00'),\n",
       " 'FORUSDT': Timestamp('2021-08-20 00:00:00'),\n",
       " 'FRONTBTC': Timestamp('2021-02-19 00:00:00'),\n",
       " 'FRONTUSDT': Timestamp('2021-10-04 00:00:00'),\n",
       " 'FTMBTC': Timestamp('2019-06-11 00:00:00'),\n",
       " 'FTMUSDT': Timestamp('2019-06-11 00:00:00'),\n",
       " 'FXSBTC': Timestamp('2021-02-18 00:00:00'),\n",
       " 'FXSUSDT': Timestamp('2021-12-10 00:00:00'),\n",
       " 'GALABTC': Timestamp('2021-09-13 00:00:00'),\n",
       " 'GALAUSDT': Timestamp('2021-09-13 00:00:00'),\n",
       " 'GALBTC': Timestamp('2022-05-05 00:00:00'),\n",
       " 'GALUSDT': Timestamp('2022-05-05 00:00:00'),\n",
       " 'GASBTC': Timestamp('2017-08-07 00:00:00'),\n",
       " 'GASUSDT': Timestamp('2023-03-17 00:00:00'),\n",
       " 'GFTUSDT': Timestamp('2023-09-22 00:00:00'),\n",
       " 'GHSTUSDT': Timestamp('2021-08-20 00:00:00'),\n",
       " 'GLMRBTC': Timestamp('2022-01-11 00:00:00'),\n",
       " 'GLMRUSDT': Timestamp('2022-01-11 00:00:00'),\n",
       " 'GLMBTC': Timestamp('2020-12-10 00:00:00'),\n",
       " 'GLMUSDT': Timestamp('2023-03-17 00:00:00'),\n",
       " 'GMTBTC': Timestamp('2022-03-09 00:00:00'),\n",
       " 'GMTUSDT': Timestamp('2022-03-09 00:00:00'),\n",
       " 'GMXBTC': Timestamp('2022-10-05 00:00:00'),\n",
       " 'GMXUSDT': Timestamp('2022-10-05 00:00:00'),\n",
       " 'GRTBTC': Timestamp('2020-12-17 00:00:00'),\n",
       " 'GRTUSDT': Timestamp('2020-12-17 00:00:00'),\n",
       " 'GTCBTC': Timestamp('2021-06-10 00:00:00'),\n",
       " 'GTCUSDT': Timestamp('2021-06-10 00:00:00'),\n",
       " 'HARDBTC': Timestamp('2020-11-06 00:00:00'),\n",
       " 'HARDUSDT': Timestamp('2020-11-06 00:00:00'),\n",
       " 'HBARBTC': Timestamp('2019-09-29 00:00:00'),\n",
       " 'HBARUSDT': Timestamp('2019-09-29 00:00:00'),\n",
       " 'HFTBTC': Timestamp('2022-11-07 00:00:00'),\n",
       " 'HFTUSDT': Timestamp('2022-11-07 00:00:00'),\n",
       " 'HIFIUSDT': Timestamp('2023-01-12 00:00:00'),\n",
       " 'HIGHBTC': Timestamp('2021-12-17 00:00:00'),\n",
       " 'HIGHUSDT': Timestamp('2021-12-17 00:00:00'),\n",
       " 'HIVEBTC': Timestamp('2020-04-27 00:00:00'),\n",
       " 'HIVEUSDT': Timestamp('2020-04-27 00:00:00'),\n",
       " 'HOOKBTC': Timestamp('2022-12-01 00:00:00'),\n",
       " 'HOOKUSDT': Timestamp('2022-12-01 00:00:00'),\n",
       " 'HOTUSDT': Timestamp('2019-02-18 00:00:00'),\n",
       " 'ICPBTC': Timestamp('2021-05-11 00:00:00'),\n",
       " 'ICPUSDT': Timestamp('2021-05-11 00:00:00'),\n",
       " 'ICXBTC': Timestamp('2017-12-18 00:00:00'),\n",
       " 'ICXUSDT': Timestamp('2018-06-13 00:00:00'),\n",
       " 'IDEXBTC': Timestamp('2020-08-22 00:00:00'),\n",
       " 'IDEXUSDT': Timestamp('2021-09-09 00:00:00'),\n",
       " 'IDBTC': Timestamp('2023-03-22 00:00:00'),\n",
       " 'IDUSDT': Timestamp('2023-03-22 00:00:00'),\n",
       " 'ILVBTC': Timestamp('2021-09-22 00:00:00'),\n",
       " 'ILVUSDT': Timestamp('2021-09-22 00:00:00'),\n",
       " 'IMXBTC': Timestamp('2022-01-10 00:00:00'),\n",
       " 'IMXUSDT': Timestamp('2022-01-10 00:00:00'),\n",
       " 'INJBTC': Timestamp('2020-10-21 00:00:00'),\n",
       " 'INJUSDT': Timestamp('2020-10-21 00:00:00'),\n",
       " 'IOSTBTC': Timestamp('2018-01-24 00:00:00'),\n",
       " 'IOSTUSDT': Timestamp('2019-03-22 00:00:00'),\n",
       " 'IOTABTC': Timestamp('2017-09-30 00:00:00'),\n",
       " 'IOTAUSDT': Timestamp('2018-05-31 00:00:00'),\n",
       " 'IOTXBTC': Timestamp('2018-06-01 00:00:00'),\n",
       " 'IOTXUSDT': Timestamp('2019-11-14 00:00:00'),\n",
       " 'IQUSDT': Timestamp('2023-09-22 00:00:00'),\n",
       " 'IRISBTC': Timestamp('2020-07-21 00:00:00'),\n",
       " 'IRISUSDT': Timestamp('2020-08-11 00:00:00'),\n",
       " 'JASMYUSDT': Timestamp('2021-11-22 00:00:00'),\n",
       " 'JOEBTC': Timestamp('2021-12-28 00:00:00'),\n",
       " 'JOEUSDT': Timestamp('2021-12-28 00:00:00'),\n",
       " 'JSTBTC': Timestamp('2020-08-11 00:00:00'),\n",
       " 'JSTUSDT': Timestamp('2020-08-11 00:00:00'),\n",
       " 'JTOUSDT': Timestamp('2023-12-07 00:00:00'),\n",
       " 'JUPUSDT': Timestamp('2024-01-31 00:00:00'),\n",
       " 'KAVABTC': Timestamp('2019-10-25 00:00:00'),\n",
       " 'KAVAUSDT': Timestamp('2019-10-25 00:00:00'),\n",
       " 'KDABTC': Timestamp('2022-03-11 00:00:00'),\n",
       " 'KDAUSDT': Timestamp('2022-03-11 00:00:00'),\n",
       " 'KEYUSDT': Timestamp('2019-08-27 00:00:00'),\n",
       " 'KLAYBTC': Timestamp('2021-06-24 00:00:00'),\n",
       " 'KLAYUSDT': Timestamp('2021-06-24 00:00:00'),\n",
       " 'KMDBTC': Timestamp('2017-11-07 00:00:00'),\n",
       " 'KMDUSDT': Timestamp('2020-08-11 00:00:00'),\n",
       " 'KNCBTC': Timestamp('2017-09-26 00:00:00'),\n",
       " 'KNCUSDT': Timestamp('2020-06-12 00:00:00'),\n",
       " 'KP3RUSDT': Timestamp('2021-11-12 00:00:00'),\n",
       " 'KSMBTC': Timestamp('2020-09-02 00:00:00'),\n",
       " 'KSMUSDT': Timestamp('2020-09-04 00:00:00'),\n",
       " 'LAZIOBTC': Timestamp('2021-10-21 00:00:00'),\n",
       " 'LAZIOUSDT': Timestamp('2021-10-21 00:00:00'),\n",
       " 'LDOBTC': Timestamp('2022-05-09 00:00:00'),\n",
       " 'LDOUSDT': Timestamp('2022-05-09 00:00:00'),\n",
       " 'LEVERUSDT': Timestamp('2022-07-13 00:00:00'),\n",
       " 'LINABTC': Timestamp('2021-03-18 00:00:00'),\n",
       " 'LINAUSDT': Timestamp('2021-03-18 00:00:00'),\n",
       " 'LINKBTC': Timestamp('2017-09-28 00:00:00'),\n",
       " 'LINKUSDT': Timestamp('2019-01-16 00:00:00'),\n",
       " 'LITBTC': Timestamp('2021-02-04 00:00:00'),\n",
       " 'LITUSDT': Timestamp('2021-02-04 00:00:00'),\n",
       " 'LOKABTC': Timestamp('2022-01-20 00:00:00'),\n",
       " 'LOKAUSDT': Timestamp('2022-01-20 00:00:00'),\n",
       " 'LPTBTC': Timestamp('2021-05-28 00:00:00'),\n",
       " 'LPTUSDT': Timestamp('2021-05-28 00:00:00'),\n",
       " 'LRCBTC': Timestamp('2017-09-01 00:00:00'),\n",
       " 'LRCUSDT': Timestamp('2020-06-12 00:00:00'),\n",
       " 'LSKBTC': Timestamp('2017-11-22 00:00:00'),\n",
       " 'LSKUSDT': Timestamp('2020-02-06 00:00:00'),\n",
       " 'LTCBTC': Timestamp('2017-07-14 00:00:00'),\n",
       " 'LTCUSDT': Timestamp('2017-12-13 00:00:00'),\n",
       " 'LTOBTC': Timestamp('2020-02-07 00:00:00'),\n",
       " 'LTOUSDT': Timestamp('2020-02-07 00:00:00'),\n",
       " 'LUNAUSDT': Timestamp('2020-08-21 00:00:00'),\n",
       " 'LUNCUSDT': Timestamp('2022-09-09 00:00:00'),\n",
       " 'MAGICBTC': Timestamp('2022-12-12 00:00:00'),\n",
       " 'MAGICUSDT': Timestamp('2022-12-12 00:00:00'),\n",
       " 'MANABTC': Timestamp('2017-11-24 00:00:00'),\n",
       " 'MANAUSDT': Timestamp('2020-08-06 00:00:00'),\n",
       " 'MANTABTC': Timestamp('2024-01-18 00:00:00'),\n",
       " 'MANTAUSDT': Timestamp('2024-01-18 00:00:00'),\n",
       " 'MASKUSDT': Timestamp('2021-05-25 00:00:00'),\n",
       " 'MATICBTC': Timestamp('2019-04-26 00:00:00'),\n",
       " 'MATICUSDT': Timestamp('2019-04-26 00:00:00'),\n",
       " 'MAVBTC': Timestamp('2023-06-28 00:00:00'),\n",
       " 'MAVUSDT': Timestamp('2023-06-28 00:00:00'),\n",
       " 'MBLUSDT': Timestamp('2020-02-21 00:00:00'),\n",
       " 'MBOXBTC': Timestamp('2021-08-19 00:00:00'),\n",
       " 'MBOXUSDT': Timestamp('2021-08-19 00:00:00'),\n",
       " 'MDTBTC': Timestamp('2020-06-05 00:00:00'),\n",
       " 'MDTUSDT': Timestamp('2020-06-05 00:00:00'),\n",
       " 'MDXBTC': Timestamp('2021-05-24 00:00:00'),\n",
       " 'MDXUSDT': Timestamp('2021-05-24 00:00:00'),\n",
       " 'MEMEUSDT': Timestamp('2023-11-03 00:00:00'),\n",
       " 'MINABTC': Timestamp('2021-08-10 00:00:00'),\n",
       " 'MINAUSDT': Timestamp('2021-08-10 00:00:00'),\n",
       " 'MKRBTC': Timestamp('2020-07-23 00:00:00'),\n",
       " 'MKRUSDT': Timestamp('2020-07-23 00:00:00'),\n",
       " 'MLNBTC': Timestamp('2021-07-05 00:00:00'),\n",
       " 'MLNUSDT': Timestamp('2021-07-05 00:00:00'),\n",
       " 'MOBBTC': Timestamp('2022-04-29 00:00:00'),\n",
       " 'MOBUSDT': Timestamp('2022-04-29 00:00:00'),\n",
       " 'MOVRBTC': Timestamp('2021-11-08 00:00:00'),\n",
       " 'MOVRUSDT': Timestamp('2021-11-08 00:00:00'),\n",
       " 'MTLBTC': Timestamp('2017-10-09 00:00:00'),\n",
       " 'MTLUSDT': Timestamp('2019-08-23 00:00:00'),\n",
       " 'MULTIUSDT': Timestamp('2022-04-06 00:00:00'),\n",
       " 'NBTUSDT': Timestamp('2022-03-11 00:00:00'),\n",
       " 'NEARBTC': Timestamp('2020-10-14 00:00:00'),\n",
       " 'NEARUSDT': Timestamp('2020-10-14 00:00:00'),\n",
       " 'NEOBTC': Timestamp('2017-07-14 00:00:00'),\n",
       " 'NEOUSDT': Timestamp('2017-11-20 00:00:00'),\n",
       " 'NEXOBTC': Timestamp('2022-04-29 00:00:00'),\n",
       " 'NEXOUSDT': Timestamp('2022-04-29 00:00:00'),\n",
       " 'NKNBTC': Timestamp('2019-10-11 00:00:00'),\n",
       " 'NKNUSDT': Timestamp('2019-10-11 00:00:00'),\n",
       " 'NMRBTC': Timestamp('2020-08-17 00:00:00'),\n",
       " 'NMRUSDT': Timestamp('2020-08-19 00:00:00'),\n",
       " 'NTRNBTC': Timestamp('2023-10-10 00:00:00'),\n",
       " 'NTRNUSDT': Timestamp('2023-10-10 00:00:00'),\n",
       " 'NULSBTC': Timestamp('2017-11-09 00:00:00'),\n",
       " 'NULSUSDT': Timestamp('2018-07-23 00:00:00'),\n",
       " 'OCEANBTC': Timestamp('2020-08-17 00:00:00'),\n",
       " 'OCEANUSDT': Timestamp('2020-08-19 00:00:00'),\n",
       " 'OGNBTC': Timestamp('2020-01-09 00:00:00'),\n",
       " 'OGNUSDT': Timestamp('2020-01-09 00:00:00'),\n",
       " 'OGBTC': Timestamp('2020-12-30 00:00:00'),\n",
       " 'OGUSDT': Timestamp('2020-12-30 00:00:00'),\n",
       " 'OMGUSDT': Timestamp('2019-04-03 00:00:00'),\n",
       " 'OMUSDT': Timestamp('2021-03-08 00:00:00'),\n",
       " 'ONEBTC': Timestamp('2019-06-01 00:00:00'),\n",
       " 'ONEUSDT': Timestamp('2019-06-01 00:00:00'),\n",
       " 'ONGBTC': Timestamp('2019-02-16 00:00:00'),\n",
       " 'ONGUSDT': Timestamp('2019-02-16 00:00:00'),\n",
       " 'ONTBTC': Timestamp('2018-03-08 00:00:00'),\n",
       " 'ONTUSDT': Timestamp('2018-06-08 00:00:00'),\n",
       " 'OOKIUSDT': Timestamp('2021-12-24 00:00:00'),\n",
       " 'OPBTC': Timestamp('2022-06-01 00:00:00'),\n",
       " 'OPUSDT': Timestamp('2022-06-01 00:00:00'),\n",
       " 'ORDIBTC': Timestamp('2023-11-07 00:00:00'),\n",
       " 'ORDIUSDT': Timestamp('2023-11-07 00:00:00'),\n",
       " 'ORNBTC': Timestamp('2020-09-30 00:00:00'),\n",
       " 'ORNUSDT': Timestamp('2020-09-30 00:00:00'),\n",
       " 'OXTBTC': Timestamp('2020-09-21 00:00:00'),\n",
       " 'OXTUSDT': Timestamp('2020-09-21 00:00:00'),\n",
       " 'PAXGBTC': Timestamp('2020-08-26 00:00:00'),\n",
       " 'PAXGUSDT': Timestamp('2020-08-28 00:00:00'),\n",
       " 'PENDLEBTC': Timestamp('2023-07-03 00:00:00'),\n",
       " 'PENDLEUSDT': Timestamp('2023-07-03 00:00:00'),\n",
       " 'PEOPLEBTC': Timestamp('2021-12-23 00:00:00'),\n",
       " 'PEOPLEUSDT': Timestamp('2021-12-23 00:00:00'),\n",
       " 'PEPEUSDT': Timestamp('2023-05-05 00:00:00'),\n",
       " 'PERPBTC': Timestamp('2021-03-19 00:00:00'),\n",
       " 'PERPUSDT': Timestamp('2021-03-19 00:00:00'),\n",
       " 'PHABTC': Timestamp('2021-02-25 00:00:00'),\n",
       " 'PHAUSDT': Timestamp('2021-06-25 00:00:00'),\n",
       " 'PLABTC': Timestamp('2021-11-23 00:00:00'),\n",
       " 'PLAUSDT': Timestamp('2021-11-23 00:00:00'),\n",
       " 'PNTUSDT': Timestamp('2020-06-22 00:00:00'),\n",
       " 'POLSUSDT': Timestamp('2021-05-19 00:00:00'),\n",
       " 'POLYXBTC': Timestamp('2022-10-17 00:00:00'),\n",
       " 'POLYXUSDT': Timestamp('2022-10-17 00:00:00'),\n",
       " 'PONDBTC': Timestamp('2021-03-09 00:00:00'),\n",
       " 'PONDUSDT': Timestamp('2021-03-09 00:00:00'),\n",
       " 'PORTOBTC': Timestamp('2021-11-16 00:00:00'),\n",
       " 'PORTOUSDT': Timestamp('2021-11-16 00:00:00'),\n",
       " 'POWRBTC': Timestamp('2017-11-01 00:00:00'),\n",
       " 'POWRUSDT': Timestamp('2021-11-17 00:00:00'),\n",
       " 'PROMUSDT': Timestamp('2023-03-17 00:00:00'),\n",
       " 'PSGUSDT': Timestamp('2020-12-21 00:00:00'),\n",
       " 'PYRBTC': Timestamp('2021-11-26 00:00:00'),\n",
       " 'PYRUSDT': Timestamp('2021-11-26 00:00:00'),\n",
       " 'PYTHBTC': Timestamp('2024-02-02 00:00:00'),\n",
       " 'PYTHUSDT': Timestamp('2024-02-02 00:00:00'),\n",
       " 'QIBTC': Timestamp('2021-11-15 00:00:00'),\n",
       " 'QIUSDT': Timestamp('2021-11-15 00:00:00'),\n",
       " 'QNTBTC': Timestamp('2021-07-29 00:00:00'),\n",
       " 'QNTUSDT': Timestamp('2021-07-29 00:00:00'),\n",
       " 'QTUMBTC': Timestamp('2017-09-04 00:00:00'),\n",
       " 'QTUMUSDT': Timestamp('2018-03-19 00:00:00'),\n",
       " 'QUICKBTC': Timestamp('2021-07-23 00:00:00'),\n",
       " 'QUICKUSDT': Timestamp('2021-08-13 00:00:00'),\n",
       " 'RADBTC': Timestamp('2021-10-07 00:00:00'),\n",
       " 'RADUSDT': Timestamp('2021-10-07 00:00:00'),\n",
       " 'RAREBTC': Timestamp('2021-10-11 00:00:00'),\n",
       " 'RAREUSDT': Timestamp('2021-10-11 00:00:00'),\n",
       " 'RAYUSDT': Timestamp('2021-08-10 00:00:00'),\n",
       " 'RDNTBTC': Timestamp('2023-03-30 00:00:00'),\n",
       " 'RDNTUSDT': Timestamp('2023-03-30 00:00:00'),\n",
       " 'REEFUSDT': Timestamp('2020-12-29 00:00:00'),\n",
       " 'REIUSDT': Timestamp('2022-05-04 00:00:00'),\n",
       " 'RENBTC': Timestamp('2018-12-06 00:00:00'),\n",
       " 'RENUSDT': Timestamp('2019-09-25 00:00:00'),\n",
       " 'REQBTC': Timestamp('2017-10-27 00:00:00'),\n",
       " 'REQUSDT': Timestamp('2021-08-20 00:00:00'),\n",
       " 'RIFBTC': Timestamp('2021-01-07 00:00:00'),\n",
       " 'RIFUSDT': Timestamp('2021-01-07 00:00:00'),\n",
       " 'RLCBTC': Timestamp('2018-01-12 00:00:00'),\n",
       " 'RLCUSDT': Timestamp('2019-11-14 00:00:00'),\n",
       " 'RNDRBTC': Timestamp('2021-11-27 00:00:00'),\n",
       " 'RNDRUSDT': Timestamp('2021-11-27 00:00:00'),\n",
       " 'RONINBTC': Timestamp('2024-02-05 00:00:00'),\n",
       " 'RONINUSDT': Timestamp('2024-02-05 00:00:00'),\n",
       " 'ROSEBTC': Timestamp('2020-11-19 00:00:00'),\n",
       " 'ROSEUSDT': Timestamp('2020-11-19 00:00:00'),\n",
       " 'RPLUSDT': Timestamp('2023-01-18 00:00:00'),\n",
       " 'RSRUSDT': Timestamp('2020-08-27 00:00:00'),\n",
       " 'RUNEBTC': Timestamp('2020-07-24 00:00:00'),\n",
       " 'RUNEUSDT': Timestamp('2020-09-04 00:00:00'),\n",
       " 'RVNBTC': Timestamp('2018-10-12 00:00:00'),\n",
       " 'RVNUSDT': Timestamp('2019-09-25 00:00:00'),\n",
       " 'SANDBTC': Timestamp('2020-08-14 00:00:00'),\n",
       " 'SANDUSDT': Timestamp('2020-08-14 00:00:00'),\n",
       " 'SANTOSBTC': Timestamp('2021-12-01 00:00:00'),\n",
       " 'SANTOSUSDT': Timestamp('2021-12-01 00:00:00'),\n",
       " 'SCRTBTC': Timestamp('2020-09-30 00:00:00'),\n",
       " 'SCRTUSDT': Timestamp('2022-01-21 00:00:00'),\n",
       " 'SCUSDT': Timestamp('2020-07-06 00:00:00'),\n",
       " 'SEIBTC': Timestamp('2023-08-15 00:00:00'),\n",
       " 'SEIUSDT': Timestamp('2023-08-15 00:00:00'),\n",
       " 'SFPBTC': Timestamp('2021-02-08 00:00:00'),\n",
       " 'SFPUSDT': Timestamp('2021-02-08 00:00:00'),\n",
       " 'SHIBUSDT': Timestamp('2021-05-10 00:00:00'),\n",
       " 'SKLBTC': Timestamp('2020-12-01 00:00:00'),\n",
       " 'SKLUSDT': Timestamp('2020-12-01 00:00:00'),\n",
       " 'SLPUSDT': Timestamp('2021-04-30 00:00:00'),\n",
       " 'SNTBTC': Timestamp('2017-10-12 00:00:00'),\n",
       " 'SNXBTC': Timestamp('2020-07-09 00:00:00'),\n",
       " 'SNXUSDT': Timestamp('2020-07-09 00:00:00'),\n",
       " 'SOLBTC': Timestamp('2020-04-10 00:00:00'),\n",
       " 'SOLUSDT': Timestamp('2020-08-11 00:00:00'),\n",
       " 'SPELLUSDT': Timestamp('2021-12-24 00:00:00'),\n",
       " 'SSVBTC': Timestamp('2021-10-22 00:00:00'),\n",
       " 'SSVUSDT': Timestamp('2023-02-24 00:00:00'),\n",
       " 'STEEMBTC': Timestamp('2018-02-01 00:00:00'),\n",
       " 'STGBTC': Timestamp('2022-08-19 00:00:00'),\n",
       " 'STGUSDT': Timestamp('2022-08-19 00:00:00'),\n",
       " 'STMXUSDT': Timestamp('2020-06-11 00:00:00'),\n",
       " 'STORJBTC': Timestamp('2017-11-03 00:00:00'),\n",
       " 'STORJUSDT': Timestamp('2020-07-30 00:00:00'),\n",
       " 'STPTBTC': Timestamp('2020-03-25 00:00:00'),\n",
       " 'STPTUSDT': Timestamp('2020-03-25 00:00:00'),\n",
       " 'STRAXBTC': Timestamp('2020-11-18 00:00:00'),\n",
       " 'STRAXUSDT': Timestamp('2020-11-18 00:00:00'),\n",
       " 'STXBTC': Timestamp('2019-10-25 00:00:00'),\n",
       " 'STXUSDT': Timestamp('2019-10-25 00:00:00'),\n",
       " 'SUIBTC': Timestamp('2023-05-03 00:00:00'),\n",
       " 'SUIUSDT': Timestamp('2023-05-03 00:00:00'),\n",
       " 'SUNUSDT': Timestamp('2020-09-21 00:00:00'),\n",
       " 'SUPERBTC': Timestamp('2021-03-25 00:00:00'),\n",
       " 'SUPERUSDT': Timestamp('2021-03-25 00:00:00'),\n",
       " 'SUSHIBTC': Timestamp('2020-09-01 00:00:00'),\n",
       " 'SUSHIUSDT': Timestamp('2020-09-01 00:00:00'),\n",
       " 'SXPBTC': Timestamp('2020-07-07 00:00:00'),\n",
       " 'SXPUSDT': Timestamp('2020-07-20 00:00:00'),\n",
       " 'SYSBTC': Timestamp('2018-03-28 00:00:00'),\n",
       " 'SYSUSDT': Timestamp('2021-09-24 00:00:00'),\n",
       " 'TFUELBTC': Timestamp('2019-05-24 00:00:00'),\n",
       " 'TFUELUSDT': Timestamp('2019-05-24 00:00:00'),\n",
       " 'THETABTC': Timestamp('2018-05-29 00:00:00'),\n",
       " 'THETAUSDT': Timestamp('2019-04-10 00:00:00'),\n",
       " 'TIABTC': Timestamp('2023-10-31 00:00:00'),\n",
       " 'TIAUSDT': Timestamp('2023-10-31 00:00:00'),\n",
       " 'TKOBTC': Timestamp('2021-04-07 00:00:00'),\n",
       " 'TKOUSDT': Timestamp('2021-04-07 00:00:00'),\n",
       " 'TLMBTC': Timestamp('2021-04-13 00:00:00'),\n",
       " 'TLMUSDT': Timestamp('2021-04-13 00:00:00'),\n",
       " 'TRBBTC': Timestamp('2020-08-27 00:00:00'),\n",
       " 'TRBUSDT': Timestamp('2020-08-29 00:00:00'),\n",
       " 'TROYUSDT': Timestamp('2019-12-05 00:00:00'),\n",
       " 'TRUBTC': Timestamp('2021-01-19 00:00:00'),\n",
       " 'TRUUSDT': Timestamp('2021-01-19 00:00:00'),\n",
       " 'TRXBTC': Timestamp('2017-10-31 00:00:00'),\n",
       " 'TRXUSDT': Timestamp('2018-06-11 00:00:00'),\n",
       " 'TUSDUSDT': Timestamp('2018-05-31 00:00:00'),\n",
       " 'TWTBTC': Timestamp('2021-01-27 00:00:00'),\n",
       " 'TWTUSDT': Timestamp('2021-01-27 00:00:00'),\n",
       " 'TUSDT': Timestamp('2022-02-25 00:00:00'),\n",
       " 'UFTUSDT': Timestamp('2023-03-17 00:00:00'),\n",
       " 'UMABTC': Timestamp('2020-09-09 00:00:00'),\n",
       " 'UMAUSDT': Timestamp('2020-09-09 00:00:00'),\n",
       " 'UNFIBTC': Timestamp('2020-11-19 00:00:00'),\n",
       " 'UNFIUSDT': Timestamp('2020-11-19 00:00:00'),\n",
       " 'UNIBTC': Timestamp('2020-09-17 00:00:00'),\n",
       " 'UNIUSDT': Timestamp('2020-09-17 00:00:00'),\n",
       " 'USDCUSDT': Timestamp('2018-12-15 00:00:00'),\n",
       " 'USTCUSDT': Timestamp('2023-03-10 00:00:00'),\n",
       " 'UTKBTC': Timestamp('2020-10-02 00:00:00'),\n",
       " 'UTKUSDT': Timestamp('2020-10-02 00:00:00'),\n",
       " 'VANRYBTC': Timestamp('2023-12-01 00:00:00'),\n",
       " 'VANRYUSDT': Timestamp('2023-12-01 00:00:00'),\n",
       " 'VETBTC': Timestamp('2018-07-25 00:00:00'),\n",
       " 'VETUSDT': Timestamp('2018-07-25 00:00:00'),\n",
       " 'VGXUSDT': Timestamp('2021-11-22 00:00:00'),\n",
       " 'VICBTC': Timestamp('2023-11-24 00:00:00'),\n",
       " 'VICUSDT': Timestamp('2023-11-24 00:00:00'),\n",
       " 'VIDTBTC': Timestamp('2020-10-09 00:00:00'),\n",
       " 'VIDTUSDT': Timestamp('2021-09-09 00:00:00'),\n",
       " 'VITEBTC': Timestamp('2019-12-13 00:00:00'),\n",
       " 'VITEUSDT': Timestamp('2019-12-13 00:00:00'),\n",
       " 'VOXELBTC': Timestamp('2021-12-14 00:00:00'),\n",
       " 'VOXELUSDT': Timestamp('2021-12-14 00:00:00'),\n",
       " 'VTHOUSDT': Timestamp('2020-07-17 00:00:00'),\n",
       " 'WANBTC': Timestamp('2018-03-23 00:00:00'),\n",
       " 'WANUSDT': Timestamp('2019-08-27 00:00:00'),\n",
       " 'WAVESBTC': Timestamp('2017-12-15 00:00:00'),\n",
       " 'WAVESUSDT': Timestamp('2019-01-18 00:00:00'),\n",
       " 'WAXPBTC': Timestamp('2021-08-23 00:00:00'),\n",
       " 'WAXPUSDT': Timestamp('2021-08-23 00:00:00'),\n",
       " 'WBTCBTC': Timestamp('2020-08-31 00:00:00'),\n",
       " 'WINGBTC': Timestamp('2020-09-16 00:00:00'),\n",
       " 'WINGUSDT': Timestamp('2020-09-16 00:00:00'),\n",
       " 'WINUSDT': Timestamp('2019-08-01 00:00:00'),\n",
       " 'WLDBTC': Timestamp('2023-07-24 00:00:00'),\n",
       " 'WLDUSDT': Timestamp('2023-07-24 00:00:00'),\n",
       " 'WOOBTC': Timestamp('2022-02-08 00:00:00'),\n",
       " 'WOOUSDT': Timestamp('2022-02-08 00:00:00'),\n",
       " 'WRXUSDT': Timestamp('2020-02-05 00:00:00'),\n",
       " 'XAIUSDT': Timestamp('2024-01-09 00:00:00'),\n",
       " 'XECUSDT': Timestamp('2021-09-03 00:00:00'),\n",
       " 'XEMUSDT': Timestamp('2020-11-24 00:00:00'),\n",
       " 'XLMBTC': Timestamp('2017-12-08 00:00:00'),\n",
       " 'XLMUSDT': Timestamp('2018-05-31 00:00:00'),\n",
       " 'XNOBTC': Timestamp('2022-01-28 00:00:00'),\n",
       " 'XNOUSDT': Timestamp('2022-01-28 00:00:00'),\n",
       " 'XRPBTC': Timestamp('2017-11-02 00:00:00'),\n",
       " 'XRPUSDT': Timestamp('2018-05-04 00:00:00'),\n",
       " 'XTZBTC': Timestamp('2019-09-24 00:00:00'),\n",
       " 'XTZUSDT': Timestamp('2019-09-24 00:00:00'),\n",
       " 'XVGUSDT': Timestamp('2021-06-06 00:00:00'),\n",
       " 'XVSBTC': Timestamp('2020-10-06 00:00:00'),\n",
       " 'XVSUSDT': Timestamp('2020-10-06 00:00:00'),\n",
       " 'YFIBTC': Timestamp('2020-08-10 00:00:00'),\n",
       " 'YFIUSDT': Timestamp('2020-08-10 00:00:00'),\n",
       " 'YGGBTC': Timestamp('2021-09-24 00:00:00'),\n",
       " 'YGGUSDT': Timestamp('2021-09-24 00:00:00'),\n",
       " 'ZENBTC': Timestamp('2018-05-23 00:00:00'),\n",
       " 'ZENUSDT': Timestamp('2020-07-06 00:00:00'),\n",
       " 'ZILBTC': Timestamp('2018-03-05 00:00:00'),\n",
       " 'ZILUSDT': Timestamp('2019-02-19 00:00:00'),\n",
       " 'ZRXBTC': Timestamp('2017-09-13 00:00:00'),\n",
       " 'ZRXUSDT': Timestamp('2019-02-28 00:00:00')}"
      ]
     },
     "execution_count": 105,
     "metadata": {},
     "output_type": "execute_result"
    }
   ],
   "source": [
    "dict_initial_listing"
   ]
  },
  {
   "cell_type": "code",
   "execution_count": 107,
   "metadata": {},
   "outputs": [
    {
     "data": {
      "text/html": [
       "<div>\n",
       "<style scoped>\n",
       "    .dataframe tbody tr th:only-of-type {\n",
       "        vertical-align: middle;\n",
       "    }\n",
       "\n",
       "    .dataframe tbody tr th {\n",
       "        vertical-align: top;\n",
       "    }\n",
       "\n",
       "    .dataframe thead th {\n",
       "        text-align: right;\n",
       "    }\n",
       "</style>\n",
       "<table border=\"1\" class=\"dataframe\">\n",
       "  <thead>\n",
       "    <tr style=\"text-align: right;\">\n",
       "      <th></th>\n",
       "      <th>market</th>\n",
       "      <th>start</th>\n",
       "      <th>base_price</th>\n",
       "      <th>end</th>\n",
       "      <th>last_price</th>\n",
       "      <th>increase</th>\n",
       "      <th>pump_length</th>\n",
       "      <th>date_listing</th>\n",
       "      <th>pump_to_listing</th>\n",
       "    </tr>\n",
       "  </thead>\n",
       "  <tbody>\n",
       "    <tr>\n",
       "      <th>0</th>\n",
       "      <td>1INCHBTC</td>\n",
       "      <td>2021-01-08</td>\n",
       "      <td>0.000031</td>\n",
       "      <td>2021-02-05</td>\n",
       "      <td>0.000152</td>\n",
       "      <td>3.881960</td>\n",
       "      <td>28 days</td>\n",
       "      <td>2020-12-25</td>\n",
       "      <td>14 days</td>\n",
       "    </tr>\n",
       "    <tr>\n",
       "      <th>1</th>\n",
       "      <td>1INCHUSDT</td>\n",
       "      <td>2021-01-02</td>\n",
       "      <td>1.062220</td>\n",
       "      <td>2021-02-05</td>\n",
       "      <td>5.825000</td>\n",
       "      <td>4.483798</td>\n",
       "      <td>34 days</td>\n",
       "      <td>2020-12-25</td>\n",
       "      <td>8 days</td>\n",
       "    </tr>\n",
       "    <tr>\n",
       "      <th>2</th>\n",
       "      <td>AAVEUSDT</td>\n",
       "      <td>2020-11-04</td>\n",
       "      <td>28.570800</td>\n",
       "      <td>2020-12-05</td>\n",
       "      <td>92.714000</td>\n",
       "      <td>2.245061</td>\n",
       "      <td>31 days</td>\n",
       "      <td>2020-10-15</td>\n",
       "      <td>20 days</td>\n",
       "    </tr>\n",
       "    <tr>\n",
       "      <th>3</th>\n",
       "      <td>AAVEUSDT</td>\n",
       "      <td>2020-12-26</td>\n",
       "      <td>76.131200</td>\n",
       "      <td>2021-02-12</td>\n",
       "      <td>528.325000</td>\n",
       "      <td>5.939665</td>\n",
       "      <td>48 days</td>\n",
       "      <td>2020-10-15</td>\n",
       "      <td>72 days</td>\n",
       "    </tr>\n",
       "    <tr>\n",
       "      <th>4</th>\n",
       "      <td>ACAUSDT</td>\n",
       "      <td>2023-06-10</td>\n",
       "      <td>0.032340</td>\n",
       "      <td>2023-07-12</td>\n",
       "      <td>0.075700</td>\n",
       "      <td>1.340754</td>\n",
       "      <td>32 days</td>\n",
       "      <td>2022-01-25</td>\n",
       "      <td>501 days</td>\n",
       "    </tr>\n",
       "    <tr>\n",
       "      <th>...</th>\n",
       "      <td>...</td>\n",
       "      <td>...</td>\n",
       "      <td>...</td>\n",
       "      <td>...</td>\n",
       "      <td>...</td>\n",
       "      <td>...</td>\n",
       "      <td>...</td>\n",
       "      <td>...</td>\n",
       "      <td>...</td>\n",
       "    </tr>\n",
       "    <tr>\n",
       "      <th>1241</th>\n",
       "      <td>ZRXBTC</td>\n",
       "      <td>2017-12-11</td>\n",
       "      <td>0.000015</td>\n",
       "      <td>2018-01-27</td>\n",
       "      <td>0.000184</td>\n",
       "      <td>11.382234</td>\n",
       "      <td>47 days</td>\n",
       "      <td>2017-09-13</td>\n",
       "      <td>89 days</td>\n",
       "    </tr>\n",
       "    <tr>\n",
       "      <th>1242</th>\n",
       "      <td>ZRXBTC</td>\n",
       "      <td>2021-01-21</td>\n",
       "      <td>0.000016</td>\n",
       "      <td>2021-02-05</td>\n",
       "      <td>0.000041</td>\n",
       "      <td>1.632614</td>\n",
       "      <td>15 days</td>\n",
       "      <td>2017-09-13</td>\n",
       "      <td>1226 days</td>\n",
       "    </tr>\n",
       "    <tr>\n",
       "      <th>1243</th>\n",
       "      <td>ZRXUSDT</td>\n",
       "      <td>2020-04-23</td>\n",
       "      <td>0.184960</td>\n",
       "      <td>2020-05-09</td>\n",
       "      <td>0.422600</td>\n",
       "      <td>1.284818</td>\n",
       "      <td>16 days</td>\n",
       "      <td>2019-02-28</td>\n",
       "      <td>420 days</td>\n",
       "    </tr>\n",
       "    <tr>\n",
       "      <th>1244</th>\n",
       "      <td>ZRXUSDT</td>\n",
       "      <td>2021-01-21</td>\n",
       "      <td>0.514640</td>\n",
       "      <td>2021-02-13</td>\n",
       "      <td>1.891200</td>\n",
       "      <td>2.674802</td>\n",
       "      <td>23 days</td>\n",
       "      <td>2019-02-28</td>\n",
       "      <td>693 days</td>\n",
       "    </tr>\n",
       "    <tr>\n",
       "      <th>1245</th>\n",
       "      <td>ZRXUSDT</td>\n",
       "      <td>2023-10-28</td>\n",
       "      <td>0.260060</td>\n",
       "      <td>2023-11-15</td>\n",
       "      <td>0.525400</td>\n",
       "      <td>1.020303</td>\n",
       "      <td>18 days</td>\n",
       "      <td>2019-02-28</td>\n",
       "      <td>1703 days</td>\n",
       "    </tr>\n",
       "  </tbody>\n",
       "</table>\n",
       "<p>1246 rows × 9 columns</p>\n",
       "</div>"
      ],
      "text/plain": [
       "         market      start  base_price        end  last_price   increase  \\\n",
       "0      1INCHBTC 2021-01-08    0.000031 2021-02-05    0.000152   3.881960   \n",
       "1     1INCHUSDT 2021-01-02    1.062220 2021-02-05    5.825000   4.483798   \n",
       "2      AAVEUSDT 2020-11-04   28.570800 2020-12-05   92.714000   2.245061   \n",
       "3      AAVEUSDT 2020-12-26   76.131200 2021-02-12  528.325000   5.939665   \n",
       "4       ACAUSDT 2023-06-10    0.032340 2023-07-12    0.075700   1.340754   \n",
       "...         ...        ...         ...        ...         ...        ...   \n",
       "1241     ZRXBTC 2017-12-11    0.000015 2018-01-27    0.000184  11.382234   \n",
       "1242     ZRXBTC 2021-01-21    0.000016 2021-02-05    0.000041   1.632614   \n",
       "1243    ZRXUSDT 2020-04-23    0.184960 2020-05-09    0.422600   1.284818   \n",
       "1244    ZRXUSDT 2021-01-21    0.514640 2021-02-13    1.891200   2.674802   \n",
       "1245    ZRXUSDT 2023-10-28    0.260060 2023-11-15    0.525400   1.020303   \n",
       "\n",
       "     pump_length date_listing pump_to_listing  \n",
       "0        28 days   2020-12-25         14 days  \n",
       "1        34 days   2020-12-25          8 days  \n",
       "2        31 days   2020-10-15         20 days  \n",
       "3        48 days   2020-10-15         72 days  \n",
       "4        32 days   2022-01-25        501 days  \n",
       "...          ...          ...             ...  \n",
       "1241     47 days   2017-09-13         89 days  \n",
       "1242     15 days   2017-09-13       1226 days  \n",
       "1243     16 days   2019-02-28        420 days  \n",
       "1244     23 days   2019-02-28        693 days  \n",
       "1245     18 days   2019-02-28       1703 days  \n",
       "\n",
       "[1246 rows x 9 columns]"
      ]
     },
     "execution_count": 107,
     "metadata": {},
     "output_type": "execute_result"
    }
   ],
   "source": [
    "df_data_pump['pump_length'] = df_data_pump['end'] - df_data_pump['start']\n",
    "list_market_to_listing = [dict_initial_listing[i] for i in df_data_pump['market']]\n",
    "df_data_pump['date_listing'] = list_market_to_listing\n",
    "df_data_pump['pump_to_listing'] = df_data_pump['start'] - df_data_pump['date_listing']\n",
    "df_data_pump"
   ]
  },
  {
   "cell_type": "code",
   "execution_count": 108,
   "metadata": {},
   "outputs": [],
   "source": [
    "df_data_pump.to_csv('data_pump.csv')"
   ]
  },
  {
   "cell_type": "code",
   "execution_count": 112,
   "metadata": {},
   "outputs": [
    {
     "data": {
      "text/html": [
       "<div>\n",
       "<style scoped>\n",
       "    .dataframe tbody tr th:only-of-type {\n",
       "        vertical-align: middle;\n",
       "    }\n",
       "\n",
       "    .dataframe tbody tr th {\n",
       "        vertical-align: top;\n",
       "    }\n",
       "\n",
       "    .dataframe thead th {\n",
       "        text-align: right;\n",
       "    }\n",
       "</style>\n",
       "<table border=\"1\" class=\"dataframe\">\n",
       "  <thead>\n",
       "    <tr style=\"text-align: right;\">\n",
       "      <th></th>\n",
       "      <th>market</th>\n",
       "      <th>start</th>\n",
       "      <th>base_price</th>\n",
       "      <th>end</th>\n",
       "      <th>last_price</th>\n",
       "      <th>increase</th>\n",
       "      <th>pump_length</th>\n",
       "      <th>date_listing</th>\n",
       "      <th>pump_to_listing</th>\n",
       "    </tr>\n",
       "  </thead>\n",
       "  <tbody>\n",
       "    <tr>\n",
       "      <th>3</th>\n",
       "      <td>AAVEUSDT</td>\n",
       "      <td>2020-12-26</td>\n",
       "      <td>7.613120e+01</td>\n",
       "      <td>2021-02-12</td>\n",
       "      <td>528.325000</td>\n",
       "      <td>5.939665</td>\n",
       "      <td>48 days</td>\n",
       "      <td>2020-10-15</td>\n",
       "      <td>72 days</td>\n",
       "    </tr>\n",
       "    <tr>\n",
       "      <th>4</th>\n",
       "      <td>ACAUSDT</td>\n",
       "      <td>2023-06-10</td>\n",
       "      <td>3.234000e-02</td>\n",
       "      <td>2023-07-12</td>\n",
       "      <td>0.075700</td>\n",
       "      <td>1.340754</td>\n",
       "      <td>32 days</td>\n",
       "      <td>2022-01-25</td>\n",
       "      <td>501 days</td>\n",
       "    </tr>\n",
       "    <tr>\n",
       "      <th>5</th>\n",
       "      <td>ACHBTC</td>\n",
       "      <td>2023-01-24</td>\n",
       "      <td>4.800000e-07</td>\n",
       "      <td>2023-02-23</td>\n",
       "      <td>0.000002</td>\n",
       "      <td>2.979167</td>\n",
       "      <td>30 days</td>\n",
       "      <td>2022-01-10</td>\n",
       "      <td>379 days</td>\n",
       "    </tr>\n",
       "    <tr>\n",
       "      <th>6</th>\n",
       "      <td>ACHUSDT</td>\n",
       "      <td>2023-01-24</td>\n",
       "      <td>1.090800e-02</td>\n",
       "      <td>2023-02-23</td>\n",
       "      <td>0.045660</td>\n",
       "      <td>3.185919</td>\n",
       "      <td>30 days</td>\n",
       "      <td>2022-01-10</td>\n",
       "      <td>379 days</td>\n",
       "    </tr>\n",
       "    <tr>\n",
       "      <th>8</th>\n",
       "      <td>ADABTC</td>\n",
       "      <td>2021-01-29</td>\n",
       "      <td>1.028400e-05</td>\n",
       "      <td>2021-02-28</td>\n",
       "      <td>0.000029</td>\n",
       "      <td>1.828666</td>\n",
       "      <td>30 days</td>\n",
       "      <td>2017-11-30</td>\n",
       "      <td>1156 days</td>\n",
       "    </tr>\n",
       "    <tr>\n",
       "      <th>...</th>\n",
       "      <td>...</td>\n",
       "      <td>...</td>\n",
       "      <td>...</td>\n",
       "      <td>...</td>\n",
       "      <td>...</td>\n",
       "      <td>...</td>\n",
       "      <td>...</td>\n",
       "      <td>...</td>\n",
       "      <td>...</td>\n",
       "    </tr>\n",
       "    <tr>\n",
       "      <th>1241</th>\n",
       "      <td>ZRXBTC</td>\n",
       "      <td>2017-12-11</td>\n",
       "      <td>1.486000e-05</td>\n",
       "      <td>2018-01-27</td>\n",
       "      <td>0.000184</td>\n",
       "      <td>11.382234</td>\n",
       "      <td>47 days</td>\n",
       "      <td>2017-09-13</td>\n",
       "      <td>89 days</td>\n",
       "    </tr>\n",
       "    <tr>\n",
       "      <th>1242</th>\n",
       "      <td>ZRXBTC</td>\n",
       "      <td>2021-01-21</td>\n",
       "      <td>1.576000e-05</td>\n",
       "      <td>2021-02-05</td>\n",
       "      <td>0.000041</td>\n",
       "      <td>1.632614</td>\n",
       "      <td>15 days</td>\n",
       "      <td>2017-09-13</td>\n",
       "      <td>1226 days</td>\n",
       "    </tr>\n",
       "    <tr>\n",
       "      <th>1243</th>\n",
       "      <td>ZRXUSDT</td>\n",
       "      <td>2020-04-23</td>\n",
       "      <td>1.849600e-01</td>\n",
       "      <td>2020-05-09</td>\n",
       "      <td>0.422600</td>\n",
       "      <td>1.284818</td>\n",
       "      <td>16 days</td>\n",
       "      <td>2019-02-28</td>\n",
       "      <td>420 days</td>\n",
       "    </tr>\n",
       "    <tr>\n",
       "      <th>1244</th>\n",
       "      <td>ZRXUSDT</td>\n",
       "      <td>2021-01-21</td>\n",
       "      <td>5.146400e-01</td>\n",
       "      <td>2021-02-13</td>\n",
       "      <td>1.891200</td>\n",
       "      <td>2.674802</td>\n",
       "      <td>23 days</td>\n",
       "      <td>2019-02-28</td>\n",
       "      <td>693 days</td>\n",
       "    </tr>\n",
       "    <tr>\n",
       "      <th>1245</th>\n",
       "      <td>ZRXUSDT</td>\n",
       "      <td>2023-10-28</td>\n",
       "      <td>2.600600e-01</td>\n",
       "      <td>2023-11-15</td>\n",
       "      <td>0.525400</td>\n",
       "      <td>1.020303</td>\n",
       "      <td>18 days</td>\n",
       "      <td>2019-02-28</td>\n",
       "      <td>1703 days</td>\n",
       "    </tr>\n",
       "  </tbody>\n",
       "</table>\n",
       "<p>1143 rows × 9 columns</p>\n",
       "</div>"
      ],
      "text/plain": [
       "        market      start    base_price        end  last_price   increase  \\\n",
       "3     AAVEUSDT 2020-12-26  7.613120e+01 2021-02-12  528.325000   5.939665   \n",
       "4      ACAUSDT 2023-06-10  3.234000e-02 2023-07-12    0.075700   1.340754   \n",
       "5       ACHBTC 2023-01-24  4.800000e-07 2023-02-23    0.000002   2.979167   \n",
       "6      ACHUSDT 2023-01-24  1.090800e-02 2023-02-23    0.045660   3.185919   \n",
       "8       ADABTC 2021-01-29  1.028400e-05 2021-02-28    0.000029   1.828666   \n",
       "...        ...        ...           ...        ...         ...        ...   \n",
       "1241    ZRXBTC 2017-12-11  1.486000e-05 2018-01-27    0.000184  11.382234   \n",
       "1242    ZRXBTC 2021-01-21  1.576000e-05 2021-02-05    0.000041   1.632614   \n",
       "1243   ZRXUSDT 2020-04-23  1.849600e-01 2020-05-09    0.422600   1.284818   \n",
       "1244   ZRXUSDT 2021-01-21  5.146400e-01 2021-02-13    1.891200   2.674802   \n",
       "1245   ZRXUSDT 2023-10-28  2.600600e-01 2023-11-15    0.525400   1.020303   \n",
       "\n",
       "     pump_length date_listing pump_to_listing  \n",
       "3        48 days   2020-10-15         72 days  \n",
       "4        32 days   2022-01-25        501 days  \n",
       "5        30 days   2022-01-10        379 days  \n",
       "6        30 days   2022-01-10        379 days  \n",
       "8        30 days   2017-11-30       1156 days  \n",
       "...          ...          ...             ...  \n",
       "1241     47 days   2017-09-13         89 days  \n",
       "1242     15 days   2017-09-13       1226 days  \n",
       "1243     16 days   2019-02-28        420 days  \n",
       "1244     23 days   2019-02-28        693 days  \n",
       "1245     18 days   2019-02-28       1703 days  \n",
       "\n",
       "[1143 rows x 9 columns]"
      ]
     },
     "execution_count": 112,
     "metadata": {},
     "output_type": "execute_result"
    }
   ],
   "source": [
    "df_data_pump_not_ico = df_data_pump[df_data_pump['pump_to_listing'] > timedelta(days=30)]\n",
    "df_data_pump_not_ico"
   ]
  },
  {
   "cell_type": "code",
   "execution_count": 137,
   "metadata": {},
   "outputs": [
    {
     "name": "stdout",
     "output_type": "stream",
     "text": [
      "Query successful\n"
     ]
    },
    {
     "data": {
      "application/vnd.plotly.v1+json": {
       "config": {
        "plotlyServerURL": "https://plot.ly"
       },
       "data": [
        {
         "mode": "markers+lines",
         "type": "scatter",
         "x": [
          "2020-12-26T00:00:00",
          "2021-02-12T00:00:00"
         ],
         "xaxis": "x",
         "y": [
          "AAVEUSDT",
          "AAVEUSDT"
         ],
         "yaxis": "y"
        },
        {
         "mode": "markers+lines",
         "type": "scatter",
         "x": [
          "2023-06-10T00:00:00",
          "2023-07-12T00:00:00"
         ],
         "xaxis": "x",
         "y": [
          "ACAUSDT",
          "ACAUSDT"
         ],
         "yaxis": "y"
        },
        {
         "mode": "markers+lines",
         "type": "scatter",
         "x": [
          "2023-01-24T00:00:00",
          "2023-02-23T00:00:00"
         ],
         "xaxis": "x",
         "y": [
          "ACHBTC",
          "ACHBTC"
         ],
         "yaxis": "y"
        },
        {
         "mode": "markers+lines",
         "type": "scatter",
         "x": [
          "2023-01-24T00:00:00",
          "2023-02-23T00:00:00"
         ],
         "xaxis": "x",
         "y": [
          "ACHUSDT",
          "ACHUSDT"
         ],
         "yaxis": "y"
        },
        {
         "mode": "markers+lines",
         "type": "scatter",
         "x": [
          "2021-01-29T00:00:00",
          "2021-02-28T00:00:00"
         ],
         "xaxis": "x",
         "y": [
          "ADABTC",
          "ADABTC"
         ],
         "yaxis": "y"
        },
        {
         "mode": "markers+lines",
         "type": "scatter",
         "x": [
          "2021-05-01T00:00:00",
          "2021-05-16T00:00:00"
         ],
         "xaxis": "x",
         "y": [
          "ADABTC",
          "ADABTC"
         ],
         "yaxis": "y"
        },
        {
         "mode": "markers+lines",
         "type": "scatter",
         "x": [
          "2020-12-23T00:00:00",
          "2021-02-27T00:00:00"
         ],
         "xaxis": "x",
         "y": [
          "ADAUSDT",
          "ADAUSDT"
         ],
         "yaxis": "y"
        },
        {
         "mode": "markers+lines",
         "type": "scatter",
         "x": [
          "2021-08-02T00:00:00",
          "2021-09-03T00:00:00"
         ],
         "xaxis": "x",
         "y": [
          "ADAUSDT",
          "ADAUSDT"
         ],
         "yaxis": "y"
        },
        {
         "mode": "markers+lines",
         "type": "scatter",
         "x": [
          "2021-02-08T00:00:00",
          "2021-04-02T00:00:00"
         ],
         "xaxis": "x",
         "y": [
          "AERGOBTC",
          "AERGOBTC"
         ],
         "yaxis": "y"
        },
        {
         "mode": "markers+lines",
         "type": "scatter",
         "x": [
          "2021-08-17T00:00:00",
          "2021-09-05T00:00:00"
         ],
         "xaxis": "x",
         "y": [
          "AGIXBTC",
          "AGIXBTC"
         ],
         "yaxis": "y"
        },
        {
         "mode": "markers+lines",
         "type": "scatter",
         "x": [
          "2022-12-31T00:00:00",
          "2023-02-07T00:00:00"
         ],
         "xaxis": "x",
         "y": [
          "AGIXBTC",
          "AGIXBTC"
         ],
         "yaxis": "y"
        },
        {
         "mode": "markers+lines",
         "type": "scatter",
         "x": [
          "2023-07-08T00:00:00",
          "2023-07-20T00:00:00"
         ],
         "xaxis": "x",
         "y": [
          "AGLDBTC",
          "AGLDBTC"
         ],
         "yaxis": "y"
        },
        {
         "mode": "markers+lines",
         "type": "scatter",
         "x": [
          "2022-03-15T00:00:00",
          "2022-03-30T00:00:00"
         ],
         "xaxis": "x",
         "y": [
          "AGLDUSDT",
          "AGLDUSDT"
         ],
         "yaxis": "y"
        },
        {
         "mode": "markers+lines",
         "type": "scatter",
         "x": [
          "2023-01-24T00:00:00",
          "2023-02-19T00:00:00"
         ],
         "xaxis": "x",
         "y": [
          "AGLDUSDT",
          "AGLDUSDT"
         ],
         "yaxis": "y"
        },
        {
         "mode": "markers+lines",
         "type": "scatter",
         "x": [
          "2023-07-08T00:00:00",
          "2023-07-20T00:00:00"
         ],
         "xaxis": "x",
         "y": [
          "AGLDUSDT",
          "AGLDUSDT"
         ],
         "yaxis": "y"
        },
        {
         "mode": "markers+lines",
         "type": "scatter",
         "x": [
          "2021-01-02T00:00:00",
          "2021-02-12T00:00:00"
         ],
         "xaxis": "x",
         "y": [
          "AKROUSDT",
          "AKROUSDT"
         ],
         "yaxis": "y"
        },
        {
         "mode": "markers+lines",
         "type": "scatter",
         "x": [
          "2021-02-26T00:00:00",
          "2021-04-09T00:00:00"
         ],
         "xaxis": "x",
         "y": [
          "AKROUSDT",
          "AKROUSDT"
         ],
         "yaxis": "y"
        },
        {
         "mode": "markers+lines",
         "type": "scatter",
         "x": [
          "2023-07-24T00:00:00",
          "2023-08-29T00:00:00"
         ],
         "xaxis": "x",
         "y": [
          "AKROUSDT",
          "AKROUSDT"
         ],
         "yaxis": "y"
        },
        {
         "mode": "markers+lines",
         "type": "scatter",
         "x": [
          "2020-08-02T00:00:00",
          "2020-08-13T00:00:00"
         ],
         "xaxis": "x",
         "y": [
          "ALGOBTC",
          "ALGOBTC"
         ],
         "yaxis": "y"
        },
        {
         "mode": "markers+lines",
         "type": "scatter",
         "x": [
          "2021-08-29T00:00:00",
          "2021-09-12T00:00:00"
         ],
         "xaxis": "x",
         "y": [
          "ALGOBTC",
          "ALGOBTC"
         ],
         "yaxis": "y"
        },
        {
         "mode": "markers+lines",
         "type": "scatter",
         "x": [
          "2020-01-29T00:00:00",
          "2020-02-24T00:00:00"
         ],
         "xaxis": "x",
         "y": [
          "ALGOUSDT",
          "ALGOUSDT"
         ],
         "yaxis": "y"
        },
        {
         "mode": "markers+lines",
         "type": "scatter",
         "x": [
          "2020-07-27T00:00:00",
          "2020-08-13T00:00:00"
         ],
         "xaxis": "x",
         "y": [
          "ALGOUSDT",
          "ALGOUSDT"
         ],
         "yaxis": "y"
        },
        {
         "mode": "markers+lines",
         "type": "scatter",
         "x": [
          "2021-01-22T00:00:00",
          "2021-02-12T00:00:00"
         ],
         "xaxis": "x",
         "y": [
          "ALGOUSDT",
          "ALGOUSDT"
         ],
         "yaxis": "y"
        },
        {
         "mode": "markers+lines",
         "type": "scatter",
         "x": [
          "2021-08-26T00:00:00",
          "2021-09-12T00:00:00"
         ],
         "xaxis": "x",
         "y": [
          "ALGOUSDT",
          "ALGOUSDT"
         ],
         "yaxis": "y"
        },
        {
         "mode": "markers+lines",
         "type": "scatter",
         "x": [
          "2021-04-24T00:00:00",
          "2021-05-01T00:00:00"
         ],
         "xaxis": "x",
         "y": [
          "ALICEBTC",
          "ALICEBTC"
         ],
         "yaxis": "y"
        },
        {
         "mode": "markers+lines",
         "type": "scatter",
         "x": [
          "2021-06-27T00:00:00",
          "2021-07-29T00:00:00"
         ],
         "xaxis": "x",
         "y": [
          "ALICEBTC",
          "ALICEBTC"
         ],
         "yaxis": "y"
        },
        {
         "mode": "markers+lines",
         "type": "scatter",
         "x": [
          "2021-11-10T00:00:00",
          "2021-11-24T00:00:00"
         ],
         "xaxis": "x",
         "y": [
          "ALICEBTC",
          "ALICEBTC"
         ],
         "yaxis": "y"
        },
        {
         "mode": "markers+lines",
         "type": "scatter",
         "x": [
          "2021-04-24T00:00:00",
          "2021-05-01T00:00:00"
         ],
         "xaxis": "x",
         "y": [
          "ALICEUSDT",
          "ALICEUSDT"
         ],
         "yaxis": "y"
        },
        {
         "mode": "markers+lines",
         "type": "scatter",
         "x": [
          "2021-07-20T00:00:00",
          "2021-07-30T00:00:00"
         ],
         "xaxis": "x",
         "y": [
          "ALICEUSDT",
          "ALICEUSDT"
         ],
         "yaxis": "y"
        },
        {
         "mode": "markers+lines",
         "type": "scatter",
         "x": [
          "2021-11-16T00:00:00",
          "2021-11-24T00:00:00"
         ],
         "xaxis": "x",
         "y": [
          "ALICEUSDT",
          "ALICEUSDT"
         ],
         "yaxis": "y"
        },
        {
         "mode": "markers+lines",
         "type": "scatter",
         "x": [
          "2020-12-30T00:00:00",
          "2021-02-05T00:00:00"
         ],
         "xaxis": "x",
         "y": [
          "ALPHABTC",
          "ALPHABTC"
         ],
         "yaxis": "y"
        },
        {
         "mode": "markers+lines",
         "type": "scatter",
         "x": [
          "2021-06-22T00:00:00",
          "2021-07-07T00:00:00"
         ],
         "xaxis": "x",
         "y": [
          "ALPHABTC",
          "ALPHABTC"
         ],
         "yaxis": "y"
        },
        {
         "mode": "markers+lines",
         "type": "scatter",
         "x": [
          "2020-12-26T00:00:00",
          "2021-02-05T00:00:00"
         ],
         "xaxis": "x",
         "y": [
          "ALPHAUSDT",
          "ALPHAUSDT"
         ],
         "yaxis": "y"
        },
        {
         "mode": "markers+lines",
         "type": "scatter",
         "x": [
          "2021-06-22T00:00:00",
          "2021-07-07T00:00:00"
         ],
         "xaxis": "x",
         "y": [
          "ALPHAUSDT",
          "ALPHAUSDT"
         ],
         "yaxis": "y"
        },
        {
         "mode": "markers+lines",
         "type": "scatter",
         "x": [
          "2022-03-21T00:00:00",
          "2022-04-04T00:00:00"
         ],
         "xaxis": "x",
         "y": [
          "ALPHAUSDT",
          "ALPHAUSDT"
         ],
         "yaxis": "y"
        },
        {
         "mode": "markers+lines",
         "type": "scatter",
         "x": [
          "2023-01-01T00:00:00",
          "2023-01-29T00:00:00"
         ],
         "xaxis": "x",
         "y": [
          "ALPHAUSDT",
          "ALPHAUSDT"
         ],
         "yaxis": "y"
        },
        {
         "mode": "markers+lines",
         "type": "scatter",
         "x": [
          "2022-08-09T00:00:00",
          "2022-09-02T00:00:00"
         ],
         "xaxis": "x",
         "y": [
          "ALPINEBTC",
          "ALPINEBTC"
         ],
         "yaxis": "y"
        },
        {
         "mode": "markers+lines",
         "type": "scatter",
         "x": [
          "2023-03-27T00:00:00",
          "2023-04-11T00:00:00"
         ],
         "xaxis": "x",
         "y": [
          "ALPINEUSDT",
          "ALPINEUSDT"
         ],
         "yaxis": "y"
        },
        {
         "mode": "markers+lines",
         "type": "scatter",
         "x": [
          "2020-01-31T00:00:00",
          "2020-02-15T00:00:00"
         ],
         "xaxis": "x",
         "y": [
          "ANKRBTC",
          "ANKRBTC"
         ],
         "yaxis": "y"
        },
        {
         "mode": "markers+lines",
         "type": "scatter",
         "x": [
          "2020-06-29T00:00:00",
          "2020-07-22T00:00:00"
         ],
         "xaxis": "x",
         "y": [
          "ANKRBTC",
          "ANKRBTC"
         ],
         "yaxis": "y"
        },
        {
         "mode": "markers+lines",
         "type": "scatter",
         "x": [
          "2020-08-01T00:00:00",
          "2020-08-10T00:00:00"
         ],
         "xaxis": "x",
         "y": [
          "ANKRBTC",
          "ANKRBTC"
         ],
         "yaxis": "y"
        },
        {
         "mode": "markers+lines",
         "type": "scatter",
         "x": [
          "2021-01-08T00:00:00",
          "2021-03-27T00:00:00"
         ],
         "xaxis": "x",
         "y": [
          "ANKRBTC",
          "ANKRBTC"
         ],
         "yaxis": "y"
        },
        {
         "mode": "markers+lines",
         "type": "scatter",
         "x": [
          "2020-01-30T00:00:00",
          "2020-02-15T00:00:00"
         ],
         "xaxis": "x",
         "y": [
          "ANKRUSDT",
          "ANKRUSDT"
         ],
         "yaxis": "y"
        },
        {
         "mode": "markers+lines",
         "type": "scatter",
         "x": [
          "2020-07-02T00:00:00",
          "2020-08-10T00:00:00"
         ],
         "xaxis": "x",
         "y": [
          "ANKRUSDT",
          "ANKRUSDT"
         ],
         "yaxis": "y"
        },
        {
         "mode": "markers+lines",
         "type": "scatter",
         "x": [
          "2021-01-27T00:00:00",
          "2021-03-27T00:00:00"
         ],
         "xaxis": "x",
         "y": [
          "ANKRUSDT",
          "ANKRUSDT"
         ],
         "yaxis": "y"
        },
        {
         "mode": "markers+lines",
         "type": "scatter",
         "x": [
          "2021-03-11T00:00:00",
          "2021-04-05T00:00:00"
         ],
         "xaxis": "x",
         "y": [
          "ANTBTC",
          "ANTBTC"
         ],
         "yaxis": "y"
        },
        {
         "mode": "markers+lines",
         "type": "scatter",
         "x": [
          "2021-12-05T00:00:00",
          "2021-12-31T00:00:00"
         ],
         "xaxis": "x",
         "y": [
          "ANTBTC",
          "ANTBTC"
         ],
         "yaxis": "y"
        },
        {
         "mode": "markers+lines",
         "type": "scatter",
         "x": [
          "2021-03-11T00:00:00",
          "2021-04-05T00:00:00"
         ],
         "xaxis": "x",
         "y": [
          "ANTUSDT",
          "ANTUSDT"
         ],
         "yaxis": "y"
        },
        {
         "mode": "markers+lines",
         "type": "scatter",
         "x": [
          "2021-12-05T00:00:00",
          "2021-12-31T00:00:00"
         ],
         "xaxis": "x",
         "y": [
          "ANTUSDT",
          "ANTUSDT"
         ],
         "yaxis": "y"
        },
        {
         "mode": "markers+lines",
         "type": "scatter",
         "x": [
          "2022-06-12T00:00:00",
          "2022-07-05T00:00:00"
         ],
         "xaxis": "x",
         "y": [
          "API3BTC",
          "API3BTC"
         ],
         "yaxis": "y"
        },
        {
         "mode": "markers+lines",
         "type": "scatter",
         "x": [
          "2024-01-09T00:00:00",
          "2024-02-14T00:00:00"
         ],
         "xaxis": "x",
         "y": [
          "API3BTC",
          "API3BTC"
         ],
         "yaxis": "y"
        },
        {
         "mode": "markers+lines",
         "type": "scatter",
         "x": [
          "2024-01-09T00:00:00",
          "2024-02-14T00:00:00"
         ],
         "xaxis": "x",
         "y": [
          "API3USDT",
          "API3USDT"
         ],
         "yaxis": "y"
        },
        {
         "mode": "markers+lines",
         "type": "scatter",
         "x": [
          "2022-12-29T00:00:00",
          "2023-01-25T00:00:00"
         ],
         "xaxis": "x",
         "y": [
          "APTBTC",
          "APTBTC"
         ],
         "yaxis": "y"
        },
        {
         "mode": "markers+lines",
         "type": "scatter",
         "x": [
          "2022-12-29T00:00:00",
          "2023-01-25T00:00:00"
         ],
         "xaxis": "x",
         "y": [
          "APTUSDT",
          "APTUSDT"
         ],
         "yaxis": "y"
        },
        {
         "mode": "markers+lines",
         "type": "scatter",
         "x": [
          "2023-12-20T00:00:00",
          "2024-01-12T00:00:00"
         ],
         "xaxis": "x",
         "y": [
          "ARBBTC",
          "ARBBTC"
         ],
         "yaxis": "y"
        },
        {
         "mode": "markers+lines",
         "type": "scatter",
         "x": [
          "2023-12-19T00:00:00",
          "2024-01-11T00:00:00"
         ],
         "xaxis": "x",
         "y": [
          "ARBUSDT",
          "ARBUSDT"
         ],
         "yaxis": "y"
        },
        {
         "mode": "markers+lines",
         "type": "scatter",
         "x": [
          "2020-01-30T00:00:00",
          "2020-02-17T00:00:00"
         ],
         "xaxis": "x",
         "y": [
          "ARPABTC",
          "ARPABTC"
         ],
         "yaxis": "y"
        },
        {
         "mode": "markers+lines",
         "type": "scatter",
         "x": [
          "2020-06-27T00:00:00",
          "2020-07-10T00:00:00"
         ],
         "xaxis": "x",
         "y": [
          "ARPABTC",
          "ARPABTC"
         ],
         "yaxis": "y"
        },
        {
         "mode": "markers+lines",
         "type": "scatter",
         "x": [
          "2020-07-27T00:00:00",
          "2020-08-16T00:00:00"
         ],
         "xaxis": "x",
         "y": [
          "ARPABTC",
          "ARPABTC"
         ],
         "yaxis": "y"
        },
        {
         "mode": "markers+lines",
         "type": "scatter",
         "x": [
          "2021-02-23T00:00:00",
          "2021-04-09T00:00:00"
         ],
         "xaxis": "x",
         "y": [
          "ARPABTC",
          "ARPABTC"
         ],
         "yaxis": "y"
        },
        {
         "mode": "markers+lines",
         "type": "scatter",
         "x": [
          "2021-10-06T00:00:00",
          "2021-11-03T00:00:00"
         ],
         "xaxis": "x",
         "y": [
          "ARPABTC",
          "ARPABTC"
         ],
         "yaxis": "y"
        },
        {
         "mode": "markers+lines",
         "type": "scatter",
         "x": [
          "2023-04-30T00:00:00",
          "2023-05-25T00:00:00"
         ],
         "xaxis": "x",
         "y": [
          "ARPABTC",
          "ARPABTC"
         ],
         "yaxis": "y"
        },
        {
         "mode": "markers+lines",
         "type": "scatter",
         "x": [
          "2020-01-25T00:00:00",
          "2020-02-17T00:00:00"
         ],
         "xaxis": "x",
         "y": [
          "ARPAUSDT",
          "ARPAUSDT"
         ],
         "yaxis": "y"
        },
        {
         "mode": "markers+lines",
         "type": "scatter",
         "x": [
          "2020-06-27T00:00:00",
          "2020-07-10T00:00:00"
         ],
         "xaxis": "x",
         "y": [
          "ARPAUSDT",
          "ARPAUSDT"
         ],
         "yaxis": "y"
        },
        {
         "mode": "markers+lines",
         "type": "scatter",
         "x": [
          "2020-07-27T00:00:00",
          "2020-08-16T00:00:00"
         ],
         "xaxis": "x",
         "y": [
          "ARPAUSDT",
          "ARPAUSDT"
         ],
         "yaxis": "y"
        },
        {
         "mode": "markers+lines",
         "type": "scatter",
         "x": [
          "2021-02-23T00:00:00",
          "2021-04-09T00:00:00"
         ],
         "xaxis": "x",
         "y": [
          "ARPAUSDT",
          "ARPAUSDT"
         ],
         "yaxis": "y"
        },
        {
         "mode": "markers+lines",
         "type": "scatter",
         "x": [
          "2021-08-08T00:00:00",
          "2021-09-03T00:00:00"
         ],
         "xaxis": "x",
         "y": [
          "ARPAUSDT",
          "ARPAUSDT"
         ],
         "yaxis": "y"
        },
        {
         "mode": "markers+lines",
         "type": "scatter",
         "x": [
          "2021-09-29T00:00:00",
          "2021-11-12T00:00:00"
         ],
         "xaxis": "x",
         "y": [
          "ARPAUSDT",
          "ARPAUSDT"
         ],
         "yaxis": "y"
        },
        {
         "mode": "markers+lines",
         "type": "scatter",
         "x": [
          "2023-05-08T00:00:00",
          "2023-05-25T00:00:00"
         ],
         "xaxis": "x",
         "y": [
          "ARPAUSDT",
          "ARPAUSDT"
         ],
         "yaxis": "y"
        },
        {
         "mode": "markers+lines",
         "type": "scatter",
         "x": [
          "2021-08-05T00:00:00",
          "2021-09-09T00:00:00"
         ],
         "xaxis": "x",
         "y": [
          "ARBTC",
          "ARBTC"
         ],
         "yaxis": "y"
        },
        {
         "mode": "markers+lines",
         "type": "scatter",
         "x": [
          "2021-08-03T00:00:00",
          "2021-08-31T00:00:00"
         ],
         "xaxis": "x",
         "y": [
          "ARUSDT",
          "ARUSDT"
         ],
         "yaxis": "y"
        },
        {
         "mode": "markers+lines",
         "type": "scatter",
         "x": [
          "2023-10-19T00:00:00",
          "2023-11-19T00:00:00"
         ],
         "xaxis": "x",
         "y": [
          "ARUSDT",
          "ARUSDT"
         ],
         "yaxis": "y"
        },
        {
         "mode": "markers+lines",
         "type": "scatter",
         "x": [
          "2021-01-31T00:00:00",
          "2021-02-18T00:00:00"
         ],
         "xaxis": "x",
         "y": [
          "ASRUSDT",
          "ASRUSDT"
         ],
         "yaxis": "y"
        },
        {
         "mode": "markers+lines",
         "type": "scatter",
         "x": [
          "2021-02-26T00:00:00",
          "2021-03-13T00:00:00"
         ],
         "xaxis": "x",
         "y": [
          "ASRUSDT",
          "ASRUSDT"
         ],
         "yaxis": "y"
        },
        {
         "mode": "markers+lines",
         "type": "scatter",
         "x": [
          "2022-05-12T00:00:00",
          "2022-06-08T00:00:00"
         ],
         "xaxis": "x",
         "y": [
          "ASRUSDT",
          "ASRUSDT"
         ],
         "yaxis": "y"
        },
        {
         "mode": "markers+lines",
         "type": "scatter",
         "x": [
          "2023-12-12T00:00:00",
          "2024-01-21T00:00:00"
         ],
         "xaxis": "x",
         "y": [
          "ASTRUSDT",
          "ASTRUSDT"
         ],
         "yaxis": "y"
        },
        {
         "mode": "markers+lines",
         "type": "scatter",
         "x": [
          "2017-12-12T00:00:00",
          "2018-01-09T00:00:00"
         ],
         "xaxis": "x",
         "y": [
          "ASTBTC",
          "ASTBTC"
         ],
         "yaxis": "y"
        },
        {
         "mode": "markers+lines",
         "type": "scatter",
         "x": [
          "2019-05-14T00:00:00",
          "2019-05-23T00:00:00"
         ],
         "xaxis": "x",
         "y": [
          "ASTBTC",
          "ASTBTC"
         ],
         "yaxis": "y"
        },
        {
         "mode": "markers+lines",
         "type": "scatter",
         "x": [
          "2020-05-14T00:00:00",
          "2020-06-12T00:00:00"
         ],
         "xaxis": "x",
         "y": [
          "ASTBTC",
          "ASTBTC"
         ],
         "yaxis": "y"
        },
        {
         "mode": "markers+lines",
         "type": "scatter",
         "x": [
          "2020-08-01T00:00:00",
          "2020-08-17T00:00:00"
         ],
         "xaxis": "x",
         "y": [
          "ASTBTC",
          "ASTBTC"
         ],
         "yaxis": "y"
        },
        {
         "mode": "markers+lines",
         "type": "scatter",
         "x": [
          "2021-01-02T00:00:00",
          "2021-02-12T00:00:00"
         ],
         "xaxis": "x",
         "y": [
          "ASTBTC",
          "ASTBTC"
         ],
         "yaxis": "y"
        },
        {
         "mode": "markers+lines",
         "type": "scatter",
         "x": [
          "2021-03-10T00:00:00",
          "2021-03-28T00:00:00"
         ],
         "xaxis": "x",
         "y": [
          "ASTBTC",
          "ASTBTC"
         ],
         "yaxis": "y"
        },
        {
         "mode": "markers+lines",
         "type": "scatter",
         "x": [
          "2021-10-19T00:00:00",
          "2021-11-24T00:00:00"
         ],
         "xaxis": "x",
         "y": [
          "ASTBTC",
          "ASTBTC"
         ],
         "yaxis": "y"
        },
        {
         "mode": "markers+lines",
         "type": "scatter",
         "x": [
          "2022-06-11T00:00:00",
          "2022-07-11T00:00:00"
         ],
         "xaxis": "x",
         "y": [
          "ASTBTC",
          "ASTBTC"
         ],
         "yaxis": "y"
        },
        {
         "mode": "markers+lines",
         "type": "scatter",
         "x": [
          "2021-08-12T00:00:00",
          "2021-08-28T00:00:00"
         ],
         "xaxis": "x",
         "y": [
          "ATABTC",
          "ATABTC"
         ],
         "yaxis": "y"
        },
        {
         "mode": "markers+lines",
         "type": "scatter",
         "x": [
          "2021-08-02T00:00:00",
          "2021-08-28T00:00:00"
         ],
         "xaxis": "x",
         "y": [
          "ATAUSDT",
          "ATAUSDT"
         ],
         "yaxis": "y"
        },
        {
         "mode": "markers+lines",
         "type": "scatter",
         "x": [
          "2021-01-31T00:00:00",
          "2021-02-19T00:00:00"
         ],
         "xaxis": "x",
         "y": [
          "ATMUSDT",
          "ATMUSDT"
         ],
         "yaxis": "y"
        },
        {
         "mode": "markers+lines",
         "type": "scatter",
         "x": [
          "2021-05-04T00:00:00",
          "2021-05-21T00:00:00"
         ],
         "xaxis": "x",
         "y": [
          "ATMUSDT",
          "ATMUSDT"
         ],
         "yaxis": "y"
        },
        {
         "mode": "markers+lines",
         "type": "scatter",
         "x": [
          "2020-07-29T00:00:00",
          "2020-08-25T00:00:00"
         ],
         "xaxis": "x",
         "y": [
          "ATOMBTC",
          "ATOMBTC"
         ],
         "yaxis": "y"
        },
        {
         "mode": "markers+lines",
         "type": "scatter",
         "x": [
          "2021-01-27T00:00:00",
          "2021-02-16T00:00:00"
         ],
         "xaxis": "x",
         "y": [
          "ATOMBTC",
          "ATOMBTC"
         ],
         "yaxis": "y"
        },
        {
         "mode": "markers+lines",
         "type": "scatter",
         "x": [
          "2021-08-27T00:00:00",
          "2021-09-24T00:00:00"
         ],
         "xaxis": "x",
         "y": [
          "ATOMBTC",
          "ATOMBTC"
         ],
         "yaxis": "y"
        },
        {
         "mode": "markers+lines",
         "type": "scatter",
         "x": [
          "2021-12-17T00:00:00",
          "2022-01-16T00:00:00"
         ],
         "xaxis": "x",
         "y": [
          "ATOMBTC",
          "ATOMBTC"
         ],
         "yaxis": "y"
        },
        {
         "mode": "markers+lines",
         "type": "scatter",
         "x": [
          "2020-07-29T00:00:00",
          "2020-08-23T00:00:00"
         ],
         "xaxis": "x",
         "y": [
          "ATOMUSDT",
          "ATOMUSDT"
         ],
         "yaxis": "y"
        },
        {
         "mode": "markers+lines",
         "type": "scatter",
         "x": [
          "2021-01-27T00:00:00",
          "2021-02-16T00:00:00"
         ],
         "xaxis": "x",
         "y": [
          "ATOMUSDT",
          "ATOMUSDT"
         ],
         "yaxis": "y"
        },
        {
         "mode": "markers+lines",
         "type": "scatter",
         "x": [
          "2021-09-08T00:00:00",
          "2021-09-19T00:00:00"
         ],
         "xaxis": "x",
         "y": [
          "ATOMUSDT",
          "ATOMUSDT"
         ],
         "yaxis": "y"
        },
        {
         "mode": "markers+lines",
         "type": "scatter",
         "x": [
          "2023-11-15T00:00:00",
          "2023-12-27T00:00:00"
         ],
         "xaxis": "x",
         "y": [
          "AUCTIONBTC",
          "AUCTIONBTC"
         ],
         "yaxis": "y"
        },
        {
         "mode": "markers+lines",
         "type": "scatter",
         "x": [
          "2023-11-16T00:00:00",
          "2023-12-20T00:00:00"
         ],
         "xaxis": "x",
         "y": [
          "AUCTIONUSDT",
          "AUCTIONUSDT"
         ],
         "yaxis": "y"
        },
        {
         "mode": "markers+lines",
         "type": "scatter",
         "x": [
          "2021-02-20T00:00:00",
          "2021-03-27T00:00:00"
         ],
         "xaxis": "x",
         "y": [
          "AUDIOBTC",
          "AUDIOBTC"
         ],
         "yaxis": "y"
        },
        {
         "mode": "markers+lines",
         "type": "scatter",
         "x": [
          "2021-08-03T00:00:00",
          "2021-08-19T00:00:00"
         ],
         "xaxis": "x",
         "y": [
          "AUDIOBTC",
          "AUDIOBTC"
         ],
         "yaxis": "y"
        },
        {
         "mode": "markers+lines",
         "type": "scatter",
         "x": [
          "2021-01-29T00:00:00",
          "2021-03-27T00:00:00"
         ],
         "xaxis": "x",
         "y": [
          "AUDIOUSDT",
          "AUDIOUSDT"
         ],
         "yaxis": "y"
        },
        {
         "mode": "markers+lines",
         "type": "scatter",
         "x": [
          "2021-08-03T00:00:00",
          "2021-08-19T00:00:00"
         ],
         "xaxis": "x",
         "y": [
          "AUDIOUSDT",
          "AUDIOUSDT"
         ],
         "yaxis": "y"
        },
        {
         "mode": "markers+lines",
         "type": "scatter",
         "x": [
          "2022-03-13T00:00:00",
          "2022-04-04T00:00:00"
         ],
         "xaxis": "x",
         "y": [
          "AUDIOUSDT",
          "AUDIOUSDT"
         ],
         "yaxis": "y"
        },
        {
         "mode": "markers+lines",
         "type": "scatter",
         "x": [
          "2020-12-30T00:00:00",
          "2021-02-10T00:00:00"
         ],
         "xaxis": "x",
         "y": [
          "AVAXBTC",
          "AVAXBTC"
         ],
         "yaxis": "y"
        },
        {
         "mode": "markers+lines",
         "type": "scatter",
         "x": [
          "2021-08-03T00:00:00",
          "2021-08-24T00:00:00"
         ],
         "xaxis": "x",
         "y": [
          "AVAXBTC",
          "AVAXBTC"
         ],
         "yaxis": "y"
        },
        {
         "mode": "markers+lines",
         "type": "scatter",
         "x": [
          "2021-09-08T00:00:00",
          "2021-09-23T00:00:00"
         ],
         "xaxis": "x",
         "y": [
          "AVAXBTC",
          "AVAXBTC"
         ],
         "yaxis": "y"
        },
        {
         "mode": "markers+lines",
         "type": "scatter",
         "x": [
          "2023-12-04T00:00:00",
          "2023-12-24T00:00:00"
         ],
         "xaxis": "x",
         "y": [
          "AVAXBTC",
          "AVAXBTC"
         ],
         "yaxis": "y"
        },
        {
         "mode": "markers+lines",
         "type": "scatter",
         "x": [
          "2020-12-27T00:00:00",
          "2021-02-10T00:00:00"
         ],
         "xaxis": "x",
         "y": [
          "AVAXUSDT",
          "AVAXUSDT"
         ],
         "yaxis": "y"
        },
        {
         "mode": "markers+lines",
         "type": "scatter",
         "x": [
          "2021-08-03T00:00:00",
          "2021-08-24T00:00:00"
         ],
         "xaxis": "x",
         "y": [
          "AVAXUSDT",
          "AVAXUSDT"
         ],
         "yaxis": "y"
        },
        {
         "mode": "markers+lines",
         "type": "scatter",
         "x": [
          "2021-10-30T00:00:00",
          "2021-11-22T00:00:00"
         ],
         "xaxis": "x",
         "y": [
          "AVAXUSDT",
          "AVAXUSDT"
         ],
         "yaxis": "y"
        },
        {
         "mode": "markers+lines",
         "type": "scatter",
         "x": [
          "2023-10-31T00:00:00",
          "2023-11-19T00:00:00"
         ],
         "xaxis": "x",
         "y": [
          "AVAXUSDT",
          "AVAXUSDT"
         ],
         "yaxis": "y"
        },
        {
         "mode": "markers+lines",
         "type": "scatter",
         "x": [
          "2023-11-27T00:00:00",
          "2023-12-25T00:00:00"
         ],
         "xaxis": "x",
         "y": [
          "AVAXUSDT",
          "AVAXUSDT"
         ],
         "yaxis": "y"
        },
        {
         "mode": "markers+lines",
         "type": "scatter",
         "x": [
          "2021-01-03T00:00:00",
          "2021-01-24T00:00:00"
         ],
         "xaxis": "x",
         "y": [
          "AVABTC",
          "AVABTC"
         ],
         "yaxis": "y"
        },
        {
         "mode": "markers+lines",
         "type": "scatter",
         "x": [
          "2021-01-03T00:00:00",
          "2021-04-13T00:00:00"
         ],
         "xaxis": "x",
         "y": [
          "AVAUSDT",
          "AVAUSDT"
         ],
         "yaxis": "y"
        },
        {
         "mode": "markers+lines",
         "type": "scatter",
         "x": [
          "2021-01-12T00:00:00",
          "2021-02-14T00:00:00"
         ],
         "xaxis": "x",
         "y": [
          "AXSBTC",
          "AXSBTC"
         ],
         "yaxis": "y"
        },
        {
         "mode": "markers+lines",
         "type": "scatter",
         "x": [
          "2021-02-24T00:00:00",
          "2021-04-05T00:00:00"
         ],
         "xaxis": "x",
         "y": [
          "AXSBTC",
          "AXSBTC"
         ],
         "yaxis": "y"
        },
        {
         "mode": "markers+lines",
         "type": "scatter",
         "x": [
          "2021-06-22T00:00:00",
          "2021-07-23T00:00:00"
         ],
         "xaxis": "x",
         "y": [
          "AXSBTC",
          "AXSBTC"
         ],
         "yaxis": "y"
        },
        {
         "mode": "markers+lines",
         "type": "scatter",
         "x": [
          "2021-09-21T00:00:00",
          "2021-10-03T00:00:00"
         ],
         "xaxis": "x",
         "y": [
          "AXSBTC",
          "AXSBTC"
         ],
         "yaxis": "y"
        },
        {
         "mode": "markers+lines",
         "type": "scatter",
         "x": [
          "2021-01-12T00:00:00",
          "2021-02-14T00:00:00"
         ],
         "xaxis": "x",
         "y": [
          "AXSUSDT",
          "AXSUSDT"
         ],
         "yaxis": "y"
        },
        {
         "mode": "markers+lines",
         "type": "scatter",
         "x": [
          "2021-02-23T00:00:00",
          "2021-03-14T00:00:00"
         ],
         "xaxis": "x",
         "y": [
          "AXSUSDT",
          "AXSUSDT"
         ],
         "yaxis": "y"
        },
        {
         "mode": "markers+lines",
         "type": "scatter",
         "x": [
          "2021-03-25T00:00:00",
          "2021-04-05T00:00:00"
         ],
         "xaxis": "x",
         "y": [
          "AXSUSDT",
          "AXSUSDT"
         ],
         "yaxis": "y"
        },
        {
         "mode": "markers+lines",
         "type": "scatter",
         "x": [
          "2021-06-22T00:00:00",
          "2021-09-04T00:00:00"
         ],
         "xaxis": "x",
         "y": [
          "AXSUSDT",
          "AXSUSDT"
         ],
         "yaxis": "y"
        },
        {
         "mode": "markers+lines",
         "type": "scatter",
         "x": [
          "2021-09-21T00:00:00",
          "2021-10-03T00:00:00"
         ],
         "xaxis": "x",
         "y": [
          "AXSUSDT",
          "AXSUSDT"
         ],
         "yaxis": "y"
        },
        {
         "mode": "markers+lines",
         "type": "scatter",
         "x": [
          "2021-07-22T00:00:00",
          "2021-08-10T00:00:00"
         ],
         "xaxis": "x",
         "y": [
          "BADGERBTC",
          "BADGERBTC"
         ],
         "yaxis": "y"
        },
        {
         "mode": "markers+lines",
         "type": "scatter",
         "x": [
          "2021-07-20T00:00:00",
          "2021-08-10T00:00:00"
         ],
         "xaxis": "x",
         "y": [
          "BADGERUSDT",
          "BADGERUSDT"
         ],
         "yaxis": "y"
        },
        {
         "mode": "markers+lines",
         "type": "scatter",
         "x": [
          "2021-09-29T00:00:00",
          "2021-10-13T00:00:00"
         ],
         "xaxis": "x",
         "y": [
          "BADGERUSDT",
          "BADGERUSDT"
         ],
         "yaxis": "y"
        },
        {
         "mode": "markers+lines",
         "type": "scatter",
         "x": [
          "2021-01-12T00:00:00",
          "2021-02-12T00:00:00"
         ],
         "xaxis": "x",
         "y": [
          "BALBTC",
          "BALBTC"
         ],
         "yaxis": "y"
        },
        {
         "mode": "markers+lines",
         "type": "scatter",
         "x": [
          "2021-01-21T00:00:00",
          "2021-02-12T00:00:00"
         ],
         "xaxis": "x",
         "y": [
          "BALUSDT",
          "BALUSDT"
         ],
         "yaxis": "y"
        },
        {
         "mode": "markers+lines",
         "type": "scatter",
         "x": [
          "2020-02-26T00:00:00",
          "2020-03-10T00:00:00"
         ],
         "xaxis": "x",
         "y": [
          "BANDBTC",
          "BANDBTC"
         ],
         "yaxis": "y"
        },
        {
         "mode": "markers+lines",
         "type": "scatter",
         "x": [
          "2020-04-01T00:00:00",
          "2020-05-01T00:00:00"
         ],
         "xaxis": "x",
         "y": [
          "BANDBTC",
          "BANDBTC"
         ],
         "yaxis": "y"
        },
        {
         "mode": "markers+lines",
         "type": "scatter",
         "x": [
          "2020-06-27T00:00:00",
          "2020-08-12T00:00:00"
         ],
         "xaxis": "x",
         "y": [
          "BANDBTC",
          "BANDBTC"
         ],
         "yaxis": "y"
        },
        {
         "mode": "markers+lines",
         "type": "scatter",
         "x": [
          "2022-10-20T00:00:00",
          "2022-11-10T00:00:00"
         ],
         "xaxis": "x",
         "y": [
          "BANDBTC",
          "BANDBTC"
         ],
         "yaxis": "y"
        },
        {
         "mode": "markers+lines",
         "type": "scatter",
         "x": [
          "2020-02-26T00:00:00",
          "2020-03-10T00:00:00"
         ],
         "xaxis": "x",
         "y": [
          "BANDUSDT",
          "BANDUSDT"
         ],
         "yaxis": "y"
        },
        {
         "mode": "markers+lines",
         "type": "scatter",
         "x": [
          "2020-03-29T00:00:00",
          "2020-05-01T00:00:00"
         ],
         "xaxis": "x",
         "y": [
          "BANDUSDT",
          "BANDUSDT"
         ],
         "yaxis": "y"
        },
        {
         "mode": "markers+lines",
         "type": "scatter",
         "x": [
          "2020-06-27T00:00:00",
          "2020-08-09T00:00:00"
         ],
         "xaxis": "x",
         "y": [
          "BANDUSDT",
          "BANDUSDT"
         ],
         "yaxis": "y"
        },
        {
         "mode": "markers+lines",
         "type": "scatter",
         "x": [
          "2021-01-27T00:00:00",
          "2021-02-12T00:00:00"
         ],
         "xaxis": "x",
         "y": [
          "BANDUSDT",
          "BANDUSDT"
         ],
         "yaxis": "y"
        },
        {
         "mode": "markers+lines",
         "type": "scatter",
         "x": [
          "2022-10-20T00:00:00",
          "2022-11-05T00:00:00"
         ],
         "xaxis": "x",
         "y": [
          "BANDUSDT",
          "BANDUSDT"
         ],
         "yaxis": "y"
        },
        {
         "mode": "markers+lines",
         "type": "scatter",
         "x": [
          "2018-04-06T00:00:00",
          "2018-05-01T00:00:00"
         ],
         "xaxis": "x",
         "y": [
          "BATBTC",
          "BATBTC"
         ],
         "yaxis": "y"
        },
        {
         "mode": "markers+lines",
         "type": "scatter",
         "x": [
          "2021-02-23T00:00:00",
          "2021-03-17T00:00:00"
         ],
         "xaxis": "x",
         "y": [
          "BATBTC",
          "BATBTC"
         ],
         "yaxis": "y"
        },
        {
         "mode": "markers+lines",
         "type": "scatter",
         "x": [
          "2021-01-31T00:00:00",
          "2021-03-17T00:00:00"
         ],
         "xaxis": "x",
         "y": [
          "BATUSDT",
          "BATUSDT"
         ],
         "yaxis": "y"
        },
        {
         "mode": "markers+lines",
         "type": "scatter",
         "x": [
          "2023-06-20T00:00:00",
          "2023-06-30T00:00:00"
         ],
         "xaxis": "x",
         "y": [
          "BCHBTC",
          "BCHBTC"
         ],
         "yaxis": "y"
        },
        {
         "mode": "markers+lines",
         "type": "scatter",
         "x": [
          "2023-06-14T00:00:00",
          "2023-06-30T00:00:00"
         ],
         "xaxis": "x",
         "y": [
          "BCHUSDT",
          "BCHUSDT"
         ],
         "yaxis": "y"
        },
        {
         "mode": "markers+lines",
         "type": "scatter",
         "x": [
          "2021-01-07T00:00:00",
          "2021-02-12T00:00:00"
         ],
         "xaxis": "x",
         "y": [
          "BELBTC",
          "BELBTC"
         ],
         "yaxis": "y"
        },
        {
         "mode": "markers+lines",
         "type": "scatter",
         "x": [
          "2022-05-14T00:00:00",
          "2022-06-07T00:00:00"
         ],
         "xaxis": "x",
         "y": [
          "BELBTC",
          "BELBTC"
         ],
         "yaxis": "y"
        },
        {
         "mode": "markers+lines",
         "type": "scatter",
         "x": [
          "2020-11-05T00:00:00",
          "2020-11-20T00:00:00"
         ],
         "xaxis": "x",
         "y": [
          "BELUSDT",
          "BELUSDT"
         ],
         "yaxis": "y"
        },
        {
         "mode": "markers+lines",
         "type": "scatter",
         "x": [
          "2021-01-12T00:00:00",
          "2021-02-12T00:00:00"
         ],
         "xaxis": "x",
         "y": [
          "BELUSDT",
          "BELUSDT"
         ],
         "yaxis": "y"
        },
        {
         "mode": "markers+lines",
         "type": "scatter",
         "x": [
          "2021-02-26T00:00:00",
          "2021-04-07T00:00:00"
         ],
         "xaxis": "x",
         "y": [
          "BELUSDT",
          "BELUSDT"
         ],
         "yaxis": "y"
        },
        {
         "mode": "markers+lines",
         "type": "scatter",
         "x": [
          "2022-05-18T00:00:00",
          "2022-06-07T00:00:00"
         ],
         "xaxis": "x",
         "y": [
          "BELUSDT",
          "BELUSDT"
         ],
         "yaxis": "y"
        },
        {
         "mode": "markers+lines",
         "type": "scatter",
         "x": [
          "2020-05-18T00:00:00",
          "2020-06-17T00:00:00"
         ],
         "xaxis": "x",
         "y": [
          "BLZBTC",
          "BLZBTC"
         ],
         "yaxis": "y"
        },
        {
         "mode": "markers+lines",
         "type": "scatter",
         "x": [
          "2020-06-30T00:00:00",
          "2020-08-03T00:00:00"
         ],
         "xaxis": "x",
         "y": [
          "BLZBTC",
          "BLZBTC"
         ],
         "yaxis": "y"
        },
        {
         "mode": "markers+lines",
         "type": "scatter",
         "x": [
          "2021-01-08T00:00:00",
          "2021-02-01T00:00:00"
         ],
         "xaxis": "x",
         "y": [
          "BLZBTC",
          "BLZBTC"
         ],
         "yaxis": "y"
        },
        {
         "mode": "markers+lines",
         "type": "scatter",
         "x": [
          "2021-02-23T00:00:00",
          "2021-03-27T00:00:00"
         ],
         "xaxis": "x",
         "y": [
          "BLZBTC",
          "BLZBTC"
         ],
         "yaxis": "y"
        },
        {
         "mode": "markers+lines",
         "type": "scatter",
         "x": [
          "2022-05-27T00:00:00",
          "2022-06-10T00:00:00"
         ],
         "xaxis": "x",
         "y": [
          "BLZBTC",
          "BLZBTC"
         ],
         "yaxis": "y"
        },
        {
         "mode": "markers+lines",
         "type": "scatter",
         "x": [
          "2023-08-05T00:00:00",
          "2023-09-19T00:00:00"
         ],
         "xaxis": "x",
         "y": [
          "BLZBTC",
          "BLZBTC"
         ],
         "yaxis": "y"
        },
        {
         "mode": "markers+lines",
         "type": "scatter",
         "x": [
          "2021-01-03T00:00:00",
          "2021-02-16T00:00:00"
         ],
         "xaxis": "x",
         "y": [
          "BLZUSDT",
          "BLZUSDT"
         ],
         "yaxis": "y"
        },
        {
         "mode": "markers+lines",
         "type": "scatter",
         "x": [
          "2021-02-23T00:00:00",
          "2021-04-08T00:00:00"
         ],
         "xaxis": "x",
         "y": [
          "BLZUSDT",
          "BLZUSDT"
         ],
         "yaxis": "y"
        },
        {
         "mode": "markers+lines",
         "type": "scatter",
         "x": [
          "2022-05-27T00:00:00",
          "2022-06-09T00:00:00"
         ],
         "xaxis": "x",
         "y": [
          "BLZUSDT",
          "BLZUSDT"
         ],
         "yaxis": "y"
        },
        {
         "mode": "markers+lines",
         "type": "scatter",
         "x": [
          "2023-08-05T00:00:00",
          "2023-09-19T00:00:00"
         ],
         "xaxis": "x",
         "y": [
          "BLZUSDT",
          "BLZUSDT"
         ],
         "yaxis": "y"
        },
        {
         "mode": "markers+lines",
         "type": "scatter",
         "x": [
          "2023-10-13T00:00:00",
          "2023-10-31T00:00:00"
         ],
         "xaxis": "x",
         "y": [
          "BLZUSDT",
          "BLZUSDT"
         ],
         "yaxis": "y"
        },
        {
         "mode": "markers+lines",
         "type": "scatter",
         "x": [
          "2021-04-12T00:00:00",
          "2021-04-18T00:00:00"
         ],
         "xaxis": "x",
         "y": [
          "BNBDOWNUSDT",
          "BNBDOWNUSDT"
         ],
         "yaxis": "y"
        },
        {
         "mode": "markers+lines",
         "type": "scatter",
         "x": [
          "2022-05-30T00:00:00",
          "2022-06-18T00:00:00"
         ],
         "xaxis": "x",
         "y": [
          "BNBDOWNUSDT",
          "BNBDOWNUSDT"
         ],
         "yaxis": "y"
        },
        {
         "mode": "markers+lines",
         "type": "scatter",
         "x": [
          "2020-12-11T00:00:00",
          "2021-02-19T00:00:00"
         ],
         "xaxis": "x",
         "y": [
          "BNBUPUSDT",
          "BNBUPUSDT"
         ],
         "yaxis": "y"
        },
        {
         "mode": "markers+lines",
         "type": "scatter",
         "x": [
          "2021-03-25T00:00:00",
          "2021-04-12T00:00:00"
         ],
         "xaxis": "x",
         "y": [
          "BNBUPUSDT",
          "BNBUPUSDT"
         ],
         "yaxis": "y"
        },
        {
         "mode": "markers+lines",
         "type": "scatter",
         "x": [
          "2021-07-28T00:00:00",
          "2021-08-25T00:00:00"
         ],
         "xaxis": "x",
         "y": [
          "BNBUPUSDT",
          "BNBUPUSDT"
         ],
         "yaxis": "y"
        },
        {
         "mode": "markers+lines",
         "type": "scatter",
         "x": [
          "2021-09-28T00:00:00",
          "2021-11-08T00:00:00"
         ],
         "xaxis": "x",
         "y": [
          "BNBUPUSDT",
          "BNBUPUSDT"
         ],
         "yaxis": "y"
        },
        {
         "mode": "markers+lines",
         "type": "scatter",
         "x": [
          "2017-09-21T00:00:00",
          "2017-10-02T00:00:00"
         ],
         "xaxis": "x",
         "y": [
          "BNBBTC",
          "BNBBTC"
         ],
         "yaxis": "y"
        },
        {
         "mode": "markers+lines",
         "type": "scatter",
         "x": [
          "2017-12-12T00:00:00",
          "2018-01-12T00:00:00"
         ],
         "xaxis": "x",
         "y": [
          "BNBBTC",
          "BNBBTC"
         ],
         "yaxis": "y"
        },
        {
         "mode": "markers+lines",
         "type": "scatter",
         "x": [
          "2018-03-11T00:00:00",
          "2018-04-06T00:00:00"
         ],
         "xaxis": "x",
         "y": [
          "BNBBTC",
          "BNBBTC"
         ],
         "yaxis": "y"
        },
        {
         "mode": "markers+lines",
         "type": "scatter",
         "x": [
          "2021-01-29T00:00:00",
          "2021-02-19T00:00:00"
         ],
         "xaxis": "x",
         "y": [
          "BNBBTC",
          "BNBBTC"
         ],
         "yaxis": "y"
        },
        {
         "mode": "markers+lines",
         "type": "scatter",
         "x": [
          "2021-03-25T00:00:00",
          "2021-05-16T00:00:00"
         ],
         "xaxis": "x",
         "y": [
          "BNBBTC",
          "BNBBTC"
         ],
         "yaxis": "y"
        },
        {
         "mode": "markers+lines",
         "type": "scatter",
         "x": [
          "2021-01-27T00:00:00",
          "2021-02-19T00:00:00"
         ],
         "xaxis": "x",
         "y": [
          "BNBUSDT",
          "BNBUSDT"
         ],
         "yaxis": "y"
        },
        {
         "mode": "markers+lines",
         "type": "scatter",
         "x": [
          "2021-03-25T00:00:00",
          "2021-04-12T00:00:00"
         ],
         "xaxis": "x",
         "y": [
          "BNBUSDT",
          "BNBUSDT"
         ],
         "yaxis": "y"
        },
        {
         "mode": "markers+lines",
         "type": "scatter",
         "x": [
          "2017-12-07T00:00:00",
          "2018-01-14T00:00:00"
         ],
         "xaxis": "x",
         "y": [
          "BNTBTC",
          "BNTBTC"
         ],
         "yaxis": "y"
        },
        {
         "mode": "markers+lines",
         "type": "scatter",
         "x": [
          "2020-05-07T00:00:00",
          "2020-07-18T00:00:00"
         ],
         "xaxis": "x",
         "y": [
          "BNTBTC",
          "BNTBTC"
         ],
         "yaxis": "y"
        },
        {
         "mode": "markers+lines",
         "type": "scatter",
         "x": [
          "2021-02-08T00:00:00",
          "2021-03-08T00:00:00"
         ],
         "xaxis": "x",
         "y": [
          "BNTBTC",
          "BNTBTC"
         ],
         "yaxis": "y"
        },
        {
         "mode": "markers+lines",
         "type": "scatter",
         "x": [
          "2023-11-02T00:00:00",
          "2023-11-12T00:00:00"
         ],
         "xaxis": "x",
         "y": [
          "BNTBTC",
          "BNTBTC"
         ],
         "yaxis": "y"
        },
        {
         "mode": "markers+lines",
         "type": "scatter",
         "x": [
          "2020-05-11T00:00:00",
          "2020-08-08T00:00:00"
         ],
         "xaxis": "x",
         "y": [
          "BNTUSDT",
          "BNTUSDT"
         ],
         "yaxis": "y"
        },
        {
         "mode": "markers+lines",
         "type": "scatter",
         "x": [
          "2020-11-04T00:00:00",
          "2020-11-21T00:00:00"
         ],
         "xaxis": "x",
         "y": [
          "BNTUSDT",
          "BNTUSDT"
         ],
         "yaxis": "y"
        },
        {
         "mode": "markers+lines",
         "type": "scatter",
         "x": [
          "2021-01-31T00:00:00",
          "2021-03-08T00:00:00"
         ],
         "xaxis": "x",
         "y": [
          "BNTUSDT",
          "BNTUSDT"
         ],
         "yaxis": "y"
        },
        {
         "mode": "markers+lines",
         "type": "scatter",
         "x": [
          "2023-11-02T00:00:00",
          "2023-11-12T00:00:00"
         ],
         "xaxis": "x",
         "y": [
          "BNTUSDT",
          "BNTUSDT"
         ],
         "yaxis": "y"
        },
        {
         "mode": "markers+lines",
         "type": "scatter",
         "x": [
          "2022-03-01T00:00:00",
          "2022-06-18T00:00:00"
         ],
         "xaxis": "x",
         "y": [
          "BNXBTC",
          "BNXBTC"
         ],
         "yaxis": "y"
        },
        {
         "mode": "markers+lines",
         "type": "scatter",
         "x": [
          "2023-02-01T00:00:00",
          "2023-02-13T00:00:00"
         ],
         "xaxis": "x",
         "y": [
          "BNXBTC",
          "BNXBTC"
         ],
         "yaxis": "y"
        },
        {
         "mode": "markers+lines",
         "type": "scatter",
         "x": [
          "2022-02-23T00:00:00",
          "2022-04-10T00:00:00"
         ],
         "xaxis": "x",
         "y": [
          "BNXUSDT",
          "BNXUSDT"
         ],
         "yaxis": "y"
        },
        {
         "mode": "markers+lines",
         "type": "scatter",
         "x": [
          "2023-01-30T00:00:00",
          "2023-02-16T00:00:00"
         ],
         "xaxis": "x",
         "y": [
          "BNXUSDT",
          "BNXUSDT"
         ],
         "yaxis": "y"
        },
        {
         "mode": "markers+lines",
         "type": "scatter",
         "x": [
          "2022-07-10T00:00:00",
          "2022-07-24T00:00:00"
         ],
         "xaxis": "x",
         "y": [
          "BONDBTC",
          "BONDBTC"
         ],
         "yaxis": "y"
        },
        {
         "mode": "markers+lines",
         "type": "scatter",
         "x": [
          "2023-10-12T00:00:00",
          "2023-10-14T00:00:00"
         ],
         "xaxis": "x",
         "y": [
          "BONDBTC",
          "BONDBTC"
         ],
         "yaxis": "y"
        },
        {
         "mode": "markers+lines",
         "type": "scatter",
         "x": [
          "2022-07-02T00:00:00",
          "2022-07-24T00:00:00"
         ],
         "xaxis": "x",
         "y": [
          "BONDUSDT",
          "BONDUSDT"
         ],
         "yaxis": "y"
        },
        {
         "mode": "markers+lines",
         "type": "scatter",
         "x": [
          "2023-10-12T00:00:00",
          "2023-10-14T00:00:00"
         ],
         "xaxis": "x",
         "y": [
          "BONDUSDT",
          "BONDUSDT"
         ],
         "yaxis": "y"
        },
        {
         "mode": "markers+lines",
         "type": "scatter",
         "x": [
          "2021-05-08T00:00:00",
          "2021-05-19T00:00:00"
         ],
         "xaxis": "x",
         "y": [
          "BTCDOWNUSDT",
          "BTCDOWNUSDT"
         ],
         "yaxis": "y"
        },
        {
         "mode": "markers+lines",
         "type": "scatter",
         "x": [
          "2021-12-24T00:00:00",
          "2022-01-22T00:00:00"
         ],
         "xaxis": "x",
         "y": [
          "BTCDOWNUSDT",
          "BTCDOWNUSDT"
         ],
         "yaxis": "y"
        },
        {
         "mode": "markers+lines",
         "type": "scatter",
         "x": [
          "2022-05-31T00:00:00",
          "2022-06-18T00:00:00"
         ],
         "xaxis": "x",
         "y": [
          "BTCDOWNUSDT",
          "BTCDOWNUSDT"
         ],
         "yaxis": "y"
        },
        {
         "mode": "markers+lines",
         "type": "scatter",
         "x": [
          "2020-12-11T00:00:00",
          "2021-01-08T00:00:00"
         ],
         "xaxis": "x",
         "y": [
          "BTCUPUSDT",
          "BTCUPUSDT"
         ],
         "yaxis": "y"
        },
        {
         "mode": "markers+lines",
         "type": "scatter",
         "x": [
          "2021-01-27T00:00:00",
          "2021-02-21T00:00:00"
         ],
         "xaxis": "x",
         "y": [
          "BTCUPUSDT",
          "BTCUPUSDT"
         ],
         "yaxis": "y"
        },
        {
         "mode": "markers+lines",
         "type": "scatter",
         "x": [
          "2021-07-20T00:00:00",
          "2021-09-06T00:00:00"
         ],
         "xaxis": "x",
         "y": [
          "BTCUPUSDT",
          "BTCUPUSDT"
         ],
         "yaxis": "y"
        },
        {
         "mode": "markers+lines",
         "type": "scatter",
         "x": [
          "2021-09-21T00:00:00",
          "2021-10-20T00:00:00"
         ],
         "xaxis": "x",
         "y": [
          "BTCUPUSDT",
          "BTCUPUSDT"
         ],
         "yaxis": "y"
        },
        {
         "mode": "markers+lines",
         "type": "scatter",
         "x": [
          "2017-11-23T00:00:00",
          "2017-12-16T00:00:00"
         ],
         "xaxis": "x",
         "y": [
          "BTCUSDT",
          "BTCUSDT"
         ],
         "yaxis": "y"
        },
        {
         "mode": "markers+lines",
         "type": "scatter",
         "x": [
          "2023-11-29T00:00:00",
          "2023-12-11T00:00:00"
         ],
         "xaxis": "x",
         "y": [
          "BTTCUSDT",
          "BTTCUSDT"
         ],
         "yaxis": "y"
        },
        {
         "mode": "markers+lines",
         "type": "scatter",
         "x": [
          "2023-10-21T00:00:00",
          "2023-11-15T00:00:00"
         ],
         "xaxis": "x",
         "y": [
          "CAKEUSDT",
          "CAKEUSDT"
         ],
         "yaxis": "y"
        },
        {
         "mode": "markers+lines",
         "type": "scatter",
         "x": [
          "2021-06-21T00:00:00",
          "2021-06-26T00:00:00"
         ],
         "xaxis": "x",
         "y": [
          "CELOBTC",
          "CELOBTC"
         ],
         "yaxis": "y"
        },
        {
         "mode": "markers+lines",
         "type": "scatter",
         "x": [
          "2021-08-18T00:00:00",
          "2021-08-30T00:00:00"
         ],
         "xaxis": "x",
         "y": [
          "CELOUSDT",
          "CELOUSDT"
         ],
         "yaxis": "y"
        },
        {
         "mode": "markers+lines",
         "type": "scatter",
         "x": [
          "2019-05-09T00:00:00",
          "2019-05-20T00:00:00"
         ],
         "xaxis": "x",
         "y": [
          "CELRBTC",
          "CELRBTC"
         ],
         "yaxis": "y"
        },
        {
         "mode": "markers+lines",
         "type": "scatter",
         "x": [
          "2021-02-23T00:00:00",
          "2021-03-27T00:00:00"
         ],
         "xaxis": "x",
         "y": [
          "CELRBTC",
          "CELRBTC"
         ],
         "yaxis": "y"
        },
        {
         "mode": "markers+lines",
         "type": "scatter",
         "x": [
          "2021-08-26T00:00:00",
          "2021-09-24T00:00:00"
         ],
         "xaxis": "x",
         "y": [
          "CELRBTC",
          "CELRBTC"
         ],
         "yaxis": "y"
        },
        {
         "mode": "markers+lines",
         "type": "scatter",
         "x": [
          "2019-05-09T00:00:00",
          "2019-05-20T00:00:00"
         ],
         "xaxis": "x",
         "y": [
          "CELRUSDT",
          "CELRUSDT"
         ],
         "yaxis": "y"
        },
        {
         "mode": "markers+lines",
         "type": "scatter",
         "x": [
          "2020-08-02T00:00:00",
          "2020-08-14T00:00:00"
         ],
         "xaxis": "x",
         "y": [
          "CELRUSDT",
          "CELRUSDT"
         ],
         "yaxis": "y"
        },
        {
         "mode": "markers+lines",
         "type": "scatter",
         "x": [
          "2021-01-21T00:00:00",
          "2021-03-27T00:00:00"
         ],
         "xaxis": "x",
         "y": [
          "CELRUSDT",
          "CELRUSDT"
         ],
         "yaxis": "y"
        },
        {
         "mode": "markers+lines",
         "type": "scatter",
         "x": [
          "2021-08-29T00:00:00",
          "2021-09-24T00:00:00"
         ],
         "xaxis": "x",
         "y": [
          "CELRUSDT",
          "CELRUSDT"
         ],
         "yaxis": "y"
        },
        {
         "mode": "markers+lines",
         "type": "scatter",
         "x": [
          "2022-03-13T00:00:00",
          "2022-03-31T00:00:00"
         ],
         "xaxis": "x",
         "y": [
          "CELRUSDT",
          "CELRUSDT"
         ],
         "yaxis": "y"
        },
        {
         "mode": "markers+lines",
         "type": "scatter",
         "x": [
          "2023-01-21T00:00:00",
          "2023-02-21T00:00:00"
         ],
         "xaxis": "x",
         "y": [
          "CFXBTC",
          "CFXBTC"
         ],
         "yaxis": "y"
        },
        {
         "mode": "markers+lines",
         "type": "scatter",
         "x": [
          "2023-03-11T00:00:00",
          "2023-03-19T00:00:00"
         ],
         "xaxis": "x",
         "y": [
          "CFXBTC",
          "CFXBTC"
         ],
         "yaxis": "y"
        },
        {
         "mode": "markers+lines",
         "type": "scatter",
         "x": [
          "2023-01-12T00:00:00",
          "2023-02-21T00:00:00"
         ],
         "xaxis": "x",
         "y": [
          "CFXUSDT",
          "CFXUSDT"
         ],
         "yaxis": "y"
        },
        {
         "mode": "markers+lines",
         "type": "scatter",
         "x": [
          "2023-03-11T00:00:00",
          "2023-03-19T00:00:00"
         ],
         "xaxis": "x",
         "y": [
          "CFXUSDT",
          "CFXUSDT"
         ],
         "yaxis": "y"
        },
        {
         "mode": "markers+lines",
         "type": "scatter",
         "x": [
          "2021-02-23T00:00:00",
          "2021-03-12T00:00:00"
         ],
         "xaxis": "x",
         "y": [
          "CHRBTC",
          "CHRBTC"
         ],
         "yaxis": "y"
        },
        {
         "mode": "markers+lines",
         "type": "scatter",
         "x": [
          "2021-07-02T00:00:00",
          "2021-07-25T00:00:00"
         ],
         "xaxis": "x",
         "y": [
          "CHRBTC",
          "CHRBTC"
         ],
         "yaxis": "y"
        },
        {
         "mode": "markers+lines",
         "type": "scatter",
         "x": [
          "2021-10-19T00:00:00",
          "2021-11-20T00:00:00"
         ],
         "xaxis": "x",
         "y": [
          "CHRBTC",
          "CHRBTC"
         ],
         "yaxis": "y"
        },
        {
         "mode": "markers+lines",
         "type": "scatter",
         "x": [
          "2020-07-09T00:00:00",
          "2020-08-10T00:00:00"
         ],
         "xaxis": "x",
         "y": [
          "CHRUSDT",
          "CHRUSDT"
         ],
         "yaxis": "y"
        },
        {
         "mode": "markers+lines",
         "type": "scatter",
         "x": [
          "2021-01-26T00:00:00",
          "2021-02-13T00:00:00"
         ],
         "xaxis": "x",
         "y": [
          "CHRUSDT",
          "CHRUSDT"
         ],
         "yaxis": "y"
        },
        {
         "mode": "markers+lines",
         "type": "scatter",
         "x": [
          "2021-02-26T00:00:00",
          "2021-03-12T00:00:00"
         ],
         "xaxis": "x",
         "y": [
          "CHRUSDT",
          "CHRUSDT"
         ],
         "yaxis": "y"
        },
        {
         "mode": "markers+lines",
         "type": "scatter",
         "x": [
          "2021-07-02T00:00:00",
          "2021-07-25T00:00:00"
         ],
         "xaxis": "x",
         "y": [
          "CHRUSDT",
          "CHRUSDT"
         ],
         "yaxis": "y"
        },
        {
         "mode": "markers+lines",
         "type": "scatter",
         "x": [
          "2021-10-27T00:00:00",
          "2021-11-20T00:00:00"
         ],
         "xaxis": "x",
         "y": [
          "CHRUSDT",
          "CHRUSDT"
         ],
         "yaxis": "y"
        },
        {
         "mode": "markers+lines",
         "type": "scatter",
         "x": [
          "2020-01-30T00:00:00",
          "2020-02-13T00:00:00"
         ],
         "xaxis": "x",
         "y": [
          "CHZBTC",
          "CHZBTC"
         ],
         "yaxis": "y"
        },
        {
         "mode": "markers+lines",
         "type": "scatter",
         "x": [
          "2021-02-08T00:00:00",
          "2021-03-12T00:00:00"
         ],
         "xaxis": "x",
         "y": [
          "CHZBTC",
          "CHZBTC"
         ],
         "yaxis": "y"
        },
        {
         "mode": "markers+lines",
         "type": "scatter",
         "x": [
          "2020-01-27T00:00:00",
          "2020-02-13T00:00:00"
         ],
         "xaxis": "x",
         "y": [
          "CHZUSDT",
          "CHZUSDT"
         ],
         "yaxis": "y"
        },
        {
         "mode": "markers+lines",
         "type": "scatter",
         "x": [
          "2020-12-10T00:00:00",
          "2020-12-29T00:00:00"
         ],
         "xaxis": "x",
         "y": [
          "CHZUSDT",
          "CHZUSDT"
         ],
         "yaxis": "y"
        },
        {
         "mode": "markers+lines",
         "type": "scatter",
         "x": [
          "2021-01-29T00:00:00",
          "2021-03-12T00:00:00"
         ],
         "xaxis": "x",
         "y": [
          "CHZUSDT",
          "CHZUSDT"
         ],
         "yaxis": "y"
        },
        {
         "mode": "markers+lines",
         "type": "scatter",
         "x": [
          "2024-01-23T00:00:00",
          "2024-02-15T00:00:00"
         ],
         "xaxis": "x",
         "y": [
          "CKBUSDT",
          "CKBUSDT"
         ],
         "yaxis": "y"
        },
        {
         "mode": "markers+lines",
         "type": "scatter",
         "x": [
          "2021-01-15T00:00:00",
          "2021-02-05T00:00:00"
         ],
         "xaxis": "x",
         "y": [
          "COMPBTC",
          "COMPBTC"
         ],
         "yaxis": "y"
        },
        {
         "mode": "markers+lines",
         "type": "scatter",
         "x": [
          "2021-06-26T00:00:00",
          "2021-07-05T00:00:00"
         ],
         "xaxis": "x",
         "y": [
          "COMPBTC",
          "COMPBTC"
         ],
         "yaxis": "y"
        },
        {
         "mode": "markers+lines",
         "type": "scatter",
         "x": [
          "2023-06-22T00:00:00",
          "2023-07-16T00:00:00"
         ],
         "xaxis": "x",
         "y": [
          "COMPBTC",
          "COMPBTC"
         ],
         "yaxis": "y"
        },
        {
         "mode": "markers+lines",
         "type": "scatter",
         "x": [
          "2021-01-21T00:00:00",
          "2021-02-12T00:00:00"
         ],
         "xaxis": "x",
         "y": [
          "COMPUSDT",
          "COMPUSDT"
         ],
         "yaxis": "y"
        },
        {
         "mode": "markers+lines",
         "type": "scatter",
         "x": [
          "2021-06-25T00:00:00",
          "2021-07-05T00:00:00"
         ],
         "xaxis": "x",
         "y": [
          "COMPUSDT",
          "COMPUSDT"
         ],
         "yaxis": "y"
        },
        {
         "mode": "markers+lines",
         "type": "scatter",
         "x": [
          "2023-06-14T00:00:00",
          "2023-07-16T00:00:00"
         ],
         "xaxis": "x",
         "y": [
          "COMPUSDT",
          "COMPUSDT"
         ],
         "yaxis": "y"
        },
        {
         "mode": "markers+lines",
         "type": "scatter",
         "x": [
          "2020-05-10T00:00:00",
          "2020-05-26T00:00:00"
         ],
         "xaxis": "x",
         "y": [
          "COSBTC",
          "COSBTC"
         ],
         "yaxis": "y"
        },
        {
         "mode": "markers+lines",
         "type": "scatter",
         "x": [
          "2021-03-02T00:00:00",
          "2021-03-24T00:00:00"
         ],
         "xaxis": "x",
         "y": [
          "COSBTC",
          "COSBTC"
         ],
         "yaxis": "y"
        },
        {
         "mode": "markers+lines",
         "type": "scatter",
         "x": [
          "2020-05-10T00:00:00",
          "2020-05-26T00:00:00"
         ],
         "xaxis": "x",
         "y": [
          "COSUSDT",
          "COSUSDT"
         ],
         "yaxis": "y"
        },
        {
         "mode": "markers+lines",
         "type": "scatter",
         "x": [
          "2021-01-27T00:00:00",
          "2021-02-19T00:00:00"
         ],
         "xaxis": "x",
         "y": [
          "COSUSDT",
          "COSUSDT"
         ],
         "yaxis": "y"
        },
        {
         "mode": "markers+lines",
         "type": "scatter",
         "x": [
          "2021-02-28T00:00:00",
          "2021-03-28T00:00:00"
         ],
         "xaxis": "x",
         "y": [
          "COSUSDT",
          "COSUSDT"
         ],
         "yaxis": "y"
        },
        {
         "mode": "markers+lines",
         "type": "scatter",
         "x": [
          "2021-02-03T00:00:00",
          "2021-03-22T00:00:00"
         ],
         "xaxis": "x",
         "y": [
          "COTIBTC",
          "COTIBTC"
         ],
         "yaxis": "y"
        },
        {
         "mode": "markers+lines",
         "type": "scatter",
         "x": [
          "2021-08-08T00:00:00",
          "2021-08-25T00:00:00"
         ],
         "xaxis": "x",
         "y": [
          "COTIBTC",
          "COTIBTC"
         ],
         "yaxis": "y"
        },
        {
         "mode": "markers+lines",
         "type": "scatter",
         "x": [
          "2021-09-09T00:00:00",
          "2021-09-29T00:00:00"
         ],
         "xaxis": "x",
         "y": [
          "COTIBTC",
          "COTIBTC"
         ],
         "yaxis": "y"
        },
        {
         "mode": "markers+lines",
         "type": "scatter",
         "x": [
          "2020-08-01T00:00:00",
          "2020-08-30T00:00:00"
         ],
         "xaxis": "x",
         "y": [
          "COTIUSDT",
          "COTIUSDT"
         ],
         "yaxis": "y"
        },
        {
         "mode": "markers+lines",
         "type": "scatter",
         "x": [
          "2021-01-27T00:00:00",
          "2021-03-30T00:00:00"
         ],
         "xaxis": "x",
         "y": [
          "COTIUSDT",
          "COTIUSDT"
         ],
         "yaxis": "y"
        },
        {
         "mode": "markers+lines",
         "type": "scatter",
         "x": [
          "2021-07-30T00:00:00",
          "2021-08-25T00:00:00"
         ],
         "xaxis": "x",
         "y": [
          "COTIUSDT",
          "COTIUSDT"
         ],
         "yaxis": "y"
        },
        {
         "mode": "markers+lines",
         "type": "scatter",
         "x": [
          "2021-09-21T00:00:00",
          "2021-09-29T00:00:00"
         ],
         "xaxis": "x",
         "y": [
          "COTIUSDT",
          "COTIUSDT"
         ],
         "yaxis": "y"
        },
        {
         "mode": "markers+lines",
         "type": "scatter",
         "x": [
          "2020-11-05T00:00:00",
          "2020-11-17T00:00:00"
         ],
         "xaxis": "x",
         "y": [
          "CRVBTC",
          "CRVBTC"
         ],
         "yaxis": "y"
        },
        {
         "mode": "markers+lines",
         "type": "scatter",
         "x": [
          "2021-01-08T00:00:00",
          "2021-02-05T00:00:00"
         ],
         "xaxis": "x",
         "y": [
          "CRVBTC",
          "CRVBTC"
         ],
         "yaxis": "y"
        },
        {
         "mode": "markers+lines",
         "type": "scatter",
         "x": [
          "2020-11-04T00:00:00",
          "2020-11-17T00:00:00"
         ],
         "xaxis": "x",
         "y": [
          "CRVUSDT",
          "CRVUSDT"
         ],
         "yaxis": "y"
        },
        {
         "mode": "markers+lines",
         "type": "scatter",
         "x": [
          "2020-12-23T00:00:00",
          "2021-02-11T00:00:00"
         ],
         "xaxis": "x",
         "y": [
          "CRVUSDT",
          "CRVUSDT"
         ],
         "yaxis": "y"
        },
        {
         "mode": "markers+lines",
         "type": "scatter",
         "x": [
          "2022-06-30T00:00:00",
          "2022-07-28T00:00:00"
         ],
         "xaxis": "x",
         "y": [
          "CRVUSDT",
          "CRVUSDT"
         ],
         "yaxis": "y"
        },
        {
         "mode": "markers+lines",
         "type": "scatter",
         "x": [
          "2022-12-31T00:00:00",
          "2023-02-20T00:00:00"
         ],
         "xaxis": "x",
         "y": [
          "CRVUSDT",
          "CRVUSDT"
         ],
         "yaxis": "y"
        },
        {
         "mode": "markers+lines",
         "type": "scatter",
         "x": [
          "2021-08-08T00:00:00",
          "2021-08-24T00:00:00"
         ],
         "xaxis": "x",
         "y": [
          "CTKBTC",
          "CTKBTC"
         ],
         "yaxis": "y"
        },
        {
         "mode": "markers+lines",
         "type": "scatter",
         "x": [
          "2021-01-27T00:00:00",
          "2021-02-19T00:00:00"
         ],
         "xaxis": "x",
         "y": [
          "CTKUSDT",
          "CTKUSDT"
         ],
         "yaxis": "y"
        },
        {
         "mode": "markers+lines",
         "type": "scatter",
         "x": [
          "2021-07-31T00:00:00",
          "2021-09-05T00:00:00"
         ],
         "xaxis": "x",
         "y": [
          "CTKUSDT",
          "CTKUSDT"
         ],
         "yaxis": "y"
        },
        {
         "mode": "markers+lines",
         "type": "scatter",
         "x": [
          "2021-01-14T00:00:00",
          "2021-02-11T00:00:00"
         ],
         "xaxis": "x",
         "y": [
          "CTSIBTC",
          "CTSIBTC"
         ],
         "yaxis": "y"
        },
        {
         "mode": "markers+lines",
         "type": "scatter",
         "x": [
          "2021-03-14T00:00:00",
          "2021-05-08T00:00:00"
         ],
         "xaxis": "x",
         "y": [
          "CTSIBTC",
          "CTSIBTC"
         ],
         "yaxis": "y"
        },
        {
         "mode": "markers+lines",
         "type": "scatter",
         "x": [
          "2023-04-02T00:00:00",
          "2023-04-18T00:00:00"
         ],
         "xaxis": "x",
         "y": [
          "CTSIBTC",
          "CTSIBTC"
         ],
         "yaxis": "y"
        },
        {
         "mode": "markers+lines",
         "type": "scatter",
         "x": [
          "2020-07-27T00:00:00",
          "2020-08-10T00:00:00"
         ],
         "xaxis": "x",
         "y": [
          "CTSIUSDT",
          "CTSIUSDT"
         ],
         "yaxis": "y"
        },
        {
         "mode": "markers+lines",
         "type": "scatter",
         "x": [
          "2021-01-26T00:00:00",
          "2021-02-11T00:00:00"
         ],
         "xaxis": "x",
         "y": [
          "CTSIUSDT",
          "CTSIUSDT"
         ],
         "yaxis": "y"
        },
        {
         "mode": "markers+lines",
         "type": "scatter",
         "x": [
          "2021-02-23T00:00:00",
          "2021-04-10T00:00:00"
         ],
         "xaxis": "x",
         "y": [
          "CTSIUSDT",
          "CTSIUSDT"
         ],
         "yaxis": "y"
        },
        {
         "mode": "markers+lines",
         "type": "scatter",
         "x": [
          "2021-04-25T00:00:00",
          "2021-05-08T00:00:00"
         ],
         "xaxis": "x",
         "y": [
          "CTSIUSDT",
          "CTSIUSDT"
         ],
         "yaxis": "y"
        },
        {
         "mode": "markers+lines",
         "type": "scatter",
         "x": [
          "2023-04-02T00:00:00",
          "2023-04-18T00:00:00"
         ],
         "xaxis": "x",
         "y": [
          "CTSIUSDT",
          "CTSIUSDT"
         ],
         "yaxis": "y"
        },
        {
         "mode": "markers+lines",
         "type": "scatter",
         "x": [
          "2021-11-18T00:00:00",
          "2021-12-03T00:00:00"
         ],
         "xaxis": "x",
         "y": [
          "CTXCBTC",
          "CTXCBTC"
         ],
         "yaxis": "y"
        },
        {
         "mode": "markers+lines",
         "type": "scatter",
         "x": [
          "2022-11-25T00:00:00",
          "2022-12-09T00:00:00"
         ],
         "xaxis": "x",
         "y": [
          "CTXCBTC",
          "CTXCBTC"
         ],
         "yaxis": "y"
        },
        {
         "mode": "markers+lines",
         "type": "scatter",
         "x": [
          "2023-11-13T00:00:00",
          "2023-11-28T00:00:00"
         ],
         "xaxis": "x",
         "y": [
          "CTXCBTC",
          "CTXCBTC"
         ],
         "yaxis": "y"
        },
        {
         "mode": "markers+lines",
         "type": "scatter",
         "x": [
          "2020-03-16T00:00:00",
          "2020-04-17T00:00:00"
         ],
         "xaxis": "x",
         "y": [
          "CTXCUSDT",
          "CTXCUSDT"
         ],
         "yaxis": "y"
        },
        {
         "mode": "markers+lines",
         "type": "scatter",
         "x": [
          "2020-12-27T00:00:00",
          "2021-01-09T00:00:00"
         ],
         "xaxis": "x",
         "y": [
          "CTXCUSDT",
          "CTXCUSDT"
         ],
         "yaxis": "y"
        },
        {
         "mode": "markers+lines",
         "type": "scatter",
         "x": [
          "2021-01-27T00:00:00",
          "2021-02-13T00:00:00"
         ],
         "xaxis": "x",
         "y": [
          "CTXCUSDT",
          "CTXCUSDT"
         ],
         "yaxis": "y"
        },
        {
         "mode": "markers+lines",
         "type": "scatter",
         "x": [
          "2021-02-26T00:00:00",
          "2021-04-10T00:00:00"
         ],
         "xaxis": "x",
         "y": [
          "CTXCUSDT",
          "CTXCUSDT"
         ],
         "yaxis": "y"
        },
        {
         "mode": "markers+lines",
         "type": "scatter",
         "x": [
          "2022-11-25T00:00:00",
          "2022-12-09T00:00:00"
         ],
         "xaxis": "x",
         "y": [
          "CTXCUSDT",
          "CTXCUSDT"
         ],
         "yaxis": "y"
        },
        {
         "mode": "markers+lines",
         "type": "scatter",
         "x": [
          "2023-11-13T00:00:00",
          "2023-11-28T00:00:00"
         ],
         "xaxis": "x",
         "y": [
          "CTXCUSDT",
          "CTXCUSDT"
         ],
         "yaxis": "y"
        },
        {
         "mode": "markers+lines",
         "type": "scatter",
         "x": [
          "2022-03-13T00:00:00",
          "2022-04-03T00:00:00"
         ],
         "xaxis": "x",
         "y": [
          "CVXUSDT",
          "CVXUSDT"
         ],
         "yaxis": "y"
        },
        {
         "mode": "markers+lines",
         "type": "scatter",
         "x": [
          "2019-12-31T00:00:00",
          "2020-01-15T00:00:00"
         ],
         "xaxis": "x",
         "y": [
          "DASHBTC",
          "DASHBTC"
         ],
         "yaxis": "y"
        },
        {
         "mode": "markers+lines",
         "type": "scatter",
         "x": [
          "2020-01-02T00:00:00",
          "2020-01-15T00:00:00"
         ],
         "xaxis": "x",
         "y": [
          "DASHUSDT",
          "DASHUSDT"
         ],
         "yaxis": "y"
        },
        {
         "mode": "markers+lines",
         "type": "scatter",
         "x": [
          "2021-01-31T00:00:00",
          "2021-02-19T00:00:00"
         ],
         "xaxis": "x",
         "y": [
          "DASHUSDT",
          "DASHUSDT"
         ],
         "yaxis": "y"
        },
        {
         "mode": "markers+lines",
         "type": "scatter",
         "x": [
          "2019-11-10T00:00:00",
          "2019-11-27T00:00:00"
         ],
         "xaxis": "x",
         "y": [
          "DATABTC",
          "DATABTC"
         ],
         "yaxis": "y"
        },
        {
         "mode": "markers+lines",
         "type": "scatter",
         "x": [
          "2020-03-18T00:00:00",
          "2020-03-30T00:00:00"
         ],
         "xaxis": "x",
         "y": [
          "DATABTC",
          "DATABTC"
         ],
         "yaxis": "y"
        },
        {
         "mode": "markers+lines",
         "type": "scatter",
         "x": [
          "2021-05-28T00:00:00",
          "2021-06-10T00:00:00"
         ],
         "xaxis": "x",
         "y": [
          "DATABTC",
          "DATABTC"
         ],
         "yaxis": "y"
        },
        {
         "mode": "markers+lines",
         "type": "scatter",
         "x": [
          "2023-12-15T00:00:00",
          "2023-12-20T00:00:00"
         ],
         "xaxis": "x",
         "y": [
          "DATABTC",
          "DATABTC"
         ],
         "yaxis": "y"
        },
        {
         "mode": "markers+lines",
         "type": "scatter",
         "x": [
          "2021-01-27T00:00:00",
          "2021-02-12T00:00:00"
         ],
         "xaxis": "x",
         "y": [
          "DATAUSDT",
          "DATAUSDT"
         ],
         "yaxis": "y"
        },
        {
         "mode": "markers+lines",
         "type": "scatter",
         "x": [
          "2021-02-26T00:00:00",
          "2021-04-06T00:00:00"
         ],
         "xaxis": "x",
         "y": [
          "DATAUSDT",
          "DATAUSDT"
         ],
         "yaxis": "y"
        },
        {
         "mode": "markers+lines",
         "type": "scatter",
         "x": [
          "2021-06-07T00:00:00",
          "2021-06-10T00:00:00"
         ],
         "xaxis": "x",
         "y": [
          "DATAUSDT",
          "DATAUSDT"
         ],
         "yaxis": "y"
        },
        {
         "mode": "markers+lines",
         "type": "scatter",
         "x": [
          "2023-12-15T00:00:00",
          "2023-12-20T00:00:00"
         ],
         "xaxis": "x",
         "y": [
          "DATAUSDT",
          "DATAUSDT"
         ],
         "yaxis": "y"
        },
        {
         "mode": "markers+lines",
         "type": "scatter",
         "x": [
          "2020-11-02T00:00:00",
          "2021-01-08T00:00:00"
         ],
         "xaxis": "x",
         "y": [
          "DCRUSDT",
          "DCRUSDT"
         ],
         "yaxis": "y"
        },
        {
         "mode": "markers+lines",
         "type": "scatter",
         "x": [
          "2021-01-21T00:00:00",
          "2021-02-21T00:00:00"
         ],
         "xaxis": "x",
         "y": [
          "DCRUSDT",
          "DCRUSDT"
         ],
         "yaxis": "y"
        },
        {
         "mode": "markers+lines",
         "type": "scatter",
         "x": [
          "2021-07-02T00:00:00",
          "2021-08-03T00:00:00"
         ],
         "xaxis": "x",
         "y": [
          "DEGOBTC",
          "DEGOBTC"
         ],
         "yaxis": "y"
        },
        {
         "mode": "markers+lines",
         "type": "scatter",
         "x": [
          "2023-12-13T00:00:00",
          "2023-12-26T00:00:00"
         ],
         "xaxis": "x",
         "y": [
          "DEGOBTC",
          "DEGOBTC"
         ],
         "yaxis": "y"
        },
        {
         "mode": "markers+lines",
         "type": "scatter",
         "x": [
          "2021-07-02T00:00:00",
          "2021-08-29T00:00:00"
         ],
         "xaxis": "x",
         "y": [
          "DEGOUSDT",
          "DEGOUSDT"
         ],
         "yaxis": "y"
        },
        {
         "mode": "markers+lines",
         "type": "scatter",
         "x": [
          "2023-12-11T00:00:00",
          "2023-12-26T00:00:00"
         ],
         "xaxis": "x",
         "y": [
          "DEGOUSDT",
          "DEGOUSDT"
         ],
         "yaxis": "y"
        },
        {
         "mode": "markers+lines",
         "type": "scatter",
         "x": [
          "2021-01-21T00:00:00",
          "2021-02-21T00:00:00"
         ],
         "xaxis": "x",
         "y": [
          "DENTUSDT",
          "DENTUSDT"
         ],
         "yaxis": "y"
        },
        {
         "mode": "markers+lines",
         "type": "scatter",
         "x": [
          "2021-02-28T00:00:00",
          "2021-04-05T00:00:00"
         ],
         "xaxis": "x",
         "y": [
          "DENTUSDT",
          "DENTUSDT"
         ],
         "yaxis": "y"
        },
        {
         "mode": "markers+lines",
         "type": "scatter",
         "x": [
          "2021-08-03T00:00:00",
          "2021-08-14T00:00:00"
         ],
         "xaxis": "x",
         "y": [
          "DENTUSDT",
          "DENTUSDT"
         ],
         "yaxis": "y"
        },
        {
         "mode": "markers+lines",
         "type": "scatter",
         "x": [
          "2021-04-13T00:00:00",
          "2021-04-21T00:00:00"
         ],
         "xaxis": "x",
         "y": [
          "DGBBTC",
          "DGBBTC"
         ],
         "yaxis": "y"
        },
        {
         "mode": "markers+lines",
         "type": "scatter",
         "x": [
          "2021-01-27T00:00:00",
          "2021-02-19T00:00:00"
         ],
         "xaxis": "x",
         "y": [
          "DGBUSDT",
          "DGBUSDT"
         ],
         "yaxis": "y"
        },
        {
         "mode": "markers+lines",
         "type": "scatter",
         "x": [
          "2022-05-12T00:00:00",
          "2022-05-18T00:00:00"
         ],
         "xaxis": "x",
         "y": [
          "DIABTC",
          "DIABTC"
         ],
         "yaxis": "y"
        },
        {
         "mode": "markers+lines",
         "type": "scatter",
         "x": [
          "2021-07-20T00:00:00",
          "2021-08-22T00:00:00"
         ],
         "xaxis": "x",
         "y": [
          "DODOUSDT",
          "DODOUSDT"
         ],
         "yaxis": "y"
        },
        {
         "mode": "markers+lines",
         "type": "scatter",
         "x": [
          "2021-01-14T00:00:00",
          "2021-02-07T00:00:00"
         ],
         "xaxis": "x",
         "y": [
          "DOGEBTC",
          "DOGEBTC"
         ],
         "yaxis": "y"
        },
        {
         "mode": "markers+lines",
         "type": "scatter",
         "x": [
          "2021-03-31T00:00:00",
          "2021-05-07T00:00:00"
         ],
         "xaxis": "x",
         "y": [
          "DOGEBTC",
          "DOGEBTC"
         ],
         "yaxis": "y"
        },
        {
         "mode": "markers+lines",
         "type": "scatter",
         "x": [
          "2022-10-16T00:00:00",
          "2022-11-01T00:00:00"
         ],
         "xaxis": "x",
         "y": [
          "DOGEBTC",
          "DOGEBTC"
         ],
         "yaxis": "y"
        },
        {
         "mode": "markers+lines",
         "type": "scatter",
         "x": [
          "2020-12-11T00:00:00",
          "2021-01-02T00:00:00"
         ],
         "xaxis": "x",
         "y": [
          "DOGEUSDT",
          "DOGEUSDT"
         ],
         "yaxis": "y"
        },
        {
         "mode": "markers+lines",
         "type": "scatter",
         "x": [
          "2021-01-27T00:00:00",
          "2021-02-08T00:00:00"
         ],
         "xaxis": "x",
         "y": [
          "DOGEUSDT",
          "DOGEUSDT"
         ],
         "yaxis": "y"
        },
        {
         "mode": "markers+lines",
         "type": "scatter",
         "x": [
          "2021-03-31T00:00:00",
          "2021-05-07T00:00:00"
         ],
         "xaxis": "x",
         "y": [
          "DOGEUSDT",
          "DOGEUSDT"
         ],
         "yaxis": "y"
        },
        {
         "mode": "markers+lines",
         "type": "scatter",
         "x": [
          "2022-10-15T00:00:00",
          "2022-11-01T00:00:00"
         ],
         "xaxis": "x",
         "y": [
          "DOGEUSDT",
          "DOGEUSDT"
         ],
         "yaxis": "y"
        },
        {
         "mode": "markers+lines",
         "type": "scatter",
         "x": [
          "2021-01-08T00:00:00",
          "2021-01-23T00:00:00"
         ],
         "xaxis": "x",
         "y": [
          "DOTBTC",
          "DOTBTC"
         ],
         "yaxis": "y"
        },
        {
         "mode": "markers+lines",
         "type": "scatter",
         "x": [
          "2020-12-23T00:00:00",
          "2021-02-21T00:00:00"
         ],
         "xaxis": "x",
         "y": [
          "DOTUSDT",
          "DOTUSDT"
         ],
         "yaxis": "y"
        },
        {
         "mode": "markers+lines",
         "type": "scatter",
         "x": [
          "2021-07-20T00:00:00",
          "2021-09-14T00:00:00"
         ],
         "xaxis": "x",
         "y": [
          "DOTUSDT",
          "DOTUSDT"
         ],
         "yaxis": "y"
        },
        {
         "mode": "markers+lines",
         "type": "scatter",
         "x": [
          "2020-07-27T00:00:00",
          "2020-08-14T00:00:00"
         ],
         "xaxis": "x",
         "y": [
          "DUSKBTC",
          "DUSKBTC"
         ],
         "yaxis": "y"
        },
        {
         "mode": "markers+lines",
         "type": "scatter",
         "x": [
          "2021-01-28T00:00:00",
          "2021-03-19T00:00:00"
         ],
         "xaxis": "x",
         "y": [
          "DUSKBTC",
          "DUSKBTC"
         ],
         "yaxis": "y"
        },
        {
         "mode": "markers+lines",
         "type": "scatter",
         "x": [
          "2021-10-27T00:00:00",
          "2021-12-29T00:00:00"
         ],
         "xaxis": "x",
         "y": [
          "DUSKBTC",
          "DUSKBTC"
         ],
         "yaxis": "y"
        },
        {
         "mode": "markers+lines",
         "type": "scatter",
         "x": [
          "2023-01-19T00:00:00",
          "2023-02-15T00:00:00"
         ],
         "xaxis": "x",
         "y": [
          "DUSKBTC",
          "DUSKBTC"
         ],
         "yaxis": "y"
        },
        {
         "mode": "markers+lines",
         "type": "scatter",
         "x": [
          "2020-07-02T00:00:00",
          "2020-08-14T00:00:00"
         ],
         "xaxis": "x",
         "y": [
          "DUSKUSDT",
          "DUSKUSDT"
         ],
         "yaxis": "y"
        },
        {
         "mode": "markers+lines",
         "type": "scatter",
         "x": [
          "2021-01-27T00:00:00",
          "2021-02-18T00:00:00"
         ],
         "xaxis": "x",
         "y": [
          "DUSKUSDT",
          "DUSKUSDT"
         ],
         "yaxis": "y"
        },
        {
         "mode": "markers+lines",
         "type": "scatter",
         "x": [
          "2021-02-23T00:00:00",
          "2021-03-19T00:00:00"
         ],
         "xaxis": "x",
         "y": [
          "DUSKUSDT",
          "DUSKUSDT"
         ],
         "yaxis": "y"
        },
        {
         "mode": "markers+lines",
         "type": "scatter",
         "x": [
          "2021-10-27T00:00:00",
          "2021-11-20T00:00:00"
         ],
         "xaxis": "x",
         "y": [
          "DUSKUSDT",
          "DUSKUSDT"
         ],
         "yaxis": "y"
        },
        {
         "mode": "markers+lines",
         "type": "scatter",
         "x": [
          "2021-12-05T00:00:00",
          "2022-01-16T00:00:00"
         ],
         "xaxis": "x",
         "y": [
          "DUSKUSDT",
          "DUSKUSDT"
         ],
         "yaxis": "y"
        },
        {
         "mode": "markers+lines",
         "type": "scatter",
         "x": [
          "2023-01-18T00:00:00",
          "2023-01-31T00:00:00"
         ],
         "xaxis": "x",
         "y": [
          "DYDXBTC",
          "DYDXBTC"
         ],
         "yaxis": "y"
        },
        {
         "mode": "markers+lines",
         "type": "scatter",
         "x": [
          "2023-01-18T00:00:00",
          "2023-02-01T00:00:00"
         ],
         "xaxis": "x",
         "y": [
          "DYDXUSDT",
          "DYDXUSDT"
         ],
         "yaxis": "y"
        },
        {
         "mode": "markers+lines",
         "type": "scatter",
         "x": [
          "2020-11-20T00:00:00",
          "2020-12-15T00:00:00"
         ],
         "xaxis": "x",
         "y": [
          "EGLDBTC",
          "EGLDBTC"
         ],
         "yaxis": "y"
        },
        {
         "mode": "markers+lines",
         "type": "scatter",
         "x": [
          "2021-01-11T00:00:00",
          "2021-02-09T00:00:00"
         ],
         "xaxis": "x",
         "y": [
          "EGLDBTC",
          "EGLDBTC"
         ],
         "yaxis": "y"
        },
        {
         "mode": "markers+lines",
         "type": "scatter",
         "x": [
          "2021-08-27T00:00:00",
          "2021-09-14T00:00:00"
         ],
         "xaxis": "x",
         "y": [
          "EGLDBTC",
          "EGLDBTC"
         ],
         "yaxis": "y"
        },
        {
         "mode": "markers+lines",
         "type": "scatter",
         "x": [
          "2020-11-18T00:00:00",
          "2021-02-09T00:00:00"
         ],
         "xaxis": "x",
         "y": [
          "EGLDUSDT",
          "EGLDUSDT"
         ],
         "yaxis": "y"
        },
        {
         "mode": "markers+lines",
         "type": "scatter",
         "x": [
          "2020-01-28T00:00:00",
          "2020-02-17T00:00:00"
         ],
         "xaxis": "x",
         "y": [
          "ELFBTC",
          "ELFBTC"
         ],
         "yaxis": "y"
        },
        {
         "mode": "markers+lines",
         "type": "scatter",
         "x": [
          "2021-08-20T00:00:00",
          "2021-09-17T00:00:00"
         ],
         "xaxis": "x",
         "y": [
          "ELFBTC",
          "ELFBTC"
         ],
         "yaxis": "y"
        },
        {
         "mode": "markers+lines",
         "type": "scatter",
         "x": [
          "2023-11-27T00:00:00",
          "2023-12-23T00:00:00"
         ],
         "xaxis": "x",
         "y": [
          "ELFUSDT",
          "ELFUSDT"
         ],
         "yaxis": "y"
        },
        {
         "mode": "markers+lines",
         "type": "scatter",
         "x": [
          "2019-02-12T00:00:00",
          "2019-03-08T00:00:00"
         ],
         "xaxis": "x",
         "y": [
          "ENJBTC",
          "ENJBTC"
         ],
         "yaxis": "y"
        },
        {
         "mode": "markers+lines",
         "type": "scatter",
         "x": [
          "2021-01-03T00:00:00",
          "2021-01-25T00:00:00"
         ],
         "xaxis": "x",
         "y": [
          "ENJBTC",
          "ENJBTC"
         ],
         "yaxis": "y"
        },
        {
         "mode": "markers+lines",
         "type": "scatter",
         "x": [
          "2021-02-23T00:00:00",
          "2021-03-15T00:00:00"
         ],
         "xaxis": "x",
         "y": [
          "ENJBTC",
          "ENJBTC"
         ],
         "yaxis": "y"
        },
        {
         "mode": "markers+lines",
         "type": "scatter",
         "x": [
          "2021-10-19T00:00:00",
          "2021-11-24T00:00:00"
         ],
         "xaxis": "x",
         "y": [
          "ENJBTC",
          "ENJBTC"
         ],
         "yaxis": "y"
        },
        {
         "mode": "markers+lines",
         "type": "scatter",
         "x": [
          "2020-03-12T00:00:00",
          "2020-04-25T00:00:00"
         ],
         "xaxis": "x",
         "y": [
          "ENJUSDT",
          "ENJUSDT"
         ],
         "yaxis": "y"
        },
        {
         "mode": "markers+lines",
         "type": "scatter",
         "x": [
          "2020-12-30T00:00:00",
          "2021-01-25T00:00:00"
         ],
         "xaxis": "x",
         "y": [
          "ENJUSDT",
          "ENJUSDT"
         ],
         "yaxis": "y"
        },
        {
         "mode": "markers+lines",
         "type": "scatter",
         "x": [
          "2021-02-23T00:00:00",
          "2021-03-15T00:00:00"
         ],
         "xaxis": "x",
         "y": [
          "ENJUSDT",
          "ENJUSDT"
         ],
         "yaxis": "y"
        },
        {
         "mode": "markers+lines",
         "type": "scatter",
         "x": [
          "2021-10-19T00:00:00",
          "2021-11-24T00:00:00"
         ],
         "xaxis": "x",
         "y": [
          "ENJUSDT",
          "ENJUSDT"
         ],
         "yaxis": "y"
        },
        {
         "mode": "markers+lines",
         "type": "scatter",
         "x": [
          "2023-12-21T00:00:00",
          "2024-01-14T00:00:00"
         ],
         "xaxis": "x",
         "y": [
          "ENSBTC",
          "ENSBTC"
         ],
         "yaxis": "y"
        },
        {
         "mode": "markers+lines",
         "type": "scatter",
         "x": [
          "2023-12-21T00:00:00",
          "2024-01-11T00:00:00"
         ],
         "xaxis": "x",
         "y": [
          "ENSUSDT",
          "ENSUSDT"
         ],
         "yaxis": "y"
        },
        {
         "mode": "markers+lines",
         "type": "scatter",
         "x": [
          "2018-01-05T00:00:00",
          "2018-01-26T00:00:00"
         ],
         "xaxis": "x",
         "y": [
          "EOSBTC",
          "EOSBTC"
         ],
         "yaxis": "y"
        },
        {
         "mode": "markers+lines",
         "type": "scatter",
         "x": [
          "2018-03-28T00:00:00",
          "2018-04-29T00:00:00"
         ],
         "xaxis": "x",
         "y": [
          "EOSBTC",
          "EOSBTC"
         ],
         "yaxis": "y"
        },
        {
         "mode": "markers+lines",
         "type": "scatter",
         "x": [
          "2021-04-24T00:00:00",
          "2021-05-11T00:00:00"
         ],
         "xaxis": "x",
         "y": [
          "EOSBTC",
          "EOSBTC"
         ],
         "yaxis": "y"
        },
        {
         "mode": "markers+lines",
         "type": "scatter",
         "x": [
          "2021-01-27T00:00:00",
          "2021-02-13T00:00:00"
         ],
         "xaxis": "x",
         "y": [
          "EOSUSDT",
          "EOSUSDT"
         ],
         "yaxis": "y"
        },
        {
         "mode": "markers+lines",
         "type": "scatter",
         "x": [
          "2021-03-25T00:00:00",
          "2021-04-16T00:00:00"
         ],
         "xaxis": "x",
         "y": [
          "EOSUSDT",
          "EOSUSDT"
         ],
         "yaxis": "y"
        },
        {
         "mode": "markers+lines",
         "type": "scatter",
         "x": [
          "2021-04-25T00:00:00",
          "2021-05-11T00:00:00"
         ],
         "xaxis": "x",
         "y": [
          "EOSUSDT",
          "EOSUSDT"
         ],
         "yaxis": "y"
        },
        {
         "mode": "markers+lines",
         "type": "scatter",
         "x": [
          "2022-09-21T00:00:00",
          "2022-10-02T00:00:00"
         ],
         "xaxis": "x",
         "y": [
          "ERNUSDT",
          "ERNUSDT"
         ],
         "yaxis": "y"
        },
        {
         "mode": "markers+lines",
         "type": "scatter",
         "x": [
          "2020-01-07T00:00:00",
          "2020-01-29T00:00:00"
         ],
         "xaxis": "x",
         "y": [
          "ETCBTC",
          "ETCBTC"
         ],
         "yaxis": "y"
        },
        {
         "mode": "markers+lines",
         "type": "scatter",
         "x": [
          "2021-03-27T00:00:00",
          "2021-05-06T00:00:00"
         ],
         "xaxis": "x",
         "y": [
          "ETCBTC",
          "ETCBTC"
         ],
         "yaxis": "y"
        },
        {
         "mode": "markers+lines",
         "type": "scatter",
         "x": [
          "2022-07-11T00:00:00",
          "2022-08-13T00:00:00"
         ],
         "xaxis": "x",
         "y": [
          "ETCBTC",
          "ETCBTC"
         ],
         "yaxis": "y"
        },
        {
         "mode": "markers+lines",
         "type": "scatter",
         "x": [
          "2020-01-02T00:00:00",
          "2020-02-05T00:00:00"
         ],
         "xaxis": "x",
         "y": [
          "ETCUSDT",
          "ETCUSDT"
         ],
         "yaxis": "y"
        },
        {
         "mode": "markers+lines",
         "type": "scatter",
         "x": [
          "2021-01-31T00:00:00",
          "2021-02-13T00:00:00"
         ],
         "xaxis": "x",
         "y": [
          "ETCUSDT",
          "ETCUSDT"
         ],
         "yaxis": "y"
        },
        {
         "mode": "markers+lines",
         "type": "scatter",
         "x": [
          "2021-03-25T00:00:00",
          "2021-05-06T00:00:00"
         ],
         "xaxis": "x",
         "y": [
          "ETCUSDT",
          "ETCUSDT"
         ],
         "yaxis": "y"
        },
        {
         "mode": "markers+lines",
         "type": "scatter",
         "x": [
          "2022-07-12T00:00:00",
          "2022-08-13T00:00:00"
         ],
         "xaxis": "x",
         "y": [
          "ETCUSDT",
          "ETCUSDT"
         ],
         "yaxis": "y"
        },
        {
         "mode": "markers+lines",
         "type": "scatter",
         "x": [
          "2021-06-06T00:00:00",
          "2021-06-21T00:00:00"
         ],
         "xaxis": "x",
         "y": [
          "ETHDOWNUSDT",
          "ETHDOWNUSDT"
         ],
         "yaxis": "y"
        },
        {
         "mode": "markers+lines",
         "type": "scatter",
         "x": [
          "2021-07-06T00:00:00",
          "2021-07-20T00:00:00"
         ],
         "xaxis": "x",
         "y": [
          "ETHDOWNUSDT",
          "ETHDOWNUSDT"
         ],
         "yaxis": "y"
        },
        {
         "mode": "markers+lines",
         "type": "scatter",
         "x": [
          "2021-09-03T00:00:00",
          "2021-09-21T00:00:00"
         ],
         "xaxis": "x",
         "y": [
          "ETHDOWNUSDT",
          "ETHDOWNUSDT"
         ],
         "yaxis": "y"
        },
        {
         "mode": "markers+lines",
         "type": "scatter",
         "x": [
          "2021-12-25T00:00:00",
          "2022-01-22T00:00:00"
         ],
         "xaxis": "x",
         "y": [
          "ETHDOWNUSDT",
          "ETHDOWNUSDT"
         ],
         "yaxis": "y"
        },
        {
         "mode": "markers+lines",
         "type": "scatter",
         "x": [
          "2022-04-25T00:00:00",
          "2022-06-18T00:00:00"
         ],
         "xaxis": "x",
         "y": [
          "ETHDOWNUSDT",
          "ETHDOWNUSDT"
         ],
         "yaxis": "y"
        },
        {
         "mode": "markers+lines",
         "type": "scatter",
         "x": [
          "2022-11-04T00:00:00",
          "2022-11-09T00:00:00"
         ],
         "xaxis": "x",
         "y": [
          "ETHDOWNUSDT",
          "ETHDOWNUSDT"
         ],
         "yaxis": "y"
        },
        {
         "mode": "markers+lines",
         "type": "scatter",
         "x": [
          "2020-12-23T00:00:00",
          "2021-01-09T00:00:00"
         ],
         "xaxis": "x",
         "y": [
          "ETHUPUSDT",
          "ETHUPUSDT"
         ],
         "yaxis": "y"
        },
        {
         "mode": "markers+lines",
         "type": "scatter",
         "x": [
          "2021-01-21T00:00:00",
          "2021-02-19T00:00:00"
         ],
         "xaxis": "x",
         "y": [
          "ETHUPUSDT",
          "ETHUPUSDT"
         ],
         "yaxis": "y"
        },
        {
         "mode": "markers+lines",
         "type": "scatter",
         "x": [
          "2021-03-24T00:00:00",
          "2021-05-11T00:00:00"
         ],
         "xaxis": "x",
         "y": [
          "ETHUPUSDT",
          "ETHUPUSDT"
         ],
         "yaxis": "y"
        },
        {
         "mode": "markers+lines",
         "type": "scatter",
         "x": [
          "2021-07-20T00:00:00",
          "2021-08-13T00:00:00"
         ],
         "xaxis": "x",
         "y": [
          "ETHUPUSDT",
          "ETHUPUSDT"
         ],
         "yaxis": "y"
        },
        {
         "mode": "markers+lines",
         "type": "scatter",
         "x": [
          "2021-09-28T00:00:00",
          "2021-11-08T00:00:00"
         ],
         "xaxis": "x",
         "y": [
          "ETHUPUSDT",
          "ETHUPUSDT"
         ],
         "yaxis": "y"
        },
        {
         "mode": "markers+lines",
         "type": "scatter",
         "x": [
          "2022-03-13T00:00:00",
          "2022-04-03T00:00:00"
         ],
         "xaxis": "x",
         "y": [
          "ETHUPUSDT",
          "ETHUPUSDT"
         ],
         "yaxis": "y"
        },
        {
         "mode": "markers+lines",
         "type": "scatter",
         "x": [
          "2023-10-12T00:00:00",
          "2023-11-09T00:00:00"
         ],
         "xaxis": "x",
         "y": [
          "ETHUPUSDT",
          "ETHUPUSDT"
         ],
         "yaxis": "y"
        },
        {
         "mode": "markers+lines",
         "type": "scatter",
         "x": [
          "2017-12-27T00:00:00",
          "2018-02-01T00:00:00"
         ],
         "xaxis": "x",
         "y": [
          "ETHBTC",
          "ETHBTC"
         ],
         "yaxis": "y"
        },
        {
         "mode": "markers+lines",
         "type": "scatter",
         "x": [
          "2017-12-23T00:00:00",
          "2018-01-13T00:00:00"
         ],
         "xaxis": "x",
         "y": [
          "ETHUSDT",
          "ETHUSDT"
         ],
         "yaxis": "y"
        },
        {
         "mode": "markers+lines",
         "type": "scatter",
         "x": [
          "2018-04-06T00:00:00",
          "2018-05-05T00:00:00"
         ],
         "xaxis": "x",
         "y": [
          "ETHUSDT",
          "ETHUSDT"
         ],
         "yaxis": "y"
        },
        {
         "mode": "markers+lines",
         "type": "scatter",
         "x": [
          "2020-12-23T00:00:00",
          "2021-02-19T00:00:00"
         ],
         "xaxis": "x",
         "y": [
          "ETHUSDT",
          "ETHUSDT"
         ],
         "yaxis": "y"
        },
        {
         "mode": "markers+lines",
         "type": "scatter",
         "x": [
          "2021-12-14T00:00:00",
          "2022-01-01T00:00:00"
         ],
         "xaxis": "x",
         "y": [
          "FARMBTC",
          "FARMBTC"
         ],
         "yaxis": "y"
        },
        {
         "mode": "markers+lines",
         "type": "scatter",
         "x": [
          "2021-12-17T00:00:00",
          "2022-01-01T00:00:00"
         ],
         "xaxis": "x",
         "y": [
          "FARMUSDT",
          "FARMUSDT"
         ],
         "yaxis": "y"
        },
        {
         "mode": "markers+lines",
         "type": "scatter",
         "x": [
          "2019-05-11T00:00:00",
          "2019-05-20T00:00:00"
         ],
         "xaxis": "x",
         "y": [
          "FETBTC",
          "FETBTC"
         ],
         "yaxis": "y"
        },
        {
         "mode": "markers+lines",
         "type": "scatter",
         "x": [
          "2020-06-28T00:00:00",
          "2020-08-17T00:00:00"
         ],
         "xaxis": "x",
         "y": [
          "FETBTC",
          "FETBTC"
         ],
         "yaxis": "y"
        },
        {
         "mode": "markers+lines",
         "type": "scatter",
         "x": [
          "2021-01-25T00:00:00",
          "2021-03-29T00:00:00"
         ],
         "xaxis": "x",
         "y": [
          "FETBTC",
          "FETBTC"
         ],
         "yaxis": "y"
        },
        {
         "mode": "markers+lines",
         "type": "scatter",
         "x": [
          "2023-01-01T00:00:00",
          "2023-01-17T00:00:00"
         ],
         "xaxis": "x",
         "y": [
          "FETBTC",
          "FETBTC"
         ],
         "yaxis": "y"
        },
        {
         "mode": "markers+lines",
         "type": "scatter",
         "x": [
          "2019-05-09T00:00:00",
          "2019-05-20T00:00:00"
         ],
         "xaxis": "x",
         "y": [
          "FETUSDT",
          "FETUSDT"
         ],
         "yaxis": "y"
        },
        {
         "mode": "markers+lines",
         "type": "scatter",
         "x": [
          "2020-06-28T00:00:00",
          "2020-08-17T00:00:00"
         ],
         "xaxis": "x",
         "y": [
          "FETUSDT",
          "FETUSDT"
         ],
         "yaxis": "y"
        },
        {
         "mode": "markers+lines",
         "type": "scatter",
         "x": [
          "2021-01-02T00:00:00",
          "2021-03-29T00:00:00"
         ],
         "xaxis": "x",
         "y": [
          "FETUSDT",
          "FETUSDT"
         ],
         "yaxis": "y"
        },
        {
         "mode": "markers+lines",
         "type": "scatter",
         "x": [
          "2023-01-01T00:00:00",
          "2023-02-07T00:00:00"
         ],
         "xaxis": "x",
         "y": [
          "FETUSDT",
          "FETUSDT"
         ],
         "yaxis": "y"
        },
        {
         "mode": "markers+lines",
         "type": "scatter",
         "x": [
          "2023-10-18T00:00:00",
          "2023-12-26T00:00:00"
         ],
         "xaxis": "x",
         "y": [
          "FETUSDT",
          "FETUSDT"
         ],
         "yaxis": "y"
        },
        {
         "mode": "markers+lines",
         "type": "scatter",
         "x": [
          "2022-11-13T00:00:00",
          "2022-11-20T00:00:00"
         ],
         "xaxis": "x",
         "y": [
          "FIDABTC",
          "FIDABTC"
         ],
         "yaxis": "y"
        },
        {
         "mode": "markers+lines",
         "type": "scatter",
         "x": [
          "2022-11-09T00:00:00",
          "2022-11-20T00:00:00"
         ],
         "xaxis": "x",
         "y": [
          "FIDAUSDT",
          "FIDAUSDT"
         ],
         "yaxis": "y"
        },
        {
         "mode": "markers+lines",
         "type": "scatter",
         "x": [
          "2021-03-11T00:00:00",
          "2021-03-31T00:00:00"
         ],
         "xaxis": "x",
         "y": [
          "FILBTC",
          "FILBTC"
         ],
         "yaxis": "y"
        },
        {
         "mode": "markers+lines",
         "type": "scatter",
         "x": [
          "2021-01-27T00:00:00",
          "2021-02-14T00:00:00"
         ],
         "xaxis": "x",
         "y": [
          "FILUSDT",
          "FILUSDT"
         ],
         "yaxis": "y"
        },
        {
         "mode": "markers+lines",
         "type": "scatter",
         "x": [
          "2021-03-02T00:00:00",
          "2021-03-31T00:00:00"
         ],
         "xaxis": "x",
         "y": [
          "FILUSDT",
          "FILUSDT"
         ],
         "yaxis": "y"
        },
        {
         "mode": "markers+lines",
         "type": "scatter",
         "x": [
          "2021-02-23T00:00:00",
          "2021-04-06T00:00:00"
         ],
         "xaxis": "x",
         "y": [
          "FIOBTC",
          "FIOBTC"
         ],
         "yaxis": "y"
        },
        {
         "mode": "markers+lines",
         "type": "scatter",
         "x": [
          "2021-01-15T00:00:00",
          "2021-03-13T00:00:00"
         ],
         "xaxis": "x",
         "y": [
          "FIOUSDT",
          "FIOUSDT"
         ],
         "yaxis": "y"
        },
        {
         "mode": "markers+lines",
         "type": "scatter",
         "x": [
          "2022-06-30T00:00:00",
          "2022-07-15T00:00:00"
         ],
         "xaxis": "x",
         "y": [
          "FIROBTC",
          "FIROBTC"
         ],
         "yaxis": "y"
        },
        {
         "mode": "markers+lines",
         "type": "scatter",
         "x": [
          "2021-03-25T00:00:00",
          "2021-04-17T00:00:00"
         ],
         "xaxis": "x",
         "y": [
          "FIROUSDT",
          "FIROUSDT"
         ],
         "yaxis": "y"
        },
        {
         "mode": "markers+lines",
         "type": "scatter",
         "x": [
          "2021-04-25T00:00:00",
          "2021-05-11T00:00:00"
         ],
         "xaxis": "x",
         "y": [
          "FIROUSDT",
          "FIROUSDT"
         ],
         "yaxis": "y"
        },
        {
         "mode": "markers+lines",
         "type": "scatter",
         "x": [
          "2022-07-01T00:00:00",
          "2022-07-15T00:00:00"
         ],
         "xaxis": "x",
         "y": [
          "FIROUSDT",
          "FIROUSDT"
         ],
         "yaxis": "y"
        },
        {
         "mode": "markers+lines",
         "type": "scatter",
         "x": [
          "2021-07-30T00:00:00",
          "2021-08-07T00:00:00"
         ],
         "xaxis": "x",
         "y": [
          "FISBTC",
          "FISBTC"
         ],
         "yaxis": "y"
        },
        {
         "mode": "markers+lines",
         "type": "scatter",
         "x": [
          "2021-04-24T00:00:00",
          "2021-05-01T00:00:00"
         ],
         "xaxis": "x",
         "y": [
          "FISUSDT",
          "FISUSDT"
         ],
         "yaxis": "y"
        },
        {
         "mode": "markers+lines",
         "type": "scatter",
         "x": [
          "2021-07-22T00:00:00",
          "2021-08-07T00:00:00"
         ],
         "xaxis": "x",
         "y": [
          "FISUSDT",
          "FISUSDT"
         ],
         "yaxis": "y"
        },
        {
         "mode": "markers+lines",
         "type": "scatter",
         "x": [
          "2021-01-09T00:00:00",
          "2021-02-13T00:00:00"
         ],
         "xaxis": "x",
         "y": [
          "FLMBTC",
          "FLMBTC"
         ],
         "yaxis": "y"
        },
        {
         "mode": "markers+lines",
         "type": "scatter",
         "x": [
          "2021-03-25T00:00:00",
          "2021-04-06T00:00:00"
         ],
         "xaxis": "x",
         "y": [
          "FLMBTC",
          "FLMBTC"
         ],
         "yaxis": "y"
        },
        {
         "mode": "markers+lines",
         "type": "scatter",
         "x": [
          "2022-05-28T00:00:00",
          "2022-06-20T00:00:00"
         ],
         "xaxis": "x",
         "y": [
          "FLMBTC",
          "FLMBTC"
         ],
         "yaxis": "y"
        },
        {
         "mode": "markers+lines",
         "type": "scatter",
         "x": [
          "2022-06-30T00:00:00",
          "2022-08-01T00:00:00"
         ],
         "xaxis": "x",
         "y": [
          "FLMBTC",
          "FLMBTC"
         ],
         "yaxis": "y"
        },
        {
         "mode": "markers+lines",
         "type": "scatter",
         "x": [
          "2021-01-21T00:00:00",
          "2021-02-13T00:00:00"
         ],
         "xaxis": "x",
         "y": [
          "FLMUSDT",
          "FLMUSDT"
         ],
         "yaxis": "y"
        },
        {
         "mode": "markers+lines",
         "type": "scatter",
         "x": [
          "2021-03-25T00:00:00",
          "2021-04-06T00:00:00"
         ],
         "xaxis": "x",
         "y": [
          "FLMUSDT",
          "FLMUSDT"
         ],
         "yaxis": "y"
        },
        {
         "mode": "markers+lines",
         "type": "scatter",
         "x": [
          "2022-07-01T00:00:00",
          "2022-08-01T00:00:00"
         ],
         "xaxis": "x",
         "y": [
          "FLMUSDT",
          "FLMUSDT"
         ],
         "yaxis": "y"
        },
        {
         "mode": "markers+lines",
         "type": "scatter",
         "x": [
          "2023-10-11T00:00:00",
          "2023-10-26T00:00:00"
         ],
         "xaxis": "x",
         "y": [
          "FLOKIUSDT",
          "FLOKIUSDT"
         ],
         "yaxis": "y"
        },
        {
         "mode": "markers+lines",
         "type": "scatter",
         "x": [
          "2022-07-29T00:00:00",
          "2022-09-05T00:00:00"
         ],
         "xaxis": "x",
         "y": [
          "FLUXBTC",
          "FLUXBTC"
         ],
         "yaxis": "y"
        },
        {
         "mode": "markers+lines",
         "type": "scatter",
         "x": [
          "2022-07-29T00:00:00",
          "2022-08-13T00:00:00"
         ],
         "xaxis": "x",
         "y": [
          "FLUXUSDT",
          "FLUXUSDT"
         ],
         "yaxis": "y"
        },
        {
         "mode": "markers+lines",
         "type": "scatter",
         "x": [
          "2021-01-08T00:00:00",
          "2021-02-21T00:00:00"
         ],
         "xaxis": "x",
         "y": [
          "FORBTC",
          "FORBTC"
         ],
         "yaxis": "y"
        },
        {
         "mode": "markers+lines",
         "type": "scatter",
         "x": [
          "2021-03-24T00:00:00",
          "2021-04-12T00:00:00"
         ],
         "xaxis": "x",
         "y": [
          "FORBTC",
          "FORBTC"
         ],
         "yaxis": "y"
        },
        {
         "mode": "markers+lines",
         "type": "scatter",
         "x": [
          "2021-07-30T00:00:00",
          "2021-08-19T00:00:00"
         ],
         "xaxis": "x",
         "y": [
          "FORBTC",
          "FORBTC"
         ],
         "yaxis": "y"
        },
        {
         "mode": "markers+lines",
         "type": "scatter",
         "x": [
          "2023-09-12T00:00:00",
          "2023-09-26T00:00:00"
         ],
         "xaxis": "x",
         "y": [
          "FRONTBTC",
          "FRONTBTC"
         ],
         "yaxis": "y"
        },
        {
         "mode": "markers+lines",
         "type": "scatter",
         "x": [
          "2023-09-12T00:00:00",
          "2023-09-26T00:00:00"
         ],
         "xaxis": "x",
         "y": [
          "FRONTUSDT",
          "FRONTUSDT"
         ],
         "yaxis": "y"
        },
        {
         "mode": "markers+lines",
         "type": "scatter",
         "x": [
          "2020-08-01T00:00:00",
          "2020-09-02T00:00:00"
         ],
         "xaxis": "x",
         "y": [
          "FTMBTC",
          "FTMBTC"
         ],
         "yaxis": "y"
        },
        {
         "mode": "markers+lines",
         "type": "scatter",
         "x": [
          "2021-01-14T00:00:00",
          "2021-02-24T00:00:00"
         ],
         "xaxis": "x",
         "y": [
          "FTMBTC",
          "FTMBTC"
         ],
         "yaxis": "y"
        },
        {
         "mode": "markers+lines",
         "type": "scatter",
         "x": [
          "2021-04-24T00:00:00",
          "2021-05-18T00:00:00"
         ],
         "xaxis": "x",
         "y": [
          "FTMBTC",
          "FTMBTC"
         ],
         "yaxis": "y"
        },
        {
         "mode": "markers+lines",
         "type": "scatter",
         "x": [
          "2021-08-09T00:00:00",
          "2021-09-09T00:00:00"
         ],
         "xaxis": "x",
         "y": [
          "FTMBTC",
          "FTMBTC"
         ],
         "yaxis": "y"
        },
        {
         "mode": "markers+lines",
         "type": "scatter",
         "x": [
          "2021-12-14T00:00:00",
          "2022-01-16T00:00:00"
         ],
         "xaxis": "x",
         "y": [
          "FTMBTC",
          "FTMBTC"
         ],
         "yaxis": "y"
        },
        {
         "mode": "markers+lines",
         "type": "scatter",
         "x": [
          "2020-08-01T00:00:00",
          "2020-09-02T00:00:00"
         ],
         "xaxis": "x",
         "y": [
          "FTMUSDT",
          "FTMUSDT"
         ],
         "yaxis": "y"
        },
        {
         "mode": "markers+lines",
         "type": "scatter",
         "x": [
          "2020-12-29T00:00:00",
          "2021-02-24T00:00:00"
         ],
         "xaxis": "x",
         "y": [
          "FTMUSDT",
          "FTMUSDT"
         ],
         "yaxis": "y"
        },
        {
         "mode": "markers+lines",
         "type": "scatter",
         "x": [
          "2021-04-24T00:00:00",
          "2021-05-09T00:00:00"
         ],
         "xaxis": "x",
         "y": [
          "FTMUSDT",
          "FTMUSDT"
         ],
         "yaxis": "y"
        },
        {
         "mode": "markers+lines",
         "type": "scatter",
         "x": [
          "2021-08-03T00:00:00",
          "2021-09-09T00:00:00"
         ],
         "xaxis": "x",
         "y": [
          "FTMUSDT",
          "FTMUSDT"
         ],
         "yaxis": "y"
        },
        {
         "mode": "markers+lines",
         "type": "scatter",
         "x": [
          "2021-09-28T00:00:00",
          "2021-11-08T00:00:00"
         ],
         "xaxis": "x",
         "y": [
          "FTMUSDT",
          "FTMUSDT"
         ],
         "yaxis": "y"
        },
        {
         "mode": "markers+lines",
         "type": "scatter",
         "x": [
          "2021-12-13T00:00:00",
          "2022-01-16T00:00:00"
         ],
         "xaxis": "x",
         "y": [
          "FTMUSDT",
          "FTMUSDT"
         ],
         "yaxis": "y"
        },
        {
         "mode": "markers+lines",
         "type": "scatter",
         "x": [
          "2022-12-31T00:00:00",
          "2023-02-03T00:00:00"
         ],
         "xaxis": "x",
         "y": [
          "FTMUSDT",
          "FTMUSDT"
         ],
         "yaxis": "y"
        },
        {
         "mode": "markers+lines",
         "type": "scatter",
         "x": [
          "2021-06-24T00:00:00",
          "2021-07-20T00:00:00"
         ],
         "xaxis": "x",
         "y": [
          "FXSBTC",
          "FXSBTC"
         ],
         "yaxis": "y"
        },
        {
         "mode": "markers+lines",
         "type": "scatter",
         "x": [
          "2021-08-09T00:00:00",
          "2021-08-27T00:00:00"
         ],
         "xaxis": "x",
         "y": [
          "FXSBTC",
          "FXSBTC"
         ],
         "yaxis": "y"
        },
        {
         "mode": "markers+lines",
         "type": "scatter",
         "x": [
          "2021-10-20T00:00:00",
          "2021-11-11T00:00:00"
         ],
         "xaxis": "x",
         "y": [
          "FXSBTC",
          "FXSBTC"
         ],
         "yaxis": "y"
        },
        {
         "mode": "markers+lines",
         "type": "scatter",
         "x": [
          "2021-12-20T00:00:00",
          "2022-01-12T00:00:00"
         ],
         "xaxis": "x",
         "y": [
          "FXSBTC",
          "FXSBTC"
         ],
         "yaxis": "y"
        },
        {
         "mode": "markers+lines",
         "type": "scatter",
         "x": [
          "2022-03-19T00:00:00",
          "2022-04-03T00:00:00"
         ],
         "xaxis": "x",
         "y": [
          "FXSUSDT",
          "FXSUSDT"
         ],
         "yaxis": "y"
        },
        {
         "mode": "markers+lines",
         "type": "scatter",
         "x": [
          "2022-12-31T00:00:00",
          "2023-02-07T00:00:00"
         ],
         "xaxis": "x",
         "y": [
          "FXSUSDT",
          "FXSUSDT"
         ],
         "yaxis": "y"
        },
        {
         "mode": "markers+lines",
         "type": "scatter",
         "x": [
          "2021-11-10T00:00:00",
          "2021-11-26T00:00:00"
         ],
         "xaxis": "x",
         "y": [
          "GALABTC",
          "GALABTC"
         ],
         "yaxis": "y"
        },
        {
         "mode": "markers+lines",
         "type": "scatter",
         "x": [
          "2022-12-29T00:00:00",
          "2023-01-13T00:00:00"
         ],
         "xaxis": "x",
         "y": [
          "GALABTC",
          "GALABTC"
         ],
         "yaxis": "y"
        },
        {
         "mode": "markers+lines",
         "type": "scatter",
         "x": [
          "2021-11-10T00:00:00",
          "2021-11-25T00:00:00"
         ],
         "xaxis": "x",
         "y": [
          "GALAUSDT",
          "GALAUSDT"
         ],
         "yaxis": "y"
        },
        {
         "mode": "markers+lines",
         "type": "scatter",
         "x": [
          "2022-01-22T00:00:00",
          "2022-02-08T00:00:00"
         ],
         "xaxis": "x",
         "y": [
          "GALAUSDT",
          "GALAUSDT"
         ],
         "yaxis": "y"
        },
        {
         "mode": "markers+lines",
         "type": "scatter",
         "x": [
          "2022-12-29T00:00:00",
          "2023-01-29T00:00:00"
         ],
         "xaxis": "x",
         "y": [
          "GALAUSDT",
          "GALAUSDT"
         ],
         "yaxis": "y"
        },
        {
         "mode": "markers+lines",
         "type": "scatter",
         "x": [
          "2023-01-07T00:00:00",
          "2023-02-02T00:00:00"
         ],
         "xaxis": "x",
         "y": [
          "GALUSDT",
          "GALUSDT"
         ],
         "yaxis": "y"
        },
        {
         "mode": "markers+lines",
         "type": "scatter",
         "x": [
          "2017-09-20T00:00:00",
          "2017-10-02T00:00:00"
         ],
         "xaxis": "x",
         "y": [
          "GASBTC",
          "GASBTC"
         ],
         "yaxis": "y"
        },
        {
         "mode": "markers+lines",
         "type": "scatter",
         "x": [
          "2017-12-07T00:00:00",
          "2018-01-15T00:00:00"
         ],
         "xaxis": "x",
         "y": [
          "GASBTC",
          "GASBTC"
         ],
         "yaxis": "y"
        },
        {
         "mode": "markers+lines",
         "type": "scatter",
         "x": [
          "2021-02-08T00:00:00",
          "2021-02-28T00:00:00"
         ],
         "xaxis": "x",
         "y": [
          "GASBTC",
          "GASBTC"
         ],
         "yaxis": "y"
        },
        {
         "mode": "markers+lines",
         "type": "scatter",
         "x": [
          "2023-10-20T00:00:00",
          "2023-11-10T00:00:00"
         ],
         "xaxis": "x",
         "y": [
          "GASBTC",
          "GASBTC"
         ],
         "yaxis": "y"
        },
        {
         "mode": "markers+lines",
         "type": "scatter",
         "x": [
          "2023-10-14T00:00:00",
          "2023-11-10T00:00:00"
         ],
         "xaxis": "x",
         "y": [
          "GASUSDT",
          "GASUSDT"
         ],
         "yaxis": "y"
        },
        {
         "mode": "markers+lines",
         "type": "scatter",
         "x": [
          "2021-02-05T00:00:00",
          "2021-03-06T00:00:00"
         ],
         "xaxis": "x",
         "y": [
          "GLMBTC",
          "GLMBTC"
         ],
         "yaxis": "y"
        },
        {
         "mode": "markers+lines",
         "type": "scatter",
         "x": [
          "2022-12-30T00:00:00",
          "2023-01-26T00:00:00"
         ],
         "xaxis": "x",
         "y": [
          "GMTUSDT",
          "GMTUSDT"
         ],
         "yaxis": "y"
        },
        {
         "mode": "markers+lines",
         "type": "scatter",
         "x": [
          "2023-01-22T00:00:00",
          "2023-02-07T00:00:00"
         ],
         "xaxis": "x",
         "y": [
          "GRTBTC",
          "GRTBTC"
         ],
         "yaxis": "y"
        },
        {
         "mode": "markers+lines",
         "type": "scatter",
         "x": [
          "2023-01-22T00:00:00",
          "2023-02-07T00:00:00"
         ],
         "xaxis": "x",
         "y": [
          "GRTUSDT",
          "GRTUSDT"
         ],
         "yaxis": "y"
        },
        {
         "mode": "markers+lines",
         "type": "scatter",
         "x": [
          "2021-01-14T00:00:00",
          "2021-02-19T00:00:00"
         ],
         "xaxis": "x",
         "y": [
          "HARDBTC",
          "HARDBTC"
         ],
         "yaxis": "y"
        },
        {
         "mode": "markers+lines",
         "type": "scatter",
         "x": [
          "2021-01-24T00:00:00",
          "2021-02-19T00:00:00"
         ],
         "xaxis": "x",
         "y": [
          "HARDUSDT",
          "HARDUSDT"
         ],
         "yaxis": "y"
        },
        {
         "mode": "markers+lines",
         "type": "scatter",
         "x": [
          "2020-01-21T00:00:00",
          "2020-02-12T00:00:00"
         ],
         "xaxis": "x",
         "y": [
          "HBARBTC",
          "HBARBTC"
         ],
         "yaxis": "y"
        },
        {
         "mode": "markers+lines",
         "type": "scatter",
         "x": [
          "2020-02-26T00:00:00",
          "2020-03-14T00:00:00"
         ],
         "xaxis": "x",
         "y": [
          "HBARBTC",
          "HBARBTC"
         ],
         "yaxis": "y"
        },
        {
         "mode": "markers+lines",
         "type": "scatter",
         "x": [
          "2021-01-07T00:00:00",
          "2021-01-21T00:00:00"
         ],
         "xaxis": "x",
         "y": [
          "HBARBTC",
          "HBARBTC"
         ],
         "yaxis": "y"
        },
        {
         "mode": "markers+lines",
         "type": "scatter",
         "x": [
          "2021-02-23T00:00:00",
          "2021-03-15T00:00:00"
         ],
         "xaxis": "x",
         "y": [
          "HBARBTC",
          "HBARBTC"
         ],
         "yaxis": "y"
        },
        {
         "mode": "markers+lines",
         "type": "scatter",
         "x": [
          "2020-01-23T00:00:00",
          "2020-02-12T00:00:00"
         ],
         "xaxis": "x",
         "y": [
          "HBARUSDT",
          "HBARUSDT"
         ],
         "yaxis": "y"
        },
        {
         "mode": "markers+lines",
         "type": "scatter",
         "x": [
          "2020-12-27T00:00:00",
          "2021-01-20T00:00:00"
         ],
         "xaxis": "x",
         "y": [
          "HBARUSDT",
          "HBARUSDT"
         ],
         "yaxis": "y"
        },
        {
         "mode": "markers+lines",
         "type": "scatter",
         "x": [
          "2021-02-28T00:00:00",
          "2021-03-15T00:00:00"
         ],
         "xaxis": "x",
         "y": [
          "HBARUSDT",
          "HBARUSDT"
         ],
         "yaxis": "y"
        },
        {
         "mode": "markers+lines",
         "type": "scatter",
         "x": [
          "2021-08-30T00:00:00",
          "2021-09-15T00:00:00"
         ],
         "xaxis": "x",
         "y": [
          "HBARUSDT",
          "HBARUSDT"
         ],
         "yaxis": "y"
        },
        {
         "mode": "markers+lines",
         "type": "scatter",
         "x": [
          "2023-09-01T00:00:00",
          "2023-09-16T00:00:00"
         ],
         "xaxis": "x",
         "y": [
          "HIFIUSDT",
          "HIFIUSDT"
         ],
         "yaxis": "y"
        },
        {
         "mode": "markers+lines",
         "type": "scatter",
         "x": [
          "2023-01-21T00:00:00",
          "2023-02-07T00:00:00"
         ],
         "xaxis": "x",
         "y": [
          "HIGHBTC",
          "HIGHBTC"
         ],
         "yaxis": "y"
        },
        {
         "mode": "markers+lines",
         "type": "scatter",
         "x": [
          "2022-03-13T00:00:00",
          "2022-03-30T00:00:00"
         ],
         "xaxis": "x",
         "y": [
          "HIGHUSDT",
          "HIGHUSDT"
         ],
         "yaxis": "y"
        },
        {
         "mode": "markers+lines",
         "type": "scatter",
         "x": [
          "2023-01-15T00:00:00",
          "2023-02-07T00:00:00"
         ],
         "xaxis": "x",
         "y": [
          "HIGHUSDT",
          "HIGHUSDT"
         ],
         "yaxis": "y"
        },
        {
         "mode": "markers+lines",
         "type": "scatter",
         "x": [
          "2021-03-09T00:00:00",
          "2021-04-02T00:00:00"
         ],
         "xaxis": "x",
         "y": [
          "HIVEBTC",
          "HIVEBTC"
         ],
         "yaxis": "y"
        },
        {
         "mode": "markers+lines",
         "type": "scatter",
         "x": [
          "2021-11-09T00:00:00",
          "2021-11-29T00:00:00"
         ],
         "xaxis": "x",
         "y": [
          "HIVEBTC",
          "HIVEBTC"
         ],
         "yaxis": "y"
        },
        {
         "mode": "markers+lines",
         "type": "scatter",
         "x": [
          "2021-01-27T00:00:00",
          "2021-04-02T00:00:00"
         ],
         "xaxis": "x",
         "y": [
          "HIVEUSDT",
          "HIVEUSDT"
         ],
         "yaxis": "y"
        },
        {
         "mode": "markers+lines",
         "type": "scatter",
         "x": [
          "2021-11-10T00:00:00",
          "2021-11-29T00:00:00"
         ],
         "xaxis": "x",
         "y": [
          "HIVEUSDT",
          "HIVEUSDT"
         ],
         "yaxis": "y"
        },
        {
         "mode": "markers+lines",
         "type": "scatter",
         "x": [
          "2023-01-18T00:00:00",
          "2023-02-07T00:00:00"
         ],
         "xaxis": "x",
         "y": [
          "HOOKBTC",
          "HOOKBTC"
         ],
         "yaxis": "y"
        },
        {
         "mode": "markers+lines",
         "type": "scatter",
         "x": [
          "2023-01-07T00:00:00",
          "2023-02-07T00:00:00"
         ],
         "xaxis": "x",
         "y": [
          "HOOKUSDT",
          "HOOKUSDT"
         ],
         "yaxis": "y"
        },
        {
         "mode": "markers+lines",
         "type": "scatter",
         "x": [
          "2019-05-09T00:00:00",
          "2019-05-29T00:00:00"
         ],
         "xaxis": "x",
         "y": [
          "HOTUSDT",
          "HOTUSDT"
         ],
         "yaxis": "y"
        },
        {
         "mode": "markers+lines",
         "type": "scatter",
         "x": [
          "2021-01-27T00:00:00",
          "2021-02-21T00:00:00"
         ],
         "xaxis": "x",
         "y": [
          "HOTUSDT",
          "HOTUSDT"
         ],
         "yaxis": "y"
        },
        {
         "mode": "markers+lines",
         "type": "scatter",
         "x": [
          "2021-02-28T00:00:00",
          "2021-04-05T00:00:00"
         ],
         "xaxis": "x",
         "y": [
          "HOTUSDT",
          "HOTUSDT"
         ],
         "yaxis": "y"
        },
        {
         "mode": "markers+lines",
         "type": "scatter",
         "x": [
          "2023-12-06T00:00:00",
          "2024-01-03T00:00:00"
         ],
         "xaxis": "x",
         "y": [
          "ICPBTC",
          "ICPBTC"
         ],
         "yaxis": "y"
        },
        {
         "mode": "markers+lines",
         "type": "scatter",
         "x": [
          "2023-12-01T00:00:00",
          "2024-01-03T00:00:00"
         ],
         "xaxis": "x",
         "y": [
          "ICPUSDT",
          "ICPUSDT"
         ],
         "yaxis": "y"
        },
        {
         "mode": "markers+lines",
         "type": "scatter",
         "x": [
          "2020-01-19T00:00:00",
          "2020-02-04T00:00:00"
         ],
         "xaxis": "x",
         "y": [
          "ICXBTC",
          "ICXBTC"
         ],
         "yaxis": "y"
        },
        {
         "mode": "markers+lines",
         "type": "scatter",
         "x": [
          "2021-02-08T00:00:00",
          "2021-02-18T00:00:00"
         ],
         "xaxis": "x",
         "y": [
          "ICXBTC",
          "ICXBTC"
         ],
         "yaxis": "y"
        },
        {
         "mode": "markers+lines",
         "type": "scatter",
         "x": [
          "2020-01-16T00:00:00",
          "2020-02-04T00:00:00"
         ],
         "xaxis": "x",
         "y": [
          "ICXUSDT",
          "ICXUSDT"
         ],
         "yaxis": "y"
        },
        {
         "mode": "markers+lines",
         "type": "scatter",
         "x": [
          "2020-12-23T00:00:00",
          "2021-02-19T00:00:00"
         ],
         "xaxis": "x",
         "y": [
          "ICXUSDT",
          "ICXUSDT"
         ],
         "yaxis": "y"
        },
        {
         "mode": "markers+lines",
         "type": "scatter",
         "x": [
          "2021-01-14T00:00:00",
          "2021-02-02T00:00:00"
         ],
         "xaxis": "x",
         "y": [
          "IDEXBTC",
          "IDEXBTC"
         ],
         "yaxis": "y"
        },
        {
         "mode": "markers+lines",
         "type": "scatter",
         "x": [
          "2021-02-25T00:00:00",
          "2021-03-29T00:00:00"
         ],
         "xaxis": "x",
         "y": [
          "IDEXBTC",
          "IDEXBTC"
         ],
         "yaxis": "y"
        },
        {
         "mode": "markers+lines",
         "type": "scatter",
         "x": [
          "2021-09-03T00:00:00",
          "2021-09-11T00:00:00"
         ],
         "xaxis": "x",
         "y": [
          "IDEXBTC",
          "IDEXBTC"
         ],
         "yaxis": "y"
        },
        {
         "mode": "markers+lines",
         "type": "scatter",
         "x": [
          "2022-05-12T00:00:00",
          "2022-05-17T00:00:00"
         ],
         "xaxis": "x",
         "y": [
          "IDEXBTC",
          "IDEXBTC"
         ],
         "yaxis": "y"
        },
        {
         "mode": "markers+lines",
         "type": "scatter",
         "x": [
          "2023-04-11T00:00:00",
          "2023-05-03T00:00:00"
         ],
         "xaxis": "x",
         "y": [
          "IDEXBTC",
          "IDEXBTC"
         ],
         "yaxis": "y"
        },
        {
         "mode": "markers+lines",
         "type": "scatter",
         "x": [
          "2022-01-30T00:00:00",
          "2022-02-02T00:00:00"
         ],
         "xaxis": "x",
         "y": [
          "IDEXUSDT",
          "IDEXUSDT"
         ],
         "yaxis": "y"
        },
        {
         "mode": "markers+lines",
         "type": "scatter",
         "x": [
          "2023-04-20T00:00:00",
          "2023-05-03T00:00:00"
         ],
         "xaxis": "x",
         "y": [
          "IDEXUSDT",
          "IDEXUSDT"
         ],
         "yaxis": "y"
        },
        {
         "mode": "markers+lines",
         "type": "scatter",
         "x": [
          "2024-02-04T00:00:00",
          "2024-02-10T00:00:00"
         ],
         "xaxis": "x",
         "y": [
          "IDBTC",
          "IDBTC"
         ],
         "yaxis": "y"
        },
        {
         "mode": "markers+lines",
         "type": "scatter",
         "x": [
          "2024-01-25T00:00:00",
          "2024-02-10T00:00:00"
         ],
         "xaxis": "x",
         "y": [
          "IDUSDT",
          "IDUSDT"
         ],
         "yaxis": "y"
        },
        {
         "mode": "markers+lines",
         "type": "scatter",
         "x": [
          "2023-10-21T00:00:00",
          "2023-11-26T00:00:00"
         ],
         "xaxis": "x",
         "y": [
          "ILVUSDT",
          "ILVUSDT"
         ],
         "yaxis": "y"
        },
        {
         "mode": "markers+lines",
         "type": "scatter",
         "x": [
          "2023-10-27T00:00:00",
          "2023-11-23T00:00:00"
         ],
         "xaxis": "x",
         "y": [
          "IMXBTC",
          "IMXBTC"
         ],
         "yaxis": "y"
        },
        {
         "mode": "markers+lines",
         "type": "scatter",
         "x": [
          "2023-10-27T00:00:00",
          "2023-12-27T00:00:00"
         ],
         "xaxis": "x",
         "y": [
          "IMXUSDT",
          "IMXUSDT"
         ],
         "yaxis": "y"
        },
        {
         "mode": "markers+lines",
         "type": "scatter",
         "x": [
          "2020-11-30T00:00:00",
          "2020-12-24T00:00:00"
         ],
         "xaxis": "x",
         "y": [
          "INJBTC",
          "INJBTC"
         ],
         "yaxis": "y"
        },
        {
         "mode": "markers+lines",
         "type": "scatter",
         "x": [
          "2021-01-02T00:00:00",
          "2021-02-04T00:00:00"
         ],
         "xaxis": "x",
         "y": [
          "INJBTC",
          "INJBTC"
         ],
         "yaxis": "y"
        },
        {
         "mode": "markers+lines",
         "type": "scatter",
         "x": [
          "2023-01-18T00:00:00",
          "2023-02-18T00:00:00"
         ],
         "xaxis": "x",
         "y": [
          "INJBTC",
          "INJBTC"
         ],
         "yaxis": "y"
        },
        {
         "mode": "markers+lines",
         "type": "scatter",
         "x": [
          "2023-12-06T00:00:00",
          "2023-12-25T00:00:00"
         ],
         "xaxis": "x",
         "y": [
          "INJBTC",
          "INJBTC"
         ],
         "yaxis": "y"
        },
        {
         "mode": "markers+lines",
         "type": "scatter",
         "x": [
          "2020-11-26T00:00:00",
          "2020-12-27T00:00:00"
         ],
         "xaxis": "x",
         "y": [
          "INJUSDT",
          "INJUSDT"
         ],
         "yaxis": "y"
        },
        {
         "mode": "markers+lines",
         "type": "scatter",
         "x": [
          "2021-01-02T00:00:00",
          "2021-02-19T00:00:00"
         ],
         "xaxis": "x",
         "y": [
          "INJUSDT",
          "INJUSDT"
         ],
         "yaxis": "y"
        },
        {
         "mode": "markers+lines",
         "type": "scatter",
         "x": [
          "2023-01-18T00:00:00",
          "2023-02-18T00:00:00"
         ],
         "xaxis": "x",
         "y": [
          "INJUSDT",
          "INJUSDT"
         ],
         "yaxis": "y"
        },
        {
         "mode": "markers+lines",
         "type": "scatter",
         "x": [
          "2023-03-27T00:00:00",
          "2023-04-16T00:00:00"
         ],
         "xaxis": "x",
         "y": [
          "INJUSDT",
          "INJUSDT"
         ],
         "yaxis": "y"
        },
        {
         "mode": "markers+lines",
         "type": "scatter",
         "x": [
          "2023-10-12T00:00:00",
          "2023-11-10T00:00:00"
         ],
         "xaxis": "x",
         "y": [
          "INJUSDT",
          "INJUSDT"
         ],
         "yaxis": "y"
        },
        {
         "mode": "markers+lines",
         "type": "scatter",
         "x": [
          "2023-11-28T00:00:00",
          "2023-12-25T00:00:00"
         ],
         "xaxis": "x",
         "y": [
          "INJUSDT",
          "INJUSDT"
         ],
         "yaxis": "y"
        },
        {
         "mode": "markers+lines",
         "type": "scatter",
         "x": [
          "2018-03-18T00:00:00",
          "2018-05-10T00:00:00"
         ],
         "xaxis": "x",
         "y": [
          "IOSTBTC",
          "IOSTBTC"
         ],
         "yaxis": "y"
        },
        {
         "mode": "markers+lines",
         "type": "scatter",
         "x": [
          "2021-01-05T00:00:00",
          "2021-01-15T00:00:00"
         ],
         "xaxis": "x",
         "y": [
          "IOSTBTC",
          "IOSTBTC"
         ],
         "yaxis": "y"
        },
        {
         "mode": "markers+lines",
         "type": "scatter",
         "x": [
          "2021-02-08T00:00:00",
          "2021-02-23T00:00:00"
         ],
         "xaxis": "x",
         "y": [
          "IOSTBTC",
          "IOSTBTC"
         ],
         "yaxis": "y"
        },
        {
         "mode": "markers+lines",
         "type": "scatter",
         "x": [
          "2021-08-21T00:00:00",
          "2021-09-09T00:00:00"
         ],
         "xaxis": "x",
         "y": [
          "IOSTBTC",
          "IOSTBTC"
         ],
         "yaxis": "y"
        },
        {
         "mode": "markers+lines",
         "type": "scatter",
         "x": [
          "2021-01-02T00:00:00",
          "2021-01-15T00:00:00"
         ],
         "xaxis": "x",
         "y": [
          "IOSTUSDT",
          "IOSTUSDT"
         ],
         "yaxis": "y"
        },
        {
         "mode": "markers+lines",
         "type": "scatter",
         "x": [
          "2021-01-31T00:00:00",
          "2021-02-22T00:00:00"
         ],
         "xaxis": "x",
         "y": [
          "IOSTUSDT",
          "IOSTUSDT"
         ],
         "yaxis": "y"
        },
        {
         "mode": "markers+lines",
         "type": "scatter",
         "x": [
          "2021-08-18T00:00:00",
          "2021-09-09T00:00:00"
         ],
         "xaxis": "x",
         "y": [
          "IOSTUSDT",
          "IOSTUSDT"
         ],
         "yaxis": "y"
        },
        {
         "mode": "markers+lines",
         "type": "scatter",
         "x": [
          "2017-11-05T00:00:00",
          "2017-12-05T00:00:00"
         ],
         "xaxis": "x",
         "y": [
          "IOTABTC",
          "IOTABTC"
         ],
         "yaxis": "y"
        },
        {
         "mode": "markers+lines",
         "type": "scatter",
         "x": [
          "2021-02-04T00:00:00",
          "2021-02-18T00:00:00"
         ],
         "xaxis": "x",
         "y": [
          "IOTABTC",
          "IOTABTC"
         ],
         "yaxis": "y"
        },
        {
         "mode": "markers+lines",
         "type": "scatter",
         "x": [
          "2021-01-27T00:00:00",
          "2021-02-18T00:00:00"
         ],
         "xaxis": "x",
         "y": [
          "IOTAUSDT",
          "IOTAUSDT"
         ],
         "yaxis": "y"
        },
        {
         "mode": "markers+lines",
         "type": "scatter",
         "x": [
          "2021-08-30T00:00:00",
          "2021-09-04T00:00:00"
         ],
         "xaxis": "x",
         "y": [
          "IOTAUSDT",
          "IOTAUSDT"
         ],
         "yaxis": "y"
        },
        {
         "mode": "markers+lines",
         "type": "scatter",
         "x": [
          "2020-05-09T00:00:00",
          "2020-05-24T00:00:00"
         ],
         "xaxis": "x",
         "y": [
          "IOTXBTC",
          "IOTXBTC"
         ],
         "yaxis": "y"
        },
        {
         "mode": "markers+lines",
         "type": "scatter",
         "x": [
          "2021-07-27T00:00:00",
          "2021-08-12T00:00:00"
         ],
         "xaxis": "x",
         "y": [
          "IOTXBTC",
          "IOTXBTC"
         ],
         "yaxis": "y"
        },
        {
         "mode": "markers+lines",
         "type": "scatter",
         "x": [
          "2021-10-27T00:00:00",
          "2021-11-21T00:00:00"
         ],
         "xaxis": "x",
         "y": [
          "IOTXBTC",
          "IOTXBTC"
         ],
         "yaxis": "y"
        },
        {
         "mode": "markers+lines",
         "type": "scatter",
         "x": [
          "2020-05-11T00:00:00",
          "2020-05-29T00:00:00"
         ],
         "xaxis": "x",
         "y": [
          "IOTXUSDT",
          "IOTXUSDT"
         ],
         "yaxis": "y"
        },
        {
         "mode": "markers+lines",
         "type": "scatter",
         "x": [
          "2021-01-13T00:00:00",
          "2021-02-12T00:00:00"
         ],
         "xaxis": "x",
         "y": [
          "IOTXUSDT",
          "IOTXUSDT"
         ],
         "yaxis": "y"
        },
        {
         "mode": "markers+lines",
         "type": "scatter",
         "x": [
          "2021-02-26T00:00:00",
          "2021-03-14T00:00:00"
         ],
         "xaxis": "x",
         "y": [
          "IOTXUSDT",
          "IOTXUSDT"
         ],
         "yaxis": "y"
        },
        {
         "mode": "markers+lines",
         "type": "scatter",
         "x": [
          "2021-07-26T00:00:00",
          "2021-08-12T00:00:00"
         ],
         "xaxis": "x",
         "y": [
          "IOTXUSDT",
          "IOTXUSDT"
         ],
         "yaxis": "y"
        },
        {
         "mode": "markers+lines",
         "type": "scatter",
         "x": [
          "2021-10-27T00:00:00",
          "2021-11-10T00:00:00"
         ],
         "xaxis": "x",
         "y": [
          "IOTXUSDT",
          "IOTXUSDT"
         ],
         "yaxis": "y"
        },
        {
         "mode": "markers+lines",
         "type": "scatter",
         "x": [
          "2023-11-21T00:00:00",
          "2023-12-20T00:00:00"
         ],
         "xaxis": "x",
         "y": [
          "IOTXUSDT",
          "IOTXUSDT"
         ],
         "yaxis": "y"
        },
        {
         "mode": "markers+lines",
         "type": "scatter",
         "x": [
          "2021-03-02T00:00:00",
          "2021-03-18T00:00:00"
         ],
         "xaxis": "x",
         "y": [
          "IRISBTC",
          "IRISBTC"
         ],
         "yaxis": "y"
        },
        {
         "mode": "markers+lines",
         "type": "scatter",
         "x": [
          "2021-01-30T00:00:00",
          "2021-02-16T00:00:00"
         ],
         "xaxis": "x",
         "y": [
          "IRISUSDT",
          "IRISUSDT"
         ],
         "yaxis": "y"
        },
        {
         "mode": "markers+lines",
         "type": "scatter",
         "x": [
          "2021-02-25T00:00:00",
          "2021-03-18T00:00:00"
         ],
         "xaxis": "x",
         "y": [
          "IRISUSDT",
          "IRISUSDT"
         ],
         "yaxis": "y"
        },
        {
         "mode": "markers+lines",
         "type": "scatter",
         "x": [
          "2022-03-08T00:00:00",
          "2022-03-23T00:00:00"
         ],
         "xaxis": "x",
         "y": [
          "JASMYUSDT",
          "JASMYUSDT"
         ],
         "yaxis": "y"
        },
        {
         "mode": "markers+lines",
         "type": "scatter",
         "x": [
          "2023-03-16T00:00:00",
          "2023-04-17T00:00:00"
         ],
         "xaxis": "x",
         "y": [
          "JOEBTC",
          "JOEBTC"
         ],
         "yaxis": "y"
        },
        {
         "mode": "markers+lines",
         "type": "scatter",
         "x": [
          "2023-03-11T00:00:00",
          "2023-04-18T00:00:00"
         ],
         "xaxis": "x",
         "y": [
          "JOEUSDT",
          "JOEUSDT"
         ],
         "yaxis": "y"
        },
        {
         "mode": "markers+lines",
         "type": "scatter",
         "x": [
          "2021-03-12T00:00:00",
          "2021-04-04T00:00:00"
         ],
         "xaxis": "x",
         "y": [
          "JSTBTC",
          "JSTBTC"
         ],
         "yaxis": "y"
        },
        {
         "mode": "markers+lines",
         "type": "scatter",
         "x": [
          "2021-01-27T00:00:00",
          "2021-02-19T00:00:00"
         ],
         "xaxis": "x",
         "y": [
          "JSTUSDT",
          "JSTUSDT"
         ],
         "yaxis": "y"
        },
        {
         "mode": "markers+lines",
         "type": "scatter",
         "x": [
          "2021-03-03T00:00:00",
          "2021-04-15T00:00:00"
         ],
         "xaxis": "x",
         "y": [
          "JSTUSDT",
          "JSTUSDT"
         ],
         "yaxis": "y"
        },
        {
         "mode": "markers+lines",
         "type": "scatter",
         "x": [
          "2020-05-11T00:00:00",
          "2020-07-19T00:00:00"
         ],
         "xaxis": "x",
         "y": [
          "KAVABTC",
          "KAVABTC"
         ],
         "yaxis": "y"
        },
        {
         "mode": "markers+lines",
         "type": "scatter",
         "x": [
          "2020-07-27T00:00:00",
          "2020-08-16T00:00:00"
         ],
         "xaxis": "x",
         "y": [
          "KAVABTC",
          "KAVABTC"
         ],
         "yaxis": "y"
        },
        {
         "mode": "markers+lines",
         "type": "scatter",
         "x": [
          "2020-05-11T00:00:00",
          "2020-06-09T00:00:00"
         ],
         "xaxis": "x",
         "y": [
          "KAVAUSDT",
          "KAVAUSDT"
         ],
         "yaxis": "y"
        },
        {
         "mode": "markers+lines",
         "type": "scatter",
         "x": [
          "2020-06-28T00:00:00",
          "2020-08-16T00:00:00"
         ],
         "xaxis": "x",
         "y": [
          "KAVAUSDT",
          "KAVAUSDT"
         ],
         "yaxis": "y"
        },
        {
         "mode": "markers+lines",
         "type": "scatter",
         "x": [
          "2021-01-27T00:00:00",
          "2021-02-13T00:00:00"
         ],
         "xaxis": "x",
         "y": [
          "KAVAUSDT",
          "KAVAUSDT"
         ],
         "yaxis": "y"
        },
        {
         "mode": "markers+lines",
         "type": "scatter",
         "x": [
          "2023-12-15T00:00:00",
          "2023-12-27T00:00:00"
         ],
         "xaxis": "x",
         "y": [
          "KDABTC",
          "KDABTC"
         ],
         "yaxis": "y"
        },
        {
         "mode": "markers+lines",
         "type": "scatter",
         "x": [
          "2023-12-15T00:00:00",
          "2023-12-27T00:00:00"
         ],
         "xaxis": "x",
         "y": [
          "KDAUSDT",
          "KDAUSDT"
         ],
         "yaxis": "y"
        },
        {
         "mode": "markers+lines",
         "type": "scatter",
         "x": [
          "2020-08-02T00:00:00",
          "2020-08-26T00:00:00"
         ],
         "xaxis": "x",
         "y": [
          "KEYUSDT",
          "KEYUSDT"
         ],
         "yaxis": "y"
        },
        {
         "mode": "markers+lines",
         "type": "scatter",
         "x": [
          "2021-01-21T00:00:00",
          "2021-02-22T00:00:00"
         ],
         "xaxis": "x",
         "y": [
          "KEYUSDT",
          "KEYUSDT"
         ],
         "yaxis": "y"
        },
        {
         "mode": "markers+lines",
         "type": "scatter",
         "x": [
          "2021-03-04T00:00:00",
          "2021-04-04T00:00:00"
         ],
         "xaxis": "x",
         "y": [
          "KEYUSDT",
          "KEYUSDT"
         ],
         "yaxis": "y"
        },
        {
         "mode": "markers+lines",
         "type": "scatter",
         "x": [
          "2023-05-11T00:00:00",
          "2023-06-01T00:00:00"
         ],
         "xaxis": "x",
         "y": [
          "KEYUSDT",
          "KEYUSDT"
         ],
         "yaxis": "y"
        },
        {
         "mode": "markers+lines",
         "type": "scatter",
         "x": [
          "2022-10-20T00:00:00",
          "2022-10-29T00:00:00"
         ],
         "xaxis": "x",
         "y": [
          "KLAYBTC",
          "KLAYBTC"
         ],
         "yaxis": "y"
        },
        {
         "mode": "markers+lines",
         "type": "scatter",
         "x": [
          "2022-10-20T00:00:00",
          "2022-10-29T00:00:00"
         ],
         "xaxis": "x",
         "y": [
          "KLAYUSDT",
          "KLAYUSDT"
         ],
         "yaxis": "y"
        },
        {
         "mode": "markers+lines",
         "type": "scatter",
         "x": [
          "2017-12-10T00:00:00",
          "2017-12-22T00:00:00"
         ],
         "xaxis": "x",
         "y": [
          "KMDBTC",
          "KMDBTC"
         ],
         "yaxis": "y"
        },
        {
         "mode": "markers+lines",
         "type": "scatter",
         "x": [
          "2019-10-26T00:00:00",
          "2019-11-17T00:00:00"
         ],
         "xaxis": "x",
         "y": [
          "KMDBTC",
          "KMDBTC"
         ],
         "yaxis": "y"
        },
        {
         "mode": "markers+lines",
         "type": "scatter",
         "x": [
          "2021-03-14T00:00:00",
          "2021-04-08T00:00:00"
         ],
         "xaxis": "x",
         "y": [
          "KMDBTC",
          "KMDBTC"
         ],
         "yaxis": "y"
        },
        {
         "mode": "markers+lines",
         "type": "scatter",
         "x": [
          "2021-01-29T00:00:00",
          "2021-02-21T00:00:00"
         ],
         "xaxis": "x",
         "y": [
          "KMDUSDT",
          "KMDUSDT"
         ],
         "yaxis": "y"
        },
        {
         "mode": "markers+lines",
         "type": "scatter",
         "x": [
          "2021-03-15T00:00:00",
          "2021-04-08T00:00:00"
         ],
         "xaxis": "x",
         "y": [
          "KMDUSDT",
          "KMDUSDT"
         ],
         "yaxis": "y"
        },
        {
         "mode": "markers+lines",
         "type": "scatter",
         "x": [
          "2017-12-07T00:00:00",
          "2018-01-09T00:00:00"
         ],
         "xaxis": "x",
         "y": [
          "KNCBTC",
          "KNCBTC"
         ],
         "yaxis": "y"
        },
        {
         "mode": "markers+lines",
         "type": "scatter",
         "x": [
          "2019-02-24T00:00:00",
          "2019-03-09T00:00:00"
         ],
         "xaxis": "x",
         "y": [
          "KNCBTC",
          "KNCBTC"
         ],
         "yaxis": "y"
        },
        {
         "mode": "markers+lines",
         "type": "scatter",
         "x": [
          "2020-02-09T00:00:00",
          "2020-03-11T00:00:00"
         ],
         "xaxis": "x",
         "y": [
          "KNCBTC",
          "KNCBTC"
         ],
         "yaxis": "y"
        },
        {
         "mode": "markers+lines",
         "type": "scatter",
         "x": [
          "2022-04-05T00:00:00",
          "2022-04-27T00:00:00"
         ],
         "xaxis": "x",
         "y": [
          "KNCBTC",
          "KNCBTC"
         ],
         "yaxis": "y"
        },
        {
         "mode": "markers+lines",
         "type": "scatter",
         "x": [
          "2021-12-14T00:00:00",
          "2022-01-16T00:00:00"
         ],
         "xaxis": "x",
         "y": [
          "KP3RUSDT",
          "KP3RUSDT"
         ],
         "yaxis": "y"
        },
        {
         "mode": "markers+lines",
         "type": "scatter",
         "x": [
          "2020-12-23T00:00:00",
          "2021-03-29T00:00:00"
         ],
         "xaxis": "x",
         "y": [
          "KSMUSDT",
          "KSMUSDT"
         ],
         "yaxis": "y"
        },
        {
         "mode": "markers+lines",
         "type": "scatter",
         "x": [
          "2023-12-15T00:00:00",
          "2023-12-25T00:00:00"
         ],
         "xaxis": "x",
         "y": [
          "KSMUSDT",
          "KSMUSDT"
         ],
         "yaxis": "y"
        },
        {
         "mode": "markers+lines",
         "type": "scatter",
         "x": [
          "2022-08-09T00:00:00",
          "2022-09-08T00:00:00"
         ],
         "xaxis": "x",
         "y": [
          "LAZIOBTC",
          "LAZIOBTC"
         ],
         "yaxis": "y"
        },
        {
         "mode": "markers+lines",
         "type": "scatter",
         "x": [
          "2022-10-29T00:00:00",
          "2022-11-15T00:00:00"
         ],
         "xaxis": "x",
         "y": [
          "LAZIOBTC",
          "LAZIOBTC"
         ],
         "yaxis": "y"
        },
        {
         "mode": "markers+lines",
         "type": "scatter",
         "x": [
          "2022-08-09T00:00:00",
          "2022-09-02T00:00:00"
         ],
         "xaxis": "x",
         "y": [
          "LAZIOUSDT",
          "LAZIOUSDT"
         ],
         "yaxis": "y"
        },
        {
         "mode": "markers+lines",
         "type": "scatter",
         "x": [
          "2022-10-22T00:00:00",
          "2022-11-15T00:00:00"
         ],
         "xaxis": "x",
         "y": [
          "LAZIOUSDT",
          "LAZIOUSDT"
         ],
         "yaxis": "y"
        },
        {
         "mode": "markers+lines",
         "type": "scatter",
         "x": [
          "2022-06-30T00:00:00",
          "2022-08-13T00:00:00"
         ],
         "xaxis": "x",
         "y": [
          "LDOBTC",
          "LDOBTC"
         ],
         "yaxis": "y"
        },
        {
         "mode": "markers+lines",
         "type": "scatter",
         "x": [
          "2022-12-23T00:00:00",
          "2023-01-08T00:00:00"
         ],
         "xaxis": "x",
         "y": [
          "LDOBTC",
          "LDOBTC"
         ],
         "yaxis": "y"
        },
        {
         "mode": "markers+lines",
         "type": "scatter",
         "x": [
          "2022-06-30T00:00:00",
          "2022-08-13T00:00:00"
         ],
         "xaxis": "x",
         "y": [
          "LDOUSDT",
          "LDOUSDT"
         ],
         "yaxis": "y"
        },
        {
         "mode": "markers+lines",
         "type": "scatter",
         "x": [
          "2022-12-23T00:00:00",
          "2023-02-27T00:00:00"
         ],
         "xaxis": "x",
         "y": [
          "LDOUSDT",
          "LDOUSDT"
         ],
         "yaxis": "y"
        },
        {
         "mode": "markers+lines",
         "type": "scatter",
         "x": [
          "2022-11-09T00:00:00",
          "2022-12-14T00:00:00"
         ],
         "xaxis": "x",
         "y": [
          "LEVERUSDT",
          "LEVERUSDT"
         ],
         "yaxis": "y"
        },
        {
         "mode": "markers+lines",
         "type": "scatter",
         "x": [
          "2023-09-12T00:00:00",
          "2023-10-02T00:00:00"
         ],
         "xaxis": "x",
         "y": [
          "LEVERUSDT",
          "LEVERUSDT"
         ],
         "yaxis": "y"
        },
        {
         "mode": "markers+lines",
         "type": "scatter",
         "x": [
          "2023-05-15T00:00:00",
          "2023-06-01T00:00:00"
         ],
         "xaxis": "x",
         "y": [
          "LINABTC",
          "LINABTC"
         ],
         "yaxis": "y"
        },
        {
         "mode": "markers+lines",
         "type": "scatter",
         "x": [
          "2021-07-20T00:00:00",
          "2021-08-19T00:00:00"
         ],
         "xaxis": "x",
         "y": [
          "LINAUSDT",
          "LINAUSDT"
         ],
         "yaxis": "y"
        },
        {
         "mode": "markers+lines",
         "type": "scatter",
         "x": [
          "2023-05-14T00:00:00",
          "2023-06-01T00:00:00"
         ],
         "xaxis": "x",
         "y": [
          "LINAUSDT",
          "LINAUSDT"
         ],
         "yaxis": "y"
        },
        {
         "mode": "markers+lines",
         "type": "scatter",
         "x": [
          "2017-12-12T00:00:00",
          "2018-01-20T00:00:00"
         ],
         "xaxis": "x",
         "y": [
          "LINKBTC",
          "LINKBTC"
         ],
         "yaxis": "y"
        },
        {
         "mode": "markers+lines",
         "type": "scatter",
         "x": [
          "2019-06-03T00:00:00",
          "2019-07-02T00:00:00"
         ],
         "xaxis": "x",
         "y": [
          "LINKBTC",
          "LINKBTC"
         ],
         "yaxis": "y"
        },
        {
         "mode": "markers+lines",
         "type": "scatter",
         "x": [
          "2020-07-29T00:00:00",
          "2020-08-15T00:00:00"
         ],
         "xaxis": "x",
         "y": [
          "LINKBTC",
          "LINKBTC"
         ],
         "yaxis": "y"
        },
        {
         "mode": "markers+lines",
         "type": "scatter",
         "x": [
          "2019-04-29T00:00:00",
          "2019-05-23T00:00:00"
         ],
         "xaxis": "x",
         "y": [
          "LINKUSDT",
          "LINKUSDT"
         ],
         "yaxis": "y"
        },
        {
         "mode": "markers+lines",
         "type": "scatter",
         "x": [
          "2019-06-04T00:00:00",
          "2019-07-02T00:00:00"
         ],
         "xaxis": "x",
         "y": [
          "LINKUSDT",
          "LINKUSDT"
         ],
         "yaxis": "y"
        },
        {
         "mode": "markers+lines",
         "type": "scatter",
         "x": [
          "2020-07-29T00:00:00",
          "2020-08-15T00:00:00"
         ],
         "xaxis": "x",
         "y": [
          "LINKUSDT",
          "LINKUSDT"
         ],
         "yaxis": "y"
        },
        {
         "mode": "markers+lines",
         "type": "scatter",
         "x": [
          "2020-12-23T00:00:00",
          "2021-02-19T00:00:00"
         ],
         "xaxis": "x",
         "y": [
          "LINKUSDT",
          "LINKUSDT"
         ],
         "yaxis": "y"
        },
        {
         "mode": "markers+lines",
         "type": "scatter",
         "x": [
          "2023-10-12T00:00:00",
          "2023-11-11T00:00:00"
         ],
         "xaxis": "x",
         "y": [
          "LINKUSDT",
          "LINKUSDT"
         ],
         "yaxis": "y"
        },
        {
         "mode": "markers+lines",
         "type": "scatter",
         "x": [
          "2022-05-27T00:00:00",
          "2022-06-22T00:00:00"
         ],
         "xaxis": "x",
         "y": [
          "LITBTC",
          "LITBTC"
         ],
         "yaxis": "y"
        },
        {
         "mode": "markers+lines",
         "type": "scatter",
         "x": [
          "2022-05-27T00:00:00",
          "2022-06-22T00:00:00"
         ],
         "xaxis": "x",
         "y": [
          "LITUSDT",
          "LITUSDT"
         ],
         "yaxis": "y"
        },
        {
         "mode": "markers+lines",
         "type": "scatter",
         "x": [
          "2022-03-09T00:00:00",
          "2022-03-30T00:00:00"
         ],
         "xaxis": "x",
         "y": [
          "LOKABTC",
          "LOKABTC"
         ],
         "yaxis": "y"
        },
        {
         "mode": "markers+lines",
         "type": "scatter",
         "x": [
          "2022-03-10T00:00:00",
          "2022-03-30T00:00:00"
         ],
         "xaxis": "x",
         "y": [
          "LOKAUSDT",
          "LOKAUSDT"
         ],
         "yaxis": "y"
        },
        {
         "mode": "markers+lines",
         "type": "scatter",
         "x": [
          "2021-10-27T00:00:00",
          "2021-11-10T00:00:00"
         ],
         "xaxis": "x",
         "y": [
          "LPTBTC",
          "LPTBTC"
         ],
         "yaxis": "y"
        },
        {
         "mode": "markers+lines",
         "type": "scatter",
         "x": [
          "2023-08-04T00:00:00",
          "2023-09-04T00:00:00"
         ],
         "xaxis": "x",
         "y": [
          "LPTBTC",
          "LPTBTC"
         ],
         "yaxis": "y"
        },
        {
         "mode": "markers+lines",
         "type": "scatter",
         "x": [
          "2024-02-14T00:00:00",
          "2024-02-17T00:00:00"
         ],
         "xaxis": "x",
         "y": [
          "LPTBTC",
          "LPTBTC"
         ],
         "yaxis": "y"
        },
        {
         "mode": "markers+lines",
         "type": "scatter",
         "x": [
          "2021-10-27T00:00:00",
          "2021-11-10T00:00:00"
         ],
         "xaxis": "x",
         "y": [
          "LPTUSDT",
          "LPTUSDT"
         ],
         "yaxis": "y"
        },
        {
         "mode": "markers+lines",
         "type": "scatter",
         "x": [
          "2023-08-04T00:00:00",
          "2023-08-27T00:00:00"
         ],
         "xaxis": "x",
         "y": [
          "LPTUSDT",
          "LPTUSDT"
         ],
         "yaxis": "y"
        },
        {
         "mode": "markers+lines",
         "type": "scatter",
         "x": [
          "2017-12-07T00:00:00",
          "2018-01-09T00:00:00"
         ],
         "xaxis": "x",
         "y": [
          "LRCBTC",
          "LRCBTC"
         ],
         "yaxis": "y"
        },
        {
         "mode": "markers+lines",
         "type": "scatter",
         "x": [
          "2018-04-02T00:00:00",
          "2018-04-29T00:00:00"
         ],
         "xaxis": "x",
         "y": [
          "LRCBTC",
          "LRCBTC"
         ],
         "yaxis": "y"
        },
        {
         "mode": "markers+lines",
         "type": "scatter",
         "x": [
          "2019-01-10T00:00:00",
          "2019-01-22T00:00:00"
         ],
         "xaxis": "x",
         "y": [
          "LRCBTC",
          "LRCBTC"
         ],
         "yaxis": "y"
        },
        {
         "mode": "markers+lines",
         "type": "scatter",
         "x": [
          "2020-05-20T00:00:00",
          "2020-06-10T00:00:00"
         ],
         "xaxis": "x",
         "y": [
          "LRCBTC",
          "LRCBTC"
         ],
         "yaxis": "y"
        },
        {
         "mode": "markers+lines",
         "type": "scatter",
         "x": [
          "2021-01-02T00:00:00",
          "2021-01-05T00:00:00"
         ],
         "xaxis": "x",
         "y": [
          "LRCBTC",
          "LRCBTC"
         ],
         "yaxis": "y"
        },
        {
         "mode": "markers+lines",
         "type": "scatter",
         "x": [
          "2021-10-27T00:00:00",
          "2021-11-24T00:00:00"
         ],
         "xaxis": "x",
         "y": [
          "LRCBTC",
          "LRCBTC"
         ],
         "yaxis": "y"
        },
        {
         "mode": "markers+lines",
         "type": "scatter",
         "x": [
          "2020-12-23T00:00:00",
          "2021-01-05T00:00:00"
         ],
         "xaxis": "x",
         "y": [
          "LRCUSDT",
          "LRCUSDT"
         ],
         "yaxis": "y"
        },
        {
         "mode": "markers+lines",
         "type": "scatter",
         "x": [
          "2021-01-27T00:00:00",
          "2021-02-13T00:00:00"
         ],
         "xaxis": "x",
         "y": [
          "LRCUSDT",
          "LRCUSDT"
         ],
         "yaxis": "y"
        },
        {
         "mode": "markers+lines",
         "type": "scatter",
         "x": [
          "2021-10-27T00:00:00",
          "2021-11-24T00:00:00"
         ],
         "xaxis": "x",
         "y": [
          "LRCUSDT",
          "LRCUSDT"
         ],
         "yaxis": "y"
        },
        {
         "mode": "markers+lines",
         "type": "scatter",
         "x": [
          "2020-01-21T00:00:00",
          "2020-02-10T00:00:00"
         ],
         "xaxis": "x",
         "y": [
          "LSKBTC",
          "LSKBTC"
         ],
         "yaxis": "y"
        },
        {
         "mode": "markers+lines",
         "type": "scatter",
         "x": [
          "2021-02-08T00:00:00",
          "2021-02-14T00:00:00"
         ],
         "xaxis": "x",
         "y": [
          "LSKBTC",
          "LSKBTC"
         ],
         "yaxis": "y"
        },
        {
         "mode": "markers+lines",
         "type": "scatter",
         "x": [
          "2021-04-24T00:00:00",
          "2021-05-11T00:00:00"
         ],
         "xaxis": "x",
         "y": [
          "LSKBTC",
          "LSKBTC"
         ],
         "yaxis": "y"
        },
        {
         "mode": "markers+lines",
         "type": "scatter",
         "x": [
          "2021-01-27T00:00:00",
          "2021-02-19T00:00:00"
         ],
         "xaxis": "x",
         "y": [
          "LSKUSDT",
          "LSKUSDT"
         ],
         "yaxis": "y"
        },
        {
         "mode": "markers+lines",
         "type": "scatter",
         "x": [
          "2021-04-24T00:00:00",
          "2021-05-11T00:00:00"
         ],
         "xaxis": "x",
         "y": [
          "LSKUSDT",
          "LSKUSDT"
         ],
         "yaxis": "y"
        },
        {
         "mode": "markers+lines",
         "type": "scatter",
         "x": [
          "2017-12-07T00:00:00",
          "2017-12-19T00:00:00"
         ],
         "xaxis": "x",
         "y": [
          "LTCBTC",
          "LTCBTC"
         ],
         "yaxis": "y"
        },
        {
         "mode": "markers+lines",
         "type": "scatter",
         "x": [
          "2020-12-11T00:00:00",
          "2021-01-09T00:00:00"
         ],
         "xaxis": "x",
         "y": [
          "LTCUSDT",
          "LTCUSDT"
         ],
         "yaxis": "y"
        },
        {
         "mode": "markers+lines",
         "type": "scatter",
         "x": [
          "2021-10-29T00:00:00",
          "2021-11-16T00:00:00"
         ],
         "xaxis": "x",
         "y": [
          "LTOBTC",
          "LTOBTC"
         ],
         "yaxis": "y"
        },
        {
         "mode": "markers+lines",
         "type": "scatter",
         "x": [
          "2020-11-12T00:00:00",
          "2020-11-29T00:00:00"
         ],
         "xaxis": "x",
         "y": [
          "LTOUSDT",
          "LTOUSDT"
         ],
         "yaxis": "y"
        },
        {
         "mode": "markers+lines",
         "type": "scatter",
         "x": [
          "2020-12-23T00:00:00",
          "2021-01-18T00:00:00"
         ],
         "xaxis": "x",
         "y": [
          "LTOUSDT",
          "LTOUSDT"
         ],
         "yaxis": "y"
        },
        {
         "mode": "markers+lines",
         "type": "scatter",
         "x": [
          "2021-01-31T00:00:00",
          "2021-02-13T00:00:00"
         ],
         "xaxis": "x",
         "y": [
          "LTOUSDT",
          "LTOUSDT"
         ],
         "yaxis": "y"
        },
        {
         "mode": "markers+lines",
         "type": "scatter",
         "x": [
          "2021-02-25T00:00:00",
          "2021-04-06T00:00:00"
         ],
         "xaxis": "x",
         "y": [
          "LTOUSDT",
          "LTOUSDT"
         ],
         "yaxis": "y"
        },
        {
         "mode": "markers+lines",
         "type": "scatter",
         "x": [
          "2021-07-20T00:00:00",
          "2021-08-13T00:00:00"
         ],
         "xaxis": "x",
         "y": [
          "LTOUSDT",
          "LTOUSDT"
         ],
         "yaxis": "y"
        },
        {
         "mode": "markers+lines",
         "type": "scatter",
         "x": [
          "2021-10-29T00:00:00",
          "2021-11-14T00:00:00"
         ],
         "xaxis": "x",
         "y": [
          "LTOUSDT",
          "LTOUSDT"
         ],
         "yaxis": "y"
        },
        {
         "mode": "markers+lines",
         "type": "scatter",
         "x": [
          "2021-01-12T00:00:00",
          "2021-03-21T00:00:00"
         ],
         "xaxis": "x",
         "y": [
          "LUNAUSDT",
          "LUNAUSDT"
         ],
         "yaxis": "y"
        },
        {
         "mode": "markers+lines",
         "type": "scatter",
         "x": [
          "2021-07-20T00:00:00",
          "2021-09-10T00:00:00"
         ],
         "xaxis": "x",
         "y": [
          "LUNAUSDT",
          "LUNAUSDT"
         ],
         "yaxis": "y"
        },
        {
         "mode": "markers+lines",
         "type": "scatter",
         "x": [
          "2022-02-20T00:00:00",
          "2022-03-10T00:00:00"
         ],
         "xaxis": "x",
         "y": [
          "LUNAUSDT",
          "LUNAUSDT"
         ],
         "yaxis": "y"
        },
        {
         "mode": "markers+lines",
         "type": "scatter",
         "x": [
          "2022-08-28T00:00:00",
          "2022-09-10T00:00:00"
         ],
         "xaxis": "x",
         "y": [
          "LUNAUSDT",
          "LUNAUSDT"
         ],
         "yaxis": "y"
        },
        {
         "mode": "markers+lines",
         "type": "scatter",
         "x": [
          "2023-11-21T00:00:00",
          "2023-12-04T00:00:00"
         ],
         "xaxis": "x",
         "y": [
          "LUNCUSDT",
          "LUNCUSDT"
         ],
         "yaxis": "y"
        },
        {
         "mode": "markers+lines",
         "type": "scatter",
         "x": [
          "2017-12-27T00:00:00",
          "2018-01-09T00:00:00"
         ],
         "xaxis": "x",
         "y": [
          "MANABTC",
          "MANABTC"
         ],
         "yaxis": "y"
        },
        {
         "mode": "markers+lines",
         "type": "scatter",
         "x": [
          "2020-07-27T00:00:00",
          "2020-08-08T00:00:00"
         ],
         "xaxis": "x",
         "y": [
          "MANABTC",
          "MANABTC"
         ],
         "yaxis": "y"
        },
        {
         "mode": "markers+lines",
         "type": "scatter",
         "x": [
          "2021-01-11T00:00:00",
          "2021-02-13T00:00:00"
         ],
         "xaxis": "x",
         "y": [
          "MANABTC",
          "MANABTC"
         ],
         "yaxis": "y"
        },
        {
         "mode": "markers+lines",
         "type": "scatter",
         "x": [
          "2021-02-23T00:00:00",
          "2021-03-28T00:00:00"
         ],
         "xaxis": "x",
         "y": [
          "MANABTC",
          "MANABTC"
         ],
         "yaxis": "y"
        },
        {
         "mode": "markers+lines",
         "type": "scatter",
         "x": [
          "2021-10-19T00:00:00",
          "2021-10-30T00:00:00"
         ],
         "xaxis": "x",
         "y": [
          "MANABTC",
          "MANABTC"
         ],
         "yaxis": "y"
        },
        {
         "mode": "markers+lines",
         "type": "scatter",
         "x": [
          "2021-11-09T00:00:00",
          "2021-11-24T00:00:00"
         ],
         "xaxis": "x",
         "y": [
          "MANABTC",
          "MANABTC"
         ],
         "yaxis": "y"
        },
        {
         "mode": "markers+lines",
         "type": "scatter",
         "x": [
          "2020-12-31T00:00:00",
          "2021-02-13T00:00:00"
         ],
         "xaxis": "x",
         "y": [
          "MANAUSDT",
          "MANAUSDT"
         ],
         "yaxis": "y"
        },
        {
         "mode": "markers+lines",
         "type": "scatter",
         "x": [
          "2021-02-23T00:00:00",
          "2021-03-28T00:00:00"
         ],
         "xaxis": "x",
         "y": [
          "MANAUSDT",
          "MANAUSDT"
         ],
         "yaxis": "y"
        },
        {
         "mode": "markers+lines",
         "type": "scatter",
         "x": [
          "2021-10-18T00:00:00",
          "2021-10-30T00:00:00"
         ],
         "xaxis": "x",
         "y": [
          "MANAUSDT",
          "MANAUSDT"
         ],
         "yaxis": "y"
        },
        {
         "mode": "markers+lines",
         "type": "scatter",
         "x": [
          "2021-11-10T00:00:00",
          "2021-11-25T00:00:00"
         ],
         "xaxis": "x",
         "y": [
          "MANAUSDT",
          "MANAUSDT"
         ],
         "yaxis": "y"
        },
        {
         "mode": "markers+lines",
         "type": "scatter",
         "x": [
          "2022-12-30T00:00:00",
          "2023-02-07T00:00:00"
         ],
         "xaxis": "x",
         "y": [
          "MANAUSDT",
          "MANAUSDT"
         ],
         "yaxis": "y"
        },
        {
         "mode": "markers+lines",
         "type": "scatter",
         "x": [
          "2021-07-20T00:00:00",
          "2021-08-07T00:00:00"
         ],
         "xaxis": "x",
         "y": [
          "MASKUSDT",
          "MASKUSDT"
         ],
         "yaxis": "y"
        },
        {
         "mode": "markers+lines",
         "type": "scatter",
         "x": [
          "2021-08-18T00:00:00",
          "2021-08-25T00:00:00"
         ],
         "xaxis": "x",
         "y": [
          "MASKUSDT",
          "MASKUSDT"
         ],
         "yaxis": "y"
        },
        {
         "mode": "markers+lines",
         "type": "scatter",
         "x": [
          "2022-10-20T00:00:00",
          "2022-11-03T00:00:00"
         ],
         "xaxis": "x",
         "y": [
          "MASKUSDT",
          "MASKUSDT"
         ],
         "yaxis": "y"
        },
        {
         "mode": "markers+lines",
         "type": "scatter",
         "x": [
          "2023-03-11T00:00:00",
          "2023-03-29T00:00:00"
         ],
         "xaxis": "x",
         "y": [
          "MASKUSDT",
          "MASKUSDT"
         ],
         "yaxis": "y"
        },
        {
         "mode": "markers+lines",
         "type": "scatter",
         "x": [
          "2019-11-15T00:00:00",
          "2019-12-08T00:00:00"
         ],
         "xaxis": "x",
         "y": [
          "MATICBTC",
          "MATICBTC"
         ],
         "yaxis": "y"
        },
        {
         "mode": "markers+lines",
         "type": "scatter",
         "x": [
          "2021-01-12T00:00:00",
          "2021-03-12T00:00:00"
         ],
         "xaxis": "x",
         "y": [
          "MATICBTC",
          "MATICBTC"
         ],
         "yaxis": "y"
        },
        {
         "mode": "markers+lines",
         "type": "scatter",
         "x": [
          "2021-04-19T00:00:00",
          "2021-05-18T00:00:00"
         ],
         "xaxis": "x",
         "y": [
          "MATICBTC",
          "MATICBTC"
         ],
         "yaxis": "y"
        },
        {
         "mode": "markers+lines",
         "type": "scatter",
         "x": [
          "2019-11-15T00:00:00",
          "2019-12-08T00:00:00"
         ],
         "xaxis": "x",
         "y": [
          "MATICUSDT",
          "MATICUSDT"
         ],
         "yaxis": "y"
        },
        {
         "mode": "markers+lines",
         "type": "scatter",
         "x": [
          "2020-12-23T00:00:00",
          "2021-03-13T00:00:00"
         ],
         "xaxis": "x",
         "y": [
          "MATICUSDT",
          "MATICUSDT"
         ],
         "yaxis": "y"
        },
        {
         "mode": "markers+lines",
         "type": "scatter",
         "x": [
          "2021-04-19T00:00:00",
          "2021-05-18T00:00:00"
         ],
         "xaxis": "x",
         "y": [
          "MATICUSDT",
          "MATICUSDT"
         ],
         "yaxis": "y"
        },
        {
         "mode": "markers+lines",
         "type": "scatter",
         "x": [
          "2022-07-01T00:00:00",
          "2022-07-18T00:00:00"
         ],
         "xaxis": "x",
         "y": [
          "MATICUSDT",
          "MATICUSDT"
         ],
         "yaxis": "y"
        },
        {
         "mode": "markers+lines",
         "type": "scatter",
         "x": [
          "2020-05-11T00:00:00",
          "2020-05-26T00:00:00"
         ],
         "xaxis": "x",
         "y": [
          "MBLUSDT",
          "MBLUSDT"
         ],
         "yaxis": "y"
        },
        {
         "mode": "markers+lines",
         "type": "scatter",
         "x": [
          "2021-01-31T00:00:00",
          "2021-02-21T00:00:00"
         ],
         "xaxis": "x",
         "y": [
          "MBLUSDT",
          "MBLUSDT"
         ],
         "yaxis": "y"
        },
        {
         "mode": "markers+lines",
         "type": "scatter",
         "x": [
          "2021-02-25T00:00:00",
          "2021-04-02T00:00:00"
         ],
         "xaxis": "x",
         "y": [
          "MBLUSDT",
          "MBLUSDT"
         ],
         "yaxis": "y"
        },
        {
         "mode": "markers+lines",
         "type": "scatter",
         "x": [
          "2021-06-22T00:00:00",
          "2021-07-06T00:00:00"
         ],
         "xaxis": "x",
         "y": [
          "MBLUSDT",
          "MBLUSDT"
         ],
         "yaxis": "y"
        },
        {
         "mode": "markers+lines",
         "type": "scatter",
         "x": [
          "2022-02-21T00:00:00",
          "2022-03-21T00:00:00"
         ],
         "xaxis": "x",
         "y": [
          "MBLUSDT",
          "MBLUSDT"
         ],
         "yaxis": "y"
        },
        {
         "mode": "markers+lines",
         "type": "scatter",
         "x": [
          "2022-07-01T00:00:00",
          "2022-07-19T00:00:00"
         ],
         "xaxis": "x",
         "y": [
          "MBLUSDT",
          "MBLUSDT"
         ],
         "yaxis": "y"
        },
        {
         "mode": "markers+lines",
         "type": "scatter",
         "x": [
          "2021-11-09T00:00:00",
          "2021-11-30T00:00:00"
         ],
         "xaxis": "x",
         "y": [
          "MBOXBTC",
          "MBOXBTC"
         ],
         "yaxis": "y"
        },
        {
         "mode": "markers+lines",
         "type": "scatter",
         "x": [
          "2021-11-10T00:00:00",
          "2021-11-30T00:00:00"
         ],
         "xaxis": "x",
         "y": [
          "MBOXUSDT",
          "MBOXUSDT"
         ],
         "yaxis": "y"
        },
        {
         "mode": "markers+lines",
         "type": "scatter",
         "x": [
          "2021-11-10T00:00:00",
          "2021-12-25T00:00:00"
         ],
         "xaxis": "x",
         "y": [
          "MDTBTC",
          "MDTBTC"
         ],
         "yaxis": "y"
        },
        {
         "mode": "markers+lines",
         "type": "scatter",
         "x": [
          "2023-01-22T00:00:00",
          "2023-02-07T00:00:00"
         ],
         "xaxis": "x",
         "y": [
          "MDTBTC",
          "MDTBTC"
         ],
         "yaxis": "y"
        },
        {
         "mode": "markers+lines",
         "type": "scatter",
         "x": [
          "2023-11-21T00:00:00",
          "2023-11-28T00:00:00"
         ],
         "xaxis": "x",
         "y": [
          "MDTBTC",
          "MDTBTC"
         ],
         "yaxis": "y"
        },
        {
         "mode": "markers+lines",
         "type": "scatter",
         "x": [
          "2021-01-27T00:00:00",
          "2021-02-21T00:00:00"
         ],
         "xaxis": "x",
         "y": [
          "MDTUSDT",
          "MDTUSDT"
         ],
         "yaxis": "y"
        },
        {
         "mode": "markers+lines",
         "type": "scatter",
         "x": [
          "2021-02-26T00:00:00",
          "2021-03-17T00:00:00"
         ],
         "xaxis": "x",
         "y": [
          "MDTUSDT",
          "MDTUSDT"
         ],
         "yaxis": "y"
        },
        {
         "mode": "markers+lines",
         "type": "scatter",
         "x": [
          "2021-08-03T00:00:00",
          "2021-08-29T00:00:00"
         ],
         "xaxis": "x",
         "y": [
          "MDTUSDT",
          "MDTUSDT"
         ],
         "yaxis": "y"
        },
        {
         "mode": "markers+lines",
         "type": "scatter",
         "x": [
          "2021-11-27T00:00:00",
          "2021-12-25T00:00:00"
         ],
         "xaxis": "x",
         "y": [
          "MDTUSDT",
          "MDTUSDT"
         ],
         "yaxis": "y"
        },
        {
         "mode": "markers+lines",
         "type": "scatter",
         "x": [
          "2023-01-24T00:00:00",
          "2023-02-07T00:00:00"
         ],
         "xaxis": "x",
         "y": [
          "MDTUSDT",
          "MDTUSDT"
         ],
         "yaxis": "y"
        },
        {
         "mode": "markers+lines",
         "type": "scatter",
         "x": [
          "2023-11-21T00:00:00",
          "2023-11-28T00:00:00"
         ],
         "xaxis": "x",
         "y": [
          "MDTUSDT",
          "MDTUSDT"
         ],
         "yaxis": "y"
        },
        {
         "mode": "markers+lines",
         "type": "scatter",
         "x": [
          "2022-10-05T00:00:00",
          "2022-10-17T00:00:00"
         ],
         "xaxis": "x",
         "y": [
          "MDXBTC",
          "MDXBTC"
         ],
         "yaxis": "y"
        },
        {
         "mode": "markers+lines",
         "type": "scatter",
         "x": [
          "2022-10-02T00:00:00",
          "2022-10-17T00:00:00"
         ],
         "xaxis": "x",
         "y": [
          "MDXUSDT",
          "MDXUSDT"
         ],
         "yaxis": "y"
        },
        {
         "mode": "markers+lines",
         "type": "scatter",
         "x": [
          "2023-01-24T00:00:00",
          "2023-02-11T00:00:00"
         ],
         "xaxis": "x",
         "y": [
          "MINABTC",
          "MINABTC"
         ],
         "yaxis": "y"
        },
        {
         "mode": "markers+lines",
         "type": "scatter",
         "x": [
          "2022-03-13T00:00:00",
          "2022-04-07T00:00:00"
         ],
         "xaxis": "x",
         "y": [
          "MINAUSDT",
          "MINAUSDT"
         ],
         "yaxis": "y"
        },
        {
         "mode": "markers+lines",
         "type": "scatter",
         "x": [
          "2023-01-18T00:00:00",
          "2023-02-15T00:00:00"
         ],
         "xaxis": "x",
         "y": [
          "MINAUSDT",
          "MINAUSDT"
         ],
         "yaxis": "y"
        },
        {
         "mode": "markers+lines",
         "type": "scatter",
         "x": [
          "2023-12-18T00:00:00",
          "2024-01-01T00:00:00"
         ],
         "xaxis": "x",
         "y": [
          "MINAUSDT",
          "MINAUSDT"
         ],
         "yaxis": "y"
        },
        {
         "mode": "markers+lines",
         "type": "scatter",
         "x": [
          "2021-01-02T00:00:00",
          "2021-02-05T00:00:00"
         ],
         "xaxis": "x",
         "y": [
          "MKRBTC",
          "MKRBTC"
         ],
         "yaxis": "y"
        },
        {
         "mode": "markers+lines",
         "type": "scatter",
         "x": [
          "2021-04-10T00:00:00",
          "2021-05-18T00:00:00"
         ],
         "xaxis": "x",
         "y": [
          "MKRBTC",
          "MKRBTC"
         ],
         "yaxis": "y"
        },
        {
         "mode": "markers+lines",
         "type": "scatter",
         "x": [
          "2020-12-23T00:00:00",
          "2021-01-14T00:00:00"
         ],
         "xaxis": "x",
         "y": [
          "MKRUSDT",
          "MKRUSDT"
         ],
         "yaxis": "y"
        },
        {
         "mode": "markers+lines",
         "type": "scatter",
         "x": [
          "2021-01-21T00:00:00",
          "2021-02-12T00:00:00"
         ],
         "xaxis": "x",
         "y": [
          "MKRUSDT",
          "MKRUSDT"
         ],
         "yaxis": "y"
        },
        {
         "mode": "markers+lines",
         "type": "scatter",
         "x": [
          "2021-04-07T00:00:00",
          "2021-05-03T00:00:00"
         ],
         "xaxis": "x",
         "y": [
          "MKRUSDT",
          "MKRUSDT"
         ],
         "yaxis": "y"
        },
        {
         "mode": "markers+lines",
         "type": "scatter",
         "x": [
          "2022-11-14T00:00:00",
          "2022-11-29T00:00:00"
         ],
         "xaxis": "x",
         "y": [
          "MOBBTC",
          "MOBBTC"
         ],
         "yaxis": "y"
        },
        {
         "mode": "markers+lines",
         "type": "scatter",
         "x": [
          "2022-11-21T00:00:00",
          "2022-11-29T00:00:00"
         ],
         "xaxis": "x",
         "y": [
          "MOBUSDT",
          "MOBUSDT"
         ],
         "yaxis": "y"
        },
        {
         "mode": "markers+lines",
         "type": "scatter",
         "x": [
          "2023-12-19T00:00:00",
          "2023-12-24T00:00:00"
         ],
         "xaxis": "x",
         "y": [
          "MOVRBTC",
          "MOVRBTC"
         ],
         "yaxis": "y"
        },
        {
         "mode": "markers+lines",
         "type": "scatter",
         "x": [
          "2023-12-19T00:00:00",
          "2023-12-24T00:00:00"
         ],
         "xaxis": "x",
         "y": [
          "MOVRUSDT",
          "MOVRUSDT"
         ],
         "yaxis": "y"
        },
        {
         "mode": "markers+lines",
         "type": "scatter",
         "x": [
          "2017-12-10T00:00:00",
          "2018-01-04T00:00:00"
         ],
         "xaxis": "x",
         "y": [
          "MTLBTC",
          "MTLBTC"
         ],
         "yaxis": "y"
        },
        {
         "mode": "markers+lines",
         "type": "scatter",
         "x": [
          "2019-09-24T00:00:00",
          "2019-10-03T00:00:00"
         ],
         "xaxis": "x",
         "y": [
          "MTLBTC",
          "MTLBTC"
         ],
         "yaxis": "y"
        },
        {
         "mode": "markers+lines",
         "type": "scatter",
         "x": [
          "2020-03-16T00:00:00",
          "2020-03-29T00:00:00"
         ],
         "xaxis": "x",
         "y": [
          "MTLBTC",
          "MTLBTC"
         ],
         "yaxis": "y"
        },
        {
         "mode": "markers+lines",
         "type": "scatter",
         "x": [
          "2021-03-11T00:00:00",
          "2021-04-03T00:00:00"
         ],
         "xaxis": "x",
         "y": [
          "MTLBTC",
          "MTLBTC"
         ],
         "yaxis": "y"
        },
        {
         "mode": "markers+lines",
         "type": "scatter",
         "x": [
          "2019-09-24T00:00:00",
          "2019-10-03T00:00:00"
         ],
         "xaxis": "x",
         "y": [
          "MTLUSDT",
          "MTLUSDT"
         ],
         "yaxis": "y"
        },
        {
         "mode": "markers+lines",
         "type": "scatter",
         "x": [
          "2020-03-12T00:00:00",
          "2020-03-29T00:00:00"
         ],
         "xaxis": "x",
         "y": [
          "MTLUSDT",
          "MTLUSDT"
         ],
         "yaxis": "y"
        },
        {
         "mode": "markers+lines",
         "type": "scatter",
         "x": [
          "2021-01-27T00:00:00",
          "2021-04-04T00:00:00"
         ],
         "xaxis": "x",
         "y": [
          "MTLUSDT",
          "MTLUSDT"
         ],
         "yaxis": "y"
        },
        {
         "mode": "markers+lines",
         "type": "scatter",
         "x": [
          "2021-07-20T00:00:00",
          "2021-08-15T00:00:00"
         ],
         "xaxis": "x",
         "y": [
          "MTLUSDT",
          "MTLUSDT"
         ],
         "yaxis": "y"
        },
        {
         "mode": "markers+lines",
         "type": "scatter",
         "x": [
          "2023-01-01T00:00:00",
          "2023-02-20T00:00:00"
         ],
         "xaxis": "x",
         "y": [
          "MULTIUSDT",
          "MULTIUSDT"
         ],
         "yaxis": "y"
        },
        {
         "mode": "markers+lines",
         "type": "scatter",
         "x": [
          "2023-09-03T00:00:00",
          "2023-09-15T00:00:00"
         ],
         "xaxis": "x",
         "y": [
          "MULTIUSDT",
          "MULTIUSDT"
         ],
         "yaxis": "y"
        },
        {
         "mode": "markers+lines",
         "type": "scatter",
         "x": [
          "2021-08-09T00:00:00",
          "2021-08-21T00:00:00"
         ],
         "xaxis": "x",
         "y": [
          "NEARBTC",
          "NEARBTC"
         ],
         "yaxis": "y"
        },
        {
         "mode": "markers+lines",
         "type": "scatter",
         "x": [
          "2021-08-26T00:00:00",
          "2021-09-08T00:00:00"
         ],
         "xaxis": "x",
         "y": [
          "NEARBTC",
          "NEARBTC"
         ],
         "yaxis": "y"
        },
        {
         "mode": "markers+lines",
         "type": "scatter",
         "x": [
          "2021-12-06T00:00:00",
          "2022-01-14T00:00:00"
         ],
         "xaxis": "x",
         "y": [
          "NEARBTC",
          "NEARBTC"
         ],
         "yaxis": "y"
        },
        {
         "mode": "markers+lines",
         "type": "scatter",
         "x": [
          "2020-12-23T00:00:00",
          "2021-02-13T00:00:00"
         ],
         "xaxis": "x",
         "y": [
          "NEARUSDT",
          "NEARUSDT"
         ],
         "yaxis": "y"
        },
        {
         "mode": "markers+lines",
         "type": "scatter",
         "x": [
          "2021-08-03T00:00:00",
          "2021-08-21T00:00:00"
         ],
         "xaxis": "x",
         "y": [
          "NEARUSDT",
          "NEARUSDT"
         ],
         "yaxis": "y"
        },
        {
         "mode": "markers+lines",
         "type": "scatter",
         "x": [
          "2021-08-26T00:00:00",
          "2021-09-08T00:00:00"
         ],
         "xaxis": "x",
         "y": [
          "NEARUSDT",
          "NEARUSDT"
         ],
         "yaxis": "y"
        },
        {
         "mode": "markers+lines",
         "type": "scatter",
         "x": [
          "2021-12-06T00:00:00",
          "2022-01-14T00:00:00"
         ],
         "xaxis": "x",
         "y": [
          "NEARUSDT",
          "NEARUSDT"
         ],
         "yaxis": "y"
        },
        {
         "mode": "markers+lines",
         "type": "scatter",
         "x": [
          "2022-12-31T00:00:00",
          "2023-02-20T00:00:00"
         ],
         "xaxis": "x",
         "y": [
          "NEARUSDT",
          "NEARUSDT"
         ],
         "yaxis": "y"
        },
        {
         "mode": "markers+lines",
         "type": "scatter",
         "x": [
          "2017-12-07T00:00:00",
          "2018-01-29T00:00:00"
         ],
         "xaxis": "x",
         "y": [
          "NEOBTC",
          "NEOBTC"
         ],
         "yaxis": "y"
        },
        {
         "mode": "markers+lines",
         "type": "scatter",
         "x": [
          "2021-04-03T00:00:00",
          "2021-04-18T00:00:00"
         ],
         "xaxis": "x",
         "y": [
          "NEOBTC",
          "NEOBTC"
         ],
         "yaxis": "y"
        },
        {
         "mode": "markers+lines",
         "type": "scatter",
         "x": [
          "2021-01-27T00:00:00",
          "2021-02-21T00:00:00"
         ],
         "xaxis": "x",
         "y": [
          "NEOUSDT",
          "NEOUSDT"
         ],
         "yaxis": "y"
        },
        {
         "mode": "markers+lines",
         "type": "scatter",
         "x": [
          "2021-03-25T00:00:00",
          "2021-04-18T00:00:00"
         ],
         "xaxis": "x",
         "y": [
          "NEOUSDT",
          "NEOUSDT"
         ],
         "yaxis": "y"
        },
        {
         "mode": "markers+lines",
         "type": "scatter",
         "x": [
          "2021-07-20T00:00:00",
          "2021-09-05T00:00:00"
         ],
         "xaxis": "x",
         "y": [
          "NEOUSDT",
          "NEOUSDT"
         ],
         "yaxis": "y"
        },
        {
         "mode": "markers+lines",
         "type": "scatter",
         "x": [
          "2023-10-19T00:00:00",
          "2023-11-10T00:00:00"
         ],
         "xaxis": "x",
         "y": [
          "NEOUSDT",
          "NEOUSDT"
         ],
         "yaxis": "y"
        },
        {
         "mode": "markers+lines",
         "type": "scatter",
         "x": [
          "2021-02-26T00:00:00",
          "2021-04-09T00:00:00"
         ],
         "xaxis": "x",
         "y": [
          "NKNBTC",
          "NKNBTC"
         ],
         "yaxis": "y"
        },
        {
         "mode": "markers+lines",
         "type": "scatter",
         "x": [
          "2021-01-14T00:00:00",
          "2021-04-09T00:00:00"
         ],
         "xaxis": "x",
         "y": [
          "NKNUSDT",
          "NKNUSDT"
         ],
         "yaxis": "y"
        },
        {
         "mode": "markers+lines",
         "type": "scatter",
         "x": [
          "2021-07-20T00:00:00",
          "2021-09-05T00:00:00"
         ],
         "xaxis": "x",
         "y": [
          "NKNUSDT",
          "NKNUSDT"
         ],
         "yaxis": "y"
        },
        {
         "mode": "markers+lines",
         "type": "scatter",
         "x": [
          "2022-06-15T00:00:00",
          "2022-06-30T00:00:00"
         ],
         "xaxis": "x",
         "y": [
          "NMRBTC",
          "NMRBTC"
         ],
         "yaxis": "y"
        },
        {
         "mode": "markers+lines",
         "type": "scatter",
         "x": [
          "2021-03-25T00:00:00",
          "2021-04-17T00:00:00"
         ],
         "xaxis": "x",
         "y": [
          "NMRUSDT",
          "NMRUSDT"
         ],
         "yaxis": "y"
        },
        {
         "mode": "markers+lines",
         "type": "scatter",
         "x": [
          "2022-06-18T00:00:00",
          "2022-06-30T00:00:00"
         ],
         "xaxis": "x",
         "y": [
          "NMRUSDT",
          "NMRUSDT"
         ],
         "yaxis": "y"
        },
        {
         "mode": "markers+lines",
         "type": "scatter",
         "x": [
          "2023-11-29T00:00:00",
          "2023-12-16T00:00:00"
         ],
         "xaxis": "x",
         "y": [
          "NTRNBTC",
          "NTRNBTC"
         ],
         "yaxis": "y"
        },
        {
         "mode": "markers+lines",
         "type": "scatter",
         "x": [
          "2023-11-21T00:00:00",
          "2024-01-10T00:00:00"
         ],
         "xaxis": "x",
         "y": [
          "NTRNUSDT",
          "NTRNUSDT"
         ],
         "yaxis": "y"
        },
        {
         "mode": "markers+lines",
         "type": "scatter",
         "x": [
          "2017-12-12T00:00:00",
          "2018-01-10T00:00:00"
         ],
         "xaxis": "x",
         "y": [
          "NULSBTC",
          "NULSBTC"
         ],
         "yaxis": "y"
        },
        {
         "mode": "markers+lines",
         "type": "scatter",
         "x": [
          "2018-04-16T00:00:00",
          "2018-05-14T00:00:00"
         ],
         "xaxis": "x",
         "y": [
          "NULSBTC",
          "NULSBTC"
         ],
         "yaxis": "y"
        },
        {
         "mode": "markers+lines",
         "type": "scatter",
         "x": [
          "2021-11-18T00:00:00",
          "2021-12-16T00:00:00"
         ],
         "xaxis": "x",
         "y": [
          "NULSBTC",
          "NULSBTC"
         ],
         "yaxis": "y"
        },
        {
         "mode": "markers+lines",
         "type": "scatter",
         "x": [
          "2021-01-27T00:00:00",
          "2021-02-13T00:00:00"
         ],
         "xaxis": "x",
         "y": [
          "NULSUSDT",
          "NULSUSDT"
         ],
         "yaxis": "y"
        },
        {
         "mode": "markers+lines",
         "type": "scatter",
         "x": [
          "2021-02-25T00:00:00",
          "2021-03-12T00:00:00"
         ],
         "xaxis": "x",
         "y": [
          "NULSUSDT",
          "NULSUSDT"
         ],
         "yaxis": "y"
        },
        {
         "mode": "markers+lines",
         "type": "scatter",
         "x": [
          "2021-01-27T00:00:00",
          "2021-04-08T00:00:00"
         ],
         "xaxis": "x",
         "y": [
          "OCEANUSDT",
          "OCEANUSDT"
         ],
         "yaxis": "y"
        },
        {
         "mode": "markers+lines",
         "type": "scatter",
         "x": [
          "2021-07-21T00:00:00",
          "2021-09-05T00:00:00"
         ],
         "xaxis": "x",
         "y": [
          "OCEANUSDT",
          "OCEANUSDT"
         ],
         "yaxis": "y"
        },
        {
         "mode": "markers+lines",
         "type": "scatter",
         "x": [
          "2023-01-01T00:00:00",
          "2023-02-07T00:00:00"
         ],
         "xaxis": "x",
         "y": [
          "OCEANUSDT",
          "OCEANUSDT"
         ],
         "yaxis": "y"
        },
        {
         "mode": "markers+lines",
         "type": "scatter",
         "x": [
          "2020-02-25T00:00:00",
          "2020-03-08T00:00:00"
         ],
         "xaxis": "x",
         "y": [
          "OGNBTC",
          "OGNBTC"
         ],
         "yaxis": "y"
        },
        {
         "mode": "markers+lines",
         "type": "scatter",
         "x": [
          "2021-01-14T00:00:00",
          "2021-02-09T00:00:00"
         ],
         "xaxis": "x",
         "y": [
          "OGNBTC",
          "OGNBTC"
         ],
         "yaxis": "y"
        },
        {
         "mode": "markers+lines",
         "type": "scatter",
         "x": [
          "2021-02-23T00:00:00",
          "2021-04-08T00:00:00"
         ],
         "xaxis": "x",
         "y": [
          "OGNBTC",
          "OGNBTC"
         ],
         "yaxis": "y"
        },
        {
         "mode": "markers+lines",
         "type": "scatter",
         "x": [
          "2022-03-09T00:00:00",
          "2022-03-20T00:00:00"
         ],
         "xaxis": "x",
         "y": [
          "OGNBTC",
          "OGNBTC"
         ],
         "yaxis": "y"
        },
        {
         "mode": "markers+lines",
         "type": "scatter",
         "x": [
          "2022-06-12T00:00:00",
          "2022-07-03T00:00:00"
         ],
         "xaxis": "x",
         "y": [
          "OGNBTC",
          "OGNBTC"
         ],
         "yaxis": "y"
        },
        {
         "mode": "markers+lines",
         "type": "scatter",
         "x": [
          "2021-01-27T00:00:00",
          "2021-02-09T00:00:00"
         ],
         "xaxis": "x",
         "y": [
          "OGNUSDT",
          "OGNUSDT"
         ],
         "yaxis": "y"
        },
        {
         "mode": "markers+lines",
         "type": "scatter",
         "x": [
          "2021-02-27T00:00:00",
          "2021-04-08T00:00:00"
         ],
         "xaxis": "x",
         "y": [
          "OGNUSDT",
          "OGNUSDT"
         ],
         "yaxis": "y"
        },
        {
         "mode": "markers+lines",
         "type": "scatter",
         "x": [
          "2022-03-11T00:00:00",
          "2022-03-20T00:00:00"
         ],
         "xaxis": "x",
         "y": [
          "OGNUSDT",
          "OGNUSDT"
         ],
         "yaxis": "y"
        },
        {
         "mode": "markers+lines",
         "type": "scatter",
         "x": [
          "2021-02-26T00:00:00",
          "2021-04-09T00:00:00"
         ],
         "xaxis": "x",
         "y": [
          "OGBTC",
          "OGBTC"
         ],
         "yaxis": "y"
        },
        {
         "mode": "markers+lines",
         "type": "scatter",
         "x": [
          "2021-05-10T00:00:00",
          "2021-05-18T00:00:00"
         ],
         "xaxis": "x",
         "y": [
          "OGBTC",
          "OGBTC"
         ],
         "yaxis": "y"
        },
        {
         "mode": "markers+lines",
         "type": "scatter",
         "x": [
          "2022-05-12T00:00:00",
          "2022-05-23T00:00:00"
         ],
         "xaxis": "x",
         "y": [
          "OGBTC",
          "OGBTC"
         ],
         "yaxis": "y"
        },
        {
         "mode": "markers+lines",
         "type": "scatter",
         "x": [
          "2023-03-27T00:00:00",
          "2023-04-23T00:00:00"
         ],
         "xaxis": "x",
         "y": [
          "OGBTC",
          "OGBTC"
         ],
         "yaxis": "y"
        },
        {
         "mode": "markers+lines",
         "type": "scatter",
         "x": [
          "2021-02-26T00:00:00",
          "2021-04-09T00:00:00"
         ],
         "xaxis": "x",
         "y": [
          "OGUSDT",
          "OGUSDT"
         ],
         "yaxis": "y"
        },
        {
         "mode": "markers+lines",
         "type": "scatter",
         "x": [
          "2022-05-12T00:00:00",
          "2022-05-23T00:00:00"
         ],
         "xaxis": "x",
         "y": [
          "OGUSDT",
          "OGUSDT"
         ],
         "yaxis": "y"
        },
        {
         "mode": "markers+lines",
         "type": "scatter",
         "x": [
          "2022-07-26T00:00:00",
          "2022-08-18T00:00:00"
         ],
         "xaxis": "x",
         "y": [
          "OGUSDT",
          "OGUSDT"
         ],
         "yaxis": "y"
        },
        {
         "mode": "markers+lines",
         "type": "scatter",
         "x": [
          "2023-03-27T00:00:00",
          "2023-04-19T00:00:00"
         ],
         "xaxis": "x",
         "y": [
          "OGUSDT",
          "OGUSDT"
         ],
         "yaxis": "y"
        },
        {
         "mode": "markers+lines",
         "type": "scatter",
         "x": [
          "2020-05-11T00:00:00",
          "2020-05-23T00:00:00"
         ],
         "xaxis": "x",
         "y": [
          "OMGUSDT",
          "OMGUSDT"
         ],
         "yaxis": "y"
        },
        {
         "mode": "markers+lines",
         "type": "scatter",
         "x": [
          "2020-08-07T00:00:00",
          "2020-08-23T00:00:00"
         ],
         "xaxis": "x",
         "y": [
          "OMGUSDT",
          "OMGUSDT"
         ],
         "yaxis": "y"
        },
        {
         "mode": "markers+lines",
         "type": "scatter",
         "x": [
          "2021-01-27T00:00:00",
          "2021-02-13T00:00:00"
         ],
         "xaxis": "x",
         "y": [
          "OMGUSDT",
          "OMGUSDT"
         ],
         "yaxis": "y"
        },
        {
         "mode": "markers+lines",
         "type": "scatter",
         "x": [
          "2021-03-25T00:00:00",
          "2021-04-09T00:00:00"
         ],
         "xaxis": "x",
         "y": [
          "OMGUSDT",
          "OMGUSDT"
         ],
         "yaxis": "y"
        },
        {
         "mode": "markers+lines",
         "type": "scatter",
         "x": [
          "2021-04-24T00:00:00",
          "2021-05-06T00:00:00"
         ],
         "xaxis": "x",
         "y": [
          "OMGUSDT",
          "OMGUSDT"
         ],
         "yaxis": "y"
        },
        {
         "mode": "markers+lines",
         "type": "scatter",
         "x": [
          "2023-12-15T00:00:00",
          "2024-02-09T00:00:00"
         ],
         "xaxis": "x",
         "y": [
          "OMUSDT",
          "OMUSDT"
         ],
         "yaxis": "y"
        },
        {
         "mode": "markers+lines",
         "type": "scatter",
         "x": [
          "2021-01-26T00:00:00",
          "2021-02-14T00:00:00"
         ],
         "xaxis": "x",
         "y": [
          "ONEBTC",
          "ONEBTC"
         ],
         "yaxis": "y"
        },
        {
         "mode": "markers+lines",
         "type": "scatter",
         "x": [
          "2021-02-23T00:00:00",
          "2021-03-24T00:00:00"
         ],
         "xaxis": "x",
         "y": [
          "ONEBTC",
          "ONEBTC"
         ],
         "yaxis": "y"
        },
        {
         "mode": "markers+lines",
         "type": "scatter",
         "x": [
          "2021-08-28T00:00:00",
          "2021-09-12T00:00:00"
         ],
         "xaxis": "x",
         "y": [
          "ONEBTC",
          "ONEBTC"
         ],
         "yaxis": "y"
        },
        {
         "mode": "markers+lines",
         "type": "scatter",
         "x": [
          "2021-01-27T00:00:00",
          "2021-02-14T00:00:00"
         ],
         "xaxis": "x",
         "y": [
          "ONEUSDT",
          "ONEUSDT"
         ],
         "yaxis": "y"
        },
        {
         "mode": "markers+lines",
         "type": "scatter",
         "x": [
          "2021-02-23T00:00:00",
          "2021-03-28T00:00:00"
         ],
         "xaxis": "x",
         "y": [
          "ONEUSDT",
          "ONEUSDT"
         ],
         "yaxis": "y"
        },
        {
         "mode": "markers+lines",
         "type": "scatter",
         "x": [
          "2021-08-26T00:00:00",
          "2021-09-12T00:00:00"
         ],
         "xaxis": "x",
         "y": [
          "ONEUSDT",
          "ONEUSDT"
         ],
         "yaxis": "y"
        },
        {
         "mode": "markers+lines",
         "type": "scatter",
         "x": [
          "2022-12-31T00:00:00",
          "2023-02-07T00:00:00"
         ],
         "xaxis": "x",
         "y": [
          "ONEUSDT",
          "ONEUSDT"
         ],
         "yaxis": "y"
        },
        {
         "mode": "markers+lines",
         "type": "scatter",
         "x": [
          "2020-06-11T00:00:00",
          "2020-06-29T00:00:00"
         ],
         "xaxis": "x",
         "y": [
          "ONGBTC",
          "ONGBTC"
         ],
         "yaxis": "y"
        },
        {
         "mode": "markers+lines",
         "type": "scatter",
         "x": [
          "2021-02-08T00:00:00",
          "2021-03-06T00:00:00"
         ],
         "xaxis": "x",
         "y": [
          "ONGBTC",
          "ONGBTC"
         ],
         "yaxis": "y"
        },
        {
         "mode": "markers+lines",
         "type": "scatter",
         "x": [
          "2020-01-25T00:00:00",
          "2020-02-15T00:00:00"
         ],
         "xaxis": "x",
         "y": [
          "ONGUSDT",
          "ONGUSDT"
         ],
         "yaxis": "y"
        },
        {
         "mode": "markers+lines",
         "type": "scatter",
         "x": [
          "2020-06-11T00:00:00",
          "2020-06-29T00:00:00"
         ],
         "xaxis": "x",
         "y": [
          "ONGUSDT",
          "ONGUSDT"
         ],
         "yaxis": "y"
        },
        {
         "mode": "markers+lines",
         "type": "scatter",
         "x": [
          "2021-01-27T00:00:00",
          "2021-04-16T00:00:00"
         ],
         "xaxis": "x",
         "y": [
          "ONGUSDT",
          "ONGUSDT"
         ],
         "yaxis": "y"
        },
        {
         "mode": "markers+lines",
         "type": "scatter",
         "x": [
          "2021-05-19T00:00:00",
          "2021-05-20T00:00:00"
         ],
         "xaxis": "x",
         "y": [
          "ONGUSDT",
          "ONGUSDT"
         ],
         "yaxis": "y"
        },
        {
         "mode": "markers+lines",
         "type": "scatter",
         "x": [
          "2018-04-22T00:00:00",
          "2018-05-03T00:00:00"
         ],
         "xaxis": "x",
         "y": [
          "ONTBTC",
          "ONTBTC"
         ],
         "yaxis": "y"
        },
        {
         "mode": "markers+lines",
         "type": "scatter",
         "x": [
          "2018-08-14T00:00:00",
          "2018-08-28T00:00:00"
         ],
         "xaxis": "x",
         "y": [
          "ONTUSDT",
          "ONTUSDT"
         ],
         "yaxis": "y"
        },
        {
         "mode": "markers+lines",
         "type": "scatter",
         "x": [
          "2021-01-27T00:00:00",
          "2021-02-21T00:00:00"
         ],
         "xaxis": "x",
         "y": [
          "ONTUSDT",
          "ONTUSDT"
         ],
         "yaxis": "y"
        },
        {
         "mode": "markers+lines",
         "type": "scatter",
         "x": [
          "2022-07-15T00:00:00",
          "2022-08-03T00:00:00"
         ],
         "xaxis": "x",
         "y": [
          "OPBTC",
          "OPBTC"
         ],
         "yaxis": "y"
        },
        {
         "mode": "markers+lines",
         "type": "scatter",
         "x": [
          "2022-07-12T00:00:00",
          "2022-08-03T00:00:00"
         ],
         "xaxis": "x",
         "y": [
          "OPUSDT",
          "OPUSDT"
         ],
         "yaxis": "y"
        },
        {
         "mode": "markers+lines",
         "type": "scatter",
         "x": [
          "2022-12-30T00:00:00",
          "2023-02-03T00:00:00"
         ],
         "xaxis": "x",
         "y": [
          "OPUSDT",
          "OPUSDT"
         ],
         "yaxis": "y"
        },
        {
         "mode": "markers+lines",
         "type": "scatter",
         "x": [
          "2020-11-19T00:00:00",
          "2020-12-07T00:00:00"
         ],
         "xaxis": "x",
         "y": [
          "ORNBTC",
          "ORNBTC"
         ],
         "yaxis": "y"
        },
        {
         "mode": "markers+lines",
         "type": "scatter",
         "x": [
          "2021-02-08T00:00:00",
          "2021-03-22T00:00:00"
         ],
         "xaxis": "x",
         "y": [
          "ORNBTC",
          "ORNBTC"
         ],
         "yaxis": "y"
        },
        {
         "mode": "markers+lines",
         "type": "scatter",
         "x": [
          "2020-11-19T00:00:00",
          "2020-12-07T00:00:00"
         ],
         "xaxis": "x",
         "y": [
          "ORNUSDT",
          "ORNUSDT"
         ],
         "yaxis": "y"
        },
        {
         "mode": "markers+lines",
         "type": "scatter",
         "x": [
          "2021-01-21T00:00:00",
          "2021-03-22T00:00:00"
         ],
         "xaxis": "x",
         "y": [
          "ORNUSDT",
          "ORNUSDT"
         ],
         "yaxis": "y"
        },
        {
         "mode": "markers+lines",
         "type": "scatter",
         "x": [
          "2021-07-20T00:00:00",
          "2021-08-10T00:00:00"
         ],
         "xaxis": "x",
         "y": [
          "ORNUSDT",
          "ORNUSDT"
         ],
         "yaxis": "y"
        },
        {
         "mode": "markers+lines",
         "type": "scatter",
         "x": [
          "2021-01-27T00:00:00",
          "2021-02-12T00:00:00"
         ],
         "xaxis": "x",
         "y": [
          "OXTUSDT",
          "OXTUSDT"
         ],
         "yaxis": "y"
        },
        {
         "mode": "markers+lines",
         "type": "scatter",
         "x": [
          "2024-01-08T00:00:00",
          "2024-02-06T00:00:00"
         ],
         "xaxis": "x",
         "y": [
          "PENDLEBTC",
          "PENDLEBTC"
         ],
         "yaxis": "y"
        },
        {
         "mode": "markers+lines",
         "type": "scatter",
         "x": [
          "2023-12-31T00:00:00",
          "2024-02-14T00:00:00"
         ],
         "xaxis": "x",
         "y": [
          "PENDLEUSDT",
          "PENDLEUSDT"
         ],
         "yaxis": "y"
        },
        {
         "mode": "markers+lines",
         "type": "scatter",
         "x": [
          "2022-01-24T00:00:00",
          "2022-02-05T00:00:00"
         ],
         "xaxis": "x",
         "y": [
          "PEOPLEBTC",
          "PEOPLEBTC"
         ],
         "yaxis": "y"
        },
        {
         "mode": "markers+lines",
         "type": "scatter",
         "x": [
          "2022-05-11T00:00:00",
          "2022-05-21T00:00:00"
         ],
         "xaxis": "x",
         "y": [
          "PEOPLEBTC",
          "PEOPLEBTC"
         ],
         "yaxis": "y"
        },
        {
         "mode": "markers+lines",
         "type": "scatter",
         "x": [
          "2022-06-11T00:00:00",
          "2022-06-24T00:00:00"
         ],
         "xaxis": "x",
         "y": [
          "PEOPLEBTC",
          "PEOPLEBTC"
         ],
         "yaxis": "y"
        },
        {
         "mode": "markers+lines",
         "type": "scatter",
         "x": [
          "2023-12-20T00:00:00",
          "2024-01-07T00:00:00"
         ],
         "xaxis": "x",
         "y": [
          "PEOPLEBTC",
          "PEOPLEBTC"
         ],
         "yaxis": "y"
        },
        {
         "mode": "markers+lines",
         "type": "scatter",
         "x": [
          "2022-01-23T00:00:00",
          "2022-02-05T00:00:00"
         ],
         "xaxis": "x",
         "y": [
          "PEOPLEUSDT",
          "PEOPLEUSDT"
         ],
         "yaxis": "y"
        },
        {
         "mode": "markers+lines",
         "type": "scatter",
         "x": [
          "2023-12-31T00:00:00",
          "2024-01-07T00:00:00"
         ],
         "xaxis": "x",
         "y": [
          "PEOPLEUSDT",
          "PEOPLEUSDT"
         ],
         "yaxis": "y"
        },
        {
         "mode": "markers+lines",
         "type": "scatter",
         "x": [
          "2023-06-14T00:00:00",
          "2023-07-03T00:00:00"
         ],
         "xaxis": "x",
         "y": [
          "PEPEUSDT",
          "PEPEUSDT"
         ],
         "yaxis": "y"
        },
        {
         "mode": "markers+lines",
         "type": "scatter",
         "x": [
          "2023-10-12T00:00:00",
          "2023-11-10T00:00:00"
         ],
         "xaxis": "x",
         "y": [
          "PEPEUSDT",
          "PEPEUSDT"
         ],
         "yaxis": "y"
        },
        {
         "mode": "markers+lines",
         "type": "scatter",
         "x": [
          "2021-05-01T00:00:00",
          "2021-05-20T00:00:00"
         ],
         "xaxis": "x",
         "y": [
          "PERPBTC",
          "PERPBTC"
         ],
         "yaxis": "y"
        },
        {
         "mode": "markers+lines",
         "type": "scatter",
         "x": [
          "2021-06-27T00:00:00",
          "2021-07-06T00:00:00"
         ],
         "xaxis": "x",
         "y": [
          "PERPBTC",
          "PERPBTC"
         ],
         "yaxis": "y"
        },
        {
         "mode": "markers+lines",
         "type": "scatter",
         "x": [
          "2023-08-26T00:00:00",
          "2023-09-08T00:00:00"
         ],
         "xaxis": "x",
         "y": [
          "PERPBTC",
          "PERPBTC"
         ],
         "yaxis": "y"
        },
        {
         "mode": "markers+lines",
         "type": "scatter",
         "x": [
          "2023-12-13T00:00:00",
          "2024-01-03T00:00:00"
         ],
         "xaxis": "x",
         "y": [
          "PERPBTC",
          "PERPBTC"
         ],
         "yaxis": "y"
        },
        {
         "mode": "markers+lines",
         "type": "scatter",
         "x": [
          "2021-06-26T00:00:00",
          "2021-07-06T00:00:00"
         ],
         "xaxis": "x",
         "y": [
          "PERPUSDT",
          "PERPUSDT"
         ],
         "yaxis": "y"
        },
        {
         "mode": "markers+lines",
         "type": "scatter",
         "x": [
          "2021-07-19T00:00:00",
          "2021-09-06T00:00:00"
         ],
         "xaxis": "x",
         "y": [
          "PERPUSDT",
          "PERPUSDT"
         ],
         "yaxis": "y"
        },
        {
         "mode": "markers+lines",
         "type": "scatter",
         "x": [
          "2023-08-26T00:00:00",
          "2023-09-07T00:00:00"
         ],
         "xaxis": "x",
         "y": [
          "PERPUSDT",
          "PERPUSDT"
         ],
         "yaxis": "y"
        },
        {
         "mode": "markers+lines",
         "type": "scatter",
         "x": [
          "2023-12-12T00:00:00",
          "2024-01-02T00:00:00"
         ],
         "xaxis": "x",
         "y": [
          "PERPUSDT",
          "PERPUSDT"
         ],
         "yaxis": "y"
        },
        {
         "mode": "markers+lines",
         "type": "scatter",
         "x": [
          "2022-10-13T00:00:00",
          "2022-10-15T00:00:00"
         ],
         "xaxis": "x",
         "y": [
          "PHABTC",
          "PHABTC"
         ],
         "yaxis": "y"
        },
        {
         "mode": "markers+lines",
         "type": "scatter",
         "x": [
          "2022-10-13T00:00:00",
          "2022-10-15T00:00:00"
         ],
         "xaxis": "x",
         "y": [
          "PHAUSDT",
          "PHAUSDT"
         ],
         "yaxis": "y"
        },
        {
         "mode": "markers+lines",
         "type": "scatter",
         "x": [
          "2021-01-21T00:00:00",
          "2021-02-18T00:00:00"
         ],
         "xaxis": "x",
         "y": [
          "PNTUSDT",
          "PNTUSDT"
         ],
         "yaxis": "y"
        },
        {
         "mode": "markers+lines",
         "type": "scatter",
         "x": [
          "2023-11-23T00:00:00",
          "2023-12-21T00:00:00"
         ],
         "xaxis": "x",
         "y": [
          "POLSUSDT",
          "POLSUSDT"
         ],
         "yaxis": "y"
        },
        {
         "mode": "markers+lines",
         "type": "scatter",
         "x": [
          "2023-10-12T00:00:00",
          "2023-10-30T00:00:00"
         ],
         "xaxis": "x",
         "y": [
          "POLYXBTC",
          "POLYXBTC"
         ],
         "yaxis": "y"
        },
        {
         "mode": "markers+lines",
         "type": "scatter",
         "x": [
          "2023-10-12T00:00:00",
          "2023-10-30T00:00:00"
         ],
         "xaxis": "x",
         "y": [
          "POLYXUSDT",
          "POLYXUSDT"
         ],
         "yaxis": "y"
        },
        {
         "mode": "markers+lines",
         "type": "scatter",
         "x": [
          "2022-08-13T00:00:00",
          "2022-09-02T00:00:00"
         ],
         "xaxis": "x",
         "y": [
          "PORTOBTC",
          "PORTOBTC"
         ],
         "yaxis": "y"
        },
        {
         "mode": "markers+lines",
         "type": "scatter",
         "x": [
          "2022-05-12T00:00:00",
          "2022-05-25T00:00:00"
         ],
         "xaxis": "x",
         "y": [
          "PORTOUSDT",
          "PORTOUSDT"
         ],
         "yaxis": "y"
        },
        {
         "mode": "markers+lines",
         "type": "scatter",
         "x": [
          "2022-08-09T00:00:00",
          "2022-09-02T00:00:00"
         ],
         "xaxis": "x",
         "y": [
          "PORTOUSDT",
          "PORTOUSDT"
         ],
         "yaxis": "y"
        },
        {
         "mode": "markers+lines",
         "type": "scatter",
         "x": [
          "2017-12-07T00:00:00",
          "2018-01-03T00:00:00"
         ],
         "xaxis": "x",
         "y": [
          "POWRBTC",
          "POWRBTC"
         ],
         "yaxis": "y"
        },
        {
         "mode": "markers+lines",
         "type": "scatter",
         "x": [
          "2020-01-31T00:00:00",
          "2020-02-15T00:00:00"
         ],
         "xaxis": "x",
         "y": [
          "POWRBTC",
          "POWRBTC"
         ],
         "yaxis": "y"
        },
        {
         "mode": "markers+lines",
         "type": "scatter",
         "x": [
          "2021-11-12T00:00:00",
          "2021-11-21T00:00:00"
         ],
         "xaxis": "x",
         "y": [
          "POWRBTC",
          "POWRBTC"
         ],
         "yaxis": "y"
        },
        {
         "mode": "markers+lines",
         "type": "scatter",
         "x": [
          "2024-01-02T00:00:00",
          "2024-01-06T00:00:00"
         ],
         "xaxis": "x",
         "y": [
          "POWRBTC",
          "POWRBTC"
         ],
         "yaxis": "y"
        },
        {
         "mode": "markers+lines",
         "type": "scatter",
         "x": [
          "2023-10-11T00:00:00",
          "2023-10-25T00:00:00"
         ],
         "xaxis": "x",
         "y": [
          "POWRUSDT",
          "POWRUSDT"
         ],
         "yaxis": "y"
        },
        {
         "mode": "markers+lines",
         "type": "scatter",
         "x": [
          "2024-01-02T00:00:00",
          "2024-01-06T00:00:00"
         ],
         "xaxis": "x",
         "y": [
          "POWRUSDT",
          "POWRUSDT"
         ],
         "yaxis": "y"
        },
        {
         "mode": "markers+lines",
         "type": "scatter",
         "x": [
          "2021-02-28T00:00:00",
          "2021-03-13T00:00:00"
         ],
         "xaxis": "x",
         "y": [
          "PSGUSDT",
          "PSGUSDT"
         ],
         "yaxis": "y"
        },
        {
         "mode": "markers+lines",
         "type": "scatter",
         "x": [
          "2021-04-03T00:00:00",
          "2021-04-26T00:00:00"
         ],
         "xaxis": "x",
         "y": [
          "PSGUSDT",
          "PSGUSDT"
         ],
         "yaxis": "y"
        },
        {
         "mode": "markers+lines",
         "type": "scatter",
         "x": [
          "2021-07-08T00:00:00",
          "2021-08-09T00:00:00"
         ],
         "xaxis": "x",
         "y": [
          "PSGUSDT",
          "PSGUSDT"
         ],
         "yaxis": "y"
        },
        {
         "mode": "markers+lines",
         "type": "scatter",
         "x": [
          "2022-05-12T00:00:00",
          "2022-05-18T00:00:00"
         ],
         "xaxis": "x",
         "y": [
          "PSGUSDT",
          "PSGUSDT"
         ],
         "yaxis": "y"
        },
        {
         "mode": "markers+lines",
         "type": "scatter",
         "x": [
          "2022-03-15T00:00:00",
          "2022-04-04T00:00:00"
         ],
         "xaxis": "x",
         "y": [
          "PYRUSDT",
          "PYRUSDT"
         ],
         "yaxis": "y"
        },
        {
         "mode": "markers+lines",
         "type": "scatter",
         "x": [
          "2023-10-18T00:00:00",
          "2023-11-15T00:00:00"
         ],
         "xaxis": "x",
         "y": [
          "PYRUSDT",
          "PYRUSDT"
         ],
         "yaxis": "y"
        },
        {
         "mode": "markers+lines",
         "type": "scatter",
         "x": [
          "2023-11-30T00:00:00",
          "2023-12-11T00:00:00"
         ],
         "xaxis": "x",
         "y": [
          "QIBTC",
          "QIBTC"
         ],
         "yaxis": "y"
        },
        {
         "mode": "markers+lines",
         "type": "scatter",
         "x": [
          "2023-11-24T00:00:00",
          "2023-12-11T00:00:00"
         ],
         "xaxis": "x",
         "y": [
          "QIUSDT",
          "QIUSDT"
         ],
         "yaxis": "y"
        },
        {
         "mode": "markers+lines",
         "type": "scatter",
         "x": [
          "2022-06-29T00:00:00",
          "2022-07-19T00:00:00"
         ],
         "xaxis": "x",
         "y": [
          "QNTUSDT",
          "QNTUSDT"
         ],
         "yaxis": "y"
        },
        {
         "mode": "markers+lines",
         "type": "scatter",
         "x": [
          "2017-12-07T00:00:00",
          "2018-01-06T00:00:00"
         ],
         "xaxis": "x",
         "y": [
          "QTUMBTC",
          "QTUMBTC"
         ],
         "yaxis": "y"
        },
        {
         "mode": "markers+lines",
         "type": "scatter",
         "x": [
          "2021-03-14T00:00:00",
          "2021-04-19T00:00:00"
         ],
         "xaxis": "x",
         "y": [
          "QTUMBTC",
          "QTUMBTC"
         ],
         "yaxis": "y"
        },
        {
         "mode": "markers+lines",
         "type": "scatter",
         "x": [
          "2021-01-27T00:00:00",
          "2021-02-13T00:00:00"
         ],
         "xaxis": "x",
         "y": [
          "QTUMUSDT",
          "QTUMUSDT"
         ],
         "yaxis": "y"
        },
        {
         "mode": "markers+lines",
         "type": "scatter",
         "x": [
          "2021-03-18T00:00:00",
          "2021-04-18T00:00:00"
         ],
         "xaxis": "x",
         "y": [
          "QTUMUSDT",
          "QTUMUSDT"
         ],
         "yaxis": "y"
        },
        {
         "mode": "markers+lines",
         "type": "scatter",
         "x": [
          "2021-04-24T00:00:00",
          "2021-05-09T00:00:00"
         ],
         "xaxis": "x",
         "y": [
          "QTUMUSDT",
          "QTUMUSDT"
         ],
         "yaxis": "y"
        },
        {
         "mode": "markers+lines",
         "type": "scatter",
         "x": [
          "2021-07-24T00:00:00",
          "2021-08-20T00:00:00"
         ],
         "xaxis": "x",
         "y": [
          "QTUMUSDT",
          "QTUMUSDT"
         ],
         "yaxis": "y"
        },
        {
         "mode": "markers+lines",
         "type": "scatter",
         "x": [
          "2023-04-21T00:00:00",
          "2023-05-04T00:00:00"
         ],
         "xaxis": "x",
         "y": [
          "RADBTC",
          "RADBTC"
         ],
         "yaxis": "y"
        },
        {
         "mode": "markers+lines",
         "type": "scatter",
         "x": [
          "2023-04-21T00:00:00",
          "2023-05-04T00:00:00"
         ],
         "xaxis": "x",
         "y": [
          "RADUSDT",
          "RADUSDT"
         ],
         "yaxis": "y"
        },
        {
         "mode": "markers+lines",
         "type": "scatter",
         "x": [
          "2023-11-15T00:00:00",
          "2023-12-04T00:00:00"
         ],
         "xaxis": "x",
         "y": [
          "RAREBTC",
          "RAREBTC"
         ],
         "yaxis": "y"
        },
        {
         "mode": "markers+lines",
         "type": "scatter",
         "x": [
          "2023-11-16T00:00:00",
          "2023-12-04T00:00:00"
         ],
         "xaxis": "x",
         "y": [
          "RAREUSDT",
          "RAREUSDT"
         ],
         "yaxis": "y"
        },
        {
         "mode": "markers+lines",
         "type": "scatter",
         "x": [
          "2023-10-18T00:00:00",
          "2023-11-15T00:00:00"
         ],
         "xaxis": "x",
         "y": [
          "RAYUSDT",
          "RAYUSDT"
         ],
         "yaxis": "y"
        },
        {
         "mode": "markers+lines",
         "type": "scatter",
         "x": [
          "2023-11-27T00:00:00",
          "2023-12-23T00:00:00"
         ],
         "xaxis": "x",
         "y": [
          "RAYUSDT",
          "RAYUSDT"
         ],
         "yaxis": "y"
        },
        {
         "mode": "markers+lines",
         "type": "scatter",
         "x": [
          "2019-06-17T00:00:00",
          "2019-07-02T00:00:00"
         ],
         "xaxis": "x",
         "y": [
          "RENBTC",
          "RENBTC"
         ],
         "yaxis": "y"
        },
        {
         "mode": "markers+lines",
         "type": "scatter",
         "x": [
          "2019-07-16T00:00:00",
          "2019-07-25T00:00:00"
         ],
         "xaxis": "x",
         "y": [
          "RENBTC",
          "RENBTC"
         ],
         "yaxis": "y"
        },
        {
         "mode": "markers+lines",
         "type": "scatter",
         "x": [
          "2020-06-08T00:00:00",
          "2020-07-12T00:00:00"
         ],
         "xaxis": "x",
         "y": [
          "RENBTC",
          "RENBTC"
         ],
         "yaxis": "y"
        },
        {
         "mode": "markers+lines",
         "type": "scatter",
         "x": [
          "2020-08-01T00:00:00",
          "2020-09-01T00:00:00"
         ],
         "xaxis": "x",
         "y": [
          "RENBTC",
          "RENBTC"
         ],
         "yaxis": "y"
        },
        {
         "mode": "markers+lines",
         "type": "scatter",
         "x": [
          "2021-01-07T00:00:00",
          "2021-02-19T00:00:00"
         ],
         "xaxis": "x",
         "y": [
          "RENBTC",
          "RENBTC"
         ],
         "yaxis": "y"
        },
        {
         "mode": "markers+lines",
         "type": "scatter",
         "x": [
          "2020-06-09T00:00:00",
          "2020-07-12T00:00:00"
         ],
         "xaxis": "x",
         "y": [
          "RENUSDT",
          "RENUSDT"
         ],
         "yaxis": "y"
        },
        {
         "mode": "markers+lines",
         "type": "scatter",
         "x": [
          "2020-07-27T00:00:00",
          "2020-09-01T00:00:00"
         ],
         "xaxis": "x",
         "y": [
          "RENUSDT",
          "RENUSDT"
         ],
         "yaxis": "y"
        },
        {
         "mode": "markers+lines",
         "type": "scatter",
         "x": [
          "2020-12-26T00:00:00",
          "2021-02-19T00:00:00"
         ],
         "xaxis": "x",
         "y": [
          "RENUSDT",
          "RENUSDT"
         ],
         "yaxis": "y"
        },
        {
         "mode": "markers+lines",
         "type": "scatter",
         "x": [
          "2017-12-01T00:00:00",
          "2018-01-08T00:00:00"
         ],
         "xaxis": "x",
         "y": [
          "REQBTC",
          "REQBTC"
         ],
         "yaxis": "y"
        },
        {
         "mode": "markers+lines",
         "type": "scatter",
         "x": [
          "2020-06-01T00:00:00",
          "2020-07-17T00:00:00"
         ],
         "xaxis": "x",
         "y": [
          "REQBTC",
          "REQBTC"
         ],
         "yaxis": "y"
        },
        {
         "mode": "markers+lines",
         "type": "scatter",
         "x": [
          "2021-07-28T00:00:00",
          "2021-08-12T00:00:00"
         ],
         "xaxis": "x",
         "y": [
          "REQBTC",
          "REQBTC"
         ],
         "yaxis": "y"
        },
        {
         "mode": "markers+lines",
         "type": "scatter",
         "x": [
          "2021-11-12T00:00:00",
          "2021-11-26T00:00:00"
         ],
         "xaxis": "x",
         "y": [
          "REQBTC",
          "REQBTC"
         ],
         "yaxis": "y"
        },
        {
         "mode": "markers+lines",
         "type": "scatter",
         "x": [
          "2023-02-13T00:00:00",
          "2023-03-03T00:00:00"
         ],
         "xaxis": "x",
         "y": [
          "RIFBTC",
          "RIFBTC"
         ],
         "yaxis": "y"
        },
        {
         "mode": "markers+lines",
         "type": "scatter",
         "x": [
          "2023-02-13T00:00:00",
          "2023-03-17T00:00:00"
         ],
         "xaxis": "x",
         "y": [
          "RIFUSDT",
          "RIFUSDT"
         ],
         "yaxis": "y"
        },
        {
         "mode": "markers+lines",
         "type": "scatter",
         "x": [
          "2023-10-12T00:00:00",
          "2023-11-03T00:00:00"
         ],
         "xaxis": "x",
         "y": [
          "RIFUSDT",
          "RIFUSDT"
         ],
         "yaxis": "y"
        },
        {
         "mode": "markers+lines",
         "type": "scatter",
         "x": [
          "2019-10-01T00:00:00",
          "2019-11-23T00:00:00"
         ],
         "xaxis": "x",
         "y": [
          "RLCBTC",
          "RLCBTC"
         ],
         "yaxis": "y"
        },
        {
         "mode": "markers+lines",
         "type": "scatter",
         "x": [
          "2020-06-28T00:00:00",
          "2020-07-17T00:00:00"
         ],
         "xaxis": "x",
         "y": [
          "RLCBTC",
          "RLCBTC"
         ],
         "yaxis": "y"
        },
        {
         "mode": "markers+lines",
         "type": "scatter",
         "x": [
          "2021-04-24T00:00:00",
          "2021-05-10T00:00:00"
         ],
         "xaxis": "x",
         "y": [
          "RLCBTC",
          "RLCBTC"
         ],
         "yaxis": "y"
        },
        {
         "mode": "markers+lines",
         "type": "scatter",
         "x": [
          "2022-06-16T00:00:00",
          "2022-07-01T00:00:00"
         ],
         "xaxis": "x",
         "y": [
          "RLCBTC",
          "RLCBTC"
         ],
         "yaxis": "y"
        },
        {
         "mode": "markers+lines",
         "type": "scatter",
         "x": [
          "2020-06-28T00:00:00",
          "2020-07-17T00:00:00"
         ],
         "xaxis": "x",
         "y": [
          "RLCUSDT",
          "RLCUSDT"
         ],
         "yaxis": "y"
        },
        {
         "mode": "markers+lines",
         "type": "scatter",
         "x": [
          "2021-02-28T00:00:00",
          "2021-03-16T00:00:00"
         ],
         "xaxis": "x",
         "y": [
          "RLCUSDT",
          "RLCUSDT"
         ],
         "yaxis": "y"
        },
        {
         "mode": "markers+lines",
         "type": "scatter",
         "x": [
          "2021-04-24T00:00:00",
          "2021-05-10T00:00:00"
         ],
         "xaxis": "x",
         "y": [
          "RLCUSDT",
          "RLCUSDT"
         ],
         "yaxis": "y"
        },
        {
         "mode": "markers+lines",
         "type": "scatter",
         "x": [
          "2022-06-18T00:00:00",
          "2022-07-01T00:00:00"
         ],
         "xaxis": "x",
         "y": [
          "RLCUSDT",
          "RLCUSDT"
         ],
         "yaxis": "y"
        },
        {
         "mode": "markers+lines",
         "type": "scatter",
         "x": [
          "2023-01-18T00:00:00",
          "2023-02-07T00:00:00"
         ],
         "xaxis": "x",
         "y": [
          "RNDRBTC",
          "RNDRBTC"
         ],
         "yaxis": "y"
        },
        {
         "mode": "markers+lines",
         "type": "scatter",
         "x": [
          "2022-10-20T00:00:00",
          "2022-11-06T00:00:00"
         ],
         "xaxis": "x",
         "y": [
          "RNDRUSDT",
          "RNDRUSDT"
         ],
         "yaxis": "y"
        },
        {
         "mode": "markers+lines",
         "type": "scatter",
         "x": [
          "2023-01-07T00:00:00",
          "2023-02-07T00:00:00"
         ],
         "xaxis": "x",
         "y": [
          "RNDRUSDT",
          "RNDRUSDT"
         ],
         "yaxis": "y"
        },
        {
         "mode": "markers+lines",
         "type": "scatter",
         "x": [
          "2021-08-26T00:00:00",
          "2021-09-11T00:00:00"
         ],
         "xaxis": "x",
         "y": [
          "ROSEBTC",
          "ROSEBTC"
         ],
         "yaxis": "y"
        },
        {
         "mode": "markers+lines",
         "type": "scatter",
         "x": [
          "2021-11-10T00:00:00",
          "2021-11-23T00:00:00"
         ],
         "xaxis": "x",
         "y": [
          "ROSEBTC",
          "ROSEBTC"
         ],
         "yaxis": "y"
        },
        {
         "mode": "markers+lines",
         "type": "scatter",
         "x": [
          "2021-12-21T00:00:00",
          "2022-01-14T00:00:00"
         ],
         "xaxis": "x",
         "y": [
          "ROSEBTC",
          "ROSEBTC"
         ],
         "yaxis": "y"
        },
        {
         "mode": "markers+lines",
         "type": "scatter",
         "x": [
          "2022-07-25T00:00:00",
          "2022-08-08T00:00:00"
         ],
         "xaxis": "x",
         "y": [
          "ROSEBTC",
          "ROSEBTC"
         ],
         "yaxis": "y"
        },
        {
         "mode": "markers+lines",
         "type": "scatter",
         "x": [
          "2021-01-27T00:00:00",
          "2021-02-17T00:00:00"
         ],
         "xaxis": "x",
         "y": [
          "ROSEUSDT",
          "ROSEUSDT"
         ],
         "yaxis": "y"
        },
        {
         "mode": "markers+lines",
         "type": "scatter",
         "x": [
          "2021-02-28T00:00:00",
          "2021-03-14T00:00:00"
         ],
         "xaxis": "x",
         "y": [
          "ROSEUSDT",
          "ROSEUSDT"
         ],
         "yaxis": "y"
        },
        {
         "mode": "markers+lines",
         "type": "scatter",
         "x": [
          "2021-08-26T00:00:00",
          "2021-09-11T00:00:00"
         ],
         "xaxis": "x",
         "y": [
          "ROSEUSDT",
          "ROSEUSDT"
         ],
         "yaxis": "y"
        },
        {
         "mode": "markers+lines",
         "type": "scatter",
         "x": [
          "2021-11-05T00:00:00",
          "2021-11-23T00:00:00"
         ],
         "xaxis": "x",
         "y": [
          "ROSEUSDT",
          "ROSEUSDT"
         ],
         "yaxis": "y"
        },
        {
         "mode": "markers+lines",
         "type": "scatter",
         "x": [
          "2021-12-20T00:00:00",
          "2022-01-14T00:00:00"
         ],
         "xaxis": "x",
         "y": [
          "ROSEUSDT",
          "ROSEUSDT"
         ],
         "yaxis": "y"
        },
        {
         "mode": "markers+lines",
         "type": "scatter",
         "x": [
          "2022-07-25T00:00:00",
          "2022-08-08T00:00:00"
         ],
         "xaxis": "x",
         "y": [
          "ROSEUSDT",
          "ROSEUSDT"
         ],
         "yaxis": "y"
        },
        {
         "mode": "markers+lines",
         "type": "scatter",
         "x": [
          "2020-11-04T00:00:00",
          "2020-11-21T00:00:00"
         ],
         "xaxis": "x",
         "y": [
          "RSRUSDT",
          "RSRUSDT"
         ],
         "yaxis": "y"
        },
        {
         "mode": "markers+lines",
         "type": "scatter",
         "x": [
          "2020-12-23T00:00:00",
          "2021-01-18T00:00:00"
         ],
         "xaxis": "x",
         "y": [
          "RSRUSDT",
          "RSRUSDT"
         ],
         "yaxis": "y"
        },
        {
         "mode": "markers+lines",
         "type": "scatter",
         "x": [
          "2021-01-27T00:00:00",
          "2021-02-13T00:00:00"
         ],
         "xaxis": "x",
         "y": [
          "RSRUSDT",
          "RSRUSDT"
         ],
         "yaxis": "y"
        },
        {
         "mode": "markers+lines",
         "type": "scatter",
         "x": [
          "2021-02-25T00:00:00",
          "2021-03-21T00:00:00"
         ],
         "xaxis": "x",
         "y": [
          "RSRUSDT",
          "RSRUSDT"
         ],
         "yaxis": "y"
        },
        {
         "mode": "markers+lines",
         "type": "scatter",
         "x": [
          "2021-07-20T00:00:00",
          "2021-08-25T00:00:00"
         ],
         "xaxis": "x",
         "y": [
          "RSRUSDT",
          "RSRUSDT"
         ],
         "yaxis": "y"
        },
        {
         "mode": "markers+lines",
         "type": "scatter",
         "x": [
          "2022-05-12T00:00:00",
          "2022-06-07T00:00:00"
         ],
         "xaxis": "x",
         "y": [
          "RSRUSDT",
          "RSRUSDT"
         ],
         "yaxis": "y"
        },
        {
         "mode": "markers+lines",
         "type": "scatter",
         "x": [
          "2020-11-03T00:00:00",
          "2020-11-17T00:00:00"
         ],
         "xaxis": "x",
         "y": [
          "RUNEBTC",
          "RUNEBTC"
         ],
         "yaxis": "y"
        },
        {
         "mode": "markers+lines",
         "type": "scatter",
         "x": [
          "2021-01-08T00:00:00",
          "2021-02-01T00:00:00"
         ],
         "xaxis": "x",
         "y": [
          "RUNEBTC",
          "RUNEBTC"
         ],
         "yaxis": "y"
        },
        {
         "mode": "markers+lines",
         "type": "scatter",
         "x": [
          "2021-03-24T00:00:00",
          "2021-05-18T00:00:00"
         ],
         "xaxis": "x",
         "y": [
          "RUNEBTC",
          "RUNEBTC"
         ],
         "yaxis": "y"
        },
        {
         "mode": "markers+lines",
         "type": "scatter",
         "x": [
          "2021-10-19T00:00:00",
          "2021-11-02T00:00:00"
         ],
         "xaxis": "x",
         "y": [
          "RUNEBTC",
          "RUNEBTC"
         ],
         "yaxis": "y"
        },
        {
         "mode": "markers+lines",
         "type": "scatter",
         "x": [
          "2022-02-27T00:00:00",
          "2022-04-01T00:00:00"
         ],
         "xaxis": "x",
         "y": [
          "RUNEBTC",
          "RUNEBTC"
         ],
         "yaxis": "y"
        },
        {
         "mode": "markers+lines",
         "type": "scatter",
         "x": [
          "2023-08-02T00:00:00",
          "2023-08-20T00:00:00"
         ],
         "xaxis": "x",
         "y": [
          "RUNEBTC",
          "RUNEBTC"
         ],
         "yaxis": "y"
        },
        {
         "mode": "markers+lines",
         "type": "scatter",
         "x": [
          "2023-10-19T00:00:00",
          "2023-12-02T00:00:00"
         ],
         "xaxis": "x",
         "y": [
          "RUNEBTC",
          "RUNEBTC"
         ],
         "yaxis": "y"
        },
        {
         "mode": "markers+lines",
         "type": "scatter",
         "x": [
          "2020-11-03T00:00:00",
          "2020-11-17T00:00:00"
         ],
         "xaxis": "x",
         "y": [
          "RUNEUSDT",
          "RUNEUSDT"
         ],
         "yaxis": "y"
        },
        {
         "mode": "markers+lines",
         "type": "scatter",
         "x": [
          "2020-12-23T00:00:00",
          "2021-03-11T00:00:00"
         ],
         "xaxis": "x",
         "y": [
          "RUNEUSDT",
          "RUNEUSDT"
         ],
         "yaxis": "y"
        },
        {
         "mode": "markers+lines",
         "type": "scatter",
         "x": [
          "2021-03-24T00:00:00",
          "2021-05-18T00:00:00"
         ],
         "xaxis": "x",
         "y": [
          "RUNEUSDT",
          "RUNEUSDT"
         ],
         "yaxis": "y"
        },
        {
         "mode": "markers+lines",
         "type": "scatter",
         "x": [
          "2021-07-22T00:00:00",
          "2021-09-06T00:00:00"
         ],
         "xaxis": "x",
         "y": [
          "RUNEUSDT",
          "RUNEUSDT"
         ],
         "yaxis": "y"
        },
        {
         "mode": "markers+lines",
         "type": "scatter",
         "x": [
          "2021-10-12T00:00:00",
          "2021-11-02T00:00:00"
         ],
         "xaxis": "x",
         "y": [
          "RUNEUSDT",
          "RUNEUSDT"
         ],
         "yaxis": "y"
        },
        {
         "mode": "markers+lines",
         "type": "scatter",
         "x": [
          "2022-02-24T00:00:00",
          "2022-04-01T00:00:00"
         ],
         "xaxis": "x",
         "y": [
          "RUNEUSDT",
          "RUNEUSDT"
         ],
         "yaxis": "y"
        },
        {
         "mode": "markers+lines",
         "type": "scatter",
         "x": [
          "2023-10-19T00:00:00",
          "2023-12-02T00:00:00"
         ],
         "xaxis": "x",
         "y": [
          "RUNEUSDT",
          "RUNEUSDT"
         ],
         "yaxis": "y"
        },
        {
         "mode": "markers+lines",
         "type": "scatter",
         "x": [
          "2019-02-21T00:00:00",
          "2019-03-28T00:00:00"
         ],
         "xaxis": "x",
         "y": [
          "RVNBTC",
          "RVNBTC"
         ],
         "yaxis": "y"
        },
        {
         "mode": "markers+lines",
         "type": "scatter",
         "x": [
          "2021-01-15T00:00:00",
          "2021-02-20T00:00:00"
         ],
         "xaxis": "x",
         "y": [
          "RVNBTC",
          "RVNBTC"
         ],
         "yaxis": "y"
        },
        {
         "mode": "markers+lines",
         "type": "scatter",
         "x": [
          "2021-07-29T00:00:00",
          "2021-08-12T00:00:00"
         ],
         "xaxis": "x",
         "y": [
          "RVNBTC",
          "RVNBTC"
         ],
         "yaxis": "y"
        },
        {
         "mode": "markers+lines",
         "type": "scatter",
         "x": [
          "2022-08-28T00:00:00",
          "2022-09-14T00:00:00"
         ],
         "xaxis": "x",
         "y": [
          "RVNBTC",
          "RVNBTC"
         ],
         "yaxis": "y"
        },
        {
         "mode": "markers+lines",
         "type": "scatter",
         "x": [
          "2021-01-27T00:00:00",
          "2021-02-20T00:00:00"
         ],
         "xaxis": "x",
         "y": [
          "RVNUSDT",
          "RVNUSDT"
         ],
         "yaxis": "y"
        },
        {
         "mode": "markers+lines",
         "type": "scatter",
         "x": [
          "2021-07-24T00:00:00",
          "2021-08-13T00:00:00"
         ],
         "xaxis": "x",
         "y": [
          "RVNUSDT",
          "RVNUSDT"
         ],
         "yaxis": "y"
        },
        {
         "mode": "markers+lines",
         "type": "scatter",
         "x": [
          "2022-08-28T00:00:00",
          "2022-09-14T00:00:00"
         ],
         "xaxis": "x",
         "y": [
          "RVNUSDT",
          "RVNUSDT"
         ],
         "yaxis": "y"
        },
        {
         "mode": "markers+lines",
         "type": "scatter",
         "x": [
          "2021-01-14T00:00:00",
          "2021-03-28T00:00:00"
         ],
         "xaxis": "x",
         "y": [
          "SANDBTC",
          "SANDBTC"
         ],
         "yaxis": "y"
        },
        {
         "mode": "markers+lines",
         "type": "scatter",
         "x": [
          "2021-06-22T00:00:00",
          "2021-07-25T00:00:00"
         ],
         "xaxis": "x",
         "y": [
          "SANDBTC",
          "SANDBTC"
         ],
         "yaxis": "y"
        },
        {
         "mode": "markers+lines",
         "type": "scatter",
         "x": [
          "2021-10-19T00:00:00",
          "2021-11-28T00:00:00"
         ],
         "xaxis": "x",
         "y": [
          "SANDBTC",
          "SANDBTC"
         ],
         "yaxis": "y"
        },
        {
         "mode": "markers+lines",
         "type": "scatter",
         "x": [
          "2021-01-12T00:00:00",
          "2021-03-30T00:00:00"
         ],
         "xaxis": "x",
         "y": [
          "SANDUSDT",
          "SANDUSDT"
         ],
         "yaxis": "y"
        },
        {
         "mode": "markers+lines",
         "type": "scatter",
         "x": [
          "2021-06-22T00:00:00",
          "2021-07-25T00:00:00"
         ],
         "xaxis": "x",
         "y": [
          "SANDUSDT",
          "SANDUSDT"
         ],
         "yaxis": "y"
        },
        {
         "mode": "markers+lines",
         "type": "scatter",
         "x": [
          "2021-10-17T00:00:00",
          "2021-11-28T00:00:00"
         ],
         "xaxis": "x",
         "y": [
          "SANDUSDT",
          "SANDUSDT"
         ],
         "yaxis": "y"
        },
        {
         "mode": "markers+lines",
         "type": "scatter",
         "x": [
          "2022-12-31T00:00:00",
          "2023-01-22T00:00:00"
         ],
         "xaxis": "x",
         "y": [
          "SANDUSDT",
          "SANDUSDT"
         ],
         "yaxis": "y"
        },
        {
         "mode": "markers+lines",
         "type": "scatter",
         "x": [
          "2022-02-26T00:00:00",
          "2022-03-12T00:00:00"
         ],
         "xaxis": "x",
         "y": [
          "SANTOSBTC",
          "SANTOSBTC"
         ],
         "yaxis": "y"
        },
        {
         "mode": "markers+lines",
         "type": "scatter",
         "x": [
          "2022-05-12T00:00:00",
          "2022-05-20T00:00:00"
         ],
         "xaxis": "x",
         "y": [
          "SANTOSBTC",
          "SANTOSBTC"
         ],
         "yaxis": "y"
        },
        {
         "mode": "markers+lines",
         "type": "scatter",
         "x": [
          "2022-08-11T00:00:00",
          "2022-09-02T00:00:00"
         ],
         "xaxis": "x",
         "y": [
          "SANTOSBTC",
          "SANTOSBTC"
         ],
         "yaxis": "y"
        },
        {
         "mode": "markers+lines",
         "type": "scatter",
         "x": [
          "2022-02-26T00:00:00",
          "2022-03-25T00:00:00"
         ],
         "xaxis": "x",
         "y": [
          "SANTOSUSDT",
          "SANTOSUSDT"
         ],
         "yaxis": "y"
        },
        {
         "mode": "markers+lines",
         "type": "scatter",
         "x": [
          "2022-05-12T00:00:00",
          "2022-05-20T00:00:00"
         ],
         "xaxis": "x",
         "y": [
          "SANTOSUSDT",
          "SANTOSUSDT"
         ],
         "yaxis": "y"
        },
        {
         "mode": "markers+lines",
         "type": "scatter",
         "x": [
          "2022-08-09T00:00:00",
          "2022-09-02T00:00:00"
         ],
         "xaxis": "x",
         "y": [
          "SANTOSUSDT",
          "SANTOSUSDT"
         ],
         "yaxis": "y"
        },
        {
         "mode": "markers+lines",
         "type": "scatter",
         "x": [
          "2021-01-08T00:00:00",
          "2021-01-20T00:00:00"
         ],
         "xaxis": "x",
         "y": [
          "SCRTBTC",
          "SCRTBTC"
         ],
         "yaxis": "y"
        },
        {
         "mode": "markers+lines",
         "type": "scatter",
         "x": [
          "2021-02-07T00:00:00",
          "2021-02-22T00:00:00"
         ],
         "xaxis": "x",
         "y": [
          "SCRTBTC",
          "SCRTBTC"
         ],
         "yaxis": "y"
        },
        {
         "mode": "markers+lines",
         "type": "scatter",
         "x": [
          "2021-09-21T00:00:00",
          "2021-10-28T00:00:00"
         ],
         "xaxis": "x",
         "y": [
          "SCRTBTC",
          "SCRTBTC"
         ],
         "yaxis": "y"
        },
        {
         "mode": "markers+lines",
         "type": "scatter",
         "x": [
          "2021-12-20T00:00:00",
          "2022-01-18T00:00:00"
         ],
         "xaxis": "x",
         "y": [
          "SCRTBTC",
          "SCRTBTC"
         ],
         "yaxis": "y"
        },
        {
         "mode": "markers+lines",
         "type": "scatter",
         "x": [
          "2021-01-27T00:00:00",
          "2021-02-21T00:00:00"
         ],
         "xaxis": "x",
         "y": [
          "SCUSDT",
          "SCUSDT"
         ],
         "yaxis": "y"
        },
        {
         "mode": "markers+lines",
         "type": "scatter",
         "x": [
          "2021-03-02T00:00:00",
          "2021-04-17T00:00:00"
         ],
         "xaxis": "x",
         "y": [
          "SCUSDT",
          "SCUSDT"
         ],
         "yaxis": "y"
        },
        {
         "mode": "markers+lines",
         "type": "scatter",
         "x": [
          "2023-11-09T00:00:00",
          "2023-11-28T00:00:00"
         ],
         "xaxis": "x",
         "y": [
          "SEIBTC",
          "SEIBTC"
         ],
         "yaxis": "y"
        },
        {
         "mode": "markers+lines",
         "type": "scatter",
         "x": [
          "2023-12-15T00:00:00",
          "2024-01-17T00:00:00"
         ],
         "xaxis": "x",
         "y": [
          "SEIBTC",
          "SEIBTC"
         ],
         "yaxis": "y"
        },
        {
         "mode": "markers+lines",
         "type": "scatter",
         "x": [
          "2023-11-09T00:00:00",
          "2024-01-17T00:00:00"
         ],
         "xaxis": "x",
         "y": [
          "SEIUSDT",
          "SEIUSDT"
         ],
         "yaxis": "y"
        },
        {
         "mode": "markers+lines",
         "type": "scatter",
         "x": [
          "2021-03-13T00:00:00",
          "2021-03-22T00:00:00"
         ],
         "xaxis": "x",
         "y": [
          "SFPBTC",
          "SFPBTC"
         ],
         "yaxis": "y"
        },
        {
         "mode": "markers+lines",
         "type": "scatter",
         "x": [
          "2021-11-18T00:00:00",
          "2021-12-10T00:00:00"
         ],
         "xaxis": "x",
         "y": [
          "SFPBTC",
          "SFPBTC"
         ],
         "yaxis": "y"
        },
        {
         "mode": "markers+lines",
         "type": "scatter",
         "x": [
          "2022-11-12T00:00:00",
          "2022-11-18T00:00:00"
         ],
         "xaxis": "x",
         "y": [
          "SFPBTC",
          "SFPBTC"
         ],
         "yaxis": "y"
        },
        {
         "mode": "markers+lines",
         "type": "scatter",
         "x": [
          "2022-11-09T00:00:00",
          "2022-11-18T00:00:00"
         ],
         "xaxis": "x",
         "y": [
          "SFPUSDT",
          "SFPUSDT"
         ],
         "yaxis": "y"
        },
        {
         "mode": "markers+lines",
         "type": "scatter",
         "x": [
          "2021-09-21T00:00:00",
          "2021-10-27T00:00:00"
         ],
         "xaxis": "x",
         "y": [
          "SHIBUSDT",
          "SHIBUSDT"
         ],
         "yaxis": "y"
        },
        {
         "mode": "markers+lines",
         "type": "scatter",
         "x": [
          "2021-02-25T00:00:00",
          "2021-03-12T00:00:00"
         ],
         "xaxis": "x",
         "y": [
          "SKLBTC",
          "SKLBTC"
         ],
         "yaxis": "y"
        },
        {
         "mode": "markers+lines",
         "type": "scatter",
         "x": [
          "2022-03-18T00:00:00",
          "2022-04-01T00:00:00"
         ],
         "xaxis": "x",
         "y": [
          "SKLBTC",
          "SKLBTC"
         ],
         "yaxis": "y"
        },
        {
         "mode": "markers+lines",
         "type": "scatter",
         "x": [
          "2023-12-13T00:00:00",
          "2024-01-03T00:00:00"
         ],
         "xaxis": "x",
         "y": [
          "SKLBTC",
          "SKLBTC"
         ],
         "yaxis": "y"
        },
        {
         "mode": "markers+lines",
         "type": "scatter",
         "x": [
          "2021-01-02T00:00:00",
          "2021-02-11T00:00:00"
         ],
         "xaxis": "x",
         "y": [
          "SKLUSDT",
          "SKLUSDT"
         ],
         "yaxis": "y"
        },
        {
         "mode": "markers+lines",
         "type": "scatter",
         "x": [
          "2021-02-28T00:00:00",
          "2021-03-12T00:00:00"
         ],
         "xaxis": "x",
         "y": [
          "SKLUSDT",
          "SKLUSDT"
         ],
         "yaxis": "y"
        },
        {
         "mode": "markers+lines",
         "type": "scatter",
         "x": [
          "2022-03-15T00:00:00",
          "2022-04-01T00:00:00"
         ],
         "xaxis": "x",
         "y": [
          "SKLUSDT",
          "SKLUSDT"
         ],
         "yaxis": "y"
        },
        {
         "mode": "markers+lines",
         "type": "scatter",
         "x": [
          "2023-11-07T00:00:00",
          "2023-11-20T00:00:00"
         ],
         "xaxis": "x",
         "y": [
          "SKLUSDT",
          "SKLUSDT"
         ],
         "yaxis": "y"
        },
        {
         "mode": "markers+lines",
         "type": "scatter",
         "x": [
          "2023-12-15T00:00:00",
          "2024-01-10T00:00:00"
         ],
         "xaxis": "x",
         "y": [
          "SKLUSDT",
          "SKLUSDT"
         ],
         "yaxis": "y"
        },
        {
         "mode": "markers+lines",
         "type": "scatter",
         "x": [
          "2021-06-25T00:00:00",
          "2021-07-13T00:00:00"
         ],
         "xaxis": "x",
         "y": [
          "SLPUSDT",
          "SLPUSDT"
         ],
         "yaxis": "y"
        },
        {
         "mode": "markers+lines",
         "type": "scatter",
         "x": [
          "2022-02-02T00:00:00",
          "2022-02-10T00:00:00"
         ],
         "xaxis": "x",
         "y": [
          "SLPUSDT",
          "SLPUSDT"
         ],
         "yaxis": "y"
        },
        {
         "mode": "markers+lines",
         "type": "scatter",
         "x": [
          "2023-10-18T00:00:00",
          "2023-10-31T00:00:00"
         ],
         "xaxis": "x",
         "y": [
          "SLPUSDT",
          "SLPUSDT"
         ],
         "yaxis": "y"
        },
        {
         "mode": "markers+lines",
         "type": "scatter",
         "x": [
          "2017-12-07T00:00:00",
          "2018-01-03T00:00:00"
         ],
         "xaxis": "x",
         "y": [
          "SNTBTC",
          "SNTBTC"
         ],
         "yaxis": "y"
        },
        {
         "mode": "markers+lines",
         "type": "scatter",
         "x": [
          "2021-03-22T00:00:00",
          "2021-04-15T00:00:00"
         ],
         "xaxis": "x",
         "y": [
          "SNTBTC",
          "SNTBTC"
         ],
         "yaxis": "y"
        },
        {
         "mode": "markers+lines",
         "type": "scatter",
         "x": [
          "2023-10-24T00:00:00",
          "2023-11-04T00:00:00"
         ],
         "xaxis": "x",
         "y": [
          "SNTBTC",
          "SNTBTC"
         ],
         "yaxis": "y"
        },
        {
         "mode": "markers+lines",
         "type": "scatter",
         "x": [
          "2020-12-31T00:00:00",
          "2021-02-05T00:00:00"
         ],
         "xaxis": "x",
         "y": [
          "SNXBTC",
          "SNXBTC"
         ],
         "yaxis": "y"
        },
        {
         "mode": "markers+lines",
         "type": "scatter",
         "x": [
          "2020-11-03T00:00:00",
          "2020-11-23T00:00:00"
         ],
         "xaxis": "x",
         "y": [
          "SNXUSDT",
          "SNXUSDT"
         ],
         "yaxis": "y"
        },
        {
         "mode": "markers+lines",
         "type": "scatter",
         "x": [
          "2020-12-11T00:00:00",
          "2021-02-12T00:00:00"
         ],
         "xaxis": "x",
         "y": [
          "SNXUSDT",
          "SNXUSDT"
         ],
         "yaxis": "y"
        },
        {
         "mode": "markers+lines",
         "type": "scatter",
         "x": [
          "2021-06-25T00:00:00",
          "2021-07-11T00:00:00"
         ],
         "xaxis": "x",
         "y": [
          "SNXUSDT",
          "SNXUSDT"
         ],
         "yaxis": "y"
        },
        {
         "mode": "markers+lines",
         "type": "scatter",
         "x": [
          "2020-06-15T00:00:00",
          "2020-08-12T00:00:00"
         ],
         "xaxis": "x",
         "y": [
          "SOLBTC",
          "SOLBTC"
         ],
         "yaxis": "y"
        },
        {
         "mode": "markers+lines",
         "type": "scatter",
         "x": [
          "2020-12-27T00:00:00",
          "2021-02-24T00:00:00"
         ],
         "xaxis": "x",
         "y": [
          "SOLBTC",
          "SOLBTC"
         ],
         "yaxis": "y"
        },
        {
         "mode": "markers+lines",
         "type": "scatter",
         "x": [
          "2021-03-20T00:00:00",
          "2021-04-25T00:00:00"
         ],
         "xaxis": "x",
         "y": [
          "SOLBTC",
          "SOLBTC"
         ],
         "yaxis": "y"
        },
        {
         "mode": "markers+lines",
         "type": "scatter",
         "x": [
          "2021-08-09T00:00:00",
          "2021-09-08T00:00:00"
         ],
         "xaxis": "x",
         "y": [
          "SOLBTC",
          "SOLBTC"
         ],
         "yaxis": "y"
        },
        {
         "mode": "markers+lines",
         "type": "scatter",
         "x": [
          "2020-12-23T00:00:00",
          "2021-02-24T00:00:00"
         ],
         "xaxis": "x",
         "y": [
          "SOLUSDT",
          "SOLUSDT"
         ],
         "yaxis": "y"
        },
        {
         "mode": "markers+lines",
         "type": "scatter",
         "x": [
          "2021-03-25T00:00:00",
          "2021-05-01T00:00:00"
         ],
         "xaxis": "x",
         "y": [
          "SOLUSDT",
          "SOLUSDT"
         ],
         "yaxis": "y"
        },
        {
         "mode": "markers+lines",
         "type": "scatter",
         "x": [
          "2021-08-02T00:00:00",
          "2021-09-08T00:00:00"
         ],
         "xaxis": "x",
         "y": [
          "SOLUSDT",
          "SOLUSDT"
         ],
         "yaxis": "y"
        },
        {
         "mode": "markers+lines",
         "type": "scatter",
         "x": [
          "2022-12-29T00:00:00",
          "2023-01-29T00:00:00"
         ],
         "xaxis": "x",
         "y": [
          "SOLUSDT",
          "SOLUSDT"
         ],
         "yaxis": "y"
        },
        {
         "mode": "markers+lines",
         "type": "scatter",
         "x": [
          "2023-10-18T00:00:00",
          "2023-11-15T00:00:00"
         ],
         "xaxis": "x",
         "y": [
          "SOLUSDT",
          "SOLUSDT"
         ],
         "yaxis": "y"
        },
        {
         "mode": "markers+lines",
         "type": "scatter",
         "x": [
          "2022-01-22T00:00:00",
          "2022-02-20T00:00:00"
         ],
         "xaxis": "x",
         "y": [
          "SSVBTC",
          "SSVBTC"
         ],
         "yaxis": "y"
        },
        {
         "mode": "markers+lines",
         "type": "scatter",
         "x": [
          "2022-08-09T00:00:00",
          "2022-08-23T00:00:00"
         ],
         "xaxis": "x",
         "y": [
          "SSVBTC",
          "SSVBTC"
         ],
         "yaxis": "y"
        },
        {
         "mode": "markers+lines",
         "type": "scatter",
         "x": [
          "2023-01-28T00:00:00",
          "2023-02-27T00:00:00"
         ],
         "xaxis": "x",
         "y": [
          "SSVBTC",
          "SSVBTC"
         ],
         "yaxis": "y"
        },
        {
         "mode": "markers+lines",
         "type": "scatter",
         "x": [
          "2018-04-01T00:00:00",
          "2018-04-27T00:00:00"
         ],
         "xaxis": "x",
         "y": [
          "STEEMBTC",
          "STEEMBTC"
         ],
         "yaxis": "y"
        },
        {
         "mode": "markers+lines",
         "type": "scatter",
         "x": [
          "2020-03-08T00:00:00",
          "2020-03-19T00:00:00"
         ],
         "xaxis": "x",
         "y": [
          "STEEMBTC",
          "STEEMBTC"
         ],
         "yaxis": "y"
        },
        {
         "mode": "markers+lines",
         "type": "scatter",
         "x": [
          "2021-03-11T00:00:00",
          "2021-04-10T00:00:00"
         ],
         "xaxis": "x",
         "y": [
          "STEEMBTC",
          "STEEMBTC"
         ],
         "yaxis": "y"
        },
        {
         "mode": "markers+lines",
         "type": "scatter",
         "x": [
          "2023-01-20T00:00:00",
          "2023-02-16T00:00:00"
         ],
         "xaxis": "x",
         "y": [
          "STGBTC",
          "STGBTC"
         ],
         "yaxis": "y"
        },
        {
         "mode": "markers+lines",
         "type": "scatter",
         "x": [
          "2023-01-08T00:00:00",
          "2023-02-18T00:00:00"
         ],
         "xaxis": "x",
         "y": [
          "STGUSDT",
          "STGUSDT"
         ],
         "yaxis": "y"
        },
        {
         "mode": "markers+lines",
         "type": "scatter",
         "x": [
          "2021-01-27T00:00:00",
          "2021-02-21T00:00:00"
         ],
         "xaxis": "x",
         "y": [
          "STMXUSDT",
          "STMXUSDT"
         ],
         "yaxis": "y"
        },
        {
         "mode": "markers+lines",
         "type": "scatter",
         "x": [
          "2021-02-28T00:00:00",
          "2021-04-02T00:00:00"
         ],
         "xaxis": "x",
         "y": [
          "STMXUSDT",
          "STMXUSDT"
         ],
         "yaxis": "y"
        },
        {
         "mode": "markers+lines",
         "type": "scatter",
         "x": [
          "2023-07-08T00:00:00",
          "2023-07-22T00:00:00"
         ],
         "xaxis": "x",
         "y": [
          "STMXUSDT",
          "STMXUSDT"
         ],
         "yaxis": "y"
        },
        {
         "mode": "markers+lines",
         "type": "scatter",
         "x": [
          "2017-12-10T00:00:00",
          "2018-01-09T00:00:00"
         ],
         "xaxis": "x",
         "y": [
          "STORJBTC",
          "STORJBTC"
         ],
         "yaxis": "y"
        },
        {
         "mode": "markers+lines",
         "type": "scatter",
         "x": [
          "2020-08-01T00:00:00",
          "2020-08-29T00:00:00"
         ],
         "xaxis": "x",
         "y": [
          "STORJBTC",
          "STORJBTC"
         ],
         "yaxis": "y"
        },
        {
         "mode": "markers+lines",
         "type": "scatter",
         "x": [
          "2021-03-11T00:00:00",
          "2021-03-27T00:00:00"
         ],
         "xaxis": "x",
         "y": [
          "STORJBTC",
          "STORJBTC"
         ],
         "yaxis": "y"
        },
        {
         "mode": "markers+lines",
         "type": "scatter",
         "x": [
          "2021-11-10T00:00:00",
          "2021-11-27T00:00:00"
         ],
         "xaxis": "x",
         "y": [
          "STORJBTC",
          "STORJBTC"
         ],
         "yaxis": "y"
        },
        {
         "mode": "markers+lines",
         "type": "scatter",
         "x": [
          "2022-06-12T00:00:00",
          "2022-06-24T00:00:00"
         ],
         "xaxis": "x",
         "y": [
          "STORJBTC",
          "STORJBTC"
         ],
         "yaxis": "y"
        },
        {
         "mode": "markers+lines",
         "type": "scatter",
         "x": [
          "2021-01-27T00:00:00",
          "2021-02-14T00:00:00"
         ],
         "xaxis": "x",
         "y": [
          "STORJUSDT",
          "STORJUSDT"
         ],
         "yaxis": "y"
        },
        {
         "mode": "markers+lines",
         "type": "scatter",
         "x": [
          "2021-03-11T00:00:00",
          "2021-03-27T00:00:00"
         ],
         "xaxis": "x",
         "y": [
          "STORJUSDT",
          "STORJUSDT"
         ],
         "yaxis": "y"
        },
        {
         "mode": "markers+lines",
         "type": "scatter",
         "x": [
          "2022-06-14T00:00:00",
          "2022-06-24T00:00:00"
         ],
         "xaxis": "x",
         "y": [
          "STORJUSDT",
          "STORJUSDT"
         ],
         "yaxis": "y"
        },
        {
         "mode": "markers+lines",
         "type": "scatter",
         "x": [
          "2023-10-27T00:00:00",
          "2023-11-10T00:00:00"
         ],
         "xaxis": "x",
         "y": [
          "STORJUSDT",
          "STORJUSDT"
         ],
         "yaxis": "y"
        },
        {
         "mode": "markers+lines",
         "type": "scatter",
         "x": [
          "2020-08-01T00:00:00",
          "2020-08-23T00:00:00"
         ],
         "xaxis": "x",
         "y": [
          "STPTBTC",
          "STPTBTC"
         ],
         "yaxis": "y"
        },
        {
         "mode": "markers+lines",
         "type": "scatter",
         "x": [
          "2021-02-23T00:00:00",
          "2021-04-02T00:00:00"
         ],
         "xaxis": "x",
         "y": [
          "STPTBTC",
          "STPTBTC"
         ],
         "yaxis": "y"
        },
        {
         "mode": "markers+lines",
         "type": "scatter",
         "x": [
          "2021-09-29T00:00:00",
          "2021-10-07T00:00:00"
         ],
         "xaxis": "x",
         "y": [
          "STPTBTC",
          "STPTBTC"
         ],
         "yaxis": "y"
        },
        {
         "mode": "markers+lines",
         "type": "scatter",
         "x": [
          "2020-08-02T00:00:00",
          "2020-08-23T00:00:00"
         ],
         "xaxis": "x",
         "y": [
          "STPTUSDT",
          "STPTUSDT"
         ],
         "yaxis": "y"
        },
        {
         "mode": "markers+lines",
         "type": "scatter",
         "x": [
          "2021-02-01T00:00:00",
          "2021-04-02T00:00:00"
         ],
         "xaxis": "x",
         "y": [
          "STPTUSDT",
          "STPTUSDT"
         ],
         "yaxis": "y"
        },
        {
         "mode": "markers+lines",
         "type": "scatter",
         "x": [
          "2021-09-21T00:00:00",
          "2021-10-07T00:00:00"
         ],
         "xaxis": "x",
         "y": [
          "STPTUSDT",
          "STPTUSDT"
         ],
         "yaxis": "y"
        },
        {
         "mode": "markers+lines",
         "type": "scatter",
         "x": [
          "2021-01-18T00:00:00",
          "2021-02-14T00:00:00"
         ],
         "xaxis": "x",
         "y": [
          "STRAXBTC",
          "STRAXBTC"
         ],
         "yaxis": "y"
        },
        {
         "mode": "markers+lines",
         "type": "scatter",
         "x": [
          "2021-04-24T00:00:00",
          "2021-05-10T00:00:00"
         ],
         "xaxis": "x",
         "y": [
          "STRAXBTC",
          "STRAXBTC"
         ],
         "yaxis": "y"
        },
        {
         "mode": "markers+lines",
         "type": "scatter",
         "x": [
          "2022-06-13T00:00:00",
          "2022-06-29T00:00:00"
         ],
         "xaxis": "x",
         "y": [
          "STRAXBTC",
          "STRAXBTC"
         ],
         "yaxis": "y"
        },
        {
         "mode": "markers+lines",
         "type": "scatter",
         "x": [
          "2023-09-26T00:00:00",
          "2023-10-17T00:00:00"
         ],
         "xaxis": "x",
         "y": [
          "STRAXBTC",
          "STRAXBTC"
         ],
         "yaxis": "y"
        },
        {
         "mode": "markers+lines",
         "type": "scatter",
         "x": [
          "2021-01-21T00:00:00",
          "2021-02-14T00:00:00"
         ],
         "xaxis": "x",
         "y": [
          "STRAXUSDT",
          "STRAXUSDT"
         ],
         "yaxis": "y"
        },
        {
         "mode": "markers+lines",
         "type": "scatter",
         "x": [
          "2021-04-24T00:00:00",
          "2021-05-10T00:00:00"
         ],
         "xaxis": "x",
         "y": [
          "STRAXUSDT",
          "STRAXUSDT"
         ],
         "yaxis": "y"
        },
        {
         "mode": "markers+lines",
         "type": "scatter",
         "x": [
          "2022-06-16T00:00:00",
          "2022-06-29T00:00:00"
         ],
         "xaxis": "x",
         "y": [
          "STRAXUSDT",
          "STRAXUSDT"
         ],
         "yaxis": "y"
        },
        {
         "mode": "markers+lines",
         "type": "scatter",
         "x": [
          "2023-09-26T00:00:00",
          "2023-10-17T00:00:00"
         ],
         "xaxis": "x",
         "y": [
          "STRAXUSDT",
          "STRAXUSDT"
         ],
         "yaxis": "y"
        },
        {
         "mode": "markers+lines",
         "type": "scatter",
         "x": [
          "2021-04-03T00:00:00",
          "2021-04-20T00:00:00"
         ],
         "xaxis": "x",
         "y": [
          "STXBTC",
          "STXBTC"
         ],
         "yaxis": "y"
        },
        {
         "mode": "markers+lines",
         "type": "scatter",
         "x": [
          "2023-02-06T00:00:00",
          "2023-03-01T00:00:00"
         ],
         "xaxis": "x",
         "y": [
          "STXBTC",
          "STXBTC"
         ],
         "yaxis": "y"
        },
        {
         "mode": "markers+lines",
         "type": "scatter",
         "x": [
          "2020-01-30T00:00:00",
          "2020-02-12T00:00:00"
         ],
         "xaxis": "x",
         "y": [
          "STXUSDT",
          "STXUSDT"
         ],
         "yaxis": "y"
        },
        {
         "mode": "markers+lines",
         "type": "scatter",
         "x": [
          "2021-01-31T00:00:00",
          "2021-03-19T00:00:00"
         ],
         "xaxis": "x",
         "y": [
          "STXUSDT",
          "STXUSDT"
         ],
         "yaxis": "y"
        },
        {
         "mode": "markers+lines",
         "type": "scatter",
         "x": [
          "2021-04-03T00:00:00",
          "2021-04-14T00:00:00"
         ],
         "xaxis": "x",
         "y": [
          "STXUSDT",
          "STXUSDT"
         ],
         "yaxis": "y"
        },
        {
         "mode": "markers+lines",
         "type": "scatter",
         "x": [
          "2021-06-25T00:00:00",
          "2021-07-11T00:00:00"
         ],
         "xaxis": "x",
         "y": [
          "STXUSDT",
          "STXUSDT"
         ],
         "yaxis": "y"
        },
        {
         "mode": "markers+lines",
         "type": "scatter",
         "x": [
          "2021-09-28T00:00:00",
          "2021-10-18T00:00:00"
         ],
         "xaxis": "x",
         "y": [
          "STXUSDT",
          "STXUSDT"
         ],
         "yaxis": "y"
        },
        {
         "mode": "markers+lines",
         "type": "scatter",
         "x": [
          "2023-02-09T00:00:00",
          "2023-03-01T00:00:00"
         ],
         "xaxis": "x",
         "y": [
          "STXUSDT",
          "STXUSDT"
         ],
         "yaxis": "y"
        },
        {
         "mode": "markers+lines",
         "type": "scatter",
         "x": [
          "2023-11-21T00:00:00",
          "2024-01-08T00:00:00"
         ],
         "xaxis": "x",
         "y": [
          "STXUSDT",
          "STXUSDT"
         ],
         "yaxis": "y"
        },
        {
         "mode": "markers+lines",
         "type": "scatter",
         "x": [
          "2021-03-04T00:00:00",
          "2021-04-04T00:00:00"
         ],
         "xaxis": "x",
         "y": [
          "SUNUSDT",
          "SUNUSDT"
         ],
         "yaxis": "y"
        },
        {
         "mode": "markers+lines",
         "type": "scatter",
         "x": [
          "2021-05-23T00:00:00",
          "2021-06-03T00:00:00"
         ],
         "xaxis": "x",
         "y": [
          "SUNUSDT",
          "SUNUSDT"
         ],
         "yaxis": "y"
        },
        {
         "mode": "markers+lines",
         "type": "scatter",
         "x": [
          "2021-10-19T00:00:00",
          "2021-11-23T00:00:00"
         ],
         "xaxis": "x",
         "y": [
          "SUPERBTC",
          "SUPERBTC"
         ],
         "yaxis": "y"
        },
        {
         "mode": "markers+lines",
         "type": "scatter",
         "x": [
          "2023-10-31T00:00:00",
          "2023-12-04T00:00:00"
         ],
         "xaxis": "x",
         "y": [
          "SUPERBTC",
          "SUPERBTC"
         ],
         "yaxis": "y"
        },
        {
         "mode": "markers+lines",
         "type": "scatter",
         "x": [
          "2021-07-05T00:00:00",
          "2021-08-16T00:00:00"
         ],
         "xaxis": "x",
         "y": [
          "SUPERUSDT",
          "SUPERUSDT"
         ],
         "yaxis": "y"
        },
        {
         "mode": "markers+lines",
         "type": "scatter",
         "x": [
          "2021-10-19T00:00:00",
          "2021-11-08T00:00:00"
         ],
         "xaxis": "x",
         "y": [
          "SUPERUSDT",
          "SUPERUSDT"
         ],
         "yaxis": "y"
        },
        {
         "mode": "markers+lines",
         "type": "scatter",
         "x": [
          "2023-10-31T00:00:00",
          "2023-12-04T00:00:00"
         ],
         "xaxis": "x",
         "y": [
          "SUPERUSDT",
          "SUPERUSDT"
         ],
         "yaxis": "y"
        },
        {
         "mode": "markers+lines",
         "type": "scatter",
         "x": [
          "2020-11-05T00:00:00",
          "2020-12-15T00:00:00"
         ],
         "xaxis": "x",
         "y": [
          "SUSHIBTC",
          "SUSHIBTC"
         ],
         "yaxis": "y"
        },
        {
         "mode": "markers+lines",
         "type": "scatter",
         "x": [
          "2021-01-02T00:00:00",
          "2021-02-04T00:00:00"
         ],
         "xaxis": "x",
         "y": [
          "SUSHIBTC",
          "SUSHIBTC"
         ],
         "yaxis": "y"
        },
        {
         "mode": "markers+lines",
         "type": "scatter",
         "x": [
          "2021-05-04T00:00:00",
          "2021-05-18T00:00:00"
         ],
         "xaxis": "x",
         "y": [
          "SUSHIBTC",
          "SUSHIBTC"
         ],
         "yaxis": "y"
        },
        {
         "mode": "markers+lines",
         "type": "scatter",
         "x": [
          "2020-11-04T00:00:00",
          "2021-03-13T00:00:00"
         ],
         "xaxis": "x",
         "y": [
          "SUSHIUSDT",
          "SUSHIUSDT"
         ],
         "yaxis": "y"
        },
        {
         "mode": "markers+lines",
         "type": "scatter",
         "x": [
          "2023-10-18T00:00:00",
          "2023-12-04T00:00:00"
         ],
         "xaxis": "x",
         "y": [
          "SUSHIUSDT",
          "SUSHIUSDT"
         ],
         "yaxis": "y"
        },
        {
         "mode": "markers+lines",
         "type": "scatter",
         "x": [
          "2021-01-14T00:00:00",
          "2021-02-19T00:00:00"
         ],
         "xaxis": "x",
         "y": [
          "SXPBTC",
          "SXPBTC"
         ],
         "yaxis": "y"
        },
        {
         "mode": "markers+lines",
         "type": "scatter",
         "x": [
          "2023-03-27T00:00:00",
          "2023-04-03T00:00:00"
         ],
         "xaxis": "x",
         "y": [
          "SXPBTC",
          "SXPBTC"
         ],
         "yaxis": "y"
        },
        {
         "mode": "markers+lines",
         "type": "scatter",
         "x": [
          "2021-01-21T00:00:00",
          "2021-02-19T00:00:00"
         ],
         "xaxis": "x",
         "y": [
          "SXPUSDT",
          "SXPUSDT"
         ],
         "yaxis": "y"
        },
        {
         "mode": "markers+lines",
         "type": "scatter",
         "x": [
          "2021-07-23T00:00:00",
          "2021-08-27T00:00:00"
         ],
         "xaxis": "x",
         "y": [
          "SXPUSDT",
          "SXPUSDT"
         ],
         "yaxis": "y"
        },
        {
         "mode": "markers+lines",
         "type": "scatter",
         "x": [
          "2023-03-27T00:00:00",
          "2023-04-03T00:00:00"
         ],
         "xaxis": "x",
         "y": [
          "SXPUSDT",
          "SXPUSDT"
         ],
         "yaxis": "y"
        },
        {
         "mode": "markers+lines",
         "type": "scatter",
         "x": [
          "2020-07-04T00:00:00",
          "2020-07-23T00:00:00"
         ],
         "xaxis": "x",
         "y": [
          "SYSBTC",
          "SYSBTC"
         ],
         "yaxis": "y"
        },
        {
         "mode": "markers+lines",
         "type": "scatter",
         "x": [
          "2020-11-05T00:00:00",
          "2020-11-29T00:00:00"
         ],
         "xaxis": "x",
         "y": [
          "SYSBTC",
          "SYSBTC"
         ],
         "yaxis": "y"
        },
        {
         "mode": "markers+lines",
         "type": "scatter",
         "x": [
          "2021-04-25T00:00:00",
          "2021-05-05T00:00:00"
         ],
         "xaxis": "x",
         "y": [
          "SYSBTC",
          "SYSBTC"
         ],
         "yaxis": "y"
        },
        {
         "mode": "markers+lines",
         "type": "scatter",
         "x": [
          "2021-11-03T00:00:00",
          "2022-01-21T00:00:00"
         ],
         "xaxis": "x",
         "y": [
          "SYSBTC",
          "SYSBTC"
         ],
         "yaxis": "y"
        },
        {
         "mode": "markers+lines",
         "type": "scatter",
         "x": [
          "2021-11-01T00:00:00",
          "2021-12-01T00:00:00"
         ],
         "xaxis": "x",
         "y": [
          "SYSUSDT",
          "SYSUSDT"
         ],
         "yaxis": "y"
        },
        {
         "mode": "markers+lines",
         "type": "scatter",
         "x": [
          "2020-05-07T00:00:00",
          "2020-05-24T00:00:00"
         ],
         "xaxis": "x",
         "y": [
          "TFUELBTC",
          "TFUELBTC"
         ],
         "yaxis": "y"
        },
        {
         "mode": "markers+lines",
         "type": "scatter",
         "x": [
          "2021-02-08T00:00:00",
          "2021-03-23T00:00:00"
         ],
         "xaxis": "x",
         "y": [
          "TFUELBTC",
          "TFUELBTC"
         ],
         "yaxis": "y"
        },
        {
         "mode": "markers+lines",
         "type": "scatter",
         "x": [
          "2021-05-21T00:00:00",
          "2021-06-08T00:00:00"
         ],
         "xaxis": "x",
         "y": [
          "TFUELBTC",
          "TFUELBTC"
         ],
         "yaxis": "y"
        },
        {
         "mode": "markers+lines",
         "type": "scatter",
         "x": [
          "2020-05-11T00:00:00",
          "2020-05-24T00:00:00"
         ],
         "xaxis": "x",
         "y": [
          "TFUELUSDT",
          "TFUELUSDT"
         ],
         "yaxis": "y"
        },
        {
         "mode": "markers+lines",
         "type": "scatter",
         "x": [
          "2020-11-27T00:00:00",
          "2021-01-02T00:00:00"
         ],
         "xaxis": "x",
         "y": [
          "TFUELUSDT",
          "TFUELUSDT"
         ],
         "yaxis": "y"
        },
        {
         "mode": "markers+lines",
         "type": "scatter",
         "x": [
          "2021-01-31T00:00:00",
          "2021-03-23T00:00:00"
         ],
         "xaxis": "x",
         "y": [
          "TFUELUSDT",
          "TFUELUSDT"
         ],
         "yaxis": "y"
        },
        {
         "mode": "markers+lines",
         "type": "scatter",
         "x": [
          "2021-05-23T00:00:00",
          "2021-06-20T00:00:00"
         ],
         "xaxis": "x",
         "y": [
          "TFUELUSDT",
          "TFUELUSDT"
         ],
         "yaxis": "y"
        },
        {
         "mode": "markers+lines",
         "type": "scatter",
         "x": [
          "2019-02-18T00:00:00",
          "2019-03-10T00:00:00"
         ],
         "xaxis": "x",
         "y": [
          "THETABTC",
          "THETABTC"
         ],
         "yaxis": "y"
        },
        {
         "mode": "markers+lines",
         "type": "scatter",
         "x": [
          "2020-05-10T00:00:00",
          "2020-05-26T00:00:00"
         ],
         "xaxis": "x",
         "y": [
          "THETABTC",
          "THETABTC"
         ],
         "yaxis": "y"
        },
        {
         "mode": "markers+lines",
         "type": "scatter",
         "x": [
          "2020-12-17T00:00:00",
          "2021-01-02T00:00:00"
         ],
         "xaxis": "x",
         "y": [
          "THETABTC",
          "THETABTC"
         ],
         "yaxis": "y"
        },
        {
         "mode": "markers+lines",
         "type": "scatter",
         "x": [
          "2021-02-23T00:00:00",
          "2021-03-25T00:00:00"
         ],
         "xaxis": "x",
         "y": [
          "THETABTC",
          "THETABTC"
         ],
         "yaxis": "y"
        },
        {
         "mode": "markers+lines",
         "type": "scatter",
         "x": [
          "2020-04-17T00:00:00",
          "2020-05-26T00:00:00"
         ],
         "xaxis": "x",
         "y": [
          "THETAUSDT",
          "THETAUSDT"
         ],
         "yaxis": "y"
        },
        {
         "mode": "markers+lines",
         "type": "scatter",
         "x": [
          "2020-07-29T00:00:00",
          "2020-08-24T00:00:00"
         ],
         "xaxis": "x",
         "y": [
          "THETAUSDT",
          "THETAUSDT"
         ],
         "yaxis": "y"
        },
        {
         "mode": "markers+lines",
         "type": "scatter",
         "x": [
          "2020-12-10T00:00:00",
          "2021-01-02T00:00:00"
         ],
         "xaxis": "x",
         "y": [
          "THETAUSDT",
          "THETAUSDT"
         ],
         "yaxis": "y"
        },
        {
         "mode": "markers+lines",
         "type": "scatter",
         "x": [
          "2021-02-25T00:00:00",
          "2021-03-29T00:00:00"
         ],
         "xaxis": "x",
         "y": [
          "THETAUSDT",
          "THETAUSDT"
         ],
         "yaxis": "y"
        },
        {
         "mode": "markers+lines",
         "type": "scatter",
         "x": [
          "2022-11-17T00:00:00",
          "2022-12-07T00:00:00"
         ],
         "xaxis": "x",
         "y": [
          "TKOBTC",
          "TKOBTC"
         ],
         "yaxis": "y"
        },
        {
         "mode": "markers+lines",
         "type": "scatter",
         "x": [
          "2022-11-17T00:00:00",
          "2022-12-07T00:00:00"
         ],
         "xaxis": "x",
         "y": [
          "TKOUSDT",
          "TKOUSDT"
         ],
         "yaxis": "y"
        },
        {
         "mode": "markers+lines",
         "type": "scatter",
         "x": [
          "2021-07-01T00:00:00",
          "2021-07-25T00:00:00"
         ],
         "xaxis": "x",
         "y": [
          "TLMBTC",
          "TLMBTC"
         ],
         "yaxis": "y"
        },
        {
         "mode": "markers+lines",
         "type": "scatter",
         "x": [
          "2021-11-16T00:00:00",
          "2021-11-25T00:00:00"
         ],
         "xaxis": "x",
         "y": [
          "TLMBTC",
          "TLMBTC"
         ],
         "yaxis": "y"
        },
        {
         "mode": "markers+lines",
         "type": "scatter",
         "x": [
          "2021-07-01T00:00:00",
          "2021-07-25T00:00:00"
         ],
         "xaxis": "x",
         "y": [
          "TLMUSDT",
          "TLMUSDT"
         ],
         "yaxis": "y"
        },
        {
         "mode": "markers+lines",
         "type": "scatter",
         "x": [
          "2021-03-10T00:00:00",
          "2021-03-30T00:00:00"
         ],
         "xaxis": "x",
         "y": [
          "TRBBTC",
          "TRBBTC"
         ],
         "yaxis": "y"
        },
        {
         "mode": "markers+lines",
         "type": "scatter",
         "x": [
          "2022-07-20T00:00:00",
          "2022-08-22T00:00:00"
         ],
         "xaxis": "x",
         "y": [
          "TRBBTC",
          "TRBBTC"
         ],
         "yaxis": "y"
        },
        {
         "mode": "markers+lines",
         "type": "scatter",
         "x": [
          "2023-08-22T00:00:00",
          "2023-09-27T00:00:00"
         ],
         "xaxis": "x",
         "y": [
          "TRBBTC",
          "TRBBTC"
         ],
         "yaxis": "y"
        },
        {
         "mode": "markers+lines",
         "type": "scatter",
         "x": [
          "2023-10-12T00:00:00",
          "2023-11-08T00:00:00"
         ],
         "xaxis": "x",
         "y": [
          "TRBBTC",
          "TRBBTC"
         ],
         "yaxis": "y"
        },
        {
         "mode": "markers+lines",
         "type": "scatter",
         "x": [
          "2023-12-06T00:00:00",
          "2023-12-30T00:00:00"
         ],
         "xaxis": "x",
         "y": [
          "TRBBTC",
          "TRBBTC"
         ],
         "yaxis": "y"
        },
        {
         "mode": "markers+lines",
         "type": "scatter",
         "x": [
          "2021-04-25T00:00:00",
          "2021-05-09T00:00:00"
         ],
         "xaxis": "x",
         "y": [
          "TRBUSDT",
          "TRBUSDT"
         ],
         "yaxis": "y"
        },
        {
         "mode": "markers+lines",
         "type": "scatter",
         "x": [
          "2022-07-20T00:00:00",
          "2022-08-22T00:00:00"
         ],
         "xaxis": "x",
         "y": [
          "TRBUSDT",
          "TRBUSDT"
         ],
         "yaxis": "y"
        },
        {
         "mode": "markers+lines",
         "type": "scatter",
         "x": [
          "2023-08-22T00:00:00",
          "2023-09-27T00:00:00"
         ],
         "xaxis": "x",
         "y": [
          "TRBUSDT",
          "TRBUSDT"
         ],
         "yaxis": "y"
        },
        {
         "mode": "markers+lines",
         "type": "scatter",
         "x": [
          "2023-10-12T00:00:00",
          "2023-11-08T00:00:00"
         ],
         "xaxis": "x",
         "y": [
          "TRBUSDT",
          "TRBUSDT"
         ],
         "yaxis": "y"
        },
        {
         "mode": "markers+lines",
         "type": "scatter",
         "x": [
          "2023-12-06T00:00:00",
          "2023-12-30T00:00:00"
         ],
         "xaxis": "x",
         "y": [
          "TRBUSDT",
          "TRBUSDT"
         ],
         "yaxis": "y"
        },
        {
         "mode": "markers+lines",
         "type": "scatter",
         "x": [
          "2021-01-27T00:00:00",
          "2021-02-13T00:00:00"
         ],
         "xaxis": "x",
         "y": [
          "TROYUSDT",
          "TROYUSDT"
         ],
         "yaxis": "y"
        },
        {
         "mode": "markers+lines",
         "type": "scatter",
         "x": [
          "2021-02-23T00:00:00",
          "2021-04-17T00:00:00"
         ],
         "xaxis": "x",
         "y": [
          "TROYUSDT",
          "TROYUSDT"
         ],
         "yaxis": "y"
        },
        {
         "mode": "markers+lines",
         "type": "scatter",
         "x": [
          "2021-07-28T00:00:00",
          "2021-08-12T00:00:00"
         ],
         "xaxis": "x",
         "y": [
          "TRUBTC",
          "TRUBTC"
         ],
         "yaxis": "y"
        },
        {
         "mode": "markers+lines",
         "type": "scatter",
         "x": [
          "2023-02-02T00:00:00",
          "2023-03-07T00:00:00"
         ],
         "xaxis": "x",
         "y": [
          "TRUBTC",
          "TRUBTC"
         ],
         "yaxis": "y"
        },
        {
         "mode": "markers+lines",
         "type": "scatter",
         "x": [
          "2021-07-22T00:00:00",
          "2021-08-11T00:00:00"
         ],
         "xaxis": "x",
         "y": [
          "TRUUSDT",
          "TRUUSDT"
         ],
         "yaxis": "y"
        },
        {
         "mode": "markers+lines",
         "type": "scatter",
         "x": [
          "2023-02-05T00:00:00",
          "2023-03-07T00:00:00"
         ],
         "xaxis": "x",
         "y": [
          "TRUUSDT",
          "TRUUSDT"
         ],
         "yaxis": "y"
        },
        {
         "mode": "markers+lines",
         "type": "scatter",
         "x": [
          "2017-12-04T00:00:00",
          "2018-01-04T00:00:00"
         ],
         "xaxis": "x",
         "y": [
          "TRXBTC",
          "TRXBTC"
         ],
         "yaxis": "y"
        },
        {
         "mode": "markers+lines",
         "type": "scatter",
         "x": [
          "2018-04-13T00:00:00",
          "2018-05-01T00:00:00"
         ],
         "xaxis": "x",
         "y": [
          "TRXBTC",
          "TRXBTC"
         ],
         "yaxis": "y"
        },
        {
         "mode": "markers+lines",
         "type": "scatter",
         "x": [
          "2021-03-17T00:00:00",
          "2021-04-16T00:00:00"
         ],
         "xaxis": "x",
         "y": [
          "TRXBTC",
          "TRXBTC"
         ],
         "yaxis": "y"
        },
        {
         "mode": "markers+lines",
         "type": "scatter",
         "x": [
          "2021-01-27T00:00:00",
          "2021-02-19T00:00:00"
         ],
         "xaxis": "x",
         "y": [
          "TRXUSDT",
          "TRXUSDT"
         ],
         "yaxis": "y"
        },
        {
         "mode": "markers+lines",
         "type": "scatter",
         "x": [
          "2021-03-18T00:00:00",
          "2021-04-15T00:00:00"
         ],
         "xaxis": "x",
         "y": [
          "TRXUSDT",
          "TRXUSDT"
         ],
         "yaxis": "y"
        },
        {
         "mode": "markers+lines",
         "type": "scatter",
         "x": [
          "2021-08-09T00:00:00",
          "2021-09-04T00:00:00"
         ],
         "xaxis": "x",
         "y": [
          "TWTBTC",
          "TWTBTC"
         ],
         "yaxis": "y"
        },
        {
         "mode": "markers+lines",
         "type": "scatter",
         "x": [
          "2022-06-06T00:00:00",
          "2022-06-22T00:00:00"
         ],
         "xaxis": "x",
         "y": [
          "TWTBTC",
          "TWTBTC"
         ],
         "yaxis": "y"
        },
        {
         "mode": "markers+lines",
         "type": "scatter",
         "x": [
          "2022-10-29T00:00:00",
          "2022-12-11T00:00:00"
         ],
         "xaxis": "x",
         "y": [
          "TWTBTC",
          "TWTBTC"
         ],
         "yaxis": "y"
        },
        {
         "mode": "markers+lines",
         "type": "scatter",
         "x": [
          "2021-07-21T00:00:00",
          "2021-09-05T00:00:00"
         ],
         "xaxis": "x",
         "y": [
          "TWTUSDT",
          "TWTUSDT"
         ],
         "yaxis": "y"
        },
        {
         "mode": "markers+lines",
         "type": "scatter",
         "x": [
          "2022-03-13T00:00:00",
          "2022-03-27T00:00:00"
         ],
         "xaxis": "x",
         "y": [
          "TWTUSDT",
          "TWTUSDT"
         ],
         "yaxis": "y"
        },
        {
         "mode": "markers+lines",
         "type": "scatter",
         "x": [
          "2023-01-09T00:00:00",
          "2023-01-26T00:00:00"
         ],
         "xaxis": "x",
         "y": [
          "TUSDT",
          "TUSDT"
         ],
         "yaxis": "y"
        },
        {
         "mode": "markers+lines",
         "type": "scatter",
         "x": [
          "2021-01-14T00:00:00",
          "2021-02-04T00:00:00"
         ],
         "xaxis": "x",
         "y": [
          "UMABTC",
          "UMABTC"
         ],
         "yaxis": "y"
        },
        {
         "mode": "markers+lines",
         "type": "scatter",
         "x": [
          "2024-01-09T00:00:00",
          "2024-01-23T00:00:00"
         ],
         "xaxis": "x",
         "y": [
          "UMABTC",
          "UMABTC"
         ],
         "yaxis": "y"
        },
        {
         "mode": "markers+lines",
         "type": "scatter",
         "x": [
          "2021-01-27T00:00:00",
          "2021-02-04T00:00:00"
         ],
         "xaxis": "x",
         "y": [
          "UMAUSDT",
          "UMAUSDT"
         ],
         "yaxis": "y"
        },
        {
         "mode": "markers+lines",
         "type": "scatter",
         "x": [
          "2024-01-07T00:00:00",
          "2024-01-23T00:00:00"
         ],
         "xaxis": "x",
         "y": [
          "UMAUSDT",
          "UMAUSDT"
         ],
         "yaxis": "y"
        },
        {
         "mode": "markers+lines",
         "type": "scatter",
         "x": [
          "2021-01-14T00:00:00",
          "2021-03-01T00:00:00"
         ],
         "xaxis": "x",
         "y": [
          "UNFIBTC",
          "UNFIBTC"
         ],
         "yaxis": "y"
        },
        {
         "mode": "markers+lines",
         "type": "scatter",
         "x": [
          "2022-05-16T00:00:00",
          "2022-06-07T00:00:00"
         ],
         "xaxis": "x",
         "y": [
          "UNFIBTC",
          "UNFIBTC"
         ],
         "yaxis": "y"
        },
        {
         "mode": "markers+lines",
         "type": "scatter",
         "x": [
          "2023-08-10T00:00:00",
          "2023-09-07T00:00:00"
         ],
         "xaxis": "x",
         "y": [
          "UNFIBTC",
          "UNFIBTC"
         ],
         "yaxis": "y"
        },
        {
         "mode": "markers+lines",
         "type": "scatter",
         "x": [
          "2021-01-21T00:00:00",
          "2021-03-01T00:00:00"
         ],
         "xaxis": "x",
         "y": [
          "UNFIUSDT",
          "UNFIUSDT"
         ],
         "yaxis": "y"
        },
        {
         "mode": "markers+lines",
         "type": "scatter",
         "x": [
          "2021-07-20T00:00:00",
          "2021-09-05T00:00:00"
         ],
         "xaxis": "x",
         "y": [
          "UNFIUSDT",
          "UNFIUSDT"
         ],
         "yaxis": "y"
        },
        {
         "mode": "markers+lines",
         "type": "scatter",
         "x": [
          "2022-05-16T00:00:00",
          "2022-06-07T00:00:00"
         ],
         "xaxis": "x",
         "y": [
          "UNFIUSDT",
          "UNFIUSDT"
         ],
         "yaxis": "y"
        },
        {
         "mode": "markers+lines",
         "type": "scatter",
         "x": [
          "2022-07-25T00:00:00",
          "2022-08-16T00:00:00"
         ],
         "xaxis": "x",
         "y": [
          "UNFIUSDT",
          "UNFIUSDT"
         ],
         "yaxis": "y"
        },
        {
         "mode": "markers+lines",
         "type": "scatter",
         "x": [
          "2023-08-17T00:00:00",
          "2023-09-07T00:00:00"
         ],
         "xaxis": "x",
         "y": [
          "UNFIUSDT",
          "UNFIUSDT"
         ],
         "yaxis": "y"
        },
        {
         "mode": "markers+lines",
         "type": "scatter",
         "x": [
          "2021-01-08T00:00:00",
          "2021-02-01T00:00:00"
         ],
         "xaxis": "x",
         "y": [
          "UNIBTC",
          "UNIBTC"
         ],
         "yaxis": "y"
        },
        {
         "mode": "markers+lines",
         "type": "scatter",
         "x": [
          "2020-12-23T00:00:00",
          "2021-03-07T00:00:00"
         ],
         "xaxis": "x",
         "y": [
          "UNIUSDT",
          "UNIUSDT"
         ],
         "yaxis": "y"
        },
        {
         "mode": "markers+lines",
         "type": "scatter",
         "x": [
          "2023-11-21T00:00:00",
          "2023-12-03T00:00:00"
         ],
         "xaxis": "x",
         "y": [
          "USTCUSDT",
          "USTCUSDT"
         ],
         "yaxis": "y"
        },
        {
         "mode": "markers+lines",
         "type": "scatter",
         "x": [
          "2020-12-26T00:00:00",
          "2021-02-18T00:00:00"
         ],
         "xaxis": "x",
         "y": [
          "UTKUSDT",
          "UTKUSDT"
         ],
         "yaxis": "y"
        },
        {
         "mode": "markers+lines",
         "type": "scatter",
         "x": [
          "2021-02-28T00:00:00",
          "2021-03-15T00:00:00"
         ],
         "xaxis": "x",
         "y": [
          "UTKUSDT",
          "UTKUSDT"
         ],
         "yaxis": "y"
        },
        {
         "mode": "markers+lines",
         "type": "scatter",
         "x": [
          "2021-04-25T00:00:00",
          "2021-05-05T00:00:00"
         ],
         "xaxis": "x",
         "y": [
          "UTKUSDT",
          "UTKUSDT"
         ],
         "yaxis": "y"
        },
        {
         "mode": "markers+lines",
         "type": "scatter",
         "x": [
          "2019-10-26T00:00:00",
          "2019-11-15T00:00:00"
         ],
         "xaxis": "x",
         "y": [
          "VETBTC",
          "VETBTC"
         ],
         "yaxis": "y"
        },
        {
         "mode": "markers+lines",
         "type": "scatter",
         "x": [
          "2020-05-19T00:00:00",
          "2020-06-12T00:00:00"
         ],
         "xaxis": "x",
         "y": [
          "VETBTC",
          "VETBTC"
         ],
         "yaxis": "y"
        },
        {
         "mode": "markers+lines",
         "type": "scatter",
         "x": [
          "2020-06-21T00:00:00",
          "2020-07-08T00:00:00"
         ],
         "xaxis": "x",
         "y": [
          "VETBTC",
          "VETBTC"
         ],
         "yaxis": "y"
        },
        {
         "mode": "markers+lines",
         "type": "scatter",
         "x": [
          "2021-03-31T00:00:00",
          "2021-04-18T00:00:00"
         ],
         "xaxis": "x",
         "y": [
          "VETBTC",
          "VETBTC"
         ],
         "yaxis": "y"
        },
        {
         "mode": "markers+lines",
         "type": "scatter",
         "x": [
          "2019-10-23T00:00:00",
          "2019-11-15T00:00:00"
         ],
         "xaxis": "x",
         "y": [
          "VETUSDT",
          "VETUSDT"
         ],
         "yaxis": "y"
        },
        {
         "mode": "markers+lines",
         "type": "scatter",
         "x": [
          "2020-05-21T00:00:00",
          "2020-06-12T00:00:00"
         ],
         "xaxis": "x",
         "y": [
          "VETUSDT",
          "VETUSDT"
         ],
         "yaxis": "y"
        },
        {
         "mode": "markers+lines",
         "type": "scatter",
         "x": [
          "2020-06-27T00:00:00",
          "2020-07-08T00:00:00"
         ],
         "xaxis": "x",
         "y": [
          "VETUSDT",
          "VETUSDT"
         ],
         "yaxis": "y"
        },
        {
         "mode": "markers+lines",
         "type": "scatter",
         "x": [
          "2020-12-23T00:00:00",
          "2021-01-20T00:00:00"
         ],
         "xaxis": "x",
         "y": [
          "VETUSDT",
          "VETUSDT"
         ],
         "yaxis": "y"
        },
        {
         "mode": "markers+lines",
         "type": "scatter",
         "x": [
          "2021-01-31T00:00:00",
          "2021-04-18T00:00:00"
         ],
         "xaxis": "x",
         "y": [
          "VETUSDT",
          "VETUSDT"
         ],
         "yaxis": "y"
        },
        {
         "mode": "markers+lines",
         "type": "scatter",
         "x": [
          "2022-07-11T00:00:00",
          "2022-07-13T00:00:00"
         ],
         "xaxis": "x",
         "y": [
          "VGXUSDT",
          "VGXUSDT"
         ],
         "yaxis": "y"
        },
        {
         "mode": "markers+lines",
         "type": "scatter",
         "x": [
          "2022-08-19T00:00:00",
          "2022-09-07T00:00:00"
         ],
         "xaxis": "x",
         "y": [
          "VGXUSDT",
          "VGXUSDT"
         ],
         "yaxis": "y"
        },
        {
         "mode": "markers+lines",
         "type": "scatter",
         "x": [
          "2021-03-03T00:00:00",
          "2021-03-30T00:00:00"
         ],
         "xaxis": "x",
         "y": [
          "VIDTBTC",
          "VIDTBTC"
         ],
         "yaxis": "y"
        },
        {
         "mode": "markers+lines",
         "type": "scatter",
         "x": [
          "2022-06-22T00:00:00",
          "2022-07-07T00:00:00"
         ],
         "xaxis": "x",
         "y": [
          "VIDTBTC",
          "VIDTBTC"
         ],
         "yaxis": "y"
        },
        {
         "mode": "markers+lines",
         "type": "scatter",
         "x": [
          "2022-06-22T00:00:00",
          "2022-07-07T00:00:00"
         ],
         "xaxis": "x",
         "y": [
          "VIDTUSDT",
          "VIDTUSDT"
         ],
         "yaxis": "y"
        },
        {
         "mode": "markers+lines",
         "type": "scatter",
         "x": [
          "2021-02-24T00:00:00",
          "2021-04-09T00:00:00"
         ],
         "xaxis": "x",
         "y": [
          "VITEBTC",
          "VITEBTC"
         ],
         "yaxis": "y"
        },
        {
         "mode": "markers+lines",
         "type": "scatter",
         "x": [
          "2020-07-16T00:00:00",
          "2020-08-08T00:00:00"
         ],
         "xaxis": "x",
         "y": [
          "VITEUSDT",
          "VITEUSDT"
         ],
         "yaxis": "y"
        },
        {
         "mode": "markers+lines",
         "type": "scatter",
         "x": [
          "2021-01-12T00:00:00",
          "2021-04-09T00:00:00"
         ],
         "xaxis": "x",
         "y": [
          "VITEUSDT",
          "VITEUSDT"
         ],
         "yaxis": "y"
        },
        {
         "mode": "markers+lines",
         "type": "scatter",
         "x": [
          "2021-01-27T00:00:00",
          "2021-02-13T00:00:00"
         ],
         "xaxis": "x",
         "y": [
          "VTHOUSDT",
          "VTHOUSDT"
         ],
         "yaxis": "y"
        },
        {
         "mode": "markers+lines",
         "type": "scatter",
         "x": [
          "2021-02-28T00:00:00",
          "2021-03-21T00:00:00"
         ],
         "xaxis": "x",
         "y": [
          "VTHOUSDT",
          "VTHOUSDT"
         ],
         "yaxis": "y"
        },
        {
         "mode": "markers+lines",
         "type": "scatter",
         "x": [
          "2021-08-03T00:00:00",
          "2021-08-15T00:00:00"
         ],
         "xaxis": "x",
         "y": [
          "VTHOUSDT",
          "VTHOUSDT"
         ],
         "yaxis": "y"
        },
        {
         "mode": "markers+lines",
         "type": "scatter",
         "x": [
          "2024-01-31T00:00:00",
          "2024-02-15T00:00:00"
         ],
         "xaxis": "x",
         "y": [
          "VTHOUSDT",
          "VTHOUSDT"
         ],
         "yaxis": "y"
        },
        {
         "mode": "markers+lines",
         "type": "scatter",
         "x": [
          "2019-08-20T00:00:00",
          "2019-08-26T00:00:00"
         ],
         "xaxis": "x",
         "y": [
          "WANBTC",
          "WANBTC"
         ],
         "yaxis": "y"
        },
        {
         "mode": "markers+lines",
         "type": "scatter",
         "x": [
          "2021-01-29T00:00:00",
          "2021-02-19T00:00:00"
         ],
         "xaxis": "x",
         "y": [
          "WANUSDT",
          "WANUSDT"
         ],
         "yaxis": "y"
        },
        {
         "mode": "markers+lines",
         "type": "scatter",
         "x": [
          "2021-03-04T00:00:00",
          "2021-04-11T00:00:00"
         ],
         "xaxis": "x",
         "y": [
          "WANUSDT",
          "WANUSDT"
         ],
         "yaxis": "y"
        },
        {
         "mode": "markers+lines",
         "type": "scatter",
         "x": [
          "2018-11-20T00:00:00",
          "2018-12-20T00:00:00"
         ],
         "xaxis": "x",
         "y": [
          "WAVESBTC",
          "WAVESBTC"
         ],
         "yaxis": "y"
        },
        {
         "mode": "markers+lines",
         "type": "scatter",
         "x": [
          "2020-08-01T00:00:00",
          "2020-08-17T00:00:00"
         ],
         "xaxis": "x",
         "y": [
          "WAVESBTC",
          "WAVESBTC"
         ],
         "yaxis": "y"
        },
        {
         "mode": "markers+lines",
         "type": "scatter",
         "x": [
          "2021-04-19T00:00:00",
          "2021-05-14T00:00:00"
         ],
         "xaxis": "x",
         "y": [
          "WAVESBTC",
          "WAVESBTC"
         ],
         "yaxis": "y"
        },
        {
         "mode": "markers+lines",
         "type": "scatter",
         "x": [
          "2022-02-14T00:00:00",
          "2022-03-31T00:00:00"
         ],
         "xaxis": "x",
         "y": [
          "WAVESBTC",
          "WAVESBTC"
         ],
         "yaxis": "y"
        },
        {
         "mode": "markers+lines",
         "type": "scatter",
         "x": [
          "2022-05-29T00:00:00",
          "2022-06-03T00:00:00"
         ],
         "xaxis": "x",
         "y": [
          "WAVESBTC",
          "WAVESBTC"
         ],
         "yaxis": "y"
        },
        {
         "mode": "markers+lines",
         "type": "scatter",
         "x": [
          "2020-07-31T00:00:00",
          "2020-08-17T00:00:00"
         ],
         "xaxis": "x",
         "y": [
          "WAVESUSDT",
          "WAVESUSDT"
         ],
         "yaxis": "y"
        },
        {
         "mode": "markers+lines",
         "type": "scatter",
         "x": [
          "2020-11-02T00:00:00",
          "2020-12-07T00:00:00"
         ],
         "xaxis": "x",
         "y": [
          "WAVESUSDT",
          "WAVESUSDT"
         ],
         "yaxis": "y"
        },
        {
         "mode": "markers+lines",
         "type": "scatter",
         "x": [
          "2021-04-19T00:00:00",
          "2021-05-05T00:00:00"
         ],
         "xaxis": "x",
         "y": [
          "WAVESUSDT",
          "WAVESUSDT"
         ],
         "yaxis": "y"
        },
        {
         "mode": "markers+lines",
         "type": "scatter",
         "x": [
          "2022-02-21T00:00:00",
          "2022-03-31T00:00:00"
         ],
         "xaxis": "x",
         "y": [
          "WAVESUSDT",
          "WAVESUSDT"
         ],
         "yaxis": "y"
        },
        {
         "mode": "markers+lines",
         "type": "scatter",
         "x": [
          "2022-05-27T00:00:00",
          "2022-06-03T00:00:00"
         ],
         "xaxis": "x",
         "y": [
          "WAVESUSDT",
          "WAVESUSDT"
         ],
         "yaxis": "y"
        },
        {
         "mode": "markers+lines",
         "type": "scatter",
         "x": [
          "2023-01-01T00:00:00",
          "2023-02-03T00:00:00"
         ],
         "xaxis": "x",
         "y": [
          "WAVESUSDT",
          "WAVESUSDT"
         ],
         "yaxis": "y"
        },
        {
         "mode": "markers+lines",
         "type": "scatter",
         "x": [
          "2021-10-20T00:00:00",
          "2021-11-19T00:00:00"
         ],
         "xaxis": "x",
         "y": [
          "WAXPBTC",
          "WAXPBTC"
         ],
         "yaxis": "y"
        },
        {
         "mode": "markers+lines",
         "type": "scatter",
         "x": [
          "2021-10-21T00:00:00",
          "2021-11-17T00:00:00"
         ],
         "xaxis": "x",
         "y": [
          "WAXPUSDT",
          "WAXPUSDT"
         ],
         "yaxis": "y"
        },
        {
         "mode": "markers+lines",
         "type": "scatter",
         "x": [
          "2021-03-01T00:00:00",
          "2021-04-04T00:00:00"
         ],
         "xaxis": "x",
         "y": [
          "WINGBTC",
          "WINGBTC"
         ],
         "yaxis": "y"
        },
        {
         "mode": "markers+lines",
         "type": "scatter",
         "x": [
          "2022-05-25T00:00:00",
          "2022-06-16T00:00:00"
         ],
         "xaxis": "x",
         "y": [
          "WINGBTC",
          "WINGBTC"
         ],
         "yaxis": "y"
        },
        {
         "mode": "markers+lines",
         "type": "scatter",
         "x": [
          "2022-07-20T00:00:00",
          "2022-07-29T00:00:00"
         ],
         "xaxis": "x",
         "y": [
          "WINGBTC",
          "WINGBTC"
         ],
         "yaxis": "y"
        },
        {
         "mode": "markers+lines",
         "type": "scatter",
         "x": [
          "2020-11-26T00:00:00",
          "2020-12-19T00:00:00"
         ],
         "xaxis": "x",
         "y": [
          "WINGUSDT",
          "WINGUSDT"
         ],
         "yaxis": "y"
        },
        {
         "mode": "markers+lines",
         "type": "scatter",
         "x": [
          "2021-01-27T00:00:00",
          "2021-02-13T00:00:00"
         ],
         "xaxis": "x",
         "y": [
          "WINGUSDT",
          "WINGUSDT"
         ],
         "yaxis": "y"
        },
        {
         "mode": "markers+lines",
         "type": "scatter",
         "x": [
          "2021-02-28T00:00:00",
          "2021-04-04T00:00:00"
         ],
         "xaxis": "x",
         "y": [
          "WINGUSDT",
          "WINGUSDT"
         ],
         "yaxis": "y"
        },
        {
         "mode": "markers+lines",
         "type": "scatter",
         "x": [
          "2022-05-16T00:00:00",
          "2022-06-08T00:00:00"
         ],
         "xaxis": "x",
         "y": [
          "WINGUSDT",
          "WINGUSDT"
         ],
         "yaxis": "y"
        },
        {
         "mode": "markers+lines",
         "type": "scatter",
         "x": [
          "2022-07-15T00:00:00",
          "2022-07-29T00:00:00"
         ],
         "xaxis": "x",
         "y": [
          "WINGUSDT",
          "WINGUSDT"
         ],
         "yaxis": "y"
        },
        {
         "mode": "markers+lines",
         "type": "scatter",
         "x": [
          "2021-01-21T00:00:00",
          "2021-02-13T00:00:00"
         ],
         "xaxis": "x",
         "y": [
          "WINUSDT",
          "WINUSDT"
         ],
         "yaxis": "y"
        },
        {
         "mode": "markers+lines",
         "type": "scatter",
         "x": [
          "2021-03-06T00:00:00",
          "2021-04-05T00:00:00"
         ],
         "xaxis": "x",
         "y": [
          "WINUSDT",
          "WINUSDT"
         ],
         "yaxis": "y"
        },
        {
         "mode": "markers+lines",
         "type": "scatter",
         "x": [
          "2021-08-03T00:00:00",
          "2021-08-13T00:00:00"
         ],
         "xaxis": "x",
         "y": [
          "WINUSDT",
          "WINUSDT"
         ],
         "yaxis": "y"
        },
        {
         "mode": "markers+lines",
         "type": "scatter",
         "x": [
          "2022-06-12T00:00:00",
          "2022-06-24T00:00:00"
         ],
         "xaxis": "x",
         "y": [
          "WOOBTC",
          "WOOBTC"
         ],
         "yaxis": "y"
        },
        {
         "mode": "markers+lines",
         "type": "scatter",
         "x": [
          "2023-11-30T00:00:00",
          "2023-12-25T00:00:00"
         ],
         "xaxis": "x",
         "y": [
          "WOOUSDT",
          "WOOUSDT"
         ],
         "yaxis": "y"
        },
        {
         "mode": "markers+lines",
         "type": "scatter",
         "x": [
          "2021-01-27T00:00:00",
          "2021-02-21T00:00:00"
         ],
         "xaxis": "x",
         "y": [
          "WRXUSDT",
          "WRXUSDT"
         ],
         "yaxis": "y"
        },
        {
         "mode": "markers+lines",
         "type": "scatter",
         "x": [
          "2021-02-28T00:00:00",
          "2021-04-07T00:00:00"
         ],
         "xaxis": "x",
         "y": [
          "WRXUSDT",
          "WRXUSDT"
         ],
         "yaxis": "y"
        },
        {
         "mode": "markers+lines",
         "type": "scatter",
         "x": [
          "2021-01-30T00:00:00",
          "2021-03-03T00:00:00"
         ],
         "xaxis": "x",
         "y": [
          "XEMUSDT",
          "XEMUSDT"
         ],
         "yaxis": "y"
        },
        {
         "mode": "markers+lines",
         "type": "scatter",
         "x": [
          "2020-11-18T00:00:00",
          "2020-11-27T00:00:00"
         ],
         "xaxis": "x",
         "y": [
          "XLMBTC",
          "XLMBTC"
         ],
         "yaxis": "y"
        },
        {
         "mode": "markers+lines",
         "type": "scatter",
         "x": [
          "2021-01-02T00:00:00",
          "2021-01-06T00:00:00"
         ],
         "xaxis": "x",
         "y": [
          "XLMBTC",
          "XLMBTC"
         ],
         "yaxis": "y"
        },
        {
         "mode": "markers+lines",
         "type": "scatter",
         "x": [
          "2020-11-10T00:00:00",
          "2020-11-27T00:00:00"
         ],
         "xaxis": "x",
         "y": [
          "XLMUSDT",
          "XLMUSDT"
         ],
         "yaxis": "y"
        },
        {
         "mode": "markers+lines",
         "type": "scatter",
         "x": [
          "2020-12-23T00:00:00",
          "2021-01-06T00:00:00"
         ],
         "xaxis": "x",
         "y": [
          "XLMUSDT",
          "XLMUSDT"
         ],
         "yaxis": "y"
        },
        {
         "mode": "markers+lines",
         "type": "scatter",
         "x": [
          "2021-01-27T00:00:00",
          "2021-02-13T00:00:00"
         ],
         "xaxis": "x",
         "y": [
          "XLMUSDT",
          "XLMUSDT"
         ],
         "yaxis": "y"
        },
        {
         "mode": "markers+lines",
         "type": "scatter",
         "x": [
          "2017-12-07T00:00:00",
          "2018-01-03T00:00:00"
         ],
         "xaxis": "x",
         "y": [
          "XRPBTC",
          "XRPBTC"
         ],
         "yaxis": "y"
        },
        {
         "mode": "markers+lines",
         "type": "scatter",
         "x": [
          "2018-09-11T00:00:00",
          "2018-09-30T00:00:00"
         ],
         "xaxis": "x",
         "y": [
          "XRPBTC",
          "XRPBTC"
         ],
         "yaxis": "y"
        },
        {
         "mode": "markers+lines",
         "type": "scatter",
         "x": [
          "2020-11-12T00:00:00",
          "2020-11-24T00:00:00"
         ],
         "xaxis": "x",
         "y": [
          "XRPBTC",
          "XRPBTC"
         ],
         "yaxis": "y"
        },
        {
         "mode": "markers+lines",
         "type": "scatter",
         "x": [
          "2021-03-24T00:00:00",
          "2021-04-14T00:00:00"
         ],
         "xaxis": "x",
         "y": [
          "XRPBTC",
          "XRPBTC"
         ],
         "yaxis": "y"
        },
        {
         "mode": "markers+lines",
         "type": "scatter",
         "x": [
          "2018-09-11T00:00:00",
          "2018-09-30T00:00:00"
         ],
         "xaxis": "x",
         "y": [
          "XRPUSDT",
          "XRPUSDT"
         ],
         "yaxis": "y"
        },
        {
         "mode": "markers+lines",
         "type": "scatter",
         "x": [
          "2020-11-07T00:00:00",
          "2020-11-24T00:00:00"
         ],
         "xaxis": "x",
         "y": [
          "XRPUSDT",
          "XRPUSDT"
         ],
         "yaxis": "y"
        },
        {
         "mode": "markers+lines",
         "type": "scatter",
         "x": [
          "2021-01-27T00:00:00",
          "2021-02-13T00:00:00"
         ],
         "xaxis": "x",
         "y": [
          "XRPUSDT",
          "XRPUSDT"
         ],
         "yaxis": "y"
        },
        {
         "mode": "markers+lines",
         "type": "scatter",
         "x": [
          "2021-03-24T00:00:00",
          "2021-04-14T00:00:00"
         ],
         "xaxis": "x",
         "y": [
          "XRPUSDT",
          "XRPUSDT"
         ],
         "yaxis": "y"
        },
        {
         "mode": "markers+lines",
         "type": "scatter",
         "x": [
          "2019-10-29T00:00:00",
          "2019-12-12T00:00:00"
         ],
         "xaxis": "x",
         "y": [
          "XTZBTC",
          "XTZBTC"
         ],
         "yaxis": "y"
        },
        {
         "mode": "markers+lines",
         "type": "scatter",
         "x": [
          "2020-01-28T00:00:00",
          "2020-02-20T00:00:00"
         ],
         "xaxis": "x",
         "y": [
          "XTZBTC",
          "XTZBTC"
         ],
         "yaxis": "y"
        },
        {
         "mode": "markers+lines",
         "type": "scatter",
         "x": [
          "2021-08-18T00:00:00",
          "2021-10-03T00:00:00"
         ],
         "xaxis": "x",
         "y": [
          "XTZBTC",
          "XTZBTC"
         ],
         "yaxis": "y"
        },
        {
         "mode": "markers+lines",
         "type": "scatter",
         "x": [
          "2020-01-25T00:00:00",
          "2020-02-20T00:00:00"
         ],
         "xaxis": "x",
         "y": [
          "XTZUSDT",
          "XTZUSDT"
         ],
         "yaxis": "y"
        },
        {
         "mode": "markers+lines",
         "type": "scatter",
         "x": [
          "2023-06-15T00:00:00",
          "2023-07-07T00:00:00"
         ],
         "xaxis": "x",
         "y": [
          "XVGUSDT",
          "XVGUSDT"
         ],
         "yaxis": "y"
        },
        {
         "mode": "markers+lines",
         "type": "scatter",
         "x": [
          "2021-01-09T00:00:00",
          "2021-02-19T00:00:00"
         ],
         "xaxis": "x",
         "y": [
          "XVSBTC",
          "XVSBTC"
         ],
         "yaxis": "y"
        },
        {
         "mode": "markers+lines",
         "type": "scatter",
         "x": [
          "2021-04-03T00:00:00",
          "2021-05-14T00:00:00"
         ],
         "xaxis": "x",
         "y": [
          "XVSBTC",
          "XVSBTC"
         ],
         "yaxis": "y"
        },
        {
         "mode": "markers+lines",
         "type": "scatter",
         "x": [
          "2021-01-17T00:00:00",
          "2021-02-19T00:00:00"
         ],
         "xaxis": "x",
         "y": [
          "XVSUSDT",
          "XVSUSDT"
         ],
         "yaxis": "y"
        },
        {
         "mode": "markers+lines",
         "type": "scatter",
         "x": [
          "2021-03-25T00:00:00",
          "2021-05-09T00:00:00"
         ],
         "xaxis": "x",
         "y": [
          "XVSUSDT",
          "XVSUSDT"
         ],
         "yaxis": "y"
        },
        {
         "mode": "markers+lines",
         "type": "scatter",
         "x": [
          "2021-07-20T00:00:00",
          "2021-08-15T00:00:00"
         ],
         "xaxis": "x",
         "y": [
          "XVSUSDT",
          "XVSUSDT"
         ],
         "yaxis": "y"
        },
        {
         "mode": "markers+lines",
         "type": "scatter",
         "x": [
          "2020-11-05T00:00:00",
          "2020-12-02T00:00:00"
         ],
         "xaxis": "x",
         "y": [
          "YFIBTC",
          "YFIBTC"
         ],
         "yaxis": "y"
        },
        {
         "mode": "markers+lines",
         "type": "scatter",
         "x": [
          "2023-11-02T00:00:00",
          "2023-11-17T00:00:00"
         ],
         "xaxis": "x",
         "y": [
          "YFIBTC",
          "YFIBTC"
         ],
         "yaxis": "y"
        },
        {
         "mode": "markers+lines",
         "type": "scatter",
         "x": [
          "2020-11-04T00:00:00",
          "2020-12-02T00:00:00"
         ],
         "xaxis": "x",
         "y": [
          "YFIUSDT",
          "YFIUSDT"
         ],
         "yaxis": "y"
        },
        {
         "mode": "markers+lines",
         "type": "scatter",
         "x": [
          "2023-10-28T00:00:00",
          "2023-11-17T00:00:00"
         ],
         "xaxis": "x",
         "y": [
          "YFIUSDT",
          "YFIUSDT"
         ],
         "yaxis": "y"
        },
        {
         "mode": "markers+lines",
         "type": "scatter",
         "x": [
          "2022-06-12T00:00:00",
          "2022-07-01T00:00:00"
         ],
         "xaxis": "x",
         "y": [
          "YGGBTC",
          "YGGBTC"
         ],
         "yaxis": "y"
        },
        {
         "mode": "markers+lines",
         "type": "scatter",
         "x": [
          "2023-07-22T00:00:00",
          "2023-08-06T00:00:00"
         ],
         "xaxis": "x",
         "y": [
          "YGGBTC",
          "YGGBTC"
         ],
         "yaxis": "y"
        },
        {
         "mode": "markers+lines",
         "type": "scatter",
         "x": [
          "2022-06-18T00:00:00",
          "2022-07-19T00:00:00"
         ],
         "xaxis": "x",
         "y": [
          "YGGUSDT",
          "YGGUSDT"
         ],
         "yaxis": "y"
        },
        {
         "mode": "markers+lines",
         "type": "scatter",
         "x": [
          "2023-07-22T00:00:00",
          "2023-08-06T00:00:00"
         ],
         "xaxis": "x",
         "y": [
          "YGGUSDT",
          "YGGUSDT"
         ],
         "yaxis": "y"
        },
        {
         "mode": "markers+lines",
         "type": "scatter",
         "x": [
          "2020-11-20T00:00:00",
          "2020-11-28T00:00:00"
         ],
         "xaxis": "x",
         "y": [
          "ZENBTC",
          "ZENBTC"
         ],
         "yaxis": "y"
        },
        {
         "mode": "markers+lines",
         "type": "scatter",
         "x": [
          "2021-01-08T00:00:00",
          "2021-02-18T00:00:00"
         ],
         "xaxis": "x",
         "y": [
          "ZENBTC",
          "ZENBTC"
         ],
         "yaxis": "y"
        },
        {
         "mode": "markers+lines",
         "type": "scatter",
         "x": [
          "2021-04-03T00:00:00",
          "2021-05-29T00:00:00"
         ],
         "xaxis": "x",
         "y": [
          "ZENBTC",
          "ZENBTC"
         ],
         "yaxis": "y"
        },
        {
         "mode": "markers+lines",
         "type": "scatter",
         "x": [
          "2020-11-12T00:00:00",
          "2020-11-30T00:00:00"
         ],
         "xaxis": "x",
         "y": [
          "ZENUSDT",
          "ZENUSDT"
         ],
         "yaxis": "y"
        },
        {
         "mode": "markers+lines",
         "type": "scatter",
         "x": [
          "2020-12-23T00:00:00",
          "2021-02-18T00:00:00"
         ],
         "xaxis": "x",
         "y": [
          "ZENUSDT",
          "ZENUSDT"
         ],
         "yaxis": "y"
        },
        {
         "mode": "markers+lines",
         "type": "scatter",
         "x": [
          "2021-03-31T00:00:00",
          "2021-05-14T00:00:00"
         ],
         "xaxis": "x",
         "y": [
          "ZENUSDT",
          "ZENUSDT"
         ],
         "yaxis": "y"
        },
        {
         "mode": "markers+lines",
         "type": "scatter",
         "x": [
          "2018-04-06T00:00:00",
          "2018-05-09T00:00:00"
         ],
         "xaxis": "x",
         "y": [
          "ZILBTC",
          "ZILBTC"
         ],
         "yaxis": "y"
        },
        {
         "mode": "markers+lines",
         "type": "scatter",
         "x": [
          "2020-05-07T00:00:00",
          "2020-06-10T00:00:00"
         ],
         "xaxis": "x",
         "y": [
          "ZILBTC",
          "ZILBTC"
         ],
         "yaxis": "y"
        },
        {
         "mode": "markers+lines",
         "type": "scatter",
         "x": [
          "2022-03-14T00:00:00",
          "2022-04-01T00:00:00"
         ],
         "xaxis": "x",
         "y": [
          "ZILBTC",
          "ZILBTC"
         ],
         "yaxis": "y"
        },
        {
         "mode": "markers+lines",
         "type": "scatter",
         "x": [
          "2020-04-20T00:00:00",
          "2020-06-10T00:00:00"
         ],
         "xaxis": "x",
         "y": [
          "ZILUSDT",
          "ZILUSDT"
         ],
         "yaxis": "y"
        },
        {
         "mode": "markers+lines",
         "type": "scatter",
         "x": [
          "2020-12-11T00:00:00",
          "2020-12-28T00:00:00"
         ],
         "xaxis": "x",
         "y": [
          "ZILUSDT",
          "ZILUSDT"
         ],
         "yaxis": "y"
        },
        {
         "mode": "markers+lines",
         "type": "scatter",
         "x": [
          "2021-01-27T00:00:00",
          "2021-02-19T00:00:00"
         ],
         "xaxis": "x",
         "y": [
          "ZILUSDT",
          "ZILUSDT"
         ],
         "yaxis": "y"
        },
        {
         "mode": "markers+lines",
         "type": "scatter",
         "x": [
          "2022-03-13T00:00:00",
          "2022-04-01T00:00:00"
         ],
         "xaxis": "x",
         "y": [
          "ZILUSDT",
          "ZILUSDT"
         ],
         "yaxis": "y"
        },
        {
         "mode": "markers+lines",
         "type": "scatter",
         "x": [
          "2017-12-11T00:00:00",
          "2018-01-27T00:00:00"
         ],
         "xaxis": "x",
         "y": [
          "ZRXBTC",
          "ZRXBTC"
         ],
         "yaxis": "y"
        },
        {
         "mode": "markers+lines",
         "type": "scatter",
         "x": [
          "2021-01-21T00:00:00",
          "2021-02-05T00:00:00"
         ],
         "xaxis": "x",
         "y": [
          "ZRXBTC",
          "ZRXBTC"
         ],
         "yaxis": "y"
        },
        {
         "mode": "markers+lines",
         "type": "scatter",
         "x": [
          "2020-04-23T00:00:00",
          "2020-05-09T00:00:00"
         ],
         "xaxis": "x",
         "y": [
          "ZRXUSDT",
          "ZRXUSDT"
         ],
         "yaxis": "y"
        },
        {
         "mode": "markers+lines",
         "type": "scatter",
         "x": [
          "2021-01-21T00:00:00",
          "2021-02-13T00:00:00"
         ],
         "xaxis": "x",
         "y": [
          "ZRXUSDT",
          "ZRXUSDT"
         ],
         "yaxis": "y"
        },
        {
         "mode": "markers+lines",
         "type": "scatter",
         "x": [
          "2023-10-28T00:00:00",
          "2023-11-15T00:00:00"
         ],
         "xaxis": "x",
         "y": [
          "ZRXUSDT",
          "ZRXUSDT"
         ],
         "yaxis": "y"
        },
        {
         "mode": "markers+lines",
         "type": "scatter",
         "x": [
          "2017-08-17T00:00:00",
          "2017-08-18T00:00:00",
          "2017-08-19T00:00:00",
          "2017-08-20T00:00:00",
          "2017-08-21T00:00:00",
          "2017-08-22T00:00:00",
          "2017-08-23T00:00:00",
          "2017-08-24T00:00:00",
          "2017-08-25T00:00:00",
          "2017-08-26T00:00:00",
          "2017-08-27T00:00:00",
          "2017-08-28T00:00:00",
          "2017-08-29T00:00:00",
          "2017-08-30T00:00:00",
          "2017-08-31T00:00:00",
          "2017-09-01T00:00:00",
          "2017-09-02T00:00:00",
          "2017-09-03T00:00:00",
          "2017-09-04T00:00:00",
          "2017-09-05T00:00:00",
          "2017-09-06T00:00:00",
          "2017-09-07T00:00:00",
          "2017-09-08T00:00:00",
          "2017-09-09T00:00:00",
          "2017-09-10T00:00:00",
          "2017-09-11T00:00:00",
          "2017-09-12T00:00:00",
          "2017-09-13T00:00:00",
          "2017-09-14T00:00:00",
          "2017-09-15T00:00:00",
          "2017-09-16T00:00:00",
          "2017-09-17T00:00:00",
          "2017-09-18T00:00:00",
          "2017-09-19T00:00:00",
          "2017-09-20T00:00:00",
          "2017-09-21T00:00:00",
          "2017-09-22T00:00:00",
          "2017-09-23T00:00:00",
          "2017-09-24T00:00:00",
          "2017-09-25T00:00:00",
          "2017-09-26T00:00:00",
          "2017-09-27T00:00:00",
          "2017-09-28T00:00:00",
          "2017-09-29T00:00:00",
          "2017-09-30T00:00:00",
          "2017-10-01T00:00:00",
          "2017-10-02T00:00:00",
          "2017-10-03T00:00:00",
          "2017-10-04T00:00:00",
          "2017-10-05T00:00:00",
          "2017-10-06T00:00:00",
          "2017-10-07T00:00:00",
          "2017-10-08T00:00:00",
          "2017-10-09T00:00:00",
          "2017-10-10T00:00:00",
          "2017-10-11T00:00:00",
          "2017-10-12T00:00:00",
          "2017-10-13T00:00:00",
          "2017-10-14T00:00:00",
          "2017-10-15T00:00:00",
          "2017-10-16T00:00:00",
          "2017-10-17T00:00:00",
          "2017-10-18T00:00:00",
          "2017-10-19T00:00:00",
          "2017-10-20T00:00:00",
          "2017-10-21T00:00:00",
          "2017-10-22T00:00:00",
          "2017-10-23T00:00:00",
          "2017-10-24T00:00:00",
          "2017-10-25T00:00:00",
          "2017-10-26T00:00:00",
          "2017-10-27T00:00:00",
          "2017-10-28T00:00:00",
          "2017-10-29T00:00:00",
          "2017-10-30T00:00:00",
          "2017-10-31T00:00:00",
          "2017-11-01T00:00:00",
          "2017-11-02T00:00:00",
          "2017-11-03T00:00:00",
          "2017-11-04T00:00:00",
          "2017-11-05T00:00:00",
          "2017-11-06T00:00:00",
          "2017-11-07T00:00:00",
          "2017-11-08T00:00:00",
          "2017-11-09T00:00:00",
          "2017-11-10T00:00:00",
          "2017-11-11T00:00:00",
          "2017-11-12T00:00:00",
          "2017-11-13T00:00:00",
          "2017-11-14T00:00:00",
          "2017-11-15T00:00:00",
          "2017-11-16T00:00:00",
          "2017-11-17T00:00:00",
          "2017-11-18T00:00:00",
          "2017-11-19T00:00:00",
          "2017-11-20T00:00:00",
          "2017-11-21T00:00:00",
          "2017-11-22T00:00:00",
          "2017-11-23T00:00:00",
          "2017-11-24T00:00:00",
          "2017-11-25T00:00:00",
          "2017-11-26T00:00:00",
          "2017-11-27T00:00:00",
          "2017-11-28T00:00:00",
          "2017-11-29T00:00:00",
          "2017-11-30T00:00:00",
          "2017-12-01T00:00:00",
          "2017-12-02T00:00:00",
          "2017-12-03T00:00:00",
          "2017-12-04T00:00:00",
          "2017-12-05T00:00:00",
          "2017-12-06T00:00:00",
          "2017-12-07T00:00:00",
          "2017-12-08T00:00:00",
          "2017-12-09T00:00:00",
          "2017-12-10T00:00:00",
          "2017-12-11T00:00:00",
          "2017-12-12T00:00:00",
          "2017-12-13T00:00:00",
          "2017-12-14T00:00:00",
          "2017-12-15T00:00:00",
          "2017-12-16T00:00:00",
          "2017-12-17T00:00:00",
          "2017-12-18T00:00:00",
          "2017-12-19T00:00:00",
          "2017-12-20T00:00:00",
          "2017-12-21T00:00:00",
          "2017-12-22T00:00:00",
          "2017-12-23T00:00:00",
          "2017-12-24T00:00:00",
          "2017-12-25T00:00:00",
          "2017-12-26T00:00:00",
          "2017-12-27T00:00:00",
          "2017-12-28T00:00:00",
          "2017-12-29T00:00:00",
          "2017-12-30T00:00:00",
          "2017-12-31T00:00:00",
          "2018-01-01T00:00:00",
          "2018-01-02T00:00:00",
          "2018-01-03T00:00:00",
          "2018-01-04T00:00:00",
          "2018-01-05T00:00:00",
          "2018-01-06T00:00:00",
          "2018-01-07T00:00:00",
          "2018-01-08T00:00:00",
          "2018-01-09T00:00:00",
          "2018-01-10T00:00:00",
          "2018-01-11T00:00:00",
          "2018-01-12T00:00:00",
          "2018-01-13T00:00:00",
          "2018-01-14T00:00:00",
          "2018-01-15T00:00:00",
          "2018-01-16T00:00:00",
          "2018-01-17T00:00:00",
          "2018-01-18T00:00:00",
          "2018-01-19T00:00:00",
          "2018-01-20T00:00:00",
          "2018-01-21T00:00:00",
          "2018-01-22T00:00:00",
          "2018-01-23T00:00:00",
          "2018-01-24T00:00:00",
          "2018-01-25T00:00:00",
          "2018-01-26T00:00:00",
          "2018-01-27T00:00:00",
          "2018-01-28T00:00:00",
          "2018-01-29T00:00:00",
          "2018-01-30T00:00:00",
          "2018-01-31T00:00:00",
          "2018-02-01T00:00:00",
          "2018-02-02T00:00:00",
          "2018-02-03T00:00:00",
          "2018-02-04T00:00:00",
          "2018-02-05T00:00:00",
          "2018-02-06T00:00:00",
          "2018-02-07T00:00:00",
          "2018-02-08T00:00:00",
          "2018-02-09T00:00:00",
          "2018-02-10T00:00:00",
          "2018-02-11T00:00:00",
          "2018-02-12T00:00:00",
          "2018-02-13T00:00:00",
          "2018-02-14T00:00:00",
          "2018-02-15T00:00:00",
          "2018-02-16T00:00:00",
          "2018-02-17T00:00:00",
          "2018-02-18T00:00:00",
          "2018-02-19T00:00:00",
          "2018-02-20T00:00:00",
          "2018-02-21T00:00:00",
          "2018-02-22T00:00:00",
          "2018-02-23T00:00:00",
          "2018-02-24T00:00:00",
          "2018-02-25T00:00:00",
          "2018-02-26T00:00:00",
          "2018-02-27T00:00:00",
          "2018-02-28T00:00:00",
          "2018-03-01T00:00:00",
          "2018-03-02T00:00:00",
          "2018-03-03T00:00:00",
          "2018-03-04T00:00:00",
          "2018-03-05T00:00:00",
          "2018-03-06T00:00:00",
          "2018-03-07T00:00:00",
          "2018-03-08T00:00:00",
          "2018-03-09T00:00:00",
          "2018-03-10T00:00:00",
          "2018-03-11T00:00:00",
          "2018-03-12T00:00:00",
          "2018-03-13T00:00:00",
          "2018-03-14T00:00:00",
          "2018-03-15T00:00:00",
          "2018-03-16T00:00:00",
          "2018-03-17T00:00:00",
          "2018-03-18T00:00:00",
          "2018-03-19T00:00:00",
          "2018-03-20T00:00:00",
          "2018-03-21T00:00:00",
          "2018-03-22T00:00:00",
          "2018-03-23T00:00:00",
          "2018-03-24T00:00:00",
          "2018-03-25T00:00:00",
          "2018-03-26T00:00:00",
          "2018-03-27T00:00:00",
          "2018-03-28T00:00:00",
          "2018-03-29T00:00:00",
          "2018-03-30T00:00:00",
          "2018-03-31T00:00:00",
          "2018-04-01T00:00:00",
          "2018-04-02T00:00:00",
          "2018-04-03T00:00:00",
          "2018-04-04T00:00:00",
          "2018-04-05T00:00:00",
          "2018-04-06T00:00:00",
          "2018-04-07T00:00:00",
          "2018-04-08T00:00:00",
          "2018-04-09T00:00:00",
          "2018-04-10T00:00:00",
          "2018-04-11T00:00:00",
          "2018-04-12T00:00:00",
          "2018-04-13T00:00:00",
          "2018-04-14T00:00:00",
          "2018-04-15T00:00:00",
          "2018-04-16T00:00:00",
          "2018-04-17T00:00:00",
          "2018-04-18T00:00:00",
          "2018-04-19T00:00:00",
          "2018-04-20T00:00:00",
          "2018-04-21T00:00:00",
          "2018-04-22T00:00:00",
          "2018-04-23T00:00:00",
          "2018-04-24T00:00:00",
          "2018-04-25T00:00:00",
          "2018-04-26T00:00:00",
          "2018-04-27T00:00:00",
          "2018-04-28T00:00:00",
          "2018-04-29T00:00:00",
          "2018-04-30T00:00:00",
          "2018-05-01T00:00:00",
          "2018-05-02T00:00:00",
          "2018-05-03T00:00:00",
          "2018-05-04T00:00:00",
          "2018-05-05T00:00:00",
          "2018-05-06T00:00:00",
          "2018-05-07T00:00:00",
          "2018-05-08T00:00:00",
          "2018-05-09T00:00:00",
          "2018-05-10T00:00:00",
          "2018-05-11T00:00:00",
          "2018-05-12T00:00:00",
          "2018-05-13T00:00:00",
          "2018-05-14T00:00:00",
          "2018-05-15T00:00:00",
          "2018-05-16T00:00:00",
          "2018-05-17T00:00:00",
          "2018-05-18T00:00:00",
          "2018-05-19T00:00:00",
          "2018-05-20T00:00:00",
          "2018-05-21T00:00:00",
          "2018-05-22T00:00:00",
          "2018-05-23T00:00:00",
          "2018-05-24T00:00:00",
          "2018-05-25T00:00:00",
          "2018-05-26T00:00:00",
          "2018-05-27T00:00:00",
          "2018-05-28T00:00:00",
          "2018-05-29T00:00:00",
          "2018-05-30T00:00:00",
          "2018-05-31T00:00:00",
          "2018-06-01T00:00:00",
          "2018-06-02T00:00:00",
          "2018-06-03T00:00:00",
          "2018-06-04T00:00:00",
          "2018-06-05T00:00:00",
          "2018-06-06T00:00:00",
          "2018-06-07T00:00:00",
          "2018-06-08T00:00:00",
          "2018-06-09T00:00:00",
          "2018-06-10T00:00:00",
          "2018-06-11T00:00:00",
          "2018-06-12T00:00:00",
          "2018-06-13T00:00:00",
          "2018-06-14T00:00:00",
          "2018-06-15T00:00:00",
          "2018-06-16T00:00:00",
          "2018-06-17T00:00:00",
          "2018-06-18T00:00:00",
          "2018-06-19T00:00:00",
          "2018-06-20T00:00:00",
          "2018-06-21T00:00:00",
          "2018-06-22T00:00:00",
          "2018-06-23T00:00:00",
          "2018-06-24T00:00:00",
          "2018-06-25T00:00:00",
          "2018-06-26T00:00:00",
          "2018-06-27T00:00:00",
          "2018-06-28T00:00:00",
          "2018-06-29T00:00:00",
          "2018-06-30T00:00:00",
          "2018-07-01T00:00:00",
          "2018-07-02T00:00:00",
          "2018-07-03T00:00:00",
          "2018-07-04T00:00:00",
          "2018-07-05T00:00:00",
          "2018-07-06T00:00:00",
          "2018-07-07T00:00:00",
          "2018-07-08T00:00:00",
          "2018-07-09T00:00:00",
          "2018-07-10T00:00:00",
          "2018-07-11T00:00:00",
          "2018-07-12T00:00:00",
          "2018-07-13T00:00:00",
          "2018-07-14T00:00:00",
          "2018-07-15T00:00:00",
          "2018-07-16T00:00:00",
          "2018-07-17T00:00:00",
          "2018-07-18T00:00:00",
          "2018-07-19T00:00:00",
          "2018-07-20T00:00:00",
          "2018-07-21T00:00:00",
          "2018-07-22T00:00:00",
          "2018-07-23T00:00:00",
          "2018-07-24T00:00:00",
          "2018-07-25T00:00:00",
          "2018-07-26T00:00:00",
          "2018-07-27T00:00:00",
          "2018-07-28T00:00:00",
          "2018-07-29T00:00:00",
          "2018-07-30T00:00:00",
          "2018-07-31T00:00:00",
          "2018-08-01T00:00:00",
          "2018-08-02T00:00:00",
          "2018-08-03T00:00:00",
          "2018-08-04T00:00:00",
          "2018-08-05T00:00:00",
          "2018-08-06T00:00:00",
          "2018-08-07T00:00:00",
          "2018-08-08T00:00:00",
          "2018-08-09T00:00:00",
          "2018-08-10T00:00:00",
          "2018-08-11T00:00:00",
          "2018-08-12T00:00:00",
          "2018-08-13T00:00:00",
          "2018-08-14T00:00:00",
          "2018-08-15T00:00:00",
          "2018-08-16T00:00:00",
          "2018-08-17T00:00:00",
          "2018-08-18T00:00:00",
          "2018-08-19T00:00:00",
          "2018-08-20T00:00:00",
          "2018-08-21T00:00:00",
          "2018-08-22T00:00:00",
          "2018-08-23T00:00:00",
          "2018-08-24T00:00:00",
          "2018-08-25T00:00:00",
          "2018-08-26T00:00:00",
          "2018-08-27T00:00:00",
          "2018-08-28T00:00:00",
          "2018-08-29T00:00:00",
          "2018-08-30T00:00:00",
          "2018-08-31T00:00:00",
          "2018-09-01T00:00:00",
          "2018-09-02T00:00:00",
          "2018-09-03T00:00:00",
          "2018-09-04T00:00:00",
          "2018-09-05T00:00:00",
          "2018-09-06T00:00:00",
          "2018-09-07T00:00:00",
          "2018-09-08T00:00:00",
          "2018-09-09T00:00:00",
          "2018-09-10T00:00:00",
          "2018-09-11T00:00:00",
          "2018-09-12T00:00:00",
          "2018-09-13T00:00:00",
          "2018-09-14T00:00:00",
          "2018-09-15T00:00:00",
          "2018-09-16T00:00:00",
          "2018-09-17T00:00:00",
          "2018-09-18T00:00:00",
          "2018-09-19T00:00:00",
          "2018-09-20T00:00:00",
          "2018-09-21T00:00:00",
          "2018-09-22T00:00:00",
          "2018-09-23T00:00:00",
          "2018-09-24T00:00:00",
          "2018-09-25T00:00:00",
          "2018-09-26T00:00:00",
          "2018-09-27T00:00:00",
          "2018-09-28T00:00:00",
          "2018-09-29T00:00:00",
          "2018-09-30T00:00:00",
          "2018-10-01T00:00:00",
          "2018-10-02T00:00:00",
          "2018-10-03T00:00:00",
          "2018-10-04T00:00:00",
          "2018-10-05T00:00:00",
          "2018-10-06T00:00:00",
          "2018-10-07T00:00:00",
          "2018-10-08T00:00:00",
          "2018-10-09T00:00:00",
          "2018-10-10T00:00:00",
          "2018-10-11T00:00:00",
          "2018-10-12T00:00:00",
          "2018-10-13T00:00:00",
          "2018-10-14T00:00:00",
          "2018-10-15T00:00:00",
          "2018-10-16T00:00:00",
          "2018-10-17T00:00:00",
          "2018-10-18T00:00:00",
          "2018-10-19T00:00:00",
          "2018-10-20T00:00:00",
          "2018-10-21T00:00:00",
          "2018-10-22T00:00:00",
          "2018-10-23T00:00:00",
          "2018-10-24T00:00:00",
          "2018-10-25T00:00:00",
          "2018-10-26T00:00:00",
          "2018-10-27T00:00:00",
          "2018-10-28T00:00:00",
          "2018-10-29T00:00:00",
          "2018-10-30T00:00:00",
          "2018-10-31T00:00:00",
          "2018-11-01T00:00:00",
          "2018-11-02T00:00:00",
          "2018-11-03T00:00:00",
          "2018-11-04T00:00:00",
          "2018-11-05T00:00:00",
          "2018-11-06T00:00:00",
          "2018-11-07T00:00:00",
          "2018-11-08T00:00:00",
          "2018-11-09T00:00:00",
          "2018-11-10T00:00:00",
          "2018-11-11T00:00:00",
          "2018-11-12T00:00:00",
          "2018-11-13T00:00:00",
          "2018-11-14T00:00:00",
          "2018-11-15T00:00:00",
          "2018-11-16T00:00:00",
          "2018-11-17T00:00:00",
          "2018-11-18T00:00:00",
          "2018-11-19T00:00:00",
          "2018-11-20T00:00:00",
          "2018-11-21T00:00:00",
          "2018-11-22T00:00:00",
          "2018-11-23T00:00:00",
          "2018-11-24T00:00:00",
          "2018-11-25T00:00:00",
          "2018-11-26T00:00:00",
          "2018-11-27T00:00:00",
          "2018-11-28T00:00:00",
          "2018-11-29T00:00:00",
          "2018-11-30T00:00:00",
          "2018-12-01T00:00:00",
          "2018-12-02T00:00:00",
          "2018-12-03T00:00:00",
          "2018-12-04T00:00:00",
          "2018-12-05T00:00:00",
          "2018-12-06T00:00:00",
          "2018-12-07T00:00:00",
          "2018-12-08T00:00:00",
          "2018-12-09T00:00:00",
          "2018-12-10T00:00:00",
          "2018-12-11T00:00:00",
          "2018-12-12T00:00:00",
          "2018-12-13T00:00:00",
          "2018-12-14T00:00:00",
          "2018-12-15T00:00:00",
          "2018-12-16T00:00:00",
          "2018-12-17T00:00:00",
          "2018-12-18T00:00:00",
          "2018-12-19T00:00:00",
          "2018-12-20T00:00:00",
          "2018-12-21T00:00:00",
          "2018-12-22T00:00:00",
          "2018-12-23T00:00:00",
          "2018-12-24T00:00:00",
          "2018-12-25T00:00:00",
          "2018-12-26T00:00:00",
          "2018-12-27T00:00:00",
          "2018-12-28T00:00:00",
          "2018-12-29T00:00:00",
          "2018-12-30T00:00:00",
          "2018-12-31T00:00:00",
          "2019-01-01T00:00:00",
          "2019-01-02T00:00:00",
          "2019-01-03T00:00:00",
          "2019-01-04T00:00:00",
          "2019-01-05T00:00:00",
          "2019-01-06T00:00:00",
          "2019-01-07T00:00:00",
          "2019-01-08T00:00:00",
          "2019-01-09T00:00:00",
          "2019-01-10T00:00:00",
          "2019-01-11T00:00:00",
          "2019-01-12T00:00:00",
          "2019-01-13T00:00:00",
          "2019-01-14T00:00:00",
          "2019-01-15T00:00:00",
          "2019-01-16T00:00:00",
          "2019-01-17T00:00:00",
          "2019-01-18T00:00:00",
          "2019-01-19T00:00:00",
          "2019-01-20T00:00:00",
          "2019-01-21T00:00:00",
          "2019-01-22T00:00:00",
          "2019-01-23T00:00:00",
          "2019-01-24T00:00:00",
          "2019-01-25T00:00:00",
          "2019-01-26T00:00:00",
          "2019-01-27T00:00:00",
          "2019-01-28T00:00:00",
          "2019-01-29T00:00:00",
          "2019-01-30T00:00:00",
          "2019-01-31T00:00:00",
          "2019-02-01T00:00:00",
          "2019-02-02T00:00:00",
          "2019-02-03T00:00:00",
          "2019-02-04T00:00:00",
          "2019-02-05T00:00:00",
          "2019-02-06T00:00:00",
          "2019-02-07T00:00:00",
          "2019-02-08T00:00:00",
          "2019-02-09T00:00:00",
          "2019-02-10T00:00:00",
          "2019-02-11T00:00:00",
          "2019-02-12T00:00:00",
          "2019-02-13T00:00:00",
          "2019-02-14T00:00:00",
          "2019-02-15T00:00:00",
          "2019-02-16T00:00:00",
          "2019-02-17T00:00:00",
          "2019-02-18T00:00:00",
          "2019-02-19T00:00:00",
          "2019-02-20T00:00:00",
          "2019-02-21T00:00:00",
          "2019-02-22T00:00:00",
          "2019-02-23T00:00:00",
          "2019-02-24T00:00:00",
          "2019-02-25T00:00:00",
          "2019-02-26T00:00:00",
          "2019-02-27T00:00:00",
          "2019-02-28T00:00:00",
          "2019-03-01T00:00:00",
          "2019-03-02T00:00:00",
          "2019-03-03T00:00:00",
          "2019-03-04T00:00:00",
          "2019-03-05T00:00:00",
          "2019-03-06T00:00:00",
          "2019-03-07T00:00:00",
          "2019-03-08T00:00:00",
          "2019-03-09T00:00:00",
          "2019-03-10T00:00:00",
          "2019-03-11T00:00:00",
          "2019-03-12T00:00:00",
          "2019-03-13T00:00:00",
          "2019-03-14T00:00:00",
          "2019-03-15T00:00:00",
          "2019-03-16T00:00:00",
          "2019-03-17T00:00:00",
          "2019-03-18T00:00:00",
          "2019-03-19T00:00:00",
          "2019-03-20T00:00:00",
          "2019-03-21T00:00:00",
          "2019-03-22T00:00:00",
          "2019-03-23T00:00:00",
          "2019-03-24T00:00:00",
          "2019-03-25T00:00:00",
          "2019-03-26T00:00:00",
          "2019-03-27T00:00:00",
          "2019-03-28T00:00:00",
          "2019-03-29T00:00:00",
          "2019-03-30T00:00:00",
          "2019-03-31T00:00:00",
          "2019-04-01T00:00:00",
          "2019-04-02T00:00:00",
          "2019-04-03T00:00:00",
          "2019-04-04T00:00:00",
          "2019-04-05T00:00:00",
          "2019-04-06T00:00:00",
          "2019-04-07T00:00:00",
          "2019-04-08T00:00:00",
          "2019-04-09T00:00:00",
          "2019-04-10T00:00:00",
          "2019-04-11T00:00:00",
          "2019-04-12T00:00:00",
          "2019-04-13T00:00:00",
          "2019-04-14T00:00:00",
          "2019-04-15T00:00:00",
          "2019-04-16T00:00:00",
          "2019-04-17T00:00:00",
          "2019-04-18T00:00:00",
          "2019-04-19T00:00:00",
          "2019-04-20T00:00:00",
          "2019-04-21T00:00:00",
          "2019-04-22T00:00:00",
          "2019-04-23T00:00:00",
          "2019-04-24T00:00:00",
          "2019-04-25T00:00:00",
          "2019-04-26T00:00:00",
          "2019-04-27T00:00:00",
          "2019-04-28T00:00:00",
          "2019-04-29T00:00:00",
          "2019-04-30T00:00:00",
          "2019-05-01T00:00:00",
          "2019-05-02T00:00:00",
          "2019-05-03T00:00:00",
          "2019-05-04T00:00:00",
          "2019-05-05T00:00:00",
          "2019-05-06T00:00:00",
          "2019-05-07T00:00:00",
          "2019-05-08T00:00:00",
          "2019-05-09T00:00:00",
          "2019-05-10T00:00:00",
          "2019-05-11T00:00:00",
          "2019-05-12T00:00:00",
          "2019-05-13T00:00:00",
          "2019-05-14T00:00:00",
          "2019-05-15T00:00:00",
          "2019-05-16T00:00:00",
          "2019-05-17T00:00:00",
          "2019-05-18T00:00:00",
          "2019-05-19T00:00:00",
          "2019-05-20T00:00:00",
          "2019-05-21T00:00:00",
          "2019-05-22T00:00:00",
          "2019-05-23T00:00:00",
          "2019-05-24T00:00:00",
          "2019-05-25T00:00:00",
          "2019-05-26T00:00:00",
          "2019-05-27T00:00:00",
          "2019-05-28T00:00:00",
          "2019-05-29T00:00:00",
          "2019-05-30T00:00:00",
          "2019-05-31T00:00:00",
          "2019-06-01T00:00:00",
          "2019-06-02T00:00:00",
          "2019-06-03T00:00:00",
          "2019-06-04T00:00:00",
          "2019-06-05T00:00:00",
          "2019-06-06T00:00:00",
          "2019-06-07T00:00:00",
          "2019-06-08T00:00:00",
          "2019-06-09T00:00:00",
          "2019-06-10T00:00:00",
          "2019-06-11T00:00:00",
          "2019-06-12T00:00:00",
          "2019-06-13T00:00:00",
          "2019-06-14T00:00:00",
          "2019-06-15T00:00:00",
          "2019-06-16T00:00:00",
          "2019-06-17T00:00:00",
          "2019-06-18T00:00:00",
          "2019-06-19T00:00:00",
          "2019-06-20T00:00:00",
          "2019-06-21T00:00:00",
          "2019-06-22T00:00:00",
          "2019-06-23T00:00:00",
          "2019-06-24T00:00:00",
          "2019-06-25T00:00:00",
          "2019-06-26T00:00:00",
          "2019-06-27T00:00:00",
          "2019-06-28T00:00:00",
          "2019-06-29T00:00:00",
          "2019-06-30T00:00:00",
          "2019-07-01T00:00:00",
          "2019-07-02T00:00:00",
          "2019-07-03T00:00:00",
          "2019-07-04T00:00:00",
          "2019-07-05T00:00:00",
          "2019-07-06T00:00:00",
          "2019-07-07T00:00:00",
          "2019-07-08T00:00:00",
          "2019-07-09T00:00:00",
          "2019-07-10T00:00:00",
          "2019-07-11T00:00:00",
          "2019-07-12T00:00:00",
          "2019-07-13T00:00:00",
          "2019-07-14T00:00:00",
          "2019-07-15T00:00:00",
          "2019-07-16T00:00:00",
          "2019-07-17T00:00:00",
          "2019-07-18T00:00:00",
          "2019-07-19T00:00:00",
          "2019-07-20T00:00:00",
          "2019-07-21T00:00:00",
          "2019-07-22T00:00:00",
          "2019-07-23T00:00:00",
          "2019-07-24T00:00:00",
          "2019-07-25T00:00:00",
          "2019-07-26T00:00:00",
          "2019-07-27T00:00:00",
          "2019-07-28T00:00:00",
          "2019-07-29T00:00:00",
          "2019-07-30T00:00:00",
          "2019-07-31T00:00:00",
          "2019-08-01T00:00:00",
          "2019-08-02T00:00:00",
          "2019-08-03T00:00:00",
          "2019-08-04T00:00:00",
          "2019-08-05T00:00:00",
          "2019-08-06T00:00:00",
          "2019-08-07T00:00:00",
          "2019-08-08T00:00:00",
          "2019-08-09T00:00:00",
          "2019-08-10T00:00:00",
          "2019-08-11T00:00:00",
          "2019-08-12T00:00:00",
          "2019-08-13T00:00:00",
          "2019-08-14T00:00:00",
          "2019-08-15T00:00:00",
          "2019-08-16T00:00:00",
          "2019-08-17T00:00:00",
          "2019-08-18T00:00:00",
          "2019-08-19T00:00:00",
          "2019-08-20T00:00:00",
          "2019-08-21T00:00:00",
          "2019-08-22T00:00:00",
          "2019-08-23T00:00:00",
          "2019-08-24T00:00:00",
          "2019-08-25T00:00:00",
          "2019-08-26T00:00:00",
          "2019-08-27T00:00:00",
          "2019-08-28T00:00:00",
          "2019-08-29T00:00:00",
          "2019-08-30T00:00:00",
          "2019-08-31T00:00:00",
          "2019-09-01T00:00:00",
          "2019-09-02T00:00:00",
          "2019-09-03T00:00:00",
          "2019-09-04T00:00:00",
          "2019-09-05T00:00:00",
          "2019-09-06T00:00:00",
          "2019-09-07T00:00:00",
          "2019-09-08T00:00:00",
          "2019-09-09T00:00:00",
          "2019-09-10T00:00:00",
          "2019-09-11T00:00:00",
          "2019-09-12T00:00:00",
          "2019-09-13T00:00:00",
          "2019-09-14T00:00:00",
          "2019-09-15T00:00:00",
          "2019-09-16T00:00:00",
          "2019-09-17T00:00:00",
          "2019-09-18T00:00:00",
          "2019-09-19T00:00:00",
          "2019-09-20T00:00:00",
          "2019-09-21T00:00:00",
          "2019-09-22T00:00:00",
          "2019-09-23T00:00:00",
          "2019-09-24T00:00:00",
          "2019-09-25T00:00:00",
          "2019-09-26T00:00:00",
          "2019-09-27T00:00:00",
          "2019-09-28T00:00:00",
          "2019-09-29T00:00:00",
          "2019-09-30T00:00:00",
          "2019-10-01T00:00:00",
          "2019-10-02T00:00:00",
          "2019-10-03T00:00:00",
          "2019-10-04T00:00:00",
          "2019-10-05T00:00:00",
          "2019-10-06T00:00:00",
          "2019-10-07T00:00:00",
          "2019-10-08T00:00:00",
          "2019-10-09T00:00:00",
          "2019-10-10T00:00:00",
          "2019-10-11T00:00:00",
          "2019-10-12T00:00:00",
          "2019-10-13T00:00:00",
          "2019-10-14T00:00:00",
          "2019-10-15T00:00:00",
          "2019-10-16T00:00:00",
          "2019-10-17T00:00:00",
          "2019-10-18T00:00:00",
          "2019-10-19T00:00:00",
          "2019-10-20T00:00:00",
          "2019-10-21T00:00:00",
          "2019-10-22T00:00:00",
          "2019-10-23T00:00:00",
          "2019-10-24T00:00:00",
          "2019-10-25T00:00:00",
          "2019-10-26T00:00:00",
          "2019-10-27T00:00:00",
          "2019-10-28T00:00:00",
          "2019-10-29T00:00:00",
          "2019-10-30T00:00:00",
          "2019-10-31T00:00:00",
          "2019-11-01T00:00:00",
          "2019-11-02T00:00:00",
          "2019-11-03T00:00:00",
          "2019-11-04T00:00:00",
          "2019-11-05T00:00:00",
          "2019-11-06T00:00:00",
          "2019-11-07T00:00:00",
          "2019-11-08T00:00:00",
          "2019-11-09T00:00:00",
          "2019-11-10T00:00:00",
          "2019-11-11T00:00:00",
          "2019-11-12T00:00:00",
          "2019-11-13T00:00:00",
          "2019-11-14T00:00:00",
          "2019-11-15T00:00:00",
          "2019-11-16T00:00:00",
          "2019-11-17T00:00:00",
          "2019-11-18T00:00:00",
          "2019-11-19T00:00:00",
          "2019-11-20T00:00:00",
          "2019-11-21T00:00:00",
          "2019-11-22T00:00:00",
          "2019-11-23T00:00:00",
          "2019-11-24T00:00:00",
          "2019-11-25T00:00:00",
          "2019-11-26T00:00:00",
          "2019-11-27T00:00:00",
          "2019-11-28T00:00:00",
          "2019-11-29T00:00:00",
          "2019-11-30T00:00:00",
          "2019-12-01T00:00:00",
          "2019-12-02T00:00:00",
          "2019-12-03T00:00:00",
          "2019-12-04T00:00:00",
          "2019-12-05T00:00:00",
          "2019-12-06T00:00:00",
          "2019-12-07T00:00:00",
          "2019-12-08T00:00:00",
          "2019-12-09T00:00:00",
          "2019-12-10T00:00:00",
          "2019-12-11T00:00:00",
          "2019-12-12T00:00:00",
          "2019-12-13T00:00:00",
          "2019-12-14T00:00:00",
          "2019-12-15T00:00:00",
          "2019-12-16T00:00:00",
          "2019-12-17T00:00:00",
          "2019-12-18T00:00:00",
          "2019-12-19T00:00:00",
          "2019-12-20T00:00:00",
          "2019-12-21T00:00:00",
          "2019-12-22T00:00:00",
          "2019-12-23T00:00:00",
          "2019-12-24T00:00:00",
          "2019-12-25T00:00:00",
          "2019-12-26T00:00:00",
          "2019-12-27T00:00:00",
          "2019-12-28T00:00:00",
          "2019-12-29T00:00:00",
          "2019-12-30T00:00:00",
          "2019-12-31T00:00:00",
          "2020-01-01T00:00:00",
          "2020-01-02T00:00:00",
          "2020-01-03T00:00:00",
          "2020-01-04T00:00:00",
          "2020-01-05T00:00:00",
          "2020-01-06T00:00:00",
          "2020-01-07T00:00:00",
          "2020-01-08T00:00:00",
          "2020-01-09T00:00:00",
          "2020-01-10T00:00:00",
          "2020-01-11T00:00:00",
          "2020-01-12T00:00:00",
          "2020-01-13T00:00:00",
          "2020-01-14T00:00:00",
          "2020-01-15T00:00:00",
          "2020-01-16T00:00:00",
          "2020-01-17T00:00:00",
          "2020-01-18T00:00:00",
          "2020-01-19T00:00:00",
          "2020-01-20T00:00:00",
          "2020-01-21T00:00:00",
          "2020-01-22T00:00:00",
          "2020-01-23T00:00:00",
          "2020-01-24T00:00:00",
          "2020-01-25T00:00:00",
          "2020-01-26T00:00:00",
          "2020-01-27T00:00:00",
          "2020-01-28T00:00:00",
          "2020-01-29T00:00:00",
          "2020-01-30T00:00:00",
          "2020-01-31T00:00:00",
          "2020-02-01T00:00:00",
          "2020-02-02T00:00:00",
          "2020-02-03T00:00:00",
          "2020-02-04T00:00:00",
          "2020-02-05T00:00:00",
          "2020-02-06T00:00:00",
          "2020-02-07T00:00:00",
          "2020-02-08T00:00:00",
          "2020-02-09T00:00:00",
          "2020-02-10T00:00:00",
          "2020-02-11T00:00:00",
          "2020-02-12T00:00:00",
          "2020-02-13T00:00:00",
          "2020-02-14T00:00:00",
          "2020-02-15T00:00:00",
          "2020-02-16T00:00:00",
          "2020-02-17T00:00:00",
          "2020-02-18T00:00:00",
          "2020-02-19T00:00:00",
          "2020-02-20T00:00:00",
          "2020-02-21T00:00:00",
          "2020-02-22T00:00:00",
          "2020-02-23T00:00:00",
          "2020-02-24T00:00:00",
          "2020-02-25T00:00:00",
          "2020-02-26T00:00:00",
          "2020-02-27T00:00:00",
          "2020-02-28T00:00:00",
          "2020-02-29T00:00:00",
          "2020-03-01T00:00:00",
          "2020-03-02T00:00:00",
          "2020-03-03T00:00:00",
          "2020-03-04T00:00:00",
          "2020-03-05T00:00:00",
          "2020-03-06T00:00:00",
          "2020-03-07T00:00:00",
          "2020-03-08T00:00:00",
          "2020-03-09T00:00:00",
          "2020-03-10T00:00:00",
          "2020-03-11T00:00:00",
          "2020-03-12T00:00:00",
          "2020-03-13T00:00:00",
          "2020-03-14T00:00:00",
          "2020-03-15T00:00:00",
          "2020-03-16T00:00:00",
          "2020-03-17T00:00:00",
          "2020-03-18T00:00:00",
          "2020-03-19T00:00:00",
          "2020-03-20T00:00:00",
          "2020-03-21T00:00:00",
          "2020-03-22T00:00:00",
          "2020-03-23T00:00:00",
          "2020-03-24T00:00:00",
          "2020-03-25T00:00:00",
          "2020-03-26T00:00:00",
          "2020-03-27T00:00:00",
          "2020-03-28T00:00:00",
          "2020-03-29T00:00:00",
          "2020-03-30T00:00:00",
          "2020-03-31T00:00:00",
          "2020-04-01T00:00:00",
          "2020-04-02T00:00:00",
          "2020-04-03T00:00:00",
          "2020-04-04T00:00:00",
          "2020-04-05T00:00:00",
          "2020-04-06T00:00:00",
          "2020-04-07T00:00:00",
          "2020-04-08T00:00:00",
          "2020-04-09T00:00:00",
          "2020-04-10T00:00:00",
          "2020-04-11T00:00:00",
          "2020-04-12T00:00:00",
          "2020-04-13T00:00:00",
          "2020-04-14T00:00:00",
          "2020-04-15T00:00:00",
          "2020-04-16T00:00:00",
          "2020-04-17T00:00:00",
          "2020-04-18T00:00:00",
          "2020-04-19T00:00:00",
          "2020-04-20T00:00:00",
          "2020-04-21T00:00:00",
          "2020-04-22T00:00:00",
          "2020-04-23T00:00:00",
          "2020-04-24T00:00:00",
          "2020-04-25T00:00:00",
          "2020-04-26T00:00:00",
          "2020-04-27T00:00:00",
          "2020-04-28T00:00:00",
          "2020-04-29T00:00:00",
          "2020-04-30T00:00:00",
          "2020-05-01T00:00:00",
          "2020-05-02T00:00:00",
          "2020-05-03T00:00:00",
          "2020-05-04T00:00:00",
          "2020-05-05T00:00:00",
          "2020-05-06T00:00:00",
          "2020-05-07T00:00:00",
          "2020-05-08T00:00:00",
          "2020-05-09T00:00:00",
          "2020-05-10T00:00:00",
          "2020-05-11T00:00:00",
          "2020-05-12T00:00:00",
          "2020-05-13T00:00:00",
          "2020-05-14T00:00:00",
          "2020-05-15T00:00:00",
          "2020-05-16T00:00:00",
          "2020-05-17T00:00:00",
          "2020-05-18T00:00:00",
          "2020-05-19T00:00:00",
          "2020-05-20T00:00:00",
          "2020-05-21T00:00:00",
          "2020-05-22T00:00:00",
          "2020-05-23T00:00:00",
          "2020-05-24T00:00:00",
          "2020-05-25T00:00:00",
          "2020-05-26T00:00:00",
          "2020-05-27T00:00:00",
          "2020-05-28T00:00:00",
          "2020-05-29T00:00:00",
          "2020-05-30T00:00:00",
          "2020-05-31T00:00:00",
          "2020-06-01T00:00:00",
          "2020-06-02T00:00:00",
          "2020-06-03T00:00:00",
          "2020-06-04T00:00:00",
          "2020-06-05T00:00:00",
          "2020-06-06T00:00:00",
          "2020-06-07T00:00:00",
          "2020-06-08T00:00:00",
          "2020-06-09T00:00:00",
          "2020-06-10T00:00:00",
          "2020-06-11T00:00:00",
          "2020-06-12T00:00:00",
          "2020-06-13T00:00:00",
          "2020-06-14T00:00:00",
          "2020-06-15T00:00:00",
          "2020-06-16T00:00:00",
          "2020-06-17T00:00:00",
          "2020-06-18T00:00:00",
          "2020-06-19T00:00:00",
          "2020-06-20T00:00:00",
          "2020-06-21T00:00:00",
          "2020-06-22T00:00:00",
          "2020-06-23T00:00:00",
          "2020-06-24T00:00:00",
          "2020-06-25T00:00:00",
          "2020-06-26T00:00:00",
          "2020-06-27T00:00:00",
          "2020-06-28T00:00:00",
          "2020-06-29T00:00:00",
          "2020-06-30T00:00:00",
          "2020-07-01T00:00:00",
          "2020-07-02T00:00:00",
          "2020-07-03T00:00:00",
          "2020-07-04T00:00:00",
          "2020-07-05T00:00:00",
          "2020-07-06T00:00:00",
          "2020-07-07T00:00:00",
          "2020-07-08T00:00:00",
          "2020-07-09T00:00:00",
          "2020-07-10T00:00:00",
          "2020-07-11T00:00:00",
          "2020-07-12T00:00:00",
          "2020-07-13T00:00:00",
          "2020-07-14T00:00:00",
          "2020-07-15T00:00:00",
          "2020-07-16T00:00:00",
          "2020-07-17T00:00:00",
          "2020-07-18T00:00:00",
          "2020-07-19T00:00:00",
          "2020-07-20T00:00:00",
          "2020-07-21T00:00:00",
          "2020-07-22T00:00:00",
          "2020-07-23T00:00:00",
          "2020-07-24T00:00:00",
          "2020-07-25T00:00:00",
          "2020-07-26T00:00:00",
          "2020-07-27T00:00:00",
          "2020-07-28T00:00:00",
          "2020-07-29T00:00:00",
          "2020-07-30T00:00:00",
          "2020-07-31T00:00:00",
          "2020-08-01T00:00:00",
          "2020-08-02T00:00:00",
          "2020-08-03T00:00:00",
          "2020-08-04T00:00:00",
          "2020-08-05T00:00:00",
          "2020-08-06T00:00:00",
          "2020-08-07T00:00:00",
          "2020-08-08T00:00:00",
          "2020-08-09T00:00:00",
          "2020-08-10T00:00:00",
          "2020-08-11T00:00:00",
          "2020-08-12T00:00:00",
          "2020-08-13T00:00:00",
          "2020-08-14T00:00:00",
          "2020-08-15T00:00:00",
          "2020-08-16T00:00:00",
          "2020-08-17T00:00:00",
          "2020-08-18T00:00:00",
          "2020-08-19T00:00:00",
          "2020-08-20T00:00:00",
          "2020-08-21T00:00:00",
          "2020-08-22T00:00:00",
          "2020-08-23T00:00:00",
          "2020-08-24T00:00:00",
          "2020-08-25T00:00:00",
          "2020-08-26T00:00:00",
          "2020-08-27T00:00:00",
          "2020-08-28T00:00:00",
          "2020-08-29T00:00:00",
          "2020-08-30T00:00:00",
          "2020-08-31T00:00:00",
          "2020-09-01T00:00:00",
          "2020-09-02T00:00:00",
          "2020-09-03T00:00:00",
          "2020-09-04T00:00:00",
          "2020-09-05T00:00:00",
          "2020-09-06T00:00:00",
          "2020-09-07T00:00:00",
          "2020-09-08T00:00:00",
          "2020-09-09T00:00:00",
          "2020-09-10T00:00:00",
          "2020-09-11T00:00:00",
          "2020-09-12T00:00:00",
          "2020-09-13T00:00:00",
          "2020-09-14T00:00:00",
          "2020-09-15T00:00:00",
          "2020-09-16T00:00:00",
          "2020-09-17T00:00:00",
          "2020-09-18T00:00:00",
          "2020-09-19T00:00:00",
          "2020-09-20T00:00:00",
          "2020-09-21T00:00:00",
          "2020-09-22T00:00:00",
          "2020-09-23T00:00:00",
          "2020-09-24T00:00:00",
          "2020-09-25T00:00:00",
          "2020-09-26T00:00:00",
          "2020-09-27T00:00:00",
          "2020-09-28T00:00:00",
          "2020-09-29T00:00:00",
          "2020-09-30T00:00:00",
          "2020-10-01T00:00:00",
          "2020-10-02T00:00:00",
          "2020-10-03T00:00:00",
          "2020-10-04T00:00:00",
          "2020-10-05T00:00:00",
          "2020-10-06T00:00:00",
          "2020-10-07T00:00:00",
          "2020-10-08T00:00:00",
          "2020-10-09T00:00:00",
          "2020-10-10T00:00:00",
          "2020-10-11T00:00:00",
          "2020-10-12T00:00:00",
          "2020-10-13T00:00:00",
          "2020-10-14T00:00:00",
          "2020-10-15T00:00:00",
          "2020-10-16T00:00:00",
          "2020-10-17T00:00:00",
          "2020-10-18T00:00:00",
          "2020-10-19T00:00:00",
          "2020-10-20T00:00:00",
          "2020-10-21T00:00:00",
          "2020-10-22T00:00:00",
          "2020-10-23T00:00:00",
          "2020-10-24T00:00:00",
          "2020-10-25T00:00:00",
          "2020-10-26T00:00:00",
          "2020-10-27T00:00:00",
          "2020-10-28T00:00:00",
          "2020-10-29T00:00:00",
          "2020-10-30T00:00:00",
          "2020-10-31T00:00:00",
          "2020-11-01T00:00:00",
          "2020-11-02T00:00:00",
          "2020-11-03T00:00:00",
          "2020-11-04T00:00:00",
          "2020-11-05T00:00:00",
          "2020-11-06T00:00:00",
          "2020-11-07T00:00:00",
          "2020-11-08T00:00:00",
          "2020-11-09T00:00:00",
          "2020-11-10T00:00:00",
          "2020-11-11T00:00:00",
          "2020-11-12T00:00:00",
          "2020-11-13T00:00:00",
          "2020-11-14T00:00:00",
          "2020-11-15T00:00:00",
          "2020-11-16T00:00:00",
          "2020-11-17T00:00:00",
          "2020-11-18T00:00:00",
          "2020-11-19T00:00:00",
          "2020-11-20T00:00:00",
          "2020-11-21T00:00:00",
          "2020-11-22T00:00:00",
          "2020-11-23T00:00:00",
          "2020-11-24T00:00:00",
          "2020-11-25T00:00:00",
          "2020-11-26T00:00:00",
          "2020-11-27T00:00:00",
          "2020-11-28T00:00:00",
          "2020-11-29T00:00:00",
          "2020-11-30T00:00:00",
          "2020-12-01T00:00:00",
          "2020-12-02T00:00:00",
          "2020-12-03T00:00:00",
          "2020-12-04T00:00:00",
          "2020-12-05T00:00:00",
          "2020-12-06T00:00:00",
          "2020-12-07T00:00:00",
          "2020-12-08T00:00:00",
          "2020-12-09T00:00:00",
          "2020-12-10T00:00:00",
          "2020-12-11T00:00:00",
          "2020-12-12T00:00:00",
          "2020-12-13T00:00:00",
          "2020-12-14T00:00:00",
          "2020-12-15T00:00:00",
          "2020-12-16T00:00:00",
          "2020-12-17T00:00:00",
          "2020-12-18T00:00:00",
          "2020-12-19T00:00:00",
          "2020-12-20T00:00:00",
          "2020-12-21T00:00:00",
          "2020-12-22T00:00:00",
          "2020-12-23T00:00:00",
          "2020-12-24T00:00:00",
          "2020-12-25T00:00:00",
          "2020-12-26T00:00:00",
          "2020-12-27T00:00:00",
          "2020-12-28T00:00:00",
          "2020-12-29T00:00:00",
          "2020-12-30T00:00:00",
          "2020-12-31T00:00:00",
          "2021-01-01T00:00:00",
          "2021-01-02T00:00:00",
          "2021-01-03T00:00:00",
          "2021-01-04T00:00:00",
          "2021-01-05T00:00:00",
          "2021-01-06T00:00:00",
          "2021-01-07T00:00:00",
          "2021-01-08T00:00:00",
          "2021-01-09T00:00:00",
          "2021-01-10T00:00:00",
          "2021-01-11T00:00:00",
          "2021-01-12T00:00:00",
          "2021-01-13T00:00:00",
          "2021-01-14T00:00:00",
          "2021-01-15T00:00:00",
          "2021-01-16T00:00:00",
          "2021-01-17T00:00:00",
          "2021-01-18T00:00:00",
          "2021-01-19T00:00:00",
          "2021-01-20T00:00:00",
          "2021-01-21T00:00:00",
          "2021-01-22T00:00:00",
          "2021-01-23T00:00:00",
          "2021-01-24T00:00:00",
          "2021-01-25T00:00:00",
          "2021-01-26T00:00:00",
          "2021-01-27T00:00:00",
          "2021-01-28T00:00:00",
          "2021-01-29T00:00:00",
          "2021-01-30T00:00:00",
          "2021-01-31T00:00:00",
          "2021-02-01T00:00:00",
          "2021-02-02T00:00:00",
          "2021-02-03T00:00:00",
          "2021-02-04T00:00:00",
          "2021-02-05T00:00:00",
          "2021-02-06T00:00:00",
          "2021-02-07T00:00:00",
          "2021-02-08T00:00:00",
          "2021-02-09T00:00:00",
          "2021-02-10T00:00:00",
          "2021-02-11T00:00:00",
          "2021-02-12T00:00:00",
          "2021-02-13T00:00:00",
          "2021-02-14T00:00:00",
          "2021-02-15T00:00:00",
          "2021-02-16T00:00:00",
          "2021-02-17T00:00:00",
          "2021-02-18T00:00:00",
          "2021-02-19T00:00:00",
          "2021-02-20T00:00:00",
          "2021-02-21T00:00:00",
          "2021-02-22T00:00:00",
          "2021-02-23T00:00:00",
          "2021-02-24T00:00:00",
          "2021-02-25T00:00:00",
          "2021-02-26T00:00:00",
          "2021-02-27T00:00:00",
          "2021-02-28T00:00:00",
          "2021-03-01T00:00:00",
          "2021-03-02T00:00:00",
          "2021-03-03T00:00:00",
          "2021-03-04T00:00:00",
          "2021-03-05T00:00:00",
          "2021-03-06T00:00:00",
          "2021-03-07T00:00:00",
          "2021-03-08T00:00:00",
          "2021-03-09T00:00:00",
          "2021-03-10T00:00:00",
          "2021-03-11T00:00:00",
          "2021-03-12T00:00:00",
          "2021-03-13T00:00:00",
          "2021-03-14T00:00:00",
          "2021-03-15T00:00:00",
          "2021-03-16T00:00:00",
          "2021-03-17T00:00:00",
          "2021-03-18T00:00:00",
          "2021-03-19T00:00:00",
          "2021-03-20T00:00:00",
          "2021-03-21T00:00:00",
          "2021-03-22T00:00:00",
          "2021-03-23T00:00:00",
          "2021-03-24T00:00:00",
          "2021-03-25T00:00:00",
          "2021-03-26T00:00:00",
          "2021-03-27T00:00:00",
          "2021-03-28T00:00:00",
          "2021-03-29T00:00:00",
          "2021-03-30T00:00:00",
          "2021-03-31T00:00:00",
          "2021-04-01T00:00:00",
          "2021-04-02T00:00:00",
          "2021-04-03T00:00:00",
          "2021-04-04T00:00:00",
          "2021-04-05T00:00:00",
          "2021-04-06T00:00:00",
          "2021-04-07T00:00:00",
          "2021-04-08T00:00:00",
          "2021-04-09T00:00:00",
          "2021-04-10T00:00:00",
          "2021-04-11T00:00:00",
          "2021-04-12T00:00:00",
          "2021-04-13T00:00:00",
          "2021-04-14T00:00:00",
          "2021-04-15T00:00:00",
          "2021-04-16T00:00:00",
          "2021-04-17T00:00:00",
          "2021-04-18T00:00:00",
          "2021-04-19T00:00:00",
          "2021-04-20T00:00:00",
          "2021-04-21T00:00:00",
          "2021-04-22T00:00:00",
          "2021-04-23T00:00:00",
          "2021-04-24T00:00:00",
          "2021-04-25T00:00:00",
          "2021-04-26T00:00:00",
          "2021-04-27T00:00:00",
          "2021-04-28T00:00:00",
          "2021-04-29T00:00:00",
          "2021-04-30T00:00:00",
          "2021-05-01T00:00:00",
          "2021-05-02T00:00:00",
          "2021-05-03T00:00:00",
          "2021-05-04T00:00:00",
          "2021-05-05T00:00:00",
          "2021-05-06T00:00:00",
          "2021-05-07T00:00:00",
          "2021-05-08T00:00:00",
          "2021-05-09T00:00:00",
          "2021-05-10T00:00:00",
          "2021-05-11T00:00:00",
          "2021-05-12T00:00:00",
          "2021-05-13T00:00:00",
          "2021-05-14T00:00:00",
          "2021-05-15T00:00:00",
          "2021-05-16T00:00:00",
          "2021-05-17T00:00:00",
          "2021-05-18T00:00:00",
          "2021-05-19T00:00:00",
          "2021-05-20T00:00:00",
          "2021-05-21T00:00:00",
          "2021-05-22T00:00:00",
          "2021-05-23T00:00:00",
          "2021-05-24T00:00:00",
          "2021-05-25T00:00:00",
          "2021-05-26T00:00:00",
          "2021-05-27T00:00:00",
          "2021-05-28T00:00:00",
          "2021-05-29T00:00:00",
          "2021-05-30T00:00:00",
          "2021-05-31T00:00:00",
          "2021-06-01T00:00:00",
          "2021-06-02T00:00:00",
          "2021-06-03T00:00:00",
          "2021-06-04T00:00:00",
          "2021-06-05T00:00:00",
          "2021-06-06T00:00:00",
          "2021-06-07T00:00:00",
          "2021-06-08T00:00:00",
          "2021-06-09T00:00:00",
          "2021-06-10T00:00:00",
          "2021-06-11T00:00:00",
          "2021-06-12T00:00:00",
          "2021-06-13T00:00:00",
          "2021-06-14T00:00:00",
          "2021-06-15T00:00:00",
          "2021-06-16T00:00:00",
          "2021-06-17T00:00:00",
          "2021-06-18T00:00:00",
          "2021-06-19T00:00:00",
          "2021-06-20T00:00:00",
          "2021-06-21T00:00:00",
          "2021-06-22T00:00:00",
          "2021-06-23T00:00:00",
          "2021-06-24T00:00:00",
          "2021-06-25T00:00:00",
          "2021-06-26T00:00:00",
          "2021-06-27T00:00:00",
          "2021-06-28T00:00:00",
          "2021-06-29T00:00:00",
          "2021-06-30T00:00:00",
          "2021-07-01T00:00:00",
          "2021-07-02T00:00:00",
          "2021-07-03T00:00:00",
          "2021-07-04T00:00:00",
          "2021-07-05T00:00:00",
          "2021-07-06T00:00:00",
          "2021-07-07T00:00:00",
          "2021-07-08T00:00:00",
          "2021-07-09T00:00:00",
          "2021-07-10T00:00:00",
          "2021-07-11T00:00:00",
          "2021-07-12T00:00:00",
          "2021-07-13T00:00:00",
          "2021-07-14T00:00:00",
          "2021-07-15T00:00:00",
          "2021-07-16T00:00:00",
          "2021-07-17T00:00:00",
          "2021-07-18T00:00:00",
          "2021-07-19T00:00:00",
          "2021-07-20T00:00:00",
          "2021-07-21T00:00:00",
          "2021-07-22T00:00:00",
          "2021-07-23T00:00:00",
          "2021-07-24T00:00:00",
          "2021-07-25T00:00:00",
          "2021-07-26T00:00:00",
          "2021-07-27T00:00:00",
          "2021-07-28T00:00:00",
          "2021-07-29T00:00:00",
          "2021-07-30T00:00:00",
          "2021-07-31T00:00:00",
          "2021-08-01T00:00:00",
          "2021-08-02T00:00:00",
          "2021-08-03T00:00:00",
          "2021-08-04T00:00:00",
          "2021-08-05T00:00:00",
          "2021-08-06T00:00:00",
          "2021-08-07T00:00:00",
          "2021-08-08T00:00:00",
          "2021-08-09T00:00:00",
          "2021-08-10T00:00:00",
          "2021-08-11T00:00:00",
          "2021-08-12T00:00:00",
          "2021-08-13T00:00:00",
          "2021-08-14T00:00:00",
          "2021-08-15T00:00:00",
          "2021-08-16T00:00:00",
          "2021-08-17T00:00:00",
          "2021-08-18T00:00:00",
          "2021-08-19T00:00:00",
          "2021-08-20T00:00:00",
          "2021-08-21T00:00:00",
          "2021-08-22T00:00:00",
          "2021-08-23T00:00:00",
          "2021-08-24T00:00:00",
          "2021-08-25T00:00:00",
          "2021-08-26T00:00:00",
          "2021-08-27T00:00:00",
          "2021-08-28T00:00:00",
          "2021-08-29T00:00:00",
          "2021-08-30T00:00:00",
          "2021-08-31T00:00:00",
          "2021-09-01T00:00:00",
          "2021-09-02T00:00:00",
          "2021-09-03T00:00:00",
          "2021-09-04T00:00:00",
          "2021-09-05T00:00:00",
          "2021-09-06T00:00:00",
          "2021-09-07T00:00:00",
          "2021-09-08T00:00:00",
          "2021-09-09T00:00:00",
          "2021-09-10T00:00:00",
          "2021-09-11T00:00:00",
          "2021-09-12T00:00:00",
          "2021-09-13T00:00:00",
          "2021-09-14T00:00:00",
          "2021-09-15T00:00:00",
          "2021-09-16T00:00:00",
          "2021-09-17T00:00:00",
          "2021-09-18T00:00:00",
          "2021-09-19T00:00:00",
          "2021-09-20T00:00:00",
          "2021-09-21T00:00:00",
          "2021-09-22T00:00:00",
          "2021-09-23T00:00:00",
          "2021-09-24T00:00:00",
          "2021-09-25T00:00:00",
          "2021-09-26T00:00:00",
          "2021-09-27T00:00:00",
          "2021-09-28T00:00:00",
          "2021-09-29T00:00:00",
          "2021-09-30T00:00:00",
          "2021-10-01T00:00:00",
          "2021-10-02T00:00:00",
          "2021-10-03T00:00:00",
          "2021-10-04T00:00:00",
          "2021-10-05T00:00:00",
          "2021-10-06T00:00:00",
          "2021-10-07T00:00:00",
          "2021-10-08T00:00:00",
          "2021-10-09T00:00:00",
          "2021-10-10T00:00:00",
          "2021-10-11T00:00:00",
          "2021-10-12T00:00:00",
          "2021-10-13T00:00:00",
          "2021-10-14T00:00:00",
          "2021-10-15T00:00:00",
          "2021-10-16T00:00:00",
          "2021-10-17T00:00:00",
          "2021-10-18T00:00:00",
          "2021-10-19T00:00:00",
          "2021-10-20T00:00:00",
          "2021-10-21T00:00:00",
          "2021-10-22T00:00:00",
          "2021-10-23T00:00:00",
          "2021-10-24T00:00:00",
          "2021-10-25T00:00:00",
          "2021-10-26T00:00:00",
          "2021-10-27T00:00:00",
          "2021-10-28T00:00:00",
          "2021-10-29T00:00:00",
          "2021-10-30T00:00:00",
          "2021-10-31T00:00:00",
          "2021-11-01T00:00:00",
          "2021-11-02T00:00:00",
          "2021-11-03T00:00:00",
          "2021-11-04T00:00:00",
          "2021-11-05T00:00:00",
          "2021-11-06T00:00:00",
          "2021-11-07T00:00:00",
          "2021-11-08T00:00:00",
          "2021-11-09T00:00:00",
          "2021-11-10T00:00:00",
          "2021-11-11T00:00:00",
          "2021-11-12T00:00:00",
          "2021-11-13T00:00:00",
          "2021-11-14T00:00:00",
          "2021-11-15T00:00:00",
          "2021-11-16T00:00:00",
          "2021-11-17T00:00:00",
          "2021-11-18T00:00:00",
          "2021-11-19T00:00:00",
          "2021-11-20T00:00:00",
          "2021-11-21T00:00:00",
          "2021-11-22T00:00:00",
          "2021-11-23T00:00:00",
          "2021-11-24T00:00:00",
          "2021-11-25T00:00:00",
          "2021-11-26T00:00:00",
          "2021-11-27T00:00:00",
          "2021-11-28T00:00:00",
          "2021-11-29T00:00:00",
          "2021-11-30T00:00:00",
          "2021-12-01T00:00:00",
          "2021-12-02T00:00:00",
          "2021-12-03T00:00:00",
          "2021-12-04T00:00:00",
          "2021-12-05T00:00:00",
          "2021-12-06T00:00:00",
          "2021-12-07T00:00:00",
          "2021-12-08T00:00:00",
          "2021-12-09T00:00:00",
          "2021-12-10T00:00:00",
          "2021-12-11T00:00:00",
          "2021-12-12T00:00:00",
          "2021-12-13T00:00:00",
          "2021-12-14T00:00:00",
          "2021-12-15T00:00:00",
          "2021-12-16T00:00:00",
          "2021-12-17T00:00:00",
          "2021-12-18T00:00:00",
          "2021-12-19T00:00:00",
          "2021-12-20T00:00:00",
          "2021-12-21T00:00:00",
          "2021-12-22T00:00:00",
          "2021-12-23T00:00:00",
          "2021-12-24T00:00:00",
          "2021-12-25T00:00:00",
          "2021-12-26T00:00:00",
          "2021-12-27T00:00:00",
          "2021-12-28T00:00:00",
          "2021-12-29T00:00:00",
          "2021-12-30T00:00:00",
          "2021-12-31T00:00:00",
          "2022-01-01T00:00:00",
          "2022-01-02T00:00:00",
          "2022-01-03T00:00:00",
          "2022-01-04T00:00:00",
          "2022-01-05T00:00:00",
          "2022-01-06T00:00:00",
          "2022-01-07T00:00:00",
          "2022-01-08T00:00:00",
          "2022-01-09T00:00:00",
          "2022-01-10T00:00:00",
          "2022-01-11T00:00:00",
          "2022-01-12T00:00:00",
          "2022-01-13T00:00:00",
          "2022-01-14T00:00:00",
          "2022-01-15T00:00:00",
          "2022-01-16T00:00:00",
          "2022-01-17T00:00:00",
          "2022-01-18T00:00:00",
          "2022-01-19T00:00:00",
          "2022-01-20T00:00:00",
          "2022-01-21T00:00:00",
          "2022-01-22T00:00:00",
          "2022-01-23T00:00:00",
          "2022-01-24T00:00:00",
          "2022-01-25T00:00:00",
          "2022-01-26T00:00:00",
          "2022-01-27T00:00:00",
          "2022-01-28T00:00:00",
          "2022-01-29T00:00:00",
          "2022-01-30T00:00:00",
          "2022-01-31T00:00:00",
          "2022-02-01T00:00:00",
          "2022-02-02T00:00:00",
          "2022-02-03T00:00:00",
          "2022-02-04T00:00:00",
          "2022-02-05T00:00:00",
          "2022-02-06T00:00:00",
          "2022-02-07T00:00:00",
          "2022-02-08T00:00:00",
          "2022-02-09T00:00:00",
          "2022-02-10T00:00:00",
          "2022-02-11T00:00:00",
          "2022-02-12T00:00:00",
          "2022-02-13T00:00:00",
          "2022-02-14T00:00:00",
          "2022-02-15T00:00:00",
          "2022-02-16T00:00:00",
          "2022-02-17T00:00:00",
          "2022-02-18T00:00:00",
          "2022-02-19T00:00:00",
          "2022-02-20T00:00:00",
          "2022-02-21T00:00:00",
          "2022-02-22T00:00:00",
          "2022-02-23T00:00:00",
          "2022-02-24T00:00:00",
          "2022-02-25T00:00:00",
          "2022-02-26T00:00:00",
          "2022-02-27T00:00:00",
          "2022-02-28T00:00:00",
          "2022-03-01T00:00:00",
          "2022-03-02T00:00:00",
          "2022-03-03T00:00:00",
          "2022-03-04T00:00:00",
          "2022-03-05T00:00:00",
          "2022-03-06T00:00:00",
          "2022-03-07T00:00:00",
          "2022-03-08T00:00:00",
          "2022-03-09T00:00:00",
          "2022-03-10T00:00:00",
          "2022-03-11T00:00:00",
          "2022-03-12T00:00:00",
          "2022-03-13T00:00:00",
          "2022-03-14T00:00:00",
          "2022-03-15T00:00:00",
          "2022-03-16T00:00:00",
          "2022-03-17T00:00:00",
          "2022-03-18T00:00:00",
          "2022-03-19T00:00:00",
          "2022-03-20T00:00:00",
          "2022-03-21T00:00:00",
          "2022-03-22T00:00:00",
          "2022-03-23T00:00:00",
          "2022-03-24T00:00:00",
          "2022-03-25T00:00:00",
          "2022-03-26T00:00:00",
          "2022-03-27T00:00:00",
          "2022-03-28T00:00:00",
          "2022-03-29T00:00:00",
          "2022-03-30T00:00:00",
          "2022-03-31T00:00:00",
          "2022-04-01T00:00:00",
          "2022-04-02T00:00:00",
          "2022-04-03T00:00:00",
          "2022-04-04T00:00:00",
          "2022-04-05T00:00:00",
          "2022-04-06T00:00:00",
          "2022-04-07T00:00:00",
          "2022-04-08T00:00:00",
          "2022-04-09T00:00:00",
          "2022-04-10T00:00:00",
          "2022-04-11T00:00:00",
          "2022-04-12T00:00:00",
          "2022-04-13T00:00:00",
          "2022-04-14T00:00:00",
          "2022-04-15T00:00:00",
          "2022-04-16T00:00:00",
          "2022-04-17T00:00:00",
          "2022-04-18T00:00:00",
          "2022-04-19T00:00:00",
          "2022-04-20T00:00:00",
          "2022-04-21T00:00:00",
          "2022-04-22T00:00:00",
          "2022-04-23T00:00:00",
          "2022-04-24T00:00:00",
          "2022-04-25T00:00:00",
          "2022-04-26T00:00:00",
          "2022-04-27T00:00:00",
          "2022-04-28T00:00:00",
          "2022-04-29T00:00:00",
          "2022-04-30T00:00:00",
          "2022-05-01T00:00:00",
          "2022-05-02T00:00:00",
          "2022-05-03T00:00:00",
          "2022-05-04T00:00:00",
          "2022-05-05T00:00:00",
          "2022-05-06T00:00:00",
          "2022-05-07T00:00:00",
          "2022-05-08T00:00:00",
          "2022-05-09T00:00:00",
          "2022-05-10T00:00:00",
          "2022-05-11T00:00:00",
          "2022-05-12T00:00:00",
          "2022-05-13T00:00:00",
          "2022-05-14T00:00:00",
          "2022-05-15T00:00:00",
          "2022-05-16T00:00:00",
          "2022-05-17T00:00:00",
          "2022-05-18T00:00:00",
          "2022-05-19T00:00:00",
          "2022-05-20T00:00:00",
          "2022-05-21T00:00:00",
          "2022-05-22T00:00:00",
          "2022-05-23T00:00:00",
          "2022-05-24T00:00:00",
          "2022-05-25T00:00:00",
          "2022-05-26T00:00:00",
          "2022-05-27T00:00:00",
          "2022-05-28T00:00:00",
          "2022-05-29T00:00:00",
          "2022-05-30T00:00:00",
          "2022-05-31T00:00:00",
          "2022-06-01T00:00:00",
          "2022-06-02T00:00:00",
          "2022-06-03T00:00:00",
          "2022-06-04T00:00:00",
          "2022-06-05T00:00:00",
          "2022-06-06T00:00:00",
          "2022-06-07T00:00:00",
          "2022-06-08T00:00:00",
          "2022-06-09T00:00:00",
          "2022-06-10T00:00:00",
          "2022-06-11T00:00:00",
          "2022-06-12T00:00:00",
          "2022-06-13T00:00:00",
          "2022-06-14T00:00:00",
          "2022-06-15T00:00:00",
          "2022-06-16T00:00:00",
          "2022-06-17T00:00:00",
          "2022-06-18T00:00:00",
          "2022-06-19T00:00:00",
          "2022-06-20T00:00:00",
          "2022-06-21T00:00:00",
          "2022-06-22T00:00:00",
          "2022-06-23T00:00:00",
          "2022-06-24T00:00:00",
          "2022-06-25T00:00:00",
          "2022-06-26T00:00:00",
          "2022-06-27T00:00:00",
          "2022-06-28T00:00:00",
          "2022-06-29T00:00:00",
          "2022-06-30T00:00:00",
          "2022-07-01T00:00:00",
          "2022-07-02T00:00:00",
          "2022-07-03T00:00:00",
          "2022-07-04T00:00:00",
          "2022-07-05T00:00:00",
          "2022-07-06T00:00:00",
          "2022-07-07T00:00:00",
          "2022-07-08T00:00:00",
          "2022-07-09T00:00:00",
          "2022-07-10T00:00:00",
          "2022-07-11T00:00:00",
          "2022-07-12T00:00:00",
          "2022-07-13T00:00:00",
          "2022-07-14T00:00:00",
          "2022-07-15T00:00:00",
          "2022-07-16T00:00:00",
          "2022-07-17T00:00:00",
          "2022-07-18T00:00:00",
          "2022-07-19T00:00:00",
          "2022-07-20T00:00:00",
          "2022-07-21T00:00:00",
          "2022-07-22T00:00:00",
          "2022-07-23T00:00:00",
          "2022-07-24T00:00:00",
          "2022-07-25T00:00:00",
          "2022-07-26T00:00:00",
          "2022-07-27T00:00:00",
          "2022-07-28T00:00:00",
          "2022-07-29T00:00:00",
          "2022-07-30T00:00:00",
          "2022-07-31T00:00:00",
          "2022-08-01T00:00:00",
          "2022-08-02T00:00:00",
          "2022-08-03T00:00:00",
          "2022-08-04T00:00:00",
          "2022-08-05T00:00:00",
          "2022-08-06T00:00:00",
          "2022-08-07T00:00:00",
          "2022-08-08T00:00:00",
          "2022-08-09T00:00:00",
          "2022-08-10T00:00:00",
          "2022-08-11T00:00:00",
          "2022-08-12T00:00:00",
          "2022-08-13T00:00:00",
          "2022-08-14T00:00:00",
          "2022-08-15T00:00:00",
          "2022-08-16T00:00:00",
          "2022-08-17T00:00:00",
          "2022-08-18T00:00:00",
          "2022-08-19T00:00:00",
          "2022-08-20T00:00:00",
          "2022-08-21T00:00:00",
          "2022-08-22T00:00:00",
          "2022-08-23T00:00:00",
          "2022-08-24T00:00:00",
          "2022-08-25T00:00:00",
          "2022-08-26T00:00:00",
          "2022-08-27T00:00:00",
          "2022-08-28T00:00:00",
          "2022-08-29T00:00:00",
          "2022-08-30T00:00:00",
          "2022-08-31T00:00:00",
          "2022-09-01T00:00:00",
          "2022-09-02T00:00:00",
          "2022-09-03T00:00:00",
          "2022-09-04T00:00:00",
          "2022-09-05T00:00:00",
          "2022-09-06T00:00:00",
          "2022-09-07T00:00:00",
          "2022-09-08T00:00:00",
          "2022-09-09T00:00:00",
          "2022-09-10T00:00:00",
          "2022-09-11T00:00:00",
          "2022-09-12T00:00:00",
          "2022-09-13T00:00:00",
          "2022-09-14T00:00:00",
          "2022-09-15T00:00:00",
          "2022-09-16T00:00:00",
          "2022-09-17T00:00:00",
          "2022-09-18T00:00:00",
          "2022-09-19T00:00:00",
          "2022-09-20T00:00:00",
          "2022-09-21T00:00:00",
          "2022-09-22T00:00:00",
          "2022-09-23T00:00:00",
          "2022-09-24T00:00:00",
          "2022-09-25T00:00:00",
          "2022-09-26T00:00:00",
          "2022-09-27T00:00:00",
          "2022-09-28T00:00:00",
          "2022-09-29T00:00:00",
          "2022-09-30T00:00:00",
          "2022-10-01T00:00:00",
          "2022-10-02T00:00:00",
          "2022-10-03T00:00:00",
          "2022-10-04T00:00:00",
          "2022-10-05T00:00:00",
          "2022-10-06T00:00:00",
          "2022-10-07T00:00:00",
          "2022-10-08T00:00:00",
          "2022-10-09T00:00:00",
          "2022-10-10T00:00:00",
          "2022-10-11T00:00:00",
          "2022-10-12T00:00:00",
          "2022-10-13T00:00:00",
          "2022-10-14T00:00:00",
          "2022-10-15T00:00:00",
          "2022-10-16T00:00:00",
          "2022-10-17T00:00:00",
          "2022-10-18T00:00:00",
          "2022-10-19T00:00:00",
          "2022-10-20T00:00:00",
          "2022-10-21T00:00:00",
          "2022-10-22T00:00:00",
          "2022-10-23T00:00:00",
          "2022-10-24T00:00:00",
          "2022-10-25T00:00:00",
          "2022-10-26T00:00:00",
          "2022-10-27T00:00:00",
          "2022-10-28T00:00:00",
          "2022-10-29T00:00:00",
          "2022-10-30T00:00:00",
          "2022-10-31T00:00:00",
          "2022-11-01T00:00:00",
          "2022-11-02T00:00:00",
          "2022-11-03T00:00:00",
          "2022-11-04T00:00:00",
          "2022-11-05T00:00:00",
          "2022-11-06T00:00:00",
          "2022-11-07T00:00:00",
          "2022-11-08T00:00:00",
          "2022-11-09T00:00:00",
          "2022-11-10T00:00:00",
          "2022-11-11T00:00:00",
          "2022-11-12T00:00:00",
          "2022-11-13T00:00:00",
          "2022-11-14T00:00:00",
          "2022-11-15T00:00:00",
          "2022-11-16T00:00:00",
          "2022-11-17T00:00:00",
          "2022-11-18T00:00:00",
          "2022-11-19T00:00:00",
          "2022-11-20T00:00:00",
          "2022-11-21T00:00:00",
          "2022-11-22T00:00:00",
          "2022-11-23T00:00:00",
          "2022-11-24T00:00:00",
          "2022-11-25T00:00:00",
          "2022-11-26T00:00:00",
          "2022-11-27T00:00:00",
          "2022-11-28T00:00:00",
          "2022-11-29T00:00:00",
          "2022-11-30T00:00:00",
          "2022-12-01T00:00:00",
          "2022-12-02T00:00:00",
          "2022-12-03T00:00:00",
          "2022-12-04T00:00:00",
          "2022-12-05T00:00:00",
          "2022-12-06T00:00:00",
          "2022-12-07T00:00:00",
          "2022-12-08T00:00:00",
          "2022-12-09T00:00:00",
          "2022-12-10T00:00:00",
          "2022-12-11T00:00:00",
          "2022-12-12T00:00:00",
          "2022-12-13T00:00:00",
          "2022-12-14T00:00:00",
          "2022-12-15T00:00:00",
          "2022-12-16T00:00:00",
          "2022-12-17T00:00:00",
          "2022-12-18T00:00:00",
          "2022-12-19T00:00:00",
          "2022-12-20T00:00:00",
          "2022-12-21T00:00:00",
          "2022-12-22T00:00:00",
          "2022-12-23T00:00:00",
          "2022-12-24T00:00:00",
          "2022-12-25T00:00:00",
          "2022-12-26T00:00:00",
          "2022-12-27T00:00:00",
          "2022-12-28T00:00:00",
          "2022-12-29T00:00:00",
          "2022-12-30T00:00:00",
          "2022-12-31T00:00:00",
          "2023-01-01T00:00:00",
          "2023-01-02T00:00:00",
          "2023-01-03T00:00:00",
          "2023-01-04T00:00:00",
          "2023-01-05T00:00:00",
          "2023-01-06T00:00:00",
          "2023-01-07T00:00:00",
          "2023-01-08T00:00:00",
          "2023-01-09T00:00:00",
          "2023-01-10T00:00:00",
          "2023-01-11T00:00:00",
          "2023-01-12T00:00:00",
          "2023-01-13T00:00:00",
          "2023-01-14T00:00:00",
          "2023-01-15T00:00:00",
          "2023-01-16T00:00:00",
          "2023-01-17T00:00:00",
          "2023-01-18T00:00:00",
          "2023-01-19T00:00:00",
          "2023-01-20T00:00:00",
          "2023-01-21T00:00:00",
          "2023-01-22T00:00:00",
          "2023-01-23T00:00:00",
          "2023-01-24T00:00:00",
          "2023-01-25T00:00:00",
          "2023-01-26T00:00:00",
          "2023-01-27T00:00:00",
          "2023-01-28T00:00:00",
          "2023-01-29T00:00:00",
          "2023-01-30T00:00:00",
          "2023-01-31T00:00:00",
          "2023-02-01T00:00:00",
          "2023-02-02T00:00:00",
          "2023-02-03T00:00:00",
          "2023-02-04T00:00:00",
          "2023-02-05T00:00:00",
          "2023-02-06T00:00:00",
          "2023-02-07T00:00:00",
          "2023-02-08T00:00:00",
          "2023-02-09T00:00:00",
          "2023-02-10T00:00:00",
          "2023-02-11T00:00:00",
          "2023-02-12T00:00:00",
          "2023-02-13T00:00:00",
          "2023-02-14T00:00:00",
          "2023-02-15T00:00:00",
          "2023-02-16T00:00:00",
          "2023-02-17T00:00:00",
          "2023-02-18T00:00:00",
          "2023-02-19T00:00:00",
          "2023-02-20T00:00:00",
          "2023-02-21T00:00:00",
          "2023-02-22T00:00:00",
          "2023-02-23T00:00:00",
          "2023-02-24T00:00:00",
          "2023-02-25T00:00:00",
          "2023-02-26T00:00:00",
          "2023-02-27T00:00:00",
          "2023-02-28T00:00:00",
          "2023-03-01T00:00:00",
          "2023-03-02T00:00:00",
          "2023-03-03T00:00:00",
          "2023-03-04T00:00:00",
          "2023-03-05T00:00:00",
          "2023-03-06T00:00:00",
          "2023-03-07T00:00:00",
          "2023-03-08T00:00:00",
          "2023-03-09T00:00:00",
          "2023-03-10T00:00:00",
          "2023-03-11T00:00:00",
          "2023-03-12T00:00:00",
          "2023-03-13T00:00:00",
          "2023-03-14T00:00:00",
          "2023-03-15T00:00:00",
          "2023-03-16T00:00:00",
          "2023-03-17T00:00:00",
          "2023-03-18T00:00:00",
          "2023-03-19T00:00:00",
          "2023-03-20T00:00:00",
          "2023-03-21T00:00:00",
          "2023-03-22T00:00:00",
          "2023-03-23T00:00:00",
          "2023-03-24T00:00:00",
          "2023-03-25T00:00:00",
          "2023-03-26T00:00:00",
          "2023-03-27T00:00:00",
          "2023-03-28T00:00:00",
          "2023-03-29T00:00:00",
          "2023-03-30T00:00:00",
          "2023-03-31T00:00:00",
          "2023-04-01T00:00:00",
          "2023-04-02T00:00:00",
          "2023-04-03T00:00:00",
          "2023-04-04T00:00:00",
          "2023-04-05T00:00:00",
          "2023-04-06T00:00:00",
          "2023-04-07T00:00:00",
          "2023-04-08T00:00:00",
          "2023-04-09T00:00:00",
          "2023-04-10T00:00:00",
          "2023-04-11T00:00:00",
          "2023-04-12T00:00:00",
          "2023-04-13T00:00:00",
          "2023-04-14T00:00:00",
          "2023-04-15T00:00:00",
          "2023-04-16T00:00:00",
          "2023-04-17T00:00:00",
          "2023-04-18T00:00:00",
          "2023-04-19T00:00:00",
          "2023-04-20T00:00:00",
          "2023-04-21T00:00:00",
          "2023-04-22T00:00:00",
          "2023-04-23T00:00:00",
          "2023-04-24T00:00:00",
          "2023-04-25T00:00:00",
          "2023-04-26T00:00:00",
          "2023-04-27T00:00:00",
          "2023-04-28T00:00:00",
          "2023-04-29T00:00:00",
          "2023-04-30T00:00:00",
          "2023-05-01T00:00:00",
          "2023-05-02T00:00:00",
          "2023-05-03T00:00:00",
          "2023-05-04T00:00:00",
          "2023-05-05T00:00:00",
          "2023-05-06T00:00:00",
          "2023-05-07T00:00:00",
          "2023-05-08T00:00:00",
          "2023-05-09T00:00:00",
          "2023-05-10T00:00:00",
          "2023-05-11T00:00:00",
          "2023-05-12T00:00:00",
          "2023-05-13T00:00:00",
          "2023-05-14T00:00:00",
          "2023-05-15T00:00:00",
          "2023-05-16T00:00:00",
          "2023-05-17T00:00:00",
          "2023-05-18T00:00:00",
          "2023-05-19T00:00:00",
          "2023-05-20T00:00:00",
          "2023-05-21T00:00:00",
          "2023-05-22T00:00:00",
          "2023-05-23T00:00:00",
          "2023-05-24T00:00:00",
          "2023-05-25T00:00:00",
          "2023-05-26T00:00:00",
          "2023-05-27T00:00:00",
          "2023-05-28T00:00:00",
          "2023-05-29T00:00:00",
          "2023-05-30T00:00:00",
          "2023-05-31T00:00:00",
          "2023-06-01T00:00:00",
          "2023-06-02T00:00:00",
          "2023-06-03T00:00:00",
          "2023-06-04T00:00:00",
          "2023-06-05T00:00:00",
          "2023-06-06T00:00:00",
          "2023-06-07T00:00:00",
          "2023-06-08T00:00:00",
          "2023-06-09T00:00:00",
          "2023-06-10T00:00:00",
          "2023-06-11T00:00:00",
          "2023-06-12T00:00:00",
          "2023-06-13T00:00:00",
          "2023-06-14T00:00:00",
          "2023-06-15T00:00:00",
          "2023-06-16T00:00:00",
          "2023-06-17T00:00:00",
          "2023-06-18T00:00:00",
          "2023-06-19T00:00:00",
          "2023-06-20T00:00:00",
          "2023-06-21T00:00:00",
          "2023-06-22T00:00:00",
          "2023-06-23T00:00:00",
          "2023-06-24T00:00:00",
          "2023-06-25T00:00:00",
          "2023-06-26T00:00:00",
          "2023-06-27T00:00:00",
          "2023-06-28T00:00:00",
          "2023-06-29T00:00:00",
          "2023-06-30T00:00:00",
          "2023-07-01T00:00:00",
          "2023-07-02T00:00:00",
          "2023-07-03T00:00:00",
          "2023-07-04T00:00:00",
          "2023-07-05T00:00:00",
          "2023-07-06T00:00:00",
          "2023-07-07T00:00:00",
          "2023-07-08T00:00:00",
          "2023-07-09T00:00:00",
          "2023-07-10T00:00:00",
          "2023-07-11T00:00:00",
          "2023-07-12T00:00:00",
          "2023-07-13T00:00:00",
          "2023-07-14T00:00:00",
          "2023-07-15T00:00:00",
          "2023-07-16T00:00:00",
          "2023-07-17T00:00:00",
          "2023-07-18T00:00:00",
          "2023-07-19T00:00:00",
          "2023-07-20T00:00:00",
          "2023-07-21T00:00:00",
          "2023-07-22T00:00:00",
          "2023-07-23T00:00:00",
          "2023-07-24T00:00:00",
          "2023-07-25T00:00:00",
          "2023-07-26T00:00:00",
          "2023-07-27T00:00:00",
          "2023-07-28T00:00:00",
          "2023-07-29T00:00:00",
          "2023-07-30T00:00:00",
          "2023-07-31T00:00:00",
          "2023-08-01T00:00:00",
          "2023-08-02T00:00:00",
          "2023-08-03T00:00:00",
          "2023-08-04T00:00:00",
          "2023-08-05T00:00:00",
          "2023-08-06T00:00:00",
          "2023-08-07T00:00:00",
          "2023-08-08T00:00:00",
          "2023-08-09T00:00:00",
          "2023-08-10T00:00:00",
          "2023-08-11T00:00:00",
          "2023-08-12T00:00:00",
          "2023-08-13T00:00:00",
          "2023-08-14T00:00:00",
          "2023-08-15T00:00:00",
          "2023-08-16T00:00:00",
          "2023-08-17T00:00:00",
          "2023-08-18T00:00:00",
          "2023-08-19T00:00:00",
          "2023-08-20T00:00:00",
          "2023-08-21T00:00:00",
          "2023-08-22T00:00:00",
          "2023-08-23T00:00:00",
          "2023-08-24T00:00:00",
          "2023-08-25T00:00:00",
          "2023-08-26T00:00:00",
          "2023-08-27T00:00:00",
          "2023-08-28T00:00:00",
          "2023-08-29T00:00:00",
          "2023-08-30T00:00:00",
          "2023-08-31T00:00:00",
          "2023-09-01T00:00:00",
          "2023-09-02T00:00:00",
          "2023-09-03T00:00:00",
          "2023-09-04T00:00:00",
          "2023-09-05T00:00:00",
          "2023-09-06T00:00:00",
          "2023-09-07T00:00:00",
          "2023-09-08T00:00:00",
          "2023-09-09T00:00:00",
          "2023-09-10T00:00:00",
          "2023-09-11T00:00:00",
          "2023-09-12T00:00:00",
          "2023-09-13T00:00:00",
          "2023-09-14T00:00:00",
          "2023-09-15T00:00:00",
          "2023-09-16T00:00:00",
          "2023-09-17T00:00:00",
          "2023-09-18T00:00:00",
          "2023-09-19T00:00:00",
          "2023-09-20T00:00:00",
          "2023-09-21T00:00:00",
          "2023-09-22T00:00:00",
          "2023-09-23T00:00:00",
          "2023-09-24T00:00:00",
          "2023-09-25T00:00:00",
          "2023-09-26T00:00:00",
          "2023-09-27T00:00:00",
          "2023-09-28T00:00:00",
          "2023-09-29T00:00:00",
          "2023-09-30T00:00:00",
          "2023-10-01T00:00:00",
          "2023-10-02T00:00:00",
          "2023-10-03T00:00:00",
          "2023-10-04T00:00:00",
          "2023-10-05T00:00:00",
          "2023-10-06T00:00:00",
          "2023-10-07T00:00:00",
          "2023-10-08T00:00:00",
          "2023-10-09T00:00:00",
          "2023-10-10T00:00:00",
          "2023-10-11T00:00:00",
          "2023-10-12T00:00:00",
          "2023-10-13T00:00:00",
          "2023-10-14T00:00:00",
          "2023-10-15T00:00:00",
          "2023-10-16T00:00:00",
          "2023-10-17T00:00:00",
          "2023-10-18T00:00:00",
          "2023-10-19T00:00:00",
          "2023-10-20T00:00:00",
          "2023-10-21T00:00:00",
          "2023-10-22T00:00:00",
          "2023-10-23T00:00:00",
          "2023-10-24T00:00:00",
          "2023-10-25T00:00:00",
          "2023-10-26T00:00:00",
          "2023-10-27T00:00:00",
          "2023-10-28T00:00:00",
          "2023-10-29T00:00:00",
          "2023-10-30T00:00:00",
          "2023-10-31T00:00:00",
          "2023-11-01T00:00:00",
          "2023-11-02T00:00:00",
          "2023-11-03T00:00:00",
          "2023-11-04T00:00:00",
          "2023-11-05T00:00:00",
          "2023-11-06T00:00:00",
          "2023-11-07T00:00:00",
          "2023-11-08T00:00:00",
          "2023-11-09T00:00:00",
          "2023-11-10T00:00:00",
          "2023-11-11T00:00:00",
          "2023-11-12T00:00:00",
          "2023-11-13T00:00:00",
          "2023-11-14T00:00:00",
          "2023-11-15T00:00:00",
          "2023-11-16T00:00:00",
          "2023-11-17T00:00:00",
          "2023-11-18T00:00:00",
          "2023-11-19T00:00:00",
          "2023-11-20T00:00:00",
          "2023-11-21T00:00:00",
          "2023-11-22T00:00:00",
          "2023-11-23T00:00:00",
          "2023-11-24T00:00:00",
          "2023-11-25T00:00:00",
          "2023-11-26T00:00:00",
          "2023-11-27T00:00:00",
          "2023-11-28T00:00:00",
          "2023-11-29T00:00:00",
          "2023-11-30T00:00:00",
          "2023-12-01T00:00:00",
          "2023-12-02T00:00:00",
          "2023-12-03T00:00:00",
          "2023-12-04T00:00:00",
          "2023-12-05T00:00:00",
          "2023-12-06T00:00:00",
          "2023-12-07T00:00:00",
          "2023-12-08T00:00:00",
          "2023-12-09T00:00:00",
          "2023-12-10T00:00:00",
          "2023-12-11T00:00:00",
          "2023-12-12T00:00:00",
          "2023-12-13T00:00:00",
          "2023-12-14T00:00:00",
          "2023-12-15T00:00:00",
          "2023-12-16T00:00:00",
          "2023-12-17T00:00:00",
          "2023-12-18T00:00:00",
          "2023-12-19T00:00:00",
          "2023-12-20T00:00:00",
          "2023-12-21T00:00:00",
          "2023-12-22T00:00:00",
          "2023-12-23T00:00:00",
          "2023-12-24T00:00:00",
          "2023-12-25T00:00:00",
          "2023-12-26T00:00:00",
          "2023-12-27T00:00:00",
          "2023-12-28T00:00:00",
          "2023-12-29T00:00:00",
          "2023-12-30T00:00:00",
          "2023-12-31T00:00:00",
          "2024-01-01T00:00:00",
          "2024-01-02T00:00:00",
          "2024-01-03T00:00:00",
          "2024-01-04T00:00:00",
          "2024-01-05T00:00:00",
          "2024-01-06T00:00:00",
          "2024-01-07T00:00:00",
          "2024-01-08T00:00:00",
          "2024-01-09T00:00:00",
          "2024-01-10T00:00:00",
          "2024-01-11T00:00:00",
          "2024-01-12T00:00:00",
          "2024-01-13T00:00:00",
          "2024-01-14T00:00:00",
          "2024-01-15T00:00:00",
          "2024-01-16T00:00:00",
          "2024-01-17T00:00:00",
          "2024-01-18T00:00:00",
          "2024-01-19T00:00:00",
          "2024-01-20T00:00:00",
          "2024-01-21T00:00:00",
          "2024-01-22T00:00:00",
          "2024-01-23T00:00:00",
          "2024-01-24T00:00:00",
          "2024-01-25T00:00:00",
          "2024-01-26T00:00:00",
          "2024-01-27T00:00:00",
          "2024-01-28T00:00:00",
          "2024-01-29T00:00:00",
          "2024-01-30T00:00:00",
          "2024-01-31T00:00:00",
          "2024-02-01T00:00:00",
          "2024-02-02T00:00:00",
          "2024-02-03T00:00:00",
          "2024-02-04T00:00:00",
          "2024-02-05T00:00:00",
          "2024-02-06T00:00:00",
          "2024-02-07T00:00:00",
          "2024-02-08T00:00:00",
          "2024-02-09T00:00:00",
          "2024-02-10T00:00:00",
          "2024-02-11T00:00:00",
          "2024-02-12T00:00:00",
          "2024-02-13T00:00:00",
          "2024-02-14T00:00:00",
          "2024-02-15T00:00:00",
          "2024-02-16T00:00:00",
          "2024-02-17T00:00:00"
         ],
         "xaxis": "x2",
         "y": [
          4285.08,
          4108.37,
          4139.98,
          4086.29,
          4016,
          4040,
          4114.01,
          4316.01,
          4280.68,
          4337.44,
          4310.01,
          4386.69,
          4587.48,
          4555.14,
          4724.89,
          4834.91,
          4472.14,
          4509.08,
          4100.11,
          4366.47,
          4619.77,
          4691.61,
          4282.8,
          4258.81,
          4130.37,
          4208.47,
          4163.72,
          3944.69,
          3189.02,
          3700,
          3714.95,
          3699.99,
          4035.01,
          3910.04,
          3900,
          3609.99,
          3595.87,
          3780,
          3660.02,
          3920.75,
          3882.35,
          4193,
          4174.5,
          4174.69,
          4378.51,
          4378.48,
          4380,
          4310,
          4208.59,
          4292.43,
          4369,
          4423,
          4640,
          4786.95,
          4783.06,
          4821.43,
          5430,
          5649.98,
          5869.99,
          5709.99,
          5760.02,
          5595,
          5512.06,
          5683.9,
          6010.01,
          6024.97,
          5950.02,
          5915.93,
          5477.03,
          5689.99,
          5861.77,
          5768.83,
          5719.64,
          6169.98,
          6120.5,
          6463,
          6753.98,
          7019.98,
          7115.04,
          7357.09,
          7345.01,
          6960.12,
          7064.04,
          7303,
          7079.99,
          6506.98,
          6245.05,
          5811.03,
          6465.99,
          6574.99,
          7240.06,
          7864.5,
          7699.19,
          7761.94,
          8038,
          8212,
          8119.51,
          8205.92,
          8019.99,
          8138,
          8700.01,
          9128.02,
          9650,
          9896.8,
          9687.88,
          9838.96,
          10783,
          10890,
          11165.4,
          11579,
          11700,
          13550,
          16599,
          15880,
          14656.1,
          14900,
          16588,
          16350,
          16033.3,
          16335,
          17539.8,
          19102.7,
          18860,
          18856.2,
          17295.2,
          16489,
          15492.6,
          13326.6,
          13300,
          13500,
          13699.3,
          15689,
          15460,
          14182.1,
          14378.9,
          12440,
          13716.4,
          13380,
          14675.1,
          14919.5,
          15059.5,
          16960.4,
          17069.8,
          16150,
          14902.5,
          14400,
          14907.1,
          13238.8,
          13740,
          14210,
          13475,
          13539.9,
          10900,
          10988.8,
          10962,
          11475,
          12799.9,
          11530,
          10760,
          10799.2,
          11350,
          11175.3,
          11089,
          11491,
          11880,
          11251,
          10237.5,
          10285.1,
          9224.52,
          8873.03,
          9199.96,
          8184.81,
          6939.99,
          7652.14,
          7599,
          7784.02,
          8683.92,
          8533.98,
          8063.88,
          8903,
          8539.9,
          9449.99,
          10000.1,
          10160,
          11039.5,
          10383.4,
          11153,
          11201,
          10437.6,
          9811.04,
          10131,
          9694.51,
          9590,
          10324,
          10569,
          10326.8,
          10920,
          11039,
          11464.5,
          11515,
          11454,
          10716.5,
          9910,
          9271.64,
          9227,
          8770.22,
          9533.57,
          9131.34,
          9150,
          8170,
          8240.98,
          8260,
          7824.8,
          8189.99,
          8600,
          8909.98,
          8885,
          8722.9,
          8898.03,
          8546.86,
          8470.15,
          8134.23,
          7795.51,
          7949.3,
          7090.14,
          6840.23,
          6923.91,
          6813.01,
          7056,
          7405.21,
          6796.1,
          6770.76,
          6601.39,
          6895.8,
          7018,
          6782.72,
          6843.9,
          6953.79,
          7923,
          7877.41,
          7999.01,
          8355,
          8064.92,
          7885.02,
          8173,
          8278,
          8856.98,
          8915.31,
          8787.02,
          8934.01,
          9619.99,
          8869.99,
          9266,
          8915.35,
          9348,
          9419,
          9246.01,
          9071.48,
          9247.84,
          9750,
          9713.99,
          9864,
          9659.01,
          9365,
          9187.56,
          9310,
          9002.2,
          8400,
          8465.94,
          8679.71,
          8663.34,
          8462,
          8330,
          8041.46,
          8239.81,
          8233.49,
          8526.98,
          8381.24,
          7977.11,
          7501.95,
          7575.01,
          7457,
          7333.96,
          7338.99,
          7099,
          7461.29,
          7375.96,
          7485.01,
          7521.01,
          7640.03,
          7714.26,
          7487,
          7625,
          7658.84,
          7691.08,
          7603.44,
          7491.73,
          6764.99,
          6872,
          6530,
          6292.78,
          6635.98,
          6388.9,
          6483.98,
          6449.61,
          6712.46,
          6741.21,
          6761.51,
          6718.84,
          6045,
          6149.98,
          6136.97,
          6252,
          6070.78,
          6133.73,
          5853.98,
          6197.92,
          6390.07,
          6356.81,
          6615.29,
          6513.86,
          6586.98,
          6529.2,
          6609.78,
          6756.98,
          6712.1,
          6662.12,
          6296.91,
          6378.07,
          6250.57,
          6214.57,
          6251.99,
          6353.01,
          6723.35,
          7317.44,
          7381.9,
          7466.21,
          7337.53,
          7398.78,
          7394.79,
          7721.01,
          8397.24,
          8175.64,
          7920,
          8188.57,
          8225.04,
          8211,
          8173.92,
          7730.93,
          7604.58,
          7525.71,
          7418.78,
          7009.84,
          7024.19,
          6934.82,
          6720.06,
          6285,
          6529.79,
          6144.01,
          6232.35,
          6308.33,
          6246.35,
          6188.08,
          6267.16,
          6311.75,
          6584.49,
          6387.96,
          6477.53,
          6254.84,
          6480,
          6360.89,
          6525.01,
          6681.64,
          6733.64,
          6700,
          6908.64,
          7076.11,
          7031.22,
          6984.84,
          7011.21,
          7200.01,
          7302.01,
          7263.02,
          7359.06,
          6700,
          6516.01,
          6395.54,
          6185.05,
          6250.81,
          6312,
          6294.91,
          6338.62,
          6487.38,
          6476.63,
          6514.96,
          6505,
          6248.69,
          6336.45,
          6391.89,
          6492,
          6759.02,
          6723.05,
          6708,
          6581.39,
          6447.54,
          6465.12,
          6689.13,
          6634.58,
          6596.38,
          6626.57,
          6611.61,
          6525.79,
          6510,
          6593.79,
          6635.65,
          6594.27,
          6615.26,
          6673.01,
          6656.61,
          6631,
          6252.68,
          6298.01,
          6332.93,
          6339.34,
          6752.5,
          6759.27,
          6740.89,
          6618.96,
          6528.88,
          6588.4,
          6590.11,
          6581.2,
          6553.51,
          6565.5,
          6528.09,
          6538.63,
          6505.6,
          6489.93,
          6344.5,
          6330.87,
          6371.93,
          6410,
          6433.98,
          6387.09,
          6485.85,
          6468.99,
          6519.11,
          6578.46,
          6479.84,
          6419.99,
          6433.05,
          6449.81,
          6453.07,
          6457.66,
          5922.41,
          5753.4,
          5655.94,
          5628.29,
          5662,
          4910.03,
          4558.86,
          4661.07,
          4370,
          4420.61,
          3932.44,
          4085.78,
          3862.2,
          3875.21,
          4264.85,
          4295.84,
          4041.32,
          4190.02,
          4161.01,
          3884.01,
          3951.64,
          3769.84,
          3508.75,
          3403.55,
          3410.93,
          3545.37,
          3432.88,
          3380.39,
          3445,
          3302.06,
          3224.17,
          3211.72,
          3228.67,
          3509.08,
          3652.98,
          3662.22,
          4049.62,
          3838.66,
          3948.91,
          3929.71,
          4008.01,
          3745.79,
          3777.74,
          3567.91,
          3839.26,
          3695.32,
          3801.91,
          3702.9,
          3797.14,
          3858.56,
          3766.78,
          3792.01,
          3770.96,
          3987.6,
          3975.45,
          3955.13,
          3966.65,
          3585.88,
          3601.31,
          3583.13,
          3476.81,
          3626.09,
          3553.06,
          3591.84,
          3616.21,
          3594.87,
          3665.3,
          3539.28,
          3526.9,
          3570.93,
          3552.82,
          3569.62,
          3565.29,
          3565.25,
          3550.84,
          3434.15,
          3411.04,
          3458.18,
          3434.1,
          3462.07,
          3504.77,
          3458.11,
          3463.22,
          3471.59,
          3405.37,
          3398.4,
          3659.04,
          3665.18,
          3680.06,
          3631.05,
          3631.46,
          3609.4,
          3590.56,
          3602.47,
          3618.41,
          3667.58,
          3898.6,
          3907.79,
          3969.74,
          3937.31,
          3962,
          4117.76,
          3743.56,
          3827.92,
          3809.23,
          3818.07,
          3813.69,
          3823,
          3819.93,
          3807.75,
          3715.3,
          3857.73,
          3861.84,
          3873.64,
          3864.89,
          3943.04,
          3916.82,
          3871.61,
          3882.73,
          3866,
          3877.12,
          3923.76,
          4005.98,
          3981.14,
          3987.81,
          4015.53,
          4043.04,
          3980.64,
          3986.93,
          4006.01,
          3992.18,
          3936.12,
          3948.55,
          4038.05,
          4027.81,
          4103.25,
          4106.97,
          4103.95,
          4144.56,
          4857.29,
          4932.6,
          4898.66,
          5004.95,
          5043.89,
          5170.27,
          5236.9,
          5150,
          5308.25,
          5017.37,
          5048.01,
          5045.22,
          5131.3,
          5024.95,
          5173.72,
          5202.82,
          5258.44,
          5258.68,
          5291.73,
          5256.14,
          5357.14,
          5493.31,
          5415,
          5219.9,
          5314.1,
          5295.69,
          5307.52,
          5238.14,
          5320.81,
          5383.2,
          5492.87,
          5772.69,
          5829.45,
          5775.62,
          5747.79,
          5846.34,
          5987.29,
          6209.18,
          6373.33,
          7076.22,
          6967.31,
          7790.71,
          7947.56,
          8169.87,
          7866.59,
          7355.26,
          7257.45,
          8148.48,
          7938.15,
          7904.87,
          7628.43,
          7851.51,
          7964.87,
          8025.41,
          8614.43,
          8756.32,
          8715.64,
          8645.68,
          8269.54,
          8555,
          8544.07,
          8725.98,
          8115.82,
          7687.03,
          7776.5,
          7786.7,
          7980.53,
          7893.62,
          7628.13,
          7982.75,
          7884.9,
          8127.64,
          8218.54,
          8650,
          8808.7,
          8953.33,
          9313.96,
          9081.55,
          9255.49,
          9517.12,
          10159.9,
          10729.5,
          10906.1,
          11056.6,
          11820.9,
          13093.8,
          11330,
          12400.6,
          11903.1,
          10854.1,
          10624.9,
          10842.8,
          11940,
          11145.7,
          10970.7,
          11256.5,
          11406.2,
          12238.6,
          12543.4,
          12108.4,
          11342.9,
          11757.2,
          11355.8,
          10174.2,
          10838.7,
          9439.59,
          9667.92,
          10627.2,
          10504.3,
          10740.2,
          10589.5,
          10340.3,
          9864.91,
          9763.28,
          9879.87,
          9824,
          9476.52,
          9541.54,
          9507.64,
          9574.21,
          10080.5,
          10375,
          10523.8,
          10816.9,
          10929.2,
          11828.8,
          11481.7,
          11975,
          11999.8,
          11880,
          11309.3,
          11550,
          11396.1,
          10892.7,
          10050.4,
          10293.9,
          10331.5,
          10216,
          10306.8,
          10915.5,
          10760.5,
          10142.6,
          10099.9,
          10389.5,
          10134.3,
          10142.7,
          10372.2,
          10185,
          9721,
          9498.44,
          9584.54,
          9587.47,
          9724.98,
          10340,
          10615.3,
          10567,
          10564.5,
          10298.7,
          10455.9,
          10381.2,
          10303.1,
          10098.2,
          10158.3,
          10415,
          10342.1,
          10335,
          10302,
          10251.3,
          10187.8,
          10157,
          10244.3,
          10168.6,
          9986.39,
          10028.9,
          9702.25,
          8493.14,
          8430.05,
          8063.73,
          8177.91,
          8198.81,
          8043.82,
          8289.34,
          8292.44,
          8359.94,
          8223.96,
          8137.13,
          8126.19,
          7854.25,
          8190.09,
          8168.39,
          8560.74,
          8558.03,
          8258.5,
          8300.09,
          8275.01,
          8348.2,
          8159.29,
          7991.74,
          8070.58,
          7947.01,
          7948.01,
          8223.35,
          8197.27,
          8020,
          7466.62,
          7412.41,
          8655.02,
          9230,
          9529.93,
          9205.14,
          9407.62,
          9154.72,
          9140.85,
          9231.61,
          9289.52,
          9194.71,
          9393.35,
          9308.66,
          9339.05,
          9216.2,
          8773.73,
          8809.41,
          9039.47,
          8733.27,
          8821.94,
          8777.12,
          8646.68,
          8471.73,
          8491.02,
          8502.4,
          8187.17,
          8133.64,
          8098.01,
          7627.74,
          7268.23,
          7311.57,
          6903.28,
          7109.57,
          7156.14,
          7508.52,
          7419.49,
          7739.68,
          7541.89,
          7390.89,
          7294.28,
          7292.71,
          7194.32,
          7389,
          7527.47,
          7488.21,
          7510.11,
          7338.64,
          7224.13,
          7210,
          7198.08,
          7258.48,
          7064.05,
          7118.59,
          6891.72,
          6623.82,
          7277.83,
          7150.3,
          7187.83,
          7132.75,
          7501.44,
          7317.09,
          7255.77,
          7204.63,
          7202,
          7254.74,
          7316.14,
          7388.24,
          7246,
          7195.23,
          7200.85,
          6965.71,
          7344.96,
          7354.11,
          7358.75,
          7758,
          8145.28,
          8055.98,
          7817.76,
          8197.02,
          8020.01,
          8184.98,
          8110.34,
          8810.01,
          8821.41,
          8720.01,
          8913.28,
          8915.96,
          8701.7,
          8642.35,
          8736.03,
          8682.36,
          8404.52,
          8439,
          8340.58,
          8615,
          8907.57,
          9374.21,
          9301.53,
          9513.21,
          9352.89,
          9384.61,
          9331.51,
          9292.24,
          9197.02,
          9612.04,
          9772,
          9813.73,
          9895.05,
          10151.8,
          9851.83,
          10223.1,
          10326.5,
          10229.6,
          10344.4,
          9904.72,
          9917.27,
          9706,
          10164.7,
          9593.79,
          9596.42,
          9677.05,
          9650.86,
          9936.4,
          9656.13,
          9315.84,
          8785.25,
          8823.21,
          8692.91,
          8523.61,
          8531.88,
          8915.24,
          8760.07,
          8750.87,
          9054.68,
          9131.88,
          8886.66,
          8033.31,
          7929.87,
          7894.56,
          7934.52,
          4800,
          5578.6,
          5172.06,
          5361.3,
          5028.97,
          5312.64,
          5393.04,
          6162.37,
          6208.36,
          6186.98,
          5816.19,
          6467.31,
          6744.72,
          6677.43,
          6737.36,
          6359.11,
          6236.65,
          5881.42,
          6394.38,
          6410.44,
          6642.92,
          6794.09,
          6734.1,
          6856.99,
          6772.78,
          7329.9,
          7197.32,
          7361.28,
          7283.54,
          6858.92,
          6876.83,
          6903.79,
          6837.91,
          6868.7,
          6621.24,
          7101.94,
          7027.55,
          7248.6,
          7120.74,
          6826.83,
          6841.37,
          7125.14,
          7482.39,
          7505,
          7538.67,
          7693.1,
          7774.62,
          7738.98,
          8778.57,
          8620,
          8826.96,
          8972.05,
          8894.16,
          8871.96,
          9021.83,
          9142.92,
          9986.4,
          9800.01,
          9539.4,
          8722.77,
          8561.52,
          8810.79,
          9309.37,
          9791.98,
          9316.42,
          9381.27,
          9680.04,
          9733.93,
          9775.53,
          9511.43,
          9068.65,
          9170,
          9179.15,
          8720.34,
          8900.35,
          8841.18,
          9204.07,
          9575.89,
          9427.07,
          9697.72,
          9448.27,
          10200.8,
          9518.04,
          9666.24,
          9789.06,
          9621.16,
          9666.3,
          9746.99,
          9782.01,
          9772.43,
          9885,
          9280.4,
          9465.13,
          9473.34,
          9342.1,
          9426.02,
          9525.59,
          9465.14,
          9386.32,
          9310.23,
          9358.95,
          9294.69,
          9685.69,
          9624.89,
          9296.49,
          9249.49,
          9162.21,
          9012,
          9116.35,
          9192.56,
          9138.55,
          9232,
          9086.54,
          9058.26,
          9135.46,
          9069.41,
          9344.2,
          9257.39,
          9436.06,
          9232.43,
          9288.34,
          9234.03,
          9302.75,
          9242.62,
          9255.85,
          9197.6,
          9133.72,
          9154.32,
          9170.28,
          9208.99,
          9160.78,
          9390,
          9518.16,
          9603.27,
          9537.8,
          9700.42,
          9931.54,
          11030,
          10906.3,
          11100.5,
          11099.6,
          11335.5,
          11801.2,
          11071.3,
          11219.8,
          11192,
          11744.9,
          11762.5,
          11594.2,
          11761.4,
          11681.7,
          11892.9,
          11392.1,
          11564.3,
          11780,
          11760.5,
          11852.4,
          11911,
          12281.1,
          11945,
          11754.6,
          11853.5,
          11531.3,
          11663,
          11648.1,
          11748.2,
          11318.4,
          11461.4,
          11330.4,
          11526.9,
          11465.8,
          11711.2,
          11649.5,
          11922,
          11388.5,
          10140.8,
          10446.2,
          10166.7,
          10256.2,
          10373.4,
          10126.7,
          10219.2,
          10336.9,
          10387.9,
          10440.9,
          10332.8,
          10671.8,
          10785.3,
          10954,
          10940,
          10933.4,
          11080.7,
          10920.3,
          10417.2,
          10529.6,
          10241.5,
          10736.3,
          10686.7,
          10728.6,
          10774.2,
          10696.1,
          10840.5,
          10776.6,
          10619.1,
          10570.4,
          10542.1,
          10666.6,
          10792.2,
          10599.7,
          10666.4,
          10925.6,
          11050.6,
          11293.2,
          11369,
          11528.2,
          11420.6,
          11417.9,
          11505.1,
          11319.3,
          11360.2,
          11503.1,
          11751.5,
          11910,
          12781,
          12968.5,
          12923.1,
          13111.7,
          13028.8,
          13052.2,
          13636.2,
          13266.4,
          13455.7,
          13560.1,
          13791,
          13761.5,
          13549.4,
          14023.5,
          14144,
          15590,
          15579.9,
          14818.3,
          15475.1,
          15328.4,
          15297.2,
          15684.2,
          16291.9,
          16320.7,
          16070.5,
          15957,
          16713.6,
          17659.4,
          17776.1,
          17802.8,
          18655.7,
          18703.8,
          18414.4,
          18368,
          19160,
          18719.1,
          17149.5,
          17139.5,
          17719.8,
          18185,
          19695.9,
          18765,
          19204.1,
          19421.9,
          18650.5,
          19147.7,
          19359.4,
          19166.9,
          18324.1,
          18541.3,
          18254.6,
          18036.5,
          18808.7,
          19175,
          19273.1,
          19426.4,
          21335.5,
          22797.2,
          23107.4,
          23821.6,
          23455.5,
          22719.7,
          23810.8,
          23232.8,
          23729.2,
          24712.5,
          26493.4,
          26281.7,
          27079.4,
          27385,
          28875.5,
          28923.6,
          29331.7,
          32178.3,
          33000.1,
          31988.7,
          33949.5,
          36769.4,
          39432.3,
          40582.8,
          40088.2,
          38150,
          35404.5,
          34051.2,
          37371.4,
          39144.5,
          36742.2,
          35995,
          35828.6,
          36631.3,
          35891.5,
          35468.2,
          30850.1,
          32945.2,
          32078,
          32259.9,
          32254.2,
          32467.8,
          30366.2,
          33364.9,
          34252.2,
          34262.9,
          33093,
          33526.4,
          35466.2,
          37618.9,
          36936.7,
          38290.2,
          39186.9,
          38795.7,
          46374.9,
          46420.4,
          44807.6,
          47969.5,
          47287.6,
          47153.7,
          48577.8,
          47911.1,
          49133.4,
          52119.7,
          51552.6,
          55906,
          55841.2,
          57408.6,
          54087.7,
          48891,
          49676.2,
          47073.7,
          46276.9,
          46106.4,
          45135.7,
          49587,
          48440.6,
          50349.4,
          48374.1,
          48751.7,
          48882.2,
          50971.8,
          52375.2,
          54884.5,
          55851.6,
          57773.2,
          57221.7,
          61188.4,
          58968.3,
          55605.2,
          56900.8,
          58913,
          57648.2,
          58030,
          58102.3,
          57351.6,
          54083.2,
          54340.9,
          52303.6,
          51293.8,
          55025.6,
          55817.1,
          55777.6,
          57635.5,
          58746.6,
          58740.6,
          58720.4,
          58950,
          57051.9,
          58202,
          59130,
          57991.1,
          55953.4,
          58077.5,
          58142.5,
          59769.1,
          60002.4,
          59860,
          63575,
          62959.5,
          63160,
          61334.8,
          60006.7,
          56150,
          55633.1,
          56425,
          53787.6,
          51691,
          51125.1,
          50047.8,
          49066.8,
          54001.4,
          55012,
          54846.2,
          53555,
          57694.3,
          57800.4,
          56578.2,
          57169.4,
          53200,
          57436.1,
          56393.7,
          57314.8,
          58862.1,
          58240.8,
          55816.1,
          56670,
          49631.3,
          49671,
          49841.4,
          46763,
          46431.5,
          43538,
          42849.8,
          36690.1,
          40526.6,
          37252,
          37449.7,
          34655.2,
          38796.3,
          38324.7,
          39241.9,
          38530,
          35663.5,
          34605.1,
          35641.3,
          37253.8,
          36693.1,
          37568.7,
          39246.8,
          36829,
          35513.2,
          35796.3,
          33552.8,
          33380.8,
          37388.1,
          36675.7,
          37332,
          35546.1,
          39020.6,
          40516.3,
          40144,
          38349,
          38093,
          35819.8,
          35483.7,
          35600.2,
          31608.9,
          32509.6,
          33678.1,
          34663.1,
          31584.4,
          32283.7,
          34700.3,
          34494.9,
          35911.7,
          35045,
          33504.7,
          33786.6,
          34669.1,
          35286.5,
          33690.1,
          34220,
          33862.1,
          32875.7,
          33815.8,
          33502.9,
          34259,
          33086.6,
          32729.8,
          32820,
          31880,
          31383.9,
          31520.1,
          31778.6,
          30839.7,
          29790.3,
          32144.5,
          32287.8,
          33634.1,
          34258.1,
          35381,
          37237.6,
          39457.9,
          40019.6,
          40016.5,
          42206.4,
          41461.8,
          39845.4,
          39147.8,
          38207.1,
          39723.2,
          40862.5,
          42836.9,
          44572.5,
          43794.4,
          46253.4,
          45585,
          45511,
          44399,
          47800,
          47068.5,
          46973.8,
          45901.3,
          44695.9,
          44705.3,
          46760.6,
          49322.5,
          48821.9,
          49239.2,
          49488.9,
          47674,
          48973.3,
          46843.9,
          49069.9,
          48895.4,
          48767.8,
          46982.9,
          47100.9,
          48810.5,
          49246.6,
          49999.1,
          49915.6,
          51756.9,
          52663.9,
          46863.7,
          46048.3,
          46395.1,
          44850.9,
          45173.7,
          46025.2,
          44940.7,
          47111.5,
          48121.4,
          47737.8,
          47300,
          48292.7,
          47241.8,
          43015.6,
          40734.4,
          43543.6,
          44865.3,
          42810.6,
          42670.6,
          43160.9,
          42147.4,
          41026.5,
          41524.3,
          43824.1,
          48141.6,
          47634.9,
          48200,
          49224.9,
          51472,
          55315,
          53785.2,
          53951.4,
          54949.7,
          54659,
          57471.4,
          55996.9,
          57367,
          57347.9,
          61672.4,
          60875.6,
          61528.3,
          62009.8,
          64280.6,
          66001.4,
          62193.1,
          60688.2,
          61286.8,
          60852.2,
          63078.8,
          60328.8,
          58413.4,
          60575.9,
          62253.7,
          61859.2,
          61299.8,
          60911.1,
          63220,
          62896.5,
          61395,
          60937.1,
          61470.6,
          63273.6,
          67525.8,
          66947.7,
          64882.4,
          64774.3,
          64122.2,
          64380,
          65519.1,
          63606.7,
          60058.9,
          60344.9,
          56891.6,
          58052.2,
          59707.5,
          58622,
          56247.2,
          57541.3,
          57138.3,
          58960.4,
          53726.5,
          54721,
          57274.9,
          57776.2,
          56950.6,
          57184.1,
          56480.3,
          53601.1,
          49152.5,
          49396.3,
          50441.9,
          50588.9,
          50471.2,
          47545.6,
          47140.5,
          49390,
          50053.9,
          46702.8,
          48343.3,
          48865,
          47632.4,
          46131.2,
          46834.5,
          46681.2,
          46914.2,
          48889.9,
          48588.2,
          50838.8,
          50820,
          50399.7,
          50775.5,
          50701.4,
          47543.7,
          46464.7,
          47120.9,
          46216.9,
          47722.6,
          47286.2,
          46446.1,
          45832,
          43451.1,
          43082.3,
          41566.5,
          41679.7,
          41864.6,
          41822.5,
          42729.3,
          43902.7,
          42560.1,
          43060,
          43084.3,
          43071.7,
          42201.6,
          42352.1,
          41660,
          40680.9,
          36445.3,
          35071.4,
          36244.6,
          36660.4,
          36958.3,
          36809.3,
          37160.1,
          37716.6,
          38166.8,
          37881.8,
          38466.9,
          38694.6,
          36896.4,
          37311.6,
          41574.2,
          41382.6,
          42380.9,
          43840,
          44043,
          44372.7,
          43495.4,
          42373.7,
          42217.9,
          42053.7,
          42535.9,
          44544.9,
          43873.6,
          40515.7,
          39974.4,
          40079.2,
          38386.9,
          37008.2,
          38230.3,
          37250,
          38327.2,
          39219.2,
          39116.7,
          37699.1,
          43160,
          44421.2,
          43893,
          42454,
          39148.7,
          39398,
          38420.8,
          37988,
          38730.6,
          41941.7,
          39422,
          38729.6,
          38807.4,
          37777.3,
          39671.4,
          39280.3,
          41114,
          40917.9,
          41757.5,
          42201.1,
          41262.1,
          41002.2,
          42364.1,
          42882.8,
          43991.5,
          44313.2,
          44511.3,
          46827.8,
          47122.2,
          47434.8,
          47068,
          45510.3,
          46283.5,
          45811,
          46407.4,
          46580.5,
          45497.6,
          43170.5,
          43444.2,
          42252,
          42754,
          42158.9,
          39530.4,
          40074.9,
          41147.8,
          39942.4,
          40551.9,
          40378.7,
          39678.1,
          40801.1,
          41493.2,
          41358.2,
          40480,
          39709.2,
          39441.6,
          39450.1,
          40426.1,
          38112.6,
          39235.7,
          39742.1,
          38596.1,
          37630.8,
          38468.4,
          38525.2,
          37728.9,
          39690,
          36553,
          36013.8,
          35472.4,
          34038.4,
          30076.3,
          31017.1,
          29103.9,
          29029.8,
          29287.1,
          30086.7,
          31328.9,
          29874,
          30444.9,
          28715.3,
          30319.2,
          29201,
          29445.1,
          30293.9,
          29109.2,
          29654.6,
          29542.2,
          29201.3,
          28629.8,
          29031.3,
          29468.1,
          31734.2,
          31801,
          29805.8,
          30452.6,
          29700.2,
          29864,
          29919.2,
          31373.1,
          31125.3,
          30204.8,
          30109.9,
          29091.9,
          28424.7,
          26574.5,
          22487.4,
          22136.4,
          22583.7,
          20401.3,
          20468.8,
          18970.8,
          20574,
          20573.9,
          20723.5,
          19988,
          21110.1,
          21237.7,
          21491.2,
          21038.1,
          20742.6,
          20281.3,
          20123,
          19942.2,
          19279.8,
          19252.8,
          19315.8,
          20236.7,
          20175.8,
          20564.5,
          21625,
          21594.8,
          21591.8,
          20862.5,
          19963.6,
          19328.8,
          20234.9,
          20588.8,
          20830,
          21195.6,
          20798.2,
          22432.6,
          23396.6,
          23223.3,
          23152.2,
          22684.8,
          22451.1,
          22579.7,
          21310.9,
          21254.7,
          22952.4,
          23842.9,
          23773.8,
          23643.5,
          23293.3,
          23268,
          22987.8,
          22818.4,
          22623,
          23312.4,
          22954.2,
          23174.4,
          23810,
          23149.9,
          23954.1,
          23934.4,
          24403.7,
          24441.4,
          24305.2,
          24094.8,
          23854.7,
          23342.7,
          23191.2,
          20834.4,
          21140.1,
          21515.6,
          21399.8,
          21529.1,
          21368.1,
          21559,
          20241.1,
          20037.6,
          19555.6,
          20285.7,
          19811.7,
          20050,
          20131.5,
          19951.9,
          19831.9,
          20000.3,
          19796.8,
          18790.6,
          19292.8,
          19319.8,
          21360.1,
          21648.3,
          21826.9,
          22395.7,
          20173.6,
          20226.7,
          19701.9,
          19803.3,
          20113.6,
          19416.2,
          19537,
          18875,
          18461.4,
          19401.6,
          19289.9,
          18920.5,
          18807.4,
          19227.8,
          19079.1,
          19412.8,
          19591.5,
          19422.6,
          19310.9,
          19056.8,
          19629.1,
          20337.8,
          20158.3,
          19960.7,
          19530.1,
          19418,
          19439,
          19131.9,
          19060,
          19155.5,
          19375.1,
          19176.9,
          19069.4,
          19263,
          19549.9,
          19327.4,
          19124,
          19041.9,
          19164.4,
          19204.3,
          19570.4,
          19329.7,
          20080.1,
          20771.6,
          20295.1,
          20591.8,
          20809.7,
          20627.5,
          20490.7,
          20483.6,
          20151.8,
          20207.8,
          21148.5,
          21299.4,
          20905.6,
          20591.1,
          18547.2,
          15922.8,
          17601.2,
          17070.3,
          16812.1,
          16329.8,
          16619.5,
          16900.6,
          16662.8,
          16692.6,
          16700.4,
          16700.7,
          16280.2,
          15781.3,
          16226.9,
          16603.1,
          16598.9,
          16522.1,
          16458.6,
          16428.8,
          16212.9,
          16442.5,
          17163.6,
          16977.4,
          17092.7,
          16885.2,
          17105.7,
          16966.3,
          17089,
          16836.6,
          17224.1,
          17128.6,
          17127.5,
          17085.1,
          17209.8,
          17774.7,
          17803.2,
          17356.3,
          16632.1,
          16776.5,
          16738.2,
          16438.9,
          16895.6,
          16824.7,
          16821.4,
          16778.5,
          16836.1,
          16832.1,
          16919.4,
          16706.4,
          16547.3,
          16633.5,
          16607.5,
          16542.4,
          16616.8,
          16672.9,
          16675.2,
          16850.4,
          16831.8,
          16950.7,
          16943.6,
          17127.8,
          17178.3,
          17440.7,
          17943.3,
          18846.6,
          19930,
          20954.9,
          20871.5,
          21185.7,
          21134.8,
          20677.5,
          21071.6,
          22667.2,
          22783.6,
          22707.9,
          22916.4,
          22632.9,
          23060.9,
          23009.7,
          23074.2,
          23022.6,
          23742.3,
          22826.2,
          23125.1,
          23732.7,
          23488.9,
          23431.9,
          23326.8,
          22932.9,
          22762.5,
          23240.5,
          22963,
          21796.3,
          21625.2,
          21862.6,
          21783.5,
          21774,
          22199.8,
          24324.1,
          23517.7,
          24570,
          24631.9,
          24271.8,
          24842.2,
          24452.2,
          24182.2,
          23940.2,
          23185.3,
          23157.1,
          23554.8,
          23492.1,
          23141.6,
          23629,
          23465.3,
          22354.3,
          22346.6,
          22430.2,
          22410,
          22198,
          21705.4,
          20362.2,
          20150.7,
          20455.7,
          21997.1,
          24113.5,
          24670.4,
          24285.7,
          24998.8,
          27395.1,
          26907.5,
          27972.9,
          27717,
          28105.5,
          27251,
          28295.4,
          27454.5,
          27462.9,
          27968.1,
          27124.9,
          27261.1,
          28348.6,
          28028.5,
          28465.4,
          28452.7,
          28171.9,
          27800,
          28165.5,
          28170,
          28033.8,
          27906.3,
          27938.4,
          28323.8,
          29637.3,
          30200.4,
          29888.1,
          30373.8,
          30466.9,
          30295.1,
          30304.7,
          29430.3,
          30380,
          28797.1,
          28243.7,
          27262.8,
          27816.8,
          27590.6,
          27510.9,
          28300.8,
          28415.3,
          29472.8,
          29311.7,
          29230.4,
          29233.2,
          28068.3,
          28669.9,
          29026.2,
          28838.2,
          29505.6,
          28848.2,
          28430.1,
          27668.8,
          27628.3,
          27598.8,
          26968.6,
          26795,
          26775.3,
          26917.6,
          27162.1,
          27033.8,
          27405.6,
          26821.3,
          26880.3,
          27102.4,
          26747.8,
          26849.3,
          27219.6,
          26329,
          26473.8,
          26705.9,
          26854.3,
          28065,
          27736.4,
          27694.4,
          27210.3,
          26817.9,
          27242.6,
          27069.2,
          27115.2,
          25728.2,
          27230.1,
          26339.3,
          26498.6,
          26477.8,
          25841.2,
          25925.6,
          25905.2,
          25934.2,
          25128.6,
          25598.5,
          26345,
          26517,
          26340,
          26844.3,
          28308,
          29993.9,
          29884.9,
          30688.5,
          30527.4,
          30462.7,
          30268,
          30692.4,
          30077.4,
          30447.3,
          30472,
          30585.9,
          30617,
          31156.2,
          30766.5,
          30504.8,
          29895.4,
          30344.7,
          30284.6,
          30160.7,
          30411.6,
          30622.1,
          30380,
          31454.2,
          30312,
          30289.5,
          30232,
          30138,
          29859.1,
          29909.2,
          29800,
          29901.7,
          29794,
          30083.8,
          29176.5,
          29228.9,
          29352,
          29222.8,
          29314.1,
          29352.9,
          29281.1,
          29232.2,
          29706,
          29186,
          29193.6,
          29114,
          29072.1,
          29088.4,
          29211.1,
          29770.4,
          29582,
          29455.8,
          29426,
          29430.2,
          29303.8,
          29430.9,
          29200,
          28730.5,
          26623.4,
          26054,
          26100,
          26190,
          26126.9,
          26056,
          26432.7,
          26180.1,
          26060,
          26017.4,
          26101.8,
          26120,
          27716.3,
          27300,
          25940.8,
          25805.1,
          25869.5,
          25971.2,
          25826,
          25792.1,
          25759.9,
          26255,
          25910.5,
          25901.6,
          25841.6,
          25162.5,
          25840.1,
          26222,
          26522.7,
          26600,
          26559.7,
          26527.5,
          26762.5,
          27210.3,
          27125,
          26568.1,
          26580.1,
          26576,
          26248.4,
          26304.8,
          26221.7,
          26373,
          27021.4,
          26907,
          26962.6,
          27992.6,
          27494.5,
          27426.5,
          27778.6,
          27410.4,
          27931.1,
          27956.7,
          27917.1,
          27590.1,
          27390.1,
          26875.5,
          26759.6,
          26862,
          26852.5,
          27154.2,
          28500.8,
          28395.9,
          28320,
          28713.7,
          29669,
          29909.8,
          29992.5,
          33070,
          33922.7,
          34496.1,
          34151.7,
          33892,
          34081,
          34525.9,
          34474.7,
          34639.8,
          35421.4,
          34941.6,
          34716.8,
          35062.1,
          35011.9,
          35046.1,
          35399.1,
          35624.7,
          36701.1,
          37301.6,
          37130,
          37064.1,
          36462.9,
          35551.2,
          37858.2,
          36163.5,
          36613.9,
          36568.1,
          37359.9,
          37448.8,
          35741.6,
          37408.3,
          37294.3,
          37713.6,
          37780.7,
          37447.4,
          37242.7,
          37818.9,
          37854.6,
          37724,
          38682.5,
          39450.4,
          39972.3,
          41991.1,
          44073.3,
          43762.7,
          43273.1,
          44171,
          43713.6,
          43789.5,
          41253.4,
          41492.4,
          42869,
          43022.3,
          41940.3,
          42278,
          41374.6,
          42657.8,
          42276,
          43668.9,
          43861.8,
          43969,
          43702.2,
          42991.5,
          43576.1,
          42508.9,
          43428.9,
          42563.8,
          42066.9,
          42140.3,
          42283.6,
          44179.6,
          44946.9,
          42845.2,
          44151.1,
          44145.1,
          43968.3,
          43929,
          46951,
          46110,
          46654,
          46339.2,
          42782.7,
          42848,
          41732.4,
          42511.1,
          43137.9,
          42776.1,
          41327.5,
          41659,
          41696,
          41580.3,
          39568,
          39897.6,
          40084.9,
          39961.1,
          41823.5,
          42120.6,
          42031.1,
          43302.7,
          42941.1,
          42580,
          43082.9,
          43200,
          43011.1,
          42582.9,
          42708.7,
          43098.9,
          44349.6,
          45288.6,
          47132.8,
          47751.1,
          48300,
          49917.3,
          49699.6,
          51795.2,
          51880,
          52124.1,
          51690.8
         ],
         "yaxis": "y2"
        }
       ],
       "layout": {
        "height": 600,
        "template": {
         "data": {
          "bar": [
           {
            "error_x": {
             "color": "#2a3f5f"
            },
            "error_y": {
             "color": "#2a3f5f"
            },
            "marker": {
             "line": {
              "color": "#E5ECF6",
              "width": 0.5
             },
             "pattern": {
              "fillmode": "overlay",
              "size": 10,
              "solidity": 0.2
             }
            },
            "type": "bar"
           }
          ],
          "barpolar": [
           {
            "marker": {
             "line": {
              "color": "#E5ECF6",
              "width": 0.5
             },
             "pattern": {
              "fillmode": "overlay",
              "size": 10,
              "solidity": 0.2
             }
            },
            "type": "barpolar"
           }
          ],
          "carpet": [
           {
            "aaxis": {
             "endlinecolor": "#2a3f5f",
             "gridcolor": "white",
             "linecolor": "white",
             "minorgridcolor": "white",
             "startlinecolor": "#2a3f5f"
            },
            "baxis": {
             "endlinecolor": "#2a3f5f",
             "gridcolor": "white",
             "linecolor": "white",
             "minorgridcolor": "white",
             "startlinecolor": "#2a3f5f"
            },
            "type": "carpet"
           }
          ],
          "choropleth": [
           {
            "colorbar": {
             "outlinewidth": 0,
             "ticks": ""
            },
            "type": "choropleth"
           }
          ],
          "contour": [
           {
            "colorbar": {
             "outlinewidth": 0,
             "ticks": ""
            },
            "colorscale": [
             [
              0,
              "#0d0887"
             ],
             [
              0.1111111111111111,
              "#46039f"
             ],
             [
              0.2222222222222222,
              "#7201a8"
             ],
             [
              0.3333333333333333,
              "#9c179e"
             ],
             [
              0.4444444444444444,
              "#bd3786"
             ],
             [
              0.5555555555555556,
              "#d8576b"
             ],
             [
              0.6666666666666666,
              "#ed7953"
             ],
             [
              0.7777777777777778,
              "#fb9f3a"
             ],
             [
              0.8888888888888888,
              "#fdca26"
             ],
             [
              1,
              "#f0f921"
             ]
            ],
            "type": "contour"
           }
          ],
          "contourcarpet": [
           {
            "colorbar": {
             "outlinewidth": 0,
             "ticks": ""
            },
            "type": "contourcarpet"
           }
          ],
          "heatmap": [
           {
            "colorbar": {
             "outlinewidth": 0,
             "ticks": ""
            },
            "colorscale": [
             [
              0,
              "#0d0887"
             ],
             [
              0.1111111111111111,
              "#46039f"
             ],
             [
              0.2222222222222222,
              "#7201a8"
             ],
             [
              0.3333333333333333,
              "#9c179e"
             ],
             [
              0.4444444444444444,
              "#bd3786"
             ],
             [
              0.5555555555555556,
              "#d8576b"
             ],
             [
              0.6666666666666666,
              "#ed7953"
             ],
             [
              0.7777777777777778,
              "#fb9f3a"
             ],
             [
              0.8888888888888888,
              "#fdca26"
             ],
             [
              1,
              "#f0f921"
             ]
            ],
            "type": "heatmap"
           }
          ],
          "heatmapgl": [
           {
            "colorbar": {
             "outlinewidth": 0,
             "ticks": ""
            },
            "colorscale": [
             [
              0,
              "#0d0887"
             ],
             [
              0.1111111111111111,
              "#46039f"
             ],
             [
              0.2222222222222222,
              "#7201a8"
             ],
             [
              0.3333333333333333,
              "#9c179e"
             ],
             [
              0.4444444444444444,
              "#bd3786"
             ],
             [
              0.5555555555555556,
              "#d8576b"
             ],
             [
              0.6666666666666666,
              "#ed7953"
             ],
             [
              0.7777777777777778,
              "#fb9f3a"
             ],
             [
              0.8888888888888888,
              "#fdca26"
             ],
             [
              1,
              "#f0f921"
             ]
            ],
            "type": "heatmapgl"
           }
          ],
          "histogram": [
           {
            "marker": {
             "pattern": {
              "fillmode": "overlay",
              "size": 10,
              "solidity": 0.2
             }
            },
            "type": "histogram"
           }
          ],
          "histogram2d": [
           {
            "colorbar": {
             "outlinewidth": 0,
             "ticks": ""
            },
            "colorscale": [
             [
              0,
              "#0d0887"
             ],
             [
              0.1111111111111111,
              "#46039f"
             ],
             [
              0.2222222222222222,
              "#7201a8"
             ],
             [
              0.3333333333333333,
              "#9c179e"
             ],
             [
              0.4444444444444444,
              "#bd3786"
             ],
             [
              0.5555555555555556,
              "#d8576b"
             ],
             [
              0.6666666666666666,
              "#ed7953"
             ],
             [
              0.7777777777777778,
              "#fb9f3a"
             ],
             [
              0.8888888888888888,
              "#fdca26"
             ],
             [
              1,
              "#f0f921"
             ]
            ],
            "type": "histogram2d"
           }
          ],
          "histogram2dcontour": [
           {
            "colorbar": {
             "outlinewidth": 0,
             "ticks": ""
            },
            "colorscale": [
             [
              0,
              "#0d0887"
             ],
             [
              0.1111111111111111,
              "#46039f"
             ],
             [
              0.2222222222222222,
              "#7201a8"
             ],
             [
              0.3333333333333333,
              "#9c179e"
             ],
             [
              0.4444444444444444,
              "#bd3786"
             ],
             [
              0.5555555555555556,
              "#d8576b"
             ],
             [
              0.6666666666666666,
              "#ed7953"
             ],
             [
              0.7777777777777778,
              "#fb9f3a"
             ],
             [
              0.8888888888888888,
              "#fdca26"
             ],
             [
              1,
              "#f0f921"
             ]
            ],
            "type": "histogram2dcontour"
           }
          ],
          "mesh3d": [
           {
            "colorbar": {
             "outlinewidth": 0,
             "ticks": ""
            },
            "type": "mesh3d"
           }
          ],
          "parcoords": [
           {
            "line": {
             "colorbar": {
              "outlinewidth": 0,
              "ticks": ""
             }
            },
            "type": "parcoords"
           }
          ],
          "pie": [
           {
            "automargin": true,
            "type": "pie"
           }
          ],
          "scatter": [
           {
            "fillpattern": {
             "fillmode": "overlay",
             "size": 10,
             "solidity": 0.2
            },
            "type": "scatter"
           }
          ],
          "scatter3d": [
           {
            "line": {
             "colorbar": {
              "outlinewidth": 0,
              "ticks": ""
             }
            },
            "marker": {
             "colorbar": {
              "outlinewidth": 0,
              "ticks": ""
             }
            },
            "type": "scatter3d"
           }
          ],
          "scattercarpet": [
           {
            "marker": {
             "colorbar": {
              "outlinewidth": 0,
              "ticks": ""
             }
            },
            "type": "scattercarpet"
           }
          ],
          "scattergeo": [
           {
            "marker": {
             "colorbar": {
              "outlinewidth": 0,
              "ticks": ""
             }
            },
            "type": "scattergeo"
           }
          ],
          "scattergl": [
           {
            "marker": {
             "colorbar": {
              "outlinewidth": 0,
              "ticks": ""
             }
            },
            "type": "scattergl"
           }
          ],
          "scattermapbox": [
           {
            "marker": {
             "colorbar": {
              "outlinewidth": 0,
              "ticks": ""
             }
            },
            "type": "scattermapbox"
           }
          ],
          "scatterpolar": [
           {
            "marker": {
             "colorbar": {
              "outlinewidth": 0,
              "ticks": ""
             }
            },
            "type": "scatterpolar"
           }
          ],
          "scatterpolargl": [
           {
            "marker": {
             "colorbar": {
              "outlinewidth": 0,
              "ticks": ""
             }
            },
            "type": "scatterpolargl"
           }
          ],
          "scatterternary": [
           {
            "marker": {
             "colorbar": {
              "outlinewidth": 0,
              "ticks": ""
             }
            },
            "type": "scatterternary"
           }
          ],
          "surface": [
           {
            "colorbar": {
             "outlinewidth": 0,
             "ticks": ""
            },
            "colorscale": [
             [
              0,
              "#0d0887"
             ],
             [
              0.1111111111111111,
              "#46039f"
             ],
             [
              0.2222222222222222,
              "#7201a8"
             ],
             [
              0.3333333333333333,
              "#9c179e"
             ],
             [
              0.4444444444444444,
              "#bd3786"
             ],
             [
              0.5555555555555556,
              "#d8576b"
             ],
             [
              0.6666666666666666,
              "#ed7953"
             ],
             [
              0.7777777777777778,
              "#fb9f3a"
             ],
             [
              0.8888888888888888,
              "#fdca26"
             ],
             [
              1,
              "#f0f921"
             ]
            ],
            "type": "surface"
           }
          ],
          "table": [
           {
            "cells": {
             "fill": {
              "color": "#EBF0F8"
             },
             "line": {
              "color": "white"
             }
            },
            "header": {
             "fill": {
              "color": "#C8D4E3"
             },
             "line": {
              "color": "white"
             }
            },
            "type": "table"
           }
          ]
         },
         "layout": {
          "annotationdefaults": {
           "arrowcolor": "#2a3f5f",
           "arrowhead": 0,
           "arrowwidth": 1
          },
          "autotypenumbers": "strict",
          "coloraxis": {
           "colorbar": {
            "outlinewidth": 0,
            "ticks": ""
           }
          },
          "colorscale": {
           "diverging": [
            [
             0,
             "#8e0152"
            ],
            [
             0.1,
             "#c51b7d"
            ],
            [
             0.2,
             "#de77ae"
            ],
            [
             0.3,
             "#f1b6da"
            ],
            [
             0.4,
             "#fde0ef"
            ],
            [
             0.5,
             "#f7f7f7"
            ],
            [
             0.6,
             "#e6f5d0"
            ],
            [
             0.7,
             "#b8e186"
            ],
            [
             0.8,
             "#7fbc41"
            ],
            [
             0.9,
             "#4d9221"
            ],
            [
             1,
             "#276419"
            ]
           ],
           "sequential": [
            [
             0,
             "#0d0887"
            ],
            [
             0.1111111111111111,
             "#46039f"
            ],
            [
             0.2222222222222222,
             "#7201a8"
            ],
            [
             0.3333333333333333,
             "#9c179e"
            ],
            [
             0.4444444444444444,
             "#bd3786"
            ],
            [
             0.5555555555555556,
             "#d8576b"
            ],
            [
             0.6666666666666666,
             "#ed7953"
            ],
            [
             0.7777777777777778,
             "#fb9f3a"
            ],
            [
             0.8888888888888888,
             "#fdca26"
            ],
            [
             1,
             "#f0f921"
            ]
           ],
           "sequentialminus": [
            [
             0,
             "#0d0887"
            ],
            [
             0.1111111111111111,
             "#46039f"
            ],
            [
             0.2222222222222222,
             "#7201a8"
            ],
            [
             0.3333333333333333,
             "#9c179e"
            ],
            [
             0.4444444444444444,
             "#bd3786"
            ],
            [
             0.5555555555555556,
             "#d8576b"
            ],
            [
             0.6666666666666666,
             "#ed7953"
            ],
            [
             0.7777777777777778,
             "#fb9f3a"
            ],
            [
             0.8888888888888888,
             "#fdca26"
            ],
            [
             1,
             "#f0f921"
            ]
           ]
          },
          "colorway": [
           "#636efa",
           "#EF553B",
           "#00cc96",
           "#ab63fa",
           "#FFA15A",
           "#19d3f3",
           "#FF6692",
           "#B6E880",
           "#FF97FF",
           "#FECB52"
          ],
          "font": {
           "color": "#2a3f5f"
          },
          "geo": {
           "bgcolor": "white",
           "lakecolor": "white",
           "landcolor": "#E5ECF6",
           "showlakes": true,
           "showland": true,
           "subunitcolor": "white"
          },
          "hoverlabel": {
           "align": "left"
          },
          "hovermode": "closest",
          "mapbox": {
           "style": "light"
          },
          "paper_bgcolor": "white",
          "plot_bgcolor": "#E5ECF6",
          "polar": {
           "angularaxis": {
            "gridcolor": "white",
            "linecolor": "white",
            "ticks": ""
           },
           "bgcolor": "#E5ECF6",
           "radialaxis": {
            "gridcolor": "white",
            "linecolor": "white",
            "ticks": ""
           }
          },
          "scene": {
           "xaxis": {
            "backgroundcolor": "#E5ECF6",
            "gridcolor": "white",
            "gridwidth": 2,
            "linecolor": "white",
            "showbackground": true,
            "ticks": "",
            "zerolinecolor": "white"
           },
           "yaxis": {
            "backgroundcolor": "#E5ECF6",
            "gridcolor": "white",
            "gridwidth": 2,
            "linecolor": "white",
            "showbackground": true,
            "ticks": "",
            "zerolinecolor": "white"
           },
           "zaxis": {
            "backgroundcolor": "#E5ECF6",
            "gridcolor": "white",
            "gridwidth": 2,
            "linecolor": "white",
            "showbackground": true,
            "ticks": "",
            "zerolinecolor": "white"
           }
          },
          "shapedefaults": {
           "line": {
            "color": "#2a3f5f"
           }
          },
          "ternary": {
           "aaxis": {
            "gridcolor": "white",
            "linecolor": "white",
            "ticks": ""
           },
           "baxis": {
            "gridcolor": "white",
            "linecolor": "white",
            "ticks": ""
           },
           "bgcolor": "#E5ECF6",
           "caxis": {
            "gridcolor": "white",
            "linecolor": "white",
            "ticks": ""
           }
          },
          "title": {
           "x": 0.05
          },
          "xaxis": {
           "automargin": true,
           "gridcolor": "white",
           "linecolor": "white",
           "ticks": "",
           "title": {
            "standoff": 15
           },
           "zerolinecolor": "white",
           "zerolinewidth": 2
          },
          "yaxis": {
           "automargin": true,
           "gridcolor": "white",
           "linecolor": "white",
           "ticks": "",
           "title": {
            "standoff": 15
           },
           "zerolinecolor": "white",
           "zerolinewidth": 2
          }
         }
        },
        "width": 1200,
        "xaxis": {
         "anchor": "y",
         "domain": [
          0,
          1
         ]
        },
        "xaxis2": {
         "anchor": "y2",
         "domain": [
          0,
          1
         ]
        },
        "yaxis": {
         "anchor": "x",
         "domain": [
          0.575,
          1
         ]
        },
        "yaxis2": {
         "anchor": "x2",
         "domain": [
          0,
          0.425
         ]
        }
       }
      }
     },
     "metadata": {},
     "output_type": "display_data"
    }
   ],
   "source": [
    "import plotly.graph_objects as go\n",
    "from plotly.subplots import make_subplots\n",
    "\n",
    "fig = make_subplots(rows=2, cols=1)\n",
    "\n",
    "# fig = go.Figure()\n",
    "\n",
    "query = 'SELECT * FROM btcusdt ORDER BY timestamp ASC'\n",
    "res = execute_query(connection,query)\n",
    "df = pd.DataFrame(res,columns=['timestamp', 'open','high', 'low','close','volume'])\n",
    "df = df.drop_duplicates()\n",
    "df['timestamp'] = pd.to_datetime(df['timestamp'], unit='ms')\n",
    "day_df = (df.resample('D', on='timestamp').agg({'open': 'first', 'high': 'max', 'low': 'min', 'close': 'last','volume': 'sum'}))\n",
    "day_df['timestamp'] = day_df.index\n",
    "\n",
    "df_btcusdt = day_df.copy()\n",
    "df_btcusdt_h = df.copy()\n",
    "\n",
    "for i in df_data_pump_not_ico.index:\n",
    "    fig.add_trace(go.Scatter(x=[df_data_pump_not_ico['start'][i], df_data_pump_not_ico['end'][i]], y=[df_data_pump_not_ico['market'][i],df_data_pump_not_ico['market'][i]],\n",
    "                        mode='markers+lines'),row=1, col=1)\n",
    "    \n",
    "fig.add_trace(go.Scatter(x=df_btcusdt['timestamp'], y=df_btcusdt['close'], mode='markers+lines'),row=2, col=1)\n",
    "fig.update_layout(height=600, width=1200)\n",
    "# fig = px.line(x=[df_data_pump_not_ico['start'][8], df_data_pump_not_ico['end'][8]],y=[df_data_pump_not_ico['market'][8],df_data_pump_not_ico['market'][8]])\n",
    "fig.show()"
   ]
  },
  {
   "cell_type": "code",
   "execution_count": 128,
   "metadata": {},
   "outputs": [
    {
     "data": {
      "text/html": [
       "<div>\n",
       "<style scoped>\n",
       "    .dataframe tbody tr th:only-of-type {\n",
       "        vertical-align: middle;\n",
       "    }\n",
       "\n",
       "    .dataframe tbody tr th {\n",
       "        vertical-align: top;\n",
       "    }\n",
       "\n",
       "    .dataframe thead th {\n",
       "        text-align: right;\n",
       "    }\n",
       "</style>\n",
       "<table border=\"1\" class=\"dataframe\">\n",
       "  <thead>\n",
       "    <tr style=\"text-align: right;\">\n",
       "      <th></th>\n",
       "      <th>open</th>\n",
       "      <th>high</th>\n",
       "      <th>low</th>\n",
       "      <th>close</th>\n",
       "      <th>volume</th>\n",
       "      <th>timestamp</th>\n",
       "    </tr>\n",
       "    <tr>\n",
       "      <th>timestamp</th>\n",
       "      <th></th>\n",
       "      <th></th>\n",
       "      <th></th>\n",
       "      <th></th>\n",
       "      <th></th>\n",
       "      <th></th>\n",
       "    </tr>\n",
       "  </thead>\n",
       "  <tbody>\n",
       "    <tr>\n",
       "      <th>2017-08-17</th>\n",
       "      <td>4261.48</td>\n",
       "      <td>4485.39</td>\n",
       "      <td>4200.74</td>\n",
       "      <td>4285.08</td>\n",
       "      <td>795.150347</td>\n",
       "      <td>2017-08-17</td>\n",
       "    </tr>\n",
       "    <tr>\n",
       "      <th>2017-08-18</th>\n",
       "      <td>4285.08</td>\n",
       "      <td>4371.52</td>\n",
       "      <td>3938.77</td>\n",
       "      <td>4108.37</td>\n",
       "      <td>1199.888200</td>\n",
       "      <td>2017-08-18</td>\n",
       "    </tr>\n",
       "    <tr>\n",
       "      <th>2017-08-19</th>\n",
       "      <td>4108.37</td>\n",
       "      <td>4184.69</td>\n",
       "      <td>3850.00</td>\n",
       "      <td>4139.98</td>\n",
       "      <td>381.309799</td>\n",
       "      <td>2017-08-19</td>\n",
       "    </tr>\n",
       "    <tr>\n",
       "      <th>2017-08-20</th>\n",
       "      <td>4120.98</td>\n",
       "      <td>4211.08</td>\n",
       "      <td>4032.62</td>\n",
       "      <td>4086.29</td>\n",
       "      <td>467.083144</td>\n",
       "      <td>2017-08-20</td>\n",
       "    </tr>\n",
       "    <tr>\n",
       "      <th>2017-08-21</th>\n",
       "      <td>4069.13</td>\n",
       "      <td>4119.62</td>\n",
       "      <td>3911.79</td>\n",
       "      <td>4016.00</td>\n",
       "      <td>691.742950</td>\n",
       "      <td>2017-08-21</td>\n",
       "    </tr>\n",
       "    <tr>\n",
       "      <th>...</th>\n",
       "      <td>...</td>\n",
       "      <td>...</td>\n",
       "      <td>...</td>\n",
       "      <td>...</td>\n",
       "      <td>...</td>\n",
       "      <td>...</td>\n",
       "    </tr>\n",
       "    <tr>\n",
       "      <th>2024-02-13</th>\n",
       "      <td>49917.30</td>\n",
       "      <td>50368.60</td>\n",
       "      <td>48300.90</td>\n",
       "      <td>49699.60</td>\n",
       "      <td>55551.565000</td>\n",
       "      <td>2024-02-13</td>\n",
       "    </tr>\n",
       "    <tr>\n",
       "      <th>2024-02-14</th>\n",
       "      <td>49699.60</td>\n",
       "      <td>52043.70</td>\n",
       "      <td>49225.00</td>\n",
       "      <td>51795.20</td>\n",
       "      <td>57046.394000</td>\n",
       "      <td>2024-02-14</td>\n",
       "    </tr>\n",
       "    <tr>\n",
       "      <th>2024-02-15</th>\n",
       "      <td>51795.20</td>\n",
       "      <td>52816.60</td>\n",
       "      <td>51314.00</td>\n",
       "      <td>51880.00</td>\n",
       "      <td>53816.040000</td>\n",
       "      <td>2024-02-15</td>\n",
       "    </tr>\n",
       "    <tr>\n",
       "      <th>2024-02-16</th>\n",
       "      <td>51880.00</td>\n",
       "      <td>52572.10</td>\n",
       "      <td>51566.00</td>\n",
       "      <td>52124.10</td>\n",
       "      <td>37772.266000</td>\n",
       "      <td>2024-02-16</td>\n",
       "    </tr>\n",
       "    <tr>\n",
       "      <th>2024-02-17</th>\n",
       "      <td>52124.10</td>\n",
       "      <td>52162.80</td>\n",
       "      <td>51500.00</td>\n",
       "      <td>51690.80</td>\n",
       "      <td>7658.420000</td>\n",
       "      <td>2024-02-17</td>\n",
       "    </tr>\n",
       "  </tbody>\n",
       "</table>\n",
       "<p>2376 rows × 6 columns</p>\n",
       "</div>"
      ],
      "text/plain": [
       "                open      high       low     close        volume  timestamp\n",
       "timestamp                                                                  \n",
       "2017-08-17   4261.48   4485.39   4200.74   4285.08    795.150347 2017-08-17\n",
       "2017-08-18   4285.08   4371.52   3938.77   4108.37   1199.888200 2017-08-18\n",
       "2017-08-19   4108.37   4184.69   3850.00   4139.98    381.309799 2017-08-19\n",
       "2017-08-20   4120.98   4211.08   4032.62   4086.29    467.083144 2017-08-20\n",
       "2017-08-21   4069.13   4119.62   3911.79   4016.00    691.742950 2017-08-21\n",
       "...              ...       ...       ...       ...           ...        ...\n",
       "2024-02-13  49917.30  50368.60  48300.90  49699.60  55551.565000 2024-02-13\n",
       "2024-02-14  49699.60  52043.70  49225.00  51795.20  57046.394000 2024-02-14\n",
       "2024-02-15  51795.20  52816.60  51314.00  51880.00  53816.040000 2024-02-15\n",
       "2024-02-16  51880.00  52572.10  51566.00  52124.10  37772.266000 2024-02-16\n",
       "2024-02-17  52124.10  52162.80  51500.00  51690.80   7658.420000 2024-02-17\n",
       "\n",
       "[2376 rows x 6 columns]"
      ]
     },
     "execution_count": 128,
     "metadata": {},
     "output_type": "execute_result"
    }
   ],
   "source": [
    "df_btcusdt"
   ]
  },
  {
   "cell_type": "code",
   "execution_count": 125,
   "metadata": {},
   "outputs": [
    {
     "data": {
      "text/html": [
       "<div>\n",
       "<style scoped>\n",
       "    .dataframe tbody tr th:only-of-type {\n",
       "        vertical-align: middle;\n",
       "    }\n",
       "\n",
       "    .dataframe tbody tr th {\n",
       "        vertical-align: top;\n",
       "    }\n",
       "\n",
       "    .dataframe thead th {\n",
       "        text-align: right;\n",
       "    }\n",
       "</style>\n",
       "<table border=\"1\" class=\"dataframe\">\n",
       "  <thead>\n",
       "    <tr style=\"text-align: right;\">\n",
       "      <th></th>\n",
       "      <th>market</th>\n",
       "      <th>start</th>\n",
       "      <th>base_price</th>\n",
       "      <th>end</th>\n",
       "      <th>last_price</th>\n",
       "      <th>increase</th>\n",
       "      <th>pump_length</th>\n",
       "      <th>date_listing</th>\n",
       "      <th>pump_to_listing</th>\n",
       "    </tr>\n",
       "  </thead>\n",
       "  <tbody>\n",
       "    <tr>\n",
       "      <th>3</th>\n",
       "      <td>AAVEUSDT</td>\n",
       "      <td>2020-12-26</td>\n",
       "      <td>7.613120e+01</td>\n",
       "      <td>2021-02-12</td>\n",
       "      <td>528.325000</td>\n",
       "      <td>5.939665</td>\n",
       "      <td>48 days</td>\n",
       "      <td>2020-10-15</td>\n",
       "      <td>72 days</td>\n",
       "    </tr>\n",
       "    <tr>\n",
       "      <th>4</th>\n",
       "      <td>ACAUSDT</td>\n",
       "      <td>2023-06-10</td>\n",
       "      <td>3.234000e-02</td>\n",
       "      <td>2023-07-12</td>\n",
       "      <td>0.075700</td>\n",
       "      <td>1.340754</td>\n",
       "      <td>32 days</td>\n",
       "      <td>2022-01-25</td>\n",
       "      <td>501 days</td>\n",
       "    </tr>\n",
       "    <tr>\n",
       "      <th>5</th>\n",
       "      <td>ACHBTC</td>\n",
       "      <td>2023-01-24</td>\n",
       "      <td>4.800000e-07</td>\n",
       "      <td>2023-02-23</td>\n",
       "      <td>0.000002</td>\n",
       "      <td>2.979167</td>\n",
       "      <td>30 days</td>\n",
       "      <td>2022-01-10</td>\n",
       "      <td>379 days</td>\n",
       "    </tr>\n",
       "    <tr>\n",
       "      <th>6</th>\n",
       "      <td>ACHUSDT</td>\n",
       "      <td>2023-01-24</td>\n",
       "      <td>1.090800e-02</td>\n",
       "      <td>2023-02-23</td>\n",
       "      <td>0.045660</td>\n",
       "      <td>3.185919</td>\n",
       "      <td>30 days</td>\n",
       "      <td>2022-01-10</td>\n",
       "      <td>379 days</td>\n",
       "    </tr>\n",
       "    <tr>\n",
       "      <th>8</th>\n",
       "      <td>ADABTC</td>\n",
       "      <td>2021-01-29</td>\n",
       "      <td>1.028400e-05</td>\n",
       "      <td>2021-02-28</td>\n",
       "      <td>0.000029</td>\n",
       "      <td>1.828666</td>\n",
       "      <td>30 days</td>\n",
       "      <td>2017-11-30</td>\n",
       "      <td>1156 days</td>\n",
       "    </tr>\n",
       "    <tr>\n",
       "      <th>...</th>\n",
       "      <td>...</td>\n",
       "      <td>...</td>\n",
       "      <td>...</td>\n",
       "      <td>...</td>\n",
       "      <td>...</td>\n",
       "      <td>...</td>\n",
       "      <td>...</td>\n",
       "      <td>...</td>\n",
       "      <td>...</td>\n",
       "    </tr>\n",
       "    <tr>\n",
       "      <th>1241</th>\n",
       "      <td>ZRXBTC</td>\n",
       "      <td>2017-12-11</td>\n",
       "      <td>1.486000e-05</td>\n",
       "      <td>2018-01-27</td>\n",
       "      <td>0.000184</td>\n",
       "      <td>11.382234</td>\n",
       "      <td>47 days</td>\n",
       "      <td>2017-09-13</td>\n",
       "      <td>89 days</td>\n",
       "    </tr>\n",
       "    <tr>\n",
       "      <th>1242</th>\n",
       "      <td>ZRXBTC</td>\n",
       "      <td>2021-01-21</td>\n",
       "      <td>1.576000e-05</td>\n",
       "      <td>2021-02-05</td>\n",
       "      <td>0.000041</td>\n",
       "      <td>1.632614</td>\n",
       "      <td>15 days</td>\n",
       "      <td>2017-09-13</td>\n",
       "      <td>1226 days</td>\n",
       "    </tr>\n",
       "    <tr>\n",
       "      <th>1243</th>\n",
       "      <td>ZRXUSDT</td>\n",
       "      <td>2020-04-23</td>\n",
       "      <td>1.849600e-01</td>\n",
       "      <td>2020-05-09</td>\n",
       "      <td>0.422600</td>\n",
       "      <td>1.284818</td>\n",
       "      <td>16 days</td>\n",
       "      <td>2019-02-28</td>\n",
       "      <td>420 days</td>\n",
       "    </tr>\n",
       "    <tr>\n",
       "      <th>1244</th>\n",
       "      <td>ZRXUSDT</td>\n",
       "      <td>2021-01-21</td>\n",
       "      <td>5.146400e-01</td>\n",
       "      <td>2021-02-13</td>\n",
       "      <td>1.891200</td>\n",
       "      <td>2.674802</td>\n",
       "      <td>23 days</td>\n",
       "      <td>2019-02-28</td>\n",
       "      <td>693 days</td>\n",
       "    </tr>\n",
       "    <tr>\n",
       "      <th>1245</th>\n",
       "      <td>ZRXUSDT</td>\n",
       "      <td>2023-10-28</td>\n",
       "      <td>2.600600e-01</td>\n",
       "      <td>2023-11-15</td>\n",
       "      <td>0.525400</td>\n",
       "      <td>1.020303</td>\n",
       "      <td>18 days</td>\n",
       "      <td>2019-02-28</td>\n",
       "      <td>1703 days</td>\n",
       "    </tr>\n",
       "  </tbody>\n",
       "</table>\n",
       "<p>1143 rows × 9 columns</p>\n",
       "</div>"
      ],
      "text/plain": [
       "        market      start    base_price        end  last_price   increase  \\\n",
       "3     AAVEUSDT 2020-12-26  7.613120e+01 2021-02-12  528.325000   5.939665   \n",
       "4      ACAUSDT 2023-06-10  3.234000e-02 2023-07-12    0.075700   1.340754   \n",
       "5       ACHBTC 2023-01-24  4.800000e-07 2023-02-23    0.000002   2.979167   \n",
       "6      ACHUSDT 2023-01-24  1.090800e-02 2023-02-23    0.045660   3.185919   \n",
       "8       ADABTC 2021-01-29  1.028400e-05 2021-02-28    0.000029   1.828666   \n",
       "...        ...        ...           ...        ...         ...        ...   \n",
       "1241    ZRXBTC 2017-12-11  1.486000e-05 2018-01-27    0.000184  11.382234   \n",
       "1242    ZRXBTC 2021-01-21  1.576000e-05 2021-02-05    0.000041   1.632614   \n",
       "1243   ZRXUSDT 2020-04-23  1.849600e-01 2020-05-09    0.422600   1.284818   \n",
       "1244   ZRXUSDT 2021-01-21  5.146400e-01 2021-02-13    1.891200   2.674802   \n",
       "1245   ZRXUSDT 2023-10-28  2.600600e-01 2023-11-15    0.525400   1.020303   \n",
       "\n",
       "     pump_length date_listing pump_to_listing  \n",
       "3        48 days   2020-10-15         72 days  \n",
       "4        32 days   2022-01-25        501 days  \n",
       "5        30 days   2022-01-10        379 days  \n",
       "6        30 days   2022-01-10        379 days  \n",
       "8        30 days   2017-11-30       1156 days  \n",
       "...          ...          ...             ...  \n",
       "1241     47 days   2017-09-13         89 days  \n",
       "1242     15 days   2017-09-13       1226 days  \n",
       "1243     16 days   2019-02-28        420 days  \n",
       "1244     23 days   2019-02-28        693 days  \n",
       "1245     18 days   2019-02-28       1703 days  \n",
       "\n",
       "[1143 rows x 9 columns]"
      ]
     },
     "execution_count": 125,
     "metadata": {},
     "output_type": "execute_result"
    }
   ],
   "source": [
    "df_data_pump_not_ico"
   ]
  },
  {
   "cell_type": "code",
   "execution_count": 140,
   "metadata": {},
   "outputs": [],
   "source": [
    "from ta import add_all_ta_features\n",
    "\n",
    "\n",
    "df = add_all_ta_features(\n",
    "    df_btcusdt_h, open=\"open\", high=\"high\", low=\"low\", close=\"close\", volume=\"volume\", fillna=True)"
   ]
  },
  {
   "cell_type": "code",
   "execution_count": 141,
   "metadata": {},
   "outputs": [
    {
     "data": {
      "text/html": [
       "<div>\n",
       "<style scoped>\n",
       "    .dataframe tbody tr th:only-of-type {\n",
       "        vertical-align: middle;\n",
       "    }\n",
       "\n",
       "    .dataframe tbody tr th {\n",
       "        vertical-align: top;\n",
       "    }\n",
       "\n",
       "    .dataframe thead th {\n",
       "        text-align: right;\n",
       "    }\n",
       "</style>\n",
       "<table border=\"1\" class=\"dataframe\">\n",
       "  <thead>\n",
       "    <tr style=\"text-align: right;\">\n",
       "      <th></th>\n",
       "      <th>timestamp</th>\n",
       "      <th>open</th>\n",
       "      <th>high</th>\n",
       "      <th>low</th>\n",
       "      <th>close</th>\n",
       "      <th>volume</th>\n",
       "      <th>volume_adi</th>\n",
       "      <th>volume_obv</th>\n",
       "      <th>volume_cmf</th>\n",
       "      <th>volume_fi</th>\n",
       "      <th>...</th>\n",
       "      <th>momentum_ppo</th>\n",
       "      <th>momentum_ppo_signal</th>\n",
       "      <th>momentum_ppo_hist</th>\n",
       "      <th>momentum_pvo</th>\n",
       "      <th>momentum_pvo_signal</th>\n",
       "      <th>momentum_pvo_hist</th>\n",
       "      <th>momentum_kama</th>\n",
       "      <th>others_dr</th>\n",
       "      <th>others_dlr</th>\n",
       "      <th>others_cr</th>\n",
       "    </tr>\n",
       "  </thead>\n",
       "  <tbody>\n",
       "    <tr>\n",
       "      <th>0</th>\n",
       "      <td>2017-08-17 04:00:00</td>\n",
       "      <td>4261.48</td>\n",
       "      <td>4313.62</td>\n",
       "      <td>4261.32</td>\n",
       "      <td>4308.83</td>\n",
       "      <td>47.181000</td>\n",
       "      <td>3.853867e+01</td>\n",
       "      <td>4.718100e+01</td>\n",
       "      <td>0.816826</td>\n",
       "      <td>0.000000</td>\n",
       "      <td>...</td>\n",
       "      <td>0.000000</td>\n",
       "      <td>0.000000</td>\n",
       "      <td>0.000000</td>\n",
       "      <td>0.000000</td>\n",
       "      <td>0.000000</td>\n",
       "      <td>0.000000</td>\n",
       "      <td>4308.830000</td>\n",
       "      <td>0.000000</td>\n",
       "      <td>0.000000</td>\n",
       "      <td>0.000000</td>\n",
       "    </tr>\n",
       "    <tr>\n",
       "      <th>1</th>\n",
       "      <td>2017-08-17 05:00:00</td>\n",
       "      <td>4308.83</td>\n",
       "      <td>4328.69</td>\n",
       "      <td>4291.37</td>\n",
       "      <td>4315.32</td>\n",
       "      <td>23.234900</td>\n",
       "      <td>4.512562e+01</td>\n",
       "      <td>7.041590e+01</td>\n",
       "      <td>0.640844</td>\n",
       "      <td>150.794501</td>\n",
       "      <td>...</td>\n",
       "      <td>0.012014</td>\n",
       "      <td>0.002403</td>\n",
       "      <td>0.009611</td>\n",
       "      <td>-4.206887</td>\n",
       "      <td>-0.841377</td>\n",
       "      <td>-3.365510</td>\n",
       "      <td>4311.748390</td>\n",
       "      <td>0.150621</td>\n",
       "      <td>0.150508</td>\n",
       "      <td>0.150621</td>\n",
       "    </tr>\n",
       "    <tr>\n",
       "      <th>2</th>\n",
       "      <td>2017-08-17 06:00:00</td>\n",
       "      <td>4330.29</td>\n",
       "      <td>4345.45</td>\n",
       "      <td>4309.37</td>\n",
       "      <td>4324.35</td>\n",
       "      <td>7.229690</td>\n",
       "      <td>4.389930e+01</td>\n",
       "      <td>7.764559e+01</td>\n",
       "      <td>0.565381</td>\n",
       "      <td>138.578730</td>\n",
       "      <td>...</td>\n",
       "      <td>0.037996</td>\n",
       "      <td>0.009521</td>\n",
       "      <td>0.028474</td>\n",
       "      <td>-10.948641</td>\n",
       "      <td>-2.862830</td>\n",
       "      <td>-8.085811</td>\n",
       "      <td>4317.391270</td>\n",
       "      <td>0.209254</td>\n",
       "      <td>0.209036</td>\n",
       "      <td>0.360191</td>\n",
       "    </tr>\n",
       "    <tr>\n",
       "      <th>3</th>\n",
       "      <td>2017-08-17 07:00:00</td>\n",
       "      <td>4316.62</td>\n",
       "      <td>4349.99</td>\n",
       "      <td>4287.41</td>\n",
       "      <td>4349.99</td>\n",
       "      <td>4.443250</td>\n",
       "      <td>4.834255e+01</td>\n",
       "      <td>8.208884e+01</td>\n",
       "      <td>0.588905</td>\n",
       "      <td>135.056758</td>\n",
       "      <td>...</td>\n",
       "      <td>0.105301</td>\n",
       "      <td>0.028677</td>\n",
       "      <td>0.076624</td>\n",
       "      <td>-17.575002</td>\n",
       "      <td>-5.805264</td>\n",
       "      <td>-11.769737</td>\n",
       "      <td>4331.963869</td>\n",
       "      <td>0.592921</td>\n",
       "      <td>0.591171</td>\n",
       "      <td>0.955248</td>\n",
       "    </tr>\n",
       "    <tr>\n",
       "      <th>4</th>\n",
       "      <td>2017-08-17 08:00:00</td>\n",
       "      <td>4333.32</td>\n",
       "      <td>4377.85</td>\n",
       "      <td>4333.32</td>\n",
       "      <td>4360.69</td>\n",
       "      <td>0.972807</td>\n",
       "      <td>4.856560e+01</td>\n",
       "      <td>8.306165e+01</td>\n",
       "      <td>0.584693</td>\n",
       "      <td>117.249941</td>\n",
       "      <td>...</td>\n",
       "      <td>0.176499</td>\n",
       "      <td>0.058242</td>\n",
       "      <td>0.118257</td>\n",
       "      <td>-24.417609</td>\n",
       "      <td>-9.527733</td>\n",
       "      <td>-14.889876</td>\n",
       "      <td>4344.787882</td>\n",
       "      <td>0.245978</td>\n",
       "      <td>0.245676</td>\n",
       "      <td>1.203575</td>\n",
       "    </tr>\n",
       "    <tr>\n",
       "      <th>...</th>\n",
       "      <td>...</td>\n",
       "      <td>...</td>\n",
       "      <td>...</td>\n",
       "      <td>...</td>\n",
       "      <td>...</td>\n",
       "      <td>...</td>\n",
       "      <td>...</td>\n",
       "      <td>...</td>\n",
       "      <td>...</td>\n",
       "      <td>...</td>\n",
       "      <td>...</td>\n",
       "      <td>...</td>\n",
       "      <td>...</td>\n",
       "      <td>...</td>\n",
       "      <td>...</td>\n",
       "      <td>...</td>\n",
       "      <td>...</td>\n",
       "      <td>...</td>\n",
       "      <td>...</td>\n",
       "      <td>...</td>\n",
       "      <td>...</td>\n",
       "    </tr>\n",
       "    <tr>\n",
       "      <th>56932</th>\n",
       "      <td>2024-02-17 08:00:00</td>\n",
       "      <td>51911.30</td>\n",
       "      <td>51911.30</td>\n",
       "      <td>51702.40</td>\n",
       "      <td>51740.00</td>\n",
       "      <td>837.773000</td>\n",
       "      <td>6.091926e+06</td>\n",
       "      <td>1.016451e+06</td>\n",
       "      <td>0.149378</td>\n",
       "      <td>-34494.156123</td>\n",
       "      <td>...</td>\n",
       "      <td>-0.048980</td>\n",
       "      <td>-0.002524</td>\n",
       "      <td>-0.046456</td>\n",
       "      <td>-34.974010</td>\n",
       "      <td>-31.819334</td>\n",
       "      <td>-3.154677</td>\n",
       "      <td>51895.511703</td>\n",
       "      <td>-0.329986</td>\n",
       "      <td>-0.330532</td>\n",
       "      <td>1100.790006</td>\n",
       "    </tr>\n",
       "    <tr>\n",
       "      <th>56933</th>\n",
       "      <td>2024-02-17 09:00:00</td>\n",
       "      <td>51740.00</td>\n",
       "      <td>51795.80</td>\n",
       "      <td>51651.50</td>\n",
       "      <td>51676.40</td>\n",
       "      <td>931.136000</td>\n",
       "      <td>6.091317e+06</td>\n",
       "      <td>1.015520e+06</td>\n",
       "      <td>0.041401</td>\n",
       "      <td>-38026.455191</td>\n",
       "      <td>...</td>\n",
       "      <td>-0.083761</td>\n",
       "      <td>-0.018771</td>\n",
       "      <td>-0.064989</td>\n",
       "      <td>-30.695292</td>\n",
       "      <td>-31.594525</td>\n",
       "      <td>0.899234</td>\n",
       "      <td>51839.678083</td>\n",
       "      <td>-0.122922</td>\n",
       "      <td>-0.122998</td>\n",
       "      <td>1099.313967</td>\n",
       "    </tr>\n",
       "    <tr>\n",
       "      <th>56934</th>\n",
       "      <td>2024-02-17 10:00:00</td>\n",
       "      <td>51676.40</td>\n",
       "      <td>51729.20</td>\n",
       "      <td>51500.00</td>\n",
       "      <td>51721.70</td>\n",
       "      <td>1322.860000</td>\n",
       "      <td>6.092553e+06</td>\n",
       "      <td>1.016843e+06</td>\n",
       "      <td>0.243949</td>\n",
       "      <td>-24033.310449</td>\n",
       "      <td>...</td>\n",
       "      <td>-0.103113</td>\n",
       "      <td>-0.035640</td>\n",
       "      <td>-0.067473</td>\n",
       "      <td>-23.274462</td>\n",
       "      <td>-29.930512</td>\n",
       "      <td>6.656051</td>\n",
       "      <td>51822.582390</td>\n",
       "      <td>0.087661</td>\n",
       "      <td>0.087623</td>\n",
       "      <td>1100.365296</td>\n",
       "    </tr>\n",
       "    <tr>\n",
       "      <th>56935</th>\n",
       "      <td>2024-02-17 11:00:00</td>\n",
       "      <td>51721.70</td>\n",
       "      <td>51800.00</td>\n",
       "      <td>51677.20</td>\n",
       "      <td>51690.50</td>\n",
       "      <td>719.365000</td>\n",
       "      <td>6.091989e+06</td>\n",
       "      <td>1.016123e+06</td>\n",
       "      <td>0.088641</td>\n",
       "      <td>-23806.292957</td>\n",
       "      <td>...</td>\n",
       "      <td>-0.121914</td>\n",
       "      <td>-0.052895</td>\n",
       "      <td>-0.069019</td>\n",
       "      <td>-22.776470</td>\n",
       "      <td>-28.499704</td>\n",
       "      <td>5.723234</td>\n",
       "      <td>51803.512593</td>\n",
       "      <td>-0.060323</td>\n",
       "      <td>-0.060341</td>\n",
       "      <td>1099.641202</td>\n",
       "    </tr>\n",
       "    <tr>\n",
       "      <th>56936</th>\n",
       "      <td>2024-02-17 12:00:00</td>\n",
       "      <td>51690.50</td>\n",
       "      <td>51696.00</td>\n",
       "      <td>51631.10</td>\n",
       "      <td>51690.80</td>\n",
       "      <td>284.746000</td>\n",
       "      <td>6.092229e+06</td>\n",
       "      <td>1.016408e+06</td>\n",
       "      <td>0.119197</td>\n",
       "      <td>-20393.190563</td>\n",
       "      <td>...</td>\n",
       "      <td>-0.135223</td>\n",
       "      <td>-0.069360</td>\n",
       "      <td>-0.065863</td>\n",
       "      <td>-26.466352</td>\n",
       "      <td>-28.093034</td>\n",
       "      <td>1.626681</td>\n",
       "      <td>51788.973133</td>\n",
       "      <td>0.000580</td>\n",
       "      <td>0.000580</td>\n",
       "      <td>1099.648164</td>\n",
       "    </tr>\n",
       "  </tbody>\n",
       "</table>\n",
       "<p>56881 rows × 92 columns</p>\n",
       "</div>"
      ],
      "text/plain": [
       "                timestamp      open      high       low     close  \\\n",
       "0     2017-08-17 04:00:00   4261.48   4313.62   4261.32   4308.83   \n",
       "1     2017-08-17 05:00:00   4308.83   4328.69   4291.37   4315.32   \n",
       "2     2017-08-17 06:00:00   4330.29   4345.45   4309.37   4324.35   \n",
       "3     2017-08-17 07:00:00   4316.62   4349.99   4287.41   4349.99   \n",
       "4     2017-08-17 08:00:00   4333.32   4377.85   4333.32   4360.69   \n",
       "...                   ...       ...       ...       ...       ...   \n",
       "56932 2024-02-17 08:00:00  51911.30  51911.30  51702.40  51740.00   \n",
       "56933 2024-02-17 09:00:00  51740.00  51795.80  51651.50  51676.40   \n",
       "56934 2024-02-17 10:00:00  51676.40  51729.20  51500.00  51721.70   \n",
       "56935 2024-02-17 11:00:00  51721.70  51800.00  51677.20  51690.50   \n",
       "56936 2024-02-17 12:00:00  51690.50  51696.00  51631.10  51690.80   \n",
       "\n",
       "            volume    volume_adi    volume_obv  volume_cmf     volume_fi  ...  \\\n",
       "0        47.181000  3.853867e+01  4.718100e+01    0.816826      0.000000  ...   \n",
       "1        23.234900  4.512562e+01  7.041590e+01    0.640844    150.794501  ...   \n",
       "2         7.229690  4.389930e+01  7.764559e+01    0.565381    138.578730  ...   \n",
       "3         4.443250  4.834255e+01  8.208884e+01    0.588905    135.056758  ...   \n",
       "4         0.972807  4.856560e+01  8.306165e+01    0.584693    117.249941  ...   \n",
       "...            ...           ...           ...         ...           ...  ...   \n",
       "56932   837.773000  6.091926e+06  1.016451e+06    0.149378 -34494.156123  ...   \n",
       "56933   931.136000  6.091317e+06  1.015520e+06    0.041401 -38026.455191  ...   \n",
       "56934  1322.860000  6.092553e+06  1.016843e+06    0.243949 -24033.310449  ...   \n",
       "56935   719.365000  6.091989e+06  1.016123e+06    0.088641 -23806.292957  ...   \n",
       "56936   284.746000  6.092229e+06  1.016408e+06    0.119197 -20393.190563  ...   \n",
       "\n",
       "       momentum_ppo  momentum_ppo_signal  momentum_ppo_hist  momentum_pvo  \\\n",
       "0          0.000000             0.000000           0.000000      0.000000   \n",
       "1          0.012014             0.002403           0.009611     -4.206887   \n",
       "2          0.037996             0.009521           0.028474    -10.948641   \n",
       "3          0.105301             0.028677           0.076624    -17.575002   \n",
       "4          0.176499             0.058242           0.118257    -24.417609   \n",
       "...             ...                  ...                ...           ...   \n",
       "56932     -0.048980            -0.002524          -0.046456    -34.974010   \n",
       "56933     -0.083761            -0.018771          -0.064989    -30.695292   \n",
       "56934     -0.103113            -0.035640          -0.067473    -23.274462   \n",
       "56935     -0.121914            -0.052895          -0.069019    -22.776470   \n",
       "56936     -0.135223            -0.069360          -0.065863    -26.466352   \n",
       "\n",
       "       momentum_pvo_signal  momentum_pvo_hist  momentum_kama  others_dr  \\\n",
       "0                 0.000000           0.000000    4308.830000   0.000000   \n",
       "1                -0.841377          -3.365510    4311.748390   0.150621   \n",
       "2                -2.862830          -8.085811    4317.391270   0.209254   \n",
       "3                -5.805264         -11.769737    4331.963869   0.592921   \n",
       "4                -9.527733         -14.889876    4344.787882   0.245978   \n",
       "...                    ...                ...            ...        ...   \n",
       "56932           -31.819334          -3.154677   51895.511703  -0.329986   \n",
       "56933           -31.594525           0.899234   51839.678083  -0.122922   \n",
       "56934           -29.930512           6.656051   51822.582390   0.087661   \n",
       "56935           -28.499704           5.723234   51803.512593  -0.060323   \n",
       "56936           -28.093034           1.626681   51788.973133   0.000580   \n",
       "\n",
       "       others_dlr    others_cr  \n",
       "0        0.000000     0.000000  \n",
       "1        0.150508     0.150621  \n",
       "2        0.209036     0.360191  \n",
       "3        0.591171     0.955248  \n",
       "4        0.245676     1.203575  \n",
       "...           ...          ...  \n",
       "56932   -0.330532  1100.790006  \n",
       "56933   -0.122998  1099.313967  \n",
       "56934    0.087623  1100.365296  \n",
       "56935   -0.060341  1099.641202  \n",
       "56936    0.000580  1099.648164  \n",
       "\n",
       "[56881 rows x 92 columns]"
      ]
     },
     "execution_count": 141,
     "metadata": {},
     "output_type": "execute_result"
    }
   ],
   "source": [
    "df"
   ]
  },
  {
   "cell_type": "code",
   "execution_count": 143,
   "metadata": {},
   "outputs": [],
   "source": [
    "import ta\n",
    "macd = ta.trend.MACD(df_btcusdt['close'])"
   ]
  },
  {
   "cell_type": "code",
   "execution_count": 144,
   "metadata": {},
   "outputs": [
    {
     "data": {
      "text/plain": [
       "<ta.trend.MACD at 0x25e26b156d0>"
      ]
     },
     "execution_count": 144,
     "metadata": {},
     "output_type": "execute_result"
    }
   ],
   "source": [
    "macd"
   ]
  },
  {
   "cell_type": "code",
   "execution_count": 145,
   "metadata": {},
   "outputs": [
    {
     "data": {
      "text/plain": [
       "timestamp\n",
       "2017-08-17            NaN\n",
       "2017-08-18            NaN\n",
       "2017-08-19            NaN\n",
       "2017-08-20            NaN\n",
       "2017-08-21            NaN\n",
       "                 ...     \n",
       "2024-02-13    1687.648428\n",
       "2024-02-14    1993.467049\n",
       "2024-02-15    2217.115631\n",
       "2024-02-16    2386.544969\n",
       "2024-02-17    2457.526417\n",
       "Freq: D, Name: MACD_12_26, Length: 2376, dtype: float64"
      ]
     },
     "execution_count": 145,
     "metadata": {},
     "output_type": "execute_result"
    }
   ],
   "source": [
    "macd.macd()"
   ]
  },
  {
   "cell_type": "code",
   "execution_count": 147,
   "metadata": {},
   "outputs": [
    {
     "data": {
      "text/plain": [
       "timestamp\n",
       "2017-08-17           NaN\n",
       "2017-08-18           NaN\n",
       "2017-08-19           NaN\n",
       "2017-08-20           NaN\n",
       "2017-08-21           NaN\n",
       "                 ...    \n",
       "2024-02-13    781.479671\n",
       "2024-02-14    869.838633\n",
       "2024-02-15    874.789773\n",
       "2024-02-16    835.375289\n",
       "2024-02-17    725.085389\n",
       "Freq: D, Name: MACD_diff_12_26, Length: 2376, dtype: float64"
      ]
     },
     "execution_count": 147,
     "metadata": {},
     "output_type": "execute_result"
    }
   ],
   "source": [
    "macd.macd_diff()"
   ]
  },
  {
   "cell_type": "code",
   "execution_count": 148,
   "metadata": {},
   "outputs": [
    {
     "data": {
      "text/plain": [
       "timestamp\n",
       "2017-08-17            NaN\n",
       "2017-08-18            NaN\n",
       "2017-08-19            NaN\n",
       "2017-08-20            NaN\n",
       "2017-08-21            NaN\n",
       "                 ...     \n",
       "2024-02-13     906.168757\n",
       "2024-02-14    1123.628416\n",
       "2024-02-15    1342.325859\n",
       "2024-02-16    1551.169681\n",
       "2024-02-17    1732.441028\n",
       "Freq: D, Name: MACD_sign_12_26, Length: 2376, dtype: float64"
      ]
     },
     "execution_count": 148,
     "metadata": {},
     "output_type": "execute_result"
    }
   ],
   "source": [
    "macd.macd_signal()"
   ]
  },
  {
   "cell_type": "code",
   "execution_count": null,
   "metadata": {},
   "outputs": [],
   "source": []
  }
 ],
 "metadata": {
  "kernelspec": {
   "display_name": "base",
   "language": "python",
   "name": "python3"
  },
  "language_info": {
   "codemirror_mode": {
    "name": "ipython",
    "version": 3
   },
   "file_extension": ".py",
   "mimetype": "text/x-python",
   "name": "python",
   "nbconvert_exporter": "python",
   "pygments_lexer": "ipython3",
   "version": "3.12.0"
  }
 },
 "nbformat": 4,
 "nbformat_minor": 2
}
