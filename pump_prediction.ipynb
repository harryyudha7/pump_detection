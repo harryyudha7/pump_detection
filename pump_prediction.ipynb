{
 "cells": [
  {
   "cell_type": "code",
   "execution_count": 1,
   "metadata": {},
   "outputs": [],
   "source": [
    "import pandas as pd\n",
    "import numpy as np\n",
    "import mysql.connector\n",
    "from mysql.connector import Error\n",
    "from datetime import datetime, timedelta\n",
    "import ccxt\n",
    "import ta\n",
    "from scipy import stats\n",
    "from sklearn import preprocessing\n",
    "\n",
    "import ccxt\n",
    "import ta\n",
    "from  pyearth import Earth\n",
    "import plotly.graph_objects as go\n",
    "import re\n",
    "from tqdm import tqdm\n",
    "\n",
    "from sklearn.ensemble import RandomForestClassifier"
   ]
  },
  {
   "cell_type": "code",
   "execution_count": 2,
   "metadata": {},
   "outputs": [],
   "source": [
    "def get_node_mars(model):\n",
    "    list_summary = model.summary().split('\\n')\n",
    "    new_list_summary = []\n",
    "                \n",
    "    for j in list_summary:\n",
    "        if 'Yes' not in j:\n",
    "            new_list_summary.append(j)\n",
    "\n",
    "    basis_function_numbers = []\n",
    "\n",
    "    for line in new_list_summary:\n",
    "        match = re.search(r'h\\(x0-([\\d.]+)\\)|h\\(([\\d.]+)-x0\\)|h\\(([\\d.]+)\\)\\s+No', line)\n",
    "        if match:\n",
    "            basis_function_numbers.extend(match.group(1, 2, 3))\n",
    "\n",
    "    basis_number = []\n",
    "    for i in basis_function_numbers:\n",
    "        if not i is None:\n",
    "            basis_number.append(float(i))\n",
    "    basis_number.sort()\n",
    "    return basis_number"
   ]
  },
  {
   "cell_type": "code",
   "execution_count": 3,
   "metadata": {},
   "outputs": [],
   "source": [
    "def create_db_connection(host_name, user_name, user_password, db_name):\n",
    "    connection = None\n",
    "    try:\n",
    "        connection = mysql.connector.connect(\n",
    "            host=host_name,\n",
    "            user=user_name,\n",
    "            passwd=user_password,\n",
    "            database=db_name\n",
    "        )\n",
    "        print(\"MySQL Database connection successful\")\n",
    "    except Error as err:\n",
    "        print(f\"Error: '{err}'\")\n",
    "\n",
    "    return connection\n",
    "\n",
    "def execute_query(connection, query, varlist=None):\n",
    "    cursor = connection.cursor(buffered=True)\n",
    "    try:\n",
    "        if varlist is None:\n",
    "            cursor.execute(query)\n",
    "        else:\n",
    "            cursor.execute(query, varlist)\n",
    "        connection.commit()\n",
    "        # print(\"Query successful\", end='\\r')\n",
    "        return cursor.fetchall()\n",
    "    except Error as err:\n",
    "        print(f\"Error: '{err}'\")\n",
    "\n",
    "def executemany_query(connection, query, varlist=None):\n",
    "    cursor = connection.cursor()\n",
    "    try:\n",
    "        if varlist is None:\n",
    "            cursor.executemany(query)\n",
    "        else:\n",
    "            cursor.executemany(query, varlist)\n",
    "        connection.commit()\n",
    "        # print(\"Query successful\", end='\\r')\n",
    "    except Error as err:\n",
    "        print(f\"Error: '{err}'\")"
   ]
  },
  {
   "cell_type": "code",
   "execution_count": 4,
   "metadata": {},
   "outputs": [
    {
     "name": "stdout",
     "output_type": "stream",
     "text": [
      "MySQL Database connection successful\n"
     ]
    }
   ],
   "source": [
    "pw = '27111998'\n",
    "db = 'crypto_db'\n",
    "connection = create_db_connection(\"localhost\", \"root\", pw, db)"
   ]
  },
  {
   "cell_type": "code",
   "execution_count": 5,
   "metadata": {},
   "outputs": [
    {
     "name": "stdout",
     "output_type": "stream",
     "text": [
      "604\n",
      "['1000SATS/USDT', '1INCH/BTC', '1INCH/USDT', 'AAVE/USDT', 'ACA/BTC', 'ACA/USDT', 'ACE/BTC', 'ACE/USDT', 'ACH/BTC', 'ACH/USDT', 'ACM/USDT', 'ADA/BTC', 'ADA/USDT', 'ADX/BTC', 'ADX/USDT', 'AERGO/USDT', 'AGIX/BTC', 'AGIX/USDT', 'AGLD/BTC', 'AGLD/USDT', 'AI/BTC', 'AI/USDT', 'AKRO/USDT', 'ALCX/BTC', 'ALCX/USDT', 'ALGO/BTC', 'ALGO/USDT', 'ALICE/BTC', 'ALICE/USDT', 'ALPACA/BTC', 'ALPACA/USDT', 'ALPHA/BTC', 'ALPHA/USDT', 'ALPINE/BTC', 'ALPINE/USDT', 'ALT/BTC', 'ALT/USDT', 'AMP/USDT', 'ANKR/BTC', 'ANKR/USDT', 'APE/BTC', 'APE/USDT', 'API3/BTC', 'API3/USDT', 'APT/BTC', 'APT/USDT', 'ARB/BTC', 'ARB/USDT', 'ARKM/BTC', 'ARKM/USDT', 'ARPA/BTC', 'ARPA/USDT', 'AR/BTC', 'AR/USDT', 'ASR/USDT', 'ASTR/USDT', 'AST/BTC', 'ATA/BTC', 'ATA/USDT', 'ATM/USDT', 'ATOM/BTC', 'ATOM/USDT', 'AUCTION/BTC', 'AUCTION/USDT', 'AUDIO/BTC', 'AUDIO/USDT', 'AVAX/BTC', 'AVAX/USDT', 'AVA/BTC', 'AVA/USDT', 'AXL/BTC', 'AXL/USDT', 'AXS/BTC', 'AXS/USDT', 'BADGER/BTC', 'BADGER/USDT', 'BAL/BTC', 'BAL/USDT', 'BAND/BTC', 'BAND/USDT', 'BAR/USDT', 'BAT/BTC', 'BAT/USDT', 'BCH/BTC', 'BCH/USDT', 'BEAMX/USDT', 'BEL/BTC', 'BEL/USDT', 'BETA/BTC', 'BETA/USDT', 'BICO/BTC', 'BICO/USDT', 'BIFI/USDT', 'BLUR/BTC', 'BLUR/USDT', 'BLZ/BTC', 'BLZ/USDT', 'BNB/BTC', 'BNB/USDT', 'BNT/BTC', 'BNT/USDT', 'BNX/BTC', 'BNX/USDT', 'BOND/BTC', 'BOND/USDT', 'BONK/USDT', 'BSW/USDT', 'BTC/USDT', 'BTTC/USDT', 'C98/BTC', 'C98/USDT', 'CAKE/USDT', 'CELO/BTC', 'CELO/USDT', 'CELR/BTC', 'CELR/USDT', 'CFX/BTC', 'CFX/USDT', 'CHESS/BTC', 'CHESS/USDT', 'CHR/BTC', 'CHR/USDT', 'CHZ/BTC', 'CHZ/USDT', 'CITY/USDT', 'CKB/USDT', 'CLV/BTC', 'CLV/USDT', 'COMBO/USDT', 'COMP/BTC', 'COMP/USDT', 'COS/BTC', 'COS/USDT', 'COTI/BTC', 'COTI/USDT', 'CREAM/USDT', 'CREO/USDT', 'CRV/BTC', 'CRV/USDT', 'CTK/BTC', 'CTK/USDT', 'CTSI/BTC', 'CTSI/USDT', 'CTXC/BTC', 'CTXC/USDT', 'CVP/USDT', 'CVX/USDT', 'CYBER/BTC', 'CYBER/USDT', 'DAR/BTC', 'DAR/USDT', 'DASH/BTC', 'DASH/USDT', 'DATA/BTC', 'DATA/USDT', 'DCR/BTC', 'DCR/USDT', 'DEGO/BTC', 'DEGO/USDT', 'DENT/USDT', 'DEXE/USDT', 'DF/USDT', 'DGB/BTC', 'DGB/USDT', 'DIA/BTC', 'DIA/USDT', 'DODO/BTC', 'DODO/USDT', 'DOGE/BTC', 'DOGE/USDT', 'DOT/BTC', 'DOT/USDT', 'DUSK/BTC', 'DUSK/USDT', 'DYDX/BTC', 'DYDX/USDT', 'DYM/BTC', 'DYM/USDT', 'EDU/BTC', 'EDU/USDT', 'EGLD/BTC', 'EGLD/USDT', 'ELF/BTC', 'ELF/USDT', 'ENJ/BTC', 'ENJ/USDT', 'ENS/BTC', 'ENS/USDT', 'EOS/BTC', 'EOS/USDT', 'EPX/USDT', 'ERN/USDT', 'ETC/BTC', 'ETC/USDT', 'ETH/BTC', 'ETH/USDT', 'FARM/USDT', 'FDUSD/USDT', 'FET/BTC', 'FET/USDT', 'FIDA/BTC', 'FIDA/USDT', 'FIL/BTC', 'FIL/USDT', 'FIO/BTC', 'FIO/USDT', 'FIRO/BTC', 'FIRO/USDT', 'FIS/BTC', 'FIS/USDT', 'FLM/BTC', 'FLM/USDT', 'FLOKI/USDT', 'FLOW/BTC', 'FLOW/USDT', 'FLUX/BTC', 'FLUX/USDT', 'FORTH/BTC', 'FORTH/USDT', 'FOR/BTC', 'FOR/USDT', 'FRONT/BTC', 'FRONT/USDT', 'FTM/BTC', 'FTM/USDT', 'FXS/BTC', 'FXS/USDT', 'GALA/BTC', 'GALA/USDT', 'GAL/BTC', 'GAL/USDT', 'GAS/BTC', 'GAS/USDT', 'GFT/USDT', 'GHST/USDT', 'GLMR/BTC', 'GLMR/USDT', 'GLM/BTC', 'GLM/USDT', 'GMT/BTC', 'GMT/USDT', 'GMX/BTC', 'GMX/USDT', 'GRT/BTC', 'GRT/USDT', 'GTC/BTC', 'GTC/USDT', 'HARD/BTC', 'HARD/USDT', 'HBAR/BTC', 'HBAR/USDT', 'HFT/BTC', 'HFT/USDT', 'HIFI/USDT', 'HIGH/BTC', 'HIGH/USDT', 'HIVE/BTC', 'HIVE/USDT', 'HOOK/BTC', 'HOOK/USDT', 'HOT/USDT', 'ICP/BTC', 'ICP/USDT', 'ICX/BTC', 'ICX/USDT', 'IDEX/BTC', 'IDEX/USDT', 'ID/BTC', 'ID/USDT', 'ILV/BTC', 'ILV/USDT', 'IMX/BTC', 'IMX/USDT', 'INJ/BTC', 'INJ/USDT', 'IOST/BTC', 'IOST/USDT', 'IOTA/BTC', 'IOTA/USDT', 'IOTX/BTC', 'IOTX/USDT', 'IQ/USDT', 'IRIS/BTC', 'IRIS/USDT', 'JASMY/USDT', 'JOE/BTC', 'JOE/USDT', 'JST/BTC', 'JST/USDT', 'JTO/USDT', 'JUP/USDT', 'KAVA/BTC', 'KAVA/USDT', 'KDA/BTC', 'KDA/USDT', 'KEY/USDT', 'KLAY/BTC', 'KLAY/USDT', 'KMD/BTC', 'KMD/USDT', 'KNC/BTC', 'KNC/USDT', 'KP3R/USDT', 'KSM/BTC', 'KSM/USDT', 'LAZIO/BTC', 'LAZIO/USDT', 'LDO/BTC', 'LDO/USDT', 'LEVER/USDT', 'LINA/BTC', 'LINA/USDT', 'LINK/BTC', 'LINK/USDT', 'LIT/BTC', 'LIT/USDT', 'LOKA/BTC', 'LOKA/USDT', 'LPT/BTC', 'LPT/USDT', 'LRC/BTC', 'LRC/USDT', 'LSK/BTC', 'LSK/USDT', 'LTC/BTC', 'LTC/USDT', 'LTO/BTC', 'LTO/USDT', 'LUNA/USDT', 'LUNC/USDT', 'MAGIC/BTC', 'MAGIC/USDT', 'MANA/BTC', 'MANA/USDT', 'MANTA/BTC', 'MANTA/USDT', 'MASK/USDT', 'MATIC/BTC', 'MATIC/USDT', 'MAV/BTC', 'MAV/USDT', 'MBL/USDT', 'MBOX/BTC', 'MBOX/USDT', 'MDT/BTC', 'MDT/USDT', 'MDX/BTC', 'MDX/USDT', 'MEME/USDT', 'MINA/BTC', 'MINA/USDT', 'MKR/BTC', 'MKR/USDT', 'MLN/BTC', 'MLN/USDT', 'MOB/BTC', 'MOB/USDT', 'MOVR/BTC', 'MOVR/USDT', 'MTL/BTC', 'MTL/USDT', 'NBT/USDT', 'NEAR/BTC', 'NEAR/USDT', 'NEO/BTC', 'NEO/USDT', 'NEXO/BTC', 'NEXO/USDT', 'NKN/BTC', 'NKN/USDT', 'NMR/BTC', 'NMR/USDT', 'NTRN/BTC', 'NTRN/USDT', 'NULS/BTC', 'NULS/USDT', 'OCEAN/BTC', 'OCEAN/USDT', 'OGN/BTC', 'OGN/USDT', 'OG/BTC', 'OG/USDT', 'OMG/USDT', 'OM/USDT', 'ONE/BTC', 'ONE/USDT', 'ONG/BTC', 'ONG/USDT', 'ONT/BTC', 'ONT/USDT', 'OOKI/USDT', 'OP/BTC', 'OP/USDT', 'ORDI/BTC', 'ORDI/USDT', 'ORN/BTC', 'ORN/USDT', 'OXT/BTC', 'OXT/USDT', 'PAXG/BTC', 'PAXG/USDT', 'PDA/BTC', 'PDA/USDT', 'PENDLE/BTC', 'PENDLE/USDT', 'PEOPLE/BTC', 'PEOPLE/USDT', 'PEPE/USDT', 'PERP/BTC', 'PERP/USDT', 'PHA/BTC', 'PHA/USDT', 'PIXEL/BTC', 'PIXEL/USDT', 'PNT/USDT', 'POLS/USDT', 'POLYX/BTC', 'POLYX/USDT', 'POND/BTC', 'POND/USDT', 'PORTAL/BTC', 'PORTAL/USDT', 'PORTO/BTC', 'PORTO/USDT', 'POWR/BTC', 'POWR/USDT', 'PROM/USDT', 'PSG/USDT', 'PYR/BTC', 'PYR/USDT', 'PYTH/BTC', 'PYTH/USDT', 'QI/BTC', 'QI/USDT', 'QNT/BTC', 'QNT/USDT', 'QTUM/BTC', 'QTUM/USDT', 'QUICK/BTC', 'QUICK/USDT', 'RAD/BTC', 'RAD/USDT', 'RARE/BTC', 'RARE/USDT', 'RAY/USDT', 'RDNT/BTC', 'RDNT/USDT', 'REEF/USDT', 'REI/USDT', 'REN/BTC', 'REN/USDT', 'REQ/BTC', 'REQ/USDT', 'RIF/BTC', 'RIF/USDT', 'RLC/BTC', 'RLC/USDT', 'RNDR/BTC', 'RNDR/USDT', 'RONIN/BTC', 'RONIN/USDT', 'ROSE/BTC', 'ROSE/USDT', 'RPL/USDT', 'RSR/USDT', 'RUNE/BTC', 'RUNE/USDT', 'RVN/BTC', 'RVN/USDT', 'SAND/BTC', 'SAND/USDT', 'SANTOS/BTC', 'SANTOS/USDT', 'SCRT/BTC', 'SCRT/USDT', 'SC/USDT', 'SEI/BTC', 'SEI/USDT', 'SFP/BTC', 'SFP/USDT', 'SHIB/USDT', 'SKL/BTC', 'SKL/USDT', 'SLP/USDT', 'SNT/BTC', 'SNX/BTC', 'SNX/USDT', 'SOL/BTC', 'SOL/USDT', 'SPELL/USDT', 'SSV/BTC', 'SSV/USDT', 'STEEM/BTC', 'STG/BTC', 'STG/USDT', 'STMX/USDT', 'STORJ/BTC', 'STORJ/USDT', 'STPT/BTC', 'STPT/USDT', 'STRAX/BTC', 'STRAX/USDT', 'STRK/BTC', 'STRK/USDT', 'STX/BTC', 'STX/USDT', 'SUI/BTC', 'SUI/USDT', 'SUN/USDT', 'SUPER/BTC', 'SUPER/USDT', 'SUSHI/BTC', 'SUSHI/USDT', 'SXP/BTC', 'SXP/USDT', 'SYS/BTC', 'SYS/USDT', 'TFUEL/BTC', 'TFUEL/USDT', 'THETA/BTC', 'THETA/USDT', 'TIA/BTC', 'TIA/USDT', 'TKO/BTC', 'TKO/USDT', 'TLM/BTC', 'TLM/USDT', 'TRB/BTC', 'TRB/USDT', 'TROY/USDT', 'TRU/BTC', 'TRU/USDT', 'TRX/BTC', 'TRX/USDT', 'TUSD/USDT', 'TWT/BTC', 'TWT/USDT', 'T/USDT', 'UFT/USDT', 'UMA/BTC', 'UMA/USDT', 'UNFI/BTC', 'UNFI/USDT', 'UNI/BTC', 'UNI/USDT', 'USDC/USDT', 'USTC/USDT', 'UTK/BTC', 'UTK/USDT', 'VANRY/BTC', 'VANRY/USDT', 'VELO/USDT', 'VET/BTC', 'VET/USDT', 'VGX/USDT', 'VIC/BTC', 'VIC/USDT', 'VIDT/BTC', 'VIDT/USDT', 'VITE/BTC', 'VITE/USDT', 'VOXEL/BTC', 'VOXEL/USDT', 'VTHO/USDT', 'WAN/BTC', 'WAN/USDT', 'WAVES/BTC', 'WAVES/USDT', 'WAXP/BTC', 'WAXP/USDT', 'WBTC/BTC', 'WIF/USDT', 'WING/BTC', 'WING/USDT', 'WIN/USDT', 'WLD/BTC', 'WLD/USDT', 'WOO/BTC', 'WOO/USDT', 'WRX/USDT', 'XAI/USDT', 'XEC/USDT', 'XEM/USDT', 'XLM/BTC', 'XLM/USDT', 'XNO/BTC', 'XNO/USDT', 'XRP/BTC', 'XRP/USDT', 'XTZ/BTC', 'XTZ/USDT', 'XVG/USDT', 'XVS/BTC', 'XVS/USDT', 'YFI/BTC', 'YFI/USDT', 'YGG/BTC', 'YGG/USDT', 'ZEN/BTC', 'ZEN/USDT', 'ZIL/BTC', 'ZIL/USDT', 'ZRX/BTC', 'ZRX/USDT']\n"
     ]
    }
   ],
   "source": [
    "exchange_id = 'tokocrypto'\n",
    "exchange_class = getattr(ccxt, exchange_id)\n",
    "exchange = exchange_class({\n",
    "    'apiKey': 'YOUR_API_KEY',\n",
    "    'secret': 'YOUR_SECRET',\n",
    "})\n",
    "markets = exchange.load_markets()\n",
    "market_list = list(markets.keys())\n",
    "considered_market = []\n",
    "for i in market_list:\n",
    "    if '/USDT' in i or '/BTC' in i:\n",
    "        considered_market.append(i)\n",
    "\n",
    "print(len(considered_market))\n",
    "print(considered_market)"
   ]
  },
  {
   "cell_type": "code",
   "execution_count": 8,
   "metadata": {},
   "outputs": [
    {
     "name": "stderr",
     "output_type": "stream",
     "text": [
      "  0%|          | 0/604 [00:00<?, ?it/s]"
     ]
    },
    {
     "name": "stderr",
     "output_type": "stream",
     "text": [
      "  0%|          | 2/604 [00:00<00:43, 13.68it/s]"
     ]
    },
    {
     "name": "stdout",
     "output_type": "stream",
     "text": [
      "Error: '1146 (42S02): Table 'crypto_db.1000satsusdt' doesn't exist'\n",
      "Error:  max() arg is an empty sequence\n",
      "Error:  1INCHBTC Database not up to date\n"
     ]
    },
    {
     "name": "stderr",
     "output_type": "stream",
     "text": [
      "  1%|          | 5/604 [00:24<50:03,  5.01s/it]  "
     ]
    },
    {
     "name": "stdout",
     "output_type": "stream",
     "text": [
      "Error:  ACABTC Database not up to date\n"
     ]
    },
    {
     "name": "stderr",
     "output_type": "stream",
     "text": [
      "  1%|          | 6/604 [00:31<57:59,  5.82s/it]"
     ]
    },
    {
     "name": "stdout",
     "output_type": "stream",
     "text": [
      "Error:  ACEBTC Database not up to date\n"
     ]
    },
    {
     "name": "stderr",
     "output_type": "stream",
     "text": [
      "  1%|▏         | 9/604 [00:38<35:02,  3.53s/it]"
     ]
    },
    {
     "name": "stdout",
     "output_type": "stream",
     "text": [
      "Error:  ACHBTC Database not up to date\n"
     ]
    },
    {
     "name": "stderr",
     "output_type": "stream",
     "text": [
      "  2%|▏         | 12/604 [00:45<24:49,  2.52s/it]"
     ]
    },
    {
     "name": "stdout",
     "output_type": "stream",
     "text": [
      "Error:  ADABTC Database not up to date\n"
     ]
    },
    {
     "name": "stderr",
     "output_type": "stream",
     "text": [
      "  2%|▏         | 14/604 [00:48<20:06,  2.04s/it]"
     ]
    },
    {
     "name": "stdout",
     "output_type": "stream",
     "text": [
      "Error:  ADXBTC Database not up to date\n"
     ]
    },
    {
     "name": "stderr",
     "output_type": "stream",
     "text": [
      "  3%|▎         | 17/604 [00:59<26:49,  2.74s/it]"
     ]
    },
    {
     "name": "stdout",
     "output_type": "stream",
     "text": [
      "Error:  AGIXBTC Database not up to date\n"
     ]
    },
    {
     "name": "stderr",
     "output_type": "stream",
     "text": [
      "  3%|▎         | 19/604 [01:01<16:30,  1.69s/it]"
     ]
    },
    {
     "name": "stdout",
     "output_type": "stream",
     "text": [
      "Error:  AGLDBTC Database not up to date\n"
     ]
    },
    {
     "name": "stderr",
     "output_type": "stream",
     "text": [
      "  3%|▎         | 20/604 [01:09<36:10,  3.72s/it]"
     ]
    },
    {
     "name": "stdout",
     "output_type": "stream",
     "text": [
      "Error:  AIBTC Database not up to date\n"
     ]
    },
    {
     "name": "stderr",
     "output_type": "stream",
     "text": [
      "  4%|▍         | 24/604 [01:16<21:07,  2.19s/it]"
     ]
    },
    {
     "name": "stdout",
     "output_type": "stream",
     "text": [
      "Error:  ALCXBTC Database not up to date\n"
     ]
    },
    {
     "name": "stderr",
     "output_type": "stream",
     "text": [
      "  4%|▍         | 26/604 [01:29<34:59,  3.63s/it]"
     ]
    },
    {
     "name": "stdout",
     "output_type": "stream",
     "text": [
      "Error:  ALGOBTC Database not up to date\n"
     ]
    },
    {
     "name": "stderr",
     "output_type": "stream",
     "text": [
      "  5%|▍         | 28/604 [01:33<26:15,  2.74s/it]"
     ]
    },
    {
     "name": "stdout",
     "output_type": "stream",
     "text": [
      "Error:  ALICEBTC Database not up to date\n"
     ]
    },
    {
     "name": "stderr",
     "output_type": "stream",
     "text": [
      "  5%|▍         | 30/604 [01:36<18:34,  1.94s/it]"
     ]
    },
    {
     "name": "stdout",
     "output_type": "stream",
     "text": [
      "Error:  ALPACABTC Database not up to date\n"
     ]
    },
    {
     "name": "stderr",
     "output_type": "stream",
     "text": [
      "  5%|▌         | 32/604 [02:11<1:19:37,  8.35s/it]"
     ]
    },
    {
     "name": "stdout",
     "output_type": "stream",
     "text": [
      "Error:  ALPHABTC Database not up to date\n"
     ]
    },
    {
     "name": "stderr",
     "output_type": "stream",
     "text": [
      "  6%|▌         | 34/604 [02:16<48:04,  5.06s/it]  "
     ]
    },
    {
     "name": "stdout",
     "output_type": "stream",
     "text": [
      "Error:  ALPINEBTC Database not up to date\n"
     ]
    },
    {
     "name": "stderr",
     "output_type": "stream",
     "text": [
      "  6%|▌         | 35/604 [02:19<41:57,  4.42s/it]"
     ]
    },
    {
     "name": "stdout",
     "output_type": "stream",
     "text": [
      "Error:  ALTBTC Database not up to date\n"
     ]
    },
    {
     "name": "stderr",
     "output_type": "stream",
     "text": [
      "  6%|▋         | 39/604 [02:24<20:53,  2.22s/it]"
     ]
    },
    {
     "name": "stdout",
     "output_type": "stream",
     "text": [
      "Error:  ANKRBTC Database not up to date\n"
     ]
    },
    {
     "name": "stderr",
     "output_type": "stream",
     "text": [
      "  7%|▋         | 41/604 [02:27<16:30,  1.76s/it]"
     ]
    },
    {
     "name": "stdout",
     "output_type": "stream",
     "text": [
      "Error:  APEBTC Database not up to date\n"
     ]
    },
    {
     "name": "stderr",
     "output_type": "stream",
     "text": [
      "  7%|▋         | 43/604 [02:32<17:52,  1.91s/it]"
     ]
    },
    {
     "name": "stdout",
     "output_type": "stream",
     "text": [
      "Error:  API3BTC Database not up to date\n"
     ]
    },
    {
     "name": "stderr",
     "output_type": "stream",
     "text": [
      "  7%|▋         | 45/604 [02:35<14:49,  1.59s/it]"
     ]
    },
    {
     "name": "stdout",
     "output_type": "stream",
     "text": [
      "Error:  APTBTC Database not up to date\n"
     ]
    },
    {
     "name": "stderr",
     "output_type": "stream",
     "text": [
      "  8%|▊         | 46/604 [02:47<45:18,  4.87s/it]"
     ]
    },
    {
     "name": "stdout",
     "output_type": "stream",
     "text": [
      "Error:  ARBBTC Database not up to date\n"
     ]
    },
    {
     "name": "stderr",
     "output_type": "stream",
     "text": [
      "  8%|▊         | 48/604 [02:50<31:10,  3.36s/it]"
     ]
    },
    {
     "name": "stdout",
     "output_type": "stream",
     "text": [
      "Error:  ARKMBTC Database not up to date\n"
     ]
    },
    {
     "name": "stderr",
     "output_type": "stream",
     "text": [
      "  8%|▊         | 51/604 [02:52<16:35,  1.80s/it]"
     ]
    },
    {
     "name": "stdout",
     "output_type": "stream",
     "text": [
      "Error:  ARPABTC Database not up to date\n"
     ]
    },
    {
     "name": "stderr",
     "output_type": "stream",
     "text": [
      "  9%|▉         | 53/604 [03:01<24:45,  2.70s/it]"
     ]
    },
    {
     "name": "stdout",
     "output_type": "stream",
     "text": [
      "Error:  ARBTC Database not up to date\n"
     ]
    },
    {
     "name": "stderr",
     "output_type": "stream",
     "text": [
      "  9%|▉         | 57/604 [03:19<32:42,  3.59s/it]"
     ]
    },
    {
     "name": "stdout",
     "output_type": "stream",
     "text": [
      "Error:  ASTBTC Database not up to date\n"
     ]
    },
    {
     "name": "stderr",
     "output_type": "stream",
     "text": [
      " 10%|▉         | 58/604 [03:19<23:40,  2.60s/it]"
     ]
    },
    {
     "name": "stdout",
     "output_type": "stream",
     "text": [
      "Error:  ATABTC Database not up to date\n"
     ]
    },
    {
     "name": "stderr",
     "output_type": "stream",
     "text": [
      " 10%|█         | 61/604 [03:32<30:42,  3.39s/it]"
     ]
    },
    {
     "name": "stdout",
     "output_type": "stream",
     "text": [
      "Error:  ATOMBTC Database not up to date\n"
     ]
    },
    {
     "name": "stderr",
     "output_type": "stream",
     "text": [
      " 10%|█         | 63/604 [03:42<35:40,  3.96s/it]"
     ]
    },
    {
     "name": "stdout",
     "output_type": "stream",
     "text": [
      "Error:  AUCTIONBTC Database not up to date\n"
     ]
    },
    {
     "name": "stderr",
     "output_type": "stream",
     "text": [
      " 11%|█         | 65/604 [03:55<41:08,  4.58s/it]"
     ]
    },
    {
     "name": "stdout",
     "output_type": "stream",
     "text": [
      "Error:  AUDIOBTC Database not up to date\n"
     ]
    },
    {
     "name": "stderr",
     "output_type": "stream",
     "text": [
      " 11%|█         | 67/604 [04:00<30:38,  3.42s/it]"
     ]
    },
    {
     "name": "stdout",
     "output_type": "stream",
     "text": [
      "Error:  AVAXBTC Database not up to date\n"
     ]
    },
    {
     "name": "stderr",
     "output_type": "stream",
     "text": [
      " 11%|█▏        | 69/604 [04:10<32:25,  3.64s/it]"
     ]
    },
    {
     "name": "stdout",
     "output_type": "stream",
     "text": [
      "Error:  AVABTC Database not up to date\n"
     ]
    },
    {
     "name": "stderr",
     "output_type": "stream",
     "text": [
      " 12%|█▏        | 70/604 [04:14<34:39,  3.89s/it]"
     ]
    },
    {
     "name": "stdout",
     "output_type": "stream",
     "text": [
      "Error: '1146 (42S02): Table 'crypto_db.axlbtc' doesn't exist'\n",
      "Error:  max() arg is an empty sequence\n",
      "Error: '1146 (42S02): Table 'crypto_db.axlusdt' doesn't exist'\n",
      "Error:  max() arg is an empty sequence\n"
     ]
    },
    {
     "name": "stderr",
     "output_type": "stream",
     "text": [
      " 12%|█▏        | 73/604 [04:14<15:29,  1.75s/it]"
     ]
    },
    {
     "name": "stdout",
     "output_type": "stream",
     "text": [
      "Error:  AXSBTC Database not up to date\n"
     ]
    },
    {
     "name": "stderr",
     "output_type": "stream",
     "text": [
      " 12%|█▏        | 75/604 [04:29<30:56,  3.51s/it]"
     ]
    },
    {
     "name": "stdout",
     "output_type": "stream",
     "text": [
      "Error:  BADGERBTC Database not up to date\n"
     ]
    },
    {
     "name": "stderr",
     "output_type": "stream",
     "text": [
      " 13%|█▎        | 77/604 [04:36<28:10,  3.21s/it]"
     ]
    },
    {
     "name": "stdout",
     "output_type": "stream",
     "text": [
      "Error:  BALBTC Database not up to date\n"
     ]
    },
    {
     "name": "stderr",
     "output_type": "stream",
     "text": [
      " 13%|█▎        | 79/604 [04:41<23:25,  2.68s/it]"
     ]
    },
    {
     "name": "stdout",
     "output_type": "stream",
     "text": [
      "Error:  BANDBTC Database not up to date\n"
     ]
    },
    {
     "name": "stderr",
     "output_type": "stream",
     "text": [
      " 14%|█▎        | 82/604 [04:59<37:01,  4.26s/it]"
     ]
    },
    {
     "name": "stdout",
     "output_type": "stream",
     "text": [
      "Error:  BATBTC Database not up to date\n"
     ]
    },
    {
     "name": "stderr",
     "output_type": "stream",
     "text": [
      " 14%|█▍        | 84/604 [05:07<33:30,  3.87s/it]"
     ]
    },
    {
     "name": "stdout",
     "output_type": "stream",
     "text": [
      "Error:  BCHBTC Database not up to date\n"
     ]
    },
    {
     "name": "stderr",
     "output_type": "stream",
     "text": [
      " 14%|█▍        | 87/604 [05:12<18:19,  2.13s/it]"
     ]
    },
    {
     "name": "stdout",
     "output_type": "stream",
     "text": [
      "Error:  BELBTC Database not up to date\n"
     ]
    },
    {
     "name": "stderr",
     "output_type": "stream",
     "text": [
      " 15%|█▍        | 89/604 [05:20<22:36,  2.63s/it]"
     ]
    },
    {
     "name": "stdout",
     "output_type": "stream",
     "text": [
      "Error:  BETABTC Database not up to date\n"
     ]
    },
    {
     "name": "stderr",
     "output_type": "stream",
     "text": [
      " 15%|█▌        | 91/604 [05:25<19:55,  2.33s/it]"
     ]
    },
    {
     "name": "stdout",
     "output_type": "stream",
     "text": [
      "Error:  BICOBTC Database not up to date\n"
     ]
    },
    {
     "name": "stderr",
     "output_type": "stream",
     "text": [
      " 15%|█▌        | 93/604 [05:45<55:15,  6.49s/it]"
     ]
    },
    {
     "name": "stdout",
     "output_type": "stream",
     "text": [
      "Error:  BLURBTC Database not up to date\n"
     ]
    },
    {
     "name": "stderr",
     "output_type": "stream",
     "text": [
      " 16%|█▌        | 96/604 [05:53<34:34,  4.08s/it]"
     ]
    },
    {
     "name": "stdout",
     "output_type": "stream",
     "text": [
      "Error:  BLZBTC Database not up to date\n"
     ]
    },
    {
     "name": "stderr",
     "output_type": "stream",
     "text": [
      " 16%|█▌        | 98/604 [06:19<1:01:14,  7.26s/it]"
     ]
    },
    {
     "name": "stdout",
     "output_type": "stream",
     "text": [
      "Error:  BNBBTC Database not up to date\n"
     ]
    },
    {
     "name": "stderr",
     "output_type": "stream",
     "text": [
      " 17%|█▋        | 100/604 [06:22<37:05,  4.42s/it] "
     ]
    },
    {
     "name": "stdout",
     "output_type": "stream",
     "text": [
      "Error:  BNTBTC Database not up to date\n"
     ]
    },
    {
     "name": "stderr",
     "output_type": "stream",
     "text": [
      " 17%|█▋        | 102/604 [06:31<33:01,  3.95s/it]"
     ]
    },
    {
     "name": "stdout",
     "output_type": "stream",
     "text": [
      "Error:  BNXBTC Database not up to date\n"
     ]
    },
    {
     "name": "stderr",
     "output_type": "stream",
     "text": [
      " 17%|█▋        | 104/604 [06:35<23:57,  2.87s/it]"
     ]
    },
    {
     "name": "stdout",
     "output_type": "stream",
     "text": [
      "Error:  BONDBTC Database not up to date\n"
     ]
    },
    {
     "name": "stderr",
     "output_type": "stream",
     "text": [
      " 18%|█▊        | 110/604 [07:00<22:37,  2.75s/it]"
     ]
    },
    {
     "name": "stdout",
     "output_type": "stream",
     "text": [
      "Error:  C98BTC Database not up to date\n"
     ]
    },
    {
     "name": "stderr",
     "output_type": "stream",
     "text": [
      " 19%|█▊        | 113/604 [07:06<18:14,  2.23s/it]"
     ]
    },
    {
     "name": "stdout",
     "output_type": "stream",
     "text": [
      "Error:  CELOBTC Database not up to date\n"
     ]
    },
    {
     "name": "stderr",
     "output_type": "stream",
     "text": [
      " 19%|█▉        | 115/604 [07:11<16:54,  2.07s/it]"
     ]
    },
    {
     "name": "stdout",
     "output_type": "stream",
     "text": [
      "Error:  CELRBTC Database not up to date\n"
     ]
    },
    {
     "name": "stderr",
     "output_type": "stream",
     "text": [
      " 19%|█▉        | 117/604 [07:14<13:45,  1.69s/it]"
     ]
    },
    {
     "name": "stdout",
     "output_type": "stream",
     "text": [
      "Error:  CFXBTC Database not up to date\n"
     ]
    },
    {
     "name": "stderr",
     "output_type": "stream",
     "text": [
      " 20%|█▉        | 119/604 [07:17<12:09,  1.50s/it]"
     ]
    },
    {
     "name": "stdout",
     "output_type": "stream",
     "text": [
      "Error:  CHESSBTC Database not up to date\n"
     ]
    },
    {
     "name": "stderr",
     "output_type": "stream",
     "text": [
      " 20%|██        | 121/604 [07:23<16:05,  2.00s/it]"
     ]
    },
    {
     "name": "stdout",
     "output_type": "stream",
     "text": [
      "Error:  CHRBTC Database not up to date\n"
     ]
    },
    {
     "name": "stderr",
     "output_type": "stream",
     "text": [
      " 20%|██        | 123/604 [07:25<11:14,  1.40s/it]"
     ]
    },
    {
     "name": "stdout",
     "output_type": "stream",
     "text": [
      "Error:  CHZBTC Database not up to date\n"
     ]
    },
    {
     "name": "stderr",
     "output_type": "stream",
     "text": [
      " 21%|██        | 127/604 [07:34<13:14,  1.67s/it]"
     ]
    },
    {
     "name": "stdout",
     "output_type": "stream",
     "text": [
      "Error:  CLVBTC Database not up to date\n"
     ]
    },
    {
     "name": "stderr",
     "output_type": "stream",
     "text": [
      " 22%|██▏       | 130/604 [07:44<18:55,  2.40s/it]"
     ]
    },
    {
     "name": "stdout",
     "output_type": "stream",
     "text": [
      "Error:  COMPBTC Database not up to date\n"
     ]
    },
    {
     "name": "stderr",
     "output_type": "stream",
     "text": [
      " 22%|██▏       | 132/604 [07:48<16:07,  2.05s/it]"
     ]
    },
    {
     "name": "stdout",
     "output_type": "stream",
     "text": [
      "Error:  COSBTC Database not up to date\n"
     ]
    },
    {
     "name": "stderr",
     "output_type": "stream",
     "text": [
      " 22%|██▏       | 134/604 [07:53<16:52,  2.16s/it]"
     ]
    },
    {
     "name": "stdout",
     "output_type": "stream",
     "text": [
      "Error:  COTIBTC Database not up to date\n"
     ]
    },
    {
     "name": "stderr",
     "output_type": "stream",
     "text": [
      " 23%|██▎       | 138/604 [08:01<14:10,  1.83s/it]"
     ]
    },
    {
     "name": "stdout",
     "output_type": "stream",
     "text": [
      "Error:  max() arg is an empty sequence\n",
      "Error:  CRVBTC Database not up to date\n"
     ]
    },
    {
     "name": "stderr",
     "output_type": "stream",
     "text": [
      " 23%|██▎       | 140/604 [08:05<13:01,  1.68s/it]"
     ]
    },
    {
     "name": "stdout",
     "output_type": "stream",
     "text": [
      "Error:  CTKBTC Database not up to date\n"
     ]
    },
    {
     "name": "stderr",
     "output_type": "stream",
     "text": [
      " 24%|██▎       | 142/604 [08:08<11:54,  1.55s/it]"
     ]
    },
    {
     "name": "stdout",
     "output_type": "stream",
     "text": [
      "Error:  CTSIBTC Database not up to date\n"
     ]
    },
    {
     "name": "stderr",
     "output_type": "stream",
     "text": [
      " 24%|██▍       | 144/604 [08:11<10:31,  1.37s/it]"
     ]
    },
    {
     "name": "stdout",
     "output_type": "stream",
     "text": [
      "Error:  CTXCBTC Database not up to date\n"
     ]
    },
    {
     "name": "stderr",
     "output_type": "stream",
     "text": [
      " 24%|██▍       | 147/604 [08:20<19:06,  2.51s/it]"
     ]
    },
    {
     "name": "stdout",
     "output_type": "stream",
     "text": [
      "Error:  CYBERBTC Database not up to date\n"
     ]
    },
    {
     "name": "stderr",
     "output_type": "stream",
     "text": [
      " 25%|██▍       | 150/604 [08:26<16:00,  2.11s/it]"
     ]
    },
    {
     "name": "stdout",
     "output_type": "stream",
     "text": [
      "Error:  DARBTC Database not up to date\n"
     ]
    },
    {
     "name": "stderr",
     "output_type": "stream",
     "text": [
      " 25%|██▌       | 152/604 [08:31<15:11,  2.02s/it]"
     ]
    },
    {
     "name": "stdout",
     "output_type": "stream",
     "text": [
      "Error:  DASHBTC Database not up to date\n"
     ]
    },
    {
     "name": "stderr",
     "output_type": "stream",
     "text": [
      " 25%|██▌       | 154/604 [08:37<17:16,  2.30s/it]"
     ]
    },
    {
     "name": "stdout",
     "output_type": "stream",
     "text": [
      "Error:  DATABTC Database not up to date\n"
     ]
    },
    {
     "name": "stderr",
     "output_type": "stream",
     "text": [
      " 26%|██▌       | 156/604 [08:43<17:46,  2.38s/it]"
     ]
    },
    {
     "name": "stdout",
     "output_type": "stream",
     "text": [
      "Error:  DCRBTC Database not up to date\n"
     ]
    },
    {
     "name": "stderr",
     "output_type": "stream",
     "text": [
      " 26%|██▌       | 158/604 [08:54<26:03,  3.51s/it]"
     ]
    },
    {
     "name": "stdout",
     "output_type": "stream",
     "text": [
      "Error:  DEGOBTC Database not up to date\n"
     ]
    },
    {
     "name": "stderr",
     "output_type": "stream",
     "text": [
      " 27%|██▋       | 163/604 [09:25<37:22,  5.09s/it]"
     ]
    },
    {
     "name": "stdout",
     "output_type": "stream",
     "text": [
      "Error:  DGBBTC Database not up to date\n"
     ]
    },
    {
     "name": "stderr",
     "output_type": "stream",
     "text": [
      " 27%|██▋       | 165/604 [09:28<23:12,  3.17s/it]"
     ]
    },
    {
     "name": "stdout",
     "output_type": "stream",
     "text": [
      "Error:  DIABTC Database not up to date\n"
     ]
    },
    {
     "name": "stderr",
     "output_type": "stream",
     "text": [
      " 28%|██▊       | 167/604 [09:39<27:35,  3.79s/it]"
     ]
    },
    {
     "name": "stdout",
     "output_type": "stream",
     "text": [
      "Error:  DODOBTC Database not up to date\n"
     ]
    },
    {
     "name": "stderr",
     "output_type": "stream",
     "text": [
      " 28%|██▊       | 169/604 [09:44<20:53,  2.88s/it]"
     ]
    },
    {
     "name": "stdout",
     "output_type": "stream",
     "text": [
      "Error:  DOGEBTC Database not up to date\n"
     ]
    },
    {
     "name": "stderr",
     "output_type": "stream",
     "text": [
      " 28%|██▊       | 171/604 [09:46<14:30,  2.01s/it]"
     ]
    },
    {
     "name": "stdout",
     "output_type": "stream",
     "text": [
      "Error:  DOTBTC Database not up to date\n"
     ]
    },
    {
     "name": "stderr",
     "output_type": "stream",
     "text": [
      " 29%|██▊       | 173/604 [09:50<13:17,  1.85s/it]"
     ]
    },
    {
     "name": "stdout",
     "output_type": "stream",
     "text": [
      "Error:  DUSKBTC Database not up to date\n"
     ]
    },
    {
     "name": "stderr",
     "output_type": "stream",
     "text": [
      " 29%|██▉       | 175/604 [09:53<11:09,  1.56s/it]"
     ]
    },
    {
     "name": "stdout",
     "output_type": "stream",
     "text": [
      "Error:  DYDXBTC Database not up to date\n"
     ]
    },
    {
     "name": "stderr",
     "output_type": "stream",
     "text": [
      " 29%|██▉       | 176/604 [09:58<17:41,  2.48s/it]"
     ]
    },
    {
     "name": "stdout",
     "output_type": "stream",
     "text": [
      "Error:  DYMBTC Database not up to date\n"
     ]
    },
    {
     "name": "stderr",
     "output_type": "stream",
     "text": [
      " 29%|██▉       | 178/604 [10:02<16:35,  2.34s/it]"
     ]
    },
    {
     "name": "stdout",
     "output_type": "stream",
     "text": [
      "Error:  EDUBTC Database not up to date\n"
     ]
    },
    {
     "name": "stderr",
     "output_type": "stream",
     "text": [
      " 30%|██▉       | 181/604 [10:05<10:17,  1.46s/it]"
     ]
    },
    {
     "name": "stdout",
     "output_type": "stream",
     "text": [
      "Error:  EGLDBTC Database not up to date\n"
     ]
    },
    {
     "name": "stderr",
     "output_type": "stream",
     "text": [
      " 30%|███       | 183/604 [10:13<16:33,  2.36s/it]"
     ]
    },
    {
     "name": "stdout",
     "output_type": "stream",
     "text": [
      "Error:  ELFBTC Database not up to date\n"
     ]
    },
    {
     "name": "stderr",
     "output_type": "stream",
     "text": [
      " 31%|███       | 185/604 [10:17<14:54,  2.13s/it]"
     ]
    },
    {
     "name": "stdout",
     "output_type": "stream",
     "text": [
      "Error:  ENJBTC Database not up to date\n"
     ]
    },
    {
     "name": "stderr",
     "output_type": "stream",
     "text": [
      " 31%|███       | 187/604 [10:22<14:33,  2.09s/it]"
     ]
    },
    {
     "name": "stdout",
     "output_type": "stream",
     "text": [
      "Error:  ENSBTC Database not up to date\n"
     ]
    },
    {
     "name": "stderr",
     "output_type": "stream",
     "text": [
      " 31%|███▏      | 189/604 [10:26<12:18,  1.78s/it]"
     ]
    },
    {
     "name": "stdout",
     "output_type": "stream",
     "text": [
      "Error:  EOSBTC Database not up to date\n"
     ]
    },
    {
     "name": "stderr",
     "output_type": "stream",
     "text": [
      " 32%|███▏      | 193/604 [10:41<18:28,  2.70s/it]"
     ]
    },
    {
     "name": "stdout",
     "output_type": "stream",
     "text": [
      "Error:  ETCBTC Database not up to date\n"
     ]
    },
    {
     "name": "stderr",
     "output_type": "stream",
     "text": [
      " 32%|███▏      | 195/604 [10:46<16:02,  2.35s/it]"
     ]
    },
    {
     "name": "stdout",
     "output_type": "stream",
     "text": [
      "Error:  ETHBTC Database not up to date\n"
     ]
    },
    {
     "name": "stderr",
     "output_type": "stream",
     "text": [
      " 33%|███▎      | 199/604 [11:38<1:10:02, 10.38s/it]"
     ]
    },
    {
     "name": "stdout",
     "output_type": "stream",
     "text": [
      "Error:  FETBTC Database not up to date\n"
     ]
    },
    {
     "name": "stderr",
     "output_type": "stream",
     "text": [
      " 33%|███▎      | 201/604 [11:40<36:59,  5.51s/it]  "
     ]
    },
    {
     "name": "stdout",
     "output_type": "stream",
     "text": [
      "Error:  FIDABTC Database not up to date\n"
     ]
    },
    {
     "name": "stderr",
     "output_type": "stream",
     "text": [
      " 34%|███▎      | 203/604 [11:46<25:59,  3.89s/it]"
     ]
    },
    {
     "name": "stdout",
     "output_type": "stream",
     "text": [
      "Error:  FILBTC Database not up to date\n"
     ]
    },
    {
     "name": "stderr",
     "output_type": "stream",
     "text": [
      " 34%|███▍      | 205/604 [11:49<18:07,  2.73s/it]"
     ]
    },
    {
     "name": "stdout",
     "output_type": "stream",
     "text": [
      "Error:  FIOBTC Database not up to date\n"
     ]
    },
    {
     "name": "stderr",
     "output_type": "stream",
     "text": [
      " 34%|███▍      | 207/604 [11:56<17:38,  2.67s/it]"
     ]
    },
    {
     "name": "stdout",
     "output_type": "stream",
     "text": [
      "Error:  FIROBTC Database not up to date\n"
     ]
    },
    {
     "name": "stderr",
     "output_type": "stream",
     "text": [
      " 35%|███▍      | 209/604 [12:02<17:26,  2.65s/it]"
     ]
    },
    {
     "name": "stdout",
     "output_type": "stream",
     "text": [
      "Error:  FISBTC Database not up to date\n"
     ]
    },
    {
     "name": "stderr",
     "output_type": "stream",
     "text": [
      " 35%|███▍      | 211/604 [12:07<15:30,  2.37s/it]"
     ]
    },
    {
     "name": "stdout",
     "output_type": "stream",
     "text": [
      "Error:  FLMBTC Database not up to date\n"
     ]
    },
    {
     "name": "stderr",
     "output_type": "stream",
     "text": [
      " 35%|███▌      | 214/604 [12:13<11:43,  1.80s/it]"
     ]
    },
    {
     "name": "stdout",
     "output_type": "stream",
     "text": [
      "Error:  FLOWBTC Database not up to date\n"
     ]
    },
    {
     "name": "stderr",
     "output_type": "stream",
     "text": [
      " 36%|███▌      | 216/604 [12:18<11:57,  1.85s/it]"
     ]
    },
    {
     "name": "stdout",
     "output_type": "stream",
     "text": [
      "Error:  FLUXBTC Database not up to date\n"
     ]
    },
    {
     "name": "stderr",
     "output_type": "stream",
     "text": [
      " 36%|███▌      | 218/604 [12:20<09:24,  1.46s/it]"
     ]
    },
    {
     "name": "stdout",
     "output_type": "stream",
     "text": [
      "Error:  FORTHBTC Database not up to date\n"
     ]
    },
    {
     "name": "stderr",
     "output_type": "stream",
     "text": [
      " 36%|███▋      | 220/604 [12:25<11:40,  1.83s/it]"
     ]
    },
    {
     "name": "stdout",
     "output_type": "stream",
     "text": [
      "Error:  FORBTC Database not up to date\n"
     ]
    },
    {
     "name": "stderr",
     "output_type": "stream",
     "text": [
      " 37%|███▋      | 222/604 [12:35<19:14,  3.02s/it]"
     ]
    },
    {
     "name": "stdout",
     "output_type": "stream",
     "text": [
      "Error:  FRONTBTC Database not up to date\n"
     ]
    },
    {
     "name": "stderr",
     "output_type": "stream",
     "text": [
      " 37%|███▋      | 224/604 [12:38<12:57,  2.05s/it]"
     ]
    },
    {
     "name": "stdout",
     "output_type": "stream",
     "text": [
      "Error:  FTMBTC Database not up to date\n"
     ]
    },
    {
     "name": "stderr",
     "output_type": "stream",
     "text": [
      " 37%|███▋      | 226/604 [12:45<16:03,  2.55s/it]"
     ]
    },
    {
     "name": "stdout",
     "output_type": "stream",
     "text": [
      "Error:  FXSBTC Database not up to date\n"
     ]
    },
    {
     "name": "stderr",
     "output_type": "stream",
     "text": [
      " 38%|███▊      | 228/604 [13:22<56:55,  9.08s/it]  "
     ]
    },
    {
     "name": "stdout",
     "output_type": "stream",
     "text": [
      "Error:  GALABTC Database not up to date\n"
     ]
    },
    {
     "name": "stderr",
     "output_type": "stream",
     "text": [
      " 38%|███▊      | 230/604 [13:26<32:46,  5.26s/it]"
     ]
    },
    {
     "name": "stdout",
     "output_type": "stream",
     "text": [
      "Error:  GALBTC Database not up to date\n"
     ]
    },
    {
     "name": "stderr",
     "output_type": "stream",
     "text": [
      " 38%|███▊      | 232/604 [13:30<20:55,  3.37s/it]"
     ]
    },
    {
     "name": "stdout",
     "output_type": "stream",
     "text": [
      "Error:  GASBTC Database not up to date\n"
     ]
    },
    {
     "name": "stderr",
     "output_type": "stream",
     "text": [
      " 39%|███▉      | 236/604 [13:51<25:51,  4.22s/it]"
     ]
    },
    {
     "name": "stdout",
     "output_type": "stream",
     "text": [
      "Error:  GLMRBTC Database not up to date\n"
     ]
    },
    {
     "name": "stderr",
     "output_type": "stream",
     "text": [
      " 39%|███▉      | 238/604 [14:00<24:37,  4.04s/it]"
     ]
    },
    {
     "name": "stdout",
     "output_type": "stream",
     "text": [
      "Error:  GLMBTC Database not up to date\n"
     ]
    },
    {
     "name": "stderr",
     "output_type": "stream",
     "text": [
      " 40%|███▉      | 240/604 [14:03<14:42,  2.42s/it]"
     ]
    },
    {
     "name": "stdout",
     "output_type": "stream",
     "text": [
      "Error:  GMTBTC Database not up to date\n"
     ]
    },
    {
     "name": "stderr",
     "output_type": "stream",
     "text": [
      " 40%|████      | 242/604 [14:10<16:12,  2.69s/it]"
     ]
    },
    {
     "name": "stdout",
     "output_type": "stream",
     "text": [
      "Error:  GMXBTC Database not up to date\n"
     ]
    },
    {
     "name": "stderr",
     "output_type": "stream",
     "text": [
      " 40%|████      | 244/604 [14:17<17:36,  2.94s/it]"
     ]
    },
    {
     "name": "stdout",
     "output_type": "stream",
     "text": [
      "Error:  GRTBTC Database not up to date\n"
     ]
    },
    {
     "name": "stderr",
     "output_type": "stream",
     "text": [
      " 41%|████      | 246/604 [14:21<12:56,  2.17s/it]"
     ]
    },
    {
     "name": "stdout",
     "output_type": "stream",
     "text": [
      "Error:  GTCBTC Database not up to date\n"
     ]
    },
    {
     "name": "stderr",
     "output_type": "stream",
     "text": [
      " 41%|████      | 248/604 [14:26<13:33,  2.29s/it]"
     ]
    },
    {
     "name": "stdout",
     "output_type": "stream",
     "text": [
      "Error:  HARDBTC Database not up to date\n"
     ]
    },
    {
     "name": "stderr",
     "output_type": "stream",
     "text": [
      " 41%|████▏     | 250/604 [14:32<14:13,  2.41s/it]"
     ]
    },
    {
     "name": "stdout",
     "output_type": "stream",
     "text": [
      "Error:  HBARBTC Database not up to date\n"
     ]
    },
    {
     "name": "stderr",
     "output_type": "stream",
     "text": [
      " 42%|████▏     | 252/604 [14:35<10:48,  1.84s/it]"
     ]
    },
    {
     "name": "stdout",
     "output_type": "stream",
     "text": [
      "Error:  HFTBTC Database not up to date\n"
     ]
    },
    {
     "name": "stderr",
     "output_type": "stream",
     "text": [
      " 42%|████▏     | 255/604 [15:00<31:19,  5.39s/it]"
     ]
    },
    {
     "name": "stdout",
     "output_type": "stream",
     "text": [
      "Error:  HIGHBTC Database not up to date\n"
     ]
    },
    {
     "name": "stderr",
     "output_type": "stream",
     "text": [
      " 43%|████▎     | 257/604 [15:11<27:43,  4.80s/it]"
     ]
    },
    {
     "name": "stdout",
     "output_type": "stream",
     "text": [
      "Error:  HIVEBTC Database not up to date\n"
     ]
    },
    {
     "name": "stderr",
     "output_type": "stream",
     "text": [
      " 43%|████▎     | 259/604 [15:17<20:52,  3.63s/it]"
     ]
    },
    {
     "name": "stdout",
     "output_type": "stream",
     "text": [
      "Error:  HOOKBTC Database not up to date\n"
     ]
    },
    {
     "name": "stderr",
     "output_type": "stream",
     "text": [
      " 43%|████▎     | 262/604 [15:26<16:34,  2.91s/it]"
     ]
    },
    {
     "name": "stdout",
     "output_type": "stream",
     "text": [
      "Error:  ICPBTC Database not up to date\n"
     ]
    },
    {
     "name": "stderr",
     "output_type": "stream",
     "text": [
      " 44%|████▎     | 264/604 [15:43<28:09,  4.97s/it]"
     ]
    },
    {
     "name": "stdout",
     "output_type": "stream",
     "text": [
      "Error:  ICXBTC Database not up to date\n"
     ]
    },
    {
     "name": "stderr",
     "output_type": "stream",
     "text": [
      " 44%|████▍     | 266/604 [15:48<19:59,  3.55s/it]"
     ]
    },
    {
     "name": "stdout",
     "output_type": "stream",
     "text": [
      "Error:  IDEXBTC Database not up to date\n"
     ]
    },
    {
     "name": "stderr",
     "output_type": "stream",
     "text": [
      " 44%|████▍     | 268/604 [15:52<14:05,  2.52s/it]"
     ]
    },
    {
     "name": "stdout",
     "output_type": "stream",
     "text": [
      "Error:  IDBTC Database not up to date\n"
     ]
    },
    {
     "name": "stderr",
     "output_type": "stream",
     "text": [
      " 45%|████▍     | 270/604 [15:54<09:29,  1.70s/it]"
     ]
    },
    {
     "name": "stdout",
     "output_type": "stream",
     "text": [
      "Error:  ILVBTC Database not up to date\n"
     ]
    },
    {
     "name": "stderr",
     "output_type": "stream",
     "text": [
      " 45%|████▌     | 272/604 [15:57<08:10,  1.48s/it]"
     ]
    },
    {
     "name": "stdout",
     "output_type": "stream",
     "text": [
      "Error:  IMXBTC Database not up to date\n"
     ]
    },
    {
     "name": "stderr",
     "output_type": "stream",
     "text": [
      " 45%|████▌     | 274/604 [15:59<06:15,  1.14s/it]"
     ]
    },
    {
     "name": "stdout",
     "output_type": "stream",
     "text": [
      "Error:  INJBTC Database not up to date\n"
     ]
    },
    {
     "name": "stderr",
     "output_type": "stream",
     "text": [
      " 46%|████▌     | 276/604 [16:42<52:40,  9.64s/it]  "
     ]
    },
    {
     "name": "stdout",
     "output_type": "stream",
     "text": [
      "Error:  IOSTBTC Database not up to date\n"
     ]
    },
    {
     "name": "stderr",
     "output_type": "stream",
     "text": [
      " 46%|████▌     | 278/604 [16:47<31:44,  5.84s/it]"
     ]
    },
    {
     "name": "stdout",
     "output_type": "stream",
     "text": [
      "Error:  IOTABTC Database not up to date\n"
     ]
    },
    {
     "name": "stderr",
     "output_type": "stream",
     "text": [
      " 46%|████▋     | 280/604 [16:56<25:57,  4.81s/it]"
     ]
    },
    {
     "name": "stdout",
     "output_type": "stream",
     "text": [
      "Error:  IOTXBTC Database not up to date\n"
     ]
    },
    {
     "name": "stderr",
     "output_type": "stream",
     "text": [
      " 47%|████▋     | 283/604 [17:04<16:30,  3.09s/it]"
     ]
    },
    {
     "name": "stdout",
     "output_type": "stream",
     "text": [
      "Error:  IRISBTC Database not up to date\n"
     ]
    },
    {
     "name": "stderr",
     "output_type": "stream",
     "text": [
      " 47%|████▋     | 286/604 [17:11<11:45,  2.22s/it]"
     ]
    },
    {
     "name": "stdout",
     "output_type": "stream",
     "text": [
      "Error:  JOEBTC Database not up to date\n"
     ]
    },
    {
     "name": "stderr",
     "output_type": "stream",
     "text": [
      " 48%|████▊     | 288/604 [17:20<15:11,  2.88s/it]"
     ]
    },
    {
     "name": "stdout",
     "output_type": "stream",
     "text": [
      "Error:  JSTBTC Database not up to date\n"
     ]
    },
    {
     "name": "stderr",
     "output_type": "stream",
     "text": [
      " 48%|████▊     | 292/604 [17:36<16:31,  3.18s/it]"
     ]
    },
    {
     "name": "stdout",
     "output_type": "stream",
     "text": [
      "Error:  KAVABTC Database not up to date\n"
     ]
    },
    {
     "name": "stderr",
     "output_type": "stream",
     "text": [
      " 49%|████▊     | 294/604 [17:42<14:14,  2.76s/it]"
     ]
    },
    {
     "name": "stdout",
     "output_type": "stream",
     "text": [
      "Error:  KDABTC Database not up to date\n"
     ]
    },
    {
     "name": "stderr",
     "output_type": "stream",
     "text": [
      " 49%|████▉     | 297/604 [17:54<16:21,  3.20s/it]"
     ]
    },
    {
     "name": "stdout",
     "output_type": "stream",
     "text": [
      "Error:  KLAYBTC Database not up to date\n"
     ]
    },
    {
     "name": "stderr",
     "output_type": "stream",
     "text": [
      " 50%|████▉     | 299/604 [17:59<13:37,  2.68s/it]"
     ]
    },
    {
     "name": "stdout",
     "output_type": "stream",
     "text": [
      "Error:  KMDBTC Database not up to date\n"
     ]
    },
    {
     "name": "stderr",
     "output_type": "stream",
     "text": [
      " 50%|████▉     | 301/604 [18:04<11:50,  2.34s/it]"
     ]
    },
    {
     "name": "stdout",
     "output_type": "stream",
     "text": [
      "Error:  KNCBTC Database not up to date\n"
     ]
    },
    {
     "name": "stderr",
     "output_type": "stream",
     "text": [
      " 50%|█████     | 304/604 [18:19<17:48,  3.56s/it]"
     ]
    },
    {
     "name": "stdout",
     "output_type": "stream",
     "text": [
      "Error:  KSMBTC Database not up to date\n"
     ]
    },
    {
     "name": "stderr",
     "output_type": "stream",
     "text": [
      " 51%|█████     | 306/604 [18:32<21:25,  4.31s/it]"
     ]
    },
    {
     "name": "stdout",
     "output_type": "stream",
     "text": [
      "Error:  LAZIOBTC Database not up to date\n"
     ]
    },
    {
     "name": "stderr",
     "output_type": "stream",
     "text": [
      " 51%|█████     | 308/604 [18:40<19:04,  3.87s/it]"
     ]
    },
    {
     "name": "stdout",
     "output_type": "stream",
     "text": [
      "Error:  LDOBTC Database not up to date\n"
     ]
    },
    {
     "name": "stderr",
     "output_type": "stream",
     "text": [
      " 51%|█████▏    | 311/604 [19:01<25:22,  5.20s/it]"
     ]
    },
    {
     "name": "stdout",
     "output_type": "stream",
     "text": [
      "Error:  LINABTC Database not up to date\n"
     ]
    },
    {
     "name": "stderr",
     "output_type": "stream",
     "text": [
      " 52%|█████▏    | 313/604 [19:20<31:56,  6.59s/it]"
     ]
    },
    {
     "name": "stdout",
     "output_type": "stream",
     "text": [
      "Error:  LINKBTC Database not up to date\n"
     ]
    },
    {
     "name": "stderr",
     "output_type": "stream",
     "text": [
      " 52%|█████▏    | 315/604 [19:28<23:19,  4.84s/it]"
     ]
    },
    {
     "name": "stdout",
     "output_type": "stream",
     "text": [
      "Error:  LITBTC Database not up to date\n"
     ]
    },
    {
     "name": "stderr",
     "output_type": "stream",
     "text": [
      " 52%|█████▏    | 317/604 [19:32<15:35,  3.26s/it]"
     ]
    },
    {
     "name": "stdout",
     "output_type": "stream",
     "text": [
      "Error:  LOKABTC Database not up to date\n"
     ]
    },
    {
     "name": "stderr",
     "output_type": "stream",
     "text": [
      " 53%|█████▎    | 319/604 [19:42<18:11,  3.83s/it]"
     ]
    },
    {
     "name": "stdout",
     "output_type": "stream",
     "text": [
      "Error:  LPTBTC Database not up to date\n"
     ]
    },
    {
     "name": "stderr",
     "output_type": "stream",
     "text": [
      " 53%|█████▎    | 321/604 [19:48<14:55,  3.17s/it]"
     ]
    },
    {
     "name": "stdout",
     "output_type": "stream",
     "text": [
      "Error:  LRCBTC Database not up to date\n"
     ]
    },
    {
     "name": "stderr",
     "output_type": "stream",
     "text": [
      " 53%|█████▎    | 323/604 [19:53<11:49,  2.52s/it]"
     ]
    },
    {
     "name": "stdout",
     "output_type": "stream",
     "text": [
      "Error:  LSKBTC Database not up to date\n"
     ]
    },
    {
     "name": "stderr",
     "output_type": "stream",
     "text": [
      " 54%|█████▍    | 325/604 [19:57<10:04,  2.17s/it]"
     ]
    },
    {
     "name": "stdout",
     "output_type": "stream",
     "text": [
      "Error:  LTCBTC Database not up to date\n"
     ]
    },
    {
     "name": "stderr",
     "output_type": "stream",
     "text": [
      " 54%|█████▍    | 327/604 [20:09<16:30,  3.58s/it]"
     ]
    },
    {
     "name": "stdout",
     "output_type": "stream",
     "text": [
      "Error:  LTOBTC Database not up to date\n"
     ]
    },
    {
     "name": "stderr",
     "output_type": "stream",
     "text": [
      " 55%|█████▍    | 331/604 [20:18<11:00,  2.42s/it]"
     ]
    },
    {
     "name": "stdout",
     "output_type": "stream",
     "text": [
      "Error:  MAGICBTC Database not up to date\n"
     ]
    },
    {
     "name": "stderr",
     "output_type": "stream",
     "text": [
      " 55%|█████▌    | 333/604 [20:31<17:10,  3.80s/it]"
     ]
    },
    {
     "name": "stdout",
     "output_type": "stream",
     "text": [
      "Error:  MANABTC Database not up to date\n"
     ]
    },
    {
     "name": "stderr",
     "output_type": "stream",
     "text": [
      " 55%|█████▌    | 334/604 [20:35<17:49,  3.96s/it]"
     ]
    },
    {
     "name": "stdout",
     "output_type": "stream",
     "text": [
      "Error:  MANTABTC Database not up to date\n"
     ]
    },
    {
     "name": "stderr",
     "output_type": "stream",
     "text": [
      " 56%|█████▌    | 338/604 [20:46<13:06,  2.96s/it]"
     ]
    },
    {
     "name": "stdout",
     "output_type": "stream",
     "text": [
      "Error:  MATICBTC Database not up to date\n"
     ]
    },
    {
     "name": "stderr",
     "output_type": "stream",
     "text": [
      " 56%|█████▋    | 340/604 [20:56<15:09,  3.44s/it]"
     ]
    },
    {
     "name": "stdout",
     "output_type": "stream",
     "text": [
      "Error:  MAVBTC Database not up to date\n"
     ]
    },
    {
     "name": "stderr",
     "output_type": "stream",
     "text": [
      " 57%|█████▋    | 343/604 [21:07<14:58,  3.44s/it]"
     ]
    },
    {
     "name": "stdout",
     "output_type": "stream",
     "text": [
      "Error:  MBOXBTC Database not up to date\n"
     ]
    },
    {
     "name": "stderr",
     "output_type": "stream",
     "text": [
      " 57%|█████▋    | 345/604 [21:12<11:59,  2.78s/it]"
     ]
    },
    {
     "name": "stdout",
     "output_type": "stream",
     "text": [
      "Error:  MDTBTC Database not up to date\n"
     ]
    },
    {
     "name": "stderr",
     "output_type": "stream",
     "text": [
      " 57%|█████▋    | 347/604 [21:16<09:25,  2.20s/it]"
     ]
    },
    {
     "name": "stdout",
     "output_type": "stream",
     "text": [
      "Error:  MDXBTC Database not up to date\n"
     ]
    },
    {
     "name": "stderr",
     "output_type": "stream",
     "text": [
      " 58%|█████▊    | 350/604 [21:22<07:43,  1.83s/it]"
     ]
    },
    {
     "name": "stdout",
     "output_type": "stream",
     "text": [
      "Error:  MINABTC Database not up to date\n"
     ]
    },
    {
     "name": "stderr",
     "output_type": "stream",
     "text": [
      " 58%|█████▊    | 352/604 [21:35<15:17,  3.64s/it]"
     ]
    },
    {
     "name": "stdout",
     "output_type": "stream",
     "text": [
      "Error:  MKRBTC Database not up to date\n"
     ]
    },
    {
     "name": "stderr",
     "output_type": "stream",
     "text": [
      " 59%|█████▊    | 354/604 [21:38<09:36,  2.31s/it]"
     ]
    },
    {
     "name": "stdout",
     "output_type": "stream",
     "text": [
      "Error:  MLNBTC Database not up to date\n"
     ]
    },
    {
     "name": "stderr",
     "output_type": "stream",
     "text": [
      " 59%|█████▉    | 356/604 [21:48<13:59,  3.38s/it]"
     ]
    },
    {
     "name": "stdout",
     "output_type": "stream",
     "text": [
      "Error:  MOBBTC Database not up to date\n"
     ]
    },
    {
     "name": "stderr",
     "output_type": "stream",
     "text": [
      " 59%|█████▉    | 358/604 [21:51<08:57,  2.18s/it]"
     ]
    },
    {
     "name": "stdout",
     "output_type": "stream",
     "text": [
      "Error:  MOVRBTC Database not up to date\n"
     ]
    },
    {
     "name": "stderr",
     "output_type": "stream",
     "text": [
      " 60%|█████▉    | 360/604 [21:56<08:30,  2.09s/it]"
     ]
    },
    {
     "name": "stdout",
     "output_type": "stream",
     "text": [
      "Error:  MTLBTC Database not up to date\n"
     ]
    },
    {
     "name": "stderr",
     "output_type": "stream",
     "text": [
      " 60%|██████    | 363/604 [22:02<06:46,  1.69s/it]"
     ]
    },
    {
     "name": "stdout",
     "output_type": "stream",
     "text": [
      "Error:  NBTUSDT Database not up to date\n",
      "Error:  NEARBTC Database not up to date\n"
     ]
    },
    {
     "name": "stderr",
     "output_type": "stream",
     "text": [
      " 60%|██████    | 365/604 [22:08<08:32,  2.14s/it]"
     ]
    },
    {
     "name": "stdout",
     "output_type": "stream",
     "text": [
      "Error:  NEOBTC Database not up to date\n"
     ]
    },
    {
     "name": "stderr",
     "output_type": "stream",
     "text": [
      " 61%|██████    | 367/604 [22:12<07:22,  1.87s/it]"
     ]
    },
    {
     "name": "stdout",
     "output_type": "stream",
     "text": [
      "Error:  NEXOBTC Database not up to date\n"
     ]
    },
    {
     "name": "stderr",
     "output_type": "stream",
     "text": [
      " 61%|██████    | 369/604 [22:14<05:14,  1.34s/it]"
     ]
    },
    {
     "name": "stdout",
     "output_type": "stream",
     "text": [
      "Error:  NKNBTC Database not up to date\n"
     ]
    },
    {
     "name": "stderr",
     "output_type": "stream",
     "text": [
      " 61%|██████▏   | 371/604 [22:20<07:37,  1.96s/it]"
     ]
    },
    {
     "name": "stdout",
     "output_type": "stream",
     "text": [
      "Error:  NMRBTC Database not up to date\n"
     ]
    },
    {
     "name": "stderr",
     "output_type": "stream",
     "text": [
      " 62%|██████▏   | 372/604 [22:23<08:41,  2.25s/it]"
     ]
    },
    {
     "name": "stdout",
     "output_type": "stream",
     "text": [
      "Error:  NTRNBTC Database not up to date\n"
     ]
    },
    {
     "name": "stderr",
     "output_type": "stream",
     "text": [
      " 62%|██████▏   | 375/604 [22:35<11:51,  3.11s/it]"
     ]
    },
    {
     "name": "stdout",
     "output_type": "stream",
     "text": [
      "Error:  NULSBTC Database not up to date\n"
     ]
    },
    {
     "name": "stderr",
     "output_type": "stream",
     "text": [
      " 62%|██████▏   | 377/604 [22:44<12:43,  3.36s/it]"
     ]
    },
    {
     "name": "stdout",
     "output_type": "stream",
     "text": [
      "Error:  OCEANBTC Database not up to date\n"
     ]
    },
    {
     "name": "stderr",
     "output_type": "stream",
     "text": [
      " 63%|██████▎   | 379/604 [22:47<08:36,  2.30s/it]"
     ]
    },
    {
     "name": "stdout",
     "output_type": "stream",
     "text": [
      "Error:  OGNBTC Database not up to date\n"
     ]
    },
    {
     "name": "stderr",
     "output_type": "stream",
     "text": [
      " 63%|██████▎   | 381/604 [22:57<12:37,  3.40s/it]"
     ]
    },
    {
     "name": "stdout",
     "output_type": "stream",
     "text": [
      "Error:  OGBTC Database not up to date\n"
     ]
    },
    {
     "name": "stderr",
     "output_type": "stream",
     "text": [
      " 64%|██████▎   | 385/604 [23:15<10:57,  3.00s/it]"
     ]
    },
    {
     "name": "stdout",
     "output_type": "stream",
     "text": [
      "Error:  ONEBTC Database not up to date\n"
     ]
    },
    {
     "name": "stderr",
     "output_type": "stream",
     "text": [
      " 64%|██████▍   | 387/604 [23:20<08:33,  2.37s/it]"
     ]
    },
    {
     "name": "stdout",
     "output_type": "stream",
     "text": [
      "Error:  ONGBTC Database not up to date\n"
     ]
    },
    {
     "name": "stderr",
     "output_type": "stream",
     "text": [
      " 64%|██████▍   | 389/604 [23:25<08:15,  2.30s/it]"
     ]
    },
    {
     "name": "stdout",
     "output_type": "stream",
     "text": [
      "Error:  ONTBTC Database not up to date\n"
     ]
    },
    {
     "name": "stderr",
     "output_type": "stream",
     "text": [
      " 65%|██████▍   | 392/604 [23:37<10:23,  2.94s/it]"
     ]
    },
    {
     "name": "stdout",
     "output_type": "stream",
     "text": [
      "Error:  OPBTC Database not up to date\n"
     ]
    },
    {
     "name": "stderr",
     "output_type": "stream",
     "text": [
      " 65%|██████▌   | 393/604 [23:40<10:21,  2.94s/it]"
     ]
    },
    {
     "name": "stdout",
     "output_type": "stream",
     "text": [
      "Error:  ORDIBTC Database not up to date\n"
     ]
    },
    {
     "name": "stderr",
     "output_type": "stream",
     "text": [
      " 66%|██████▌   | 396/604 [23:46<08:16,  2.39s/it]"
     ]
    },
    {
     "name": "stdout",
     "output_type": "stream",
     "text": [
      "Error:  ORNBTC Database not up to date\n"
     ]
    },
    {
     "name": "stderr",
     "output_type": "stream",
     "text": [
      " 66%|██████▌   | 398/604 [23:49<05:58,  1.74s/it]"
     ]
    },
    {
     "name": "stdout",
     "output_type": "stream",
     "text": [
      "Error:  OXTBTC Database not up to date\n"
     ]
    },
    {
     "name": "stderr",
     "output_type": "stream",
     "text": [
      " 66%|██████▌   | 400/604 [23:52<05:15,  1.55s/it]"
     ]
    },
    {
     "name": "stdout",
     "output_type": "stream",
     "text": [
      "Error:  PAXGBTC Database not up to date\n"
     ]
    },
    {
     "name": "stderr",
     "output_type": "stream",
     "text": [
      " 66%|██████▋   | 401/604 [24:01<13:04,  3.87s/it]"
     ]
    },
    {
     "name": "stdout",
     "output_type": "stream",
     "text": [
      "Error: '1146 (42S02): Table 'crypto_db.pdabtc' doesn't exist'\n",
      "Error:  max() arg is an empty sequence\n",
      "Error: '1146 (42S02): Table 'crypto_db.pdausdt' doesn't exist'\n",
      "Error:  max() arg is an empty sequence\n",
      "Error:  PENDLEBTC Database not up to date\n"
     ]
    },
    {
     "name": "stderr",
     "output_type": "stream",
     "text": [
      " 67%|██████▋   | 406/604 [24:03<04:28,  1.36s/it]"
     ]
    },
    {
     "name": "stdout",
     "output_type": "stream",
     "text": [
      "Error:  PEOPLEBTC Database not up to date\n"
     ]
    },
    {
     "name": "stderr",
     "output_type": "stream",
     "text": [
      " 68%|██████▊   | 409/604 [24:08<04:23,  1.35s/it]"
     ]
    },
    {
     "name": "stdout",
     "output_type": "stream",
     "text": [
      "Error:  PERPBTC Database not up to date\n"
     ]
    },
    {
     "name": "stderr",
     "output_type": "stream",
     "text": [
      " 68%|██████▊   | 411/604 [24:15<06:57,  2.17s/it]"
     ]
    },
    {
     "name": "stdout",
     "output_type": "stream",
     "text": [
      "Error:  PHABTC Database not up to date\n"
     ]
    },
    {
     "name": "stderr",
     "output_type": "stream",
     "text": [
      " 68%|██████▊   | 412/604 [24:20<09:22,  2.93s/it]"
     ]
    },
    {
     "name": "stdout",
     "output_type": "stream",
     "text": [
      "Error: '1146 (42S02): Table 'crypto_db.pixelbtc' doesn't exist'\n",
      "Error:  max() arg is an empty sequence\n",
      "Error: '1146 (42S02): Table 'crypto_db.pixelusdt' doesn't exist'\n",
      "Error:  max() arg is an empty sequence\n"
     ]
    },
    {
     "name": "stderr",
     "output_type": "stream",
     "text": [
      " 69%|██████▉   | 417/604 [24:31<06:54,  2.21s/it]"
     ]
    },
    {
     "name": "stdout",
     "output_type": "stream",
     "text": [
      "Error:  POLYXBTC Database not up to date\n"
     ]
    },
    {
     "name": "stderr",
     "output_type": "stream",
     "text": [
      " 69%|██████▉   | 419/604 [24:38<07:42,  2.50s/it]"
     ]
    },
    {
     "name": "stdout",
     "output_type": "stream",
     "text": [
      "Error:  PONDBTC Database not up to date\n"
     ]
    },
    {
     "name": "stderr",
     "output_type": "stream",
     "text": [
      " 70%|███████   | 423/604 [24:41<04:01,  1.33s/it]"
     ]
    },
    {
     "name": "stdout",
     "output_type": "stream",
     "text": [
      "Error: '1146 (42S02): Table 'crypto_db.portalbtc' doesn't exist'\n",
      "Error:  max() arg is an empty sequence\n",
      "Error: '1146 (42S02): Table 'crypto_db.portalusdt' doesn't exist'\n",
      "Error:  max() arg is an empty sequence\n",
      "Error:  PORTOBTC Database not up to date\n"
     ]
    },
    {
     "name": "stderr",
     "output_type": "stream",
     "text": [
      " 70%|███████   | 425/604 [24:45<04:03,  1.36s/it]"
     ]
    },
    {
     "name": "stdout",
     "output_type": "stream",
     "text": [
      "Error:  POWRBTC Database not up to date\n"
     ]
    },
    {
     "name": "stderr",
     "output_type": "stream",
     "text": [
      " 71%|███████   | 429/604 [24:58<06:13,  2.14s/it]"
     ]
    },
    {
     "name": "stdout",
     "output_type": "stream",
     "text": [
      "Error:  PYRBTC Database not up to date\n"
     ]
    },
    {
     "name": "stderr",
     "output_type": "stream",
     "text": [
      " 71%|███████   | 430/604 [25:05<10:24,  3.59s/it]"
     ]
    },
    {
     "name": "stdout",
     "output_type": "stream",
     "text": [
      "Error:  PYTHBTC Database not up to date\n"
     ]
    },
    {
     "name": "stderr",
     "output_type": "stream",
     "text": [
      " 72%|███████▏  | 433/604 [25:08<05:46,  2.03s/it]"
     ]
    },
    {
     "name": "stdout",
     "output_type": "stream",
     "text": [
      "Error:  QIBTC Database not up to date\n"
     ]
    },
    {
     "name": "stderr",
     "output_type": "stream",
     "text": [
      " 72%|███████▏  | 435/604 [25:18<08:09,  2.90s/it]"
     ]
    },
    {
     "name": "stdout",
     "output_type": "stream",
     "text": [
      "Error:  QNTBTC Database not up to date\n"
     ]
    },
    {
     "name": "stderr",
     "output_type": "stream",
     "text": [
      " 72%|███████▏  | 437/604 [25:28<10:12,  3.67s/it]"
     ]
    },
    {
     "name": "stdout",
     "output_type": "stream",
     "text": [
      "Error:  QTUMBTC Database not up to date\n"
     ]
    },
    {
     "name": "stderr",
     "output_type": "stream",
     "text": [
      " 73%|███████▎  | 440/604 [25:35<06:28,  2.37s/it]"
     ]
    },
    {
     "name": "stdout",
     "output_type": "stream",
     "text": [
      "Error:  QUICKBTC Database not up to date\n",
      "Error:  Input contains NaN, infinity or a value too large for dtype('float64').\n"
     ]
    },
    {
     "name": "stderr",
     "output_type": "stream",
     "text": [
      " 73%|███████▎  | 441/604 [25:36<04:39,  1.71s/it]"
     ]
    },
    {
     "name": "stdout",
     "output_type": "stream",
     "text": [
      "Error:  RADBTC Database not up to date\n"
     ]
    },
    {
     "name": "stderr",
     "output_type": "stream",
     "text": [
      " 73%|███████▎  | 443/604 [25:52<11:29,  4.28s/it]"
     ]
    },
    {
     "name": "stdout",
     "output_type": "stream",
     "text": [
      "Error:  RAREBTC Database not up to date\n"
     ]
    },
    {
     "name": "stderr",
     "output_type": "stream",
     "text": [
      " 74%|███████▎  | 445/604 [26:09<18:33,  7.00s/it]"
     ]
    },
    {
     "name": "stdout",
     "output_type": "stream",
     "text": [
      "Error:  RDNTBTC Database not up to date\n"
     ]
    },
    {
     "name": "stderr",
     "output_type": "stream",
     "text": [
      " 75%|███████▍  | 450/604 [26:29<10:23,  4.05s/it]"
     ]
    },
    {
     "name": "stdout",
     "output_type": "stream",
     "text": [
      "Error:  RENBTC Database not up to date\n"
     ]
    },
    {
     "name": "stderr",
     "output_type": "stream",
     "text": [
      " 75%|███████▍  | 452/604 [26:33<07:38,  3.02s/it]"
     ]
    },
    {
     "name": "stdout",
     "output_type": "stream",
     "text": [
      "Error:  REQBTC Database not up to date\n"
     ]
    },
    {
     "name": "stderr",
     "output_type": "stream",
     "text": [
      " 75%|███████▌  | 454/604 [26:43<08:45,  3.51s/it]"
     ]
    },
    {
     "name": "stdout",
     "output_type": "stream",
     "text": [
      "Error:  RIFBTC Database not up to date\n"
     ]
    },
    {
     "name": "stderr",
     "output_type": "stream",
     "text": [
      " 75%|███████▌  | 456/604 [26:50<08:02,  3.26s/it]"
     ]
    },
    {
     "name": "stdout",
     "output_type": "stream",
     "text": [
      "Error:  RLCBTC Database not up to date\n"
     ]
    },
    {
     "name": "stderr",
     "output_type": "stream",
     "text": [
      " 76%|███████▌  | 458/604 [26:53<05:22,  2.21s/it]"
     ]
    },
    {
     "name": "stdout",
     "output_type": "stream",
     "text": [
      "Error:  RNDRBTC Database not up to date\n"
     ]
    },
    {
     "name": "stderr",
     "output_type": "stream",
     "text": [
      " 76%|███████▌  | 459/604 [26:56<06:34,  2.72s/it]"
     ]
    },
    {
     "name": "stdout",
     "output_type": "stream",
     "text": [
      "Error:  RONINBTC Database not up to date\n"
     ]
    },
    {
     "name": "stderr",
     "output_type": "stream",
     "text": [
      " 76%|███████▋  | 462/604 [27:09<07:46,  3.28s/it]"
     ]
    },
    {
     "name": "stdout",
     "output_type": "stream",
     "text": [
      "Error:  ROSEBTC Database not up to date\n"
     ]
    },
    {
     "name": "stderr",
     "output_type": "stream",
     "text": [
      " 77%|███████▋  | 466/604 [27:38<11:31,  5.01s/it]"
     ]
    },
    {
     "name": "stdout",
     "output_type": "stream",
     "text": [
      "Error:  RUNEBTC Database not up to date\n"
     ]
    },
    {
     "name": "stderr",
     "output_type": "stream",
     "text": [
      " 77%|███████▋  | 468/604 [27:50<11:09,  4.92s/it]"
     ]
    },
    {
     "name": "stdout",
     "output_type": "stream",
     "text": [
      "Error:  RVNBTC Database not up to date\n"
     ]
    },
    {
     "name": "stderr",
     "output_type": "stream",
     "text": [
      " 78%|███████▊  | 470/604 [27:54<07:21,  3.30s/it]"
     ]
    },
    {
     "name": "stdout",
     "output_type": "stream",
     "text": [
      "Error:  SANDBTC Database not up to date\n"
     ]
    },
    {
     "name": "stderr",
     "output_type": "stream",
     "text": [
      " 78%|███████▊  | 472/604 [28:00<06:16,  2.85s/it]"
     ]
    },
    {
     "name": "stdout",
     "output_type": "stream",
     "text": [
      "Error:  SANTOSBTC Database not up to date\n"
     ]
    },
    {
     "name": "stderr",
     "output_type": "stream",
     "text": [
      " 78%|███████▊  | 474/604 [28:03<04:28,  2.07s/it]"
     ]
    },
    {
     "name": "stdout",
     "output_type": "stream",
     "text": [
      "Error:  SCRTBTC Database not up to date\n"
     ]
    },
    {
     "name": "stderr",
     "output_type": "stream",
     "text": [
      " 79%|███████▉  | 476/604 [28:12<07:15,  3.41s/it]"
     ]
    },
    {
     "name": "stdout",
     "output_type": "stream",
     "text": [
      "Error:  SEIBTC Database not up to date\n"
     ]
    },
    {
     "name": "stderr",
     "output_type": "stream",
     "text": [
      " 79%|███████▉  | 479/604 [28:17<04:31,  2.17s/it]"
     ]
    },
    {
     "name": "stdout",
     "output_type": "stream",
     "text": [
      "Error:  SFPBTC Database not up to date\n"
     ]
    },
    {
     "name": "stderr",
     "output_type": "stream",
     "text": [
      " 80%|███████▉  | 482/604 [28:34<06:55,  3.41s/it]"
     ]
    },
    {
     "name": "stdout",
     "output_type": "stream",
     "text": [
      "Error:  SKLBTC Database not up to date\n"
     ]
    },
    {
     "name": "stderr",
     "output_type": "stream",
     "text": [
      " 80%|████████  | 485/604 [28:44<06:06,  3.08s/it]"
     ]
    },
    {
     "name": "stdout",
     "output_type": "stream",
     "text": [
      "Error:  SNTBTC Database not up to date\n"
     ]
    },
    {
     "name": "stderr",
     "output_type": "stream",
     "text": [
      " 80%|████████  | 486/604 [28:45<04:24,  2.24s/it]"
     ]
    },
    {
     "name": "stdout",
     "output_type": "stream",
     "text": [
      "Error:  SNXBTC Database not up to date\n"
     ]
    },
    {
     "name": "stderr",
     "output_type": "stream",
     "text": [
      " 81%|████████  | 488/604 [28:57<07:20,  3.80s/it]"
     ]
    },
    {
     "name": "stdout",
     "output_type": "stream",
     "text": [
      "Error:  SOLBTC Database not up to date\n"
     ]
    },
    {
     "name": "stderr",
     "output_type": "stream",
     "text": [
      " 81%|████████▏ | 491/604 [29:06<05:20,  2.84s/it]"
     ]
    },
    {
     "name": "stdout",
     "output_type": "stream",
     "text": [
      "Error:  SSVBTC Database not up to date\n"
     ]
    },
    {
     "name": "stderr",
     "output_type": "stream",
     "text": [
      " 82%|████████▏ | 494/604 [29:20<05:37,  3.07s/it]"
     ]
    },
    {
     "name": "stdout",
     "output_type": "stream",
     "text": [
      "Error:  STEEMBTC Database not up to date\n",
      "Error:  STGBTC Database not up to date\n"
     ]
    },
    {
     "name": "stderr",
     "output_type": "stream",
     "text": [
      " 82%|████████▏ | 497/604 [29:28<04:39,  2.62s/it]"
     ]
    },
    {
     "name": "stdout",
     "output_type": "stream",
     "text": [
      "Error:  STORJBTC Database not up to date\n"
     ]
    },
    {
     "name": "stderr",
     "output_type": "stream",
     "text": [
      " 83%|████████▎ | 499/604 [29:33<03:48,  2.18s/it]"
     ]
    },
    {
     "name": "stdout",
     "output_type": "stream",
     "text": [
      "Error:  STPTBTC Database not up to date\n"
     ]
    },
    {
     "name": "stderr",
     "output_type": "stream",
     "text": [
      " 83%|████████▎ | 501/604 [29:38<03:57,  2.31s/it]"
     ]
    },
    {
     "name": "stdout",
     "output_type": "stream",
     "text": [
      "Error:  STRAXBTC Database not up to date\n"
     ]
    },
    {
     "name": "stderr",
     "output_type": "stream",
     "text": [
      " 83%|████████▎ | 502/604 [29:42<04:46,  2.81s/it]"
     ]
    },
    {
     "name": "stdout",
     "output_type": "stream",
     "text": [
      "Error: '1146 (42S02): Table 'crypto_db.strkbtc' doesn't exist'\n",
      "Error:  max() arg is an empty sequence\n",
      "Error: '1146 (42S02): Table 'crypto_db.strkusdt' doesn't exist'\n",
      "Error:  max() arg is an empty sequence\n"
     ]
    },
    {
     "name": "stderr",
     "output_type": "stream",
     "text": [
      " 84%|████████▎ | 505/604 [29:43<02:06,  1.28s/it]"
     ]
    },
    {
     "name": "stdout",
     "output_type": "stream",
     "text": [
      "Error:  STXBTC Database not up to date\n"
     ]
    },
    {
     "name": "stderr",
     "output_type": "stream",
     "text": [
      " 84%|████████▍ | 507/604 [29:46<02:05,  1.29s/it]"
     ]
    },
    {
     "name": "stdout",
     "output_type": "stream",
     "text": [
      "Error:  SUIBTC Database not up to date\n"
     ]
    },
    {
     "name": "stderr",
     "output_type": "stream",
     "text": [
      " 84%|████████▍ | 510/604 [29:50<01:49,  1.17s/it]"
     ]
    },
    {
     "name": "stdout",
     "output_type": "stream",
     "text": [
      "Error:  SUPERBTC Database not up to date\n"
     ]
    },
    {
     "name": "stderr",
     "output_type": "stream",
     "text": [
      " 85%|████████▍ | 512/604 [29:52<01:38,  1.07s/it]"
     ]
    },
    {
     "name": "stdout",
     "output_type": "stream",
     "text": [
      "Error:  SUSHIBTC Database not up to date\n"
     ]
    },
    {
     "name": "stderr",
     "output_type": "stream",
     "text": [
      " 85%|████████▌ | 514/604 [29:57<02:26,  1.63s/it]"
     ]
    },
    {
     "name": "stdout",
     "output_type": "stream",
     "text": [
      "Error:  SXPBTC Database not up to date\n"
     ]
    },
    {
     "name": "stderr",
     "output_type": "stream",
     "text": [
      " 85%|████████▌ | 516/604 [30:03<02:59,  2.04s/it]"
     ]
    },
    {
     "name": "stdout",
     "output_type": "stream",
     "text": [
      "Error:  SYSBTC Database not up to date\n"
     ]
    },
    {
     "name": "stderr",
     "output_type": "stream",
     "text": [
      " 86%|████████▌ | 518/604 [30:06<02:18,  1.62s/it]"
     ]
    },
    {
     "name": "stdout",
     "output_type": "stream",
     "text": [
      "Error:  TFUELBTC Database not up to date\n"
     ]
    },
    {
     "name": "stderr",
     "output_type": "stream",
     "text": [
      " 86%|████████▌ | 520/604 [30:08<01:45,  1.25s/it]"
     ]
    },
    {
     "name": "stdout",
     "output_type": "stream",
     "text": [
      "Error:  THETABTC Database not up to date\n"
     ]
    },
    {
     "name": "stderr",
     "output_type": "stream",
     "text": [
      " 86%|████████▋ | 521/604 [30:10<02:22,  1.72s/it]"
     ]
    },
    {
     "name": "stdout",
     "output_type": "stream",
     "text": [
      "Error:  TIABTC Database not up to date\n"
     ]
    },
    {
     "name": "stderr",
     "output_type": "stream",
     "text": [
      " 87%|████████▋ | 524/604 [30:15<02:06,  1.58s/it]"
     ]
    },
    {
     "name": "stdout",
     "output_type": "stream",
     "text": [
      "Error:  TKOBTC Database not up to date\n"
     ]
    },
    {
     "name": "stderr",
     "output_type": "stream",
     "text": [
      " 87%|████████▋ | 526/604 [30:18<01:48,  1.40s/it]"
     ]
    },
    {
     "name": "stdout",
     "output_type": "stream",
     "text": [
      "Error:  TLMBTC Database not up to date\n"
     ]
    },
    {
     "name": "stderr",
     "output_type": "stream",
     "text": [
      " 87%|████████▋ | 528/604 [30:24<02:16,  1.80s/it]"
     ]
    },
    {
     "name": "stdout",
     "output_type": "stream",
     "text": [
      "Error:  TRBBTC Database not up to date\n"
     ]
    },
    {
     "name": "stderr",
     "output_type": "stream",
     "text": [
      " 88%|████████▊ | 531/604 [30:40<04:14,  3.49s/it]"
     ]
    },
    {
     "name": "stdout",
     "output_type": "stream",
     "text": [
      "Error:  TRUBTC Database not up to date\n"
     ]
    },
    {
     "name": "stderr",
     "output_type": "stream",
     "text": [
      " 88%|████████▊ | 533/604 [30:43<02:50,  2.40s/it]"
     ]
    },
    {
     "name": "stdout",
     "output_type": "stream",
     "text": [
      "Error:  TRXBTC Database not up to date\n"
     ]
    },
    {
     "name": "stderr",
     "output_type": "stream",
     "text": [
      " 89%|████████▊ | 536/604 [30:45<01:20,  1.18s/it]"
     ]
    },
    {
     "name": "stdout",
     "output_type": "stream",
     "text": [
      "Error:  Input contains NaN, infinity or a value too large for dtype('float64').\n",
      "Error:  TWTBTC Database not up to date\n"
     ]
    },
    {
     "name": "stderr",
     "output_type": "stream",
     "text": [
      " 89%|████████▉ | 540/604 [31:11<04:46,  4.47s/it]"
     ]
    },
    {
     "name": "stdout",
     "output_type": "stream",
     "text": [
      "Error:  UMABTC Database not up to date\n"
     ]
    },
    {
     "name": "stderr",
     "output_type": "stream",
     "text": [
      " 90%|████████▉ | 542/604 [31:14<02:50,  2.75s/it]"
     ]
    },
    {
     "name": "stdout",
     "output_type": "stream",
     "text": [
      "Error:  UNFIBTC Database not up to date\n"
     ]
    },
    {
     "name": "stderr",
     "output_type": "stream",
     "text": [
      " 90%|█████████ | 544/604 [31:21<02:51,  2.85s/it]"
     ]
    },
    {
     "name": "stdout",
     "output_type": "stream",
     "text": [
      "Error:  UNIBTC Database not up to date\n"
     ]
    },
    {
     "name": "stderr",
     "output_type": "stream",
     "text": [
      " 90%|█████████ | 546/604 [31:25<02:08,  2.22s/it]"
     ]
    },
    {
     "name": "stdout",
     "output_type": "stream",
     "text": [
      "Error:  Input contains NaN, infinity or a value too large for dtype('float64').\n"
     ]
    },
    {
     "name": "stderr",
     "output_type": "stream",
     "text": [
      " 91%|█████████ | 548/604 [31:29<01:59,  2.13s/it]"
     ]
    },
    {
     "name": "stdout",
     "output_type": "stream",
     "text": [
      "Error:  UTKBTC Database not up to date\n"
     ]
    },
    {
     "name": "stderr",
     "output_type": "stream",
     "text": [
      " 91%|█████████ | 549/604 [31:35<02:51,  3.12s/it]"
     ]
    },
    {
     "name": "stdout",
     "output_type": "stream",
     "text": [
      "Error:  VANRYBTC Database not up to date\n"
     ]
    },
    {
     "name": "stderr",
     "output_type": "stream",
     "text": [
      " 91%|█████████ | 551/604 [31:36<01:48,  2.05s/it]"
     ]
    },
    {
     "name": "stdout",
     "output_type": "stream",
     "text": [
      "Error:  max() arg is an empty sequence\n"
     ]
    },
    {
     "name": "stderr",
     "output_type": "stream",
     "text": [
      " 92%|█████████▏| 553/604 [31:37<01:06,  1.30s/it]"
     ]
    },
    {
     "name": "stdout",
     "output_type": "stream",
     "text": [
      "Error:  VETBTC Database not up to date\n"
     ]
    },
    {
     "name": "stderr",
     "output_type": "stream",
     "text": [
      " 92%|█████████▏| 555/604 [31:42<01:26,  1.76s/it]"
     ]
    },
    {
     "name": "stdout",
     "output_type": "stream",
     "text": [
      "Error:  VICBTC Database not up to date\n"
     ]
    },
    {
     "name": "stderr",
     "output_type": "stream",
     "text": [
      " 92%|█████████▏| 558/604 [31:59<02:45,  3.60s/it]"
     ]
    },
    {
     "name": "stdout",
     "output_type": "stream",
     "text": [
      "Error:  VIDTBTC Database not up to date\n"
     ]
    },
    {
     "name": "stderr",
     "output_type": "stream",
     "text": [
      " 93%|█████████▎| 560/604 [32:09<02:49,  3.84s/it]"
     ]
    },
    {
     "name": "stdout",
     "output_type": "stream",
     "text": [
      "Error:  VITEBTC Database not up to date\n"
     ]
    },
    {
     "name": "stderr",
     "output_type": "stream",
     "text": [
      " 93%|█████████▎| 562/604 [32:11<01:45,  2.51s/it]"
     ]
    },
    {
     "name": "stdout",
     "output_type": "stream",
     "text": [
      "Error:  VOXELBTC Database not up to date\n"
     ]
    },
    {
     "name": "stderr",
     "output_type": "stream",
     "text": [
      " 94%|█████████▎| 565/604 [32:18<01:19,  2.04s/it]"
     ]
    },
    {
     "name": "stdout",
     "output_type": "stream",
     "text": [
      "Error:  WANBTC Database not up to date\n"
     ]
    },
    {
     "name": "stderr",
     "output_type": "stream",
     "text": [
      " 94%|█████████▍| 567/604 [32:27<01:50,  2.98s/it]"
     ]
    },
    {
     "name": "stdout",
     "output_type": "stream",
     "text": [
      "Error:  WAVESBTC Database not up to date\n"
     ]
    },
    {
     "name": "stderr",
     "output_type": "stream",
     "text": [
      " 94%|█████████▍| 569/604 [32:35<01:49,  3.11s/it]"
     ]
    },
    {
     "name": "stdout",
     "output_type": "stream",
     "text": [
      "Error:  WAXPBTC Database not up to date\n"
     ]
    },
    {
     "name": "stderr",
     "output_type": "stream",
     "text": [
      " 95%|█████████▍| 571/604 [32:40<01:22,  2.49s/it]"
     ]
    },
    {
     "name": "stdout",
     "output_type": "stream",
     "text": [
      "Error:  WBTCBTC Database not up to date\n",
      "Error: '1146 (42S02): Table 'crypto_db.wifusdt' doesn't exist'\n",
      "Error:  max() arg is an empty sequence\n"
     ]
    },
    {
     "name": "stderr",
     "output_type": "stream",
     "text": [
      " 95%|█████████▍| 573/604 [32:40<00:43,  1.40s/it]"
     ]
    },
    {
     "name": "stdout",
     "output_type": "stream",
     "text": [
      "Error:  WINGBTC Database not up to date\n"
     ]
    },
    {
     "name": "stderr",
     "output_type": "stream",
     "text": [
      " 95%|█████████▌| 575/604 [32:54<01:45,  3.65s/it]"
     ]
    },
    {
     "name": "stdout",
     "output_type": "stream",
     "text": [
      "Error:  WLDBTC Database not up to date\n"
     ]
    },
    {
     "name": "stderr",
     "output_type": "stream",
     "text": [
      " 96%|█████████▌| 578/604 [32:56<00:52,  2.00s/it]"
     ]
    },
    {
     "name": "stdout",
     "output_type": "stream",
     "text": [
      "Error:  WOOBTC Database not up to date\n"
     ]
    },
    {
     "name": "stderr",
     "output_type": "stream",
     "text": [
      " 97%|█████████▋| 584/604 [33:27<01:32,  4.64s/it]"
     ]
    },
    {
     "name": "stdout",
     "output_type": "stream",
     "text": [
      "Error:  XLMBTC Database not up to date\n"
     ]
    },
    {
     "name": "stderr",
     "output_type": "stream",
     "text": [
      " 97%|█████████▋| 586/604 [33:38<01:20,  4.47s/it]"
     ]
    },
    {
     "name": "stdout",
     "output_type": "stream",
     "text": [
      "Error:  XNOBTC Database not up to date\n"
     ]
    },
    {
     "name": "stderr",
     "output_type": "stream",
     "text": [
      " 97%|█████████▋| 588/604 [33:47<01:05,  4.10s/it]"
     ]
    },
    {
     "name": "stdout",
     "output_type": "stream",
     "text": [
      "Error:  XRPBTC Database not up to date\n"
     ]
    },
    {
     "name": "stderr",
     "output_type": "stream",
     "text": [
      " 98%|█████████▊| 590/604 [33:53<00:47,  3.36s/it]"
     ]
    },
    {
     "name": "stdout",
     "output_type": "stream",
     "text": [
      "Error:  XTZBTC Database not up to date\n"
     ]
    },
    {
     "name": "stderr",
     "output_type": "stream",
     "text": [
      " 98%|█████████▊| 593/604 [34:03<00:31,  2.85s/it]"
     ]
    },
    {
     "name": "stdout",
     "output_type": "stream",
     "text": [
      "Error:  XVSBTC Database not up to date\n"
     ]
    },
    {
     "name": "stderr",
     "output_type": "stream",
     "text": [
      " 99%|█████████▊| 595/604 [34:27<00:57,  6.39s/it]"
     ]
    },
    {
     "name": "stdout",
     "output_type": "stream",
     "text": [
      "Error:  YFIBTC Database not up to date\n"
     ]
    },
    {
     "name": "stderr",
     "output_type": "stream",
     "text": [
      " 99%|█████████▉| 597/604 [34:34<00:32,  4.68s/it]"
     ]
    },
    {
     "name": "stdout",
     "output_type": "stream",
     "text": [
      "Error:  YGGBTC Database not up to date\n"
     ]
    },
    {
     "name": "stderr",
     "output_type": "stream",
     "text": [
      " 99%|█████████▉| 599/604 [34:43<00:21,  4.32s/it]"
     ]
    },
    {
     "name": "stdout",
     "output_type": "stream",
     "text": [
      "Error:  ZENBTC Database not up to date\n"
     ]
    },
    {
     "name": "stderr",
     "output_type": "stream",
     "text": [
      "100%|█████████▉| 601/604 [34:51<00:11,  3.82s/it]"
     ]
    },
    {
     "name": "stdout",
     "output_type": "stream",
     "text": [
      "Error:  ZILBTC Database not up to date\n"
     ]
    },
    {
     "name": "stderr",
     "output_type": "stream",
     "text": [
      "100%|█████████▉| 603/604 [34:56<00:02,  2.88s/it]"
     ]
    },
    {
     "name": "stdout",
     "output_type": "stream",
     "text": [
      "Error:  ZRXBTC Database not up to date\n"
     ]
    },
    {
     "name": "stderr",
     "output_type": "stream",
     "text": [
      "100%|██████████| 604/604 [35:00<00:00,  3.48s/it]\n"
     ]
    }
   ],
   "source": [
    "import warnings\n",
    "warnings.filterwarnings('ignore')\n",
    "\n",
    "arr_last_slope = []\n",
    "arr_last_slope_adi = []\n",
    "arr_aroon_up = []\n",
    "arr_aroon_down = []\n",
    "arr_aroon_diff = []\n",
    "arr_macd_diff = []\n",
    "arr_macd_line = []\n",
    "arr_macd_signal = []\n",
    "arr_stochastic = []\n",
    "arr_stochastic_signal = []\n",
    "arr_delta_stochastic = []\n",
    "arr_rsi_val = []\n",
    "arr_coef_corr = []\n",
    "arr_last_slope_btc = []\n",
    "\n",
    "\n",
    "arr_is_pump = []\n",
    "\n",
    "arr_market = []\n",
    "arr_start_date = []\n",
    "\n",
    "WINDOW_AFTER = 14\n",
    "for idx in tqdm(range(len(considered_market))):\n",
    "    try:\n",
    "        market = considered_market[idx]\n",
    "        market = market.replace('/','')\n",
    "        query = 'SELECT * FROM %s ORDER BY timestamp ASC' % market\n",
    "        res = execute_query(connection,query)\n",
    "        df = pd.DataFrame(res,columns=['timestamp', 'open','high', 'low','close','volume'])\n",
    "        df = df.drop_duplicates()\n",
    "        if max(df['timestamp']) < 1709251200000:\n",
    "            raise Exception(\"%s Database not up to date\" % market)\n",
    "        df['timestamp'] = pd.to_datetime(df['timestamp'], unit='ms')\n",
    "        # df = df[df['timestamp'] <= start_pump]\n",
    "        day_df = (df.resample('D', on='timestamp').agg({'open': 'first', 'high': 'max', 'low': 'min', 'close': 'last','volume': 'mean'}))\n",
    "        day_df['timestamp'] = day_df.index\n",
    "\n",
    "        # start_point = random.choice(day_df['timestamp'])\n",
    "\n",
    "        # current_price = day_df.loc[start_point]['close']\n",
    "        \n",
    "        # df_temp_next = day_df[day_df['timestamp'] > start_point]\n",
    "        # df_temp_next = df_temp_next[df_temp_next['timestamp'] < start_point + pd.DateOffset(days=WINDOW_AFTER)]\n",
    "        # max_price = max(df_temp_next['close'])\n",
    "\n",
    "        # if (max_price - current_price)/current_price > 0.5:\n",
    "        #     print(market, start_point)\n",
    "        #     print((max_price - current_price)/current_price)\n",
    "        #     # continue\n",
    "\n",
    "        # df = df[df['timestamp'] <= start_point]\n",
    "        # day_df = day_df[day_df['timestamp'] <= start_point]\n",
    "        num_idx = min([365, len(day_df)])\n",
    "\n",
    "        model_price = Earth()\n",
    "        scaler = preprocessing.MinMaxScaler(feature_range=(0,100))\n",
    "        scaled_price = scaler.fit_transform(day_df['close'].iloc[-num_idx:].values.reshape(-1,1))\n",
    "\n",
    "        arr_x = np.arange(num_idx)\n",
    "        model_price.fit(arr_x,scaled_price.flatten())\n",
    "        y_pred = model_price.predict(arr_x)\n",
    "        basis_node = get_node_mars(model_price)\n",
    "        last_node = int(basis_node[-1])\n",
    "        last_slope = (y_pred[-1] - y_pred[last_node])/(arr_x[-1] - arr_x[last_node])\n",
    "\n",
    "        adi = ta.volume.AccDistIndexIndicator(high=df['high'],low=df['low'],close=df['close'],volume=df['volume']).acc_dist_index()\n",
    "        model_adi = Earth()\n",
    "        scaler_adi = preprocessing.MinMaxScaler(feature_range=(0,1000))\n",
    "        data_num_adi = min([2000,len(df)])\n",
    "        scaled_adi = scaler_adi.fit_transform(df['close'].iloc[-data_num_adi:].values.reshape(-1,1))\n",
    "        arr_x_adi = np.arange(data_num_adi)/24\n",
    "        model_adi.fit(arr_x_adi,scaled_adi.flatten())\n",
    "\n",
    "        y_pred_adi = model_adi.predict(arr_x_adi)\n",
    "        basis_node = get_node_mars(model_adi)\n",
    "        last_node = basis_node[-1]\n",
    "        last_slope_adi = (y_pred_adi[-1] - model_adi.predict([last_node]))[0]/(arr_x[-1] - last_node)\n",
    "\n",
    "        aroon = ta.trend.AroonIndicator(low=day_df['low'],high=day_df['high'])\n",
    "        aroon_up = aroon.aroon_up()[-1]\n",
    "        aroon_down = aroon.aroon_down()[-1]\n",
    "        aroon_diff = aroon.aroon_indicator()[-1]\n",
    "\n",
    "        macd = ta.trend.MACD(close=pd.Series(scaled_price.flatten()))\n",
    "        macd_diff = macd.macd_diff().values[-1]\n",
    "        macd_line = macd.macd().values[-1]\n",
    "        macd_signal = macd.macd_signal().values[-1]\n",
    "\n",
    "        stoch_oscillator = ta.momentum.StochasticOscillator(high=day_df['high'], low=day_df['low'], close=day_df['close'])\n",
    "        stochastic = stoch_oscillator.stoch().values[-1]\n",
    "        stochastic_signal = stoch_oscillator.stoch_signal().values[-1]\n",
    "        delta_stochastic = stochastic - stochastic_signal\n",
    "\n",
    "        rsi_indicator = ta.momentum.RSIIndicator(close=pd.Series(scaled_price.flatten()))\n",
    "        rsi_val = rsi_indicator.rsi().values[-1]\n",
    "\n",
    "        query = 'SELECT * FROM btcusdt ORDER BY timestamp ASC'\n",
    "        res = execute_query(connection,query)\n",
    "        df_btc = pd.DataFrame(res,columns=['timestamp', 'open','high', 'low','close','volume'])\n",
    "        df_btc = df_btc.drop_duplicates()\n",
    "        df_btc['timestamp'] = pd.to_datetime(df_btc['timestamp'], unit='ms')\n",
    "        # df_btc = df_btc[df_btc['timestamp'] <= start_point]\n",
    "        \n",
    "        day_df_btc = (df_btc.resample('D', on='timestamp').agg({'open': 'first', 'high': 'max', 'low': 'min', 'close': 'last','volume': 'mean'}))\n",
    "        day_df_btc['timestamp'] = day_df_btc.index\n",
    "\n",
    "        alt_vs_btc = pd.DataFrame({'alt': day_df['close'].iloc[-num_idx:], 'btc': day_df_btc['close'].iloc[-num_idx:]})\n",
    "        df_corr = alt_vs_btc.corr()\n",
    "        coef_corr = df_corr['alt']['btc']\n",
    "\n",
    "        model_btc = Earth()\n",
    "        scaler_btc = preprocessing.MinMaxScaler(feature_range=(0,100))\n",
    "        scaled_price_btc = scaler_btc.fit_transform(day_df_btc['close'].iloc[-num_idx:].values.reshape(-1,1))\n",
    "\n",
    "        arr_x = np.arange(num_idx)\n",
    "        model_btc.fit(arr_x,scaled_price_btc.flatten())\n",
    "\n",
    "        y_pred_btc = model_btc.predict(arr_x)\n",
    "        basis_node_btc = get_node_mars(model_btc)\n",
    "        last_node_btc = int(basis_node_btc[-1])\n",
    "        last_slope_btc = (y_pred_btc[-1] - y_pred_btc[last_node_btc])/(arr_x[-1] - arr_x[last_node_btc])\n",
    "\n",
    "        arr_last_slope.append(last_slope)\n",
    "        arr_last_slope_adi.append(last_slope_adi)\n",
    "        arr_aroon_up.append(aroon_up)\n",
    "        arr_aroon_down.append(aroon_down)\n",
    "        arr_aroon_diff.append(aroon_diff)\n",
    "        arr_macd_diff.append(macd_diff)\n",
    "        arr_macd_line.append(macd_line)\n",
    "        arr_macd_signal.append(macd_signal)\n",
    "        arr_stochastic.append(stochastic)\n",
    "        arr_stochastic_signal.append(stochastic_signal)\n",
    "        arr_delta_stochastic.append(delta_stochastic)\n",
    "        arr_rsi_val.append(rsi_val)\n",
    "        arr_coef_corr.append(coef_corr)\n",
    "        arr_last_slope_btc.append(last_slope_btc)\n",
    "        arr_market.append(market)\n",
    "        # arr_start_date.append(start_point)\n",
    "    except Exception as e:\n",
    "        print('Error: ', e)\n",
    "        arr_last_slope.append(np.nan)\n",
    "        arr_last_slope_adi.append(np.nan)\n",
    "        arr_aroon_up.append(np.nan)\n",
    "        arr_aroon_down.append(np.nan)\n",
    "        arr_aroon_diff.append(np.nan)\n",
    "        arr_macd_diff.append(np.nan)\n",
    "        arr_macd_line.append(np.nan)\n",
    "        arr_macd_signal.append(np.nan)\n",
    "        arr_stochastic.append(np.nan)\n",
    "        arr_stochastic_signal.append(np.nan)\n",
    "        arr_delta_stochastic.append(np.nan)\n",
    "        arr_rsi_val.append(np.nan)\n",
    "        arr_coef_corr.append(np.nan)\n",
    "        arr_last_slope_btc.append(np.nan)\n",
    "        arr_market.append(market)\n",
    "        # arr_start_date.append(start_point)\n",
    "        continue"
   ]
  },
  {
   "cell_type": "code",
   "execution_count": 9,
   "metadata": {},
   "outputs": [],
   "source": [
    "current_data = pd.DataFrame({'market': arr_market,\n",
    "                         })\n",
    "current_data['last_slope'] = arr_last_slope\n",
    "current_data['last_slope_adi'] = arr_last_slope_adi\n",
    "current_data['aroon_up'] = arr_aroon_up\n",
    "current_data['aroon_down'] = arr_aroon_down\n",
    "current_data['aroon_diff'] = arr_aroon_diff\n",
    "current_data['macd_diff'] = arr_macd_diff\n",
    "current_data['macd_line'] = arr_macd_line\n",
    "current_data['macd_signal'] = arr_macd_signal\n",
    "current_data['stochastic'] = arr_stochastic\n",
    "current_data['stochastic_signal'] = arr_stochastic_signal\n",
    "current_data['delta_stochastic'] = arr_delta_stochastic\n",
    "current_data['rsi_val'] = arr_rsi_val\n",
    "current_data['coef_corr'] = arr_coef_corr\n",
    "current_data['last_slope_btc'] = arr_last_slope_btc"
   ]
  },
  {
   "cell_type": "code",
   "execution_count": 13,
   "metadata": {},
   "outputs": [],
   "source": [
    "current_data = current_data.dropna()"
   ]
  },
  {
   "cell_type": "code",
   "execution_count": 14,
   "metadata": {},
   "outputs": [
    {
     "data": {
      "text/html": [
       "<div>\n",
       "<style scoped>\n",
       "    .dataframe tbody tr th:only-of-type {\n",
       "        vertical-align: middle;\n",
       "    }\n",
       "\n",
       "    .dataframe tbody tr th {\n",
       "        vertical-align: top;\n",
       "    }\n",
       "\n",
       "    .dataframe thead th {\n",
       "        text-align: right;\n",
       "    }\n",
       "</style>\n",
       "<table border=\"1\" class=\"dataframe\">\n",
       "  <thead>\n",
       "    <tr style=\"text-align: right;\">\n",
       "      <th></th>\n",
       "      <th>market</th>\n",
       "      <th>last_slope</th>\n",
       "      <th>last_slope_adi</th>\n",
       "      <th>aroon_up</th>\n",
       "      <th>aroon_down</th>\n",
       "      <th>aroon_diff</th>\n",
       "      <th>macd_diff</th>\n",
       "      <th>macd_line</th>\n",
       "      <th>macd_signal</th>\n",
       "      <th>stochastic</th>\n",
       "      <th>stochastic_signal</th>\n",
       "      <th>delta_stochastic</th>\n",
       "      <th>rsi_val</th>\n",
       "      <th>coef_corr</th>\n",
       "      <th>last_slope_btc</th>\n",
       "    </tr>\n",
       "  </thead>\n",
       "  <tbody>\n",
       "    <tr>\n",
       "      <th>2</th>\n",
       "      <td>1INCHUSDT</td>\n",
       "      <td>3.106811</td>\n",
       "      <td>0.306093</td>\n",
       "      <td>96.0</td>\n",
       "      <td>0.0</td>\n",
       "      <td>96.0</td>\n",
       "      <td>2.591268</td>\n",
       "      <td>11.604379</td>\n",
       "      <td>9.013111</td>\n",
       "      <td>86.252546</td>\n",
       "      <td>91.952381</td>\n",
       "      <td>-5.699835</td>\n",
       "      <td>70.735196</td>\n",
       "      <td>0.448768</td>\n",
       "      <td>1.150705</td>\n",
       "    </tr>\n",
       "    <tr>\n",
       "      <th>3</th>\n",
       "      <td>AAVEUSDT</td>\n",
       "      <td>2.730850</td>\n",
       "      <td>0.597512</td>\n",
       "      <td>100.0</td>\n",
       "      <td>0.0</td>\n",
       "      <td>100.0</td>\n",
       "      <td>3.250811</td>\n",
       "      <td>10.306344</td>\n",
       "      <td>7.055534</td>\n",
       "      <td>82.498268</td>\n",
       "      <td>93.662382</td>\n",
       "      <td>-11.164114</td>\n",
       "      <td>70.324743</td>\n",
       "      <td>0.857666</td>\n",
       "      <td>1.150705</td>\n",
       "    </tr>\n",
       "    <tr>\n",
       "      <th>5</th>\n",
       "      <td>ACAUSDT</td>\n",
       "      <td>2.473462</td>\n",
       "      <td>0.455137</td>\n",
       "      <td>80.0</td>\n",
       "      <td>36.0</td>\n",
       "      <td>44.0</td>\n",
       "      <td>1.352613</td>\n",
       "      <td>7.175834</td>\n",
       "      <td>5.823221</td>\n",
       "      <td>59.198543</td>\n",
       "      <td>58.545633</td>\n",
       "      <td>0.652910</td>\n",
       "      <td>62.492731</td>\n",
       "      <td>0.652707</td>\n",
       "      <td>1.150705</td>\n",
       "    </tr>\n",
       "    <tr>\n",
       "      <th>7</th>\n",
       "      <td>ACEUSDT</td>\n",
       "      <td>1.888034</td>\n",
       "      <td>101.530333</td>\n",
       "      <td>84.0</td>\n",
       "      <td>0.0</td>\n",
       "      <td>84.0</td>\n",
       "      <td>0.845454</td>\n",
       "      <td>10.509408</td>\n",
       "      <td>9.663954</td>\n",
       "      <td>70.794398</td>\n",
       "      <td>68.671429</td>\n",
       "      <td>2.122969</td>\n",
       "      <td>60.795865</td>\n",
       "      <td>0.499572</td>\n",
       "      <td>1.764322</td>\n",
       "    </tr>\n",
       "    <tr>\n",
       "      <th>9</th>\n",
       "      <td>ACHUSDT</td>\n",
       "      <td>1.486491</td>\n",
       "      <td>-0.241926</td>\n",
       "      <td>96.0</td>\n",
       "      <td>0.0</td>\n",
       "      <td>96.0</td>\n",
       "      <td>1.435127</td>\n",
       "      <td>9.022757</td>\n",
       "      <td>7.587630</td>\n",
       "      <td>80.590717</td>\n",
       "      <td>76.030109</td>\n",
       "      <td>4.560608</td>\n",
       "      <td>71.306800</td>\n",
       "      <td>0.018787</td>\n",
       "      <td>1.150705</td>\n",
       "    </tr>\n",
       "  </tbody>\n",
       "</table>\n",
       "</div>"
      ],
      "text/plain": [
       "      market  last_slope  last_slope_adi  aroon_up  aroon_down  aroon_diff  \\\n",
       "2  1INCHUSDT    3.106811        0.306093      96.0         0.0        96.0   \n",
       "3   AAVEUSDT    2.730850        0.597512     100.0         0.0       100.0   \n",
       "5    ACAUSDT    2.473462        0.455137      80.0        36.0        44.0   \n",
       "7    ACEUSDT    1.888034      101.530333      84.0         0.0        84.0   \n",
       "9    ACHUSDT    1.486491       -0.241926      96.0         0.0        96.0   \n",
       "\n",
       "   macd_diff  macd_line  macd_signal  stochastic  stochastic_signal  \\\n",
       "2   2.591268  11.604379     9.013111   86.252546          91.952381   \n",
       "3   3.250811  10.306344     7.055534   82.498268          93.662382   \n",
       "5   1.352613   7.175834     5.823221   59.198543          58.545633   \n",
       "7   0.845454  10.509408     9.663954   70.794398          68.671429   \n",
       "9   1.435127   9.022757     7.587630   80.590717          76.030109   \n",
       "\n",
       "   delta_stochastic    rsi_val  coef_corr  last_slope_btc  \n",
       "2         -5.699835  70.735196   0.448768        1.150705  \n",
       "3        -11.164114  70.324743   0.857666        1.150705  \n",
       "5          0.652910  62.492731   0.652707        1.150705  \n",
       "7          2.122969  60.795865   0.499572        1.764322  \n",
       "9          4.560608  71.306800   0.018787        1.150705  "
      ]
     },
     "execution_count": 14,
     "metadata": {},
     "output_type": "execute_result"
    }
   ],
   "source": [
    "current_data.head()"
   ]
  },
  {
   "cell_type": "code",
   "execution_count": 15,
   "metadata": {},
   "outputs": [],
   "source": [
    "df_data_pump = pd.read_csv('data_pump_not_ico.csv')\n",
    "df_data_not_pump = pd.read_csv('data_not_pump.csv')"
   ]
  },
  {
   "cell_type": "code",
   "execution_count": 16,
   "metadata": {},
   "outputs": [],
   "source": [
    "df_pump_cand = df_data_pump[['market','start','last_slope', 'last_slope_adi',\n",
    "       'aroon_up', 'aroon_down', 'aroon_diff', 'macd_diff', 'macd_line',\n",
    "       'macd_signal', 'stochastic', 'stochastic_signal', 'delta_stochastic',\n",
    "       'rsi_val', 'coef_corr', 'last_slope_btc']]\n",
    "df_not_pump_cand = df_data_not_pump[['market','start','last_slope', 'last_slope_adi',\n",
    "       'aroon_up', 'aroon_down', 'aroon_diff', 'macd_diff', 'macd_line',\n",
    "       'macd_signal', 'stochastic', 'stochastic_signal', 'delta_stochastic',\n",
    "       'rsi_val', 'coef_corr', 'last_slope_btc']]"
   ]
  },
  {
   "cell_type": "code",
   "execution_count": 17,
   "metadata": {},
   "outputs": [],
   "source": [
    "df_not_pump_cand['is_pump'] = np.zeros(len(df_not_pump_cand))\n",
    "df_pump_cand['is_pump'] = np.ones(len(df_pump_cand))"
   ]
  },
  {
   "cell_type": "code",
   "execution_count": 18,
   "metadata": {},
   "outputs": [],
   "source": [
    "df_combine = pd.concat([df_not_pump_cand,df_pump_cand])"
   ]
  },
  {
   "cell_type": "code",
   "execution_count": 19,
   "metadata": {},
   "outputs": [
    {
     "name": "stdout",
     "output_type": "stream",
     "text": [
      "1.7243532560214094\n"
     ]
    },
    {
     "name": "stderr",
     "output_type": "stream",
     "text": [
      "100%|██████████| 327/327 [00:01<00:00, 167.04it/s]\n"
     ]
    }
   ],
   "source": [
    "arr_prob_last_slope = []\n",
    "arr_prob_macd = []\n",
    "arr_prob_macd_diff = []\n",
    "arr_prob_stochastic = []\n",
    "arr_prob_rsi = []\n",
    "arr_prob_corr_btc = []\n",
    "\n",
    "weight_data_pump = len(df_data_not_pump)/len(df_data_pump)\n",
    "print(weight_data_pump)\n",
    "\n",
    "for i in tqdm(range(len(current_data))):\n",
    "    var = current_data.iloc[i]\n",
    "    last_slope_val = var['last_slope']\n",
    "    band = 0.1\n",
    "    last_slope = {}\n",
    "    num_pump = weight_data_pump*len(df_data_pump.loc[(df_data_pump['last_slope'] >= last_slope_val - band) & (df_data_pump['last_slope'] <= last_slope_val + band)])\n",
    "    num_not_pump = len(df_data_not_pump.loc[(df_data_not_pump['last_slope'] >= last_slope_val - band) & (df_data_not_pump['last_slope'] <= last_slope_val + band)])\n",
    "    if num_pump+num_not_pump == 0:\n",
    "        last_slope['1'] = 0.5\n",
    "        last_slope['0'] = 1 - last_slope['1']\n",
    "    else:\n",
    "        last_slope['1'] = num_pump/(num_pump+num_not_pump)\n",
    "        last_slope['0'] = 1 - last_slope['1']\n",
    "    \n",
    "    macd_line_val = var['macd_line']\n",
    "    macd_signal_val = var['macd_signal']\n",
    "    band_line = 0.5\n",
    "    band_signal = 0.5\n",
    "    macd_line_signal = {}\n",
    "    temp = df_combine.loc[(df_combine['macd_signal'] >= macd_signal_val - band_signal) &\n",
    "                        (df_combine['macd_signal'] <= macd_signal_val + band_signal) &\n",
    "                        (df_combine['macd_line'] >= macd_line_val - band_line) &\n",
    "                        (df_combine['macd_line'] <= macd_line_val + band_line)]\n",
    "    num_pump = weight_data_pump*sum(temp['is_pump'])\n",
    "    num_not_pump = len(temp['is_pump'])-sum(temp['is_pump'])\n",
    "    if num_pump+num_not_pump == 0:\n",
    "        macd_line_signal['1'] = 0.5\n",
    "        macd_line_signal['0'] = 1 - macd_line_signal['1']\n",
    "    else:\n",
    "        macd_line_signal['1'] = num_pump/(num_pump+num_not_pump)\n",
    "        macd_line_signal['0'] = 1 - macd_line_signal['1']\n",
    "    \n",
    "    macd_diff_val = var['macd_diff']\n",
    "    band = 0.1\n",
    "    macd_diff = {}\n",
    "    num_pump = weight_data_pump*len(df_data_pump.loc[(df_data_pump['macd_diff'] >= macd_diff_val - band) & (df_data_pump['macd_diff'] <= macd_diff_val + band)])\n",
    "    num_not_pump = len(df_data_not_pump.loc[(df_data_not_pump['macd_diff'] >= macd_diff_val - band) & (df_data_not_pump['macd_diff'] <= macd_diff_val + band)])\n",
    "    if num_pump+num_not_pump == 0:\n",
    "        macd_diff['1'] = 0.5\n",
    "        macd_diff['0'] = 1 - macd_diff['1']\n",
    "    else:\n",
    "        macd_diff['1'] = num_pump/(num_pump+num_not_pump)\n",
    "        macd_diff['0'] = 1 - macd_diff['1']\n",
    "    \n",
    "    stochastic_val = var['stochastic']\n",
    "    stochastic_signal_val = var['stochastic_signal']\n",
    "    band_line = 2.5\n",
    "    band_signal = 2.5\n",
    "    stochastic_line_signal = {}\n",
    "    temp = df_combine.loc[(df_combine['stochastic'] >= stochastic_val - band_line) &\n",
    "                        (df_combine['stochastic'] <= stochastic_val + band_line) &\n",
    "                        (df_combine['stochastic_signal'] >= stochastic_signal_val - band_signal) &\n",
    "                        (df_combine['stochastic_signal'] <= stochastic_signal_val + band_signal)]\n",
    "    num_pump = weight_data_pump*sum(temp['is_pump'])\n",
    "    num_not_pump = len(temp['is_pump'])-sum(temp['is_pump'])\n",
    "    if num_pump+num_not_pump == 0:\n",
    "        stochastic_line_signal['1'] = 0.5\n",
    "        stochastic_line_signal['0'] = 1 - stochastic_line_signal['1']\n",
    "    else:\n",
    "        stochastic_line_signal['1'] = num_pump/(num_pump+num_not_pump)\n",
    "        stochastic_line_signal['0'] = 1 - stochastic_line_signal['1']\n",
    "    \n",
    "    rsi_val = var['rsi_val']\n",
    "    band = 2.5\n",
    "    rsi = {}\n",
    "    num_pump = weight_data_pump*len(df_data_pump.loc[(df_data_pump['rsi_val'] >= rsi_val - band) & (df_data_pump['rsi_val'] <= rsi_val + band)])\n",
    "    num_not_pump = len(df_data_not_pump.loc[(df_data_not_pump['rsi_val'] >= rsi_val - band) & (df_data_not_pump['rsi_val'] <= rsi_val + band)])\n",
    "    if num_pump+num_not_pump == 0:\n",
    "        rsi['1'] = 0.5\n",
    "        rsi['0'] = 1 - rsi['1']\n",
    "    else:\n",
    "        rsi['1'] = num_pump/(num_pump+num_not_pump)\n",
    "        rsi['0'] = 1 - rsi['1']\n",
    "    \n",
    "    coef_corr_val = var['coef_corr']\n",
    "    slope_btc_val = var['last_slope_btc']\n",
    "    band_corr = 0.05\n",
    "    band_slope = 0.25\n",
    "    corr_slope_btc = {}\n",
    "    temp = df_combine.loc[(df_combine['coef_corr'] >= coef_corr_val - band_corr) &\n",
    "                        (df_combine['coef_corr'] <= coef_corr_val + band_corr) &\n",
    "                        (df_combine['last_slope_btc'] >= slope_btc_val - band_slope) &\n",
    "                        (df_combine['last_slope_btc'] <= slope_btc_val + band_slope)]\n",
    "    num_pump = weight_data_pump*sum(temp['is_pump'])\n",
    "    num_not_pump = len(temp['is_pump'])-sum(temp['is_pump'])\n",
    "    if num_pump+num_not_pump == 0:\n",
    "        corr_slope_btc['1'] = 0.5\n",
    "        corr_slope_btc['0'] = 0.5\n",
    "    else:\n",
    "        corr_slope_btc['1'] = num_pump/(num_pump+num_not_pump)\n",
    "        corr_slope_btc['0'] = 1 - corr_slope_btc['1']\n",
    "    \n",
    "    arr_prob_last_slope.append(last_slope['1'])\n",
    "    arr_prob_macd.append(macd_line_signal['1'])\n",
    "    arr_prob_macd_diff.append(macd_diff['1'])\n",
    "    arr_prob_stochastic.append(stochastic_line_signal['1'])\n",
    "    arr_prob_rsi.append(rsi['1'])\n",
    "    arr_prob_corr_btc.append(corr_slope_btc['1'])\n"
   ]
  },
  {
   "cell_type": "code",
   "execution_count": 20,
   "metadata": {},
   "outputs": [
    {
     "data": {
      "text/html": [
       "<div>\n",
       "<style scoped>\n",
       "    .dataframe tbody tr th:only-of-type {\n",
       "        vertical-align: middle;\n",
       "    }\n",
       "\n",
       "    .dataframe tbody tr th {\n",
       "        vertical-align: top;\n",
       "    }\n",
       "\n",
       "    .dataframe thead th {\n",
       "        text-align: right;\n",
       "    }\n",
       "</style>\n",
       "<table border=\"1\" class=\"dataframe\">\n",
       "  <thead>\n",
       "    <tr style=\"text-align: right;\">\n",
       "      <th></th>\n",
       "      <th>market</th>\n",
       "      <th>last_slope</th>\n",
       "      <th>last_slope_adi</th>\n",
       "      <th>aroon_up</th>\n",
       "      <th>aroon_down</th>\n",
       "      <th>aroon_diff</th>\n",
       "      <th>macd_diff</th>\n",
       "      <th>macd_line</th>\n",
       "      <th>macd_signal</th>\n",
       "      <th>stochastic</th>\n",
       "      <th>...</th>\n",
       "      <th>delta_stochastic</th>\n",
       "      <th>rsi_val</th>\n",
       "      <th>coef_corr</th>\n",
       "      <th>last_slope_btc</th>\n",
       "      <th>prob_last_slope</th>\n",
       "      <th>prob_macd</th>\n",
       "      <th>prob_macd_diff</th>\n",
       "      <th>prob_stochastic</th>\n",
       "      <th>prob_rsi</th>\n",
       "      <th>prob_corr_btc</th>\n",
       "    </tr>\n",
       "  </thead>\n",
       "  <tbody>\n",
       "    <tr>\n",
       "      <th>2</th>\n",
       "      <td>1INCHUSDT</td>\n",
       "      <td>3.106811</td>\n",
       "      <td>0.306093</td>\n",
       "      <td>96.0</td>\n",
       "      <td>0.0</td>\n",
       "      <td>96.0</td>\n",
       "      <td>2.591268</td>\n",
       "      <td>11.604379</td>\n",
       "      <td>9.013111</td>\n",
       "      <td>86.252546</td>\n",
       "      <td>...</td>\n",
       "      <td>-5.699835</td>\n",
       "      <td>70.735196</td>\n",
       "      <td>0.448768</td>\n",
       "      <td>1.150705</td>\n",
       "      <td>0.563940</td>\n",
       "      <td>0.000000</td>\n",
       "      <td>0.223236</td>\n",
       "      <td>0.364992</td>\n",
       "      <td>0.220070</td>\n",
       "      <td>0.579741</td>\n",
       "    </tr>\n",
       "    <tr>\n",
       "      <th>3</th>\n",
       "      <td>AAVEUSDT</td>\n",
       "      <td>2.730850</td>\n",
       "      <td>0.597512</td>\n",
       "      <td>100.0</td>\n",
       "      <td>0.0</td>\n",
       "      <td>100.0</td>\n",
       "      <td>3.250811</td>\n",
       "      <td>10.306344</td>\n",
       "      <td>7.055534</td>\n",
       "      <td>82.498268</td>\n",
       "      <td>...</td>\n",
       "      <td>-11.164114</td>\n",
       "      <td>70.324743</td>\n",
       "      <td>0.857666</td>\n",
       "      <td>1.150705</td>\n",
       "      <td>0.632940</td>\n",
       "      <td>0.000000</td>\n",
       "      <td>0.462994</td>\n",
       "      <td>0.000000</td>\n",
       "      <td>0.284655</td>\n",
       "      <td>0.481462</td>\n",
       "    </tr>\n",
       "    <tr>\n",
       "      <th>5</th>\n",
       "      <td>ACAUSDT</td>\n",
       "      <td>2.473462</td>\n",
       "      <td>0.455137</td>\n",
       "      <td>80.0</td>\n",
       "      <td>36.0</td>\n",
       "      <td>44.0</td>\n",
       "      <td>1.352613</td>\n",
       "      <td>7.175834</td>\n",
       "      <td>5.823221</td>\n",
       "      <td>59.198543</td>\n",
       "      <td>...</td>\n",
       "      <td>0.652910</td>\n",
       "      <td>62.492731</td>\n",
       "      <td>0.652707</td>\n",
       "      <td>1.150705</td>\n",
       "      <td>0.340937</td>\n",
       "      <td>0.462994</td>\n",
       "      <td>0.230703</td>\n",
       "      <td>0.632940</td>\n",
       "      <td>0.427023</td>\n",
       "      <td>0.508506</td>\n",
       "    </tr>\n",
       "    <tr>\n",
       "      <th>7</th>\n",
       "      <td>ACEUSDT</td>\n",
       "      <td>1.888034</td>\n",
       "      <td>101.530333</td>\n",
       "      <td>84.0</td>\n",
       "      <td>0.0</td>\n",
       "      <td>84.0</td>\n",
       "      <td>0.845454</td>\n",
       "      <td>10.509408</td>\n",
       "      <td>9.663954</td>\n",
       "      <td>70.794398</td>\n",
       "      <td>...</td>\n",
       "      <td>2.122969</td>\n",
       "      <td>60.795865</td>\n",
       "      <td>0.499572</td>\n",
       "      <td>1.764322</td>\n",
       "      <td>0.064524</td>\n",
       "      <td>1.000000</td>\n",
       "      <td>0.310670</td>\n",
       "      <td>0.392700</td>\n",
       "      <td>0.462994</td>\n",
       "      <td>0.741864</td>\n",
       "    </tr>\n",
       "    <tr>\n",
       "      <th>9</th>\n",
       "      <td>ACHUSDT</td>\n",
       "      <td>1.486491</td>\n",
       "      <td>-0.241926</td>\n",
       "      <td>96.0</td>\n",
       "      <td>0.0</td>\n",
       "      <td>96.0</td>\n",
       "      <td>1.435127</td>\n",
       "      <td>9.022757</td>\n",
       "      <td>7.587630</td>\n",
       "      <td>80.590717</td>\n",
       "      <td>...</td>\n",
       "      <td>4.560608</td>\n",
       "      <td>71.306800</td>\n",
       "      <td>0.018787</td>\n",
       "      <td>1.150705</td>\n",
       "      <td>0.492373</td>\n",
       "      <td>0.462994</td>\n",
       "      <td>0.201498</td>\n",
       "      <td>0.209664</td>\n",
       "      <td>0.209664</td>\n",
       "      <td>0.197648</td>\n",
       "    </tr>\n",
       "  </tbody>\n",
       "</table>\n",
       "<p>5 rows × 21 columns</p>\n",
       "</div>"
      ],
      "text/plain": [
       "      market  last_slope  last_slope_adi  aroon_up  aroon_down  aroon_diff  \\\n",
       "2  1INCHUSDT    3.106811        0.306093      96.0         0.0        96.0   \n",
       "3   AAVEUSDT    2.730850        0.597512     100.0         0.0       100.0   \n",
       "5    ACAUSDT    2.473462        0.455137      80.0        36.0        44.0   \n",
       "7    ACEUSDT    1.888034      101.530333      84.0         0.0        84.0   \n",
       "9    ACHUSDT    1.486491       -0.241926      96.0         0.0        96.0   \n",
       "\n",
       "   macd_diff  macd_line  macd_signal  stochastic  ...  delta_stochastic  \\\n",
       "2   2.591268  11.604379     9.013111   86.252546  ...         -5.699835   \n",
       "3   3.250811  10.306344     7.055534   82.498268  ...        -11.164114   \n",
       "5   1.352613   7.175834     5.823221   59.198543  ...          0.652910   \n",
       "7   0.845454  10.509408     9.663954   70.794398  ...          2.122969   \n",
       "9   1.435127   9.022757     7.587630   80.590717  ...          4.560608   \n",
       "\n",
       "     rsi_val  coef_corr  last_slope_btc  prob_last_slope  prob_macd  \\\n",
       "2  70.735196   0.448768        1.150705         0.563940   0.000000   \n",
       "3  70.324743   0.857666        1.150705         0.632940   0.000000   \n",
       "5  62.492731   0.652707        1.150705         0.340937   0.462994   \n",
       "7  60.795865   0.499572        1.764322         0.064524   1.000000   \n",
       "9  71.306800   0.018787        1.150705         0.492373   0.462994   \n",
       "\n",
       "   prob_macd_diff  prob_stochastic  prob_rsi  prob_corr_btc  \n",
       "2        0.223236         0.364992  0.220070       0.579741  \n",
       "3        0.462994         0.000000  0.284655       0.481462  \n",
       "5        0.230703         0.632940  0.427023       0.508506  \n",
       "7        0.310670         0.392700  0.462994       0.741864  \n",
       "9        0.201498         0.209664  0.209664       0.197648  \n",
       "\n",
       "[5 rows x 21 columns]"
      ]
     },
     "execution_count": 20,
     "metadata": {},
     "output_type": "execute_result"
    }
   ],
   "source": [
    "current_data['prob_last_slope'] = arr_prob_last_slope\n",
    "current_data['prob_macd'] = arr_prob_macd\n",
    "current_data['prob_macd_diff'] = arr_prob_macd_diff\n",
    "current_data['prob_stochastic'] = arr_prob_stochastic\n",
    "current_data['prob_rsi'] = arr_prob_rsi\n",
    "current_data['prob_corr_btc'] = arr_prob_corr_btc\n",
    "current_data.head()"
   ]
  },
  {
   "cell_type": "code",
   "execution_count": 21,
   "metadata": {},
   "outputs": [],
   "source": [
    "current_data.to_csv('current_data_early_mar.csv')"
   ]
  },
  {
   "cell_type": "code",
   "execution_count": 22,
   "metadata": {},
   "outputs": [],
   "source": [
    "import pickle\n",
    "import joblib\n",
    "\n",
    "logreg_model = pickle.load(open('logreg_model.sav', 'rb'))\n",
    "# rf_model = joblib.load(\"rf_model.joblib\")\n",
    "# rf_model = pickle.load(open('rf_model.sav', 'rb'))"
   ]
  },
  {
   "cell_type": "code",
   "execution_count": 23,
   "metadata": {},
   "outputs": [
    {
     "data": {
      "text/html": [
       "<div>\n",
       "<style scoped>\n",
       "    .dataframe tbody tr th:only-of-type {\n",
       "        vertical-align: middle;\n",
       "    }\n",
       "\n",
       "    .dataframe tbody tr th {\n",
       "        vertical-align: top;\n",
       "    }\n",
       "\n",
       "    .dataframe thead th {\n",
       "        text-align: right;\n",
       "    }\n",
       "</style>\n",
       "<table border=\"1\" class=\"dataframe\">\n",
       "  <thead>\n",
       "    <tr style=\"text-align: right;\">\n",
       "      <th></th>\n",
       "      <th>prob_last_slope</th>\n",
       "      <th>prob_macd</th>\n",
       "      <th>prob_macd_diff</th>\n",
       "      <th>prob_stochastic</th>\n",
       "      <th>prob_rsi</th>\n",
       "      <th>prob_corr_btc</th>\n",
       "    </tr>\n",
       "  </thead>\n",
       "  <tbody>\n",
       "    <tr>\n",
       "      <th>2</th>\n",
       "      <td>0.563940</td>\n",
       "      <td>0.000000</td>\n",
       "      <td>0.223236</td>\n",
       "      <td>0.364992</td>\n",
       "      <td>0.220070</td>\n",
       "      <td>0.579741</td>\n",
       "    </tr>\n",
       "    <tr>\n",
       "      <th>3</th>\n",
       "      <td>0.632940</td>\n",
       "      <td>0.000000</td>\n",
       "      <td>0.462994</td>\n",
       "      <td>0.000000</td>\n",
       "      <td>0.284655</td>\n",
       "      <td>0.481462</td>\n",
       "    </tr>\n",
       "    <tr>\n",
       "      <th>5</th>\n",
       "      <td>0.340937</td>\n",
       "      <td>0.462994</td>\n",
       "      <td>0.230703</td>\n",
       "      <td>0.632940</td>\n",
       "      <td>0.427023</td>\n",
       "      <td>0.508506</td>\n",
       "    </tr>\n",
       "    <tr>\n",
       "      <th>7</th>\n",
       "      <td>0.064524</td>\n",
       "      <td>1.000000</td>\n",
       "      <td>0.310670</td>\n",
       "      <td>0.392700</td>\n",
       "      <td>0.462994</td>\n",
       "      <td>0.741864</td>\n",
       "    </tr>\n",
       "    <tr>\n",
       "      <th>9</th>\n",
       "      <td>0.492373</td>\n",
       "      <td>0.462994</td>\n",
       "      <td>0.201498</td>\n",
       "      <td>0.209664</td>\n",
       "      <td>0.209664</td>\n",
       "      <td>0.197648</td>\n",
       "    </tr>\n",
       "    <tr>\n",
       "      <th>...</th>\n",
       "      <td>...</td>\n",
       "      <td>...</td>\n",
       "      <td>...</td>\n",
       "      <td>...</td>\n",
       "      <td>...</td>\n",
       "      <td>...</td>\n",
       "    </tr>\n",
       "    <tr>\n",
       "      <th>595</th>\n",
       "      <td>0.256434</td>\n",
       "      <td>0.000000</td>\n",
       "      <td>0.312137</td>\n",
       "      <td>0.439398</td>\n",
       "      <td>0.000000</td>\n",
       "      <td>0.534790</td>\n",
       "    </tr>\n",
       "    <tr>\n",
       "      <th>597</th>\n",
       "      <td>0.632940</td>\n",
       "      <td>0.838006</td>\n",
       "      <td>0.472108</td>\n",
       "      <td>0.291062</td>\n",
       "      <td>0.490563</td>\n",
       "      <td>0.596452</td>\n",
       "    </tr>\n",
       "    <tr>\n",
       "      <th>599</th>\n",
       "      <td>0.433870</td>\n",
       "      <td>1.000000</td>\n",
       "      <td>0.456281</td>\n",
       "      <td>0.392700</td>\n",
       "      <td>0.384124</td>\n",
       "      <td>0.579741</td>\n",
       "    </tr>\n",
       "    <tr>\n",
       "      <th>601</th>\n",
       "      <td>0.000000</td>\n",
       "      <td>1.000000</td>\n",
       "      <td>0.000000</td>\n",
       "      <td>0.496309</td>\n",
       "      <td>0.220070</td>\n",
       "      <td>0.496309</td>\n",
       "    </tr>\n",
       "    <tr>\n",
       "      <th>603</th>\n",
       "      <td>0.000000</td>\n",
       "      <td>0.000000</td>\n",
       "      <td>0.000000</td>\n",
       "      <td>0.462994</td>\n",
       "      <td>0.201498</td>\n",
       "      <td>0.551907</td>\n",
       "    </tr>\n",
       "  </tbody>\n",
       "</table>\n",
       "<p>327 rows × 6 columns</p>\n",
       "</div>"
      ],
      "text/plain": [
       "     prob_last_slope  prob_macd  prob_macd_diff  prob_stochastic  prob_rsi  \\\n",
       "2           0.563940   0.000000        0.223236         0.364992  0.220070   \n",
       "3           0.632940   0.000000        0.462994         0.000000  0.284655   \n",
       "5           0.340937   0.462994        0.230703         0.632940  0.427023   \n",
       "7           0.064524   1.000000        0.310670         0.392700  0.462994   \n",
       "9           0.492373   0.462994        0.201498         0.209664  0.209664   \n",
       "..               ...        ...             ...              ...       ...   \n",
       "595         0.256434   0.000000        0.312137         0.439398  0.000000   \n",
       "597         0.632940   0.838006        0.472108         0.291062  0.490563   \n",
       "599         0.433870   1.000000        0.456281         0.392700  0.384124   \n",
       "601         0.000000   1.000000        0.000000         0.496309  0.220070   \n",
       "603         0.000000   0.000000        0.000000         0.462994  0.201498   \n",
       "\n",
       "     prob_corr_btc  \n",
       "2         0.579741  \n",
       "3         0.481462  \n",
       "5         0.508506  \n",
       "7         0.741864  \n",
       "9         0.197648  \n",
       "..             ...  \n",
       "595       0.534790  \n",
       "597       0.596452  \n",
       "599       0.579741  \n",
       "601       0.496309  \n",
       "603       0.551907  \n",
       "\n",
       "[327 rows x 6 columns]"
      ]
     },
     "execution_count": 23,
     "metadata": {},
     "output_type": "execute_result"
    }
   ],
   "source": [
    "X = current_data[['prob_last_slope','prob_macd','prob_macd_diff','prob_stochastic','prob_rsi','prob_corr_btc']]\n",
    "X"
   ]
  },
  {
   "cell_type": "code",
   "execution_count": 24,
   "metadata": {},
   "outputs": [],
   "source": [
    "pred = logreg_model.predict(X)\n",
    "current_data['prediction'] = pred"
   ]
  },
  {
   "cell_type": "code",
   "execution_count": 25,
   "metadata": {},
   "outputs": [
    {
     "data": {
      "text/html": [
       "<div>\n",
       "<style scoped>\n",
       "    .dataframe tbody tr th:only-of-type {\n",
       "        vertical-align: middle;\n",
       "    }\n",
       "\n",
       "    .dataframe tbody tr th {\n",
       "        vertical-align: top;\n",
       "    }\n",
       "\n",
       "    .dataframe thead th {\n",
       "        text-align: right;\n",
       "    }\n",
       "</style>\n",
       "<table border=\"1\" class=\"dataframe\">\n",
       "  <thead>\n",
       "    <tr style=\"text-align: right;\">\n",
       "      <th></th>\n",
       "      <th>market</th>\n",
       "      <th>last_slope</th>\n",
       "      <th>last_slope_adi</th>\n",
       "      <th>aroon_up</th>\n",
       "      <th>aroon_down</th>\n",
       "      <th>aroon_diff</th>\n",
       "      <th>macd_diff</th>\n",
       "      <th>macd_line</th>\n",
       "      <th>macd_signal</th>\n",
       "      <th>stochastic</th>\n",
       "      <th>...</th>\n",
       "      <th>coef_corr</th>\n",
       "      <th>last_slope_btc</th>\n",
       "      <th>prob_last_slope</th>\n",
       "      <th>prob_macd</th>\n",
       "      <th>prob_macd_diff</th>\n",
       "      <th>prob_stochastic</th>\n",
       "      <th>prob_rsi</th>\n",
       "      <th>prob_corr_btc</th>\n",
       "      <th>prediction</th>\n",
       "      <th>probability</th>\n",
       "    </tr>\n",
       "  </thead>\n",
       "  <tbody>\n",
       "    <tr>\n",
       "      <th>2</th>\n",
       "      <td>1INCHUSDT</td>\n",
       "      <td>3.106811</td>\n",
       "      <td>0.306093</td>\n",
       "      <td>96.0</td>\n",
       "      <td>0.0</td>\n",
       "      <td>96.0</td>\n",
       "      <td>2.591268</td>\n",
       "      <td>11.604379</td>\n",
       "      <td>9.013111</td>\n",
       "      <td>86.252546</td>\n",
       "      <td>...</td>\n",
       "      <td>0.448768</td>\n",
       "      <td>1.150705</td>\n",
       "      <td>0.563940</td>\n",
       "      <td>0.000000</td>\n",
       "      <td>0.223236</td>\n",
       "      <td>0.364992</td>\n",
       "      <td>0.220070</td>\n",
       "      <td>0.579741</td>\n",
       "      <td>0.0</td>\n",
       "      <td>0.061564</td>\n",
       "    </tr>\n",
       "    <tr>\n",
       "      <th>3</th>\n",
       "      <td>AAVEUSDT</td>\n",
       "      <td>2.730850</td>\n",
       "      <td>0.597512</td>\n",
       "      <td>100.0</td>\n",
       "      <td>0.0</td>\n",
       "      <td>100.0</td>\n",
       "      <td>3.250811</td>\n",
       "      <td>10.306344</td>\n",
       "      <td>7.055534</td>\n",
       "      <td>82.498268</td>\n",
       "      <td>...</td>\n",
       "      <td>0.857666</td>\n",
       "      <td>1.150705</td>\n",
       "      <td>0.632940</td>\n",
       "      <td>0.000000</td>\n",
       "      <td>0.462994</td>\n",
       "      <td>0.000000</td>\n",
       "      <td>0.284655</td>\n",
       "      <td>0.481462</td>\n",
       "      <td>0.0</td>\n",
       "      <td>0.009924</td>\n",
       "    </tr>\n",
       "    <tr>\n",
       "      <th>5</th>\n",
       "      <td>ACAUSDT</td>\n",
       "      <td>2.473462</td>\n",
       "      <td>0.455137</td>\n",
       "      <td>80.0</td>\n",
       "      <td>36.0</td>\n",
       "      <td>44.0</td>\n",
       "      <td>1.352613</td>\n",
       "      <td>7.175834</td>\n",
       "      <td>5.823221</td>\n",
       "      <td>59.198543</td>\n",
       "      <td>...</td>\n",
       "      <td>0.652707</td>\n",
       "      <td>1.150705</td>\n",
       "      <td>0.340937</td>\n",
       "      <td>0.462994</td>\n",
       "      <td>0.230703</td>\n",
       "      <td>0.632940</td>\n",
       "      <td>0.427023</td>\n",
       "      <td>0.508506</td>\n",
       "      <td>1.0</td>\n",
       "      <td>0.506185</td>\n",
       "    </tr>\n",
       "    <tr>\n",
       "      <th>7</th>\n",
       "      <td>ACEUSDT</td>\n",
       "      <td>1.888034</td>\n",
       "      <td>101.530333</td>\n",
       "      <td>84.0</td>\n",
       "      <td>0.0</td>\n",
       "      <td>84.0</td>\n",
       "      <td>0.845454</td>\n",
       "      <td>10.509408</td>\n",
       "      <td>9.663954</td>\n",
       "      <td>70.794398</td>\n",
       "      <td>...</td>\n",
       "      <td>0.499572</td>\n",
       "      <td>1.764322</td>\n",
       "      <td>0.064524</td>\n",
       "      <td>1.000000</td>\n",
       "      <td>0.310670</td>\n",
       "      <td>0.392700</td>\n",
       "      <td>0.462994</td>\n",
       "      <td>0.741864</td>\n",
       "      <td>1.0</td>\n",
       "      <td>0.872497</td>\n",
       "    </tr>\n",
       "    <tr>\n",
       "      <th>9</th>\n",
       "      <td>ACHUSDT</td>\n",
       "      <td>1.486491</td>\n",
       "      <td>-0.241926</td>\n",
       "      <td>96.0</td>\n",
       "      <td>0.0</td>\n",
       "      <td>96.0</td>\n",
       "      <td>1.435127</td>\n",
       "      <td>9.022757</td>\n",
       "      <td>7.587630</td>\n",
       "      <td>80.590717</td>\n",
       "      <td>...</td>\n",
       "      <td>0.018787</td>\n",
       "      <td>1.150705</td>\n",
       "      <td>0.492373</td>\n",
       "      <td>0.462994</td>\n",
       "      <td>0.201498</td>\n",
       "      <td>0.209664</td>\n",
       "      <td>0.209664</td>\n",
       "      <td>0.197648</td>\n",
       "      <td>0.0</td>\n",
       "      <td>0.025809</td>\n",
       "    </tr>\n",
       "  </tbody>\n",
       "</table>\n",
       "<p>5 rows × 23 columns</p>\n",
       "</div>"
      ],
      "text/plain": [
       "      market  last_slope  last_slope_adi  aroon_up  aroon_down  aroon_diff  \\\n",
       "2  1INCHUSDT    3.106811        0.306093      96.0         0.0        96.0   \n",
       "3   AAVEUSDT    2.730850        0.597512     100.0         0.0       100.0   \n",
       "5    ACAUSDT    2.473462        0.455137      80.0        36.0        44.0   \n",
       "7    ACEUSDT    1.888034      101.530333      84.0         0.0        84.0   \n",
       "9    ACHUSDT    1.486491       -0.241926      96.0         0.0        96.0   \n",
       "\n",
       "   macd_diff  macd_line  macd_signal  stochastic  ...  coef_corr  \\\n",
       "2   2.591268  11.604379     9.013111   86.252546  ...   0.448768   \n",
       "3   3.250811  10.306344     7.055534   82.498268  ...   0.857666   \n",
       "5   1.352613   7.175834     5.823221   59.198543  ...   0.652707   \n",
       "7   0.845454  10.509408     9.663954   70.794398  ...   0.499572   \n",
       "9   1.435127   9.022757     7.587630   80.590717  ...   0.018787   \n",
       "\n",
       "   last_slope_btc  prob_last_slope  prob_macd  prob_macd_diff  \\\n",
       "2        1.150705         0.563940   0.000000        0.223236   \n",
       "3        1.150705         0.632940   0.000000        0.462994   \n",
       "5        1.150705         0.340937   0.462994        0.230703   \n",
       "7        1.764322         0.064524   1.000000        0.310670   \n",
       "9        1.150705         0.492373   0.462994        0.201498   \n",
       "\n",
       "   prob_stochastic  prob_rsi  prob_corr_btc  prediction  probability  \n",
       "2         0.364992  0.220070       0.579741         0.0     0.061564  \n",
       "3         0.000000  0.284655       0.481462         0.0     0.009924  \n",
       "5         0.632940  0.427023       0.508506         1.0     0.506185  \n",
       "7         0.392700  0.462994       0.741864         1.0     0.872497  \n",
       "9         0.209664  0.209664       0.197648         0.0     0.025809  \n",
       "\n",
       "[5 rows x 23 columns]"
      ]
     },
     "execution_count": 25,
     "metadata": {},
     "output_type": "execute_result"
    }
   ],
   "source": [
    "probability = logreg_model.predict_proba(X)\n",
    "current_data['probability'] = probability[:,1]\n",
    "current_data.head()"
   ]
  },
  {
   "cell_type": "code",
   "execution_count": 44,
   "metadata": {},
   "outputs": [
    {
     "data": {
      "text/html": [
       "<div>\n",
       "<style scoped>\n",
       "    .dataframe tbody tr th:only-of-type {\n",
       "        vertical-align: middle;\n",
       "    }\n",
       "\n",
       "    .dataframe tbody tr th {\n",
       "        vertical-align: top;\n",
       "    }\n",
       "\n",
       "    .dataframe thead th {\n",
       "        text-align: right;\n",
       "    }\n",
       "</style>\n",
       "<table border=\"1\" class=\"dataframe\">\n",
       "  <thead>\n",
       "    <tr style=\"text-align: right;\">\n",
       "      <th></th>\n",
       "      <th>market</th>\n",
       "      <th>last_slope</th>\n",
       "      <th>last_slope_adi</th>\n",
       "      <th>aroon_up</th>\n",
       "      <th>aroon_down</th>\n",
       "      <th>aroon_diff</th>\n",
       "      <th>macd_diff</th>\n",
       "      <th>macd_line</th>\n",
       "      <th>macd_signal</th>\n",
       "      <th>stochastic</th>\n",
       "      <th>...</th>\n",
       "      <th>coef_corr</th>\n",
       "      <th>last_slope_btc</th>\n",
       "      <th>prob_last_slope</th>\n",
       "      <th>prob_macd</th>\n",
       "      <th>prob_macd_diff</th>\n",
       "      <th>prob_stochastic</th>\n",
       "      <th>prob_rsi</th>\n",
       "      <th>prob_corr_btc</th>\n",
       "      <th>prediction</th>\n",
       "      <th>probability</th>\n",
       "    </tr>\n",
       "  </thead>\n",
       "  <tbody>\n",
       "    <tr>\n",
       "      <th>594</th>\n",
       "      <td>XVSBTC</td>\n",
       "      <td>1.142382</td>\n",
       "      <td>0.483290</td>\n",
       "      <td>16.0</td>\n",
       "      <td>80.0</td>\n",
       "      <td>-64.0</td>\n",
       "      <td>0.033693</td>\n",
       "      <td>-6.325839</td>\n",
       "      <td>-6.359532</td>\n",
       "      <td>61.233480</td>\n",
       "      <td>...</td>\n",
       "      <td>0.572239</td>\n",
       "      <td>2.346307</td>\n",
       "      <td>0.472047</td>\n",
       "      <td>0.596452</td>\n",
       "      <td>0.466356</td>\n",
       "      <td>1.000000</td>\n",
       "      <td>0.485183</td>\n",
       "      <td>0.775216</td>\n",
       "      <td>1.0</td>\n",
       "      <td>0.982096</td>\n",
       "    </tr>\n",
       "    <tr>\n",
       "      <th>406</th>\n",
       "      <td>PENDLEBTC</td>\n",
       "      <td>-1.804660</td>\n",
       "      <td>-1.039585</td>\n",
       "      <td>52.0</td>\n",
       "      <td>0.0</td>\n",
       "      <td>52.0</td>\n",
       "      <td>-3.630048</td>\n",
       "      <td>3.559793</td>\n",
       "      <td>7.189840</td>\n",
       "      <td>11.755878</td>\n",
       "      <td>...</td>\n",
       "      <td>0.661198</td>\n",
       "      <td>3.063709</td>\n",
       "      <td>0.548979</td>\n",
       "      <td>0.838006</td>\n",
       "      <td>0.873376</td>\n",
       "      <td>0.547861</td>\n",
       "      <td>0.512685</td>\n",
       "      <td>0.873376</td>\n",
       "      <td>1.0</td>\n",
       "      <td>0.976217</td>\n",
       "    </tr>\n",
       "    <tr>\n",
       "      <th>174</th>\n",
       "      <td>DUSKBTC</td>\n",
       "      <td>-1.154110</td>\n",
       "      <td>-0.741820</td>\n",
       "      <td>52.0</td>\n",
       "      <td>0.0</td>\n",
       "      <td>52.0</td>\n",
       "      <td>-2.798122</td>\n",
       "      <td>2.528796</td>\n",
       "      <td>5.326918</td>\n",
       "      <td>3.553299</td>\n",
       "      <td>...</td>\n",
       "      <td>-0.229493</td>\n",
       "      <td>2.346307</td>\n",
       "      <td>0.558406</td>\n",
       "      <td>0.696890</td>\n",
       "      <td>0.523200</td>\n",
       "      <td>0.744777</td>\n",
       "      <td>0.469156</td>\n",
       "      <td>0.838006</td>\n",
       "      <td>1.0</td>\n",
       "      <td>0.973258</td>\n",
       "    </tr>\n",
       "    <tr>\n",
       "      <th>261</th>\n",
       "      <td>HIVEBTC</td>\n",
       "      <td>-0.218636</td>\n",
       "      <td>-1.156600</td>\n",
       "      <td>4.0</td>\n",
       "      <td>88.0</td>\n",
       "      <td>-84.0</td>\n",
       "      <td>-0.059545</td>\n",
       "      <td>-2.184918</td>\n",
       "      <td>-2.125373</td>\n",
       "      <td>22.772277</td>\n",
       "      <td>...</td>\n",
       "      <td>-0.789102</td>\n",
       "      <td>2.346307</td>\n",
       "      <td>0.489084</td>\n",
       "      <td>0.537479</td>\n",
       "      <td>0.465693</td>\n",
       "      <td>0.639282</td>\n",
       "      <td>0.676779</td>\n",
       "      <td>1.000000</td>\n",
       "      <td>1.0</td>\n",
       "      <td>0.966599</td>\n",
       "    </tr>\n",
       "    <tr>\n",
       "      <th>541</th>\n",
       "      <td>UFTUSDT</td>\n",
       "      <td>1.438490</td>\n",
       "      <td>-0.422306</td>\n",
       "      <td>76.0</td>\n",
       "      <td>0.0</td>\n",
       "      <td>76.0</td>\n",
       "      <td>-0.182377</td>\n",
       "      <td>4.207506</td>\n",
       "      <td>4.389883</td>\n",
       "      <td>37.619048</td>\n",
       "      <td>...</td>\n",
       "      <td>0.453694</td>\n",
       "      <td>2.779080</td>\n",
       "      <td>0.479073</td>\n",
       "      <td>0.775216</td>\n",
       "      <td>0.522665</td>\n",
       "      <td>0.632940</td>\n",
       "      <td>0.538162</td>\n",
       "      <td>0.838006</td>\n",
       "      <td>1.0</td>\n",
       "      <td>0.966354</td>\n",
       "    </tr>\n",
       "  </tbody>\n",
       "</table>\n",
       "<p>5 rows × 23 columns</p>\n",
       "</div>"
      ],
      "text/plain": [
       "        market  last_slope  last_slope_adi  aroon_up  aroon_down  aroon_diff  \\\n",
       "594     XVSBTC    1.142382        0.483290      16.0        80.0       -64.0   \n",
       "406  PENDLEBTC   -1.804660       -1.039585      52.0         0.0        52.0   \n",
       "174    DUSKBTC   -1.154110       -0.741820      52.0         0.0        52.0   \n",
       "261    HIVEBTC   -0.218636       -1.156600       4.0        88.0       -84.0   \n",
       "541    UFTUSDT    1.438490       -0.422306      76.0         0.0        76.0   \n",
       "\n",
       "     macd_diff  macd_line  macd_signal  stochastic  ...  coef_corr  \\\n",
       "594   0.033693  -6.325839    -6.359532   61.233480  ...   0.572239   \n",
       "406  -3.630048   3.559793     7.189840   11.755878  ...   0.661198   \n",
       "174  -2.798122   2.528796     5.326918    3.553299  ...  -0.229493   \n",
       "261  -0.059545  -2.184918    -2.125373   22.772277  ...  -0.789102   \n",
       "541  -0.182377   4.207506     4.389883   37.619048  ...   0.453694   \n",
       "\n",
       "     last_slope_btc  prob_last_slope  prob_macd  prob_macd_diff  \\\n",
       "594        2.346307         0.472047   0.596452        0.466356   \n",
       "406        3.063709         0.548979   0.838006        0.873376   \n",
       "174        2.346307         0.558406   0.696890        0.523200   \n",
       "261        2.346307         0.489084   0.537479        0.465693   \n",
       "541        2.779080         0.479073   0.775216        0.522665   \n",
       "\n",
       "     prob_stochastic  prob_rsi  prob_corr_btc  prediction  probability  \n",
       "594         1.000000  0.485183       0.775216         1.0     0.982096  \n",
       "406         0.547861  0.512685       0.873376         1.0     0.976217  \n",
       "174         0.744777  0.469156       0.838006         1.0     0.973258  \n",
       "261         0.639282  0.676779       1.000000         1.0     0.966599  \n",
       "541         0.632940  0.538162       0.838006         1.0     0.966354  \n",
       "\n",
       "[5 rows x 23 columns]"
      ]
     },
     "execution_count": 44,
     "metadata": {},
     "output_type": "execute_result"
    }
   ],
   "source": [
    "sorted_data = current_data.sort_values(by=['probability'],ascending=False)\n",
    "sorted_data.head()"
   ]
  },
  {
   "cell_type": "code",
   "execution_count": 45,
   "metadata": {},
   "outputs": [],
   "source": [
    "sorted_data.to_csv('logreg_model.csv')"
   ]
  },
  {
   "cell_type": "code",
   "execution_count": 28,
   "metadata": {},
   "outputs": [],
   "source": [
    "current_data.to_csv('logreg_model_not_sorted_early_mar.csv')"
   ]
  },
  {
   "cell_type": "code",
   "execution_count": 27,
   "metadata": {},
   "outputs": [
    {
     "ename": "ValueError",
     "evalue": "Did not recognise loaded array layout",
     "output_type": "error",
     "traceback": [
      "\u001b[1;31m---------------------------------------------------------------------------\u001b[0m",
      "\u001b[1;31mValueError\u001b[0m                                Traceback (most recent call last)",
      "Cell \u001b[1;32mIn[27], line 4\u001b[0m\n\u001b[0;32m      1\u001b[0m \u001b[38;5;66;03m# joblib.dump(rf, \"my_random_forest.joblib\")\u001b[39;00m\n\u001b[0;32m      2\u001b[0m \n\u001b[0;32m      3\u001b[0m \u001b[38;5;66;03m# load\u001b[39;00m\n\u001b[1;32m----> 4\u001b[0m loaded_rf \u001b[38;5;241m=\u001b[39m \u001b[43mjoblib\u001b[49m\u001b[38;5;241;43m.\u001b[39;49m\u001b[43mload\u001b[49m\u001b[43m(\u001b[49m\u001b[38;5;124;43m\"\u001b[39;49m\u001b[38;5;124;43mrf_model.joblib\u001b[39;49m\u001b[38;5;124;43m\"\u001b[39;49m\u001b[43m)\u001b[49m\n",
      "File \u001b[1;32me:\\Harry\\crypto\\.conda\\lib\\site-packages\\joblib\\numpy_pickle.py:658\u001b[0m, in \u001b[0;36mload\u001b[1;34m(filename, mmap_mode)\u001b[0m\n\u001b[0;32m    652\u001b[0m             \u001b[38;5;28;01mif\u001b[39;00m \u001b[38;5;28misinstance\u001b[39m(fobj, \u001b[38;5;28mstr\u001b[39m):\n\u001b[0;32m    653\u001b[0m                 \u001b[38;5;66;03m# if the returned file object is a string, this means we\u001b[39;00m\n\u001b[0;32m    654\u001b[0m                 \u001b[38;5;66;03m# try to load a pickle file generated with an version of\u001b[39;00m\n\u001b[0;32m    655\u001b[0m                 \u001b[38;5;66;03m# Joblib so we load it with joblib compatibility function.\u001b[39;00m\n\u001b[0;32m    656\u001b[0m                 \u001b[38;5;28;01mreturn\u001b[39;00m load_compatibility(fobj)\n\u001b[1;32m--> 658\u001b[0m             obj \u001b[38;5;241m=\u001b[39m \u001b[43m_unpickle\u001b[49m\u001b[43m(\u001b[49m\u001b[43mfobj\u001b[49m\u001b[43m,\u001b[49m\u001b[43m \u001b[49m\u001b[43mfilename\u001b[49m\u001b[43m,\u001b[49m\u001b[43m \u001b[49m\u001b[43mmmap_mode\u001b[49m\u001b[43m)\u001b[49m\n\u001b[0;32m    659\u001b[0m \u001b[38;5;28;01mreturn\u001b[39;00m obj\n",
      "File \u001b[1;32me:\\Harry\\crypto\\.conda\\lib\\site-packages\\joblib\\numpy_pickle.py:577\u001b[0m, in \u001b[0;36m_unpickle\u001b[1;34m(fobj, filename, mmap_mode)\u001b[0m\n\u001b[0;32m    575\u001b[0m obj \u001b[38;5;241m=\u001b[39m \u001b[38;5;28;01mNone\u001b[39;00m\n\u001b[0;32m    576\u001b[0m \u001b[38;5;28;01mtry\u001b[39;00m:\n\u001b[1;32m--> 577\u001b[0m     obj \u001b[38;5;241m=\u001b[39m \u001b[43munpickler\u001b[49m\u001b[38;5;241;43m.\u001b[39;49m\u001b[43mload\u001b[49m\u001b[43m(\u001b[49m\u001b[43m)\u001b[49m\n\u001b[0;32m    578\u001b[0m     \u001b[38;5;28;01mif\u001b[39;00m unpickler\u001b[38;5;241m.\u001b[39mcompat_mode:\n\u001b[0;32m    579\u001b[0m         warnings\u001b[38;5;241m.\u001b[39mwarn(\u001b[38;5;124m\"\u001b[39m\u001b[38;5;124mThe file \u001b[39m\u001b[38;5;124m'\u001b[39m\u001b[38;5;132;01m%s\u001b[39;00m\u001b[38;5;124m'\u001b[39m\u001b[38;5;124m has been generated with a \u001b[39m\u001b[38;5;124m\"\u001b[39m\n\u001b[0;32m    580\u001b[0m                       \u001b[38;5;124m\"\u001b[39m\u001b[38;5;124mjoblib version less than 0.10. \u001b[39m\u001b[38;5;124m\"\u001b[39m\n\u001b[0;32m    581\u001b[0m                       \u001b[38;5;124m\"\u001b[39m\u001b[38;5;124mPlease regenerate this pickle file.\u001b[39m\u001b[38;5;124m\"\u001b[39m\n\u001b[0;32m    582\u001b[0m                       \u001b[38;5;241m%\u001b[39m filename,\n\u001b[0;32m    583\u001b[0m                       \u001b[38;5;167;01mDeprecationWarning\u001b[39;00m, stacklevel\u001b[38;5;241m=\u001b[39m\u001b[38;5;241m3\u001b[39m)\n",
      "File \u001b[1;32me:\\Harry\\crypto\\.conda\\lib\\pickle.py:1212\u001b[0m, in \u001b[0;36m_Unpickler.load\u001b[1;34m(self)\u001b[0m\n\u001b[0;32m   1210\u001b[0m             \u001b[38;5;28;01mraise\u001b[39;00m \u001b[38;5;167;01mEOFError\u001b[39;00m\n\u001b[0;32m   1211\u001b[0m         \u001b[38;5;28;01massert\u001b[39;00m \u001b[38;5;28misinstance\u001b[39m(key, bytes_types)\n\u001b[1;32m-> 1212\u001b[0m         \u001b[43mdispatch\u001b[49m\u001b[43m[\u001b[49m\u001b[43mkey\u001b[49m\u001b[43m[\u001b[49m\u001b[38;5;241;43m0\u001b[39;49m\u001b[43m]\u001b[49m\u001b[43m]\u001b[49m\u001b[43m(\u001b[49m\u001b[38;5;28;43mself\u001b[39;49m\u001b[43m)\u001b[49m\n\u001b[0;32m   1213\u001b[0m \u001b[38;5;28;01mexcept\u001b[39;00m _Stop \u001b[38;5;28;01mas\u001b[39;00m stopinst:\n\u001b[0;32m   1214\u001b[0m     \u001b[38;5;28;01mreturn\u001b[39;00m stopinst\u001b[38;5;241m.\u001b[39mvalue\n",
      "File \u001b[1;32me:\\Harry\\crypto\\.conda\\lib\\site-packages\\joblib\\numpy_pickle.py:402\u001b[0m, in \u001b[0;36mNumpyUnpickler.load_build\u001b[1;34m(self)\u001b[0m\n\u001b[0;32m    394\u001b[0m \u001b[38;5;28;01mdef\u001b[39;00m \u001b[38;5;21mload_build\u001b[39m(\u001b[38;5;28mself\u001b[39m):\n\u001b[0;32m    395\u001b[0m \u001b[38;5;250m    \u001b[39m\u001b[38;5;124;03m\"\"\"Called to set the state of a newly created object.\u001b[39;00m\n\u001b[0;32m    396\u001b[0m \n\u001b[0;32m    397\u001b[0m \u001b[38;5;124;03m    We capture it to replace our place-holder objects, NDArrayWrapper or\u001b[39;00m\n\u001b[1;32m   (...)\u001b[0m\n\u001b[0;32m    400\u001b[0m \u001b[38;5;124;03m    NDArrayWrapper is used for backward compatibility with joblib <= 0.9.\u001b[39;00m\n\u001b[0;32m    401\u001b[0m \u001b[38;5;124;03m    \"\"\"\u001b[39;00m\n\u001b[1;32m--> 402\u001b[0m     \u001b[43mUnpickler\u001b[49m\u001b[38;5;241;43m.\u001b[39;49m\u001b[43mload_build\u001b[49m\u001b[43m(\u001b[49m\u001b[38;5;28;43mself\u001b[39;49m\u001b[43m)\u001b[49m\n\u001b[0;32m    404\u001b[0m     \u001b[38;5;66;03m# For backward compatibility, we support NDArrayWrapper objects.\u001b[39;00m\n\u001b[0;32m    405\u001b[0m     \u001b[38;5;28;01mif\u001b[39;00m \u001b[38;5;28misinstance\u001b[39m(\u001b[38;5;28mself\u001b[39m\u001b[38;5;241m.\u001b[39mstack[\u001b[38;5;241m-\u001b[39m\u001b[38;5;241m1\u001b[39m], (NDArrayWrapper, NumpyArrayWrapper)):\n",
      "File \u001b[1;32me:\\Harry\\crypto\\.conda\\lib\\pickle.py:1705\u001b[0m, in \u001b[0;36m_Unpickler.load_build\u001b[1;34m(self)\u001b[0m\n\u001b[0;32m   1703\u001b[0m setstate \u001b[38;5;241m=\u001b[39m \u001b[38;5;28mgetattr\u001b[39m(inst, \u001b[38;5;124m\"\u001b[39m\u001b[38;5;124m__setstate__\u001b[39m\u001b[38;5;124m\"\u001b[39m, \u001b[38;5;28;01mNone\u001b[39;00m)\n\u001b[0;32m   1704\u001b[0m \u001b[38;5;28;01mif\u001b[39;00m setstate \u001b[38;5;129;01mis\u001b[39;00m \u001b[38;5;129;01mnot\u001b[39;00m \u001b[38;5;28;01mNone\u001b[39;00m:\n\u001b[1;32m-> 1705\u001b[0m     \u001b[43msetstate\u001b[49m\u001b[43m(\u001b[49m\u001b[43mstate\u001b[49m\u001b[43m)\u001b[49m\n\u001b[0;32m   1706\u001b[0m     \u001b[38;5;28;01mreturn\u001b[39;00m\n\u001b[0;32m   1707\u001b[0m slotstate \u001b[38;5;241m=\u001b[39m \u001b[38;5;28;01mNone\u001b[39;00m\n",
      "File \u001b[1;32msklearn\\tree\\_tree.pyx:673\u001b[0m, in \u001b[0;36msklearn.tree._tree.Tree.__setstate__\u001b[1;34m()\u001b[0m\n",
      "\u001b[1;31mValueError\u001b[0m: Did not recognise loaded array layout"
     ]
    }
   ],
   "source": [
    "# joblib.dump(rf, \"my_random_forest.joblib\")\n",
    "\n",
    "# load\n",
    "loaded_rf = joblib.load(\"rf_model.joblib\")\n"
   ]
  },
  {
   "cell_type": "code",
   "execution_count": null,
   "metadata": {},
   "outputs": [],
   "source": []
  }
 ],
 "metadata": {
  "kernelspec": {
   "display_name": "base",
   "language": "python",
   "name": "python3"
  },
  "language_info": {
   "codemirror_mode": {
    "name": "ipython",
    "version": 3
   },
   "file_extension": ".py",
   "mimetype": "text/x-python",
   "name": "python",
   "nbconvert_exporter": "python",
   "pygments_lexer": "ipython3",
   "version": "3.8.10"
  }
 },
 "nbformat": 4,
 "nbformat_minor": 2
}
