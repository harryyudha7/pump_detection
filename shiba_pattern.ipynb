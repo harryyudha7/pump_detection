{
 "cells": [
  {
   "cell_type": "code",
   "execution_count": 1,
   "metadata": {},
   "outputs": [],
   "source": [
    "import pandas as pd\n",
    "import numpy as np\n",
    "import json\n",
    "from pyearth import Earth\n",
    "import plotly.graph_objects as go\n",
    "import datetime as dt\n",
    "from re import findall\n",
    "from sklearn.preprocessing import MinMaxScaler"
   ]
  },
  {
   "cell_type": "code",
   "execution_count": 81,
   "metadata": {},
   "outputs": [],
   "source": [
    "f = open('df_checked_dict.json')\n",
    "data = json.load(f)"
   ]
  },
  {
   "cell_type": "code",
   "execution_count": 82,
   "metadata": {},
   "outputs": [],
   "source": [
    "df_shib = pd.DataFrame.from_dict(data['shib']).dropna()\n",
    "df_shib['snapped_at'] = pd.to_datetime(df_shib['snapped_at'], format='%Y-%m-%d %H:%M:%S UTC')\n",
    "df_shib = adjust_dt(df_shib,1)"
   ]
  },
  {
   "cell_type": "code",
   "execution_count": 78,
   "metadata": {},
   "outputs": [
    {
     "name": "stderr",
     "output_type": "stream",
     "text": [
      "c:\\Users\\asus\\Anaconda3\\lib\\site-packages\\ipykernel_launcher.py:4: SettingWithCopyWarning:\n",
      "\n",
      "\n",
      "A value is trying to be set on a copy of a slice from a DataFrame.\n",
      "Try using .loc[row_indexer,col_indexer] = value instead\n",
      "\n",
      "See the caveats in the documentation: https://pandas.pydata.org/pandas-docs/stable/user_guide/indexing.html#returning-a-view-versus-a-copy\n",
      "\n"
     ]
    }
   ],
   "source": [
    "PCT_THRESHOLD = 0.2\n",
    "REGION_THRESHOLD = 30\n",
    "df_shib_up = df_shib[np.abs(df_shib['pct_change']) > PCT_THRESHOLD]\n",
    "df_shib_up['region_length'] = df_shib_up['snapped_at'].diff()\n",
    "df_shib_region = df_shib_up[df_shib_up['region_length'] >= pd.Timedelta(REGION_THRESHOLD,'d')]"
   ]
  },
  {
   "cell_type": "code",
   "execution_count": 83,
   "metadata": {},
   "outputs": [
    {
     "data": {
      "text/html": [
       "<div>\n",
       "<style scoped>\n",
       "    .dataframe tbody tr th:only-of-type {\n",
       "        vertical-align: middle;\n",
       "    }\n",
       "\n",
       "    .dataframe tbody tr th {\n",
       "        vertical-align: top;\n",
       "    }\n",
       "\n",
       "    .dataframe thead th {\n",
       "        text-align: right;\n",
       "    }\n",
       "</style>\n",
       "<table border=\"1\" class=\"dataframe\">\n",
       "  <thead>\n",
       "    <tr style=\"text-align: right;\">\n",
       "      <th></th>\n",
       "      <th>snapped_at</th>\n",
       "      <th>price</th>\n",
       "      <th>market_cap</th>\n",
       "      <th>total_volume</th>\n",
       "      <th>pct_change</th>\n",
       "    </tr>\n",
       "  </thead>\n",
       "  <tbody>\n",
       "    <tr>\n",
       "      <th>1</th>\n",
       "      <td>2020-08-02</td>\n",
       "      <td>9.722410e-10</td>\n",
       "      <td>0.000000e+00</td>\n",
       "      <td>1.426169e+06</td>\n",
       "      <td>0.000000</td>\n",
       "    </tr>\n",
       "    <tr>\n",
       "      <th>2</th>\n",
       "      <td>2020-08-03</td>\n",
       "      <td>5.169502e-10</td>\n",
       "      <td>0.000000e+00</td>\n",
       "      <td>1.773209e+05</td>\n",
       "      <td>-0.468290</td>\n",
       "    </tr>\n",
       "    <tr>\n",
       "      <th>3</th>\n",
       "      <td>2020-08-04</td>\n",
       "      <td>1.471351e-10</td>\n",
       "      <td>0.000000e+00</td>\n",
       "      <td>5.897767e+04</td>\n",
       "      <td>-0.715379</td>\n",
       "    </tr>\n",
       "    <tr>\n",
       "      <th>4</th>\n",
       "      <td>2020-08-05</td>\n",
       "      <td>1.635567e-10</td>\n",
       "      <td>0.000000e+00</td>\n",
       "      <td>1.892398e+04</td>\n",
       "      <td>0.111609</td>\n",
       "    </tr>\n",
       "    <tr>\n",
       "      <th>5</th>\n",
       "      <td>2020-08-06</td>\n",
       "      <td>3.161971e-10</td>\n",
       "      <td>0.000000e+00</td>\n",
       "      <td>3.738508e+04</td>\n",
       "      <td>0.933256</td>\n",
       "    </tr>\n",
       "    <tr>\n",
       "      <th>...</th>\n",
       "      <td>...</td>\n",
       "      <td>...</td>\n",
       "      <td>...</td>\n",
       "      <td>...</td>\n",
       "      <td>...</td>\n",
       "    </tr>\n",
       "    <tr>\n",
       "      <th>681</th>\n",
       "      <td>2022-06-27</td>\n",
       "      <td>1.105079e-05</td>\n",
       "      <td>6.544687e+09</td>\n",
       "      <td>6.776310e+08</td>\n",
       "      <td>-0.063705</td>\n",
       "    </tr>\n",
       "    <tr>\n",
       "      <th>682</th>\n",
       "      <td>2022-06-28</td>\n",
       "      <td>1.106403e-05</td>\n",
       "      <td>6.510723e+09</td>\n",
       "      <td>5.404461e+08</td>\n",
       "      <td>0.001198</td>\n",
       "    </tr>\n",
       "    <tr>\n",
       "      <th>683</th>\n",
       "      <td>2022-06-29</td>\n",
       "      <td>9.981285e-06</td>\n",
       "      <td>5.883186e+09</td>\n",
       "      <td>4.774144e+08</td>\n",
       "      <td>-0.097862</td>\n",
       "    </tr>\n",
       "    <tr>\n",
       "      <th>684</th>\n",
       "      <td>2022-06-30</td>\n",
       "      <td>1.017580e-05</td>\n",
       "      <td>6.004611e+09</td>\n",
       "      <td>6.142981e+08</td>\n",
       "      <td>0.019488</td>\n",
       "    </tr>\n",
       "    <tr>\n",
       "      <th>685</th>\n",
       "      <td>2022-07-01</td>\n",
       "      <td>1.018144e-05</td>\n",
       "      <td>5.967997e+09</td>\n",
       "      <td>5.995007e+08</td>\n",
       "      <td>0.000554</td>\n",
       "    </tr>\n",
       "  </tbody>\n",
       "</table>\n",
       "<p>685 rows × 5 columns</p>\n",
       "</div>"
      ],
      "text/plain": [
       "    snapped_at         price    market_cap  total_volume  pct_change\n",
       "1   2020-08-02  9.722410e-10  0.000000e+00  1.426169e+06    0.000000\n",
       "2   2020-08-03  5.169502e-10  0.000000e+00  1.773209e+05   -0.468290\n",
       "3   2020-08-04  1.471351e-10  0.000000e+00  5.897767e+04   -0.715379\n",
       "4   2020-08-05  1.635567e-10  0.000000e+00  1.892398e+04    0.111609\n",
       "5   2020-08-06  3.161971e-10  0.000000e+00  3.738508e+04    0.933256\n",
       "..         ...           ...           ...           ...         ...\n",
       "681 2022-06-27  1.105079e-05  6.544687e+09  6.776310e+08   -0.063705\n",
       "682 2022-06-28  1.106403e-05  6.510723e+09  5.404461e+08    0.001198\n",
       "683 2022-06-29  9.981285e-06  5.883186e+09  4.774144e+08   -0.097862\n",
       "684 2022-06-30  1.017580e-05  6.004611e+09  6.142981e+08    0.019488\n",
       "685 2022-07-01  1.018144e-05  5.967997e+09  5.995007e+08    0.000554\n",
       "\n",
       "[685 rows x 5 columns]"
      ]
     },
     "execution_count": 83,
     "metadata": {},
     "output_type": "execute_result"
    }
   ],
   "source": [
    "df_shib"
   ]
  },
  {
   "cell_type": "code",
   "execution_count": 79,
   "metadata": {},
   "outputs": [
    {
     "data": {
      "text/html": [
       "<div>\n",
       "<style scoped>\n",
       "    .dataframe tbody tr th:only-of-type {\n",
       "        vertical-align: middle;\n",
       "    }\n",
       "\n",
       "    .dataframe tbody tr th {\n",
       "        vertical-align: top;\n",
       "    }\n",
       "\n",
       "    .dataframe thead th {\n",
       "        text-align: right;\n",
       "    }\n",
       "</style>\n",
       "<table border=\"1\" class=\"dataframe\">\n",
       "  <thead>\n",
       "    <tr style=\"text-align: right;\">\n",
       "      <th></th>\n",
       "      <th>snapped_at</th>\n",
       "      <th>price</th>\n",
       "      <th>market_cap</th>\n",
       "      <th>total_volume</th>\n",
       "      <th>pct_change</th>\n",
       "      <th>region_length</th>\n",
       "    </tr>\n",
       "  </thead>\n",
       "  <tbody>\n",
       "    <tr>\n",
       "      <th>169</th>\n",
       "      <td>2021-01-31</td>\n",
       "      <td>5.053100e-09</td>\n",
       "      <td>0.000000e+00</td>\n",
       "      <td>1.098978e+07</td>\n",
       "      <td>34.374242</td>\n",
       "      <td>119 days</td>\n",
       "    </tr>\n",
       "    <tr>\n",
       "      <th>358</th>\n",
       "      <td>2021-08-08</td>\n",
       "      <td>7.789172e-06</td>\n",
       "      <td>3.846338e+09</td>\n",
       "      <td>7.145166e+08</td>\n",
       "      <td>0.234385</td>\n",
       "      <td>47 days</td>\n",
       "    </tr>\n",
       "    <tr>\n",
       "      <th>398</th>\n",
       "      <td>2021-09-17</td>\n",
       "      <td>8.721695e-06</td>\n",
       "      <td>4.322177e+09</td>\n",
       "      <td>1.468540e+09</td>\n",
       "      <td>0.287194</td>\n",
       "      <td>40 days</td>\n",
       "    </tr>\n",
       "    <tr>\n",
       "      <th>541</th>\n",
       "      <td>2022-02-07</td>\n",
       "      <td>2.805471e-05</td>\n",
       "      <td>1.520031e+10</td>\n",
       "      <td>1.975345e+09</td>\n",
       "      <td>0.244301</td>\n",
       "      <td>93 days</td>\n",
       "    </tr>\n",
       "    <tr>\n",
       "      <th>606</th>\n",
       "      <td>2022-04-13</td>\n",
       "      <td>2.713345e-05</td>\n",
       "      <td>1.483570e+10</td>\n",
       "      <td>4.285465e+09</td>\n",
       "      <td>0.227009</td>\n",
       "      <td>65 days</td>\n",
       "    </tr>\n",
       "    <tr>\n",
       "      <th>676</th>\n",
       "      <td>2022-06-22</td>\n",
       "      <td>1.058620e-05</td>\n",
       "      <td>6.185396e+09</td>\n",
       "      <td>1.839091e+09</td>\n",
       "      <td>0.297577</td>\n",
       "      <td>41 days</td>\n",
       "    </tr>\n",
       "  </tbody>\n",
       "</table>\n",
       "</div>"
      ],
      "text/plain": [
       "    snapped_at         price    market_cap  total_volume  pct_change  \\\n",
       "169 2021-01-31  5.053100e-09  0.000000e+00  1.098978e+07   34.374242   \n",
       "358 2021-08-08  7.789172e-06  3.846338e+09  7.145166e+08    0.234385   \n",
       "398 2021-09-17  8.721695e-06  4.322177e+09  1.468540e+09    0.287194   \n",
       "541 2022-02-07  2.805471e-05  1.520031e+10  1.975345e+09    0.244301   \n",
       "606 2022-04-13  2.713345e-05  1.483570e+10  4.285465e+09    0.227009   \n",
       "676 2022-06-22  1.058620e-05  6.185396e+09  1.839091e+09    0.297577   \n",
       "\n",
       "    region_length  \n",
       "169      119 days  \n",
       "358       47 days  \n",
       "398       40 days  \n",
       "541       93 days  \n",
       "606       65 days  \n",
       "676       41 days  "
      ]
     },
     "execution_count": 79,
     "metadata": {},
     "output_type": "execute_result"
    }
   ],
   "source": [
    "df_shib_region"
   ]
  },
  {
   "cell_type": "code",
   "execution_count": 62,
   "metadata": {},
   "outputs": [
    {
     "name": "stderr",
     "output_type": "stream",
     "text": [
      "c:\\Users\\asus\\Anaconda3\\lib\\site-packages\\pyearth\\earth.py:813: FutureWarning:\n",
      "\n",
      "`rcond` parameter will change to the default of machine precision times ``max(M, N)`` where M and N are the input matrix dimensions.\n",
      "To use the future default and silence this warning we advise to pass `rcond=None`, to keep using the old, explicitly pass `rcond=-1`.\n",
      "\n",
      "c:\\Users\\asus\\Anaconda3\\lib\\site-packages\\pyearth\\earth.py:1066: FutureWarning:\n",
      "\n",
      "`rcond` parameter will change to the default of machine precision times ``max(M, N)`` where M and N are the input matrix dimensions.\n",
      "To use the future default and silence this warning we advise to pass `rcond=None`, to keep using the old, explicitly pass `rcond=-1`.\n",
      "\n",
      "c:\\Users\\asus\\Anaconda3\\lib\\site-packages\\pyearth\\earth.py:813: FutureWarning:\n",
      "\n",
      "`rcond` parameter will change to the default of machine precision times ``max(M, N)`` where M and N are the input matrix dimensions.\n",
      "To use the future default and silence this warning we advise to pass `rcond=None`, to keep using the old, explicitly pass `rcond=-1`.\n",
      "\n",
      "c:\\Users\\asus\\Anaconda3\\lib\\site-packages\\pyearth\\earth.py:1066: FutureWarning:\n",
      "\n",
      "`rcond` parameter will change to the default of machine precision times ``max(M, N)`` where M and N are the input matrix dimensions.\n",
      "To use the future default and silence this warning we advise to pass `rcond=None`, to keep using the old, explicitly pass `rcond=-1`.\n",
      "\n",
      "c:\\Users\\asus\\Anaconda3\\lib\\site-packages\\pyearth\\earth.py:813: FutureWarning:\n",
      "\n",
      "`rcond` parameter will change to the default of machine precision times ``max(M, N)`` where M and N are the input matrix dimensions.\n",
      "To use the future default and silence this warning we advise to pass `rcond=None`, to keep using the old, explicitly pass `rcond=-1`.\n",
      "\n",
      "c:\\Users\\asus\\Anaconda3\\lib\\site-packages\\pyearth\\earth.py:1066: FutureWarning:\n",
      "\n",
      "`rcond` parameter will change to the default of machine precision times ``max(M, N)`` where M and N are the input matrix dimensions.\n",
      "To use the future default and silence this warning we advise to pass `rcond=None`, to keep using the old, explicitly pass `rcond=-1`.\n",
      "\n",
      "c:\\Users\\asus\\Anaconda3\\lib\\site-packages\\pyearth\\earth.py:813: FutureWarning:\n",
      "\n",
      "`rcond` parameter will change to the default of machine precision times ``max(M, N)`` where M and N are the input matrix dimensions.\n",
      "To use the future default and silence this warning we advise to pass `rcond=None`, to keep using the old, explicitly pass `rcond=-1`.\n",
      "\n",
      "c:\\Users\\asus\\Anaconda3\\lib\\site-packages\\pyearth\\earth.py:1066: FutureWarning:\n",
      "\n",
      "`rcond` parameter will change to the default of machine precision times ``max(M, N)`` where M and N are the input matrix dimensions.\n",
      "To use the future default and silence this warning we advise to pass `rcond=None`, to keep using the old, explicitly pass `rcond=-1`.\n",
      "\n",
      "c:\\Users\\asus\\Anaconda3\\lib\\site-packages\\pyearth\\earth.py:813: FutureWarning:\n",
      "\n",
      "`rcond` parameter will change to the default of machine precision times ``max(M, N)`` where M and N are the input matrix dimensions.\n",
      "To use the future default and silence this warning we advise to pass `rcond=None`, to keep using the old, explicitly pass `rcond=-1`.\n",
      "\n",
      "c:\\Users\\asus\\Anaconda3\\lib\\site-packages\\pyearth\\earth.py:1066: FutureWarning:\n",
      "\n",
      "`rcond` parameter will change to the default of machine precision times ``max(M, N)`` where M and N are the input matrix dimensions.\n",
      "To use the future default and silence this warning we advise to pass `rcond=None`, to keep using the old, explicitly pass `rcond=-1`.\n",
      "\n",
      "c:\\Users\\asus\\Anaconda3\\lib\\site-packages\\pyearth\\earth.py:813: FutureWarning:\n",
      "\n",
      "`rcond` parameter will change to the default of machine precision times ``max(M, N)`` where M and N are the input matrix dimensions.\n",
      "To use the future default and silence this warning we advise to pass `rcond=None`, to keep using the old, explicitly pass `rcond=-1`.\n",
      "\n",
      "c:\\Users\\asus\\Anaconda3\\lib\\site-packages\\pyearth\\earth.py:1066: FutureWarning:\n",
      "\n",
      "`rcond` parameter will change to the default of machine precision times ``max(M, N)`` where M and N are the input matrix dimensions.\n",
      "To use the future default and silence this warning we advise to pass `rcond=None`, to keep using the old, explicitly pass `rcond=-1`.\n",
      "\n"
     ]
    }
   ],
   "source": [
    "is_staircase = False\n",
    "staircase = {'date_before': [],\n",
    "            'date_after': []}\n",
    "for j in range(len(df_shib_region)):\n",
    "    date_init = df_shib_region['snapped_at'][j] - df_shib_region['region_length'][j]\n",
    "    date_final = df_shib_region['snapped_at'][j]\n",
    "    df_shib_filter = df_shib[np.logical_and((df_shib['snapped_at'] >= date_init),(df_shib['snapped_at'] < date_final))]\n",
    "    x = df_shib_filter['snapped_at'].map(dt.datetime.toordinal)\n",
    "    x = x - x[0]\n",
    "    scaler = MinMaxScaler()\n",
    "    x = scaler.fit_transform(x.values.reshape(-1,1))\n",
    "    y = df_shib_filter['price']\n",
    "    model = Earth()\n",
    "    model.fit(x,y)\n",
    "    y_pred = model.predict(x)\n",
    "\n",
    "    sum_li = model.summary().split('\\n')[4:-2]\n",
    "    arr_knot = []\n",
    "    for i in range(len(sum_li)):\n",
    "        line = sum_li[i]\n",
    "        if 'Yes' not in line:\n",
    "            if 'x0' in line:\n",
    "                columns = line.split()\n",
    "                try:\n",
    "                    f = findall(r'\\((.+)\\)',columns[0])[0]\n",
    "                    const = findall(r'[+-]?[0-9]\\.[0-9]+',f)\n",
    "                    const = float(const[0])\n",
    "                    knot = abs(round(scaler.inverse_transform([[const]])[0][0]))\n",
    "                    if knot < len(x):\n",
    "                        arr_knot.append(knot)\n",
    "                except Exception as e: \n",
    "                    continue\n",
    "    arr_knot = np.unique(arr_knot)\n",
    "    arr_grad = []\n",
    "    arr_date = [date_init]\n",
    "    for i in range(len(arr_knot)+1):\n",
    "        if i == 0:\n",
    "            x0 = 0\n",
    "        else:\n",
    "            x0 = int(arr_knot[i-1])\n",
    "\n",
    "        if i == len(arr_knot):\n",
    "            x1 = len(y_pred)-1\n",
    "        else:\n",
    "            x1 = int(arr_knot[i])\n",
    "        y0 = y_pred[x0]\n",
    "        y1 = y_pred[x1]\n",
    "        grad = (y1-y0)/(x1-x0)\n",
    "        arr_grad.append(grad)\n",
    "        arr_date.append(date_init + pd.Timedelta(x1,'d'))\n",
    "    for i in range(len(arr_grad)-1):\n",
    "        grad_before = arr_grad[i]\n",
    "        grad_after = arr_grad[i+1]\n",
    "        date_before = arr_date[i]\n",
    "        date_after = arr_date[i+2]\n",
    "        delta_grad = (abs(grad_after)-abs(grad_before))\n",
    "        if grad_before>0 and grad_before*grad_after < 0 and delta_grad/abs(grad_before) < 0.5:\n",
    "            is_staircase = True\n",
    "            staircase['date_before'].append(date_before)\n",
    "            staircase['date_after'].append(date_after)"
   ]
  },
  {
   "cell_type": "code",
   "execution_count": 64,
   "metadata": {},
   "outputs": [
    {
     "data": {
      "text/plain": [
       "array([25.])"
      ]
     },
     "execution_count": 64,
     "metadata": {},
     "output_type": "execute_result"
    }
   ],
   "source": [
    "arr_knot"
   ]
  },
  {
   "cell_type": "code",
   "execution_count": 54,
   "metadata": {},
   "outputs": [],
   "source": [
    "date_init = df_shib_region['snapped_at'][1] - df_shib_region['region_length'][1]\n",
    "date_final = df_shib_region['snapped_at'][1]\n",
    "df_shib_filter = df_shib[np.logical_and((df_shib['snapped_at'] >= date_init),(df_shib['snapped_at'] < date_final))]"
   ]
  },
  {
   "cell_type": "code",
   "execution_count": 55,
   "metadata": {},
   "outputs": [],
   "source": [
    "x = df_shib_filter['snapped_at'].map(dt.datetime.toordinal)\n",
    "x = x - x[0]\n",
    "scaler = MinMaxScaler()\n",
    "x = scaler.fit_transform(x.values.reshape(-1,1))\n",
    "y = df_shib_filter['price']"
   ]
  },
  {
   "cell_type": "code",
   "execution_count": 56,
   "metadata": {},
   "outputs": [
    {
     "name": "stdout",
     "output_type": "stream",
     "text": [
      "list index out of range\n"
     ]
    },
    {
     "name": "stderr",
     "output_type": "stream",
     "text": [
      "c:\\Users\\asus\\Anaconda3\\lib\\site-packages\\pyearth\\earth.py:813: FutureWarning:\n",
      "\n",
      "`rcond` parameter will change to the default of machine precision times ``max(M, N)`` where M and N are the input matrix dimensions.\n",
      "To use the future default and silence this warning we advise to pass `rcond=None`, to keep using the old, explicitly pass `rcond=-1`.\n",
      "\n",
      "c:\\Users\\asus\\Anaconda3\\lib\\site-packages\\pyearth\\earth.py:1066: FutureWarning:\n",
      "\n",
      "`rcond` parameter will change to the default of machine precision times ``max(M, N)`` where M and N are the input matrix dimensions.\n",
      "To use the future default and silence this warning we advise to pass `rcond=None`, to keep using the old, explicitly pass `rcond=-1`.\n",
      "\n"
     ]
    }
   ],
   "source": [
    "model = Earth()\n",
    "model.fit(x,y)\n",
    "y_pred = model.predict(x)\n",
    "\n",
    "sum_li = model.summary().split('\\n')[4:-2]\n",
    "arr_knot = []\n",
    "for i in range(len(sum_li)):\n",
    "    line = sum_li[i]\n",
    "    if 'Yes' not in line:\n",
    "        if 'x0' in line:\n",
    "            columns = line.split()\n",
    "            try:\n",
    "                f = findall(r'\\((.+)\\)',columns[0])[0]\n",
    "                const = findall(r'[+-]?[0-9]\\.[0-9]+',f)\n",
    "                const = float(const[0])\n",
    "                arr_knot.append(abs(round(scaler.inverse_transform([[const]])[0][0])))\n",
    "            except Exception as e: \n",
    "                print(e)\n",
    "                continue\n",
    "arr_knot = np.unique(arr_knot)"
   ]
  },
  {
   "cell_type": "code",
   "execution_count": 57,
   "metadata": {},
   "outputs": [
    {
     "data": {
      "application/vnd.plotly.v1+json": {
       "config": {
        "plotlyServerURL": "https://plot.ly"
       },
       "data": [
        {
         "mode": "markers",
         "name": "price",
         "type": "scatter",
         "x": [
          "2021-05-09T00:00:00",
          "2021-05-16T00:00:00",
          "2021-05-23T00:00:00",
          "2021-05-30T00:00:00",
          "2021-06-06T00:00:00",
          "2021-06-13T00:00:00",
          "2021-06-20T00:00:00",
          "2021-06-27T00:00:00",
          "2021-07-04T00:00:00",
          "2021-07-11T00:00:00",
          "2021-07-18T00:00:00",
          "2021-07-25T00:00:00",
          "2021-08-01T00:00:00"
         ],
         "y": [
          0.000015692077048807945,
          0.00001563703839726578,
          0.000008469172751819256,
          0.000007944848076966616,
          0.000008379937995803709,
          0.0000062812982896332905,
          0.0000076186953633763365,
          0.000007447198007833361,
          0.000008670471530268676,
          0.000007712231220692749,
          0.000006803011453557975,
          0.000006458170272002069,
          0.000006262932639752684
         ]
        },
        {
         "mode": "lines",
         "name": "trend",
         "type": "scatter",
         "x": [
          "2021-05-09T00:00:00",
          "2021-05-16T00:00:00",
          "2021-05-23T00:00:00",
          "2021-05-30T00:00:00",
          "2021-06-06T00:00:00",
          "2021-06-13T00:00:00",
          "2021-06-20T00:00:00",
          "2021-06-27T00:00:00",
          "2021-07-04T00:00:00",
          "2021-07-11T00:00:00",
          "2021-07-18T00:00:00",
          "2021-07-25T00:00:00",
          "2021-08-01T00:00:00"
         ],
         "y": [
          0.000012284547137369504,
          0.000011690674961241004,
          0.000011096802785112505,
          0.000010502930608984005,
          0.000009909058432855506,
          0.000009315186256727006,
          0.000008721314080598506,
          0.000008127441904470007,
          0.000007533569728341507,
          0.000006939697552213008,
          0.0000063458253760845085,
          0.000005751953199956009,
          0.000005158081023827509
         ]
        }
       ],
       "layout": {
        "template": {
         "data": {
          "bar": [
           {
            "error_x": {
             "color": "#2a3f5f"
            },
            "error_y": {
             "color": "#2a3f5f"
            },
            "marker": {
             "line": {
              "color": "#E5ECF6",
              "width": 0.5
             }
            },
            "type": "bar"
           }
          ],
          "barpolar": [
           {
            "marker": {
             "line": {
              "color": "#E5ECF6",
              "width": 0.5
             }
            },
            "type": "barpolar"
           }
          ],
          "carpet": [
           {
            "aaxis": {
             "endlinecolor": "#2a3f5f",
             "gridcolor": "white",
             "linecolor": "white",
             "minorgridcolor": "white",
             "startlinecolor": "#2a3f5f"
            },
            "baxis": {
             "endlinecolor": "#2a3f5f",
             "gridcolor": "white",
             "linecolor": "white",
             "minorgridcolor": "white",
             "startlinecolor": "#2a3f5f"
            },
            "type": "carpet"
           }
          ],
          "choropleth": [
           {
            "colorbar": {
             "outlinewidth": 0,
             "ticks": ""
            },
            "type": "choropleth"
           }
          ],
          "contour": [
           {
            "colorbar": {
             "outlinewidth": 0,
             "ticks": ""
            },
            "colorscale": [
             [
              0,
              "#0d0887"
             ],
             [
              0.1111111111111111,
              "#46039f"
             ],
             [
              0.2222222222222222,
              "#7201a8"
             ],
             [
              0.3333333333333333,
              "#9c179e"
             ],
             [
              0.4444444444444444,
              "#bd3786"
             ],
             [
              0.5555555555555556,
              "#d8576b"
             ],
             [
              0.6666666666666666,
              "#ed7953"
             ],
             [
              0.7777777777777778,
              "#fb9f3a"
             ],
             [
              0.8888888888888888,
              "#fdca26"
             ],
             [
              1,
              "#f0f921"
             ]
            ],
            "type": "contour"
           }
          ],
          "contourcarpet": [
           {
            "colorbar": {
             "outlinewidth": 0,
             "ticks": ""
            },
            "type": "contourcarpet"
           }
          ],
          "heatmap": [
           {
            "colorbar": {
             "outlinewidth": 0,
             "ticks": ""
            },
            "colorscale": [
             [
              0,
              "#0d0887"
             ],
             [
              0.1111111111111111,
              "#46039f"
             ],
             [
              0.2222222222222222,
              "#7201a8"
             ],
             [
              0.3333333333333333,
              "#9c179e"
             ],
             [
              0.4444444444444444,
              "#bd3786"
             ],
             [
              0.5555555555555556,
              "#d8576b"
             ],
             [
              0.6666666666666666,
              "#ed7953"
             ],
             [
              0.7777777777777778,
              "#fb9f3a"
             ],
             [
              0.8888888888888888,
              "#fdca26"
             ],
             [
              1,
              "#f0f921"
             ]
            ],
            "type": "heatmap"
           }
          ],
          "heatmapgl": [
           {
            "colorbar": {
             "outlinewidth": 0,
             "ticks": ""
            },
            "colorscale": [
             [
              0,
              "#0d0887"
             ],
             [
              0.1111111111111111,
              "#46039f"
             ],
             [
              0.2222222222222222,
              "#7201a8"
             ],
             [
              0.3333333333333333,
              "#9c179e"
             ],
             [
              0.4444444444444444,
              "#bd3786"
             ],
             [
              0.5555555555555556,
              "#d8576b"
             ],
             [
              0.6666666666666666,
              "#ed7953"
             ],
             [
              0.7777777777777778,
              "#fb9f3a"
             ],
             [
              0.8888888888888888,
              "#fdca26"
             ],
             [
              1,
              "#f0f921"
             ]
            ],
            "type": "heatmapgl"
           }
          ],
          "histogram": [
           {
            "marker": {
             "colorbar": {
              "outlinewidth": 0,
              "ticks": ""
             }
            },
            "type": "histogram"
           }
          ],
          "histogram2d": [
           {
            "colorbar": {
             "outlinewidth": 0,
             "ticks": ""
            },
            "colorscale": [
             [
              0,
              "#0d0887"
             ],
             [
              0.1111111111111111,
              "#46039f"
             ],
             [
              0.2222222222222222,
              "#7201a8"
             ],
             [
              0.3333333333333333,
              "#9c179e"
             ],
             [
              0.4444444444444444,
              "#bd3786"
             ],
             [
              0.5555555555555556,
              "#d8576b"
             ],
             [
              0.6666666666666666,
              "#ed7953"
             ],
             [
              0.7777777777777778,
              "#fb9f3a"
             ],
             [
              0.8888888888888888,
              "#fdca26"
             ],
             [
              1,
              "#f0f921"
             ]
            ],
            "type": "histogram2d"
           }
          ],
          "histogram2dcontour": [
           {
            "colorbar": {
             "outlinewidth": 0,
             "ticks": ""
            },
            "colorscale": [
             [
              0,
              "#0d0887"
             ],
             [
              0.1111111111111111,
              "#46039f"
             ],
             [
              0.2222222222222222,
              "#7201a8"
             ],
             [
              0.3333333333333333,
              "#9c179e"
             ],
             [
              0.4444444444444444,
              "#bd3786"
             ],
             [
              0.5555555555555556,
              "#d8576b"
             ],
             [
              0.6666666666666666,
              "#ed7953"
             ],
             [
              0.7777777777777778,
              "#fb9f3a"
             ],
             [
              0.8888888888888888,
              "#fdca26"
             ],
             [
              1,
              "#f0f921"
             ]
            ],
            "type": "histogram2dcontour"
           }
          ],
          "mesh3d": [
           {
            "colorbar": {
             "outlinewidth": 0,
             "ticks": ""
            },
            "type": "mesh3d"
           }
          ],
          "parcoords": [
           {
            "line": {
             "colorbar": {
              "outlinewidth": 0,
              "ticks": ""
             }
            },
            "type": "parcoords"
           }
          ],
          "pie": [
           {
            "automargin": true,
            "type": "pie"
           }
          ],
          "scatter": [
           {
            "marker": {
             "colorbar": {
              "outlinewidth": 0,
              "ticks": ""
             }
            },
            "type": "scatter"
           }
          ],
          "scatter3d": [
           {
            "line": {
             "colorbar": {
              "outlinewidth": 0,
              "ticks": ""
             }
            },
            "marker": {
             "colorbar": {
              "outlinewidth": 0,
              "ticks": ""
             }
            },
            "type": "scatter3d"
           }
          ],
          "scattercarpet": [
           {
            "marker": {
             "colorbar": {
              "outlinewidth": 0,
              "ticks": ""
             }
            },
            "type": "scattercarpet"
           }
          ],
          "scattergeo": [
           {
            "marker": {
             "colorbar": {
              "outlinewidth": 0,
              "ticks": ""
             }
            },
            "type": "scattergeo"
           }
          ],
          "scattergl": [
           {
            "marker": {
             "colorbar": {
              "outlinewidth": 0,
              "ticks": ""
             }
            },
            "type": "scattergl"
           }
          ],
          "scattermapbox": [
           {
            "marker": {
             "colorbar": {
              "outlinewidth": 0,
              "ticks": ""
             }
            },
            "type": "scattermapbox"
           }
          ],
          "scatterpolar": [
           {
            "marker": {
             "colorbar": {
              "outlinewidth": 0,
              "ticks": ""
             }
            },
            "type": "scatterpolar"
           }
          ],
          "scatterpolargl": [
           {
            "marker": {
             "colorbar": {
              "outlinewidth": 0,
              "ticks": ""
             }
            },
            "type": "scatterpolargl"
           }
          ],
          "scatterternary": [
           {
            "marker": {
             "colorbar": {
              "outlinewidth": 0,
              "ticks": ""
             }
            },
            "type": "scatterternary"
           }
          ],
          "surface": [
           {
            "colorbar": {
             "outlinewidth": 0,
             "ticks": ""
            },
            "colorscale": [
             [
              0,
              "#0d0887"
             ],
             [
              0.1111111111111111,
              "#46039f"
             ],
             [
              0.2222222222222222,
              "#7201a8"
             ],
             [
              0.3333333333333333,
              "#9c179e"
             ],
             [
              0.4444444444444444,
              "#bd3786"
             ],
             [
              0.5555555555555556,
              "#d8576b"
             ],
             [
              0.6666666666666666,
              "#ed7953"
             ],
             [
              0.7777777777777778,
              "#fb9f3a"
             ],
             [
              0.8888888888888888,
              "#fdca26"
             ],
             [
              1,
              "#f0f921"
             ]
            ],
            "type": "surface"
           }
          ],
          "table": [
           {
            "cells": {
             "fill": {
              "color": "#EBF0F8"
             },
             "line": {
              "color": "white"
             }
            },
            "header": {
             "fill": {
              "color": "#C8D4E3"
             },
             "line": {
              "color": "white"
             }
            },
            "type": "table"
           }
          ]
         },
         "layout": {
          "annotationdefaults": {
           "arrowcolor": "#2a3f5f",
           "arrowhead": 0,
           "arrowwidth": 1
          },
          "autotypenumbers": "strict",
          "coloraxis": {
           "colorbar": {
            "outlinewidth": 0,
            "ticks": ""
           }
          },
          "colorscale": {
           "diverging": [
            [
             0,
             "#8e0152"
            ],
            [
             0.1,
             "#c51b7d"
            ],
            [
             0.2,
             "#de77ae"
            ],
            [
             0.3,
             "#f1b6da"
            ],
            [
             0.4,
             "#fde0ef"
            ],
            [
             0.5,
             "#f7f7f7"
            ],
            [
             0.6,
             "#e6f5d0"
            ],
            [
             0.7,
             "#b8e186"
            ],
            [
             0.8,
             "#7fbc41"
            ],
            [
             0.9,
             "#4d9221"
            ],
            [
             1,
             "#276419"
            ]
           ],
           "sequential": [
            [
             0,
             "#0d0887"
            ],
            [
             0.1111111111111111,
             "#46039f"
            ],
            [
             0.2222222222222222,
             "#7201a8"
            ],
            [
             0.3333333333333333,
             "#9c179e"
            ],
            [
             0.4444444444444444,
             "#bd3786"
            ],
            [
             0.5555555555555556,
             "#d8576b"
            ],
            [
             0.6666666666666666,
             "#ed7953"
            ],
            [
             0.7777777777777778,
             "#fb9f3a"
            ],
            [
             0.8888888888888888,
             "#fdca26"
            ],
            [
             1,
             "#f0f921"
            ]
           ],
           "sequentialminus": [
            [
             0,
             "#0d0887"
            ],
            [
             0.1111111111111111,
             "#46039f"
            ],
            [
             0.2222222222222222,
             "#7201a8"
            ],
            [
             0.3333333333333333,
             "#9c179e"
            ],
            [
             0.4444444444444444,
             "#bd3786"
            ],
            [
             0.5555555555555556,
             "#d8576b"
            ],
            [
             0.6666666666666666,
             "#ed7953"
            ],
            [
             0.7777777777777778,
             "#fb9f3a"
            ],
            [
             0.8888888888888888,
             "#fdca26"
            ],
            [
             1,
             "#f0f921"
            ]
           ]
          },
          "colorway": [
           "#636efa",
           "#EF553B",
           "#00cc96",
           "#ab63fa",
           "#FFA15A",
           "#19d3f3",
           "#FF6692",
           "#B6E880",
           "#FF97FF",
           "#FECB52"
          ],
          "font": {
           "color": "#2a3f5f"
          },
          "geo": {
           "bgcolor": "white",
           "lakecolor": "white",
           "landcolor": "#E5ECF6",
           "showlakes": true,
           "showland": true,
           "subunitcolor": "white"
          },
          "hoverlabel": {
           "align": "left"
          },
          "hovermode": "closest",
          "mapbox": {
           "style": "light"
          },
          "paper_bgcolor": "white",
          "plot_bgcolor": "#E5ECF6",
          "polar": {
           "angularaxis": {
            "gridcolor": "white",
            "linecolor": "white",
            "ticks": ""
           },
           "bgcolor": "#E5ECF6",
           "radialaxis": {
            "gridcolor": "white",
            "linecolor": "white",
            "ticks": ""
           }
          },
          "scene": {
           "xaxis": {
            "backgroundcolor": "#E5ECF6",
            "gridcolor": "white",
            "gridwidth": 2,
            "linecolor": "white",
            "showbackground": true,
            "ticks": "",
            "zerolinecolor": "white"
           },
           "yaxis": {
            "backgroundcolor": "#E5ECF6",
            "gridcolor": "white",
            "gridwidth": 2,
            "linecolor": "white",
            "showbackground": true,
            "ticks": "",
            "zerolinecolor": "white"
           },
           "zaxis": {
            "backgroundcolor": "#E5ECF6",
            "gridcolor": "white",
            "gridwidth": 2,
            "linecolor": "white",
            "showbackground": true,
            "ticks": "",
            "zerolinecolor": "white"
           }
          },
          "shapedefaults": {
           "line": {
            "color": "#2a3f5f"
           }
          },
          "ternary": {
           "aaxis": {
            "gridcolor": "white",
            "linecolor": "white",
            "ticks": ""
           },
           "baxis": {
            "gridcolor": "white",
            "linecolor": "white",
            "ticks": ""
           },
           "bgcolor": "#E5ECF6",
           "caxis": {
            "gridcolor": "white",
            "linecolor": "white",
            "ticks": ""
           }
          },
          "title": {
           "x": 0.05
          },
          "xaxis": {
           "automargin": true,
           "gridcolor": "white",
           "linecolor": "white",
           "ticks": "",
           "title": {
            "standoff": 15
           },
           "zerolinecolor": "white",
           "zerolinewidth": 2
          },
          "yaxis": {
           "automargin": true,
           "gridcolor": "white",
           "linecolor": "white",
           "ticks": "",
           "title": {
            "standoff": 15
           },
           "zerolinecolor": "white",
           "zerolinewidth": 2
          }
         }
        }
       }
      }
     },
     "metadata": {},
     "output_type": "display_data"
    }
   ],
   "source": [
    "fig = go.Figure()\n",
    "fig.add_trace(go.Scatter(x=df_shib_filter['snapped_at'],y=y,name='price',mode='markers'))\n",
    "fig.add_trace(go.Scatter(x=df_shib_filter['snapped_at'],y=y_pred,name='trend',mode='lines'))\n",
    "fig.show()"
   ]
  },
  {
   "cell_type": "code",
   "execution_count": 35,
   "metadata": {},
   "outputs": [],
   "source": [
    "FAKE_PUMP_THRESHOLD = 4\n",
    "FAKE_PUMP_BOUNDARY = 1\n",
    "staircase['fake_pump'] = [0 for i in range(len(staircase['date_before']))]\n",
    "last_day = df_shib['snapped_at'][-1]\n",
    "for i in range(len(staircase['date_before'])):\n",
    "    date_after = staircase['date_after'][i]\n",
    "    is_search = True\n",
    "    date_now = date_after\n",
    "    data_avg = df_shib[df_shib['snapped_at'] <= date_after]['pct_change'].values[-2:].tolist()\n",
    "    data_avg = [abs(d) for d in data_avg]\n",
    "    is_fake_pump = False\n",
    "    while is_search:\n",
    "        temp_df = df_shib[df_shib['snapped_at'] >= date_now]\n",
    "        temp_df = temp_df[temp_df['snapped_at'] <= date_now+pd.Timedelta(1,'d')]\n",
    "        p0 = temp_df['pct_change'].values[0]\n",
    "        p1 = temp_df['pct_change'].values[1]\n",
    "        avg = np.average(data_avg)\n",
    "        if p0*p1 <= 0:\n",
    "            if abs(p0) > FAKE_PUMP_THRESHOLD*avg and abs(p1) > FAKE_PUMP_THRESHOLD*avg and abs(p0) < FAKE_PUMP_BOUNDARY and abs(p1) < FAKE_PUMP_BOUNDARY:\n",
    "                is_fake_pump = True\n",
    "                is_search = False\n",
    "                staircase['fake_pump'][i] = temp_df['snapped_at'][0]\n",
    "        if not is_fake_pump:\n",
    "            data_avg.append(abs(p0))\n",
    "        date_now = date_now+pd.Timedelta(1,'d')\n",
    "        if i != len(staircase['date_before'])-1:\n",
    "            if date_now >= staircase['date_before'][i+1]:\n",
    "                is_search = False\n",
    "        if date_now == last_day:\n",
    "            is_search = False\n",
    "        if abs(p0) > 0.5:\n",
    "            is_search = False"
   ]
  },
  {
   "cell_type": "code",
   "execution_count": 47,
   "metadata": {},
   "outputs": [],
   "source": [
    "def adjust_dt(df, delta_time):\n",
    "    date_init =  df['snapped_at'][0]\n",
    "    idx_date = df['snapped_at'].map(dt.datetime.toordinal)\n",
    "    idx_date = idx_date - idx_date[0]\n",
    "    df_modify = df[df['snapped_at'] == date_init]\n",
    "    for i in idx_date:\n",
    "        if i!=0:\n",
    "            if i%delta_time == 0:\n",
    "                df_modify = pd.concat([df_modify,df[df['snapped_at'] == date_init+pd.Timedelta(i,'d')]])\n",
    "    return df_modify\n"
   ]
  },
  {
   "cell_type": "code",
   "execution_count": 58,
   "metadata": {},
   "outputs": [
    {
     "data": {
      "text/plain": [
       "array([], dtype=float64)"
      ]
     },
     "execution_count": 58,
     "metadata": {},
     "output_type": "execute_result"
    }
   ],
   "source": [
    "arr_knot"
   ]
  },
  {
   "cell_type": "code",
   "execution_count": 42,
   "metadata": {},
   "outputs": [
    {
     "data": {
      "text/plain": [
       "1      737639\n",
       "2      737640\n",
       "3      737641\n",
       "4      737642\n",
       "5      737643\n",
       "        ...  \n",
       "681    738333\n",
       "682    738334\n",
       "683    738335\n",
       "684    738336\n",
       "685    738337\n",
       "Name: snapped_at, Length: 685, dtype: int64"
      ]
     },
     "execution_count": 42,
     "metadata": {},
     "output_type": "execute_result"
    }
   ],
   "source": [
    "df_shib['snapped_at'].map(dt.datetime.toordinal)"
   ]
  },
  {
   "cell_type": "code",
   "execution_count": 75,
   "metadata": {},
   "outputs": [
    {
     "name": "stderr",
     "output_type": "stream",
     "text": [
      "c:\\Users\\asus\\Anaconda3\\lib\\site-packages\\ipykernel_launcher.py:1: SettingWithCopyWarning:\n",
      "\n",
      "\n",
      "A value is trying to be set on a copy of a slice from a DataFrame\n",
      "\n",
      "See the caveats in the documentation: https://pandas.pydata.org/pandas-docs/stable/user_guide/indexing.html#returning-a-view-versus-a-copy\n",
      "\n"
     ]
    }
   ],
   "source": [
    "temp_df['price'][1] = 1"
   ]
  },
  {
   "cell_type": "code",
   "execution_count": 76,
   "metadata": {},
   "outputs": [
    {
     "data": {
      "text/html": [
       "<div>\n",
       "<style scoped>\n",
       "    .dataframe tbody tr th:only-of-type {\n",
       "        vertical-align: middle;\n",
       "    }\n",
       "\n",
       "    .dataframe tbody tr th {\n",
       "        vertical-align: top;\n",
       "    }\n",
       "\n",
       "    .dataframe thead th {\n",
       "        text-align: right;\n",
       "    }\n",
       "</style>\n",
       "<table border=\"1\" class=\"dataframe\">\n",
       "  <thead>\n",
       "    <tr style=\"text-align: right;\">\n",
       "      <th></th>\n",
       "      <th>snapped_at</th>\n",
       "      <th>price</th>\n",
       "      <th>market_cap</th>\n",
       "      <th>total_volume</th>\n",
       "      <th>pct_change</th>\n",
       "    </tr>\n",
       "  </thead>\n",
       "  <tbody>\n",
       "    <tr>\n",
       "      <th>684</th>\n",
       "      <td>2022-06-30</td>\n",
       "      <td>1.0</td>\n",
       "      <td>6.004611e+09</td>\n",
       "      <td>6.142981e+08</td>\n",
       "      <td>0.019488</td>\n",
       "    </tr>\n",
       "    <tr>\n",
       "      <th>685</th>\n",
       "      <td>2022-07-01</td>\n",
       "      <td>1.0</td>\n",
       "      <td>5.967997e+09</td>\n",
       "      <td>5.995007e+08</td>\n",
       "      <td>0.000554</td>\n",
       "    </tr>\n",
       "  </tbody>\n",
       "</table>\n",
       "</div>"
      ],
      "text/plain": [
       "    snapped_at  price    market_cap  total_volume  pct_change\n",
       "684 2022-06-30    1.0  6.004611e+09  6.142981e+08    0.019488\n",
       "685 2022-07-01    1.0  5.967997e+09  5.995007e+08    0.000554"
      ]
     },
     "execution_count": 76,
     "metadata": {},
     "output_type": "execute_result"
    }
   ],
   "source": [
    "temp_df"
   ]
  },
  {
   "cell_type": "code",
   "execution_count": null,
   "metadata": {},
   "outputs": [],
   "source": []
  }
 ],
 "metadata": {
  "kernelspec": {
   "display_name": "Python 3.7.6 ('base')",
   "language": "python",
   "name": "python3"
  },
  "language_info": {
   "codemirror_mode": {
    "name": "ipython",
    "version": 3
   },
   "file_extension": ".py",
   "mimetype": "text/x-python",
   "name": "python",
   "nbconvert_exporter": "python",
   "pygments_lexer": "ipython3",
   "version": "3.7.6"
  },
  "orig_nbformat": 4,
  "vscode": {
   "interpreter": {
    "hash": "ebda45beb80756052cac5fc35cc43e06ce6409a558745ebee29bebc2013f1d43"
   }
  }
 },
 "nbformat": 4,
 "nbformat_minor": 2
}
