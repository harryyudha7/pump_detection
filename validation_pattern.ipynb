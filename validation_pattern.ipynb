{
 "cells": [
  {
   "cell_type": "code",
   "execution_count": 1,
   "metadata": {},
   "outputs": [],
   "source": [
    "import pandas as pd\n",
    "import numpy as np\n",
    "import json\n",
    "from pyearth import Earth\n",
    "import plotly.graph_objects as go\n",
    "import datetime as dt\n",
    "from re import findall\n",
    "from sklearn.preprocessing import MinMaxScaler\n",
    "import warnings\n",
    "warnings.filterwarnings('ignore')\n",
    "import copy"
   ]
  },
  {
   "cell_type": "code",
   "execution_count": 2,
   "metadata": {},
   "outputs": [],
   "source": [
    "def adjust_dt(df, delta_time):\n",
    "    date_init =  df['snapped_at'][0]\n",
    "    idx_date = df['snapped_at'].map(dt.datetime.toordinal)\n",
    "    idx_date = idx_date - idx_date[0]\n",
    "    df_modify = df[df['snapped_at'] == date_init]\n",
    "    for i in idx_date:\n",
    "        if i!=0:\n",
    "            if i%delta_time == 0:\n",
    "                df_modify = pd.concat([df_modify,df[df['snapped_at'] == date_init+pd.Timedelta(i,'d')]])\n",
    "    return df_modify"
   ]
  },
  {
   "cell_type": "code",
   "execution_count": 3,
   "metadata": {},
   "outputs": [],
   "source": [
    "f = open('forecast.json')\n",
    "data_forecast = json.load(f)\n",
    "\n",
    "df_forecast = pd.DataFrame({\n",
    "    'coin' : data_forecast['coin'],\n",
    "    'timeframe' : data_forecast['timeframe'],\n",
    "    'date_before' : pd.to_datetime([d['date_before'] for d in data_forecast['detail']], format='%Y-%m-%d %H:%M:%S'),\n",
    "    'date_after' : pd.to_datetime([d['date_after'] for d in data_forecast['detail']], format='%Y-%m-%d %H:%M:%S'),\n",
    "    'fake_pump' : pd.to_datetime([d['fake_pump'] for d in data_forecast['detail']], format='%Y-%m-%d %H:%M:%S'),\n",
    "})"
   ]
  },
  {
   "cell_type": "code",
   "execution_count": 4,
   "metadata": {},
   "outputs": [
    {
     "data": {
      "text/html": [
       "<div>\n",
       "<style scoped>\n",
       "    .dataframe tbody tr th:only-of-type {\n",
       "        vertical-align: middle;\n",
       "    }\n",
       "\n",
       "    .dataframe tbody tr th {\n",
       "        vertical-align: top;\n",
       "    }\n",
       "\n",
       "    .dataframe thead th {\n",
       "        text-align: right;\n",
       "    }\n",
       "</style>\n",
       "<table border=\"1\" class=\"dataframe\">\n",
       "  <thead>\n",
       "    <tr style=\"text-align: right;\">\n",
       "      <th></th>\n",
       "      <th>coin</th>\n",
       "      <th>timeframe</th>\n",
       "      <th>date_before</th>\n",
       "      <th>date_after</th>\n",
       "      <th>fake_pump</th>\n",
       "    </tr>\n",
       "  </thead>\n",
       "  <tbody>\n",
       "    <tr>\n",
       "      <th>0</th>\n",
       "      <td>adp</td>\n",
       "      <td>1</td>\n",
       "      <td>2021-11-03</td>\n",
       "      <td>2022-01-02</td>\n",
       "      <td>2022-01-11</td>\n",
       "    </tr>\n",
       "    <tr>\n",
       "      <th>1</th>\n",
       "      <td>adx</td>\n",
       "      <td>3</td>\n",
       "      <td>2018-12-01</td>\n",
       "      <td>2019-10-03</td>\n",
       "      <td>2019-10-06</td>\n",
       "    </tr>\n",
       "    <tr>\n",
       "      <th>2</th>\n",
       "      <td>ae</td>\n",
       "      <td>3</td>\n",
       "      <td>2019-03-27</td>\n",
       "      <td>2019-04-26</td>\n",
       "      <td>2019-06-25</td>\n",
       "    </tr>\n",
       "    <tr>\n",
       "      <th>3</th>\n",
       "      <td>aion</td>\n",
       "      <td>5</td>\n",
       "      <td>2018-03-27</td>\n",
       "      <td>2019-08-19</td>\n",
       "      <td>2021-02-19</td>\n",
       "    </tr>\n",
       "    <tr>\n",
       "      <th>4</th>\n",
       "      <td>amp</td>\n",
       "      <td>1</td>\n",
       "      <td>2022-01-27</td>\n",
       "      <td>2022-03-13</td>\n",
       "      <td>2022-05-12</td>\n",
       "    </tr>\n",
       "    <tr>\n",
       "      <th>...</th>\n",
       "      <td>...</td>\n",
       "      <td>...</td>\n",
       "      <td>...</td>\n",
       "      <td>...</td>\n",
       "      <td>...</td>\n",
       "    </tr>\n",
       "    <tr>\n",
       "      <th>238</th>\n",
       "      <td>zec</td>\n",
       "      <td>6</td>\n",
       "      <td>2017-11-06</td>\n",
       "      <td>2020-03-07</td>\n",
       "      <td>2020-03-13</td>\n",
       "    </tr>\n",
       "    <tr>\n",
       "      <th>239</th>\n",
       "      <td>zec</td>\n",
       "      <td>3</td>\n",
       "      <td>2018-04-02</td>\n",
       "      <td>2018-06-16</td>\n",
       "      <td>2020-01-16</td>\n",
       "    </tr>\n",
       "    <tr>\n",
       "      <th>240</th>\n",
       "      <td>zen</td>\n",
       "      <td>6</td>\n",
       "      <td>2017-10-12</td>\n",
       "      <td>2020-05-17</td>\n",
       "      <td>2021-05-24</td>\n",
       "    </tr>\n",
       "    <tr>\n",
       "      <th>241</th>\n",
       "      <td>zen</td>\n",
       "      <td>5</td>\n",
       "      <td>2018-03-26</td>\n",
       "      <td>2018-05-15</td>\n",
       "      <td>2021-09-16</td>\n",
       "    </tr>\n",
       "    <tr>\n",
       "      <th>242</th>\n",
       "      <td>zrx</td>\n",
       "      <td>1</td>\n",
       "      <td>2022-03-14</td>\n",
       "      <td>2022-04-20</td>\n",
       "      <td>2022-04-21</td>\n",
       "    </tr>\n",
       "  </tbody>\n",
       "</table>\n",
       "<p>243 rows × 5 columns</p>\n",
       "</div>"
      ],
      "text/plain": [
       "     coin  timeframe date_before date_after  fake_pump\n",
       "0     adp          1  2021-11-03 2022-01-02 2022-01-11\n",
       "1     adx          3  2018-12-01 2019-10-03 2019-10-06\n",
       "2      ae          3  2019-03-27 2019-04-26 2019-06-25\n",
       "3    aion          5  2018-03-27 2019-08-19 2021-02-19\n",
       "4     amp          1  2022-01-27 2022-03-13 2022-05-12\n",
       "..    ...        ...         ...        ...        ...\n",
       "238   zec          6  2017-11-06 2020-03-07 2020-03-13\n",
       "239   zec          3  2018-04-02 2018-06-16 2020-01-16\n",
       "240   zen          6  2017-10-12 2020-05-17 2021-05-24\n",
       "241   zen          5  2018-03-26 2018-05-15 2021-09-16\n",
       "242   zrx          1  2022-03-14 2022-04-20 2022-04-21\n",
       "\n",
       "[243 rows x 5 columns]"
      ]
     },
     "execution_count": 4,
     "metadata": {},
     "output_type": "execute_result"
    }
   ],
   "source": [
    "df_forecast"
   ]
  },
  {
   "cell_type": "code",
   "execution_count": 5,
   "metadata": {},
   "outputs": [],
   "source": [
    "f = open('df_checked_dict.json')\n",
    "data = json.load(f)\n",
    "\n",
    "df_checked = {}\n",
    "for i in data.keys():\n",
    "    df_checked[i] = pd.DataFrame.from_dict(data[i])\n",
    "    df_checked[i]['snapped_at'] = pd.to_datetime(df_checked[i]['snapped_at'], format='%Y-%m-%d %H:%M:%S UTC')"
   ]
  },
  {
   "cell_type": "code",
   "execution_count": 6,
   "metadata": {},
   "outputs": [],
   "source": [
    "TIME_LENGTH = 60\n",
    "\n",
    "arr_base_price = []\n",
    "arr_max_price = []\n",
    "arr_pct_chg = []\n",
    "for i in range(len(df_forecast)):\n",
    "    coin = df_forecast['coin'][i]\n",
    "    temp_df = df_checked[coin]\n",
    "    initial_date = df_forecast['fake_pump'][i]\n",
    "    final_date = df_forecast['fake_pump'][i] + pd.Timedelta(TIME_LENGTH*df_forecast['timeframe'][i],'d')\n",
    "    base_price_bound = df_forecast['fake_pump'][i] + pd.Timedelta(TIME_LENGTH/2*df_forecast['timeframe'][i],'d')\n",
    "    temp_df2 = temp_df[temp_df['snapped_at'] > initial_date]\n",
    "    temp_df2 = temp_df2[temp_df2['snapped_at'] < base_price_bound]\n",
    "    base_price = np.percentile(temp_df2['price'],1)\n",
    "    temp_df2 = temp_df[temp_df['snapped_at'] > initial_date]\n",
    "    temp_df2 = temp_df2[temp_df2['snapped_at'] < final_date]\n",
    "    max_price = max(temp_df2['price'])\n",
    "    pct_chg = (max_price - base_price)/base_price\n",
    "    arr_base_price.append(base_price)\n",
    "    arr_max_price.append(max_price)\n",
    "    arr_pct_chg.append(pct_chg)\n",
    "\n",
    "df_forecast2 = copy.copy(df_forecast)\n",
    "df_forecast2['base_price'] = arr_base_price\n",
    "df_forecast2['max_price'] = arr_max_price\n",
    "df_forecast2['pct_chg'] = arr_pct_chg"
   ]
  },
  {
   "cell_type": "code",
   "execution_count": 7,
   "metadata": {},
   "outputs": [
    {
     "data": {
      "text/html": [
       "<div>\n",
       "<style scoped>\n",
       "    .dataframe tbody tr th:only-of-type {\n",
       "        vertical-align: middle;\n",
       "    }\n",
       "\n",
       "    .dataframe tbody tr th {\n",
       "        vertical-align: top;\n",
       "    }\n",
       "\n",
       "    .dataframe thead th {\n",
       "        text-align: right;\n",
       "    }\n",
       "</style>\n",
       "<table border=\"1\" class=\"dataframe\">\n",
       "  <thead>\n",
       "    <tr style=\"text-align: right;\">\n",
       "      <th></th>\n",
       "      <th>coin</th>\n",
       "      <th>timeframe</th>\n",
       "      <th>date_before</th>\n",
       "      <th>date_after</th>\n",
       "      <th>fake_pump</th>\n",
       "      <th>base_price</th>\n",
       "      <th>max_price</th>\n",
       "      <th>pct_chg</th>\n",
       "    </tr>\n",
       "  </thead>\n",
       "  <tbody>\n",
       "    <tr>\n",
       "      <th>42</th>\n",
       "      <td>cusdc</td>\n",
       "      <td>1</td>\n",
       "      <td>2019-10-01</td>\n",
       "      <td>2020-04-27</td>\n",
       "      <td>2020-10-18</td>\n",
       "      <td>0.021094</td>\n",
       "      <td>0.021326</td>\n",
       "      <td>0.010967</td>\n",
       "    </tr>\n",
       "    <tr>\n",
       "      <th>205</th>\n",
       "      <td>usdt</td>\n",
       "      <td>1</td>\n",
       "      <td>2017-07-20</td>\n",
       "      <td>2017-12-17</td>\n",
       "      <td>2018-05-04</td>\n",
       "      <td>0.992288</td>\n",
       "      <td>1.006082</td>\n",
       "      <td>0.013902</td>\n",
       "    </tr>\n",
       "    <tr>\n",
       "      <th>177</th>\n",
       "      <td>sprt</td>\n",
       "      <td>1</td>\n",
       "      <td>2022-05-10</td>\n",
       "      <td>2022-06-20</td>\n",
       "      <td>2022-06-28</td>\n",
       "      <td>0.305027</td>\n",
       "      <td>0.309672</td>\n",
       "      <td>0.015228</td>\n",
       "    </tr>\n",
       "    <tr>\n",
       "      <th>160</th>\n",
       "      <td>rev</td>\n",
       "      <td>1</td>\n",
       "      <td>2020-11-16</td>\n",
       "      <td>2021-01-15</td>\n",
       "      <td>2021-01-19</td>\n",
       "      <td>0.011594</td>\n",
       "      <td>0.012544</td>\n",
       "      <td>0.081907</td>\n",
       "    </tr>\n",
       "    <tr>\n",
       "      <th>166</th>\n",
       "      <td>sb</td>\n",
       "      <td>1</td>\n",
       "      <td>2022-01-26</td>\n",
       "      <td>2022-02-17</td>\n",
       "      <td>2022-05-15</td>\n",
       "      <td>216.285836</td>\n",
       "      <td>236.371311</td>\n",
       "      <td>0.092865</td>\n",
       "    </tr>\n",
       "    <tr>\n",
       "      <th>...</th>\n",
       "      <td>...</td>\n",
       "      <td>...</td>\n",
       "      <td>...</td>\n",
       "      <td>...</td>\n",
       "      <td>...</td>\n",
       "      <td>...</td>\n",
       "      <td>...</td>\n",
       "      <td>...</td>\n",
       "    </tr>\n",
       "    <tr>\n",
       "      <th>148</th>\n",
       "      <td>pyr</td>\n",
       "      <td>2</td>\n",
       "      <td>2021-07-25</td>\n",
       "      <td>2021-09-17</td>\n",
       "      <td>2021-09-19</td>\n",
       "      <td>4.054318</td>\n",
       "      <td>44.144746</td>\n",
       "      <td>9.888327</td>\n",
       "    </tr>\n",
       "    <tr>\n",
       "      <th>43</th>\n",
       "      <td>cvc</td>\n",
       "      <td>5</td>\n",
       "      <td>2018-04-11</td>\n",
       "      <td>2019-09-03</td>\n",
       "      <td>2020-11-06</td>\n",
       "      <td>0.059539</td>\n",
       "      <td>0.718131</td>\n",
       "      <td>11.061457</td>\n",
       "    </tr>\n",
       "    <tr>\n",
       "      <th>135</th>\n",
       "      <td>omg</td>\n",
       "      <td>3</td>\n",
       "      <td>2019-10-22</td>\n",
       "      <td>2020-03-11</td>\n",
       "      <td>2020-03-14</td>\n",
       "      <td>0.462227</td>\n",
       "      <td>6.399716</td>\n",
       "      <td>12.845388</td>\n",
       "    </tr>\n",
       "    <tr>\n",
       "      <th>127</th>\n",
       "      <td>ngc</td>\n",
       "      <td>2</td>\n",
       "      <td>2021-04-28</td>\n",
       "      <td>2021-06-13</td>\n",
       "      <td>2021-09-19</td>\n",
       "      <td>0.080785</td>\n",
       "      <td>2.074769</td>\n",
       "      <td>24.682670</td>\n",
       "    </tr>\n",
       "    <tr>\n",
       "      <th>26</th>\n",
       "      <td>btnt</td>\n",
       "      <td>3</td>\n",
       "      <td>2020-01-24</td>\n",
       "      <td>2020-04-14</td>\n",
       "      <td>2020-04-17</td>\n",
       "      <td>0.001097</td>\n",
       "      <td>0.100399</td>\n",
       "      <td>90.547869</td>\n",
       "    </tr>\n",
       "  </tbody>\n",
       "</table>\n",
       "<p>243 rows × 8 columns</p>\n",
       "</div>"
      ],
      "text/plain": [
       "      coin  timeframe date_before date_after  fake_pump  base_price  \\\n",
       "42   cusdc          1  2019-10-01 2020-04-27 2020-10-18    0.021094   \n",
       "205   usdt          1  2017-07-20 2017-12-17 2018-05-04    0.992288   \n",
       "177   sprt          1  2022-05-10 2022-06-20 2022-06-28    0.305027   \n",
       "160    rev          1  2020-11-16 2021-01-15 2021-01-19    0.011594   \n",
       "166     sb          1  2022-01-26 2022-02-17 2022-05-15  216.285836   \n",
       "..     ...        ...         ...        ...        ...         ...   \n",
       "148    pyr          2  2021-07-25 2021-09-17 2021-09-19    4.054318   \n",
       "43     cvc          5  2018-04-11 2019-09-03 2020-11-06    0.059539   \n",
       "135    omg          3  2019-10-22 2020-03-11 2020-03-14    0.462227   \n",
       "127    ngc          2  2021-04-28 2021-06-13 2021-09-19    0.080785   \n",
       "26    btnt          3  2020-01-24 2020-04-14 2020-04-17    0.001097   \n",
       "\n",
       "      max_price    pct_chg  \n",
       "42     0.021326   0.010967  \n",
       "205    1.006082   0.013902  \n",
       "177    0.309672   0.015228  \n",
       "160    0.012544   0.081907  \n",
       "166  236.371311   0.092865  \n",
       "..          ...        ...  \n",
       "148   44.144746   9.888327  \n",
       "43     0.718131  11.061457  \n",
       "135    6.399716  12.845388  \n",
       "127    2.074769  24.682670  \n",
       "26     0.100399  90.547869  \n",
       "\n",
       "[243 rows x 8 columns]"
      ]
     },
     "execution_count": 7,
     "metadata": {},
     "output_type": "execute_result"
    }
   ],
   "source": [
    "df_forecast2.sort_values(by=['pct_chg'])"
   ]
  },
  {
   "cell_type": "code",
   "execution_count": 8,
   "metadata": {},
   "outputs": [
    {
     "data": {
      "application/vnd.plotly.v1+json": {
       "config": {
        "plotlyServerURL": "https://plot.ly"
       },
       "data": [
        {
         "type": "histogram",
         "x": [
          1.2155499994104422,
          1.134314010467972,
          1.8348520327736528,
          3.5083120935496446,
          0.2807106560927102,
          1.569682515924299,
          0.23220384759998236,
          0.6297085448432849,
          1.2506399896786333,
          0.5304025369909526,
          1.1565127557027657,
          0.32202595971309345,
          0.6372561592744128,
          1.0159739390641915,
          0.4570931986861875,
          0.8695157563149896,
          0.5029168655122611,
          1.550456900897795,
          0.6399774125145357,
          0.6714537980688358,
          0.6304749752139601,
          0.943260132192697,
          1.3093433965932726,
          1.6083621490154,
          1.6149179862466725,
          1.203015438481078,
          90.54786870643024,
          1.1182092566968025,
          8.589648308199838,
          2.3654294258166852,
          0.6777430641515962,
          0.22336884776490215,
          0.8065730476200487,
          1.9331126962859453,
          2.678793481318359,
          0.5597985240861105,
          1.3014310601039776,
          0.7643146346009433,
          0.9824156478114855,
          2.139276781319888,
          0.5529082899077451,
          0.7956200183107498,
          0.010966645737400497,
          11.061456834250194,
          9.624027189818415,
          1.3290751915762715,
          1.1979235444887926,
          0.46220373237235546,
          3.466041125416753,
          1.518245011662824,
          1.7241611893576798,
          0.5728358821542832,
          3.5801227378751577,
          0.4401855766469528,
          0.7554493063854498,
          0.5836848769186344,
          0.49841404372224596,
          0.6339610187537238,
          0.6851175478789009,
          0.6851175478789009,
          1.0355635480787098,
          0.12149357185570639,
          0.21857479559778992,
          2.6152721234358323,
          1.4798862038615583,
          0.453401912862036,
          3.496271235099572,
          0.3440188803570918,
          2.2383610845174764,
          0.6875470120146839,
          0.8875888628097596,
          0.6010857475580885,
          1.4155695445529355,
          1.1422970696311627,
          0.6133659307994965,
          0.3928986416151452,
          0.9628513174578192,
          0.8652402965957103,
          0.6410038014722209,
          0.9328725381904144,
          0.41631004676536965,
          0.9336281832567138,
          1.980845674622697,
          1.2003381858717785,
          0.23211636137013114,
          2.8109801576035145,
          0.7783280909563702,
          0.44978542175176905,
          1.1563256497131216,
          1.9520285463458351,
          0.5228813294172399,
          0.9379521337252208,
          0.32710711425569555,
          0.9666633267412322,
          1.7859795901414015,
          0.8382640313659411,
          0.1655188188313979,
          0.9558965437659827,
          0.1617726574667175,
          1.4039693272104625,
          2.780743914923771,
          3.323628437784325,
          0.9053656066029666,
          0.23871027191371552,
          1.9864918452328495,
          0.5001688781237136,
          1.6091802155970927,
          0.7947142297641031,
          0.1759521911819145,
          0.5168871563103139,
          0.446124899521027,
          1.274286512709002,
          0.17657422877812076,
          0.5983698512345356,
          0.5969262663800305,
          0.7819641972091729,
          1.092061075427843,
          0.24552739751773886,
          2.7721026757570693,
          0.33318771650933515,
          0.6023668903132205,
          3.635137482455194,
          8.03553567458383,
          4.3054817972010735,
          0.3413796237236347,
          0.2768816152430781,
          0.24781349177505715,
          24.682669692204517,
          1.1292649352491468,
          1.0953038510678448,
          0.4848137271204472,
          2.779908081709464,
          0.46348545571387273,
          1.8558100336357555,
          0.35885129938204374,
          12.845388278296378,
          0.8869125050508457,
          0.37976224321883767,
          0.5357403792280667,
          2.8183860436993804,
          1.392701753884003,
          2.113897100005946,
          0.8314866568695793,
          2.137076031888177,
          3.9027244437914046,
          0.956723202572757,
          1.3224917342005942,
          5.094774762080768,
          9.888327237495856,
          4.532219904380413,
          0.46659899373737435,
          0.978362199746433,
          2.4631430867929587,
          0.4252596101401434,
          0.5783649902749111,
          0.47081984991607573,
          4.367353789075485,
          3.433662089173546,
          0.9110706028090805,
          1.3356175189535051,
          0.08190687901191508,
          1.124179127173576,
          1.8503621779564823,
          1.3153342617407766,
          2.256675364346366,
          1.1472604845011714,
          0.09286541980246384,
          1.8534478095798181,
          1.0338729168723073,
          0.6617688181066403,
          0.7678330588750237,
          0.949480444017135,
          0.12313105131310878,
          0.9369873710449531,
          1.971069462943484,
          1.958497856399092,
          1.1666853956712084,
          0.015228027712982877,
          1.3619548617562922,
          0.6596564645437349,
          0.8740541937098713,
          1.5879799220982052,
          1.0516605101458139,
          3.5929030282375347,
          1.4044540815468514,
          3.7085025627202945,
          0.21299228907848,
          0.5314550034420881,
          0.22722382717643147,
          3.2513622494572214,
          0.5693507495872212,
          3.9586181711382262,
          0.6001167651070672,
          5.318847612031209,
          1.9659451439558404,
          5.0770435362569195,
          5.0770435362569195,
          9.406646061629111,
          1.2383394039986408,
          2.3170881827143313,
          5.796280703157475,
          0.43504434036804657,
          1.0786514799763676,
          0.25006030496694837,
          0.24998977495957564,
          0.013901758170070336,
          0.5255144973827734,
          8.237463816321341,
          0.7909797349038759,
          2.4773078644231754,
          0.43774498913331444,
          0.49973794712284525,
          0.15081566011422998,
          0.45507331974096277,
          1.356432711024843,
          0.9574138076533211,
          0.5328131032969484,
          2.1252474196871765,
          0.6878960027449872,
          0.6712312376524348,
          0.506530237763928,
          0.9842603945313325,
          0.29618992976525105,
          0.09439850930387855,
          1.491980895160871,
          0.48860146525976356,
          0.6205702933682103,
          6.369784282199468,
          2.5922459146145034,
          1.9564303177485876,
          0.9858595413521799,
          0.6229096358233481,
          0.436648960137305,
          0.5854804367636919,
          0.29452027992981156,
          0.31224031300194816,
          0.4015646939660533,
          0.6244784712742479,
          6.2035036053237205,
          1.9368502011842204,
          1.7461284471821503,
          2.7575101740566024,
          1.709628365531389
         ]
        }
       ],
       "layout": {
        "template": {
         "data": {
          "bar": [
           {
            "error_x": {
             "color": "#2a3f5f"
            },
            "error_y": {
             "color": "#2a3f5f"
            },
            "marker": {
             "line": {
              "color": "#E5ECF6",
              "width": 0.5
             }
            },
            "type": "bar"
           }
          ],
          "barpolar": [
           {
            "marker": {
             "line": {
              "color": "#E5ECF6",
              "width": 0.5
             }
            },
            "type": "barpolar"
           }
          ],
          "carpet": [
           {
            "aaxis": {
             "endlinecolor": "#2a3f5f",
             "gridcolor": "white",
             "linecolor": "white",
             "minorgridcolor": "white",
             "startlinecolor": "#2a3f5f"
            },
            "baxis": {
             "endlinecolor": "#2a3f5f",
             "gridcolor": "white",
             "linecolor": "white",
             "minorgridcolor": "white",
             "startlinecolor": "#2a3f5f"
            },
            "type": "carpet"
           }
          ],
          "choropleth": [
           {
            "colorbar": {
             "outlinewidth": 0,
             "ticks": ""
            },
            "type": "choropleth"
           }
          ],
          "contour": [
           {
            "colorbar": {
             "outlinewidth": 0,
             "ticks": ""
            },
            "colorscale": [
             [
              0,
              "#0d0887"
             ],
             [
              0.1111111111111111,
              "#46039f"
             ],
             [
              0.2222222222222222,
              "#7201a8"
             ],
             [
              0.3333333333333333,
              "#9c179e"
             ],
             [
              0.4444444444444444,
              "#bd3786"
             ],
             [
              0.5555555555555556,
              "#d8576b"
             ],
             [
              0.6666666666666666,
              "#ed7953"
             ],
             [
              0.7777777777777778,
              "#fb9f3a"
             ],
             [
              0.8888888888888888,
              "#fdca26"
             ],
             [
              1,
              "#f0f921"
             ]
            ],
            "type": "contour"
           }
          ],
          "contourcarpet": [
           {
            "colorbar": {
             "outlinewidth": 0,
             "ticks": ""
            },
            "type": "contourcarpet"
           }
          ],
          "heatmap": [
           {
            "colorbar": {
             "outlinewidth": 0,
             "ticks": ""
            },
            "colorscale": [
             [
              0,
              "#0d0887"
             ],
             [
              0.1111111111111111,
              "#46039f"
             ],
             [
              0.2222222222222222,
              "#7201a8"
             ],
             [
              0.3333333333333333,
              "#9c179e"
             ],
             [
              0.4444444444444444,
              "#bd3786"
             ],
             [
              0.5555555555555556,
              "#d8576b"
             ],
             [
              0.6666666666666666,
              "#ed7953"
             ],
             [
              0.7777777777777778,
              "#fb9f3a"
             ],
             [
              0.8888888888888888,
              "#fdca26"
             ],
             [
              1,
              "#f0f921"
             ]
            ],
            "type": "heatmap"
           }
          ],
          "heatmapgl": [
           {
            "colorbar": {
             "outlinewidth": 0,
             "ticks": ""
            },
            "colorscale": [
             [
              0,
              "#0d0887"
             ],
             [
              0.1111111111111111,
              "#46039f"
             ],
             [
              0.2222222222222222,
              "#7201a8"
             ],
             [
              0.3333333333333333,
              "#9c179e"
             ],
             [
              0.4444444444444444,
              "#bd3786"
             ],
             [
              0.5555555555555556,
              "#d8576b"
             ],
             [
              0.6666666666666666,
              "#ed7953"
             ],
             [
              0.7777777777777778,
              "#fb9f3a"
             ],
             [
              0.8888888888888888,
              "#fdca26"
             ],
             [
              1,
              "#f0f921"
             ]
            ],
            "type": "heatmapgl"
           }
          ],
          "histogram": [
           {
            "marker": {
             "colorbar": {
              "outlinewidth": 0,
              "ticks": ""
             }
            },
            "type": "histogram"
           }
          ],
          "histogram2d": [
           {
            "colorbar": {
             "outlinewidth": 0,
             "ticks": ""
            },
            "colorscale": [
             [
              0,
              "#0d0887"
             ],
             [
              0.1111111111111111,
              "#46039f"
             ],
             [
              0.2222222222222222,
              "#7201a8"
             ],
             [
              0.3333333333333333,
              "#9c179e"
             ],
             [
              0.4444444444444444,
              "#bd3786"
             ],
             [
              0.5555555555555556,
              "#d8576b"
             ],
             [
              0.6666666666666666,
              "#ed7953"
             ],
             [
              0.7777777777777778,
              "#fb9f3a"
             ],
             [
              0.8888888888888888,
              "#fdca26"
             ],
             [
              1,
              "#f0f921"
             ]
            ],
            "type": "histogram2d"
           }
          ],
          "histogram2dcontour": [
           {
            "colorbar": {
             "outlinewidth": 0,
             "ticks": ""
            },
            "colorscale": [
             [
              0,
              "#0d0887"
             ],
             [
              0.1111111111111111,
              "#46039f"
             ],
             [
              0.2222222222222222,
              "#7201a8"
             ],
             [
              0.3333333333333333,
              "#9c179e"
             ],
             [
              0.4444444444444444,
              "#bd3786"
             ],
             [
              0.5555555555555556,
              "#d8576b"
             ],
             [
              0.6666666666666666,
              "#ed7953"
             ],
             [
              0.7777777777777778,
              "#fb9f3a"
             ],
             [
              0.8888888888888888,
              "#fdca26"
             ],
             [
              1,
              "#f0f921"
             ]
            ],
            "type": "histogram2dcontour"
           }
          ],
          "mesh3d": [
           {
            "colorbar": {
             "outlinewidth": 0,
             "ticks": ""
            },
            "type": "mesh3d"
           }
          ],
          "parcoords": [
           {
            "line": {
             "colorbar": {
              "outlinewidth": 0,
              "ticks": ""
             }
            },
            "type": "parcoords"
           }
          ],
          "pie": [
           {
            "automargin": true,
            "type": "pie"
           }
          ],
          "scatter": [
           {
            "marker": {
             "colorbar": {
              "outlinewidth": 0,
              "ticks": ""
             }
            },
            "type": "scatter"
           }
          ],
          "scatter3d": [
           {
            "line": {
             "colorbar": {
              "outlinewidth": 0,
              "ticks": ""
             }
            },
            "marker": {
             "colorbar": {
              "outlinewidth": 0,
              "ticks": ""
             }
            },
            "type": "scatter3d"
           }
          ],
          "scattercarpet": [
           {
            "marker": {
             "colorbar": {
              "outlinewidth": 0,
              "ticks": ""
             }
            },
            "type": "scattercarpet"
           }
          ],
          "scattergeo": [
           {
            "marker": {
             "colorbar": {
              "outlinewidth": 0,
              "ticks": ""
             }
            },
            "type": "scattergeo"
           }
          ],
          "scattergl": [
           {
            "marker": {
             "colorbar": {
              "outlinewidth": 0,
              "ticks": ""
             }
            },
            "type": "scattergl"
           }
          ],
          "scattermapbox": [
           {
            "marker": {
             "colorbar": {
              "outlinewidth": 0,
              "ticks": ""
             }
            },
            "type": "scattermapbox"
           }
          ],
          "scatterpolar": [
           {
            "marker": {
             "colorbar": {
              "outlinewidth": 0,
              "ticks": ""
             }
            },
            "type": "scatterpolar"
           }
          ],
          "scatterpolargl": [
           {
            "marker": {
             "colorbar": {
              "outlinewidth": 0,
              "ticks": ""
             }
            },
            "type": "scatterpolargl"
           }
          ],
          "scatterternary": [
           {
            "marker": {
             "colorbar": {
              "outlinewidth": 0,
              "ticks": ""
             }
            },
            "type": "scatterternary"
           }
          ],
          "surface": [
           {
            "colorbar": {
             "outlinewidth": 0,
             "ticks": ""
            },
            "colorscale": [
             [
              0,
              "#0d0887"
             ],
             [
              0.1111111111111111,
              "#46039f"
             ],
             [
              0.2222222222222222,
              "#7201a8"
             ],
             [
              0.3333333333333333,
              "#9c179e"
             ],
             [
              0.4444444444444444,
              "#bd3786"
             ],
             [
              0.5555555555555556,
              "#d8576b"
             ],
             [
              0.6666666666666666,
              "#ed7953"
             ],
             [
              0.7777777777777778,
              "#fb9f3a"
             ],
             [
              0.8888888888888888,
              "#fdca26"
             ],
             [
              1,
              "#f0f921"
             ]
            ],
            "type": "surface"
           }
          ],
          "table": [
           {
            "cells": {
             "fill": {
              "color": "#EBF0F8"
             },
             "line": {
              "color": "white"
             }
            },
            "header": {
             "fill": {
              "color": "#C8D4E3"
             },
             "line": {
              "color": "white"
             }
            },
            "type": "table"
           }
          ]
         },
         "layout": {
          "annotationdefaults": {
           "arrowcolor": "#2a3f5f",
           "arrowhead": 0,
           "arrowwidth": 1
          },
          "autotypenumbers": "strict",
          "coloraxis": {
           "colorbar": {
            "outlinewidth": 0,
            "ticks": ""
           }
          },
          "colorscale": {
           "diverging": [
            [
             0,
             "#8e0152"
            ],
            [
             0.1,
             "#c51b7d"
            ],
            [
             0.2,
             "#de77ae"
            ],
            [
             0.3,
             "#f1b6da"
            ],
            [
             0.4,
             "#fde0ef"
            ],
            [
             0.5,
             "#f7f7f7"
            ],
            [
             0.6,
             "#e6f5d0"
            ],
            [
             0.7,
             "#b8e186"
            ],
            [
             0.8,
             "#7fbc41"
            ],
            [
             0.9,
             "#4d9221"
            ],
            [
             1,
             "#276419"
            ]
           ],
           "sequential": [
            [
             0,
             "#0d0887"
            ],
            [
             0.1111111111111111,
             "#46039f"
            ],
            [
             0.2222222222222222,
             "#7201a8"
            ],
            [
             0.3333333333333333,
             "#9c179e"
            ],
            [
             0.4444444444444444,
             "#bd3786"
            ],
            [
             0.5555555555555556,
             "#d8576b"
            ],
            [
             0.6666666666666666,
             "#ed7953"
            ],
            [
             0.7777777777777778,
             "#fb9f3a"
            ],
            [
             0.8888888888888888,
             "#fdca26"
            ],
            [
             1,
             "#f0f921"
            ]
           ],
           "sequentialminus": [
            [
             0,
             "#0d0887"
            ],
            [
             0.1111111111111111,
             "#46039f"
            ],
            [
             0.2222222222222222,
             "#7201a8"
            ],
            [
             0.3333333333333333,
             "#9c179e"
            ],
            [
             0.4444444444444444,
             "#bd3786"
            ],
            [
             0.5555555555555556,
             "#d8576b"
            ],
            [
             0.6666666666666666,
             "#ed7953"
            ],
            [
             0.7777777777777778,
             "#fb9f3a"
            ],
            [
             0.8888888888888888,
             "#fdca26"
            ],
            [
             1,
             "#f0f921"
            ]
           ]
          },
          "colorway": [
           "#636efa",
           "#EF553B",
           "#00cc96",
           "#ab63fa",
           "#FFA15A",
           "#19d3f3",
           "#FF6692",
           "#B6E880",
           "#FF97FF",
           "#FECB52"
          ],
          "font": {
           "color": "#2a3f5f"
          },
          "geo": {
           "bgcolor": "white",
           "lakecolor": "white",
           "landcolor": "#E5ECF6",
           "showlakes": true,
           "showland": true,
           "subunitcolor": "white"
          },
          "hoverlabel": {
           "align": "left"
          },
          "hovermode": "closest",
          "mapbox": {
           "style": "light"
          },
          "paper_bgcolor": "white",
          "plot_bgcolor": "#E5ECF6",
          "polar": {
           "angularaxis": {
            "gridcolor": "white",
            "linecolor": "white",
            "ticks": ""
           },
           "bgcolor": "#E5ECF6",
           "radialaxis": {
            "gridcolor": "white",
            "linecolor": "white",
            "ticks": ""
           }
          },
          "scene": {
           "xaxis": {
            "backgroundcolor": "#E5ECF6",
            "gridcolor": "white",
            "gridwidth": 2,
            "linecolor": "white",
            "showbackground": true,
            "ticks": "",
            "zerolinecolor": "white"
           },
           "yaxis": {
            "backgroundcolor": "#E5ECF6",
            "gridcolor": "white",
            "gridwidth": 2,
            "linecolor": "white",
            "showbackground": true,
            "ticks": "",
            "zerolinecolor": "white"
           },
           "zaxis": {
            "backgroundcolor": "#E5ECF6",
            "gridcolor": "white",
            "gridwidth": 2,
            "linecolor": "white",
            "showbackground": true,
            "ticks": "",
            "zerolinecolor": "white"
           }
          },
          "shapedefaults": {
           "line": {
            "color": "#2a3f5f"
           }
          },
          "ternary": {
           "aaxis": {
            "gridcolor": "white",
            "linecolor": "white",
            "ticks": ""
           },
           "baxis": {
            "gridcolor": "white",
            "linecolor": "white",
            "ticks": ""
           },
           "bgcolor": "#E5ECF6",
           "caxis": {
            "gridcolor": "white",
            "linecolor": "white",
            "ticks": ""
           }
          },
          "title": {
           "x": 0.05
          },
          "xaxis": {
           "automargin": true,
           "gridcolor": "white",
           "linecolor": "white",
           "ticks": "",
           "title": {
            "standoff": 15
           },
           "zerolinecolor": "white",
           "zerolinewidth": 2
          },
          "yaxis": {
           "automargin": true,
           "gridcolor": "white",
           "linecolor": "white",
           "ticks": "",
           "title": {
            "standoff": 15
           },
           "zerolinecolor": "white",
           "zerolinewidth": 2
          }
         }
        }
       }
      }
     },
     "metadata": {},
     "output_type": "display_data"
    }
   ],
   "source": [
    "fig = go.Figure(data=[go.Histogram(x=df_forecast2['pct_chg'])])\n",
    "fig.show()"
   ]
  },
  {
   "cell_type": "code",
   "execution_count": 9,
   "metadata": {},
   "outputs": [
    {
     "data": {
      "application/vnd.plotly.v1+json": {
       "config": {
        "plotlyServerURL": "https://plot.ly"
       },
       "data": [
        {
         "type": "box",
         "y": [
          1.2155499994104422,
          1.134314010467972,
          1.8348520327736528,
          3.5083120935496446,
          0.2807106560927102,
          1.569682515924299,
          0.23220384759998236,
          0.6297085448432849,
          1.2506399896786333,
          0.5304025369909526,
          1.1565127557027657,
          0.32202595971309345,
          0.6372561592744128,
          1.0159739390641915,
          0.4570931986861875,
          0.8695157563149896,
          0.5029168655122611,
          1.550456900897795,
          0.6399774125145357,
          0.6714537980688358,
          0.6304749752139601,
          0.943260132192697,
          1.3093433965932726,
          1.6083621490154,
          1.6149179862466725,
          1.203015438481078,
          90.54786870643024,
          1.1182092566968025,
          8.589648308199838,
          2.3654294258166852,
          0.6777430641515962,
          0.22336884776490215,
          0.8065730476200487,
          1.9331126962859453,
          2.678793481318359,
          0.5597985240861105,
          1.3014310601039776,
          0.7643146346009433,
          0.9824156478114855,
          2.139276781319888,
          0.5529082899077451,
          0.7956200183107498,
          0.010966645737400497,
          11.061456834250194,
          9.624027189818415,
          1.3290751915762715,
          1.1979235444887926,
          0.46220373237235546,
          3.466041125416753,
          1.518245011662824,
          1.7241611893576798,
          0.5728358821542832,
          3.5801227378751577,
          0.4401855766469528,
          0.7554493063854498,
          0.5836848769186344,
          0.49841404372224596,
          0.6339610187537238,
          0.6851175478789009,
          0.6851175478789009,
          1.0355635480787098,
          0.12149357185570639,
          0.21857479559778992,
          2.6152721234358323,
          1.4798862038615583,
          0.453401912862036,
          3.496271235099572,
          0.3440188803570918,
          2.2383610845174764,
          0.6875470120146839,
          0.8875888628097596,
          0.6010857475580885,
          1.4155695445529355,
          1.1422970696311627,
          0.6133659307994965,
          0.3928986416151452,
          0.9628513174578192,
          0.8652402965957103,
          0.6410038014722209,
          0.9328725381904144,
          0.41631004676536965,
          0.9336281832567138,
          1.980845674622697,
          1.2003381858717785,
          0.23211636137013114,
          2.8109801576035145,
          0.7783280909563702,
          0.44978542175176905,
          1.1563256497131216,
          1.9520285463458351,
          0.5228813294172399,
          0.9379521337252208,
          0.32710711425569555,
          0.9666633267412322,
          1.7859795901414015,
          0.8382640313659411,
          0.1655188188313979,
          0.9558965437659827,
          0.1617726574667175,
          1.4039693272104625,
          2.780743914923771,
          3.323628437784325,
          0.9053656066029666,
          0.23871027191371552,
          1.9864918452328495,
          0.5001688781237136,
          1.6091802155970927,
          0.7947142297641031,
          0.1759521911819145,
          0.5168871563103139,
          0.446124899521027,
          1.274286512709002,
          0.17657422877812076,
          0.5983698512345356,
          0.5969262663800305,
          0.7819641972091729,
          1.092061075427843,
          0.24552739751773886,
          2.7721026757570693,
          0.33318771650933515,
          0.6023668903132205,
          3.635137482455194,
          8.03553567458383,
          4.3054817972010735,
          0.3413796237236347,
          0.2768816152430781,
          0.24781349177505715,
          24.682669692204517,
          1.1292649352491468,
          1.0953038510678448,
          0.4848137271204472,
          2.779908081709464,
          0.46348545571387273,
          1.8558100336357555,
          0.35885129938204374,
          12.845388278296378,
          0.8869125050508457,
          0.37976224321883767,
          0.5357403792280667,
          2.8183860436993804,
          1.392701753884003,
          2.113897100005946,
          0.8314866568695793,
          2.137076031888177,
          3.9027244437914046,
          0.956723202572757,
          1.3224917342005942,
          5.094774762080768,
          9.888327237495856,
          4.532219904380413,
          0.46659899373737435,
          0.978362199746433,
          2.4631430867929587,
          0.4252596101401434,
          0.5783649902749111,
          0.47081984991607573,
          4.367353789075485,
          3.433662089173546,
          0.9110706028090805,
          1.3356175189535051,
          0.08190687901191508,
          1.124179127173576,
          1.8503621779564823,
          1.3153342617407766,
          2.256675364346366,
          1.1472604845011714,
          0.09286541980246384,
          1.8534478095798181,
          1.0338729168723073,
          0.6617688181066403,
          0.7678330588750237,
          0.949480444017135,
          0.12313105131310878,
          0.9369873710449531,
          1.971069462943484,
          1.958497856399092,
          1.1666853956712084,
          0.015228027712982877,
          1.3619548617562922,
          0.6596564645437349,
          0.8740541937098713,
          1.5879799220982052,
          1.0516605101458139,
          3.5929030282375347,
          1.4044540815468514,
          3.7085025627202945,
          0.21299228907848,
          0.5314550034420881,
          0.22722382717643147,
          3.2513622494572214,
          0.5693507495872212,
          3.9586181711382262,
          0.6001167651070672,
          5.318847612031209,
          1.9659451439558404,
          5.0770435362569195,
          5.0770435362569195,
          9.406646061629111,
          1.2383394039986408,
          2.3170881827143313,
          5.796280703157475,
          0.43504434036804657,
          1.0786514799763676,
          0.25006030496694837,
          0.24998977495957564,
          0.013901758170070336,
          0.5255144973827734,
          8.237463816321341,
          0.7909797349038759,
          2.4773078644231754,
          0.43774498913331444,
          0.49973794712284525,
          0.15081566011422998,
          0.45507331974096277,
          1.356432711024843,
          0.9574138076533211,
          0.5328131032969484,
          2.1252474196871765,
          0.6878960027449872,
          0.6712312376524348,
          0.506530237763928,
          0.9842603945313325,
          0.29618992976525105,
          0.09439850930387855,
          1.491980895160871,
          0.48860146525976356,
          0.6205702933682103,
          6.369784282199468,
          2.5922459146145034,
          1.9564303177485876,
          0.9858595413521799,
          0.6229096358233481,
          0.436648960137305,
          0.5854804367636919,
          0.29452027992981156,
          0.31224031300194816,
          0.4015646939660533,
          0.6244784712742479,
          6.2035036053237205,
          1.9368502011842204,
          1.7461284471821503,
          2.7575101740566024,
          1.709628365531389
         ]
        }
       ],
       "layout": {
        "template": {
         "data": {
          "bar": [
           {
            "error_x": {
             "color": "#2a3f5f"
            },
            "error_y": {
             "color": "#2a3f5f"
            },
            "marker": {
             "line": {
              "color": "#E5ECF6",
              "width": 0.5
             }
            },
            "type": "bar"
           }
          ],
          "barpolar": [
           {
            "marker": {
             "line": {
              "color": "#E5ECF6",
              "width": 0.5
             }
            },
            "type": "barpolar"
           }
          ],
          "carpet": [
           {
            "aaxis": {
             "endlinecolor": "#2a3f5f",
             "gridcolor": "white",
             "linecolor": "white",
             "minorgridcolor": "white",
             "startlinecolor": "#2a3f5f"
            },
            "baxis": {
             "endlinecolor": "#2a3f5f",
             "gridcolor": "white",
             "linecolor": "white",
             "minorgridcolor": "white",
             "startlinecolor": "#2a3f5f"
            },
            "type": "carpet"
           }
          ],
          "choropleth": [
           {
            "colorbar": {
             "outlinewidth": 0,
             "ticks": ""
            },
            "type": "choropleth"
           }
          ],
          "contour": [
           {
            "colorbar": {
             "outlinewidth": 0,
             "ticks": ""
            },
            "colorscale": [
             [
              0,
              "#0d0887"
             ],
             [
              0.1111111111111111,
              "#46039f"
             ],
             [
              0.2222222222222222,
              "#7201a8"
             ],
             [
              0.3333333333333333,
              "#9c179e"
             ],
             [
              0.4444444444444444,
              "#bd3786"
             ],
             [
              0.5555555555555556,
              "#d8576b"
             ],
             [
              0.6666666666666666,
              "#ed7953"
             ],
             [
              0.7777777777777778,
              "#fb9f3a"
             ],
             [
              0.8888888888888888,
              "#fdca26"
             ],
             [
              1,
              "#f0f921"
             ]
            ],
            "type": "contour"
           }
          ],
          "contourcarpet": [
           {
            "colorbar": {
             "outlinewidth": 0,
             "ticks": ""
            },
            "type": "contourcarpet"
           }
          ],
          "heatmap": [
           {
            "colorbar": {
             "outlinewidth": 0,
             "ticks": ""
            },
            "colorscale": [
             [
              0,
              "#0d0887"
             ],
             [
              0.1111111111111111,
              "#46039f"
             ],
             [
              0.2222222222222222,
              "#7201a8"
             ],
             [
              0.3333333333333333,
              "#9c179e"
             ],
             [
              0.4444444444444444,
              "#bd3786"
             ],
             [
              0.5555555555555556,
              "#d8576b"
             ],
             [
              0.6666666666666666,
              "#ed7953"
             ],
             [
              0.7777777777777778,
              "#fb9f3a"
             ],
             [
              0.8888888888888888,
              "#fdca26"
             ],
             [
              1,
              "#f0f921"
             ]
            ],
            "type": "heatmap"
           }
          ],
          "heatmapgl": [
           {
            "colorbar": {
             "outlinewidth": 0,
             "ticks": ""
            },
            "colorscale": [
             [
              0,
              "#0d0887"
             ],
             [
              0.1111111111111111,
              "#46039f"
             ],
             [
              0.2222222222222222,
              "#7201a8"
             ],
             [
              0.3333333333333333,
              "#9c179e"
             ],
             [
              0.4444444444444444,
              "#bd3786"
             ],
             [
              0.5555555555555556,
              "#d8576b"
             ],
             [
              0.6666666666666666,
              "#ed7953"
             ],
             [
              0.7777777777777778,
              "#fb9f3a"
             ],
             [
              0.8888888888888888,
              "#fdca26"
             ],
             [
              1,
              "#f0f921"
             ]
            ],
            "type": "heatmapgl"
           }
          ],
          "histogram": [
           {
            "marker": {
             "colorbar": {
              "outlinewidth": 0,
              "ticks": ""
             }
            },
            "type": "histogram"
           }
          ],
          "histogram2d": [
           {
            "colorbar": {
             "outlinewidth": 0,
             "ticks": ""
            },
            "colorscale": [
             [
              0,
              "#0d0887"
             ],
             [
              0.1111111111111111,
              "#46039f"
             ],
             [
              0.2222222222222222,
              "#7201a8"
             ],
             [
              0.3333333333333333,
              "#9c179e"
             ],
             [
              0.4444444444444444,
              "#bd3786"
             ],
             [
              0.5555555555555556,
              "#d8576b"
             ],
             [
              0.6666666666666666,
              "#ed7953"
             ],
             [
              0.7777777777777778,
              "#fb9f3a"
             ],
             [
              0.8888888888888888,
              "#fdca26"
             ],
             [
              1,
              "#f0f921"
             ]
            ],
            "type": "histogram2d"
           }
          ],
          "histogram2dcontour": [
           {
            "colorbar": {
             "outlinewidth": 0,
             "ticks": ""
            },
            "colorscale": [
             [
              0,
              "#0d0887"
             ],
             [
              0.1111111111111111,
              "#46039f"
             ],
             [
              0.2222222222222222,
              "#7201a8"
             ],
             [
              0.3333333333333333,
              "#9c179e"
             ],
             [
              0.4444444444444444,
              "#bd3786"
             ],
             [
              0.5555555555555556,
              "#d8576b"
             ],
             [
              0.6666666666666666,
              "#ed7953"
             ],
             [
              0.7777777777777778,
              "#fb9f3a"
             ],
             [
              0.8888888888888888,
              "#fdca26"
             ],
             [
              1,
              "#f0f921"
             ]
            ],
            "type": "histogram2dcontour"
           }
          ],
          "mesh3d": [
           {
            "colorbar": {
             "outlinewidth": 0,
             "ticks": ""
            },
            "type": "mesh3d"
           }
          ],
          "parcoords": [
           {
            "line": {
             "colorbar": {
              "outlinewidth": 0,
              "ticks": ""
             }
            },
            "type": "parcoords"
           }
          ],
          "pie": [
           {
            "automargin": true,
            "type": "pie"
           }
          ],
          "scatter": [
           {
            "marker": {
             "colorbar": {
              "outlinewidth": 0,
              "ticks": ""
             }
            },
            "type": "scatter"
           }
          ],
          "scatter3d": [
           {
            "line": {
             "colorbar": {
              "outlinewidth": 0,
              "ticks": ""
             }
            },
            "marker": {
             "colorbar": {
              "outlinewidth": 0,
              "ticks": ""
             }
            },
            "type": "scatter3d"
           }
          ],
          "scattercarpet": [
           {
            "marker": {
             "colorbar": {
              "outlinewidth": 0,
              "ticks": ""
             }
            },
            "type": "scattercarpet"
           }
          ],
          "scattergeo": [
           {
            "marker": {
             "colorbar": {
              "outlinewidth": 0,
              "ticks": ""
             }
            },
            "type": "scattergeo"
           }
          ],
          "scattergl": [
           {
            "marker": {
             "colorbar": {
              "outlinewidth": 0,
              "ticks": ""
             }
            },
            "type": "scattergl"
           }
          ],
          "scattermapbox": [
           {
            "marker": {
             "colorbar": {
              "outlinewidth": 0,
              "ticks": ""
             }
            },
            "type": "scattermapbox"
           }
          ],
          "scatterpolar": [
           {
            "marker": {
             "colorbar": {
              "outlinewidth": 0,
              "ticks": ""
             }
            },
            "type": "scatterpolar"
           }
          ],
          "scatterpolargl": [
           {
            "marker": {
             "colorbar": {
              "outlinewidth": 0,
              "ticks": ""
             }
            },
            "type": "scatterpolargl"
           }
          ],
          "scatterternary": [
           {
            "marker": {
             "colorbar": {
              "outlinewidth": 0,
              "ticks": ""
             }
            },
            "type": "scatterternary"
           }
          ],
          "surface": [
           {
            "colorbar": {
             "outlinewidth": 0,
             "ticks": ""
            },
            "colorscale": [
             [
              0,
              "#0d0887"
             ],
             [
              0.1111111111111111,
              "#46039f"
             ],
             [
              0.2222222222222222,
              "#7201a8"
             ],
             [
              0.3333333333333333,
              "#9c179e"
             ],
             [
              0.4444444444444444,
              "#bd3786"
             ],
             [
              0.5555555555555556,
              "#d8576b"
             ],
             [
              0.6666666666666666,
              "#ed7953"
             ],
             [
              0.7777777777777778,
              "#fb9f3a"
             ],
             [
              0.8888888888888888,
              "#fdca26"
             ],
             [
              1,
              "#f0f921"
             ]
            ],
            "type": "surface"
           }
          ],
          "table": [
           {
            "cells": {
             "fill": {
              "color": "#EBF0F8"
             },
             "line": {
              "color": "white"
             }
            },
            "header": {
             "fill": {
              "color": "#C8D4E3"
             },
             "line": {
              "color": "white"
             }
            },
            "type": "table"
           }
          ]
         },
         "layout": {
          "annotationdefaults": {
           "arrowcolor": "#2a3f5f",
           "arrowhead": 0,
           "arrowwidth": 1
          },
          "autotypenumbers": "strict",
          "coloraxis": {
           "colorbar": {
            "outlinewidth": 0,
            "ticks": ""
           }
          },
          "colorscale": {
           "diverging": [
            [
             0,
             "#8e0152"
            ],
            [
             0.1,
             "#c51b7d"
            ],
            [
             0.2,
             "#de77ae"
            ],
            [
             0.3,
             "#f1b6da"
            ],
            [
             0.4,
             "#fde0ef"
            ],
            [
             0.5,
             "#f7f7f7"
            ],
            [
             0.6,
             "#e6f5d0"
            ],
            [
             0.7,
             "#b8e186"
            ],
            [
             0.8,
             "#7fbc41"
            ],
            [
             0.9,
             "#4d9221"
            ],
            [
             1,
             "#276419"
            ]
           ],
           "sequential": [
            [
             0,
             "#0d0887"
            ],
            [
             0.1111111111111111,
             "#46039f"
            ],
            [
             0.2222222222222222,
             "#7201a8"
            ],
            [
             0.3333333333333333,
             "#9c179e"
            ],
            [
             0.4444444444444444,
             "#bd3786"
            ],
            [
             0.5555555555555556,
             "#d8576b"
            ],
            [
             0.6666666666666666,
             "#ed7953"
            ],
            [
             0.7777777777777778,
             "#fb9f3a"
            ],
            [
             0.8888888888888888,
             "#fdca26"
            ],
            [
             1,
             "#f0f921"
            ]
           ],
           "sequentialminus": [
            [
             0,
             "#0d0887"
            ],
            [
             0.1111111111111111,
             "#46039f"
            ],
            [
             0.2222222222222222,
             "#7201a8"
            ],
            [
             0.3333333333333333,
             "#9c179e"
            ],
            [
             0.4444444444444444,
             "#bd3786"
            ],
            [
             0.5555555555555556,
             "#d8576b"
            ],
            [
             0.6666666666666666,
             "#ed7953"
            ],
            [
             0.7777777777777778,
             "#fb9f3a"
            ],
            [
             0.8888888888888888,
             "#fdca26"
            ],
            [
             1,
             "#f0f921"
            ]
           ]
          },
          "colorway": [
           "#636efa",
           "#EF553B",
           "#00cc96",
           "#ab63fa",
           "#FFA15A",
           "#19d3f3",
           "#FF6692",
           "#B6E880",
           "#FF97FF",
           "#FECB52"
          ],
          "font": {
           "color": "#2a3f5f"
          },
          "geo": {
           "bgcolor": "white",
           "lakecolor": "white",
           "landcolor": "#E5ECF6",
           "showlakes": true,
           "showland": true,
           "subunitcolor": "white"
          },
          "hoverlabel": {
           "align": "left"
          },
          "hovermode": "closest",
          "mapbox": {
           "style": "light"
          },
          "paper_bgcolor": "white",
          "plot_bgcolor": "#E5ECF6",
          "polar": {
           "angularaxis": {
            "gridcolor": "white",
            "linecolor": "white",
            "ticks": ""
           },
           "bgcolor": "#E5ECF6",
           "radialaxis": {
            "gridcolor": "white",
            "linecolor": "white",
            "ticks": ""
           }
          },
          "scene": {
           "xaxis": {
            "backgroundcolor": "#E5ECF6",
            "gridcolor": "white",
            "gridwidth": 2,
            "linecolor": "white",
            "showbackground": true,
            "ticks": "",
            "zerolinecolor": "white"
           },
           "yaxis": {
            "backgroundcolor": "#E5ECF6",
            "gridcolor": "white",
            "gridwidth": 2,
            "linecolor": "white",
            "showbackground": true,
            "ticks": "",
            "zerolinecolor": "white"
           },
           "zaxis": {
            "backgroundcolor": "#E5ECF6",
            "gridcolor": "white",
            "gridwidth": 2,
            "linecolor": "white",
            "showbackground": true,
            "ticks": "",
            "zerolinecolor": "white"
           }
          },
          "shapedefaults": {
           "line": {
            "color": "#2a3f5f"
           }
          },
          "ternary": {
           "aaxis": {
            "gridcolor": "white",
            "linecolor": "white",
            "ticks": ""
           },
           "baxis": {
            "gridcolor": "white",
            "linecolor": "white",
            "ticks": ""
           },
           "bgcolor": "#E5ECF6",
           "caxis": {
            "gridcolor": "white",
            "linecolor": "white",
            "ticks": ""
           }
          },
          "title": {
           "x": 0.05
          },
          "xaxis": {
           "automargin": true,
           "gridcolor": "white",
           "linecolor": "white",
           "ticks": "",
           "title": {
            "standoff": 15
           },
           "zerolinecolor": "white",
           "zerolinewidth": 2
          },
          "yaxis": {
           "automargin": true,
           "gridcolor": "white",
           "linecolor": "white",
           "ticks": "",
           "title": {
            "standoff": 15
           },
           "zerolinecolor": "white",
           "zerolinewidth": 2
          }
         }
        }
       }
      }
     },
     "metadata": {},
     "output_type": "display_data"
    }
   ],
   "source": [
    "fig = go.Figure()\n",
    "fig.add_trace(go.Box(y=df_forecast2['pct_chg']))\n",
    "\n",
    "\n",
    "fig.show()"
   ]
  },
  {
   "cell_type": "code",
   "execution_count": 12,
   "metadata": {},
   "outputs": [
    {
     "name": "stdout",
     "output_type": "stream",
     "text": [
      "probability return < 5%:  0.012345679012345678\n",
      "probability coin up to > 50%:  0.7654320987654321\n",
      "probability coin up to > 100%:  0.4609053497942387\n",
      "probability coin up to > 200%:  0.20987654320987653\n",
      "probability coin up to > 500%:  0.06995884773662552\n"
     ]
    }
   ],
   "source": [
    "print('probability return < 5%: ', len(df_forecast2['pct_chg'][df_forecast2['pct_chg'] <= 0.05])/len(df_forecast2['pct_chg']))\n",
    "print('probability coin up to > 50%: ', len(df_forecast2['pct_chg'][df_forecast2['pct_chg'] >= 0.5])/len(df_forecast2['pct_chg']))\n",
    "print('probability coin up to > 100%: ', len(df_forecast2['pct_chg'][df_forecast2['pct_chg'] >= 1])/len(df_forecast2['pct_chg']))\n",
    "print('probability coin up to > 200%: ', len(df_forecast2['pct_chg'][df_forecast2['pct_chg'] >= 2])/len(df_forecast2['pct_chg']))\n",
    "print('probability coin up to > 500%: ', len(df_forecast2['pct_chg'][df_forecast2['pct_chg'] >= 5])/len(df_forecast2['pct_chg']))"
   ]
  },
  {
   "cell_type": "code",
   "execution_count": 13,
   "metadata": {},
   "outputs": [
    {
     "data": {
      "text/plain": [
       "2.0364879230556587"
      ]
     },
     "execution_count": 13,
     "metadata": {},
     "output_type": "execute_result"
    }
   ],
   "source": [
    "# averagenya --\n",
    "# tolerance bottom\n",
    "# visualisasi\n",
    "# definisi bottom\n",
    "np.average(df_forecast2['pct_chg'])"
   ]
  },
  {
   "cell_type": "code",
   "execution_count": 14,
   "metadata": {},
   "outputs": [
    {
     "data": {
      "text/plain": [
       "0.949480444017135"
      ]
     },
     "execution_count": 14,
     "metadata": {},
     "output_type": "execute_result"
    }
   ],
   "source": [
    "np.median(df_forecast2['pct_chg'])"
   ]
  },
  {
   "cell_type": "code",
   "execution_count": null,
   "metadata": {},
   "outputs": [],
   "source": []
  }
 ],
 "metadata": {
  "kernelspec": {
   "display_name": "Python 3.7.6 ('base')",
   "language": "python",
   "name": "python3"
  },
  "language_info": {
   "codemirror_mode": {
    "name": "ipython",
    "version": 3
   },
   "file_extension": ".py",
   "mimetype": "text/x-python",
   "name": "python",
   "nbconvert_exporter": "python",
   "pygments_lexer": "ipython3",
   "version": "3.7.6"
  },
  "orig_nbformat": 4,
  "vscode": {
   "interpreter": {
    "hash": "ebda45beb80756052cac5fc35cc43e06ce6409a558745ebee29bebc2013f1d43"
   }
  }
 },
 "nbformat": 4,
 "nbformat_minor": 2
}
